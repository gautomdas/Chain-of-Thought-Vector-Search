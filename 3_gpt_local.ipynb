{
 "cells": [
  {
   "attachments": {},
   "cell_type": "markdown",
   "id": "f53ff001-41c7-4fd7-adc3-c1176eec4d14",
   "metadata": {},
   "source": [
    "## Paragraph to Triples"
   ]
  },
  {
   "cell_type": "code",
   "execution_count": 1,
   "id": "2c46d3c5-e28a-490e-afd8-3170f1394076",
   "metadata": {},
   "outputs": [],
   "source": [
    "# Convert each paragraph to \"causal\" triples \n",
    "import openai\n",
    "import json\n",
    "\n",
    "with open('paragraph_content.json', 'r') as f:\n",
    "    paragraph_contents = json.load(f)"
   ]
  },
  {
   "cell_type": "code",
   "execution_count": 2,
   "id": "989a86b2-b59c-469b-875a-355b6274c195",
   "metadata": {},
   "outputs": [
    {
     "data": {
      "text/plain": [
       "'Sea turtles migrate to reach their spawning beaches, which are limited in numbers. Living in the ocean therefore means they usually migrate over large distances. All sea turtles have large body sizes, which is helpful for moving large distances. Large body sizes also offer good protection against the large predators (notably sharks) found in the ocean.'"
      ]
     },
     "execution_count": 2,
     "metadata": {},
     "output_type": "execute_result"
    }
   ],
   "source": [
    "paragraph_contents[0]"
   ]
  },
  {
   "cell_type": "code",
   "execution_count": 3,
   "id": "f7f5a1a2-11ab-46fa-acd1-a6bf9e431116",
   "metadata": {},
   "outputs": [],
   "source": [
    "def get_prompt(text):\n",
    "    multi_line_prompt = \"\"\"\n",
    "Deconstruct the provided text into a series of \"triples\", an information structure that captures specific relationships or connections between two distinct entities. These entities can take various forms such as objects, facts, direct quotes, numbers, or any other meaningful data from the text. The key objective of this exercise is to systematically extract, capture, and catalog as much detailed and interconnected information as possible from the provided text using the triple format: (entity, relation, entity). By generating these triples, we aim to create an elaborate knowledge graph, accurately depicting the relationships and data within the paragraph. Here, \"entities\" denote key elements, figures, or facts, while the \"relation\" illustrates the specific connection between these two entities. You'll find the input text under \"Text:\", enclosed in triple quotation marks. The output should solely consist of triples in the format (entity, relation, entity), presented line by line under the heading \"Output: \". Each line should end with a newline character, not a comma or period. Keep in mind, the goal here is to generate detailed and distinct triples that, when interconnected, can answer both straightforward and complex, multi-step queries. Aim for specificity, and account for all possible connections, even if they are implied or not fully confirmed. Endeavor to break down the information into as many separate triples as practically possible to maximize the amount and diversity of data captured.\n",
    "\n",
    "Text:\\\"\\\"\\\"John, a software engineer at Google, moved to San Francisco in 2018. He works on the AI research team, which is led by Dr. Sara Thompson.\\\"\\\"\\\"\n",
    "\n",
    "Output:\n",
    "(\"John\", \"is a\", \"software engineer\")\n",
    "(\"John\", \"works at\", \"Google\")\n",
    "(\"John\", \"moved to\", \"San Francisco in 2018\")\n",
    "(\"John\", \"works on\", \"the AI research team\")\n",
    "(\"AI research team\", \"is led by\", \"Dr. Sara Thompson\")\n",
    "\n",
    "Text:\\\"\\\"\\\"The James Webb Space Telescope, launched in 2021, is designed to capture images of galaxies formed over 13.5 billion years ago. Its mission is to help us understand the universe's origins.\\\"\\\"\\\"\n",
    "\n",
    "Output:\n",
    "(\"James Webb Space Telescope\", \"launched in\", \"2021\")\n",
    "(\"James Webb Space Telescope\", \"is designed to\", \"capture images of galaxies formed over 13.5 billion years ago\")\n",
    "(\"James Webb Space Telescope\", \"has a mission\", \"to help us understand the universe's origins\")\n",
    "\n",
    "Text: \\\"\\\"\\\"\n",
    "{}\n",
    "\\\"\\\"\\\"\n",
    "Output:\n",
    "    \"\"\".format(text)\n",
    "    return multi_line_prompt"
   ]
  },
  {
   "cell_type": "code",
   "execution_count": 4,
   "id": "4ba7b6e9-81dd-462f-af7b-2c9033575baf",
   "metadata": {},
   "outputs": [
    {
     "name": "stdout",
     "output_type": "stream",
     "text": [
      "\n",
      "Deconstruct the provided text into a series of \"triples\", an information structure that captures specific relationships or connections between two distinct entities. These entities can take various forms such as objects, facts, direct quotes, numbers, or any other meaningful data from the text. The key objective of this exercise is to systematically extract, capture, and catalog as much detailed and interconnected information as possible from the provided text using the triple format: (entity, relation, entity). By generating these triples, we aim to create an elaborate knowledge graph, accurately depicting the relationships and data within the paragraph. Here, \"entities\" denote key elements, figures, or facts, while the \"relation\" illustrates the specific connection between these two entities. You'll find the input text under \"Text:\", enclosed in triple quotation marks. The output should solely consist of triples in the format (entity, relation, entity), presented line by line under the heading \"Output: \". Each line should end with a newline character, not a comma or period. Keep in mind, the goal here is to generate detailed and distinct triples that, when interconnected, can answer both straightforward and complex, multi-step queries. Aim for specificity, and account for all possible connections, even if they are implied or not fully confirmed. Endeavor to break down the information into as many separate triples as practically possible to maximize the amount and diversity of data captured.\n",
      "\n",
      "Text:\"\"\"John, a software engineer at Google, moved to San Francisco in 2018. He works on the AI research team, which is led by Dr. Sara Thompson.\"\"\"\n",
      "\n",
      "Output:\n",
      "(\"John\", \"is a\", \"software engineer\")\n",
      "(\"John\", \"works at\", \"Google\")\n",
      "(\"John\", \"moved to\", \"San Francisco in 2018\")\n",
      "(\"John\", \"works on\", \"the AI research team\")\n",
      "(\"AI research team\", \"is led by\", \"Dr. Sara Thompson\")\n",
      "\n",
      "Text:\"\"\"The James Webb Space Telescope, launched in 2021, is designed to capture images of galaxies formed over 13.5 billion years ago. Its mission is to help us understand the universe's origins.\"\"\"\n",
      "\n",
      "Output:\n",
      "(\"James Webb Space Telescope\", \"launched in\", \"2021\")\n",
      "(\"James Webb Space Telescope\", \"is designed to\", \"capture images of galaxies formed over 13.5 billion years ago\")\n",
      "(\"James Webb Space Telescope\", \"has a mission\", \"to help us understand the universe's origins\")\n",
      "\n",
      "Text: \"\"\"\n",
      "Sea turtles migrate to reach their spawning beaches, which are limited in numbers. Living in the ocean therefore means they usually migrate over large distances. All sea turtles have large body sizes, which is helpful for moving large distances. Large body sizes also offer good protection against the large predators (notably sharks) found in the ocean.\n",
      "\"\"\"\n",
      "Output:\n",
      "    \n"
     ]
    }
   ],
   "source": [
    "print(get_prompt(paragraph_contents[0]))"
   ]
  },
  {
   "cell_type": "code",
   "execution_count": 8,
   "id": "df103ed7-b4e0-48bd-9a3e-076676f1eb81",
   "metadata": {},
   "outputs": [],
   "source": [
    "def get_response(multi_line_prompt):\n",
    "    openai.api_key = \"<KEY>\"\n",
    "    response = openai.Completion.create(\n",
    "      model=\"text-davinci-003\",\n",
    "      prompt=multi_line_prompt,\n",
    "      max_tokens=300\n",
    "    )\n",
    "    return response"
   ]
  },
  {
   "attachments": {},
   "cell_type": "markdown",
   "id": "ccd37f89-c4d7-47fb-844a-7aac37f820d5",
   "metadata": {},
   "source": [
    "## Convert and Store All 780 Paragraphs"
   ]
  },
  {
   "cell_type": "code",
   "execution_count": 9,
   "id": "0abbe53c-f0d9-42b8-aafd-b450ade2ae6f",
   "metadata": {},
   "outputs": [
    {
     "name": "stderr",
     "output_type": "stream",
     "text": [
      "  0%|▏                                                                                                                                                       | 1/780 [00:06<1:18:27,  6.04s/it]"
     ]
    },
    {
     "name": "stdout",
     "output_type": "stream",
     "text": [
      "\n",
      "(\"Sea turtles\", \"migrate to\", \"reach their spawning beaches\")\n",
      "(\"Spawning beaches\", \"are limited in\", \"number\")\n",
      "(\"Sea turtles\", \"usually migrate over\", \"large distances\")\n",
      "(\"Sea turtles\", \"have large body sizes\", \"helpful for moving large distances\")\n",
      "(\"Large body sizes\", \"offer good protection against\", \"large predators\")\n",
      "(\"Large predators\", \"notably include\", \"sharks\")\n",
      "-\n"
     ]
    },
    {
     "name": "stderr",
     "output_type": "stream",
     "text": [
      "  0%|▍                                                                                                                                                       | 2/780 [00:10<1:07:02,  5.17s/it]"
     ]
    },
    {
     "name": "stdout",
     "output_type": "stream",
     "text": [
      "\n",
      "(\"cm\", \"is equal to\", \"44.0 in\")\n",
      "(\"The tallest living dog\", \"is a\", \"Dane\")\n",
      "(\"The tallest living dog\", \"is named\", \"Freddy\")\n",
      "(\"Freddy\", \"measures\", \"103.5 cm (40.7 in)\")\n",
      "(\"In Austria and Germany\", \"used\", \"Molossian hound, the Suliot dog, and other imports from Greece\")\n",
      "(\"In Austria and Germany\", \"were used for\", \"increasing the stature of the boarhounds\")\n",
      "-\n"
     ]
    },
    {
     "name": "stderr",
     "output_type": "stream",
     "text": [
      "  0%|▌                                                                                                                                                       | 3/780 [00:28<2:22:50, 11.03s/it]"
     ]
    },
    {
     "name": "stdout",
     "output_type": "stream",
     "text": [
      "\n",
      "(\"sows\", \"produce their first litter at\", \"the age of three to five years\")\n",
      "(\"sows living in more developed areas\", \"tend to get pregnant at\", \"younger ages\")\n",
      "(\"the breeding period\", \"usually occurs in\", \"the June–July period\")\n",
      "(\"the breeding period\", \"can extend to\", \"August in the species' northern range\")\n",
      "(\"the breeding period\", \"lasts for\", \"two to three months\")\n",
      "(\"both sexes\", \"are promiscuous\", \"\")\n",
      "(\"males\", \"try to mate with\", \"several females\")\n",
      "(\"large, dominant males\", \"may violently claim a female if another mature male comes near\", \"\")\n",
      "(\"sows\", \"tend to be short-tempered with their mates\", \"after copulating\")\n",
      "(\"the fertilized eggs\", \"undergo delayed development and do not implant in the female's womb until\", \"November\")\n",
      "(\"the gestation period\", \"lasts\", \"235 days\")\n",
      "(\"litters\", \"are usually born in\", \"late January to early February\")\n",
      "(\"litter size\", \"is between\", \"one and six cubs\")\n",
      "(\"cubs at birth\", \"weigh\", \"280–450 g\")\n",
      "(\"cubs at birth\", \"measure\", \"20.5 cm in length\")\n",
      "(\"cubs at birth\", \"are born with\", \"fine,\n",
      "-\n"
     ]
    },
    {
     "name": "stderr",
     "output_type": "stream",
     "text": [
      "  1%|▊                                                                                                                                                       | 4/780 [00:38<2:15:56, 10.51s/it]"
     ]
    },
    {
     "name": "stdout",
     "output_type": "stream",
     "text": [
      "\n",
      "(\"Most sharks\", \"are\", \"carnivorous\")\n",
      "(\"Basking sharks\", \"practice\", \"ram feeding\")\n",
      "(\"Whale sharks\", \"use\", \"suction to take in plankton and small fishes\")\n",
      "(\"Megamouth sharks\", \"make suction feeding\", \"more efficient by using the luminescent tissue inside of their mouths to attract prey in the deep ocean\")\n",
      "(\"This type of feeding\", \"requires\", \"gill rakers—long, slender filaments that form a very efficient sieve\")\n",
      "(\"Gill rakers\", \"are analogous to\", \"the baleen plates of the great whales\")\n",
      "(\"Shark\", \"traps the plankton in\", \"these filaments\")\n",
      "(\"Shark\", \"swallows from time to time in huge mouthfuls\", \"plankton\")\n",
      "(\"Species\", \"have comparatively small teeth because they are not needed for\", \"feeding\")\n",
      "-\n"
     ]
    },
    {
     "name": "stderr",
     "output_type": "stream",
     "text": [
      "  1%|▉                                                                                                                                                       | 5/780 [00:44<1:54:58,  8.90s/it]"
     ]
    },
    {
     "name": "stdout",
     "output_type": "stream",
     "text": [
      "\n",
      "(\"Monkey chanting\", \"are chants or calls\", \"aimed at ridiculing or denigrating black sportspeople\")\n",
      "(\"Monkey chanting\", \"are intended to\", \"imitate 'monkey' or 'ape' noises\")\n",
      "(\"Monkey chanting\", \"may be accompanied by\", \"'monkey gestures'\")\n",
      "(\"'Monkey gestures'\", \"are in imitation of\", \"scratching of the armpits commonly seen amongst ape species\")\n",
      "(\"Monkey chanting\", \"are expressive of the ethnic slurs\", \"'macaca' and 'monkey' against people of African heritage\")\n",
      "-\n"
     ]
    },
    {
     "name": "stderr",
     "output_type": "stream",
     "text": [
      "  1%|█▏                                                                                                                                                      | 6/780 [00:51<1:48:00,  8.37s/it]"
     ]
    },
    {
     "name": "stdout",
     "output_type": "stream",
     "text": [
      "\n",
      "(\"Crustaceans\", \"is an\", \"arthropod taxon\")\n",
      "(\"Crustaceans\", \"includes\", \"crabs\")\n",
      "(\"Crustaceans\", \"includes\", \"lobsters\")\n",
      "(\"Crustaceans\", \"includes\", \"crayfish\")\n",
      "(\"Crustaceans\", \"includes\", \"shrimps\")\n",
      "(\"Crustaceans\", \"includes\", \"prawns\")\n",
      "(\"Crustaceans\", \"includes\", \"krill\")\n",
      "(\"Crustaceans\", \"includes\", \"woodlice\")\n",
      "(\"Crustaceans\", \"includes\", \"barnacles\")\n",
      "-\n"
     ]
    },
    {
     "name": "stderr",
     "output_type": "stream",
     "text": [
      "  1%|█▎                                                                                                                                                      | 7/780 [01:01<1:54:30,  8.89s/it]"
     ]
    },
    {
     "name": "stdout",
     "output_type": "stream",
     "text": [
      "\n",
      "(\"Frigatebirds\", \"are a family of\", \"seabirds\")\n",
      "(\"Fregatidae\", \"is the family of\", \"frigatebirds\")\n",
      "(\"Fregata\", \"is the genus of\", \"frigatebirds\")\n",
      "(\"Frigatebirds\", \"have predominantly\", \"black plumage\")\n",
      "(\"Frigatebirds\", \"have long\", \"deeply forked tails\")\n",
      "(\"Frigatebirds\", \"have long hooked\", \"bills\")\n",
      "(\"Females\", \"have white\", \"underbellies\")\n",
      "(\"Males\", \"have a distinctive\", \"red gular pouch\")\n",
      "(\"Males\", \"inflate their\", \"gular pouch during the breeding season\")\n",
      "(\"Frigatebirds' wings\", \"span up to\", \"2.3 metres (7.5 ft)\")\n",
      "(\"Frigatebirds\", \"have the largest\", \"wing area to body weight ratio of any bird\")\n",
      "-\n"
     ]
    },
    {
     "name": "stderr",
     "output_type": "stream",
     "text": [
      "  1%|█▌                                                                                                                                                      | 8/780 [01:08<1:44:10,  8.10s/it]"
     ]
    },
    {
     "name": "stdout",
     "output_type": "stream",
     "text": [
      "\n",
      "(\"grey seal\", \"is a species of\", \"Phocidae\")\n",
      "(\"grey seal\", \"belongs to the family of\", \"true seals\")\n",
      "(\"grey seal\", \"is the only species classified in the genus\", \"Halichoerus\")\n",
      "(\"grey seal\", \"is found on both shores of the\", \"North Atlantic Ocean\")\n",
      "(\"grey seal\", \"is also known as\", \"Atlantic seal\")\n",
      "(\"grey seal\", \"is also known as\", \"horsehead seal\")\n",
      "-\n"
     ]
    },
    {
     "name": "stderr",
     "output_type": "stream",
     "text": [
      "  1%|█▊                                                                                                                                                      | 9/780 [01:22<2:10:30, 10.16s/it]"
     ]
    },
    {
     "name": "stdout",
     "output_type": "stream",
     "text": [
      "\n",
      "(\"Wandering Albatrosses\", \"have a tendency to\", \"feed further out in open oceans\")\n",
      "(\"Royal Albatrosses\", \"have a tendency to\", \"forage in shallower waters and closer to continental shelves\")\n",
      "(\"Royal Albatrosses\", \"have a tendency to\", \"forage in colder waters further south\")\n",
      "(\"Royal Albatrosses\", \"feed on\", \"cephalopods\")\n",
      "(\"Royal Albatrosses\", \"feed on\", \"small fish\")\n",
      "(\"Royal Albatrosses\", \"feed on\", \"crustaceans\")\n",
      "(\"Royal Albatrosses\", \"feed on\", \"animal refuse that floats on the sea\")\n",
      "(\"Royal Albatrosses\", \"eat to such excess at times that they become\", \"unable to fly and rest helplessly on the water\")\n",
      "(\"Royal Albatrosses\", \"are prone to\", \"following ships for refuse\")\n",
      "(\"Royal Albatrosses\", \"can also make\", \"shallow dives\")\n",
      "-\n"
     ]
    },
    {
     "name": "stderr",
     "output_type": "stream",
     "text": [
      "  1%|█▉                                                                                                                                                     | 10/780 [01:29<1:55:11,  8.98s/it]"
     ]
    },
    {
     "name": "stdout",
     "output_type": "stream",
     "text": [
      "\n",
      "(\"Electronic\", \"are\", \"an English alternative dance supergroup\")\n",
      "(\"Electronic\", \"were formed by\", \"New Order singer and guitarist Bernard Sumner\")\n",
      "(\"Electronic\", \"were formed by\", \"ex-Smiths guitarist Johnny Marr\")\n",
      "(\"Electronic\", \"co-wrote\", \"the majority of their output between 1989 and 1998\")\n",
      "(\"Electronic\", \"collaborated with\", \"Neil Tennant and Chris Lowe of Pet Shop Boys on three songs\")\n",
      "(\"Electronic\", \"collaborated with\", \"Karl Bartos on nine songs in 1995\")\n",
      "-\n"
     ]
    },
    {
     "name": "stderr",
     "output_type": "stream",
     "text": [
      "  1%|██▏                                                                                                                                                    | 11/780 [01:33<1:38:06,  7.65s/it]"
     ]
    },
    {
     "name": "stdout",
     "output_type": "stream",
     "text": [
      "\n",
      "(\"More than 140 species\", \"are placed in\", \"17 genera\")\n",
      "(\"Anchovies\", \"are found in\", \"the Atlantic, Indian and Pacific Oceans, and in the Black Sea and the Mediterranean Sea\")\n",
      "(\"Anchovies\",\"are usually classified as\",\"oily fish\")\n",
      "-\n"
     ]
    },
    {
     "name": "stderr",
     "output_type": "stream",
     "text": [
      "  2%|██▎                                                                                                                                                    | 12/780 [01:53<2:27:00, 11.48s/it]"
     ]
    },
    {
     "name": "stdout",
     "output_type": "stream",
     "text": [
      "\n",
      "(\"internal frame backpack\", \"was invented in\", \"1967\")\n",
      "(\"Greg Lowe\", \"invented\", \"internal frame backpack\")\n",
      "(\"Greg Lowe\", \"went on to found\", \"Lowe Alpine and Lowepro\")\n",
      "(\"Lowe Alpine and Lowepro\", \"specialize in\", \"backpacks and carrying bags\")\n",
      "(\"internal frame backpack\", \"is composed of\", \"strips of either aluminum, titanium, or plastic\")\n",
      "(\"internal frame backpack\", \"may also have\", \"additional metal stays to reinforce the frame\")\n",
      "(\"internal frame backpack\", \"has a complex series of straps to\", \"distribute the weight and hold it in place\")\n",
      "(\"internal frame backpack\", \"has a snug fit and is preferred in activities that involve upper-body movement such as\", \"scrambling over rocky surfaces and skiing\")\n",
      "(\"internal frame backpack\", \"is less ventilated than external frame packs and\", \"tends to be more sweaty\")\n",
      "(\"internal frame backpack\", \"has a large storage compartment\", \"and additional lash points\")\n",
      "(\"internal frame backpack\", \"suffered from smaller load capacity and less comfortable fit during steady walking in the past, but\", \"newer models have improved greatly in these respects\")\n",
      "(\"internal frame backpack\", \"has largely replace external frame backpacks for many activities because of\", \"its snug fit\")\n",
      "-\n"
     ]
    },
    {
     "name": "stderr",
     "output_type": "stream",
     "text": [
      "  2%|██▌                                                                                                                                                    | 13/780 [02:00<2:08:34, 10.06s/it]"
     ]
    },
    {
     "name": "stdout",
     "output_type": "stream",
     "text": [
      "\n",
      "(\"Male crickets\", \"live in\", \"solitary individual homes or containers\")\n",
      "(\"Laufer\", \"wrote in his book\", \"that Chinese people sometimes hoarded hundreds of singing crickets\")\n",
      "(\"Cricket rooms\", \"were filled with\", \"many rows of cricket homes\")\n",
      "(\"Cricket rooms\", \"were filled with\", \"a deafening noise\")\n",
      "(\"Chinese people\", \"were able to\", \"stand for any length of time\")\n",
      "(\"Present-day cricket containers\", \"take\", \"three different shapes\")\n",
      "(\"Cages\", \"are used for\", \"trapping and transportation\")\n",
      "(\"Ceramic jars and pots\", \"are used for\", \"summer and autumn\")\n",
      "(\"Gourds\", \"are used for\", \"winter\")\n",
      "-\n"
     ]
    },
    {
     "name": "stderr",
     "output_type": "stream",
     "text": [
      "  2%|██▋                                                                                                                                                    | 14/780 [02:05<1:46:06,  8.31s/it]"
     ]
    },
    {
     "name": "stdout",
     "output_type": "stream",
     "text": [
      "\n",
      "(\"environmentalist\", \"is a person\", \"who is concerned with and/or advocates for the protection of the environment\")\n",
      "(\"environmentalist\", \"can be considered a supporter of\", \"the goals of the environmental movement\")\n",
      "(\"environmentalist\", \"believes in\", \"the philosophy of environmentalism\")\n",
      "(\"environmental movement\", \"seeks to improve and protect\", \"the quality of the natural environment\")\n",
      "(\"environmental movement\", \"seeks to change\", \"environmentally harmful human activities\")\n",
      "-\n"
     ]
    },
    {
     "name": "stderr",
     "output_type": "stream",
     "text": [
      "  2%|██▉                                                                                                                                                    | 15/780 [02:10<1:35:18,  7.47s/it]"
     ]
    },
    {
     "name": "stdout",
     "output_type": "stream",
     "text": [
      "\n",
      "(\"F\", \"is the net force acting on the body\", \"\")\n",
      "(\"m\", \"is the mass of the body\", \"\")\n",
      "(\"a\", \"is the center-of-mass acceleration\", \"\")\n",
      "(\"F\", \"equals\", \"m a\")\n",
      "(\"a\", \"equals\", \"F m\")\n",
      "(\"speeds\", \"approach\", \"the speed of light\")\n",
      "(\"relativistic effects\", \"become increasingly large\", \"\")\n",
      "-\n"
     ]
    },
    {
     "name": "stderr",
     "output_type": "stream",
     "text": [
      "  2%|███                                                                                                                                                    | 16/780 [02:15<1:23:45,  6.58s/it]"
     ]
    },
    {
     "name": "stdout",
     "output_type": "stream",
     "text": [
      "\n",
      "(\"Tooth shape\", \"depends on\", \"shark's diet\")\n",
      "(\"Shark's diet\", \"determines type of\", \"teeth\")\n",
      "(\"Crushing\", \"associated with\", \"mollusks and crustaceans\")\n",
      "(\"Gripping\", \"associated with\", \"fish\")\n",
      "(\"Gripping and cutting\",\"associated with\", \"larger prey such as mammals\")\n",
      "(\"Small and non-functional teeth\",\"associated with\", \"plankton-feeders such as the basking shark\")\n",
      "-\n"
     ]
    },
    {
     "name": "stderr",
     "output_type": "stream",
     "text": [
      "  2%|███▎                                                                                                                                                   | 17/780 [02:22<1:27:34,  6.89s/it]"
     ]
    },
    {
     "name": "stdout",
     "output_type": "stream",
     "text": [
      "\n",
      "(\"Ocean sunfish\", \"are native to\", \"the temperate and tropical waters of every ocean in the world\")\n",
      "(\"Mola genotypes\", \"appear to vary widely between\", \"the Atlantic and Pacific\")\n",
      "(\"Mola genotypes\", \"have minimal genetic differences between individuals in\", \"the Northern and Southern hemispheres\")\n",
      "-\n"
     ]
    },
    {
     "name": "stderr",
     "output_type": "stream",
     "text": [
      "  2%|███▍                                                                                                                                                   | 18/780 [02:24<1:09:16,  5.45s/it]"
     ]
    },
    {
     "name": "stdout",
     "output_type": "stream",
     "text": [
      "\n",
      "(\"hound\", \"has\", \"three types\")\n",
      "(\"hound\", \"has\", \"several breeds within each type\")\n",
      "-\n"
     ]
    },
    {
     "name": "stderr",
     "output_type": "stream",
     "text": [
      "  2%|███▋                                                                                                                                                   | 19/780 [02:34<1:27:16,  6.88s/it]"
     ]
    },
    {
     "name": "stdout",
     "output_type": "stream",
     "text": [
      "\n",
      "(\"brown rockfish\", \"is native to\", \"northwestern Pacific\")\n",
      "(\"brown rockfish\", \"has a range extending from\", \"Bahia San Hipolito\")\n",
      "(\"Bahia San Hipolito\", \"is located in\", \"southern Baja California\")\n",
      "(\"brown rockfish's range\", \"extends to\", \"Prince William Sound\")\n",
      "(\"Prince William Sound\", \"is in the\", \"northern Gulf of Alaska\")\n",
      "(\"brown rockfish\", \"are most abundant in\", \"central and southern parts of Puget Sound\")\n",
      "(\"brown rockfish\", \"are most abundant from\", \"southern Baja California\")\n",
      "(\"brown rockfish\", \"are most abundant to\", \"Bodega Bay\")\n",
      "(\"Bodega Bay\", \"is located in\", \"northern California\")\n",
      "-\n"
     ]
    },
    {
     "name": "stderr",
     "output_type": "stream",
     "text": [
      "  3%|███▊                                                                                                                                                   | 20/780 [02:45<1:39:24,  7.85s/it]"
     ]
    },
    {
     "name": "stdout",
     "output_type": "stream",
     "text": [
      "\n",
      "(\"Aphrodisiac\", \"is a substance that\", \"increases sexual desire\")\n",
      "(\"Aphrodisiac\", \"is a substance that\", \"increases sexual pleasure\")\n",
      "(\"Aphrodisiac\", \"is a substance that\", \"increases sexual behavior\")\n",
      "(\"Aphrodisiac\", \"can be classified by\", \"their chemical properties\")\n",
      "(\"Aphrodisiac\", \"can be classified by\", \"their type of effects\")\n",
      "(\"natural aphrodisiacs\", \"are further classified into\", \"plant-based and non-plant-based substances\")\n",
      "(\"unnatural aphrodisiacs\", \"are classified as those that\", \"are manufactured to imitate a natural substance\")\n",
      "(\"Bufo toad\", \"has psychological effects on a person that\", \"can increase sexual desire and sexual pleasure\")\n",
      "(\"yohimbine\", \"has physiological effects on a person that\", \"can affect hormone levels and increase blood flow\")\n",
      "-\n"
     ]
    },
    {
     "name": "stderr",
     "output_type": "stream",
     "text": [
      "  3%|████                                                                                                                                                   | 21/780 [03:07<2:33:38, 12.15s/it]"
     ]
    },
    {
     "name": "stdout",
     "output_type": "stream",
     "text": [
      "\n",
      "(\"Pronghorn\", \"is the fastest land mammal in\", \"the Western Hemisphere\")\n",
      "(\"Pronghorn\", \"is built for\", \"maximum predator evasion through running\")\n",
      "(\"Pronghorn\", \"has a top speed\", \"35 mph for 4 mi (56 km/h for 6 km)\")\n",
      "(\"Pronghorn\", \"has a top speed\", \"42 mph for 1 mi (67 km/h for 1.6 km)\")\n",
      "(\"Pronghorn\", \"has a top speed\", \"55 mph for 0.5 mi (88.5 km/h for 0.8 km)\")\n",
      "(\"Pronghorn\", \"is characterized by\", \"its ability to sustain high speeds longer than cheetahs\")\n",
      "(\"Pronghorn\", \"was suggested to have evolved its running ability to escape\", \"now-extinct predators like the American cheetah\")\n",
      "(\"Pronghorn\", \"has features that help it run at high speeds\", \"a large windpipe, heart, and lungs\")\n",
      "(\"Pronghorn\", \"has features that help it run at high speeds\", \"two long, cushioned, pointed toes\")\n",
      "(\"Pronghorn\", \"has features that help it run at high speeds\", \"an extremely light bone structure and hollow hair\")\n",
      "-\n"
     ]
    },
    {
     "name": "stderr",
     "output_type": "stream",
     "text": [
      "  3%|████▎                                                                                                                                                  | 22/780 [03:17<2:25:59, 11.56s/it]"
     ]
    },
    {
     "name": "stdout",
     "output_type": "stream",
     "text": [
      "\n",
      "(\"Oculudentavis\", \"is an extinct genus of\", \"saurian\")\n",
      "(\"Oculudentavis\", \"comprises a single known species\", \"Oculudentavis khaungraae\")\n",
      "(\"Only known fossil of Oculudentavis\", \"is preserved in\", \"Burmese amber\")\n",
      "(\"Skull\", \"was 1.4 centimetres (0.55 in) in length\", \"indicating that Oculudentavis would have been comparable in size to the modern bee hummingbird if it were an avialan\")\n",
      "(\"Amber specimen\", \"was retrieved from\", \"99-million-year-old deposits of the Hukawng Basin in Kachin State, Northern Myanmar\")\n",
      "(\"Amber specimen\", \"is embroiled in controversy regarding its identity and the ethical issues surrounding the acquisition and study of Burmese amber\", \"\")\n",
      "-\n"
     ]
    },
    {
     "name": "stderr",
     "output_type": "stream",
     "text": [
      "  3%|████▍                                                                                                                                                  | 23/780 [03:26<2:14:51, 10.69s/it]"
     ]
    },
    {
     "name": "stdout",
     "output_type": "stream",
     "text": [
      "\n",
      "(\"Asian black bear\", \"is\", \"black\")\n",
      "(\"Asian black bear\", \"has a\", \"light brown muzzle\")\n",
      "(\"Asian black bear\", \"has a distinct white patch on the\", \"chest\")\n",
      "(\"Asian black bear\", \"sometimes has a shape of\", \"V\")\n",
      "(\"Asian black bear\", \"has ears\", \"bell shaped\")\n",
      "(\"Asian black bear\", \"has ears proportionately longer than\", \"other bears\")\n",
      "(\"Asian black bear\", \"has ears\", \"stick out sideways from the head\")\n",
      "(\"Asian black bear\", \"has a tail length of\", \"11 cm (4.3 in)\")\n",
      "-\n"
     ]
    },
    {
     "name": "stderr",
     "output_type": "stream",
     "text": [
      "  3%|████▋                                                                                                                                                  | 24/780 [03:37<2:16:27, 10.83s/it]"
     ]
    },
    {
     "name": "stdout",
     "output_type": "stream",
     "text": [
      "\n",
      "(\"tourism\", \"has been trending\", \"upward over the last few decades\")\n",
      "(\"tourism\", \"is especially popular in\", \"Europe\")\n",
      "(\"international travel for short breaks\", \"is common in\", \"Europe\")\n",
      "(\"tourists\", \"have a wide range of\", \"budgets and tastes\")\n",
      "(\"resorts and hotels\", \"have developed to\", \"cater to tourists\")\n",
      "(\"some people\", \"prefer\", \"simple beach vacations\")\n",
      "(\"others\", \"prefer\", \"more specialized holidays\")\n",
      "(\"others\", \"prefer\", \"quieter resorts\")\n",
      "(\"others\", \"prefer\", \"family-oriented holidays\")\n",
      "(\"others\", \"prefer\", \"niche market-targeted destination hotels\")\n",
      "-\n"
     ]
    },
    {
     "name": "stderr",
     "output_type": "stream",
     "text": [
      "  3%|████▊                                                                                                                                                  | 25/780 [03:50<2:26:51, 11.67s/it]"
     ]
    },
    {
     "name": "stdout",
     "output_type": "stream",
     "text": [
      "\n",
      "(\"largemouth bass\", \"scientific name is\", \"Micropterus salmoides\")\n",
      "(\"largemouth bass\", \"is a species of\", \"black bass\")\n",
      "(\"largemouth bass\", \"is generally native to\", \"eastern and central North America\")\n",
      "(\"eastern and central North America\", \"encompasses\", \"Canada, United States and northern Mexico\")\n",
      "(\"largemouth bass\", \"is widely introduced in\", \"other regions\")\n",
      "(\"largemouth bass\", \"has a variety of regional names\", \"widemouth bass, bigmouth bass, black bass, bucketmouth, largies, Potter's fish, Florida bass, Florida largemouth, green bass, bucketmouth bass, Green trout, gilsdorf bass, Oswego bass, LMB, and southern largemouth and (paradoxically) northern largemouth\")\n",
      "(\"largemouth bass\", \"is the state fish of\", \"Georgia and Mississippi\")\n",
      "(\"largemouth bass\", \"is the state freshwater fish of\", \"Florida and Alabama\")\n",
      "-\n"
     ]
    },
    {
     "name": "stderr",
     "output_type": "stream",
     "text": [
      "  3%|█████                                                                                                                                                  | 26/780 [03:58<2:11:00, 10.42s/it]"
     ]
    },
    {
     "name": "stdout",
     "output_type": "stream",
     "text": [
      "\n",
      "(\"In the 1970s\", \"signs of\", \"red pandas\")\n",
      "(\"Dhorpatan Hunting Reserve\", \"has red pandas\", \"confirmed in spring 2007\")\n",
      "(\"Dhorpatan Hunting Reserve\", \"contains\", \"four red pandas\")\n",
      "(\"Four red pandas\", \"sighted at\", \"elevations from 3,220 to 3,610 m\")\n",
      "(\"Rara National Park\", \"is the\", \"westernmost distribution of red pandas\")\n",
      "(\"In 2018\", \"signs of red pandas were found\", \"in Nepal's Lamjung District\")\n",
      "(\"In Lamjung District\", \"red pandas were sighted at\", \"elevations of 3,150–3,650 m\")\n",
      "-\n"
     ]
    },
    {
     "name": "stderr",
     "output_type": "stream",
     "text": [
      "  3%|█████▏                                                                                                                                                 | 27/780 [04:07<2:05:55, 10.03s/it]"
     ]
    },
    {
     "name": "stdout",
     "output_type": "stream",
     "text": [
      "\n",
      "(\"Other sharks\", \"feed on\", \"squid or fish\")\n",
      "(\"Other sharks\", \"swallow\", \"prey whole\")\n",
      "(\"Viper dogfish\", \"has teeth\", \"which it can point outwards to strike and capture prey\")\n",
      "(\"Viper dogfish\", \"swallows\", \"prey intact\")\n",
      "(\"Great white\", \"swallows\", \"small prey whole\")\n",
      "(\"Great white\", \"takes huge bites\", \"out of large animals\")\n",
      "(\"Thresher sharks\", \"use their long tails\", \"to stun shoaling fishes\")\n",
      "(\"Sawsharks\", \"stir prey\", \"from the seabed\")\n",
      "(\"Sawsharks\", \"slash at\", \"swimming prey with their tooth-studded rostra\")\n",
      "-\n"
     ]
    },
    {
     "name": "stderr",
     "output_type": "stream",
     "text": [
      "  4%|█████▍                                                                                                                                                 | 28/780 [04:10<1:39:38,  7.95s/it]"
     ]
    },
    {
     "name": "stdout",
     "output_type": "stream",
     "text": [
      "\n",
      "(\"United States\", \"recommends\", \"10,900 kJ for men between 31 and 35\") \n",
      "(\"United States\", \"recommends\", \"8,400 kJ for women between 31 and 35\")\n",
      "(\"31 and 35 year olds\", \"are recommended\", \"2 to 5 km per day per day at 5 to 6 km/h\")\n",
      "(\"France\", \"recommends\", \"roughly the same levels\")\n",
      "-\n"
     ]
    },
    {
     "name": "stderr",
     "output_type": "stream",
     "text": [
      "  4%|█████▌                                                                                                                                                 | 29/780 [04:19<1:43:21,  8.26s/it]"
     ]
    },
    {
     "name": "stdout",
     "output_type": "stream",
     "text": [
      "\n",
      "(\"Beavers\", \"have\", \"webbed hind-feet and a broad, scaly tail\")\n",
      "(\"Beavers\", \"have poor\", \"eyesight\")\n",
      "(\"Beavers\", \"have keen\", \"senses of hearing, smell, and touch\")\n",
      "(\"Beavers' teeth\", \"grow continuously\", \"so they will not be worn down by chewing on wood\")\n",
      "(\"Beavers' teeth\", \"are composed of\", \"hard orange enamel on the front and a softer dentin on the back\")\n",
      "(\"Beavers' teeth\", \"have chisel-like ends\", \"maintained by their self-sharpening wear pattern\")\n",
      "(\"Beavers' teeth\", \"contain\", \"enamel that contains iron and is more resistant to acid than enamel in the teeth of other mammals\")\n",
      "-\n"
     ]
    },
    {
     "name": "stderr",
     "output_type": "stream",
     "text": [
      "  4%|█████▊                                                                                                                                                 | 30/780 [04:41<2:32:46, 12.22s/it]"
     ]
    },
    {
     "name": "stdout",
     "output_type": "stream",
     "text": [
      "\n",
      "(\"red kangaroo\", \"breeds\", \"all year round\")\n",
      "(\"females of the red kangaroo\", \"have the ability of\", \"embryonic diapause\")\n",
      "(\"copulation of red kangaroo\", \"may last\", \"25 minutes\")\n",
      "(\"red kangaroo\", \"has\", \"typical reproductive system of a kangaroo\")\n",
      "(\"neonate of red kangaroo\", \"emerges after\", \"33 days\")\n",
      "(\"red kangaroo\", \"usually gives birth to\", \"one young\")\n",
      "(\"young of red kangaroo\", \"is\", \"blind, hairless, and few centimetres long\")\n",
      "(\"young of red kangaroo\", \"uses\", \"more developed forelegs to climb its way through the thick fur on its mother's abdomen into the pouch\")\n",
      "(\"climbing process of the young kangaroo\", \"takes\", \"three to five minutes\")\n",
      "(\"young of red kangaroo\", \"fastens onto one of the two teats and starts to feed and then\", \"mother's sexual cycle starts again\")\n",
      "(\"fertilised second egg\", \"development is\", \"temporarily halted\")\n",
      "(\"neonate in the pouch\", \"grows rapidly and\", \"emerges out of the pouch after 190 days\")\n",
      "(\"young joey\", \"permanently leaves the pouch at\", \"around 235 days old\n",
      "-\n"
     ]
    },
    {
     "name": "stderr",
     "output_type": "stream",
     "text": [
      "  4%|██████                                                                                                                                                 | 31/780 [04:48<2:12:57, 10.65s/it]"
     ]
    },
    {
     "name": "stdout",
     "output_type": "stream",
     "text": [
      "\n",
      "(\"Vertebrates\", \"is composed of\", \"all species of animals within the subphylum Vertebrata\")\n",
      "(\"Vertebrates\", \"comprise\", \"the overwhelming majority of the phylum Chordata\")\n",
      "(\"Vertebrates\", \"are currently made of \", \"69,963 species\")\n",
      "(\"Vertebrates\", \"include\", \"such groups as the following\")\n",
      "-\n"
     ]
    },
    {
     "name": "stderr",
     "output_type": "stream",
     "text": [
      "  4%|██████▏                                                                                                                                                | 32/780 [04:53<1:55:04,  9.23s/it]"
     ]
    },
    {
     "name": "stdout",
     "output_type": "stream",
     "text": [
      "\n",
      "(\"Aviation security\", \"is a combination of\", \"human and material resources\")\n",
      "(\"Aviation security\", \"safeguards\", \"civil aviation\")\n",
      "(\"Aviation security\", \"protects against\", \"unlawful interference\")\n",
      "(\"Unlawful interference\", \"could be\", \"acts of terrorism, sabotage, threat to life and property, communication of false threat, bombing, etc.\")\n",
      "-\n"
     ]
    },
    {
     "name": "stderr",
     "output_type": "stream",
     "text": [
      "  4%|██████▍                                                                                                                                                | 33/780 [05:00<1:44:34,  8.40s/it]"
     ]
    },
    {
     "name": "stdout",
     "output_type": "stream",
     "text": [
      "\n",
      "(\"Snoopy\", \"is a\", \"fictional character\")\n",
      "(\"Snoopy\", \"is the pet beagle of\", \"Charlie Brown\")\n",
      "(\"Snoopy\", \"appears in\", \"the comic strip Peanuts by Charles M. Schulz\")\n",
      "(\"Snoopy\", \"appears in\", \"all of the Peanuts movies and television specials\")\n",
      "(\"Snoopy\", \"debuted on\", \"October 4, 1950\")\n",
      "(\"Snoopy\", \"is considered more famous than\", \"Charlie Brown in other countries\")\n",
      "(\"Snoopy's original drawings\", \"were inspired by\", \"Spike, one of Schulz's childhood dogs\")\n",
      "-\n"
     ]
    },
    {
     "name": "stderr",
     "output_type": "stream",
     "text": [
      "  4%|██████▌                                                                                                                                                | 34/780 [05:12<1:56:59,  9.41s/it]"
     ]
    },
    {
     "name": "stdout",
     "output_type": "stream",
     "text": [
      "\n",
      "(\"American servicemen\", \"attacked\", \"children, teenagers, and youths who wore zoot suits\")\n",
      "(\"white Angelenos\", \"attacked\", \"children, teenagers, and youths who wore zoot suits\")\n",
      "(\"American servicemen\", \"stripped\", \"children, teenagers, and youths who wore zoot suits\")\n",
      "(\"white Angelenos\", \"stripped\", \"children, teenagers, and youths who wore zoot suits\")\n",
      "(\"children, teenagers, and youths who wore zoot suits\", \"were considered to be\", \"unpatriotic during World War II\")\n",
      "(\"Rationing of fabric\", \"was required for\", \"the war effort\")\n",
      "(\"Conflicts\", \"were rooted in\", \"racism against Mexicans and Mexican-Americans\")\n",
      "(\"Violence\", \"was directed mostly toward\", \" Mexican American youth\")\n",
      "(\"African American, Italian American, Filipino American youths who were wearing zoot suits\", \"were also attacked\", \"\")\n",
      "-\n"
     ]
    },
    {
     "name": "stderr",
     "output_type": "stream",
     "text": [
      "  4%|██████▊                                                                                                                                                | 35/780 [05:30<2:29:14, 12.02s/it]"
     ]
    },
    {
     "name": "stdout",
     "output_type": "stream",
     "text": [
      "\n",
      "(\"Florida\", \"has the mildest winters in\", \"Continental United States\")\n",
      "(\"Average lows in Florida\", \"range from\", \"65°F (18°C) in Key West\")\n",
      "(\"Average lows in Florida\", \"range to near\", \"41°F (5°C) degrees Fahrenheit at Tallahassee\")\n",
      "(\"Average daytime highs in Florida\", \"range from\", \"64°F (18°C) at Tallahassee\")\n",
      "(\"Average daytime highs in Florida\", \"range to\", \"77°F (25°C) at Miami\")\n",
      "(\"Winters in Florida\", \"are kept warm by\", \"tropical easterly winds across central and southern Florida\")\n",
      "(\"Winter in Florida\", \"can be affected by\", \"cold fronts\")\n",
      "(\"Cold fronts in Florida\", \"may bring freezing temperatures to\", \"inland areas of central Florida\")\n",
      "(\"Occasionally in Miami\", \"temperatures may fall below\", \"45°F (7°C)\")\n",
      "(\"El Niño winters in Florida\", \"tend to be cooler due to\", \"increased cloud cover\")\n",
      "(\"El Niño winters in Florida\", \"tend to have\", \"fewer freezes\")\n",
      "-\n"
     ]
    },
    {
     "name": "stderr",
     "output_type": "stream",
     "text": [
      "  5%|██████▉                                                                                                                                                | 36/780 [05:40<2:20:47, 11.35s/it]"
     ]
    },
    {
     "name": "stdout",
     "output_type": "stream",
     "text": [
      "\n",
      "(\"Scoobert Scooby-Doo\", \"is the eponymous character of\", \"the animated television franchise\")\n",
      "(\"Scoobert Scooby-Doo\", \"created by\", \"Hanna-Barbera\")\n",
      "(\"Scoobert Scooby-Doo\", \"is a\", \"male Great Dane\")\n",
      "(\"Scoobert Scooby-Doo\", \"is the lifelong companion of\", \"amateur detective Shaggy Rogers\")\n",
      "(\"Scoobert Scooby-Doo\", \"shares many personality traits with\",\"Shaggy Rogers\")\n",
      "(\"Scoobert Scooby-Doo\", \"features a mix of\", \"canine and human behavior\")\n",
      "(\"Scoobert Scooby-Doo\", \"is treated by his friends as\", \"an equal\")\n",
      "(\"Scoobert Scooby-Doo\", \"speaks in a famous dog-like voice\", \"and has a catchphrase\")\n",
      "(\"Scoobert Scooby-Doo's catchphrase\", \"is\", \"Scooby-Dooby-Doo!\")\n",
      "-\n"
     ]
    },
    {
     "name": "stderr",
     "output_type": "stream",
     "text": [
      "  5%|███████▏                                                                                                                                               | 37/780 [05:55<2:35:01, 12.52s/it]"
     ]
    },
    {
     "name": "stdout",
     "output_type": "stream",
     "text": [
      "\n",
      "(\"fables\", \"moved out of\", \"the Greek-speaking world\")\n",
      "(\"fables\", \"were adapted to\", \"different times and religions\")\n",
      "(\"Lion's share\", \"was originally directed against\", \"tyranny\")\n",
      "(\"Lion's share\", \"was reinterpreted by\", \"Rumi\")\n",
      "(\"Lion's share\", \"as a parable\", \"of oneness with the God of Islam and obedience to divine authority\")\n",
      "(\"Jewish 'fox fables' of Berechiah ha-Nakdan\", \"had a humorous account of\", \"the hares and the frogs\")\n",
      "(\"Jewish 'fox fables' of Berechiah ha-Nakdan\", \"recommended\", \"trust in God\")\n",
      "(\"The Wolf and the Crane\", \"was reinterpreted by Christianity\", \"as a parable of the rescue of the sinner's soul from Hell\")\n",
      "-\n"
     ]
    },
    {
     "name": "stderr",
     "output_type": "stream",
     "text": [
      "  5%|███████▎                                                                                                                                               | 38/780 [05:59<2:03:11,  9.96s/it]"
     ]
    },
    {
     "name": "stdout",
     "output_type": "stream",
     "text": [
      "\n",
      "(\"Ice\", \"is\", \"water frozen into a solid state\")\n",
      "(\"Ice\", \"can appear\", \"transparent\") \n",
      "(\"Ice\", \"can\", \"appear a more or less opaque bluish-white color\")\n",
      "(\"Impurities\", \"can affect\", \"the appearance of ice\")\n",
      "-\n"
     ]
    },
    {
     "name": "stderr",
     "output_type": "stream",
     "text": [
      "  5%|███████▌                                                                                                                                               | 39/780 [06:06<1:53:07,  9.16s/it]"
     ]
    },
    {
     "name": "stdout",
     "output_type": "stream",
     "text": [
      "\n",
      "(\"16th–17th century England\", \"had thriving industries of\", \"harvesting ice in winter\") \n",
      "(\"Low-lying areas along the Thames Estuary\", \"were flooded during the winter\", \"to harvest the ice\") \n",
      "(\"The ice\", \"was stored in\", \"insulated wooden houses\")\n",
      "(\"The ice\", \"was taken to\", \"an icehouse in large country houses\")\n",
      "(\"The ice\", \"was used to\", \"keep fish fresh\")\n",
      "(\"This harvesting activity in England\", \"was allegedly copied from\", \"China\") \n",
      "(\"Ice\", \"was imported into England from\", \"Norway in 1823\")\n",
      "-\n"
     ]
    },
    {
     "name": "stderr",
     "output_type": "stream",
     "text": [
      "  5%|███████▋                                                                                                                                               | 40/780 [06:11<1:36:51,  7.85s/it]"
     ]
    },
    {
     "name": "stdout",
     "output_type": "stream",
     "text": [
      "\n",
      "(\"Joy Division\", \"is an\", \"English rock band\")\n",
      "(\"Joy Division\", \"was formed in\", \"Salford in 1976\")\n",
      "(\"Joy Division\", \"consisted of\", \"vocalist Ian Curtis\")\n",
      "(\"Joy Division\", \"consisted of\", \"guitarist/keyboardist Bernard Sumner\")\n",
      "(\"Joy Division\", \"consisted of\", \"bassist Peter Hook\")\n",
      "(\"Joy Division\", \"consisted of\", \"drummer Stephen Morris\")\n",
      "-\n"
     ]
    },
    {
     "name": "stderr",
     "output_type": "stream",
     "text": [
      "  5%|███████▉                                                                                                                                               | 41/780 [06:18<1:33:30,  7.59s/it]"
     ]
    },
    {
     "name": "stdout",
     "output_type": "stream",
     "text": [
      "\n",
      "(\"Martes\", \"is a genus\", \"within the subfamily Guloninae\")\n",
      "(\"Martes\", \"belongs to\", \"the family Mustelidae\")\n",
      "(\"Martes\", \"have\", \"bushy tails\")\n",
      "(\"Martes\", \"have\", \"large paws with partially retractile claws\")\n",
      "(\"The fur of Martes\", \"vary from\", \"yellowish to dark brown\")\n",
      "(\"Martes\", \"are valued by\", \"trappers for the fur trade\")\n",
      "(\"Martes\", \"are slender and agile animals\", \"adapted to living in the taiga\")\n",
      "(\"Martes\", \"inhabit\", \"coniferous and northern deciduous forests across the Northern Hemisphere\")\n",
      "-\n"
     ]
    },
    {
     "name": "stderr",
     "output_type": "stream",
     "text": [
      "  5%|████████▏                                                                                                                                              | 42/780 [06:25<1:33:12,  7.58s/it]"
     ]
    },
    {
     "name": "stdout",
     "output_type": "stream",
     "text": [
      "\n",
      "(\"hot dogs\", \"must be in\", \"a casing\")\n",
      "(\"casing\", \"is made from\", \"the small intestines of sheep\")\n",
      "(\"hot dogs\", \"can be\", \"natural casing\")\n",
      "(\"natural casing hot dogs\", \"have\", \"firmer texture\")\n",
      "(\"natural casing hot dogs\", \"have\",\"a 'snap' that releases juices and flavor when the product is bitten\")\n",
      "-\n"
     ]
    },
    {
     "name": "stderr",
     "output_type": "stream",
     "text": [
      "  6%|████████▎                                                                                                                                              | 43/780 [06:39<1:55:23,  9.39s/it]"
     ]
    },
    {
     "name": "stdout",
     "output_type": "stream",
     "text": [
      "\n",
      "(\"brown bear\", \"is often described as\", \"nocturnal\")\n",
      "(\"brown bear\", \"peaks in activity\", \"in the morning and early evening hours\")\n",
      "(\"brown bear\", \"occurs at nearly any time of night or day in\", \"areas with more extensive human contact\")\n",
      "(\"brown bear\", \"are more likely to be active\", \"diurnally\")\n",
      "(\"brown bear\", \"doubles weight from\", \"spring to summer\")\n",
      "(\"brown bear\", \"gains up to\", \"180 kg (400 lb) of fat\")\n",
      "(\"brown bear\", \"relies on fat to\", \"make it through winter\")\n",
      "(\"brown bear\", \"becomes very lethargic during\", \"winter months\")\n",
      "(\"brown bear\", \"is not a full hibernator\", \"and can be woken easily\")\n",
      "(\"brown bear\", \"likes to den in a protected spot during\", \"winter months\")\n",
      "(\"brown bear\", \"uses\", \"cave, crevice, cavernous tree roots, or hollow logs\")\n",
      "-\n"
     ]
    },
    {
     "name": "stderr",
     "output_type": "stream",
     "text": [
      "  6%|████████▌                                                                                                                                              | 44/780 [06:57<2:27:36, 12.03s/it]"
     ]
    },
    {
     "name": "stdout",
     "output_type": "stream",
     "text": [
      "\n",
      "(\"crocodiles\", \"belong to\", \"separate biological families\")\n",
      "(\"gharial\", \"with its\", \"narrow snout\")\n",
      "(\"morphological differences\", \"are more difficult to spot in\", \"crocodiles and alligators\")\n",
      "(\"crocodiles\", \"have narrower and longer heads\", \"with a more V-shaped than a U-shaped snout\")\n",
      "(\"alligators and caimans\", \"have a more U-shaped than V-shaped snout\", \"compared to crocodiles\")\n",
      "(\"crocodiles\", \"upper and lower jaws\", \"same width\")\n",
      "(\"alligators and caimans\", \"upper and lower jaws\", \"different width\")\n",
      "(\"crocodiles\", \"teeth in lower jaw\", \"fall along the edge or outside the upper jaw when the mouth is closed\")\n",
      "(\"alligators and caimans\", \"teeth in lower jaw\", \"fit into small depressions in the upper jaw when the mouth is closed\")\n",
      "(\"crocodiles\", \"when the mouth is closed\", \"fourth tooth in the lower jaw fits into a constriction in the upper jaw\")\n",
      "(\"alligators and caimans\", \"when the mouth is closed\", \"fourth tooth in the lower jaw does not fit into a constriction in the upper jaw\")\n",
      "(\"crocodiles\", \"have more webbing on\", \"toes of the hind feet\n",
      "-\n"
     ]
    },
    {
     "name": "stderr",
     "output_type": "stream",
     "text": [
      "  6%|████████▋                                                                                                                                              | 45/780 [07:06<2:14:02, 10.94s/it]"
     ]
    },
    {
     "name": "stdout",
     "output_type": "stream",
     "text": [
      "\n",
      "(\"Diving activities\", \"are restricted to maximum depths of\", \"about 40 metres (130 ft) for recreational scuba diving\")\n",
      "(\"Diving activities\", \"are restricted to maximum depths of\", \"530 metres (1,740 ft) for commercial saturation diving\")\n",
      "(\"Diving activities\", \"are restricted to maximum depths of\", \"610 metres (2,000 ft) wearing atmospheric suits\")\n",
      "(\"Diving activities\", \"are restricted to\", \"conditions which are not excessively hazardous\")\n",
      "(\"Diving activities\", \"has a acceptable level of risk\", \"that can vary\")\n",
      "-\n"
     ]
    },
    {
     "name": "stderr",
     "output_type": "stream",
     "text": [
      "  6%|████████▉                                                                                                                                              | 46/780 [07:16<2:12:11, 10.81s/it]"
     ]
    },
    {
     "name": "stdout",
     "output_type": "stream",
     "text": [
      "\n",
      "(\"Yin\", \"is the\", \"receptive principle\")\n",
      "(\"Yang\", \"is the\", \"active principle\")\n",
      "(\"Yin\", \"and Yang\", \"are complementary and interconnected\")\n",
      "(\"Yin\", \"and Yang\", \"give rise to each other\")\n",
      "(\"Yin\", \"and Yang\", \"form objects and lives\")\n",
      "(\"Yin\", \"and Yang\", \"are seen in the annual cycle\")\n",
      "(\"Yin\", \"and Yang\", \"are seen in the landscape\")\n",
      "(\"Yin\", \"and Yang\", \"are seen in sexual coupling\")\n",
      "(\"Yin\", \"and Yang\", \"are seen in the formation of both women and men\")\n",
      "(\"Yin\", \"and Yang\", \"are seen in sociopolitical history\")\n",
      "-\n"
     ]
    },
    {
     "name": "stderr",
     "output_type": "stream",
     "text": [
      "  6%|█████████                                                                                                                                              | 47/780 [07:24<2:02:11, 10.00s/it]"
     ]
    },
    {
     "name": "stdout",
     "output_type": "stream",
     "text": [
      "\n",
      "(\"photic zone\", \"is also known as\", \"euphotic zone\")\n",
      "(\"photic zone\", \"is also known as\", \"epipelagic zone\")\n",
      "(\"photic zone\", \"is also known as\", \"sunlight (or sunlit) zone\")\n",
      "(\"photic zone\", \"receives\",\"sunlight\")\n",
      "(\"photic zone\", \"undergoes\",\"physical, chemical, and biological processes\")\n",
      "(\"photic zone\", \"supplies\",\"nutrients into the upper water column\")\n",
      "(\"photic zone\", \"is home to\", \"the majority of marine life\")\n",
      "-\n"
     ]
    },
    {
     "name": "stderr",
     "output_type": "stream",
     "text": [
      "  6%|█████████▎                                                                                                                                             | 48/780 [07:30<1:46:46,  8.75s/it]"
     ]
    },
    {
     "name": "stdout",
     "output_type": "stream",
     "text": [
      "\n",
      "(\"Strigoi\", \"means\", \"striga, poltergeist\")\n",
      "(\"Strigoi\", \"are said to have risen from\", \"the grave\")\n",
      "(\"Strigoi\", \"have the ability to\", \"transform into an animal\")\n",
      "(\"Strigoi\", \"have the ability to\", \"become invisible\")\n",
      "(\"Strigoi\", \"gain vitality from\", \"the blood of their victims\")\n",
      "(\"Bram Stoker's Dracula\", \"became the modern interpretation of\", \"Strigoi\")\n",
      "(\"Strigoi\", \"have historic links with\", \"vampirism\")\n",
      "-\n"
     ]
    },
    {
     "name": "stderr",
     "output_type": "stream",
     "text": [
      "  6%|█████████▍                                                                                                                                             | 49/780 [07:38<1:43:12,  8.47s/it]"
     ]
    },
    {
     "name": "stdout",
     "output_type": "stream",
     "text": [
      "\n",
      "(\"Rodents\", \"are mammals of the order\", \"Rodentia\")\n",
      "(\"Rodentia\", \"are characterized by\", \"a single pair of continuously growing incisors in each of the upper and lower jaws\")\n",
      "(\"Rodents\", \"comprise of\", \"40% of all mammal species\")\n",
      "(\"40% of all mammal species\", \"equals\", \"2,277 species\")\n",
      "(\"Rodents\", \"live on\", \"all continents except Antarctica\")\n",
      "(\"Rodents\", \"are found in\", \"vast numbers\") \n",
      "(\"Rodents\", \"live in\", \"a variety of terrestrial habitats\")\n",
      "(\"Rodents\", \"also live in\", \"human-made environments\")\n",
      "-\n"
     ]
    },
    {
     "name": "stderr",
     "output_type": "stream",
     "text": [
      "  6%|█████████▋                                                                                                                                             | 50/780 [07:50<1:55:08,  9.46s/it]"
     ]
    },
    {
     "name": "stdout",
     "output_type": "stream",
     "text": [
      "\n",
      "(\"United States\", \"entered World War II in\", \"December 1941\")\n",
      "(\"United States\", \"dealt with\", \"restrictions of rationing\")\n",
      "(\"United States\", \"dealt with\", \"prospects of conscription\")\n",
      "(\"War Production Board\", \"regulated\", \"manufacture of men's suits\")\n",
      "(\"War Production Board\", \"regulated\", \"clothing that contained wool\")\n",
      "(\"War Production Board\", \"issued regulations for\", \"streamlined suits by Uncle Sam\")\n",
      "(\"War Production Board\", \"forbade\", \"wide-cut zoot suits\")\n",
      "(\"War Production Board\", \"forbade\", \"full women's skirts or dresses\")\n",
      "(\"Esquire magazine\", \"called\", \"streamlined suits by Uncle Sam\")\n",
      "(\"Youths\", \"continued to wear\", \"clothes they already owned\")\n",
      "(\"Network of bootleg tailors\", \"based in\", \"Los Angeles and New York City\")\n",
      "(\"Network of bootleg tailors\", \"continued to produce\", \"zoot suits\")\n",
      "-\n"
     ]
    },
    {
     "name": "stderr",
     "output_type": "stream",
     "text": [
      "  7%|█████████▊                                                                                                                                             | 51/780 [08:05<2:17:19, 11.30s/it]"
     ]
    },
    {
     "name": "stdout",
     "output_type": "stream",
     "text": [
      "\n",
      "(\"India\", \"is officially\", \"the Republic of India\")\n",
      "(\"India\", \"is a country in\", \"South Asia\")\n",
      "(\"India\", \"is the second-most populous country in the world\", \"\")\n",
      "(\"India\", \"is the seventh-largest country by area in the world\", \"\")\n",
      "(\"India\", \"has borders with\", \"Pakistan\")\n",
      "(\"India\", \"has borders with\", \"China\")\n",
      "(\"India\", \"has borders with\", \"Nepal\")\n",
      "(\"India\", \"has borders with\", \"Bhutan\")\n",
      "(\"India\", \"has borders with\", \"Bangladesh\")\n",
      "(\"India\", \"has borders with\", \"Myanmar\")\n",
      "(\"India\", \"is in the vicinity of\", \"Sri Lanka\")\n",
      "(\"India\", \"is in the vicinity of\", \"the Maldives\")\n",
      "(\"India\", \"has a maritime border with\", \"Thailand\")\n",
      "(\"India\", \"has a maritime border with\", \"Indonesia\")\n",
      "-\n"
     ]
    },
    {
     "name": "stderr",
     "output_type": "stream",
     "text": [
      "  7%|██████████                                                                                                                                             | 52/780 [08:14<2:06:22, 10.42s/it]"
     ]
    },
    {
     "name": "stdout",
     "output_type": "stream",
     "text": [
      "\n",
      "(\"arteries\", \"are part of\", \"the circulatory system\")\n",
      "(\"circulatory system\", \"is responsible for\", \"the delivery of oxygen and nutrients to all cells\")\n",
      "(\"circulatory system\", \"is responsible for\", \"the removal of carbon dioxide and waste products\")\n",
      "(\"circulatory system\", \"is responsible for\", \"the maintenance of optimum blood pH\")\n",
      "(\"circulatory system\", \"is responsible for\", \"the circulation of proteins and cells of the immune system\")\n",
      "-\n"
     ]
    },
    {
     "name": "stderr",
     "output_type": "stream",
     "text": [
      "  7%|██████████▎                                                                                                                                            | 53/780 [08:21<1:54:11,  9.42s/it]"
     ]
    },
    {
     "name": "stdout",
     "output_type": "stream",
     "text": [
      "\n",
      "(\"Hippos\", \"have been long\", \"popular zoo animals\")\n",
      "(\"Obaysch\", \"arrived at\", \"the London Zoo on 25 May 1850\")\n",
      "(\"Obaysch\", \"attracted\", \"up to 10,000 visitors a day\")\n",
      "(\"Obaysch\", \"inspired\", \"the 'Hippopotamus Polka'\")\n",
      "(\"Hippos\", \"breed well in\", \"captivity\")\n",
      "(\"Birth rates\", \"are lower than \", \"in the wild\")\n",
      "(\"This\", \"is attributed to\", \"zoos wanting to limit births\")\n",
      "(\"Hippos\", \"are relatively expensive to\", \"maintain\")\n",
      "-\n"
     ]
    },
    {
     "name": "stderr",
     "output_type": "stream",
     "text": [
      "  7%|██████████▍                                                                                                                                            | 54/780 [08:31<1:56:40,  9.64s/it]"
     ]
    },
    {
     "name": "stdout",
     "output_type": "stream",
     "text": [
      "\n",
      "(\"Inhaled air\", \"is by volume\", \"78.08% nitrogen\")\n",
      "(\"Inhaled air\", \"is by volume\", \"20.95% oxygen\")\n",
      "(\"Inhaled air\", \"contains small amounts of\", \"argon\")\n",
      "(\"Inhaled air\", \"contains small amounts of\", \"carbon dioxide\")\n",
      "(\"Inhaled air\", \"contains small amounts of\", \"neon\")\n",
      "(\"Inhaled air\", \"contains small amounts of\", \"helium\")\n",
      "(\"Inhaled air\", \"contains small amounts of\", \"hydrogen\")\n",
      "-\n"
     ]
    },
    {
     "name": "stderr",
     "output_type": "stream",
     "text": [
      "  7%|██████████▋                                                                                                                                            | 55/780 [08:45<2:13:12, 11.02s/it]"
     ]
    },
    {
     "name": "stdout",
     "output_type": "stream",
     "text": [
      "\n",
      "(\"Eskimo\", \"are the\", \"indigenous circumpolar peoples\")\n",
      "(\"Eskimos\", \"have traditionally inhabited\", \"the northern circumpolar region from eastern Siberia to Alaska, Canada, and Greenland\")\n",
      "(\"Inuit Circumpolar Council (ICC)\", \"is composed of\", \"approximately 160,000 Inuit people\")\n",
      "(\"Alaskan Iñupiat peoples\", \"is one of\", \"the two main peoples known as 'Eskimo'\")\n",
      "(\"Greenlandic Inuit\", \"is one of\", \"the two main peoples known as 'Eskimo'\")\n",
      "(\"mass-grouping Inuit people of Canada\", \"is one of\", \"the two main peoples known as 'Eskimo'\")\n",
      "(\"Yupik people of eastern Siberia and Alaska\", \"is one of\", \"the two main peoples known as 'Eskimo'\")\n",
      "(\"Aleut\", \"is closely related to\", \"Inuit and Yupik people\")\n",
      "(\"Aleut\", \"shares a relatively recent\", \"common ancestor\")\n",
      "(\"Aleut\", \"shares a\", \"language group (Eskimo-Aleut)\")\n",
      "(\"Chukchi People of Siberia\", \"are the closest living relatives of\", \"Inuit and Yupik people\")\n",
      "-\n"
     ]
    },
    {
     "name": "stderr",
     "output_type": "stream",
     "text": [
      "  7%|██████████▊                                                                                                                                            | 56/780 [08:51<1:55:54,  9.61s/it]"
     ]
    },
    {
     "name": "stdout",
     "output_type": "stream",
     "text": [
      "\n",
      "(\"Common carp\", \"have been introduced\", \"to most continents and some 59 countries\")\n",
      "(\"In absence of natural predators or commercial fishing\", \"they may extensively alter\", \"their environments\")\n",
      "(\"Their reproductive rate\", \"may cause\", \"serious damage to native duck and fish populations\")\n",
      "(\"Their feeding habit of grubbing through bottom sediments for food\", \"may destroy, uproot, and disturb\", \"submerged vegetation\")\n",
      "(\"This\", \"may cause\", \"serious damage to native duck, such as canvasbacks, and fish populations\")\n",
      "-\n"
     ]
    },
    {
     "name": "stderr",
     "output_type": "stream",
     "text": [
      "  7%|███████████                                                                                                                                            | 57/780 [09:04<2:07:45, 10.60s/it]"
     ]
    },
    {
     "name": "stdout",
     "output_type": "stream",
     "text": [
      "\n",
      "(\"Allgemeine Hochschulreife\", \"is the\", \"official term in Germany for this certificate of education\")\n",
      "(\"Allgemeine Hochschulreife\", \"informal term\", \"Abi\")\n",
      "(\"In 2005\", \"total number of students who passed the Abitur exam\", \"231,465\")\n",
      "(\"In 2012\", \"total number of students who passed the Allgemeine Hochschulreife\", \"305,172\")\n",
      "(\"In 2012\", \"total number of students who obtained the Hochschulreife at vocational training schools\", \"51,912\")\n",
      "(\"In 2012\", \"total number of students who obtained the Fachhochschulreife\", \"144,399\")\n",
      "(\"In 2012\", \"total number of students who obtained the right to study at a university or a Fachhochschule\", \"501,483\")\n",
      "-\n"
     ]
    },
    {
     "name": "stderr",
     "output_type": "stream",
     "text": [
      "  7%|███████████▏                                                                                                                                           | 58/780 [09:11<1:52:38,  9.36s/it]"
     ]
    },
    {
     "name": "stdout",
     "output_type": "stream",
     "text": [
      "\n",
      "(\"COVID-19 virus\", \"has caused\", \"human activity on all beaches to virtually cease\")\n",
      "(\"human activity on all beaches\", \"has resulted in\", \"an increase in sea turtle nesting\")\n",
      "(\"Thailand\", \"has seen the highest number of sea turtle nests in the last 20 years over the last month\", \"\")\n",
      "(\"Turtles\", \"are thriving across\", \"the United States\")\n",
      "(\"Less noise and pollution\", \"is contributing to\", \"turtles thriving across the United States\")\n",
      "-\n"
     ]
    },
    {
     "name": "stderr",
     "output_type": "stream",
     "text": [
      "  8%|███████████▍                                                                                                                                           | 59/780 [09:20<1:50:38,  9.21s/it]"
     ]
    },
    {
     "name": "stdout",
     "output_type": "stream",
     "text": [
      "\n",
      "(\"Sumner\", \"joined with\", \"Johnny Marr\")\n",
      "(\"Sumner\",\"formed\",\"Electronic\")\n",
      "(\"Sumner\",\"collaborated with\",\"Neil Tennant\")\n",
      "(\"Neil Tennant\",\"provided\",\"vocals\")\n",
      "(\"Sumner\",\"was\",\"singer\")\n",
      "(\"Sumner\",\"was\",\"guitarist\")\n",
      "(\"Sumner\",\"was\",\"keyboardist\")\n",
      "(\"Sumner\",\"was\",\"lyricist\")\n",
      "-\n"
     ]
    },
    {
     "name": "stderr",
     "output_type": "stream",
     "text": [
      "  8%|███████████▌                                                                                                                                           | 60/780 [09:31<1:58:59,  9.92s/it]"
     ]
    },
    {
     "name": "stdout",
     "output_type": "stream",
     "text": [
      "\n",
      "(\"Plate tectonic theory\", \"indicates\", \"Australia has moved northwards\")\n",
      "(\"Australia\", \"moved at a rate of \"[cm/in], \"7 cm/2.8 in\")\n",
      "(\"Australia's movement\", \"started during\", \"the Cenozoic\")\n",
      "(\"Eastern Australia\", \"experienced a period of tectonic\", \"uplift\")\n",
      "(\"Uplift\", \"moved drainage divide in Queensland\", \"400 km/250 mi inland\")\n",
      "(\"Queensland\", \"experienced\", \"volcanic eruptions\")\n",
      "(\"Volcanic eruptions\", \"resulted in\", \"central and shield volcanoes and basalt flows\")\n",
      "(\"Basalt flows\", \"became\", \"high islands\")\n",
      "(\"Coral Sea Basin\", \"formed and\", \"coral reefs began to grow\")\n",
      "(\"Coral reefs in Queensland\", \"could not develop\", \"until about 25 million years ago\")\n",
      "(\"Great Barrier Reef\", \"was largely influenced by\", \"reef growth and decline as sea level changed\")\n",
      "-\n"
     ]
    },
    {
     "name": "stderr",
     "output_type": "stream",
     "text": [
      "  8%|███████████▊                                                                                                                                           | 61/780 [09:41<1:58:16,  9.87s/it]"
     ]
    },
    {
     "name": "stdout",
     "output_type": "stream",
     "text": [
      "\n",
      "(\"Woodcock\", \"migrate at\", \"night\")\n",
      "(\"Woodcock\", \"fly at\", \"low altitudes\")\n",
      "(\"Woodcock\", \"fly in\", \"small, loose flocks\")\n",
      "(\"Flight speed of Woodcock\", \"is range from\", \"16 to 28 miles per hour (26 to 45 kilometers per hour)\")\n",
      "(\"The slowest flight speed ever recorded for a bird\", \"was recorded for\", \"this species\")\n",
      "(\"Woodcock\", \"orient visually using\", \"major physiographic features such as coastlines and broad river valleys\")\n",
      "(\"Both autumn and spring migrations of woodcock\", \"are described as\", \"leisurely\")\n",
      "(\"Leisurely migrations of woodcock\", \"is compared with the\", \"swift, direct migrations of many passerine birds\")\n",
      "-\n"
     ]
    },
    {
     "name": "stderr",
     "output_type": "stream",
     "text": [
      "  8%|████████████                                                                                                                                           | 62/780 [09:47<1:45:25,  8.81s/it]"
     ]
    },
    {
     "name": "stdout",
     "output_type": "stream",
     "text": [
      "\n",
      "(\"Sloths\", \"are\", \"arboreal mammals\")\n",
      "(\"Sloths\", \"are noted for\", \"slowness of movement\")\n",
      "(\"Sloths\", \"spend most of their lives\", \"hanging upside down in the trees of the tropical rain forests of South America and Central America\")\n",
      "(\"Sloths\", \"are divided into two families:\", \"two-toed sloths and three-toed sloths\")\n",
      "(\"Sloths\", \"have\", \"three toes on each rear limb\")\n",
      "(\"Two-toed sloths\", \"have\", \"two digits on each forelimb\")\n",
      "-\n"
     ]
    },
    {
     "name": "stderr",
     "output_type": "stream",
     "text": [
      "  8%|████████████▏                                                                                                                                          | 63/780 [09:50<1:21:21,  6.81s/it]"
     ]
    },
    {
     "name": "stdout",
     "output_type": "stream",
     "text": [
      "\n",
      "(\"Anchovy\", \"average yearly catch of\", \"300,000 tons\")\n",
      "(\"Anchovy\", \"fishery is mainly carried out in\", \"winter\")\n",
      "(\"Anchovy\", \"highest portion is caught between\", \"November and December\")\n",
      "-\n"
     ]
    },
    {
     "name": "stderr",
     "output_type": "stream",
     "text": [
      "  8%|████████████▍                                                                                                                                          | 64/780 [10:14<2:23:07, 11.99s/it]"
     ]
    },
    {
     "name": "stdout",
     "output_type": "stream",
     "text": [
      "\n",
      "(\"Subfamily Exocoetinae\", \"belongs to\", \"Risso, 1827\")\n",
      "(\"Genus Exocoetus\", \"belongs to\", \"Linnaeus, 1758\")\n",
      "(\"Subfamily Fodiatorinae\", \"belongs to\", \"Fowler, 1925\")\n",
      "(\"Genus Fodiator\", \"belongs to\", \"D.S. Jordan & Meek, 1885\") \n",
      "(\"Subfamily Parexocoetinae\", \"belongs to\", \"Bruun, 1935\")\n",
      "(\"Genus Parexocoetus\", \"belongs to\", \"Bleeker, 1865\")\n",
      "(\"Subfamily Cypsellurinae\", \"belongs to\", \"Hubbs, 1933\")\n",
      "(\"Genus Cheilopogon\", \"belongs to\", \"Lowe, 1841\")\n",
      "(\"Genus Cypselurus\", \"belongs to\", \"Swainson, 1838\")\n",
      "(\"Genus Hirundichthys\", \"belongs to\", \"Breder, 1928\")\n",
      "(\"Genus Prognichthys\", \"belongs to\", \"Breder, 1928\")\n",
      "(\"Flying fish\", \"are found in\", \"all of the oceans\")\n",
      "(\"Flying fish\", \"are commonly found in\", \"the epipelagic zone\")\n",
      "(\"The epipelagic zone\", \"has a depth of\", \"about 200 m (656 ft\n",
      "-\n"
     ]
    },
    {
     "name": "stderr",
     "output_type": "stream",
     "text": [
      "  8%|████████████▌                                                                                                                                          | 65/780 [10:26<2:23:01, 12.00s/it]"
     ]
    },
    {
     "name": "stdout",
     "output_type": "stream",
     "text": [
      "\n",
      "(\"Fish\", \"are gill-bearing aquatic craniate animals\", \"that lack limbs with digits\")\n",
      "(\"Fish\", \"form a sister group to\", \"the tunicates\")\n",
      "(\"Fish\", \"also form\", \"the olfactores\")\n",
      "(\"Fish\", \"include living hagfish, lampreys, and cartilaginous and bony fish\", \"as well as various extinct related groups\")\n",
      "(\"Fish\", \"emerged within\", \"lobe-finned fishes\")\n",
      "(\"Fish\", \"are traditionally rendered paraphyletic by\", \"excluding the tetrapods\")\n",
      "(\"Fish\", \"is not considered a formal taxonomic grouping in systematic biology\", \"unless it is used in the cladistic sense including tetrapods\")\n",
      "(\"Fish\", \"is traditionally termed\", \"pisces (also ichthyes)\")\n",
      "(\"Pisces (also ichthyes)\", \"is considered a\", \"typological, but not a phylogenetic classification\")\n",
      "-\n"
     ]
    },
    {
     "name": "stderr",
     "output_type": "stream",
     "text": [
      "  8%|████████████▊                                                                                                                                          | 66/780 [10:30<1:56:35,  9.80s/it]"
     ]
    },
    {
     "name": "stdout",
     "output_type": "stream",
     "text": [
      "\n",
      "(\"wolverine\", \"also known as\", \"Gulo gulo\")\n",
      "(\"Gulo gulo\", \"is Latin for\", \"glutton\")\n",
      "(\"wolverine\", \"other names\", \"carcajou, skunk bear, or quickhatch\")\n",
      "(\"wolverine\", \"is the largest land-dwelling species of\", \"Mustelidae\")\n",
      "(\"wolverine\", \"has a reputation for\", \"ferocity and strength\")\n",
      "(\"wolverine\", \"has the documented ability to \", \"kill prey many times larger than itself\")\n",
      "-\n"
     ]
    },
    {
     "name": "stderr",
     "output_type": "stream",
     "text": [
      "  9%|████████████▉                                                                                                                                          | 67/780 [10:36<1:40:46,  8.48s/it]"
     ]
    },
    {
     "name": "stdout",
     "output_type": "stream",
     "text": [
      "\n",
      "(\"Summer daytime temperatures\", \"range usually from\", \"upper 70s to mid-80s °F (25 to 29 °C)\")\n",
      "(\"Northern Plateau\", \"can expect a temperature of\", \"-13 °F (-25 °C) or lower\")\n",
      "(\"Southern Tier\", \"can expect a temperature of\", \"5 °F (-15 °C) or colder\")\n",
      "-\n"
     ]
    },
    {
     "name": "stderr",
     "output_type": "stream",
     "text": [
      "  9%|█████████████▏                                                                                                                                         | 68/780 [10:45<1:42:35,  8.65s/it]"
     ]
    },
    {
     "name": "stdout",
     "output_type": "stream",
     "text": [
      "\n",
      "(\"Allosaurus\", \"is classified as\", \"an allosaurid\")\n",
      "(\"Allosaurus\", \"has a genus\", \"with 5-6 valid species\")\n",
      "(\"Allosaurus\", \"has a best known species of\", \"A. fragilis\")\n",
      "(\"Allosaurus\", \"has remains from\", \"North America's Morrison Formation\")\n",
      "(\"Allosaurus\", \"was known as\", \"Antrodemus\")\n",
      "(\"Allosaurus\", \"has a skull\", \"equipped with dozens of sharp, serrated teeth\")\n",
      "(\"Allosaurus\", \"averaged\", \"9.5 metres (31 ft) in length\")\n",
      "(\"Allosaurus\", \"has only\", \"three-fingered forelimbs\")\n",
      "(\"Allosaurus\", \"has a balanced body with\", \"a long and heavily muscled tail\")\n",
      "-\n"
     ]
    },
    {
     "name": "stderr",
     "output_type": "stream",
     "text": [
      "  9%|█████████████▎                                                                                                                                         | 69/780 [10:49<1:26:06,  7.27s/it]"
     ]
    },
    {
     "name": "stdout",
     "output_type": "stream",
     "text": [
      "\n",
      "(\"Helper monkeys\", \"are usually trained in\", \"schools\")\n",
      "(\"Helper monkeys\", \"are trained by\", \"private organizations\")\n",
      "(\"Helper monkeys\", \"take\", \"seven years to train\")\n",
      "(\"Helper monkeys\", \"are able to serve\", \"25–30 years\")\n",
      "(\"Helper monkeys\", \"serve two to three times longer than\", \"guide dog\")\n",
      "-\n"
     ]
    },
    {
     "name": "stderr",
     "output_type": "stream",
     "text": [
      "  9%|█████████████▌                                                                                                                                         | 70/780 [10:53<1:15:57,  6.42s/it]"
     ]
    },
    {
     "name": "stdout",
     "output_type": "stream",
     "text": [
      "\n",
      "(\"Takeru Kobayashi\", \"is\", \"famous\")\n",
      "(\"Joey Chestnut\", \"is\", \"famous\")\n",
      "(\"2019 contest\", \"defending men's champion\", \"Joey Chestnut\")\n",
      "(\"Joey Chestnut\", \"ate\", \"71 hot dogs in the 2019 contest\")\n",
      "(\"contest\", \"has gained public attention in recent years\", \"true\")\n",
      "-\n"
     ]
    },
    {
     "name": "stderr",
     "output_type": "stream",
     "text": [
      "  9%|█████████████▋                                                                                                                                         | 71/780 [11:01<1:20:19,  6.80s/it]"
     ]
    },
    {
     "name": "stdout",
     "output_type": "stream",
     "text": [
      "\n",
      "(\"larynx\", \"is used to generate\", \"source sound\")\n",
      "(\"larynx\", \"has a similar function to\", \"the lungs\")\n",
      "(\"source sound\",\"altered as it travels through\", \"the vocal tract\")\n",
      "(\"vocal tract\",\"configured differently based on\", \"position of the tongue, lips, mouth, and pharynx\")\n",
      "(\"altering source sound\",\"creates\", \"vowel and consonant sounds of the world's languages\")\n",
      "(\"altering source sound\",\"creates\", \"tone, certain realizations of stress, and other types of linguistic prosody\") \n",
      "(\"larynx\",\"can be raised or lowered\", \"affecting the volume of the oral cavity\")\n",
      "-\n"
     ]
    },
    {
     "name": "stderr",
     "output_type": "stream",
     "text": [
      "  9%|█████████████▉                                                                                                                                         | 72/780 [11:11<1:31:12,  7.73s/it]"
     ]
    },
    {
     "name": "stdout",
     "output_type": "stream",
     "text": [
      "\n",
      "(\"Red panda\", \"lives between\", \"2,200 and 4,800 m (7,200 and 15,700 ft) altitude\")\n",
      "(\"Red panda\", \"inhabits areas of\", \"moderate temperature between 10 and 25 °C (50 and 77 °F)\")\n",
      "(\"Red panda\", \"has little annual change in\", \"temperature\")\n",
      "(\"Red panda\", \"prefers\", \"mountainous mixed deciduous and conifer forests\")\n",
      "(\"Red panda\", \"prefers forests with\", \"old trees\")\n",
      "(\"Red panda\", \"prefers forests with\", \"dense understories of bamboo\")\n",
      "-\n"
     ]
    },
    {
     "name": "stderr",
     "output_type": "stream",
     "text": [
      "  9%|██████████████▏                                                                                                                                        | 73/780 [11:15<1:19:49,  6.77s/it]"
     ]
    },
    {
     "name": "stdout",
     "output_type": "stream",
     "text": [
      "\n",
      "(\"Wolverines\", \"have potent anal scent glands\", \"used for marking territory and sexual signaling\")\n",
      "(\"Wolverines\", \"have the nickname\", \"skunk bear\")\n",
      "(\"Wolverines\", \"have the nickname\", \"nasty cat\")\n",
      "(\"Wolverines\", \"have a special upper molar\", \"rotated 90 degrees towards the inside of the mouth\")\n",
      "(\"Wolverines\", \"can tear off meat from\", \"prey or carrion that has been frozen solid\")\n",
      "-\n"
     ]
    },
    {
     "name": "stderr",
     "output_type": "stream",
     "text": [
      "  9%|██████████████▎                                                                                                                                        | 74/780 [11:24<1:26:34,  7.36s/it]"
     ]
    },
    {
     "name": "stdout",
     "output_type": "stream",
     "text": [
      "\n",
      "(\"garlic\", \"is regarded as\", \"a force for both good and evil\")\n",
      "(\"Europe\", \"uses garlic for\", \"protection or white magic\")\n",
      "(\"Folk medicine\", \"reputation in\", \"Central European folk beliefs\")\n",
      "(\"Garlic\", \"is consider a powerful ward against\", \"demons, werewolves, and vampires\")\n",
      "(\"Vampires\", \"can be warded off with\", \"garlic\")\n",
      "(\"Garlic\", \"can be\", \"worn, hung in windows, or rubbed on chimneys and keyholes\")\n",
      "-\n"
     ]
    },
    {
     "name": "stderr",
     "output_type": "stream",
     "text": [
      " 10%|██████████████▌                                                                                                                                        | 75/780 [11:33<1:33:18,  7.94s/it]"
     ]
    },
    {
     "name": "stdout",
     "output_type": "stream",
     "text": [
      "\n",
      "(\"Their main food\", \"is\", \"bottom-dwelling insects and insect larvae and various worms\")\n",
      "(\"Their main food\", \"also includes\", \"some vegetable matter\")\n",
      "(\"No corys\", \"are\", \"piscivorous\")\n",
      "(\"They\", \"will eat\", \"flesh from dead fishes\")\n",
      "(\"Their feeding method\", \"is\",  \"to search the bottom with their sensory barbels and suck up food items with their mouth\")\n",
      "(\"Their feeding method\", \"often involves\", \"burying their snout up to their eyes\")\n",
      "-\n"
     ]
    },
    {
     "name": "stderr",
     "output_type": "stream",
     "text": [
      " 10%|██████████████▋                                                                                                                                        | 76/780 [11:45<1:45:25,  8.98s/it]"
     ]
    },
    {
     "name": "stdout",
     "output_type": "stream",
     "text": [
      "\n",
      "(\"Cephalopods\", \"have the most highly developed\", \"nervous systems among invertebrates\")\n",
      "(\"Squids\", \"have a complex brain in the form of\", \"a nerve ring encircling the oesophagus\")\n",
      "(\"Nerve ring\", \"is enclosed in\", \"a cartilaginous cranium\")\n",
      "(\"Paired cerebral ganglia\", \"receive sensory information from\", \"the eyes and statocysts\")\n",
      "(\"Ganglia\", \"below control\", \"the muscles of the mouth, foot, mantle and viscera\")\n",
      "(\"Giant axons\", \"convey nerve messages with great rapidity to\", \"the circular muscles of the mantle wall\")\n",
      "(\"Giant axons\", \"allow\", \"synchronous, powerful contraction and maximum speed in the jet propulsion system\")\n",
      "-\n"
     ]
    },
    {
     "name": "stderr",
     "output_type": "stream",
     "text": [
      " 10%|██████████████▉                                                                                                                                        | 77/780 [11:57<1:55:54,  9.89s/it]"
     ]
    },
    {
     "name": "stdout",
     "output_type": "stream",
     "text": [
      "\n",
      "(\"koala\", \"was previously classified as\", \"Least Concern on the Red List\")\n",
      "(\"koala\", \"was uplisted to\", \"Vulnerable in 2016\")\n",
      "(\"Australian policy makers\", \"declined\", \"a 2009 proposal to include the koala in the Environment Protection and Biodiversity Conservation Act 1999\")\n",
      "(\"Australian government\", \"listed koala populations in Queensland and New South Wales as\", \"Vulnerable\")\n",
      "(\"Australian government\", \"cited reason as\", \"40% population decline in the former and a 33% decline in the latter\")\n",
      "(\"WWF report\", \"found a decline per generation in Queensland as\", \"53%\")\n",
      "(\"WWF report\", \"found a decline per generation in New South Wales as\", \"26%\")\n",
      "(\"populations in Victoria and South Australia\", \"appear to be\", \"abundant\")\n",
      "(\"Australian Koala Foundation\", \"argues\", \"total koala population is probably less than 100,000\")\n",
      "-\n"
     ]
    },
    {
     "name": "stderr",
     "output_type": "stream",
     "text": [
      " 10%|███████████████                                                                                                                                        | 78/780 [12:03<1:44:06,  8.90s/it]"
     ]
    },
    {
     "name": "stdout",
     "output_type": "stream",
     "text": [
      "\n",
      "(\"Many mammals and other animals\", \"have\", \"grasping appendages\")\n",
      "(\"grasping appendages\", \"are similar in form to\", \"a hand\")\n",
      "(\"grasping appendages\", \"include\", \"paws, claws, and talons\")\n",
      "(\"grasping hands\", \"are not\", \"scientifically considered to be true grasping hands\")\n",
      "(\"scientific use of the term hand\", \"distinguishes\", \"the terminations of the front paws from the hind ones\")\n",
      "(\"true grasping hands\", \"appear in\", \"the mammalian order of primates\")\n",
      "(\"hands\", \"must have\", \"opposable thumbs\")\n",
      "-\n"
     ]
    },
    {
     "name": "stderr",
     "output_type": "stream",
     "text": [
      " 10%|███████████████▎                                                                                                                                       | 79/780 [12:08<1:30:09,  7.72s/it]"
     ]
    },
    {
     "name": "stdout",
     "output_type": "stream",
     "text": [
      "\n",
      "(\"cigar\", \"is a\", \"rolled bundle of dried and fermented tobacco\")\n",
      "(\"cigar\", \"is made up of\", \"three distinct components\")\n",
      "(\"three components\", \"are\", \"filler, binder, and wrapper\")\n",
      "(\"cigar\", \"often has\", \"a cigar band\")\n",
      "(\"cigar\", \"often comes with\", \"2 bands\")\n",
      "(\"2 bands\", \"are often\", \"Limited Edition (Edición Limitada) bands displaying the year of production\")\n",
      "-\n"
     ]
    },
    {
     "name": "stderr",
     "output_type": "stream",
     "text": [
      " 10%|███████████████▍                                                                                                                                       | 80/780 [12:23<1:55:24,  9.89s/it]"
     ]
    },
    {
     "name": "stdout",
     "output_type": "stream",
     "text": [
      "\n",
      "(\"Disgust\", \"described by\", \"Middle French desgouster\")\n",
      "(\"Disgust\", \"has a root word of\", \"goust\")\n",
      "(\"Disgust\", \"is an emotional response of\", \"rejection or revulsion\")\n",
      "(\"Disgust\", \"is experienced primarily in relation to\", \"the sense of taste\")\n",
      "(\"Disgust\", \"is experienced secondarily to\", \"anything which causes a similar feeling by sense of smell, touch, or vision\")\n",
      "(\"Disgust\", \"is studied by Charles Darwin\", \"in The Expression of the Emotions in Man and Animals\")\n",
      "(\"Charles Darwin\", \"writes that\", \"disgust is a sensation that refers to something revolting\")\n",
      "(\"Disgust\", \"has a relationship with\", \"anxiety disorders\")\n",
      "(\"Anxiety disorders\", \"include\", \"arachnophobia, blood-injection-injury type phobias, and contamination fear related OCD\")\n",
      "-\n"
     ]
    },
    {
     "name": "stderr",
     "output_type": "stream",
     "text": [
      " 10%|███████████████▋                                                                                                                                       | 81/780 [12:31<1:48:01,  9.27s/it]"
     ]
    },
    {
     "name": "stdout",
     "output_type": "stream",
     "text": [
      "\n",
      "(\"Hypothermia\", \"is defined as\", \"a body core temperature below 35.0 °C (95.0 °F) in humans\")\n",
      "(\"Hypothermia\", \"has symptoms that\", \"depend on the temperature\")\n",
      "(\"Mild Hypothermia\", \"has symptoms of\", \"shivering and mental confusion\")\n",
      "(\"Moderate Hypothermia\", \"has symptoms of\", \"shivering stopping and confusion increasing\")\n",
      "(\"Severe Hypothermia\", \"has symptoms of\", \"paradoxical undressing and increased risk of the heart stopping\")\n",
      "-\n"
     ]
    },
    {
     "name": "stderr",
     "output_type": "stream",
     "text": [
      " 11%|███████████████▊                                                                                                                                       | 82/780 [12:44<2:01:23, 10.43s/it]"
     ]
    },
    {
     "name": "stdout",
     "output_type": "stream",
     "text": [
      "\n",
      "(\"dogs\", \"are\", \"popular pets\")\n",
      "(\"cats\", \"are\", \"popular pets\")\n",
      "(\"ailurophile\", \"is the technical term for\", \"cat lover\")\n",
      "(\"cynophile\", \"is the technical term for\", \"dog lover\")\n",
      "(\"rabbits\", \"are\", \"commonly kept animals\")\n",
      "(\"ferrets\", \"are\", \"commonly kept animals\")\n",
      "(\"pigs\", \"are\", \"commonly kept animals\")\n",
      "(\"gerbils\", \"are\", \"rodents\")\n",
      "(\"hamsters\", \"are\", \"rodents\")\n",
      "(\"chinchillas\", \"are\", \"rodents\")\n",
      "(\"rats\", \"are\", \"rodents\")\n",
      "(\"mice\", \"are\", \"rodents\")\n",
      "(\"guinea pigs\", \"are\", \"rodents\")\n",
      "(\"parrots\", \"are\", \"avian pets\")\n",
      "(\"passerines\", \"are\", \"avian pets\")\n",
      "(\"fowls\", \"are\", \"avian pets\")\n",
      "(\"turtles\", \"are\", \"reptile pets\")\n",
      "(\"alligators\", \"are\", \"reptile pets\")\n",
      "(\"crocodiles\", \"are\", \"reptile pets\")\n",
      "(\"lizards\", \"are\", \"reptile pets\")\n",
      "(\"snakes\", \"are\", \"reptile pets\")\n",
      "(\"fish\", \"are\", \"aquatic pets\")\n",
      "\n",
      "-\n"
     ]
    },
    {
     "name": "stderr",
     "output_type": "stream",
     "text": [
      " 11%|████████████████                                                                                                                                       | 83/780 [13:03<2:28:57, 12.82s/it]"
     ]
    },
    {
     "name": "stdout",
     "output_type": "stream",
     "text": [
      "\n",
      "(\"Sun bear\", \"are\", \"shy and reclusive animals\")\n",
      "(\"Sun bear\", \"do not attack humans\", \"unless provoked to do so, or if they are injured or with their cubs\")\n",
      "(\"Sun bear\", \"have a timid nature\", \"which led them to be tamed often and kept as pets in the past\")\n",
      "(\"Sun bear\", \"are usually seen in\", \"pairs (such as mothers and cubs)\")\n",
      "(\"Sun bear\", \"stand on their hindfeet\", \"for a broader view of their surroundings\")\n",
      "(\"Sun bear\", \"try to intimidate their enemies\", \"by displaying the chest patch if threatened\")\n",
      "(\"Sun bear\", \"are noted for their intelligence\", \"a captive bear observed sugar being stored in a cupboard then locked by a key, and later used its own claw to open the lock\")\n",
      "(\"Sun bear\", \"make vocalisations\", \"grunts and snuffles while foraging for insects, and roars similar to those of a male orangutan during the breeding season\")\n",
      "(\"Sun bear\", \"may give out short barks\", \"like a rhinoceros when they are surprised\")\n",
      "(\"Sun bear\", \"do not seem to hibernate\", \"possibly because food resources are available the whole year throughout the range\")\n",
      "(\"Sun bear\", \"occupy home ranges of varying sizes\", \"in different areas, ranging from 7 to 27 km2 (\n",
      "-\n"
     ]
    },
    {
     "name": "stderr",
     "output_type": "stream",
     "text": [
      " 11%|████████████████▎                                                                                                                                      | 84/780 [13:22<2:52:32, 14.87s/it]"
     ]
    },
    {
     "name": "stdout",
     "output_type": "stream",
     "text": [
      "\n",
      "(\"batter\", \"contains\", \"eggs\")\n",
      "(\"batter\", \"contains\", \"flour\")\n",
      "(\"batter\", \"contains\", \"milk\")\n",
      "(\"batter\", \"contains\", \"leavening agent\")\n",
      "(\"leavening agent\", \"is\", \"baking powder\")\n",
      "(\"batter\", \"can have\", \"buttermilk\")\n",
      "(\"batter\", \"can have\", \"blueberries\")\n",
      "(\"batter\", \"can have\", \"strawberries\")\n",
      "(\"batter\", \"can have\", \"bananas\")\n",
      "(\"batter\", \"can have\", \"apples\")\n",
      "(\"batter\", \"can have\", \"chocolate chips\")\n",
      "(\"batter\", \"can have\", \"cheese\")\n",
      "(\"batter\", \"can have\", \"sugar\")\n",
      "(\"batter\", \"can have\", \"spices\")\n",
      "(\"spices\", \"are\", \"cinnamon\")\n",
      "(\"spices\", \"are\", \"vanilla\")\n",
      "(\"spices\", \"are\", \"nutmeg\")\n",
      "(\"batter\", \"can use\", \"yogurt\")\n",
      "(\"pancakes\", \"are\", \"⅓ inch (1 cm) thick\")\n",
      "(\"pancakes\", \"are\", \"4 inches (10 cm) in diameter\")\n",
      "-\n"
     ]
    },
    {
     "name": "stderr",
     "output_type": "stream",
     "text": [
      " 11%|████████████████▍                                                                                                                                      | 85/780 [13:36<2:48:05, 14.51s/it]"
     ]
    },
    {
     "name": "stdout",
     "output_type": "stream",
     "text": [
      "\n",
      "(\"Albarn\", \"formed\", \"Gorillaz\")\n",
      "(\"Albarn\", \"is the permanent musical contributor to\", \"Gorillaz\")\n",
      "(\"Gorillaz\", \"was formed in\", \"1998\")\n",
      "(\"Gorillaz\", \"was co-created with\", \"comic book artist Jamie Hewlett\")\n",
      "(\"Gorillaz\", \"draws influences from\", \"hip hop, dub, pop, trip hop, and world music\")\n",
      "(\"Gorillaz\", \"released their first album in\", \"2001\")\n",
      "(\"Gorillaz\", \"has released other albums\", \"Demon Days, Plastic Beach, The Fall, Humanz, The now Now\")\n",
      "(\"Gorillaz\", \"is cited by\", \"Guiness Book of World Records as the 'most successful virtual band'\")\n",
      "(\"Albarn\", \"has the other projects\", \"The Good, The Bad & The Queen, Rocket Juice & the Moon, working with non-profit organization Africa Express, composing film soundtracks, Monkey: Journey to the West, Dr. Dee, Wonder.land\")\n",
      "(\"Albarn\", \"released his debut solo studio album in\", \"2014\")\n",
      "-\n"
     ]
    },
    {
     "name": "stderr",
     "output_type": "stream",
     "text": [
      " 11%|████████████████▋                                                                                                                                      | 86/780 [13:42<2:19:57, 12.10s/it]"
     ]
    },
    {
     "name": "stdout",
     "output_type": "stream",
     "text": [
      "\n",
      "(\"front\", \"determines\", \"back\")\n",
      "(\"illness\", \"leads to\", \"health\")\n",
      "(\"tragedy\", \"turns into\", \"comedy\")\n",
      "(\"disasters\", \"can be\", \"blessings\")\n",
      "(\"yin\", \"is\", \"black side\")\n",
      "(\"yang\", \"is\", \"white side\")\n",
      "(\"yin\", \"is described as\", \"shady place or north slope\")\n",
      "(\"yang\", \"is described as\", \"sunny place or south slope\")\n",
      "(\"yin\", \"and yang\", \"trade places with each other\")\n",
      "-\n"
     ]
    },
    {
     "name": "stderr",
     "output_type": "stream",
     "text": [
      " 11%|████████████████▊                                                                                                                                      | 87/780 [13:56<2:23:33, 12.43s/it]"
     ]
    },
    {
     "name": "stdout",
     "output_type": "stream",
     "text": [
      "\n",
      "(\"Nuvuk Point\", \"coordinates of\", \"62°21′N 78°06′W﻿ / ﻿62.350°N 78.100°W﻿ / 62.350; -78.100\")\n",
      "(\"Nuvuk Point\", \"to\", \"Leyson Point\")\n",
      "(\"Leyson Point\", \"on\", \"Southampton Island\")\n",
      "(\"Southern and Western shores of Southampton Island\", \"to\", \"its Northern extremity\")\n",
      "(\"Northern extremity\", \"to\", \"Beach Point\")\n",
      "(\"Beach Point\", \"coordinates of\", \"66°03′N 86°06′W﻿ / ﻿66.050°N 86.100°W﻿ / 66.050; -86.100\")\n",
      "(\"Northern Hudson Bay\", \"climate type\", \"polar (Köppen: ET)\")\n",
      "(\"Northern Hudson Bay\", \"one of the few places in the world\", \"south of 60 °N\")\n",
      "(\"Inukjuak, Quebec\", \"climate type\", \"tundra\")\n",
      "(\"Arviat, Nunavut\", \"to\", \"south and southeast\")\n",
      "(\"south and southeast\", \"climate type\", \"subarctic (Köppen: Dfc)\")\n",
      "(\"James Bay area\", \"climate type\", \"humid continental (Köppen: Dfb)\")\n",
      "(\"James Bay\n",
      "-\n"
     ]
    },
    {
     "name": "stderr",
     "output_type": "stream",
     "text": [
      " 11%|█████████████████                                                                                                                                      | 88/780 [14:07<2:18:25, 12.00s/it]"
     ]
    },
    {
     "name": "stdout",
     "output_type": "stream",
     "text": [
      "\n",
      "(\"Elephas celebensis\", \"descended from\", \"Elephas planifrons\")\n",
      "(\"Palaeoloxodon falconeri\", \"evolved from\", \"the straight-tusked elephant\")\n",
      "(\"Dwarf elephants\", \"lived in\", \"Crete, Cyclades, and Dodecanese\")\n",
      "(\"Dwarf mammoths\", \"lived in\", \"Sardinia\")\n",
      "(\"Columbian mammoth\", \"colonised\", \"the Channel Islands\")\n",
      "(\"Columbian mammoth\", \"evolved into\", \"the pygmy mammoth\")\n",
      "(\"Pygmy mammoth\", \"reached a height of\", \"120–180 cm\")\n",
      "(\"Pygmy mammoth\", \"weighed\", \"200–2,000 kg\")\n",
      "(\"Wrangel Island\", \"was home to\", \"a population of small woolly mammoths\")\n",
      "(\"Small woolly mammoths\", \"survived until\", \"4,000 years ago\")\n",
      "(\"Small woolly mammoths\", \"are no longer considered to be\", \"true 'dwarf mammoths'\")\n",
      "-\n"
     ]
    },
    {
     "name": "stderr",
     "output_type": "stream",
     "text": [
      " 11%|█████████████████▏                                                                                                                                     | 89/780 [14:16<2:10:31, 11.33s/it]"
     ]
    },
    {
     "name": "stdout",
     "output_type": "stream",
     "text": [
      "\n",
      "(\"Sharks\", \"are\", \"opportunistic feeders\")\n",
      "(\"Bull Shark\", \"is a part of\", \"Carcharhinus family of sharks\")\n",
      "(\"Sharks\", \"eat in\", \"short bursts\")\n",
      "(\"Sharks\", \"digest for\", \"a much longer period when food is scarce\")\n",
      "(\"Bull Sharks\", \"use the tactic\" ,\"regurgitate food to escape from a predator\")\n",
      "(\"Regurgitating food\", \"is a\", \"distraction tactic\")\n",
      "(\"Bull Sharks\", \"use\", \"opportunity to escape when predator moves to eat food\")\n",
      "-\n"
     ]
    },
    {
     "name": "stderr",
     "output_type": "stream",
     "text": [
      " 12%|█████████████████▍                                                                                                                                     | 90/780 [14:31<2:20:12, 12.19s/it]"
     ]
    },
    {
     "name": "stdout",
     "output_type": "stream",
     "text": [
      "\n",
      "(\"Peloponnese\", \"consists of\", \"Laconia, Messenia, Elis, Achaia, Korinthia, Argolis, Arcadia\")\n",
      "(\"Mainland Greece\", \"consists of\", \"Aetolia and Acarnania, Locris, Doris, and Phocis\")\n",
      "(\"Mainland Greece\", \"consists of\", \"Boeotia, Attica, and Megaris\")\n",
      "(\"Thessaly\", \"is located\", \"north-east of Mainland Greece\")\n",
      "(\"Epirus\", \"is located\", \"north-west of Mainland Greece\")\n",
      "(\"Epirus\", \"consists of\", \"Chaonia, Molossia, Thesprotia\")\n",
      "(\"Macedonia\", \"consists of\", \"Lower Macedonia, Elimeia, Pieria, Orestis, Upper Macedonia\")\n",
      "(\"Macedonia\", \"is bordered by\", \"Paeonians, Thracians, Illyrians\")\n",
      "(\"Chalcidice\", \"is settled by\", \"southern Greek colonists\")\n",
      "(\"Eastern shores of the Aegean\", \"are settled by\", \"substantial Greek settlement\")\n",
      "(\"Anatolia\", \"is invaded by\", \"Greek settlement\")\n",
      "-\n"
     ]
    },
    {
     "name": "stderr",
     "output_type": "stream",
     "text": [
      " 12%|█████████████████▌                                                                                                                                     | 91/780 [14:40<2:10:13, 11.34s/it]"
     ]
    },
    {
     "name": "stdout",
     "output_type": "stream",
     "text": [
      "\n",
      "(\"Badminton\", \"is a\", \"racquet sport\")\n",
      "(\"Badminton\", \"is played using\", \"racquets\")\n",
      "(\"Racquets\", \"are used to hit\", \"shuttlecock\")\n",
      "(\"Shuttlecock\", \"is hit across\", \"net\")\n",
      "(\"Badminton\", \"can be played in\", \"singles\")\n",
      "(\"Badminton\", \"can be played in\", \"doubles\")\n",
      "(\"Badminton\", \"is often played as\", \"casual outdoor activity in a yard or beach\")\n",
      "(\"Badminton\", \"is often played\", \"formally on a rectangular indoor court\")\n",
      "(\"Points\", \"are scored by\", \"striking the shuttlecock with the racquet and landing it within the opposing side's half of the court\")\n",
      "-\n"
     ]
    },
    {
     "name": "stderr",
     "output_type": "stream",
     "text": [
      " 12%|█████████████████▊                                                                                                                                     | 92/780 [14:52<2:10:40, 11.40s/it]"
     ]
    },
    {
     "name": "stdout",
     "output_type": "stream",
     "text": [
      "\n",
      "(\"Silver Persian\", \"attempted to be established as\", \"Sterling\")\n",
      "(\"Silver Persian\", \"is recognized as\", \"Silver and Golden Persians by CFA\")\n",
      "(\"Silver Persian\", \"attempted to be separated in South Africa\", \"Chinchilla Longhair\")\n",
      "(\"Chinchilla Longhair\", \"has\", \"a slightly longer nose than Persian\")\n",
      "(\"Chinchilla Longhair\", \"has hair\", \"that is translucent with only the tips carrying black pigment\")\n",
      "(\"Chinchilla Longhair\", \"is faulted\", \"for losing nose and lip liner when out-crossed\")\n",
      "(\"Chinchilla Longhair\", \"distinguishes itself by\", \"only having blue-green or green eye color with kittens having blue or blue-purple eye color\")\n",
      "-\n"
     ]
    },
    {
     "name": "stderr",
     "output_type": "stream",
     "text": [
      " 12%|██████████████████                                                                                                                                     | 93/780 [14:56<1:47:04,  9.35s/it]"
     ]
    },
    {
     "name": "stdout",
     "output_type": "stream",
     "text": [
      "\n",
      "(\"anesthesia\", \"is achieved by\", \"drugs\")\n",
      "(\"drugs\", \"act on\", \"different but interconnected parts of the nervous system\")\n",
      "(\"hypnosis\", \"is generated by\", \"actions on the nuclei in the brain\")\n",
      "(\"hypnosis\", \"is similar to\", \"the activation of sleep\")\n",
      "(\"hypnosis\", \"has an effect of\", \"making people less aware and less reactive to noxious stimuli\")\n",
      "-\n"
     ]
    },
    {
     "name": "stderr",
     "output_type": "stream",
     "text": [
      " 12%|██████████████████▏                                                                                                                                    | 94/780 [15:05<1:43:40,  9.07s/it]"
     ]
    },
    {
     "name": "stdout",
     "output_type": "stream",
     "text": [
      "\n",
      "(\"Domestic sale of rhinoceros horn in South Africa\", \"was banned as of\", \"2009\")\n",
      "(\"South Africa\", \"is home of\", \"80% of the remaining rhino population\")\n",
      "(\"Ban\", \"was overturned in\", \"a court case in 2017\")\n",
      "(\"South Africa\", \"plans to\", \"draft regulations for the sale of rhino horn\")\n",
      "(\"Regulations\", \"include\", \"export for 'non-commercial purposes'\")\n",
      "(\"South African government\", \"has proposed\", \"a legal trade of rhino horn\")\n",
      "(\"Proposal\", \"is argued to\", \"reduce poaching and prevent the extinction of this species\")\n",
      "-\n"
     ]
    },
    {
     "name": "stderr",
     "output_type": "stream",
     "text": [
      " 12%|██████████████████▍                                                                                                                                    | 95/780 [15:20<2:05:49, 11.02s/it]"
     ]
    },
    {
     "name": "stdout",
     "output_type": "stream",
     "text": [
      "\n",
      "(\"People for the Ethical Treatment of Animals\", \"is an\", \"American animal rights organization\")\n",
      "(\"People for the Ethical Treatment of Animals\", \"is based in\", \"Norfolk, Virginia\")\n",
      "(\"People for the Ethical Treatment of Animals\", \"is led by\", \"Ingrid Newkirk\")\n",
      "(\"People for the Ethical Treatment of Animals\", \"has nearly 400 employees\",)\n",
      "(\"People for the Ethical Treatment of Animals\", \"claims to have\", \"6.5 million members and supporters\")\n",
      "(\"People for the Ethical Treatment of Animals\", \"claims to be the\", \"largest animal rights group in the world\")\n",
      "(\"People for the Ethical Treatment of Animals\", \"has a slogan\", \"Animals are not ours to eat, wear, experiment on, use for entertainment, or abuse in any other way\")\n",
      "-\n"
     ]
    },
    {
     "name": "stderr",
     "output_type": "stream",
     "text": [
      " 12%|██████████████████▌                                                                                                                                    | 96/780 [15:25<1:45:05,  9.22s/it]"
     ]
    },
    {
     "name": "stdout",
     "output_type": "stream",
     "text": [
      "\n",
      "(\"ocean sunfish\", \"scientific name\", \"Mola mola\")\n",
      "(\"ocean sunfish\", \"weight\", \"247–1,000 kg\")\n",
      "(\"ocean sunfish\", \"native to\", \"tropical and temperate waters around the world\")\n",
      "(\"ocean sunfish\", \"shape\", \"resembles a fish head with a tail\")\n",
      "(\"ocean sunfish\", \"flattened\", \"laterally\")\n",
      "(\"ocean sunfish\" \"as tall as they are long\", \"when their dorsal and ventral fins are extended\")\n",
      "-\n"
     ]
    },
    {
     "name": "stderr",
     "output_type": "stream",
     "text": [
      " 12%|██████████████████▊                                                                                                                                    | 97/780 [15:30<1:29:56,  7.90s/it]"
     ]
    },
    {
     "name": "stdout",
     "output_type": "stream",
     "text": [
      "\n",
      "(\"German Shepherd\", \"is officially known as\", \"German Shepherd Dog (GSD)\")\n",
      "(\"German Shepherd\", \"was officially known as\", \"Alsatian in the UK\")\n",
      "(\"German Shepherd\", \"originated in\", \"Germany\")\n",
      "(\"German Shepherd\", \"dates back to\", \"1899\")\n",
      "-\n"
     ]
    },
    {
     "name": "stderr",
     "output_type": "stream",
     "text": [
      " 13%|██████████████████▉                                                                                                                                    | 98/780 [15:41<1:41:41,  8.95s/it]"
     ]
    },
    {
     "name": "stdout",
     "output_type": "stream",
     "text": [
      "\n",
      "(\"Kazakhstan\", \"has a border of\", \"1900 km\")\n",
      "(\"Turkmenistan\", \"has a border of\", \"1768 km\")\n",
      "(\"Azerbaijan\", \"has a border of\", \"1355 km\")\n",
      "(\"Russia\", \"has a border of\", \"820 km\")\n",
      "(\"Iran\", \"has a border of\", \"657 km\")\n",
      "(\"Caspian Sea\", \"has a surface area of\", \"143,244 square miles (371,000 square kilometers)\")\n",
      "(\"Caspian Sea\", \"has a maximum depth of\", \"3,363 feet (1,025 meters)\")\n",
      "(\"Caspian Sea\", \"has an average depth of\", \"692 feet (211 m)\")\n",
      "(\"Caspian Sea\", \"has a length of\", \"640 miles (1,030 km)\")\n",
      "(\"Caspian Sea\", \"has a maximum width of\", \"270 miles (435 km)\")\n",
      "(\"Caspian Sea\", \"has a minimum width of\", \"124 miles (200 km)\")\n",
      "(\"Caspian Sea\", \"has a coastline area of\", \"4,237 miles (6,820 km)\")\n",
      "(\"Caspian Sea\", \"has a water volume of\", \"18,761 cubic miles (78,200 cubic km)\")\n",
      "(\"Caspian Sea\", \"has an altitude of\", \"72 feet below sea level (\n",
      "-\n"
     ]
    },
    {
     "name": "stderr",
     "output_type": "stream",
     "text": [
      " 13%|███████████████████▏                                                                                                                                   | 99/780 [15:52<1:48:43,  9.58s/it]"
     ]
    },
    {
     "name": "stdout",
     "output_type": "stream",
     "text": [
      "\n",
      "(\"Venus\", \"has an atmosphere composed of\", \"96.5% carbon dioxide, 3.5% nitrogen, and traces of other gases including sulfur dioxide\")\n",
      "(\"Venus' atmosphere\", \"mass of is\", \"93 times that of Earth's\")\n",
      "(\"Venus' atmosphere\", \"pressure at its surface is about\", \"92 times that at Earth's\")\n",
      "(\"Venus' atmosphere\", \"density at surface is\", \"65 kg/m3\")\n",
      "(\"CO2-rich atmosphere\", \"generates the strongest\", \"greenhouse effect in the Solar System\")\n",
      " (\"Venus' surface\", \"temperature is at least\", \"735 K\")\n",
      "(\"Venus' surface\", \"temperature is hotter than\", \"Mercury's\")\n",
      "(\"Venus' surface\", \"temperature is higher than\", \"temperature used for sterilization\")\n",
      "-\n"
     ]
    },
    {
     "name": "stderr",
     "output_type": "stream",
     "text": [
      " 13%|███████████████████▏                                                                                                                                  | 100/780 [16:00<1:42:19,  9.03s/it]"
     ]
    },
    {
     "name": "stdout",
     "output_type": "stream",
     "text": [
      "\n",
      "(\"Hippos\", \"appear to communicate\", \"vocally\")\n",
      "(\"Hippos\", \"practice\", \"echolocation\")\n",
      "(\"Purpose of hippo vocalisations\", \"is currently\", \"unknown\")\n",
      "(\"Hippos\", \"have the ability\", \"to hold their heads partially above the water and send out a cry\")\n",
      "(\"Hippos\", \"send out a cry that travels\", \"through both water and air\")\n",
      "(\"Hippos\", \"responds\", \"above and under water\")\n",
      "(\"Hippos\", \"express threat and alarm with\", \"exhalations\")\n",
      "-\n"
     ]
    },
    {
     "name": "stderr",
     "output_type": "stream",
     "text": [
      " 13%|███████████████████▍                                                                                                                                  | 101/780 [16:08<1:37:16,  8.60s/it]"
     ]
    },
    {
     "name": "stdout",
     "output_type": "stream",
     "text": [
      "\n",
      "(\"Great Salt Lake\", \"is located in\", \"northern part of US state of Utah\")\n",
      "(\"Great Salt Lake\", \"is the largest\", \"salt water lake in the Western Hemisphere\")\n",
      "(\"Great Salt Lake\", \"is the 8th largest\", \"terminal lake in the world\")\n",
      "(\"Great Salt Lake\", \"covers an area\",  \"approximately 1,700 square miles in an average year\")\n",
      "(\"Great Salt Lake\", \"reached lowest recorded size of\", \"950 square miles in 1963\")\n",
      "(\"Great Salt Lake\", \"reached its highest size of\", \"3,300 square miles in 1988\")\n",
      "(\"Great Salt Lake\", \"is the largest lake in US not part of\", \"the Great Lakes region\")\n",
      "-\n"
     ]
    },
    {
     "name": "stderr",
     "output_type": "stream",
     "text": [
      " 13%|███████████████████▌                                                                                                                                  | 102/780 [16:16<1:34:42,  8.38s/it]"
     ]
    },
    {
     "name": "stdout",
     "output_type": "stream",
     "text": [
      "\n",
      "(\"Kodiak Natives\", \"are traditionally known as\", \"Alutiiqs\")\n",
      "(\"Kodiak Natives\", \"hunted bears for\", \"food, clothing and tools\")\n",
      "(\"Kodiak Natives\", \"used\", \"arrows and spears\")\n",
      "(\"Kodiak Natives\", \"left bear heads in the field as\", \"a sign of respect to the spirit of the bears\")\n",
      "(\"Kodiak bears\", \"were commercially hunted throughout the 1800s\", \"with the price paid for a bear hide being comparable to that of beaver or river otter pelts\")\n",
      "(\"The price paid for a bear hide\", \"was about\", \"US$10\")\n",
      "-\n"
     ]
    },
    {
     "name": "stderr",
     "output_type": "stream",
     "text": [
      " 13%|███████████████████▊                                                                                                                                  | 103/780 [16:24<1:35:23,  8.45s/it]"
     ]
    },
    {
     "name": "stdout",
     "output_type": "stream",
     "text": [
      "\n",
      "(\"Bengal cat\", \"is a breed of\", \"domesticated cats\")\n",
      "(\"Bengal cat\", \"is created from hybrids of\", \"domestic cats\")\n",
      "(\"Bengal cat\", \"contains\", \"spotted Egyptian Mau\")\n",
      "(\"Bengal cat\", \"contains\", \"Asian leopard cat\")\n",
      "(\"Asian leopard cat\", \"has a taxonomic name of\", \"Prionailurus bengalensis\")\n",
      "(\"Bengal cat\", \"breed name comes from\", \"taxonomic name of Asian leopard cat\")\n",
      "-\n"
     ]
    },
    {
     "name": "stderr",
     "output_type": "stream",
     "text": [
      " 13%|████████████████████                                                                                                                                  | 104/780 [16:29<1:23:35,  7.42s/it]"
     ]
    },
    {
     "name": "stdout",
     "output_type": "stream",
     "text": [
      "\n",
      "(\"black swan\", \"is protected in\", \"New South Wales, Australia\")\n",
      "(\"black swan\", \"protected under\", \"the National Parks and Wildlife Act 1974 (s.5)\")\n",
      "(\"black swan\", \"evaluated as\", \"Least Concern on the IUCN Red List of Threatened Species\")\n",
      "-\n"
     ]
    },
    {
     "name": "stderr",
     "output_type": "stream",
     "text": [
      " 13%|████████████████████▏                                                                                                                                 | 105/780 [16:39<1:30:41,  8.06s/it]"
     ]
    },
    {
     "name": "stdout",
     "output_type": "stream",
     "text": [
      "\n",
      "(\"Autumn\", \"is another name for\", \"fall in North American English\")\n",
      "(\"Autumn\", \"is one of\", \"four temperate seasons\")\n",
      "(\"Autumn\", \"marks the transition from\", \"summer to winter\")\n",
      "(\"Autumn\", \"occurs in\", \"September (Northern Hemisphere) or March (Southern Hemisphere)\")\n",
      "(\"Autumn\", \"causes\", \"duration of daylight to become noticeably shorter\")\n",
      "(\"Autumn\", \"causes\", \"temperature to cools considerably\")\n",
      "(\"Autumn\", \"is characterized by\", \"the shedding of leaves from deciduous trees\")\n",
      "-\n"
     ]
    },
    {
     "name": "stderr",
     "output_type": "stream",
     "text": [
      " 14%|████████████████████▍                                                                                                                                 | 106/780 [16:50<1:41:28,  9.03s/it]"
     ]
    },
    {
     "name": "stdout",
     "output_type": "stream",
     "text": [
      "\n",
      "(\"Double shotguns\", \"are more safe\", \"as whether the shotgun is loaded or can be fired can be ascertained by anyone present\")\n",
      "(\"Double shotguns\", \"are more easily examined to see if loaded than\",\"pump or semi-automatic shotguns\")\n",
      "(\"Double shotguns\", \"have an easily seen load status\", \"with a glance\")\n",
      "(\"Double shotguns\", \"can easily be unloaded\", \"with a glance\")\n",
      "-\n"
     ]
    },
    {
     "name": "stderr",
     "output_type": "stream",
     "text": [
      " 14%|████████████████████▌                                                                                                                                 | 107/780 [16:59<1:42:15,  9.12s/it]"
     ]
    },
    {
     "name": "stdout",
     "output_type": "stream",
     "text": [
      "\n",
      "(\"Central Park\", \"is located in\", \"Manhattan, New York City\")\n",
      "(\"Central Park\", \"is located between\", \"Upper West Side\" and \"Upper East Side\")\n",
      "(\"Central Park\", \"covers\", \"843 acres (3.41 km2)\")\n",
      "(\"Central Park\", \"is the\", \"fifth-largest park in New York City by area\")\n",
      "(\"Central Park\", \"is the most visited urban park in\", \"the United States\")\n",
      "(\"Central Park\", \"has estimated annual visitors of\", \"37.5–38 million\")\n",
      "(\"Central Park\", \"is one of the most filmed locations in\", \"the world\")\n",
      "-\n"
     ]
    },
    {
     "name": "stderr",
     "output_type": "stream",
     "text": [
      " 14%|████████████████████▊                                                                                                                                 | 108/780 [17:18<2:12:49, 11.86s/it]"
     ]
    },
    {
     "name": "stdout",
     "output_type": "stream",
     "text": [
      "\n",
      "(\"Rhinoceros\", \"are killed by\", \"some humans\")\n",
      "(\"Rhinoceros horns\", \"are bought and sold on\", \"the black market\")\n",
      "(\"Rhinoceros horns\", \"are used by\", \"some cultures for ornaments or traditional medicine\")\n",
      "(\"East Asia\", \"is the largest market for\", \"rhino horns\")\n",
      "(\"Rhino horns\", \"cost as much as\", \"gold on the black market\")\n",
      "(\"People\", \"grind up the horns and consume them\", \"believing the dust has therapeutic properties\")\n",
      "(\"Horns\", \"are made of\", \"keratin\")\n",
      "(\"Keratin\", \"is the same type of protein that\", \"makes up hair and fingernails\")\n",
      "(\"African species\", \"have two horns\", \"\")\n",
      "(\"Sumatran rhinoceros\", \"have two horns\", \"\")\n",
      "(\"Indian rhinoceros\", \"have a single horn\", \"\")\n",
      "(\"Javan rhinoceros\", \"have a single horn\", \"\")\n",
      "(\"Black rhinoceros\", \"is identified as\", \"critically endangered by IUCN Red List\")\n",
      "(\"Javan rhinoceros\", \"is identified as\", \"critically endangered by IUCN Red List\")\n",
      "(\"Sumatran rhinoceros\", \"is identified as\", \"critically endangered by IUCN Red List\")\n",
      "-\n"
     ]
    },
    {
     "name": "stderr",
     "output_type": "stream",
     "text": [
      " 14%|████████████████████▉                                                                                                                                 | 109/780 [17:34<2:28:27, 13.28s/it]"
     ]
    },
    {
     "name": "stdout",
     "output_type": "stream",
     "text": [
      "\n",
      "(\"Dark Mark\", \"is the symbol of\", \"Voldemort and the Death Eaters\")\n",
      "(\"Dark Mark\", \"takes the form of\", \"a skull with a snake coming out of the mouth in place of a tongue\")\n",
      "(\"Dark Mark\", \"is cast in the sky\", \"whenever the Death Eaters have murdered someone\")\n",
      "(\"Morsmordre\", \"is the spell to\", \"conjure the Mark\")\n",
      "(\"Dark Mark\", \"is seen in\", \"Goblet of Fire\")\n",
      "(\"Dark Mark\", \"is described as\", \"a 'colossal skull, composed of what looked like emerald stars, with a serpent protruding from its mouth like a tongue'\")\n",
      "(\"Dark Mark\", \"once in the sky is\", \"blazing in a haze of greenish smoke\")\n",
      "(\"Dark Mark\", \"is branded on\", \"the left forearm of Voldemort's closest followers\")\n",
      "(\"Dark Mark\", \"serves as a connection between Voldemort and each who bears it\", \"Voldemort can summon them by touching his mark, causing it and those of his followers to burn and change colour\")\n",
      "(\"Death Eaters\", \"can summon Voldemort\", \"in the same fashion\")\n",
      "(\"Dark Mark\", \"fades into a scar following Voldemort's defeat\", \"similar to Harry's\")\n",
      "(\"Dark Mark\", \"is described as green in\", \"the books\")\n",
      "(\"Dark Mark\", \"is green in the\n",
      "-\n"
     ]
    },
    {
     "name": "stderr",
     "output_type": "stream",
     "text": [
      " 14%|█████████████████████▏                                                                                                                                | 110/780 [17:42<2:09:00, 11.55s/it]"
     ]
    },
    {
     "name": "stdout",
     "output_type": "stream",
     "text": [
      "\n",
      "(\"filmmakers\", \"went on a research trip to\", \"Norway\")\n",
      "(\"animators\", \"acquired knowledge from\", \"Norway research trip\")\n",
      "(\"knowledge\", \"influenced the design aesthetic for\", \"film in terms of color, light, and atmosphere\")\n",
      "(\"Giaimo\", \"named the three important factors acquired from the Norway research trip\", \"fjords, medieval stave churches, rosemaling folk art\")\n",
      "(\"fjords\", \"influenced\", \"the secluded kingdom of Arendelle\")\n",
      "(\"medieval stave churches\", \"inspired\", \"castle compound\")\n",
      "(\"rosemaling folk art\", \"informed\", \"architecture, decor, and costumes\")\n",
      "-\n"
     ]
    },
    {
     "name": "stderr",
     "output_type": "stream",
     "text": [
      " 14%|█████████████████████▎                                                                                                                                | 111/780 [17:57<2:22:26, 12.78s/it]"
     ]
    },
    {
     "name": "stdout",
     "output_type": "stream",
     "text": [
      "\n",
      "(\"Northern fur seals\", \"have\", \"extreme sexual dimorphism\")\n",
      "(\"Males\", \"are\", \"30–40% longer and more than 4.5 times heavier than adult females\")\n",
      "(\"Head\", \"is foreshortened in\", \"both sexes\")\n",
      "(\"Muzzle\", \"is very short and down-curved\", \"in both sexes\")\n",
      "(\"Nose\", \"extends slightly beyond the mouth in\", \"females\")\n",
      "(\"Nose\", \"extends moderately\", \"in males\")\n",
      "(\"Pelage\", \"is thick and luxuriant with a dense underfur in a creamy color\", \"in both sexes\")\n",
      "(\"Underfur\", \"is obscured by the longer guard hairs\", \"in both sexes\")\n",
      "(\"Fur\", \"is absent on top of the fore flippers\", \"in both sexes\")\n",
      "(\"Fur\", \"ends abruptly at a 'clean line' across the wrist\", \"in both sexes\")\n",
      "(\"Hind flippers\", \"proportionately longest in any otariid\", \"in both sexes\")\n",
      "(\"Digits 2-4\", \"have small claws\", \"in both sexes\")\n",
      "(\"Ear pinnae\", \"long and conspicuous, and naked of dark fur at the tips in older animals\", \"in both sexes\")\n",
      "(\"Mystacial vibrissae\", \"can be very long and regularly extend beyond the ears\", \"in both sexes\")\n",
      "(\"Ad\n",
      "-\n"
     ]
    },
    {
     "name": "stderr",
     "output_type": "stream",
     "text": [
      " 14%|█████████████████████▌                                                                                                                                | 112/780 [18:11<2:24:52, 13.01s/it]"
     ]
    },
    {
     "name": "stdout",
     "output_type": "stream",
     "text": [
      "\n",
      "(\"Manhattan\", \"is the most densely populated of\", \"the five boroughs of New York City\")\n",
      "(\"Manhattan\", \"coextensive with\", \"the County of New York\")\n",
      "(\"Manhattan\", \"is\", \"the city's economic and administrative center\")\n",
      "(\"Manhattan\", \"is\", \"the city's cultural identifier\")\n",
      "(\"Manhattan\", \"is\", \"the historical birthplace\")\n",
      "(\"Manhattan\", \"bounded by\", \"the Hudson, East, and Harlem rivers\")\n",
      "(\"Manhattan\", \"contains\", \"Marble Hill\")\n",
      "(\"Marble Hill\", \"connected using landfill to\", \"the Bronx\")\n",
      "(\"Marble Hill\", \"separated from\", \"the rest of Manhattan by the Harlem River\")\n",
      "(\"Manhattan Island\", \"divided into\", \"three informally bounded components\")\n",
      "-\n"
     ]
    },
    {
     "name": "stderr",
     "output_type": "stream",
     "text": [
      " 14%|█████████████████████▋                                                                                                                                | 113/780 [18:18<2:05:27, 11.29s/it]"
     ]
    },
    {
     "name": "stdout",
     "output_type": "stream",
     "text": [
      "\n",
      "(\"human hand\", \"normally has\", \"five digits\")\n",
      "(\"five digits\", \"consists of\", \"four fingers plus one thumb\")\n",
      "(\"five digits\", \"is often referred to as\", \"five fingers\")\n",
      "(\"five digits\", \"includes\", \"thumb\")\n",
      "(\"human hand\", \"has\", \"27 bones\")\n",
      "(\"27 bones\", \"includes\", \"phalanges\")\n",
      "(\"phalanges\", \"includes\", \"proximal, intermediate and distal\")\n",
      "(\"human hand\", \"has\", \"five metacarpals\")\n",
      "(\"human hand\", \"has\", \"eight carpal bones\")\n",
      "-\n"
     ]
    },
    {
     "name": "stderr",
     "output_type": "stream",
     "text": [
      " 15%|█████████████████████▉                                                                                                                                | 114/780 [18:35<2:22:25, 12.83s/it]"
     ]
    },
    {
     "name": "stdout",
     "output_type": "stream",
     "text": [
      "\n",
      "(\"21 to 26 inches\", \"is normally the junior racket range\", \"53 to 66 cm\")\n",
      "(\"27 inches\", \"for stronger more physically mature players\", \"69 cm\")\n",
      "(\"27.5 to 29 inches\", \"some racket lengths available\", \"70 to 74 cm\")\n",
      "(\"Gamma Big Bubba\", \"was produced with a length of\", \"32 inches (81 cm)\")\n",
      "(\"length restriction\", \"based on concern of\", \"making serve too dominant\")\n",
      "(\"length restriction\", \"has not been objectively tested\", \"to support concern\")\n",
      "(\"John Isner\", \"have longer arms\", \"than average professionals\")\n",
      "(\"length restriction\", \"more questionable\", \"for players like John Isner\")\n",
      "(\"players\", \"choose to use longest racket\", \"two-handed groundstrokes\")\n",
      "(\"Marion Bartoli\", \"example of two-handed groundstrokes user\", \"player not dominant in sport\")\n",
      "(\"length restriction\", \"seem even more unnecessary\", \"with players like Marion Bartoli\")\n",
      "(\"Prince\", \"attempt to market longer length 'longbody' rackets in 1990s\", \"standard length remained overwhelming choice of players\")\n",
      "(\"players who choose longer racket than 27 inches\", \"typically choose\", \"27.5 inches (70 cm) model\")\n",
      "(\"Dunlop\", \"introduced\", \"longer rackets\")\n",
      "-\n"
     ]
    },
    {
     "name": "stderr",
     "output_type": "stream",
     "text": [
      " 15%|██████████████████████                                                                                                                                | 115/780 [18:39<1:53:56, 10.28s/it]"
     ]
    },
    {
     "name": "stdout",
     "output_type": "stream",
     "text": [
      "\n",
      "(\"silverfish\", \"is a type of\", \"insect\")\n",
      "(\"silverfish\", \"belongs to the order\", \"Zygentoma\")\n",
      "(\"silverfish\", \"used to belong to the order\", \"Thysanura\")\n",
      "(\"silverfish\", \"is characterized by\", \"silvery light grey colour\")\n",
      "(\"silverfish\", \"has a fish-like\", \"movement\")\n",
      "(\"silverfish\", \"is named after\", \"its diet consisting of carbohydrates such as sugar or starches\")\n",
      "-\n"
     ]
    },
    {
     "name": "stderr",
     "output_type": "stream",
     "text": [
      " 15%|██████████████████████▎                                                                                                                               | 116/780 [18:48<1:50:52, 10.02s/it]"
     ]
    },
    {
     "name": "stdout",
     "output_type": "stream",
     "text": [
      "\n",
      "(\"Competition pools\", \"length\", \"Most pools in the world are measured in metres\")\n",
      "(\"Competition pools\", \"length\", \"but in the United States pools are often measured in feet and yards\")\n",
      "(\"Competition pools\", \"length\", \"In the UK most pools are calibrated in metres\")\n",
      "(\"Competition pools\", \"length\", \"but older pools measured in yards still exist\")\n",
      "(\"Competition pools\", \"length\", \"In the US, pools tend to either be 25 yards (SCY-short course yards), 25 metres (SCM-short course metres) or 50 metres (long course)\")\n",
      "(\"In the US\", \"high schools and the NCAA conduct\", \"short course (25 yards) competition\")\n",
      "(\"Pool dimension\", \"commonly used to accommodate water polo\", \"33⅓ m\")\n",
      "-\n"
     ]
    },
    {
     "name": "stderr",
     "output_type": "stream",
     "text": [
      " 15%|██████████████████████▌                                                                                                                               | 117/780 [19:00<1:55:43, 10.47s/it]"
     ]
    },
    {
     "name": "stdout",
     "output_type": "stream",
     "text": [
      "\n",
      "(\"African rock python\", \"is largest in\", \"Africa\")\n",
      "(\"African rock python\", \"is one of\", \"six largest snake species in the world\")\n",
      "(\"African rock python\", \"included with\", \"green anaconda, reticulated python, Burmese python, Indian python, and amethystine python\")\n",
      "(\"African rock python\", \"up to size of\", \"6m\")\n",
      "(\"African rock python\", \"found in\", \"variety of habitats\")\n",
      "(\"African rock python\", \"becomes dormant during\", \"dry season\")\n",
      "(\"African rock python\", \"kills prey by\", \"constriction\")\n",
      "(\"African rock python\", \"eats animals\", \"up to the size of antelope\")\n",
      "(\"African rock python\", \"reproduces by\", \"egg laying\")\n",
      "(\"African rock python\", \"female protects\", \"nest and sometimes hatchlings\")\n",
      "-\n"
     ]
    },
    {
     "name": "stderr",
     "output_type": "stream",
     "text": [
      " 15%|██████████████████████▋                                                                                                                               | 118/780 [19:06<1:42:06,  9.25s/it]"
     ]
    },
    {
     "name": "stdout",
     "output_type": "stream",
     "text": [
      "\n",
      "(\"World Wide Fund for Nature (WWF)\", \"was founded in\", \"1961\")\n",
      "(\"World Wide Fund for Nature (WWF)\", \"works in the field of\", \"wilderness preservation\")\n",
      "(\"World Wide Fund for Nature (WWF)\", \"works for reduction of human impact on\", \"the environment\")\n",
      "(\"World Wide Fund for Nature (WWF)\", \"former name is\", \"the World Wildlife Fund\")\n",
      "(\"World Wildlife Fund\", \"remains its official name in\", \"Canada and the United States\")\n",
      "-\n"
     ]
    },
    {
     "name": "stderr",
     "output_type": "stream",
     "text": [
      " 15%|██████████████████████▉                                                                                                                               | 119/780 [19:18<1:48:54,  9.89s/it]"
     ]
    },
    {
     "name": "stdout",
     "output_type": "stream",
     "text": [
      "\n",
      "(\"Incubation\", \"is the process by which\", \"certain oviparous animals hatch their eggs\")\n",
      "(\"Incubation\", \"refers to\", \"the development of the embryo within the egg\")\n",
      "(\"Incubation\", \"requires\", \"favorable environmental conditions\")\n",
      "(\"Incubation\", \"requires various\", \"factors\")\n",
      "(\"In reptiles\", \"temperature determines the\", \"sex ratio of the offspring\")\n",
      "(\"In birds\", \"sex of offspring\", \"is genetically determined\")\n",
      "(\"In birds\", \"temperature is necessary for\", \"successful incubation\")\n",
      "(\"In poultry\", \"the act of sitting on eggs to incubate them\", \"is called brooding\")\n",
      "(\"The action of sitting on eggs\", \"is also called\", \"broodiness\")\n",
      "(\"Most egg-laying breeds of poultry\", \"had broody behavior\", \"selectively bred out of them\")\n",
      "-\n"
     ]
    },
    {
     "name": "stderr",
     "output_type": "stream",
     "text": [
      " 15%|███████████████████████                                                                                                                               | 120/780 [19:28<1:49:08,  9.92s/it]"
     ]
    },
    {
     "name": "stdout",
     "output_type": "stream",
     "text": [
      "\n",
      "(\"Sea turtles\", \"are generally found in\", \"waters over continental shelves\")\n",
      "(\"Sea turtles\", \"spend most of their time in the first three to five years of life in\", \"the pelagic zone\")\n",
      "(\"Sea turtles\", \"float in\", \"seaweed mats\")\n",
      "(\"Green sea turtles\", \"are often found in\", \"Sargassum mats\")\n",
      "(\"Sea turtles\", \"in Sargassum mats find\", \"shelter food, and water\")\n",
      "(\"Sea turtles\", \"move closer to the shore when\", \"they reach adulthood\")\n",
      "(\"Females\", \"come ashore to lay their eggs on sandy beaches during\", \"the nesting season\")\n",
      "-\n"
     ]
    },
    {
     "name": "stderr",
     "output_type": "stream",
     "text": [
      " 16%|███████████████████████▎                                                                                                                              | 121/780 [19:38<1:48:56,  9.92s/it]"
     ]
    },
    {
     "name": "stdout",
     "output_type": "stream",
     "text": [
      "\n",
      "(\"Constitution\", \"came into force in\", \"1789\")\n",
      "(\"Constitution\", \"has been amended\", \"27 times\")\n",
      "(\"Constitution\", \"includes\", \"one amendment that repealed a previous one\")\n",
      "(\"Constitution\", \"meets the needs of a nation that has profoundly changed\", \"since the eighteenth century\")\n",
      "(\"Bill of Rights\", \"offers specific protections of\", \"individual liberty and justice\")\n",
      "(\"Bill of Rights\", \"places restrictions on\", \"the powers of government\")\n",
      "(\"17 later amendments\", \"expand individual civil rights protections\", \"true\")\n",
      "(\"17 later amendments\", \"address issues related to federal authority\", \"true\")\n",
      "(\"17 later amendments\", \"modify government processes and procedures\", \"true\")\n",
      "(\"Amendments to the United States Constitution\", \"are appended to the document\", \"true\")\n",
      "(\"U.S. Constitution\", \"is written on parchment\", \"true\")\n",
      "-\n"
     ]
    },
    {
     "name": "stderr",
     "output_type": "stream",
     "text": [
      " 16%|███████████████████████▍                                                                                                                              | 122/780 [19:50<1:55:52, 10.57s/it]"
     ]
    },
    {
     "name": "stdout",
     "output_type": "stream",
     "text": [
      "\n",
      "(\"gray whale\", \"scientific name is\", \"Eschrichtius robustus\")\n",
      "(\"gray whale\", \"also known as\", \"gray back whale, Pacific gray whale, or California gray whale\")\n",
      "(\"gray whale\", \"migrates between\", \"feeding and breeding grounds yearly\")\n",
      "(\"gray whale\", \"has a length of\", \"14.9 meters\")\n",
      "(\"gray whale\", \"has a weight of\", \"36 tonnes\")\n",
      "(\"gray whale\", \"lives between\", \"55 and 70 years\")\n",
      "(\"gray whale\", \"appears...\", \"gray patches and white mottling on its dark skin\")\n",
      "(\"gray whale\", \"was also called\", \"devil fish\")\n",
      "(\"gray whale\", \"is the sole living species in the genus\", \"Eschrichtius\")\n",
      "(\"Eschrichtius\", \"is the sole living genus in the family,\", \"Eschrichtiidae\")\n",
      "(\"gray whale\", \"descended from\", \"filter-feeding whales that appeared at the beginning of the Oligocene, over 30 million years ago\")\n",
      "-\n"
     ]
    },
    {
     "name": "stderr",
     "output_type": "stream",
     "text": [
      " 16%|███████████████████████▋                                                                                                                              | 123/780 [20:07<2:16:22, 12.45s/it]"
     ]
    },
    {
     "name": "stdout",
     "output_type": "stream",
     "text": [
      "\n",
      "(\"USDA zone 11b\", \"is located in\", \"Key West\")\n",
      "(\"USDA zone 11b\", \"has average extreme lows in the range of\", \"40 to 50 °F (4 to 10 °C)\")\n",
      "(\"USDA zone 10\", \"is located in\", \"coastal South Florida\")\n",
      "(\"USDA zone 10\", \"has annual extreme low temperatures in the range of\", \"30 to 40 °F (−1 to 4 °C)\")\n",
      "(\"USDA zone 10\", \"has parts in\", \"Miami Beach\")\n",
      "(\"USDA zone 9b\", \"is located in\", \"interior central Florida\")\n",
      "(\"USDA zone 9b\", \"has low temperatures in the range of\", \"25 to 30 °F (−4 to −1 °C)\")\n",
      "(\"USDA zone 8\", \"is located in\", \"northwestern Florida\")\n",
      "(\"USDA zone 8\", \"has low temperatures in the range of\", \"10 to 20 °F (−12 to −7 °C)\")\n",
      "-\n"
     ]
    },
    {
     "name": "stderr",
     "output_type": "stream",
     "text": [
      " 16%|███████████████████████▊                                                                                                                              | 124/780 [20:22<2:25:22, 13.30s/it]"
     ]
    },
    {
     "name": "stdout",
     "output_type": "stream",
     "text": [
      "\n",
      "(\"Titanic\", \"has four parlour suites\", \"on B and C Decks\")\n",
      "(\"Olympic\", \"has four parlour suites\", \"on B and C Decks\")\n",
      "(\"Titanic, \"advertised two parlour suites on B-Deck as\", \"Deluxe Parlour Suites, or Promenade Suites\")\n",
      "(\"Olympic\", \"advertised two parlour suites on B-Deck as\", \"Deluxe Parlour Suites, or Promenade Suites\")\n",
      "(\"Deluxe Parlour Suites\", \"each contain\", \"50 ft. (15.24 M.) private promenade deck\")\n",
      "(\"Deluxe Parlour Suites\", \"are connected to\", \"first-class gangway entrances immediately forward\")\n",
      "(\"Deluxe Parlour Suites\", \"comprise\", \"two large bedrooms\")\n",
      "(\"Deluxe Parlour Suites\", \"comprise\", \"two walk-in wardrobes\")\n",
      "(\"Deluxe Parlour Suites\", \"comprise\", \"private bathroom\")\n",
      "(\"Deluxe Parlour Suites\", \"comprise\", \"lavatory\")\n",
      "(\"Deluxe Parlour Suites\", \"comprise\", \"spacious sitting room\")\n",
      "(\"Sitting rooms\", \"feature\", \"faux fireplace\")\n",
      "(\"Sitting rooms\", \"feature\", \"large card table\")\n",
      "\n",
      "-\n"
     ]
    },
    {
     "name": "stderr",
     "output_type": "stream",
     "text": [
      " 16%|████████████████████████                                                                                                                              | 125/780 [20:33<2:19:43, 12.80s/it]"
     ]
    },
    {
     "name": "stdout",
     "output_type": "stream",
     "text": [
      "\n",
      "(\"gray whales\", \"have a gestation period of\", \"13 ​1⁄2 months\")\n",
      "(\"gray whale Females\", \"give birth every\", \"1 to 3 years\")\n",
      "(\"gray whale fetus\", \"experiences rapid growth\", \"in length and mass in latter half of pregnancy\")\n",
      "(\"most calves\" \"are born within\", \"a 6-week time period in mid January\")\n",
      "(\"calves\", \"are born\", \"tail first\")\n",
      "(\"calves\", \"measure\", \"approx. 4m (13ft) in length\")\n",
      "(\"females\", \"lactate for\", \"approximately 7 months\")\n",
      "(\"calves\", \"are weaned\", \"after 7 months of lactation\")\n",
      "(\"shallow lagoon waters\", \"are believed to protect newborns from\", \"sharks and orcas\")\n",
      "-\n"
     ]
    },
    {
     "name": "stderr",
     "output_type": "stream",
     "text": [
      " 16%|████████████████████████▏                                                                                                                             | 126/780 [20:41<2:03:00, 11.29s/it]"
     ]
    },
    {
     "name": "stdout",
     "output_type": "stream",
     "text": [
      "\n",
      "(\"Dual-energy X-ray absorptiometry\", \"is a means of measuring\", \"bone mineral density (BMD)\")\n",
      "(\"Dual-energy X-ray absorptiometry\", \"uses\", \"spectral imaging\")\n",
      "(\"Dual-energy X-ray absorptiometry\", \"involves\", \"two X-ray beams\")\n",
      "(\"Two X-ray beams\", \"have different\", \"energy levels\")\n",
      "(\"Two X-ray beams\", \"are aimed at\", \"the patient's bones\")\n",
      "(\"Bone mineral density (BMD)\", \"can be determined from\", \"the absorption of each beam by bone\")\n",
      "(\"Dual-energy X-ray absorptiometry\", \"is the most widely used and most thoroughly studied\", \"bone density measurement technology\")\n",
      "-\n"
     ]
    },
    {
     "name": "stderr",
     "output_type": "stream",
     "text": [
      " 16%|████████████████████████▍                                                                                                                             | 127/780 [20:51<1:58:44, 10.91s/it]"
     ]
    },
    {
     "name": "stdout",
     "output_type": "stream",
     "text": [
      "\n",
      "(\"Human pregnancy\", \"can be divided into\", \"three trimesters\")\n",
      "(\"Human pregnancy\", \"each trimester is\", \"approximately three months long\")\n",
      "(\"First trimester\", \"starts from\", \"last period\")\n",
      "(\"First trimester\", \"lasts until\", \"13th week\")\n",
      "(\"Second trimester\", \"starts from\", \"14th week\")\n",
      "(\"Second trimester\", \"lasts until\", \"27th week\")\n",
      "(\"Third trimester\", \"starts from\", \"28th week\")\n",
      "(\"Third trimester\", \"lasts until\", \"42nd week\")\n",
      "(\"Birth\", \"normally occurs at\", \"gestational age of 40 weeks\")\n",
      "(\"Birth\", \"commonly occurs between\", \"37 and 42 weeks\")\n",
      "(\"Embryo\", \"is called a fetus from\", \"9th week of pregnancy\")\n",
      "(\"Embryo\", \"is called a fetus from\", \"11th week of gestational age\")\n",
      "-\n"
     ]
    },
    {
     "name": "stderr",
     "output_type": "stream",
     "text": [
      " 16%|████████████████████████▌                                                                                                                             | 128/780 [20:54<1:30:32,  8.33s/it]"
     ]
    },
    {
     "name": "stdout",
     "output_type": "stream",
     "text": [
      "\n",
      "(\"International Commission on Zoological Nomenclature\", \"ruled that\", \"the domestic cat is a distinct species\")\n",
      "(\"Felis catus\", \"is the species of\", \"domestic cat\")\n",
      "-\n"
     ]
    },
    {
     "name": "stderr",
     "output_type": "stream",
     "text": [
      " 17%|████████████████████████▊                                                                                                                             | 129/780 [21:07<1:47:49,  9.94s/it]"
     ]
    },
    {
     "name": "stdout",
     "output_type": "stream",
     "text": [
      "\n",
      "(\"Venomous snakes\", \"belong to\", \"the suborder Serpentes\")\n",
      "(\"Venomous snakes\", \"are capable of\", \"producing venom\")\n",
      "(\"Venomous snakes\", \"use venom for\", \"killing prey, defense, and to assist with digestion of their prey\")\n",
      "(\"Venomous snakes\", \"deliver venom using\", \"hollow or grooved fangs\")\n",
      "(\"Elapidae\", \"are venomous snakes\", \"from the family Elapidae\")\n",
      "(\"Viperidae\", \"are venomous snakes\", \"from the family Viperidae\")\n",
      "(\"Atractaspididae\", \"are venomous snakes\", \"from the family Atractaspididae\")\n",
      "(\"Colubridae\", \"are some venomous snakes\", \"from the family Colubridae\")\n",
      "(\"Toxicity of venom\", \"is indicated by\", \"murine LD50\")\n",
      "(\"Risk assessment\", \"takes into account\", \"likelihood of snake biting, quantity of venom, efficiency of delivery mechanism, and the location of the bite\")\n",
      "(\"Snake venom\", \"contains the properties\", \"neurotoxic and hemotoxic\")\n",
      "-\n"
     ]
    },
    {
     "name": "stderr",
     "output_type": "stream",
     "text": [
      " 17%|█████████████████████████                                                                                                                             | 130/780 [21:21<2:00:09, 11.09s/it]"
     ]
    },
    {
     "name": "stdout",
     "output_type": "stream",
     "text": [
      "\n",
      "(\"Deputy Chief of Air Staff for Research and Development\", \"expressed a desire for\", \"a cruising speed of 400 miles per hour\")\n",
      "(\"General Curtis LeMay\", \"expresses a desire\", \"for a cruising speed of 400 miles per hour\")\n",
      "(\"Boeing\", \"was asked to change design\", \"to four-engine bomber\")\n",
      "(\"Boeing\", \"was assigned a top speed\", \"of 400 miles per hour\")\n",
      "(\"Boeing\", \"was assigned a range of\", \"12,000 miles\")\n",
      "(\"Boeing\", \"was assigned the ability to carry\", \"a nuclear weapon\")\n",
      "(\"Boeing\", \"was assigned the aircraft weight of\", \"up to 480,000 pounds\")\n",
      "(\"Boeing\", \"proposed two models powered by\", \"T35 turboprops\")\n",
      "(\"Model 464-16\", \"was assigned a payload of\", \"10,000 pound\")\n",
      "(\"Model 464-17\", \"was assigned a payload of\", \"9,000 pound\")\n",
      "(\"Air Force\", \"selected\", \"Model 464-17\")\n",
      "(\"Model 464-17\", \"was adapted for\", \"nuclear strikes\")\n",
      "-\n"
     ]
    },
    {
     "name": "stderr",
     "output_type": "stream",
     "text": [
      " 17%|█████████████████████████▏                                                                                                                            | 131/780 [21:27<1:42:21,  9.46s/it]"
     ]
    },
    {
     "name": "stdout",
     "output_type": "stream",
     "text": [
      "\n",
      "(\"Parking lot\", \"is known as\", \"car park\")\n",
      "(\"Parking lot\", \"has a\", \"durable/semi-durable surface\")\n",
      "(\"Parking lot\", \"is a feature of\", \"every city and suburban area\")\n",
      "(\"Parking lot\", \"is featured in\", \"shopping malls, sports stadiums, megachurches, etc.\")\n",
      "(\"Parking lot\", \"related to\", \"multistorey car park\")\n",
      "-\n"
     ]
    },
    {
     "name": "stderr",
     "output_type": "stream",
     "text": [
      " 17%|█████████████████████████▍                                                                                                                            | 132/780 [21:35<1:38:10,  9.09s/it]"
     ]
    },
    {
     "name": "stdout",
     "output_type": "stream",
     "text": [
      "\n",
      "(\"Rabies\", \"risk decreased in\", \"a number of regions of the world\")\n",
      "(\"Immunizing people\", \"is recommended\", \"for those at high risk\")\n",
      "(\"High risk people\", \"include\", \"those who work with bats or who spend prolonged periods in areas of the world where rabies is common\")\n",
      "(\"Rabies vaccine and rabies immunoglobulin\", \"are effective at\", \"preventing the disease if the person receives the treatment before the start of rabies symptoms\")\n",
      "(\"Washing bites and scratches with soap and water, povidone-iodine, or detergent\", \"may reduce the number of viral particles and may be somewhat effective at\", \"preventing transmission\")\n",
      "(\"As of 2016[update]\", \"only fourteen people had survived a rabies infection after showing symptoms\", \"\")\n",
      "-\n"
     ]
    },
    {
     "name": "stderr",
     "output_type": "stream",
     "text": [
      " 17%|█████████████████████████▌                                                                                                                            | 133/780 [21:43<1:33:58,  8.71s/it]"
     ]
    },
    {
     "name": "stdout",
     "output_type": "stream",
     "text": [
      "\n",
      "(\"mongoose\", \"belongs to\", \"the family Herpestidae\")\n",
      "(\"Herpestidae\", \"is split into\", \"two subfamilies\")\n",
      "(\"two subfamilies\", \"are\", \"Herpestinae and the Mungotinae\")\n",
      "(\"Herpestinae\", \"comprises\", \"23 living species\")\n",
      "(\"Herpestinae\", \"are native to\", \"southern Europe, Africa and Asia\")\n",
      "(\"Mungotinae\", \"comprises\", \"11 species\")\n",
      "(\"Mungotinae\", \"are native to\", \"Africa\")\n",
      "-\n"
     ]
    },
    {
     "name": "stderr",
     "output_type": "stream",
     "text": [
      " 17%|█████████████████████████▊                                                                                                                            | 134/780 [21:51<1:31:05,  8.46s/it]"
     ]
    },
    {
     "name": "stdout",
     "output_type": "stream",
     "text": [
      "\n",
      "(\"Arendelle: World of Frozen\", \"is based on\", \"the 2013 film Frozen\") \n",
      "(\"Arendelle: World of Frozen\", \"is being developed by\", \"Walt Disney Imagineering\")\n",
      "(\"Arendelle: World of Frozen\", \"is being developed at\", \"Hong Kong Disneyland\")\n",
      "(\"Arendelle: World of Frozen\", \"is being developed at\", \"Tokyo DisneySea\")\n",
      "(\"Arendelle: World of Frozen\", \"is being developed at\", \"Walt Disney Studios Park in Paris\")\n",
      "-\n"
     ]
    },
    {
     "name": "stderr",
     "output_type": "stream",
     "text": [
      " 17%|█████████████████████████▉                                                                                                                            | 135/780 [22:00<1:34:15,  8.77s/it]"
     ]
    },
    {
     "name": "stdout",
     "output_type": "stream",
     "text": [
      "\n",
      "(\"Cassowaries\", \"feed mainly on\", \"fruit\")\n",
      "(\"Cassowaries\", \"are truly omnivorous and take\", \"a range of other plant food\")\n",
      "(\"Other plant food\", \"includes\", \"shoots and grass seeds\")\n",
      "(\"Other plant food\", \"includes\", \"fungi\")\n",
      "(\"Other plant food\", \"includes\", \"invertebrates\")\n",
      "(\"Other plant food\", \"includes\", \"small vertebrates\")\n",
      "(\"Cassowaries\", \"are very wary of\", \"humans\")\n",
      "(\"Cassowaries\", \"are capable of inflicting serious injuries including fatal to\", \"dogs\")\n",
      "(\"Cassowaries\", \"are capable of inflicting serious injuries including fatal to\", \"people\")\n",
      "(\"Cassowaries\", \"have been labeled\", \"the world's most dangerous bird\")\n",
      "-\n"
     ]
    },
    {
     "name": "stderr",
     "output_type": "stream",
     "text": [
      " 17%|██████████████████████████▏                                                                                                                           | 136/780 [22:11<1:41:00,  9.41s/it]"
     ]
    },
    {
     "name": "stdout",
     "output_type": "stream",
     "text": [
      "\n",
      "(\"Plants\", \"need special adaptations to survive in\", \"the desert\")\n",
      "(\"Animals\", \"need special adaptations to survive in\", \"the desert\")\n",
      "(\"Plants\", \"tend to be\", \"tough and wiry with small or no leaves, water-resistant cuticles and often spines to deter herbivory\")\n",
      "(\"Plants\", \"germinate, bloom and die\", \"in a few weeks after rainfall\")\n",
      "(\"Plants\", \"survive for\", \"years\")\n",
      "(\"Plants\", \"have\", \"deep root systems able to tap underground moisture\")\n",
      "(\"Animals\", \"keep cool\", \"by staying in the shade or underground during the heat of the day\")\n",
      "(\"Animals\", \"conserve water\", \"by extracting most of their needs from their food and concentrating their urine\")\n",
      "(\"Animals\", \"enter a state of dormancy\", \"for long periods of time\")\n",
      "(\"Animals\", \"reproduce rapidly\", \"when conditions are favorable\")\n",
      "-\n"
     ]
    },
    {
     "name": "stderr",
     "output_type": "stream",
     "text": [
      " 18%|██████████████████████████▎                                                                                                                           | 137/780 [22:19<1:35:21,  8.90s/it]"
     ]
    },
    {
     "name": "stdout",
     "output_type": "stream",
     "text": [
      "\n",
      "(\"Shrimp\", \"are widespread and abundant\", \"\")\n",
      "(\"Shrimp\", \"are found\", \"on most coasts and estuaries\")\n",
      "(\"Shrimp\", \"are found\", \"in rivers and lakes\")\n",
      "(\"Shrimp\", \"can escape predators by\", \"flipping off the seafloor and diving into the sediment\")\n",
      "(\"Shrimp\", \"usually live\", \"from one to seven years\")\n",
      "(\"Shrimp\", \"are often solitary\", \"\")\n",
      "(\"Shrimp\", \"can form large schools during the spawning season\", \"\")\n",
      "-\n"
     ]
    },
    {
     "name": "stderr",
     "output_type": "stream",
     "text": [
      " 18%|██████████████████████████▌                                                                                                                           | 138/780 [22:34<1:55:07, 10.76s/it]"
     ]
    },
    {
     "name": "stdout",
     "output_type": "stream",
     "text": [
      "\n",
      "(\"Marsupials\", \"are members of\", \"the mammalian infraclass Marsupialia\")\n",
      "(\"Marsupials\", \"are endemic to\", \"Australasia and the Americas\")\n",
      "(\"Marsupials\", \"have distinctive characteristic\", \"carrying young in pouch\")\n",
      "(\"Well-known marsupials\", \"include\", \"kangaroos\")\n",
      "(\"Well-known marsupials\", \"include\", \"wallabies\")\n",
      "(\"Well-known marsupials\", \"include\", \"koalas\")\n",
      "(\"Well-known marsupials\", \"include\", \"phalangeriformes\")\n",
      "(\"Well-known marsupials\", \"include\", \"opossums\")\n",
      "(\"Well-known marsupials\", \"include\", \"wombats\")\n",
      "(\"Well-known marsupials\", \"include\", \"Tasmanian devils\")\n",
      "(\"Lesser-known marsupials\", \"include\", \"dunnarts\")\n",
      "(\"Lesser-known marsupials\", \"include\", \"potoroos\")\n",
      "(\"Lesser-known marsupials\", \"include\", \"cuscuses\")\n",
      "(\"Lesser-known marsupials\", \"include\", \"the extinct thylacine\")\n",
      "-\n"
     ]
    },
    {
     "name": "stderr",
     "output_type": "stream",
     "text": [
      " 18%|██████████████████████████▋                                                                                                                           | 139/780 [22:38<1:32:55,  8.70s/it]"
     ]
    },
    {
     "name": "stdout",
     "output_type": "stream",
     "text": [
      "\n",
      "(\"normal human body temperature\", \"is often stated\", \"36.5-37.5°C (97.7-99.5°F)\")\n",
      "(\"normal human body temperature\", \"has a wider range of\", \"33.2-38.2°C (91.8-100.8°F) in adults\")\n",
      "(\"normal human body temperature\", \"varies depending on\", \"gender and location measured\")\n",
      "-\n"
     ]
    },
    {
     "name": "stderr",
     "output_type": "stream",
     "text": [
      " 18%|██████████████████████████▉                                                                                                                           | 140/780 [22:48<1:39:06,  9.29s/it]"
     ]
    },
    {
     "name": "stdout",
     "output_type": "stream",
     "text": [
      "\n",
      "(\"Potamon fluviatile\", \"is a\", \"freshwater crab\")\n",
      "(\"Potamon fluviatile\", \"is found in\", \"or near wooded streams, rivers and lakes in Southern Europe\")\n",
      "(\"Potamon fluviatile\", \"is an\", \"omnivore\")\n",
      "(\"Potamon fluviatile\", \"has broad ecological tolerances\", \"\")\n",
      "(\"Potamon fluviatile\", \"typically reaches\", \"50 mm (2 in) in size\")\n",
      "(\"Potamon fluviatile\", \"lives\", \"10–12 year\")\n",
      "(\"Potamon fluviatile\", \"inhabits\", \"burrows\")\n",
      "(\"Potamon fluviatile\", \"is aggressive\", \"\")\n",
      "(\"Potamon fluviatile\", \"apparently outcompetes\", \"native crayfish\")\n",
      "-\n"
     ]
    },
    {
     "name": "stderr",
     "output_type": "stream",
     "text": [
      " 18%|███████████████████████████                                                                                                                           | 141/780 [23:06<2:05:47, 11.81s/it]"
     ]
    },
    {
     "name": "stdout",
     "output_type": "stream",
     "text": [
      "\n",
      "(\"golden toad\", \"belongs to\", \"family Bufonidae\")\n",
      "(\"golden toad\", \"males are\", \"orange\")\n",
      "(\"golden toad\", \"females show\", \"a greater variety of colors\")\n",
      "(\"golden toad males\", \"are typically\", \"brilliant orange\")\n",
      "(\"golden toad females\", \"are typically\", \"dark, charcoal colored outlined with yellow lines\")\n",
      "(\"golden toad\", \"sexual dimorphism\", \"plays key role in identifying females\")\n",
      "(\"golden toad males\", \"are typically\", \"smaller than females\")\n",
      "(\"golden toad males\", \"body length ranges from\", \"39 to 48 mm\")\n",
      "(\"golden toad females\", \"body length ranges from\", \"42 to 56 mm\")\n",
      "(\"golden toad males\", \"have proportionally longer limbs and longer, more acute noses than\", \"females\")\n",
      "(\"golden toad females\", \"have enlarged cranial crests above the level of the orbit\", \"eye socket\")\n",
      "(\"golden toad males\", \"have much lower cranial crests above the level of the orbit\", \"eye socket\")\n",
      "-\n"
     ]
    },
    {
     "name": "stderr",
     "output_type": "stream",
     "text": [
      " 18%|███████████████████████████▎                                                                                                                          | 142/780 [23:15<1:56:54, 10.99s/it]"
     ]
    },
    {
     "name": "stdout",
     "output_type": "stream",
     "text": [
      "\n",
      "(\"The hippo\", \"is considered\", \"extremely aggressive\")\n",
      "(\"The hippo\", \"has been reported\", \"charging and attacking boats\")\n",
      "(\"Small boats\", \"can be capsized by\", \"hippos\")\n",
      "(\"Passengers\", \"can be injured or killed by\", \"the animals\")\n",
      "(\"Passengers\", \"can be injured or killed by\", \"drowning\")\n",
      "(\"In one 2014 case in Niger\", \"a boat was capsized by a hippo\", \"13 people were killed\")\n",
      "(\"Hippos\", \"will often engage in raiding nearby crops\", \"if the opportunity arises\")\n",
      "(\"Humans\", \"may come in conflict with\", \"hippos on these occasions\")\n",
      "(\"Humans\", \"may come in conflict with\", \"potential for fatalities on both the sides\")\n",
      "-\n"
     ]
    },
    {
     "name": "stderr",
     "output_type": "stream",
     "text": [
      " 18%|███████████████████████████▍                                                                                                                          | 143/780 [23:30<2:09:12, 12.17s/it]"
     ]
    },
    {
     "name": "stdout",
     "output_type": "stream",
     "text": [
      "\n",
      "(\"Isopoda\", \"is an order of\", \"crustaceans\")\n",
      "(\"Isopoda\", \"includes\", \"woodlice and their relatives\")\n",
      "(\"Isopoda\", \"live in\", \"the sea\")\n",
      "(\"Isopoda\", \"live in\", \"fresh water\")\n",
      "(\"Isopoda\", \"live on\", \"land\")\n",
      "(\"Isopoda\", \"have\", \"rigid, segmented exoskeletons\")\n",
      "(\"Isopoda\", \"have\", \"two pairs of antennae\")\n",
      "(\"Isopoda\", \"have\", \"seven pairs of jointed limbs on the thorax\")\n",
      "(\"Isopoda\", \"have\", \"five pairs of branching appendages on the abdomen\")\n",
      "(\"Isopoda\", \"use\", \"branching appendages on the abdomen for respiration\")\n",
      "(\"Females\", \"brood their young\", \"in a pouch under their thorax\")\n",
      "-\n"
     ]
    },
    {
     "name": "stderr",
     "output_type": "stream",
     "text": [
      " 18%|███████████████████████████▋                                                                                                                          | 144/780 [23:43<2:10:36, 12.32s/it]"
     ]
    },
    {
     "name": "stdout",
     "output_type": "stream",
     "text": [
      "\n",
      "(\"Israel\", \"has evidence of\", \"Egyptian spiny-tailed lizards (Uromastyx aegyptia)\")\n",
      "(\"Egyptian spiny-tailed lizards (Uromastyx aegyptia)\", \"were found near\", \"burrows used by sand cats\")\n",
      "(\"Egyptian spiny-tailed lizards (Uromastyx aegyptia)\", \"were observed preying on\", \"jirds (Meriones)\")\n",
      "(\"Egyptian spiny-tailed lizards (Uromastyx aegyptia)\", \"were observed preying on\", \"Cairo spiny mouse (Acomys cahirinus)\")\n",
      "(\"Egyptian spiny-tailed lizards (Uromastyx aegyptia)\", \"were observed preying on\", \"desert lark (Ammomanes deserti)\")\n",
      "(\"Egyptian spiny-tailed lizards (Uromastyx aegyptia)\", \"were observed preying on\", \"small reptiles\")\n",
      "-\n"
     ]
    },
    {
     "name": "stderr",
     "output_type": "stream",
     "text": [
      " 19%|███████████████████████████▉                                                                                                                          | 145/780 [23:57<2:17:35, 13.00s/it]"
     ]
    },
    {
     "name": "stdout",
     "output_type": "stream",
     "text": [
      "\n",
      "(\"Normally humans\", \"have\", \"five digits\")\n",
      "(\"five digits\", \"are termed\", \"phalanges\")\n",
      "(\"five digits\", \"are on each hand\", \"for most humans\")\n",
      "(\"some people\", \"have more or fewer\", \"than five digits\")\n",
      "(\"cause of deviation\", \"includes\", \"congenital disorders such as polydactyly or oligodactyly\")\n",
      "(\"cause of deviation\", \"includes\", \"accidental or medical amputations\")\n",
      "(\"digits of the hand\", \"are in order\", \"thumb, index finger, middle finger, ring finger, and little finger or pinkie\") \n",
      "(\"definition dependent\", \"is\", \"whether the thumb can be called a finger or not\")\n",
      "-\n"
     ]
    },
    {
     "name": "stderr",
     "output_type": "stream",
     "text": [
      " 19%|████████████████████████████                                                                                                                          | 146/780 [24:07<2:06:03, 11.93s/it]"
     ]
    },
    {
     "name": "stdout",
     "output_type": "stream",
     "text": [
      "\n",
      "(\"Species\", \"are classified by\", \"the IUCN Red List\")\n",
      "(\"IUCN Red List\", \"classifies species into\", \"nine groups\")\n",
      "(\"Criteria\", \"used to classify species into the nine groups\", \"rate of decline, population size, area of geographic distribution, and degree of population and distribution fragmentation\")\n",
      "(\"Condition for applying criteria without high quality data\", \"is to reasonably support\", \"suspicion and potential future threats\")\n",
      "-\n"
     ]
    },
    {
     "name": "stderr",
     "output_type": "stream",
     "text": [
      " 19%|████████████████████████████▎                                                                                                                         | 147/780 [24:18<2:03:51, 11.74s/it]"
     ]
    },
    {
     "name": "stdout",
     "output_type": "stream",
     "text": [
      "\n",
      "(\"Mars\", \"has been investigated for\", \"past habitability\")\n",
      "(\"Mars\", \"has been investigated for\", \"extant life\")\n",
      "(\"astrobiology missions\", \"include\", \"Perseverance and Rosalind Franklin rovers\")\n",
      "(\"Mars\", \"cannot sustain liquid water\", \"due to low atmospheric pressure\")\n",
      "(\"the two polar ice caps on Mars\", \"are made of\", \"water\")\n",
      "(\"the south polar ice cap on Mars\", \"if melted, would be sufficient to cover the planetary surface to a depth of 11 meters\", \"36 ft\")\n",
      "(\"NASA\", \"reported finding\", \"a large amount of underground ice in the Utopia Planitia region\")\n",
      "(\"the volume of water detected\", \"has been estimated to be equivalent to the volume of water in\", \"Lake Superior\")\n",
      "-\n"
     ]
    },
    {
     "name": "stderr",
     "output_type": "stream",
     "text": [
      " 19%|████████████████████████████▍                                                                                                                         | 148/780 [24:30<2:02:51, 11.66s/it]"
     ]
    },
    {
     "name": "stdout",
     "output_type": "stream",
     "text": [
      "\n",
      "(\"grizzly bear in the contiguous United States\", \"is threatened by\", \"lack of genetic flow between ecosystems\")\n",
      "(\"brown bears\", \"are found primarily\", \"in Russia\")\n",
      "(\"brown bears\", \"are found\", \"in Middle East\")\n",
      "(\"brown bears\", \"are found\", \"in Southwestern Iran\")\n",
      "(\"brown bears\", \"are found\", \"in Northeast China\")\n",
      "(\"brown bears\", \"are found\", \"in Western China\")\n",
      "(\"brown bears\", \"are found\", \"in North Korea\")\n",
      "(\"brown bears\", \"are found\", \"in Pakistan\")\n",
      "(\"brown bears\", \"are found\", \"in Afghanistan\")\n",
      "(\"brown bears\", \"are found\", \"in India\")\n",
      "(\"brown bears\", \"are found\", \"on the Japanese island of Hokkaidō\")\n",
      "(\"Hokkaidō\", \"holds\", \"the largest number of non-Russian brown bears in eastern Asia with 2,000–3,000 animals\")\n",
      "-\n"
     ]
    },
    {
     "name": "stderr",
     "output_type": "stream",
     "text": [
      " 19%|████████████████████████████▋                                                                                                                         | 149/780 [24:36<1:46:46, 10.15s/it]"
     ]
    },
    {
     "name": "stdout",
     "output_type": "stream",
     "text": [
      "\n",
      "(\"wasp\", \"is an insect of\", \"order Hymenoptera\")\n",
      "(\"Hymenoptera\", \"includes\", \"ants\")\n",
      "(\"Hymenoptera\", \"includes\", \"bees\")\n",
      "(\"Hymenoptera\", \"includes\", \"wasps\")\n",
      "(\"Hymenoptera\", \"includes\", \"sawflies\")\n",
      "(\"wasp\", \"can sting\", \"insect prey\")\n",
      "(\"wasp-waisted insects\", \"are a complete natural group with a single ancestor\", \" true\")\n",
      "(\"wasps\", \"do not include\", \"bees\")\n",
      "(\"wasps\", \"do not include\", \"ants\")\n",
      "-\n"
     ]
    },
    {
     "name": "stderr",
     "output_type": "stream",
     "text": [
      " 19%|████████████████████████████▊                                                                                                                         | 150/780 [24:55<2:14:01, 12.76s/it]"
     ]
    },
    {
     "name": "stdout",
     "output_type": "stream",
     "text": [
      "\n",
      "(\"dental formula\", \"is\", \"3.1.3.13.1.3.1\")\n",
      "(\"teeth\", \"can display\", \"signs of irregular development\")\n",
      "(\"teeth\", \"can be\", \"exceptionally small, set at unusual angles or absent altogether\")\n",
      "(\"Honey badgers of the subspecies signata\", \"have a second lower molar\", \"on the left side of their jaws\")\n",
      "(\"Honey badgers of the subspecies signata\", \"do not have\", \"a second lower molar on the right side of their jaws\")\n",
      "(\"Honey badgers of the subspecies signata\", \"feed predominantly on\", \"soft foods\")\n",
      "(\"Honey badgers of the subspecies signata\", \"have extensively worn\", \"cheek teeth\")\n",
      "(\"Honey badgers of the subspecies signata\", \"have exceptionally short\", \"canine teeth\")\n",
      "(\"Honey badgers of the subspecies signata\", \"have sharp, backward-pointing papillae\", \"on their tongue\")\n",
      "(\"Honey badgers of the subspecies signata\", \"use papillae to\", \"process tough foods\")\n",
      "-\n"
     ]
    },
    {
     "name": "stderr",
     "output_type": "stream",
     "text": [
      " 19%|█████████████████████████████                                                                                                                         | 151/780 [24:58<1:42:01,  9.73s/it]"
     ]
    },
    {
     "name": "stdout",
     "output_type": "stream",
     "text": [
      "\n",
      "(\"Spectroscopic analysis of Mars' atmosphere\", \"started in\", \"1894\")\n",
      "(\"William Wallace Campbell\", \"showed that\", \"neither water nor oxygen were present in the Martian atmosphere\")\n",
      "-\n"
     ]
    },
    {
     "name": "stderr",
     "output_type": "stream",
     "text": [
      " 19%|█████████████████████████████▏                                                                                                                        | 152/780 [25:10<1:51:19, 10.64s/it]"
     ]
    },
    {
     "name": "stdout",
     "output_type": "stream",
     "text": [
      "\n",
      "(\"Gorillaz\", \"created in\", \"1998 by Damon Albarn and artist Jamie Hewlett\")\n",
      "(\"Gorillaz\", \"primarily consists of\", \"four animated members\")\n",
      "(\"Stuart '2-D' Pot\", \"is an animated member of\", \"Gorillaz\")\n",
      "(\"Murdoc Niccals\", \"is an animated member of\", \"Gorillaz\")\n",
      "(\"Noodle\", \"is an animated member of\", \"Gorillaz\")\n",
      "(\"Russel Hobbs\", \"is an animated member of\", \"Gorillaz\")\n",
      "(\"Gorillaz\", \"have a fictional universe presented in\", \"music videos, interviews and short cartoons\")\n",
      "(\"Damon Albarn\", \"is the only permanent musical contributor to\", \"Gorillaz\")\n",
      "(\"Damon Albarn\", \"often collaborates with\", \"other musicians\")\n",
      "(\"Remi Kabaka Jr.\", \"became producer for\", \"Gorillaz in 2016\")\n",
      "(\"Remi Kabaka Jr.\", \"was listed as an A&R producer alongside\", \"Albarn and Hewlett in the 2019 Gorillaz documentary Gorillaz: Reject False Icons\")\n",
      "-\n"
     ]
    },
    {
     "name": "stderr",
     "output_type": "stream",
     "text": [
      " 20%|█████████████████████████████▍                                                                                                                        | 153/780 [25:25<2:04:19, 11.90s/it]"
     ]
    },
    {
     "name": "stdout",
     "output_type": "stream",
     "text": [
      "\n",
      "(\"adult moose\", \"stands\", \"1.4–2.1 m (4.6–6.9 ft) high at the shoulder\")\n",
      "(\"adult moose\", \"has a head and body length of\", \"2.4–3.1 m (7.9–10.2 ft)\")\n",
      "(\"adult moose\", \"has a weight of\", \"380 to 700 kg (838 to 1,543 lb) for males and 200 to 490 kg (441 to 1,080 lb) for females\")\n",
      "(\"Alaskan subspecies\", \"stands over\", \"2.1 m (6.9 ft) at the shoulder\")\n",
      "(\"Alaskan subspecies\", \"has antlers span of\", \"1.8 m (5.9 ft)\")\n",
      "(\"Alaskan subspecies\", \"has weight of\", \"634.5 kg (1,399 lb) for males and 478 kg (1,054 lb) for females\")\n",
      "(\"Yukon Bull\", \"weighed\", \"820 kg (1,808 lb)\")\n",
      "(\"Yukon Bull\", \"measured\", \"2.33 m (7.6 ft) high at the shoulder\")\n",
      "(\"moose\", \"is second largest of\", \"extant terrestrial wildlife\")\n",
      "-\n"
     ]
    },
    {
     "name": "stderr",
     "output_type": "stream",
     "text": [
      " 20%|█████████████████████████████▌                                                                                                                        | 154/780 [25:35<1:56:13, 11.14s/it]"
     ]
    },
    {
     "name": "stdout",
     "output_type": "stream",
     "text": [
      "\n",
      "(\"African bush elephant\", \"is\", \"the largest terrestrial animal\")\n",
      "(\"African bush elephant\", \"height is between\", \"2.2–2.6 m (7.2–8.5 ft)\")\n",
      "(\"African bush elephant\", \"weight is between\", \"2,160–3,232 kg (4,762–7,125 lb)\")\n",
      "(\"African bush elephant\", \"back is\", \"concave-shaped\")\n",
      "(\"African forest elephant\", \"back is\", \"nearly straight\")\n",
      "(\"African forest elephant\", \"height is between\", \"3.2–4 m (10–13 ft)\")\n",
      "(\"African forest elephant\", \"weight is between\", \"4,700–6,048 kg (10,362–13,334 lb)\")\n",
      "-\n"
     ]
    },
    {
     "name": "stderr",
     "output_type": "stream",
     "text": [
      " 20%|█████████████████████████████▊                                                                                                                        | 155/780 [25:43<1:48:16, 10.39s/it]"
     ]
    },
    {
     "name": "stdout",
     "output_type": "stream",
     "text": [
      "\n",
      "(\"Gorillas\", \"are\", \"ground-dwelling, predominantly herbivorous apes\")\n",
      "(\"Gorillas\", \"inhabit\", \"the forest of central Sub-Saharan Africa\")\n",
      "(\"Gorillas\", \"are divided into two species\", \"the eastern gorillas and the western gorillas\")\n",
      "(\"Gorillas\", \"have either four or five subspecies\", \"\")\n",
      "(\"Gorillas\", \"are\", \"the largest living primates\")\n",
      "(\"Gorillas\", \"have DNA\", \"highly similar to that of humans, from 95 to 99% depending on what is included\")\n",
      "(\"Gorillas\", \"are the next closest living relatives to humans after\", \"the chimpanzees and bonobos\")\n",
      "-\n"
     ]
    },
    {
     "name": "stderr",
     "output_type": "stream",
     "text": [
      " 20%|██████████████████████████████                                                                                                                        | 156/780 [25:52<1:43:16,  9.93s/it]"
     ]
    },
    {
     "name": "stdout",
     "output_type": "stream",
     "text": [
      "\n",
      "(\"igloos\", \"are associated with\", \"all Inuit and Eskimo peoples\")\n",
      "(\"igloos\", \"were traditionally used by\", \"people of Canada's Central Arctic and Greenland's Thule area\")\n",
      "(\"Other Inuit\", \"tended to use\", \"snow to insulate their houses\")\n",
      "(\"houses\", \"were constructed from\", \"whalebone and hides\")\n",
      "(\"Snow\", \"is used because\", \"the air pockets trapped in it make it an insulator\")\n",
      "(\"Outside\", \"temperatures may be\", \"-45 °C (−49 °F)\")\n",
      "(\"Inside\", \"temperatures may range\", \"-7 to 16 °C (19 to 61 °F) when warmed by body heat alone\")\n",
      "-\n"
     ]
    },
    {
     "name": "stderr",
     "output_type": "stream",
     "text": [
      " 20%|██████████████████████████████▏                                                                                                                       | 157/780 [25:57<1:27:46,  8.45s/it]"
     ]
    },
    {
     "name": "stdout",
     "output_type": "stream",
     "text": [
      "\n",
      "(\"Humans\", \"would have derived benefit from\", \"the dogs associated with their camps\")\n",
      "(\"Dogs\", \"would have improved sanitation by\", \"cleaning up food scraps\")\n",
      "(\"Dogs\", \"may have provided\", \"warmth\")\n",
      "(\"Australian Aboriginal expression\", \"refers to\", \"three dog night\")\n",
      "(\"Dogs\", \"would have alerted camp to presence of\", \"predators or strangers\")\n",
      "(\"Dogs\", \"use their acute hearing to\", \"provide an early warning\")\n",
      "-\n"
     ]
    },
    {
     "name": "stderr",
     "output_type": "stream",
     "text": [
      " 20%|██████████████████████████████▍                                                                                                                       | 158/780 [26:05<1:25:51,  8.28s/it]"
     ]
    },
    {
     "name": "stdout",
     "output_type": "stream",
     "text": [
      "\n",
      "(\"Sweep picking\", \"is a\", \"guitar playing technique\")\n",
      "(\"When sweep picking\", \"the guitarist plays\", \"single notes on consecutive strings\")\n",
      "(\"When sweep picking\", \"the guitarist uses a\", \"'sweeping' motion of the pick\")\n",
      "(\"When sweep picking\", \"the fretting hand produces\", \"a specific series of notes\")\n",
      "(\"When sweep picking\", \"the effect produced is\", \"fast and fluid in sound\")\n",
      "(\"Both hands\", \"perform an integral motion in unison to achieve\", \"the desired effect\")\n",
      "-\n"
     ]
    },
    {
     "name": "stderr",
     "output_type": "stream",
     "text": [
      " 20%|██████████████████████████████▌                                                                                                                       | 159/780 [26:16<1:34:57,  9.18s/it]"
     ]
    },
    {
     "name": "stdout",
     "output_type": "stream",
     "text": [
      "\n",
      "(\"Arctic climate\", \"is characterized by\", \"cold winters and cool summers\")\n",
      "(\"Arctic climate\", \"experiences precipitation mostly in the form of\", \"snow\")\n",
      "(\"Arctic climate\", \"receives less than\", \"50 cm (20 in)\")\n",
      "(\"Arctic climate\", \"experiences high winds that\", \"stir up snow\")\n",
      "(\"Arctic climate\", \"has an average winter temperature that can go as low as\", \"-40°C (-40°F)\")\n",
      "(\"Arctic climate\", \"has the coldest recorded temperature of\", \"-68°C (-90°F)\")\n",
      "(\"Coastal Arctic climates\", \"are moderated by\", \"oceanic influences\")\n",
      "(\"Coastal Arctic climates\", \"have generally warmer temperatures and heavier snowfalls than\", \"the colder and drier interior areas\")\n",
      "(\"Arctic\", \"is affected by current global warming, leading to\", \"Arctic sea ice shrinkage, diminished ice in the Greenland ice sheet, and Arctic methane release as the permafrost thaws\")\n",
      "-\n"
     ]
    },
    {
     "name": "stderr",
     "output_type": "stream",
     "text": [
      " 21%|██████████████████████████████▊                                                                                                                       | 160/780 [26:33<1:56:47, 11.30s/it]"
     ]
    },
    {
     "name": "stdout",
     "output_type": "stream",
     "text": [
      "\n",
      "(\"sable\", \"is a species of\", \"marten\")\n",
      "(\"sable\", \"primarily inhabits\", \"forest environments\")\n",
      "(\"sable\", \"inhabits\", \"Russia\")\n",
      "(\"sable\", \"inhabits\", \"the Ural Mountains\")\n",
      "(\"sable\", \"inhabits\", \"Siberia\")\n",
      "(\"sable\", \"inhabits\", \"northern Mongolia\")\n",
      "(\"sable\", \"inhabits\", \"eastern Kazakhstan\")\n",
      "(\"sable\", \"inhabits\", \"China\")\n",
      "(\"sable\", \"inhabits\", \"North Korea\")\n",
      "(\"sable\", \"inhabits\", \"Japan\")\n",
      "(\"sable\", \"historically inhabited\", \"European Russia\")\n",
      "(\"sable\", \"historically inhabited\", \"Poland\")\n",
      "(\"sable\", \"historically inhabited\", \"Scandinavia\")\n",
      "(\"sable\", \"is hunted for its\", \"dark brown or black fur\")\n",
      "(\"sable\", \"fur is considered a\", \"luxury good\")\n",
      "(\"sable\", \"is still hunted in\", \"Russia\")\n",
      "(\"sable\", \"most fur is\", \"commercially farmed\")\n",
      "-\n"
     ]
    },
    {
     "name": "stderr",
     "output_type": "stream",
     "text": [
      " 21%|██████████████████████████████▉                                                                                                                       | 161/780 [26:41<1:48:25, 10.51s/it]"
     ]
    },
    {
     "name": "stdout",
     "output_type": "stream",
     "text": [
      "\n",
      "(\"grizzly bear\", \"is known as\", \"North American Brown Bear\")\n",
      "(\"grizzly bear\", \"is known as\", \"grizzly\")\n",
      "(\"grizzly bear\", \"scientific name\", \"Ursus arctos horribilis\")\n",
      "(\"grizzly bear\", \"inhabits\", \"North America\")\n",
      "-\n"
     ]
    },
    {
     "name": "stderr",
     "output_type": "stream",
     "text": [
      " 21%|███████████████████████████████▏                                                                                                                      | 162/780 [26:56<2:00:17, 11.68s/it]"
     ]
    },
    {
     "name": "stdout",
     "output_type": "stream",
     "text": [
      "\n",
      "(\"Pouches\", \"are different amongst\", \"different marsupials\")\n",
      "(\"Pouches\", \"distinguishable by\", \"opening towards the head and extending the cavity under the skin towards the tail (forward, or up) or opening towards the tail and extending towards the front legs (to the rear, backward, or down)\")\n",
      "(\"Quolls and Tasmanian devils\", \"have pouches that open to the rear and their joeys\", \"only have to travel a short distance to get to the opening (resting place) of the pouch\")\n",
      "(\"Joeys\", \"are permanently attached to\", \"the teat while in the pouch\")\n",
      "(\"Joeys\", \"leave the pouch once they've developed\", \"physically\")\n",
      "(\"Kangaroos\", \"have pouches that open horizontally on the front of the body and their joeys must\", \"climb a relatively long way to reach it\")\n",
      "(\"Kangaroos, wallabies, and opossums\", \"have pouches that open\", \"forward or up\")\n",
      "-\n"
     ]
    },
    {
     "name": "stderr",
     "output_type": "stream",
     "text": [
      " 21%|███████████████████████████████▎                                                                                                                      | 163/780 [27:04<1:49:18, 10.63s/it]"
     ]
    },
    {
     "name": "stdout",
     "output_type": "stream",
     "text": [
      "\n",
      "(\"Felidae\", \"is a family of\", \"mammals\")\n",
      "(\"Felidae\", \"is in the order\", \"Carnivora\")\n",
      "(\"Felidae\", \"is colloquially referred to as\", \"cats\")\n",
      "(\"Felidae\", \"constitutes a\", \"clade\")\n",
      "(\"Felidae\", \"is referred to as\", \"felid\")\n",
      "(\"Term 'cat'\", \"refers to\", \"felids in general\")\n",
      "(\"Term 'cat'\", \"refers specifically to\", \"the domestic cat (Felis catus)\")\n",
      "-\n"
     ]
    },
    {
     "name": "stderr",
     "output_type": "stream",
     "text": [
      " 21%|███████████████████████████████▌                                                                                                                      | 164/780 [27:17<1:57:45, 11.47s/it]"
     ]
    },
    {
     "name": "stdout",
     "output_type": "stream",
     "text": [
      "\n",
      "(\"brown rockfish\", \"has a body color\", \"in various shades of brown\")\n",
      "(\"brown rockfish\", \"has a background color\", \"overlaid with dark-brown, red-brown, or blackish mottling\")\n",
      "(\"brown rockfish\", \"have a prominent dark patch\", \"at the rear area of the gill cover\")\n",
      "(\"prominent dark patch\", \"Latin name\", \"auriculatus\")\n",
      "(\"auriculatus\", \"meaning\", \"eared\")\n",
      "(\"brown rockfish\", \"in Puget Sound and off central California\", \"commonly have coronal spines\")\n",
      "(\"brown rockfish in southern California waters\", \"have spines\", \"generally absent\")\n",
      "(\"brown rockfish\", \"resembles copper rockfish\", \"but the latter lacks dark patch on their gill cover\")\n",
      "(\"brown rockfish\", \"resembles vermillion rockfish\", \"in deep water\")\n",
      "(\"brown rockfish\", \"resembles grass rockfish\", \"in shallow water\")\n",
      "(\"brown rockfish\", \"can grow to\", \"56 cm in length\")\n",
      "(\"brown rockfish\", \"females are potentially larger than males\", \"true\")\n",
      "(\"brown rockfish\", \"life spans\", \"known to live to at least 34 years of age\")\n",
      "-\n"
     ]
    },
    {
     "name": "stderr",
     "output_type": "stream",
     "text": [
      " 21%|███████████████████████████████▋                                                                                                                      | 165/780 [27:36<2:19:31, 13.61s/it]"
     ]
    },
    {
     "name": "stdout",
     "output_type": "stream",
     "text": [
      "\n",
      "(\"Beaver dams\", \"can be disruptive\", \"flooding\")\n",
      "(\"Flooding\", \"can cause\", \"extensive property damage\")\n",
      "(\"Flooding\", \"can cause\", \"derailments\")\n",
      "(\"Derailments\", \"can be caused by\", \"washing out tracks\")\n",
      "(\"Beaver dams\", \"can burst\", \"flash flood\")\n",
      "(\"Flash flood\", \"can overwhelm\", \"culverts\")\n",
      "(\"Traditional solutions\", \"focused on\", \"trapping and removal of all the beavers\")\n",
      "(\"Short-lived solution\", \"is due to\", \"remarkable comeback in United States\")\n",
      "(\"Modern solutions\", \"include\", \"relatively cost-effective and low maintenance flow devices\")\n",
      "(\"Dam construction\", \"is often too solid for\", \"manual or machinery breaking up\")\n",
      "(\"Beaver dams\", \"can be removed\", \"usage of dynamite\")\n",
      "(\"Beavers\", \"introduced to an area without its natural predators\", \"are considered a plague\")\n",
      "(\"Trees in Tierra del Fuego\", \"cannot be coppiced\", \"as can willows, poplars, aspens, and other North American trees\")\n",
      "(\"Beaver's disruption\", \"is not limited to\", \"human geography\")\n",
      "(\"Beavers\", \"can destroy\", \"nesting habitats for endangered species\")\n",
      "-\n"
     ]
    },
    {
     "name": "stderr",
     "output_type": "stream",
     "text": [
      " 21%|███████████████████████████████▉                                                                                                                      | 166/780 [27:48<2:15:25, 13.23s/it]"
     ]
    },
    {
     "name": "stdout",
     "output_type": "stream",
     "text": [
      "\n",
      "(\"duodecimal system\", \"originated in\", \"Mesopotamia\")\n",
      "(\"duodecimal system\", \"commonly known as\", \"dozenal\")\n",
      "(\"duodecimal system\", \"could come from\", \"counting on one's fingers\")\n",
      "(\"duodecimal system\", \"counting one hand can count to\", \"twelve\")\n",
      "(\"duodecimal system\", \"counting two hands can count to\", \"144\")\n",
      "(\"duodecimal system\", \"twelve dozen is\", \"122\")\n",
      "(\"duodecimal system\", \"twelve dozen (122) is\", \"known as a gross\")\n",
      "(\"duodecimal system\", \"twelve gross (123)\", \"is equal to 1728\")\n",
      "(\"duodecimal system\", \"twelve gross (123)\", \"is known as duodecimal 1000\")\n",
      "(\"duodecimal system\", \"a great hundred is\", \"120\")\n",
      "(\"duodecimal system\", \"a great hundred is \", \"known as a small gross\")\n",
      "-\n"
     ]
    },
    {
     "name": "stderr",
     "output_type": "stream",
     "text": [
      " 21%|████████████████████████████████                                                                                                                      | 167/780 [27:54<1:52:51, 11.05s/it]"
     ]
    },
    {
     "name": "stdout",
     "output_type": "stream",
     "text": [
      "\n",
      "(\"Hibernation\", \"is a state of\",\"inactivity and metabolic depression\")\n",
      "(\"Hibernation\", \"is a form of\",\"seasonal heterothermy\")\n",
      "(\"Hibernation\", \"is characterized by\",\"low body-temperature, slow breathing and heart-rate, and low metabolic rate\")\n",
      "(\"Hibernation\", \"typically occurs\",\"during winter months\")\n",
      "-\n"
     ]
    },
    {
     "name": "stderr",
     "output_type": "stream",
     "text": [
      " 22%|████████████████████████████████▎                                                                                                                     | 168/780 [28:07<1:59:36, 11.73s/it]"
     ]
    },
    {
     "name": "stdout",
     "output_type": "stream",
     "text": [
      "\n",
      "(\"Eating contests\", \"sponsored by\", \"restaurants\")\n",
      "(\"Challenge\", \"may involve\", \"eating large food items\")\n",
      "(\"Challenge\", \"may involve\", \"eating extraordinarily spicy food items\")\n",
      "(\"large food items\", \"include\", \"giant steaks\")\n",
      "(\"large food items\", \"include\", \"hamburgers\")\n",
      "(\"large food items\", \"include\", \"curries\")\n",
      "(\"Challenge\", \"completed by\", \"persons\")\n",
      "(\"Person\", \"who completes challenge\", \"may be rewarded\")\n",
      "(\"Reward\", \"includes\", \"getting the item for free\")\n",
      "(\"Reward\", \"includes\", \"a T-shirt\")\n",
      "(\"Reward\", \"includes\", \"adding name and/or photo to wall of challenge victors\")\n",
      "(\"Ward's House of Prime, Milwaukee, WI\", \"has a prime rib challenge\", \"which has a current record of 360 ounces by Molly Schuyler in June 2017\")\n",
      "(\"Various challenges\", \"featured in\", \"Travel Channel show Man v. Food\")\n",
      "-\n"
     ]
    },
    {
     "name": "stderr",
     "output_type": "stream",
     "text": [
      " 22%|████████████████████████████████▌                                                                                                                     | 169/780 [28:21<2:03:37, 12.14s/it]"
     ]
    },
    {
     "name": "stdout",
     "output_type": "stream",
     "text": [
      "\n",
      "(\"A. m. melanoleuca\", \"is made up of\", \"most extant populations of the giant panda\")\n",
      "(\"A. m. melanoleuca\", \"is located in\", \"Sichuan\")\n",
      "(\"A. m. melanoleuca\", \"has a colour pattern of\", \"stark black and white\")\n",
      "(\"A. m. qinlingensis\", \"is found in\", \"Qinling Mountains in Shaanxi\")\n",
      "(\"A. m. qinlingensis\", \"has an elevation range of\", \"1.3K-3K m\")\n",
      "(\"A. m. qinlingensis\", \"has a colour pattern of\",\"light brown and white\")\n",
      "(\"A. m. qinlingensis\", \"has a skull size of\", \"smaller than its relatives\")\n",
      "(\"A. m. qinlingensis\", \"has molars of\", \"larger size\")\n",
      "(\"separation of Qinlin population\", \"occurred\", \"about 300000 years ago\")\n",
      "(\"non-Qinlin population\", \"further diverged into\", \"two groups\")\n",
      "(\"2 groups\", \"are\", \"Minshan and the Qionglai-Daxiangling-Xiaoxiangling-Liangshan group\")\n",
      "(\"divergence of 2 groups\", \"happened\", \"about 2800 years ago\")\n",
      "-\n"
     ]
    },
    {
     "name": "stderr",
     "output_type": "stream",
     "text": [
      " 22%|████████████████████████████████▋                                                                                                                     | 170/780 [28:29<1:52:26, 11.06s/it]"
     ]
    },
    {
     "name": "stdout",
     "output_type": "stream",
     "text": [
      "\n",
      "(\"Bucharest\", \"is the capital of\", \"Romania\")\n",
      "(\"Bucharest\", \"is the largest city of\", \"Romania\")\n",
      "(\"Bucharest\", \"is the cultural, industrial, and financial center of\", \"Romania\")\n",
      "(\"Bucharest\", \"is located at\", \"44°25'57\\\"N 26°06'14\\\"E\")\n",
      "(\"Bucharest\", \"is located on the banks of\", \"the Dâmbovița River\")\n",
      "(\"Bucharest\", \"is located less than 60 km\", \"north of the Danube River and the Bulgarian border\")\n",
      "-\n"
     ]
    },
    {
     "name": "stderr",
     "output_type": "stream",
     "text": [
      " 22%|████████████████████████████████▉                                                                                                                     | 171/780 [28:34<1:33:35,  9.22s/it]"
     ]
    },
    {
     "name": "stdout",
     "output_type": "stream",
     "text": [
      "\n",
      "(\"water\", \"increases in volume\", \"about 9% for fresh water\")\n",
      "(\"ice expansion\", \"is a basic cause of\", \"freeze-thaw weathering of rock in nature\")\n",
      "(\"ice expansion\", \"is a common cause of\", \"damge to building foundations and roadways from frost heaving\")\n",
      "(\"ice expansion\", \"is a common cause of\", \"flooding of houses when water pipes burst\")\n",
      "-\n"
     ]
    },
    {
     "name": "stderr",
     "output_type": "stream",
     "text": [
      " 22%|█████████████████████████████████                                                                                                                     | 172/780 [28:46<1:40:40,  9.93s/it]"
     ]
    },
    {
     "name": "stdout",
     "output_type": "stream",
     "text": [
      "\n",
      "(\"Frogs\", \"have\", \"a highly developed nervous system\")\n",
      "(\"Frogs' nervous system\", \"consists of\", \"brain, spinal cord and nerves\")\n",
      "(\"Brain\", \"consists of\", \"two olfactory lobes, two cerebral hemispheres, a pineal body, two optic lobes, a cerebellum and a medulla oblongata\")\n",
      "(\"Cerebellum\", \"controls\", \"muscular coordination and posture\")\n",
      "(\"Medulla oblongata\", \"regulates\", \"respiration, digestion and other automatic functions\")\n",
      "(\"Cerebrum\", \"has a relative size\", \"much smaller than it is in humans\")\n",
      "(\"Frogs\", \"have\", \"ten pairs of cranial nerves\")\n",
      "(\"Ten pairs of cranial nerves\", \"pass information\", \"from the outside directly to the brain\")\n",
      "(\"Frogs\", \"have\", \"ten pairs of spinal nerves\")\n",
      "(\"Ten pairs of spinal nerves\", \"pass information\", \"from the extremities to the brain through the spinal cord\")\n",
      "(\"All amniotes\", \"have\", \"twelve pairs of cranial nerves\")\n",
      "-\n"
     ]
    },
    {
     "name": "stderr",
     "output_type": "stream",
     "text": [
      " 22%|█████████████████████████████████▎                                                                                                                    | 173/780 [29:02<1:59:43, 11.83s/it]"
     ]
    },
    {
     "name": "stdout",
     "output_type": "stream",
     "text": [
      "\n",
      "(\"Other mammals\", \"engage in\", \"limited, non-locomotory, bipedalism\")\n",
      "(\"rats\", \"will squat on\", \"their hindlegs\")\n",
      "(\"rats\", \"revert to\", \"four limbs when moving\")\n",
      "(\"beavers\", \"will move bipedally\", \"if transporting wood for their dams\")\n",
      "(\"beavers\", \"will move bipedally\", \"if holding food\")\n",
      "(\"bears\", \"will fight in\", \"a bipedal stance\")\n",
      "(\"bears\", \"will use their forelegs\", \"as weapons\")\n",
      "(\"mammals\", \"will adopt a bipedal stance\", \"in specific situations\")\n",
      "(\"ground squirrels\", \"will stand on hind legs\", \"to survey their surroundings\")\n",
      "(\"meerkats\", \"will stand on hind legs\", \"to survey their surroundings\")\n",
      "(\"dogs\", \"can stand or move on two legs\", \"if trained\")\n",
      "(\"dogs\", \"can stand or move on two legs\", \"if birth defect or injury precludes quadrupedalism\")\n",
      "(\"gerenuk antelope\", \"stands on its hind legs\", \"while eating from trees\")\n",
      "(\"the extinct giant ground sloth\", \"stood on its hind legs\", \"while eating from trees\")\n",
      "(\"the extinct chalicotheres\", \"stood on its hind legs\", \"while eating from trees\")\n",
      "(\"spotted skunk\n",
      "-\n"
     ]
    },
    {
     "name": "stderr",
     "output_type": "stream",
     "text": [
      " 22%|█████████████████████████████████▍                                                                                                                    | 174/780 [29:14<2:00:38, 11.94s/it]"
     ]
    },
    {
     "name": "stdout",
     "output_type": "stream",
     "text": [
      "\n",
      "(\"beaver\", \"genus is\", \"Castor\")\n",
      "(\"beaver\", \"includes two\", \"extant species\")\n",
      "(\"North American beaver\", \"native to\", \"North America\")\n",
      "(\"Eurasian beaver\", \"native to\", \"Eurasia\")\n",
      "(\"beaver\", \"are known for\", \"building dams, canals, and lodges\")\n",
      "(\"beaver\", \"are the\", \"second-largest rodent in the world\")\n",
      "(\"beaver colonies\", \"create one or more\", \"dams\")\n",
      "(\"beaver dams\", \"provide\", \"still, deep water to protect against predators\")\n",
      "(\"beaver\", \"population was once more than\", \"60 million\")\n",
      "(\"beaver\", \"population as of 1988 was\", \"6–12 million\")\n",
      "(\"population decrease\", \"is the result of\", \"extensive hunting for fur, glands used as medicine and perfume\")\n",
      "(\"beavers\", \"harvesting of trees and flooding of waterways\", \"may interfere with other land uses\")\n",
      "-\n"
     ]
    },
    {
     "name": "stderr",
     "output_type": "stream",
     "text": [
      " 22%|█████████████████████████████████▋                                                                                                                    | 175/780 [29:25<1:58:24, 11.74s/it]"
     ]
    },
    {
     "name": "stdout",
     "output_type": "stream",
     "text": [
      "\n",
      "(\"Fever\", \"is also known as\", \"pyrexia\")\n",
      "(\"Fever\", \"is defined as\", \"having a temperature above the normal range\")\n",
      "(\"Fever\", \"is triggered by an increase\", \"in the body's temperature set point\")\n",
      "(\"Normal temperature range\", \"varies between\", \"37.2 and 38.3°C in humans\")\n",
      "(\"An increase in set point\", \"causes\", \"increased muscle contractions and feeling of cold\")\n",
      "(\"body set point temperature\", \"returns to normal\", \"by greater heat production and efforts to conserve heat\")\n",
      "(\"Fever\", \"may cause\", \"febrile seizure\")\n",
      "(\"Fever typically does not exceed\", \"41 to 42°C\", \"in humans\")\n",
      "(\"Fever\", \"can be caused by\", \"viral, bacterial, and parasitic infections\")\n",
      "(\"Fever\", \"is differed from\", \"Hyperthermia\")\n",
      "-\n"
     ]
    },
    {
     "name": "stderr",
     "output_type": "stream",
     "text": [
      " 23%|█████████████████████████████████▊                                                                                                                    | 176/780 [29:33<1:44:46, 10.41s/it]"
     ]
    },
    {
     "name": "stdout",
     "output_type": "stream",
     "text": [
      "\n",
      "(\"Leopard seal\", \"is also referred to as\", \"the sea leopard\")\n",
      "(\"Leopard seal\", \"is the\", \"second largest species of seal in the Antarctic\")\n",
      "(\"Leopard seal\", \"has a natural predator\", \"the killer whale\")\n",
      "(\"Leopard seal\", \"feeds on\", \"a wide range of prey\")\n",
      "(\"Leopard seal\", \"belongs to genus\", \"Hydrurga\")\n",
      "(\"Leopard seal\", \"has close relatives\", \"the Ross seal, the crabeater seal, and the Weddell seal\")\n",
      "(\"Leopard seal\", \"derives its name from\", \"Hydrurga meaning 'water worker' and leptonyx meaning 'small clawed'\")\n",
      "-\n"
     ]
    },
    {
     "name": "stderr",
     "output_type": "stream",
     "text": [
      " 23%|██████████████████████████████████                                                                                                                    | 177/780 [29:36<1:24:00,  8.36s/it]"
     ]
    },
    {
     "name": "stdout",
     "output_type": "stream",
     "text": [
      "\n",
      "(\"Squirrels\", \"have been the cause of\", \"many power outages in Pennsylvania\")\n",
      "(\"Cris Thomas\", \"says that as of January 2017[update]\", \"there have been six deaths associated with squirrel interference with infrastructure\")\n",
      "(\"Six deaths\", \"have been associated with\", \"downed power lines\")\n",
      "(\"Six deaths\", \"have been associated with\", \"other animals\")\n",
      "-\n"
     ]
    },
    {
     "name": "stderr",
     "output_type": "stream",
     "text": [
      " 23%|██████████████████████████████████▏                                                                                                                   | 178/780 [29:53<1:50:12, 10.98s/it]"
     ]
    },
    {
     "name": "stdout",
     "output_type": "stream",
     "text": [
      "\n",
      "(\"T-1000\", \"is\", \"a shapeshifting android assassin\")\n",
      "(\"T-1000\", \"appears in\", \"Terminator 2: Judgment Day\")\n",
      "(\"T-1000\", \"appears as a minor antagonist in\", \"Terminator Genisys\")\n",
      "(\"T-1000\", \"appears in the attraction\", \"T2 3-D: Battle Across Time\")\n",
      "(\"T-1001\", \"appears in\", \"Fox television series, Terminator: The Sarah Connor Chronicles\")\n",
      "(\"T-1000\", \"was created by\", \"Skynet\")\n",
      "(\"Skynet\", \"is a machine artificial intelligence\", \"that directs its robotic creations against the Human Resistance\")\n",
      "(\"T-1000\", \"is composed of\", \"liquid metal\" )\n",
      "(\"T-1000\", \"is a \", \"Mimetic Polyalloy (nanorobotics)\")\n",
      "(\"T-1000\", \"has a shapeshifting ability\", \"to assume various forms \")\n",
      "(\"T-1000's shapeshifting abilities\", \"enable it to\", \"form its hands into stabbing blades\")\n",
      "(\"T-1000's shapeshifting abilities\", \"enable it to\", \"slip through physical openings by oozing its liquid form\")\n",
      "(\"T-1000's shapeshifting abilities\", \"enable it to\", \"instantly reform itself from any physical damage\")\n",
      "(\"T-1000\", \"was created through\", \"nanotechnology\")\n",
      "-\n"
     ]
    },
    {
     "name": "stderr",
     "output_type": "stream",
     "text": [
      " 23%|██████████████████████████████████▍                                                                                                                   | 179/780 [30:01<1:40:17, 10.01s/it]"
     ]
    },
    {
     "name": "stdout",
     "output_type": "stream",
     "text": [
      "\n",
      "(\"A drone\", \"characterized by\", \"eyes that are twice the size of those of worker bees and queens\")\n",
      "(\"A drone\", \"body size\", \"greater than that of worker bees\")\n",
      "(\"A drone\", \"body size\", \"usually smaller than the queen bee\")\n",
      "(\"Abdomen of drone\", \"is stouter than\", \"abdomen of workers or queen\")\n",
      "(\"A drone\", \"must be able to fly\", \"fast enough to accompany the queen in flight\")\n",
      "(\"Average flight time for a drone\", \"is about\", \"20 minutes\")\n",
      "-\n"
     ]
    },
    {
     "name": "stderr",
     "output_type": "stream",
     "text": [
      " 23%|██████████████████████████████████▌                                                                                                                   | 180/780 [30:11<1:40:33, 10.06s/it]"
     ]
    },
    {
     "name": "stdout",
     "output_type": "stream",
     "text": [
      "\n",
      "(\"healthy calf\", \"weighs\", \"40 to 50 kg\")\n",
      "(\"Holstein cow\", \"weighs\", \"680 to 770 kg\")\n",
      "(\"Holstein cow\", \"stands\", \"145 to 165 cm tall\")\n",
      "(\"Holstein heifers\", \"should be bred by\", \"11 to 14 months\")\n",
      "(\"Holstein heifers\", \"should weigh\", \"317 to 340 kg\")\n",
      "(\"Holstein heifers\", \"should calve for the first time between\", \"21 to 24 months\")\n",
      "(\"Holstein heifers\", \"should weigh\", \"80% of adult weight\")\n",
      "(\"Holstein heifers\", \"gestation period is\", \"nine and a half months\")\n",
      "-\n"
     ]
    },
    {
     "name": "stderr",
     "output_type": "stream",
     "text": [
      " 23%|██████████████████████████████████▊                                                                                                                   | 181/780 [30:19<1:32:02,  9.22s/it]"
     ]
    },
    {
     "name": "stdout",
     "output_type": "stream",
     "text": [
      "\n",
      "(\"peak mating\", \"occurs\", \"somewhat later than peak birthing from late June to late July\")\n",
      "(\"fertilized egg\", \"undergoes\", \"delayed implantation\")\n",
      "(\"delayed implantation\", \"occurs\", \"four months after fertilization\")\n",
      "(\"gestation\", \"lasts around\", \"a year\")\n",
      "(\"pups\", \"born in a given summer\", \"are the product of the previous year's breeding cycle\")\n",
      "-\n"
     ]
    },
    {
     "name": "stderr",
     "output_type": "stream",
     "text": [
      " 23%|███████████████████████████████████                                                                                                                   | 182/780 [30:22<1:15:30,  7.58s/it]"
     ]
    },
    {
     "name": "stdout",
     "output_type": "stream",
     "text": [
      "\n",
      "(\"Fetlock\", \"is the common name for\", \"the metacarpophalangeal and metatarsophalangeal joints (MCPJ and MTPJ)\")\n",
      "(\"Fetlock\", \"is found in\", \"horses\")\n",
      "(\"Fetlock\", \"is found in\", \"large animals\")\n",
      "(\"Fetlock\", \"is sometimes found in\", \"dogs\")\n",
      "-\n"
     ]
    },
    {
     "name": "stderr",
     "output_type": "stream",
     "text": [
      " 23%|███████████████████████████████████▏                                                                                                                  | 183/780 [30:33<1:25:24,  8.58s/it]"
     ]
    },
    {
     "name": "stdout",
     "output_type": "stream",
     "text": [
      "\n",
      "(\"WWF\", \"set up\", \"offices and operations around the world\")\n",
      "(\"WWF\", \"worked by\", \"fundraising and providing grants to existing non-governmental organizations\")\n",
      "(\"WWF\", \"focused on\", \"the protection of endangered species\")\n",
      "(\"WWF\", \"expanded operations into\", \"the preservation of biological diversity, sustainable use of natural resources, the reduction of pollution, and climate change\")\n",
      "(\"WWF\", \"ran\", \"its own conservation projects and campaigns\")\n",
      "(\"WWF\", \"changed name to\", \"World Wide Fund for Nature\")\n",
      "(\"WWF\", \"retained initials\", \"WWF\")\n",
      "(\"WWF\", \"continued operating under\", \"original name in the US and Canada\")\n",
      "-\n"
     ]
    },
    {
     "name": "stderr",
     "output_type": "stream",
     "text": [
      " 24%|███████████████████████████████████▍                                                                                                                  | 184/780 [30:39<1:15:52,  7.64s/it]"
     ]
    },
    {
     "name": "stdout",
     "output_type": "stream",
     "text": [
      "\n",
      "(\"Goats\", \"are among\", \"the earliest animals domesticated by humans\")\n",
      "(\"Wild bezoar ibex\", \"is the likely original ancestor of\", \"probably all domestic goats today\")\n",
      "(\"Wild bezoar ibex\", \"is found in\", \"the Zagros Mountains\")\n",
      "(\"The most recent genetic analysis\", \"confirms\", \"the archaeological evidence\")\n",
      "-\n"
     ]
    },
    {
     "name": "stderr",
     "output_type": "stream",
     "text": [
      " 24%|███████████████████████████████████▌                                                                                                                  | 185/780 [30:55<1:41:20, 10.22s/it]"
     ]
    },
    {
     "name": "stdout",
     "output_type": "stream",
     "text": [
      "\n",
      "(\"Pregnancy\", \"is also known as\", \"gestation\")\n",
      "(\"Pregnancy\", \"involves\", \"one or more offspring\")\n",
      "(\"Multiple pregnancy\", \"involves\", \"more than one offspring\")\n",
      "(\"Pregnancy\", \"can occur by\", \"sexual intercourse\")\n",
      "(\"Pregnancy\", \"can occur by\", \"assisted reproductive technology\")\n",
      "(\"Pregnancy\", \"may end in\", \"a live birth\")\n",
      "(\"Pregnancy\", \"may end in\", \"a miscarriage\")\n",
      "(\"Pregnancy\", \"may end in\", \"an abortion\")\n",
      "(\"Childbirth\", \"typically occurs around\", \"40 weeks from the start of the last menstrual period (LMP)\")\n",
      "(\"Childbirth\", \"typically occurs around\", \"9 months\")\n",
      "(\"Month\", \"averages\", \"31 days\")\n",
      "(\"Fertilization\", \"is\", \"about 38 weeks\")\n",
      "(\"Embryo\", \"is the developing offspring during\", \"first eight weeks following fertilization\")\n",
      "(\"Fetus\", \"is used from\", \"eight weeks to birth\") \n",
      "(\"Early pregnancy\", \"may include\", \"missed periods\")\n",
      "(\"Early pregnancy\", \"may include\", \"tender breasts\")\n",
      "(\"Early pregnancy\", \"may include\", \"nausea and vomiting\")\n",
      "(\"Early pregnancy\", \"may include\", \"hunger\")\n",
      "(\"Early pregnancy\", \"may include\", \"frequent urination\")\n",
      "(\"Pregnancy\", \"\n",
      "-\n"
     ]
    },
    {
     "name": "stderr",
     "output_type": "stream",
     "text": [
      " 24%|███████████████████████████████████▊                                                                                                                  | 186/780 [31:04<1:37:31,  9.85s/it]"
     ]
    },
    {
     "name": "stdout",
     "output_type": "stream",
     "text": [
      "\n",
      "(\"Obligate carnivores\", \"include\", \"axolotl\")\n",
      "(\"Axolotl\", \"consumes mainly\", \"worms and larvae\")\n",
      "(\"Axolotl\", \"can consume\", \"algae if necessary\")\n",
      "(\"Obligate carnivores\", \"include\", \"all felids\")\n",
      "(\"All felids\", \"require a diet of\", \"primarily animal flesh and organs\")\n",
      "(\"Cats\", \"have high protein requirements\", \"and their metabolisms appear unable to synthesize essential nutrients\")\n",
      "(\"Cats\", \"require\", \"retinol\")\n",
      "(\"Cats\", \"require\", \"arginine\")\n",
      "(\"Cats\", \"require\", \"taurine\")\n",
      "(\"Cats\", \"require\", \"arachidonic acid\")\n",
      "(\"Cats\", \"must consume\", \"flesh to supply essential nutrients\")\n",
      "-\n"
     ]
    },
    {
     "name": "stderr",
     "output_type": "stream",
     "text": [
      " 24%|███████████████████████████████████▉                                                                                                                  | 187/780 [31:19<1:52:07, 11.34s/it]"
     ]
    },
    {
     "name": "stdout",
     "output_type": "stream",
     "text": [
      "\n",
      "(\"skin folds\", \"join\", \"second through fifth toes\")\n",
      "(\"skin folds\", \"almost reach\", \"first metatarsal joint\")\n",
      "(\"size\", \"differs depending on\", \"sex and species\")\n",
      "(\"males\", \"can range\", \"from 41–70 cm\")\n",
      "(\"males\", \"can range in weight from\", \"5.5 to 18 kg\")\n",
      "(\"females\", \"can range in weight from\", \"2.4 to 13 kg\")\n",
      "(\"macaques\", \"live in\", \"troops that vary in size\")\n",
      "(\"males\", \"dominate in\", \"troops\")\n",
      "(\"female ranking\", \"lasts longer and depends upon\", \"genealogical position\")\n",
      "(\"macaques\", \"are able to\", \"swim\")\n",
      "(\"macaques\", \"spend most of their time\", \"on the ground\")\n",
      "(\"macaques\", \"have large pouches in their cheeks\", \"to carry extra food\")\n",
      "(\"macaques\", \"are considered\", \"highly intelligent\")\n",
      "(\"macaques\", \"are often used in\", \"medical field for experimentation\")\n",
      "(\"adults\", \"tend to be\", \"bad tempered\")\n",
      "-\n"
     ]
    },
    {
     "name": "stderr",
     "output_type": "stream",
     "text": [
      " 24%|████████████████████████████████████▏                                                                                                                 | 188/780 [31:26<1:41:24, 10.28s/it]"
     ]
    },
    {
     "name": "stdout",
     "output_type": "stream",
     "text": [
      "\n",
      "(\"goldfish\", \"produce waste through\", \"their gills\")\n",
      "(\"goldfish\", \"can easily cause death from\", \"toxic waste build-up\")\n",
      "(\"common and comet goldfish\", \"require\",\"20 US gallons of water\")\n",
      "(\"fancy goldfish\", \"require\",\"10 US gallons of water\")\n",
      "(\"water surface area\", \"determines\",\"amount of oxygen diffusing and dissolving\")\n",
      "(\"general rule\", \"is to have\", \"1 square foot\")\n",
      "(\"active aeration\", \"increases\", \"surface area\")\n",
      "-\n"
     ]
    },
    {
     "name": "stderr",
     "output_type": "stream",
     "text": [
      " 24%|████████████████████████████████████▎                                                                                                                 | 189/780 [31:33<1:31:33,  9.30s/it]"
     ]
    },
    {
     "name": "stdout",
     "output_type": "stream",
     "text": [
      "\n",
      "(\"gill\", \"is a\", \"respiratory organ\")\n",
      "(\"gill\", \"extracts\", \"dissolved oxygen from water\")\n",
      "(\"gill\", \"excrets\", \"carbon dioxide\")\n",
      "(\"gill of some species\", \"have adapted to\", \"allow respiration on land\")\n",
      "(\"gill\", \"has a microscopic structure which presents\", \"a large surface area to the external environment\")\n",
      "(\"branchia\", \"is the zoologists' name for\", \"gills (from Ancient Greek βράγχια)\")\n",
      "-\n"
     ]
    },
    {
     "name": "stderr",
     "output_type": "stream",
     "text": [
      " 24%|████████████████████████████████████▌                                                                                                                 | 190/780 [31:46<1:40:19, 10.20s/it]"
     ]
    },
    {
     "name": "stdout",
     "output_type": "stream",
     "text": [
      "\n",
      "(\"pinniped ear\", \"is adapted for hearing\", \"underwater\")\n",
      "(\"pinniped ear\", \"can hear sound frequencies up to\", \"70,000 Hz\")\n",
      "(\"pinnipeds\", \"have decreased hearing sensitivity\", \"in air compared to many terrestrial mammals\")\n",
      "(\"pinnipeds\", \"are capable of hearing\", \"a wide range of frequencies\")\n",
      "(\"harbor seal\", \"has equally capability of hearing in air and water\", \"compared to other pinnipeds\")\n",
      "(\"California sea lion\", \"is best adapted for airborne hearing\", \"compared to other pinnipeds\")\n",
      "(\"northern elephant seal\", \"is better adapted for underwater hearing\", \"compared to other pinnipeds\")\n",
      "(\"pinnipeds\", \"have a fairly good sense of smell\", \"on land\")\n",
      "(\"pinnipeds\", \"have useless sense of smell\", \"underwater\")\n",
      "-\n"
     ]
    },
    {
     "name": "stderr",
     "output_type": "stream",
     "text": [
      " 24%|████████████████████████████████████▋                                                                                                                 | 191/780 [31:55<1:35:50,  9.76s/it]"
     ]
    },
    {
     "name": "stdout",
     "output_type": "stream",
     "text": [
      "\n",
      "(\"Abs. minimum temperature\", \"is\", \"-27.8 °C (−18.0 °F) in Ptolemaida\")\n",
      "(\"Abs. maximum temperature\", \"is\", \"48.0 °C (118.4 °F) in Elefsina and Tatoi\")\n",
      "(\"48.0 °C (118.4 °F)\", \"was recorded by\", \"minimum/maximum thermometers in Tatoi and Elefsina\")\n",
      "(\"Dr. Athanasios D. Sarantopoulos\", \"reported\", \"the 48.0 °C (118.4 °F) temperature\")\n",
      "(\"48.0 °C (118.4 °F)\", \"is\", \"the WMO record high temperature for Greece and Europe\")\n",
      "-\n"
     ]
    },
    {
     "name": "stderr",
     "output_type": "stream",
     "text": [
      " 25%|████████████████████████████████████▉                                                                                                                 | 192/780 [32:05<1:37:15,  9.92s/it]"
     ]
    },
    {
     "name": "stdout",
     "output_type": "stream",
     "text": [
      "\n",
      "(\"Snoopy\", \"is a\", \"loyal and good-natured beagle\")\n",
      "(\"Snoopy\", \"imagines himself as\", \"an author\")\n",
      "(\"Snoopy\", \"imagines himself as\", \"a college student known as 'Joe Cool'\")\n",
      "(\"Snoopy\", \"imagines himself as\", \"an attorney\")\n",
      "(\"Snoopy\", \"imagines himself as\", \"a British World War I flying ace\")\n",
      "(\"Snoopy\", \"is best known as\", \"being a British World War I flying ace\")\n",
      "(\"Snoopy\", \"wears\", \"an aviator's helmet and goggles\")\n",
      "(\"Snoopy\", \"wears\", \"a scarf\")\n",
      "(\"Snoopy\", \"carries\", \"a swagger stick\")\n",
      "-\n"
     ]
    },
    {
     "name": "stderr",
     "output_type": "stream",
     "text": [
      " 25%|█████████████████████████████████████                                                                                                                 | 193/780 [32:15<1:38:20, 10.05s/it]"
     ]
    },
    {
     "name": "stdout",
     "output_type": "stream",
     "text": [
      "\n",
      "(\"Scooby-Doo\", \"is an\", \"American animated franchise\")\n",
      "(\"Scooby-Doo\", \"comprises many animated television series\", \"produced from 1969 to the present\")\n",
      "(\"Scooby-Doo\", \"has derivative media\", \"related to the franchise\")\n",
      "(\"Joe Ruby and Ken Spears\", \"created\", \"the original series Scooby-Doo, Where Are You!\")\n",
      "(\"Hanna-Barbera Productions\", \"developed\", \"the original series Scooby-Doo, Where Are You!\")\n",
      "(\"the original series Scooby Doo, Where Are You!\", \"is a Saturday morning cartoon series\", \"featuring teenagers Fred Jones, Daphne Blake, Velma Dinkley, and Norville 'Shaggy' Rogers\")\n",
      "(\"the original series Scooby-Doo, Where Are You!\", \"features a talking brown great dane named Scooby-Doo\", \"who solves mysteries involving supposedly supernatural creatures\")\n",
      "-\n"
     ]
    },
    {
     "name": "stderr",
     "output_type": "stream",
     "text": [
      " 25%|█████████████████████████████████████▎                                                                                                                | 194/780 [32:23<1:30:35,  9.28s/it]"
     ]
    },
    {
     "name": "stdout",
     "output_type": "stream",
     "text": [
      "\n",
      "(\"Hibernation\", \"has a purpose\", \"conserve energy when sufficient food is unavailable\")\n",
      "(\"Hibernation\", \"involves\", \"decreasing metabolic rate and body temperature\")\n",
      "(\"Hibernation\", \"lasts\", \"days, weeks, or months depending on species, ambient temperature, time of year, and individual body-condition\")\n",
      "(\"Animals\", \"need\", \"to store enough energy to last through the duration of their dormant period\")\n",
      "(\"Larger species\", \"become\", \"hyperphagic\")\n",
      "(\"Larger species\", \"eat\", \"a large amount of food and store the energy in fat\")\n",
      "(\"Small species\", \"replace eating\", \"with food caching\")\n",
      "-\n"
     ]
    },
    {
     "name": "stderr",
     "output_type": "stream",
     "text": [
      " 25%|█████████████████████████████████████▌                                                                                                                | 195/780 [32:26<1:11:51,  7.37s/it]"
     ]
    },
    {
     "name": "stdout",
     "output_type": "stream",
     "text": [
      "\n",
      "(\"Western Europe\", \"is\", \"the region comprising the western part of Europe\")\n",
      "(\"Western Europe\", \"commonly known as\", \"Western Europe\")\n",
      "(\"Western Europe\", \"is composed of\", \"which countries\")\n",
      "(\"Western Europe\", \"there is no consensus on\", \"which countries comprise it\")\n",
      "-\n"
     ]
    },
    {
     "name": "stderr",
     "output_type": "stream",
     "text": [
      " 25%|█████████████████████████████████████▋                                                                                                                | 196/780 [32:44<1:44:16, 10.71s/it]"
     ]
    },
    {
     "name": "stdout",
     "output_type": "stream",
     "text": [
      "\n",
      "(\"Koalas\", \"were hunted by\", \"Indigenous Australians\")\n",
      "(\"Koalas\", \"were depicted in myths and cave art for\", \"millennia\")\n",
      "(\"Koalas\", \"were first recorded encountered by\", \"a European in 1798\")\n",
      "(\"George Perry\", \"published an image of\", \"the koala in 1810\")\n",
      "(\"Robert Brown\", \"wrote the first scientific description of\", \"the koala in 1814\")\n",
      "(\"John Gould\", \"illustrated and described\", \"the koala\")\n",
      "(\"John Gould\", \"introduced the species to\", \"the British public\")\n",
      "(\"Koalas\", \"were hunted heavily for their fur in the\", \"early 20th century\")\n",
      "(\"Koalas\", \"were the subject of a public outcry in\", \"Queensland\")\n",
      "(\"Koalas\", \"were listed as\", \"Vulnerable by the International Union for Conservation of Nature\")\n",
      "(\"Habitat destruction\", \"is a threat to koalas caused by\", \"agriculture, urbanisation, droughts and associated bushfires, some related to climate change\")\n",
      "(\"Habitat destruction\", \"increases risks from\", \"vehicle traffic, dog attacks, pesticides in waterways, and increased food competition\")\n",
      "-\n"
     ]
    },
    {
     "name": "stderr",
     "output_type": "stream",
     "text": [
      " 25%|█████████████████████████████████████▉                                                                                                                | 197/780 [33:01<2:02:49, 12.64s/it]"
     ]
    },
    {
     "name": "stdout",
     "output_type": "stream",
     "text": [
      "\n",
      "(\"Males\", \"measure\", \"38–56 centimetres (15–22 in) in body length\")\n",
      "(\"Males\", \"have a tail length of\", \"9–12 centimetres (3.5–4.7 in)\")\n",
      "(\"Males\", \"weigh\", \"880–1,800 grams (1.94–3.97 lb)\")\n",
      "(\"Females\", \"have a body length of\", \"35–51 centimetres (14–20 in)\")\n",
      "(\"Females\", \"have a tail length of\", \"7.2–11.5 centimetres (2.8–4.5 in)\")\n",
      "(\"Winter pelage\", \"is longer and more luxurious than\", \"the summer coat\")\n",
      "(\"Subspecies\", \"display geographic variations of fur colour\", \"which ranges from light to dark brown\")\n",
      "(\"Individuals\", \"have a light patch of fur on their throat\", \"which may be gray, white, or pale yellow\")\n",
      "(\"The fur\", \"is softer and silkier than\", \"that of American martens\")\n",
      "(\" Japanese sables\", \"are marked with black on their legs and feet\", \"\")\n",
      "(\"Sables\", \"greatly resemble pine martens in size and appearance\", \"\")\n",
      "(\"Sables\", \"have more elongated heads\", \"than pine martens\")\n",
      "(\"Sables\",\n",
      "-\n"
     ]
    },
    {
     "name": "stderr",
     "output_type": "stream",
     "text": [
      " 25%|██████████████████████████████████████                                                                                                                | 198/780 [33:09<1:47:08, 11.05s/it]"
     ]
    },
    {
     "name": "stdout",
     "output_type": "stream",
     "text": [
      "\n",
      "(\"Bactrian camel\", \"is a type of\", \"large, even-toed ungulate\")\n",
      "(\"Bactrian camel\", \"is native to\", \"the steppes of Central Asia\")\n",
      "(\"Bactrian camel\", \"has two humps on its back\", \"in contrast to the single-humped dromedary camel\")\n",
      "(\"Bactrian camel\", \"has a population of\", \"two million\")\n",
      "(\"Bactrian camel\", \"mainly exists in\", \"the domesticated form\")\n",
      "(\"Bactrian camel\", \"gets its name from\", \"the ancient historical region of Bactria\")\n",
      "-\n"
     ]
    },
    {
     "name": "stderr",
     "output_type": "stream",
     "text": [
      " 26%|██████████████████████████████████████▎                                                                                                               | 199/780 [33:21<1:50:14, 11.38s/it]"
     ]
    },
    {
     "name": "stdout",
     "output_type": "stream",
     "text": [
      "\n",
      "(\"Nearly all mammals\", \"are\", \"endothermic\")\n",
      "(\"Most mammals\", \"have\", \"hair to help keep them warm\")\n",
      "(\"Like birds\", \"mammals can\", \"forage or hunt in cold weather\")\n",
      "(\"Endothermy\", \"requires\", \"plenty of food energy\")\n",
      "(\"Mammals\", \"eat more food per unit of body weight than\", \"most reptiles\")\n",
      "(\"Small insectivorous mammals\", \"eat\", \"prodigious amounts for their size\")\n",
      "(\"The naked mole-rat\", \"produces\", \"little metabolic heat\")\n",
      "(\"The naked mole-rat\", \"is considered\", \"an operational poikilotherm\")\n",
      "(\"Birds\", \"are also\", \"endothermic\")\n",
      "(\"Endothermy\", \"is not unique to\", \"mammals\")\n",
      "-\n"
     ]
    },
    {
     "name": "stderr",
     "output_type": "stream",
     "text": [
      " 26%|██████████████████████████████████████▍                                                                                                               | 200/780 [33:37<2:05:23, 12.97s/it]"
     ]
    },
    {
     "name": "stdout",
     "output_type": "stream",
     "text": [
      "\n",
      "(\"police force\", \"hired and dedicated to\", \"the airport\")\n",
      "(\"Irish Airport Police Service\", \"is a branch of\", \"the local police department\")\n",
      "(\"local police department\", \"are stationed at\", \"the airport\")\n",
      "(\"local police department\", \"are assigned\", \"to the airport\") \n",
      "(\"country's airport protection service\", \"has police\", \"dog services\")\n",
      "(\"other resources\", \"include\", \"security guards\")\n",
      "(\"other resources\", \"include\", \"paramilitary forces\")\n",
      "(\"other resources\", \"include\", \"military forces\")\n",
      "(\"travelers\", \"carry either weapons or items that could be used as weapons on board aircraft\", \"hijack the plane\")\n",
      "(\"travelers\", \"are screened by\", \"metal detectors and/or millimeter wave scanners\")\n",
      "(\"TSA\", \"is working on\", \"new scanning machines\")\n",
      "(\"new scanning machines\", \"are effective searching for objects that are not allowed in the airplanes\", \"that do not depict the passengers in a state of undress\")\n",
      "(\"explosive detection machines\", \"can be used for\", \"carry-on and checked baggage\")\n",
      "(\"explosive detection machines\", \"detect volatile compounds given off from explosives using\", \"gas chromatography\")\n",
      "-\n"
     ]
    },
    {
     "name": "stderr",
     "output_type": "stream",
     "text": [
      " 26%|██████████████████████████████████████▋                                                                                                               | 201/780 [33:53<2:14:07, 13.90s/it]"
     ]
    },
    {
     "name": "stdout",
     "output_type": "stream",
     "text": [
      " (\"crocodiles\", \"feed by\", \"grabbing and holding onto their prey\")\n",
      "(\"crocodiles\", \"have evolved\", \"sharp teeth for piercing and holding onto flesh\")\n",
      "(\"crocodiles\", \"have powerful muscles to\", \"close the jaws and hold them shut\")\n",
      "(\"crocodiles' teeth\", \"are not suited to\", \"tearing flesh off of large prey items\")\n",
      "(\"crocodiles' teeth\", \"have an advantage in that\", \"they allow it to hold onto prey with the least possibility of the prey animal escaping\")\n",
      "(\"crocodiles\", \"have a bite force of\", \"more than 5,000 lbf\")\n",
      "(\"a 5.2m long saltwater crocodile\", \"has a bite force of\", \"3,700 lbf\")\n",
      "(\"Dr. Gregory M. Erickson\", \"led a study\", \"estimating the bite forces of 6-m crocodiles at 7,700 lbf\")\n",
      "(\"an 11-to-12-metre (36–39 ft) Deinosuchus\", \"would apply a force of\", \"23,100 lbf\")\n",
      "(\"crocodiles\", \"have large space for jaw muscle in their skull\", \"visible as bulge at each side\")\n",
      "(\"crocodiles\", \"have most of the muscle in jaw arranged for\", \"clamping down\")\n",
      "(\"crocodiles\", \"have\n",
      "-\n"
     ]
    },
    {
     "name": "stderr",
     "output_type": "stream",
     "text": [
      " 26%|██████████████████████████████████████▊                                                                                                               | 202/780 [34:11<2:25:36, 15.12s/it]"
     ]
    },
    {
     "name": "stdout",
     "output_type": "stream",
     "text": [
      "\n",
      "(\"Smilodon\", \"was around the size of\", \"modern big cats\")\n",
      "(\"Smilodon\", \"was more robustly built\", \"\")\n",
      "(\"Smilodon\", \"had a reduced lumbar region\", \"\")\n",
      "(\"Smilodon\", \"had a high scapula\", \"\")\n",
      "(\"Smilodon\", \"had a short tail\", \"\")\n",
      "(\"Smilodon\", \"had broad limbs\", \"\")\n",
      "(\"Smilodon\", \"had relatively short feet\", \"\")\n",
      "(\"Smilodon\", \"had relatively long canine teeth\", \"\")\n",
      "(\"Smilodon\", \"had the longest canines found in the saber-toothed cats\",\"\")\n",
      "(\"Smilodon\", \"skull was robustly proportioned\", \"\")\n",
      "(\"Smilodon\", \"muzzle was short and broad\", \"\")\n",
      "(\"Smilodon\", \"cheekbones were deep and widely arched\", \"\")\n",
      "(\"Smilodon\", \"sagittal crest was prominent\", \"\")\n",
      "(\"Smilodon\", \"frontal region was slightly convex\", \"\")\n",
      "(\"Smilodon\", \"mandible had a flange on each side of the front\", \"\")\n",
      "(\"Smilodon\", \"upper incisors were large, sharp, and slanted forwards\", \"\")\n",
      "(\"Smilodon\", \"mandible had a diastema (gap) between the incisors and m\n",
      "-\n"
     ]
    },
    {
     "name": "stderr",
     "output_type": "stream",
     "text": [
      " 26%|███████████████████████████████████████                                                                                                               | 203/780 [34:20<2:07:05, 13.22s/it]"
     ]
    },
    {
     "name": "stdout",
     "output_type": "stream",
     "text": [
      "\n",
      "(\"Pizza\", \"is of\", \"Italian origin\")\n",
      "(\"Pizza\", \"consists of\", \"a usually round, flattened base of leavened wheat-based dough\")\n",
      "(\"Pizza\", \"is topped with\", \"tomatoes, cheese, and often various other ingredients (anchovies, olives, meat, etc.)\")\n",
      "(\"Pizza\", \"is baked at\", \"a high temperature\")\n",
      "(\"Pizza\", \"is traditionally baked in\", \"a wood-fired oven\")\n",
      "(\"A small pizza\", \"is sometimes called\", \"a pizzetta\")\n",
      "-\n"
     ]
    },
    {
     "name": "stderr",
     "output_type": "stream",
     "text": [
      " 26%|███████████████████████████████████████▏                                                                                                              | 204/780 [34:42<2:32:38, 15.90s/it]"
     ]
    },
    {
     "name": "stdout",
     "output_type": "stream",
     "text": [
      "\n",
      "(\"Saltwater crocodile\", \"has the greatest size sexual dimorphism of\", \"any extant crocodilian\")\n",
      "(\"Saltwater crocodile\", \"has males average\", \"about 4 to 5 times as massive as adult females\")\n",
      "(\"Saltwater crocodile\", \"has males\", \"sometimes measure twice her total length\")\n",
      "(\"Saltwater crocodile\", \"reason for the male skewered dimorphism\", \"not definitively known\")\n",
      "(\"Saltwater crocodile\", \"reason for the male skewered dimorphism\", \"might be correlated with sex-specific territoriality\")\n",
      "(\"Saltwater crocodile\", \"reason for the male skewered dimorphism\", \"need for adult male saltwater crocodiles to monopolise large stretches of habitat\")\n",
      "(\"Saltwater crocodile\", \"average length of the species is\", \"3.8–4 m (150–160 in)\")\n",
      "(\"Saltwater crocodile\", \"inhabits\", \"coastal brackish mangrove swamps and river deltas\")\n",
      "(\"Saltwater crocodile\", \"is found in\", \"India's east coast, Sri Lanka and Bangladesh to Myanmar, Thailand, Malaysia, Cambodia, Vietnam, Brunei Darussalam, Indonesia, Philippines, Palau, Solomon Islands, Vanuatu and Australia's north coast\")\n",
      "(\"Saltwater crocodile\", \"is found in\", \" Odisha's Bhitarkanika Wildlife Sanctuary and in Subarn\n",
      "-\n"
     ]
    },
    {
     "name": "stderr",
     "output_type": "stream",
     "text": [
      " 26%|███████████████████████████████████████▍                                                                                                              | 205/780 [34:51<2:10:21, 13.60s/it]"
     ]
    },
    {
     "name": "stdout",
     "output_type": "stream",
     "text": [
      "\n",
      "(\"Its tail\", \"is between\", \"80 to 105 cm\")\n",
      "(\"Its tail\", \"is between\", \"31 to 41 in\")\n",
      "(\"It\", \"weighs between\", \"22 to 55 kg\")\n",
      "(\"It\", \"weighs between\", \"49 to 121 lb\") \n",
      "(\"It\", \"has a maximum weight of\", \"75 kg\") \n",
      "(\"It\", \"has a minimum weight of\", \"25 kg\") \n",
      "(\"Its canine teeth\", \"are\", \"28.6 mm\")\n",
      "(\"Its canine teeth\", \"are\", \"1.13 in\")\n",
      "(\"Its canine teeth\", \"are more slender than\", \"those of the other Panthera species\")\n",
      "-\n"
     ]
    },
    {
     "name": "stderr",
     "output_type": "stream",
     "text": [
      " 26%|███████████████████████████████████████▌                                                                                                              | 206/780 [35:02<2:03:07, 12.87s/it]"
     ]
    },
    {
     "name": "stdout",
     "output_type": "stream",
     "text": [
      "\n",
      "(\"Solteiro\", \"has size\", \"80 cm (31 in)\")\n",
      "(\"Solteiro\", \"has size\", \"90 cm (35 in)\")\n",
      "(\"Casal\", \"has size\", \"140 cm (55 in)\")\n",
      "(\"Queen size\", \"has size\", \"160 cm (63 in)\")\n",
      "(\"King size\", \"has size\", \"180 cm (71 in)\")\n",
      "(\"Super king size\", \"has size\", \"200 cm (79 in)\")\n",
      "(\"Beds\", \"are typically\", \"190 cm (75 in) long\")\n",
      "(\"Beds\", \"can be\", \"200 cm (79 in) long\")\n",
      "-\n"
     ]
    },
    {
     "name": "stderr",
     "output_type": "stream",
     "text": [
      " 27%|███████████████████████████████████████▊                                                                                                              | 207/780 [35:12<1:54:09, 11.95s/it]"
     ]
    },
    {
     "name": "stdout",
     "output_type": "stream",
     "text": [
      "\n",
      "(\"Donald Trump\", \"is\", \"the 45th and incumbent president\")\n",
      "(\"Donald Trump\", \"has launched a re-election campaign for\", \"the Republican primaries\")\n",
      "(\"Several state Republican Party organizations\", \"have cancelled their primaries in a show of support for\", \"Donald Trump's candidacy\")\n",
      "(\"Donald Trump\", \"became the presumptive Republican nominee on\", \"March 17, 2020\")\n",
      "(\"Donald Trump\", \"secured a majority of\", \"pledged delegates\")\n",
      "(\"29 major candidates\", \"launched campaigns for\", \"the Democratic nomination\")\n",
      "(\"The largest field of candidates for any political party in the post-reform period of American politics\", \"was for\", \"the Democratic nomination\")\n",
      "(\"Joe Biden\", \"became the presumptive Democratic nominee when\", \"Senator Bernie Sanders suspended his campaign on April 8, 2020\")\n",
      "(\"The winner of the 2020 presidential election\", \"is scheduled to be\", \"inaugurated on January 20, 2021\")\n",
      "-\n"
     ]
    },
    {
     "name": "stderr",
     "output_type": "stream",
     "text": [
      " 27%|████████████████████████████████████████                                                                                                              | 208/780 [35:15<1:30:16,  9.47s/it]"
     ]
    },
    {
     "name": "stdout",
     "output_type": "stream",
     "text": [
      "\n",
      "(\"the species\", \"has a large range\", \"with figures between one and ten million km2\")\n",
      "(\"the species\", \"has a current global population\", \"estimated to be up to 500,000 individuals\")\n",
      "(\"the species\", \"has no threat of extinction\", \"or significant decline in population\")\n",
      "(\"the species\", \"is\", \"numerous and widespread\")\n",
      "-\n"
     ]
    },
    {
     "name": "stderr",
     "output_type": "stream",
     "text": [
      " 27%|████████████████████████████████████████▏                                                                                                             | 209/780 [35:37<2:04:04, 13.04s/it]"
     ]
    },
    {
     "name": "stdout",
     "output_type": "stream",
     "text": [
      "\n",
      "(\"peregrine falcon\", \"has scientific name\", \"Falco peregrinus\")\n",
      "(\"peregrine falcon\", \"also known as\", \"duck hawk in North America\")\n",
      "(\"peregrine falcon\", \"is a\", \"raptor\")\n",
      "(\"peregrine falcon\", \"has a blue-grey back and\", \"barred white underparts\")\n",
      "(\"peregrine falcon\", \"has a\", \"black head\")\n",
      "(\"peregrine falcon\", \"is renowned for its speed\", \"reaching over 320 km/h (200 mph) during its characteristic hunting stoop\")\n",
      "(\"peregrine falcon\", \"is the fastest\", \"bird in the world\")\n",
      "(\"peregrine falcon\", \"is the fastest\", \"member of the animal kingdom\")\n",
      "(\"peregrine falcon\", \"has a highest measured speed of\", \"389 km/h (242 mph)\")\n",
      "(\"peregrine falcon\", \"females are\", \"considerably larger than males\")\n",
      "(\"peregrine falcon\", \"has fastest visual processing speed than any animal\", \"tested so far\")\n",
      "(\"peregrine falcon\", \"can register discrete changes\", \"up to 129 Hz or cycles per second\")\n",
      "(\"film\", \"needs to be changing at to appear as fluid for humans\", \"24\n",
      "-\n"
     ]
    },
    {
     "name": "stderr",
     "output_type": "stream",
     "text": [
      " 27%|████████████████████████████████████████▍                                                                                                             | 210/780 [35:48<1:58:24, 12.46s/it]"
     ]
    },
    {
     "name": "stdout",
     "output_type": "stream",
     "text": [
      "\n",
      "(\"Hearing ability of dog\", \"dependent on\", \"breed and age\")\n",
      "(\"Hearing ability of dog\", \"has a range of\", \"67 Hz to 45 kHz\")\n",
      "(\"German shepherd\", \"hearing range\", \"narrows with age\")\n",
      "(\"Miniature poodle\", \"hearing range\", \"narrows with age\")\n",
      "(\"Hearing ability of dog\", \"involves\", \"moving ears towards sound\") \n",
      "(\"Dog\", \"contains\", \"at least 18 muscles for ear control\") \n",
      "(\"Dog\", \"uses ear shape\", \"for sound accuracy\") \n",
      "(\"Dog breeds\", \"often have\", \"upright and curved ears\") \n",
      "(\"Upright and curved ears\", \"direct and amplify\", \"sounds\")\n",
      "-\n"
     ]
    },
    {
     "name": "stderr",
     "output_type": "stream",
     "text": [
      " 27%|████████████████████████████████████████▌                                                                                                             | 211/780 [35:54<1:41:27, 10.70s/it]"
     ]
    },
    {
     "name": "stdout",
     "output_type": "stream",
     "text": [
      "\n",
      "(\"bicycle\", \"is extraordinarily efficient in\", \"biological and mechanical terms\")\n",
      "(\"bicycle\", \"is the most efficient human-powered means of transportation in terms of energy a person must expend to travel a given distance\", \"true\")\n",
      "(\"bicycle\", \"transmits up to\", \"99% of the energy delivered by the rider into the pedals\")\n",
      "(\"bicycle\", \"may reduce transmission by\", \"10-15% due to gearing mechanisms\")\n",
      "-\n"
     ]
    },
    {
     "name": "stderr",
     "output_type": "stream",
     "text": [
      " 27%|████████████████████████████████████████▊                                                                                                             | 212/780 [36:03<1:34:28,  9.98s/it]"
     ]
    },
    {
     "name": "stdout",
     "output_type": "stream",
     "text": [
      "\n",
      "(\"Crabs\", \"are\", \"decapod crutaceans\")\n",
      "(\"Crabs\", \"have a short projecting tail\", \"abdomen\")\n",
      "(\"Crabs\", \"live in\", \"all the world's oceans\") \n",
      "(\"Crabs\", \"live in\", \"fresh water\")\n",
      "(\"Crabs\", \"live on\", \"land\")\n",
      "(\"Crabs\", \"have\", \"a thick exoskeleton\")\n",
      "(\"Crabs\", \"have\", \"a single pair of pincers\")\n",
      "(\"Hermit crabs\", \"are not\", \"true crabs\")\n",
      "(\"King crabs\", \"are not\", \"true crabs\") \n",
      "(\"Porcelain crabs\", \"are not\", \"true crabs\")\n",
      "(\"Horseshoe crabs\", \"are not\", \"true crabs\")\n",
      "(\"Crab lice\", \"are not\", \"true crabs\")\n",
      "-\n"
     ]
    },
    {
     "name": "stderr",
     "output_type": "stream",
     "text": [
      " 27%|████████████████████████████████████████▉                                                                                                             | 213/780 [36:12<1:33:20,  9.88s/it]"
     ]
    },
    {
     "name": "stdout",
     "output_type": "stream",
     "text": [
      "\n",
      "(\"Charles Robert Darwin\", \"is an\", \"English naturalist\")\n",
      "(\"Charles Robert Darwin\", \"is an\", \"geologist\")\n",
      "(\"Charles Robert Darwin\", \"is an\", \"biologist\")\n",
      "(\"Charles Robert Darwin\", \"is best known for\", \"his contributions to the science of evolution\")\n",
      "(\"Charles Robert Darwin\", \"proposed\", \"all species of life have descended over time from common ancestors\")\n",
      "(\"Charles Robert Darwin\", \"published with\", \"Alfred Russel Wallace\")\n",
      "(\"Charles Robert Darwin\", \"introduced\", \"his scientific theory that this branching pattern of evolution resulted from a process\")\n",
      "(\"Charles Robert Darwin\", \"called his scientific theory\", \"natural selection\")\n",
      "(\"Charles Robert Darwin\", \"was honored by\", \"burial in Westminster Abbey\")\n",
      "-\n"
     ]
    },
    {
     "name": "stderr",
     "output_type": "stream",
     "text": [
      " 27%|█████████████████████████████████████████▏                                                                                                            | 214/780 [36:19<1:24:01,  8.91s/it]"
     ]
    },
    {
     "name": "stdout",
     "output_type": "stream",
     "text": [
      "\n",
      "(\"Mongooses\", \"have\", \"long faces and bodies\")\n",
      "(\"Mongooses\", \"have\", \"small, rounded ears\")\n",
      "(\"Mongooses\", \"have\", \"short legs\")\n",
      "(\"Mongooses\", \"have\", \"long, tapering tails\")\n",
      "(\"Mongooses\", \"have\", \"brindled or grizzly coats\")\n",
      "(\"Mongooses\", \"have\", \"nonretractile claws\")\n",
      "(\"Mongooses\", \"have\", \"narrow, ovular pupils\")\n",
      "(\"Mongooses\", \"have\", \"a large anal scent gland\")\n",
      "(\"Mongooses\", \"have a dental formula of\", \"3\")\n",
      "-\n"
     ]
    },
    {
     "name": "stderr",
     "output_type": "stream",
     "text": [
      " 28%|█████████████████████████████████████████▎                                                                                                            | 215/780 [36:22<1:07:55,  7.21s/it]"
     ]
    },
    {
     "name": "stdout",
     "output_type": "stream",
     "text": [
      "\n",
      "(\"DXA scan\", \"is typically used to\", \"diagnose and follow osteoporosis\")\n",
      "(\"DXA scan\", \"is contrasted to\", \"nuclear bone scan\")\n",
      "(\"nuclear bone scan\", \"is sensitive to\", \"certain metabolic diseases of bones\")\n",
      "(\"metabolic diseases of bones\", \"are attempting to heal from\", \"infections, fractures, or tumors\")\n",
      "-\n"
     ]
    },
    {
     "name": "stderr",
     "output_type": "stream",
     "text": [
      " 28%|██████████████████████████████████████████                                                                                                              | 216/780 [36:27<59:48,  6.36s/it]"
     ]
    },
    {
     "name": "stdout",
     "output_type": "stream",
     "text": [
      "\n",
      "(\"Skin\", \"is\", \"the layer of usually soft, flexible outer tissue\")\n",
      "(\"Skin\", \"covers\", \"the body of a vertebrate animal\")\n",
      "(\"Skin\", \"has three main functions\", \"protection, regulation, and sensation\")\n",
      "-\n"
     ]
    },
    {
     "name": "stderr",
     "output_type": "stream",
     "text": [
      " 28%|█████████████████████████████████████████▋                                                                                                            | 217/780 [36:39<1:16:43,  8.18s/it]"
     ]
    },
    {
     "name": "stdout",
     "output_type": "stream",
     "text": [
      "\n",
      "(\"mattresses\", \"use non-numeric labels\", \"such as a 'king' or 'full'\")\n",
      "(\"mattresses\", \"are defined by\", \"inches\")\n",
      "(\"most beds\", \"were historically\", \"'twins' or 'doubles'\")\n",
      "(\"mid-1940s\", \"brought the introduction of\", \"larger mattresses\")\n",
      "(\"larger mattresses\", \"were standardised as\", \"'queen' and 'king'\")\n",
      "(\"queen and king mattresses\", \"made a significant impact on\", \"the market in the 1950s and 60s\")\n",
      "(\"standard mattress depth\", \"ranges from\", \"standard size of 9 inches to 'high contour' of up to 13 inches\")\n",
      "(\"US bed sizes\", \"have a length of\", \"either 74 or 80 in\")\n",
      "(\"UK bed sizes\", \"have a length of\", \"either 75 or 78 in\")\n",
      "(\"widths\", \"differ between\", \"US and UK standards\")\n",
      "-\n"
     ]
    },
    {
     "name": "stderr",
     "output_type": "stream",
     "text": [
      " 28%|█████████████████████████████████████████▉                                                                                                            | 218/780 [36:49<1:20:38,  8.61s/it]"
     ]
    },
    {
     "name": "stdout",
     "output_type": "stream",
     "text": [
      "\n",
      "(\"Mark 2\", \"weighed\", \"10.8 kg\")\n",
      "(\"Mark 1 frames\", \"have been reduced to\", \"8 kg\")\n",
      "(\"Stock bikes\", \"ranged from\", \"10.2 kg\")\n",
      "(\"Stock bikes\", \"ranged up to\", \"over 12 kg\")\n",
      "(\"3x8 gearing systems\", \"involve\", \"an internally geared rear hub\")\n",
      "(\"3x8 gearing systems\", \"involve\", \"an external derailleur\")\n",
      "(\"Birdy Race\", \"was introduced in\", \"2013\")\n",
      "(\"Birdy Race\", \"has dropped handlebars\", \"true\")\n",
      "(\"Birdy Race\", \"has Shimano 20-speed gears with two front chainrings\", \"true\")\n",
      "-\n"
     ]
    },
    {
     "name": "stderr",
     "output_type": "stream",
     "text": [
      " 28%|██████████████████████████████████████████                                                                                                            | 219/780 [36:56<1:15:55,  8.12s/it]"
     ]
    },
    {
     "name": "stdout",
     "output_type": "stream",
     "text": [
      "\n",
      "(\"dog hearing\", \"has a frequency range of\", \"16-40 Hz\")\n",
      "(\"dog hearing\", \"has a frequency range of\", \" up to 45-60 kHz\")\n",
      "(\"dog hearing\", \"has a frequency range higher than\", \"humans\")\n",
      "(\"humans\", \"have a frequency range of\", \"20-70 Hz\")\n",
      "(\"humans\", \"have a frequency range of\", \"13-20 kHz\")\n",
      "-\n"
     ]
    },
    {
     "name": "stderr",
     "output_type": "stream",
     "text": [
      " 28%|██████████████████████████████████████████▎                                                                                                           | 220/780 [37:12<1:37:44, 10.47s/it]"
     ]
    },
    {
     "name": "stdout",
     "output_type": "stream",
     "text": [
      "\n",
      "(\"Aesop\", \"is fond of\", \"Fables\")\n",
      "(\"Aesop\", \"devotes himself to\", \"Fables\")\n",
      "(\"Aesop\", \"checks\", \"greed\")\n",
      "(\"Aesop\", \"rebukes\", \"insolence and deceit\")\n",
      "(\"Aesop\", \"uses animals as\", \"mouthpiece\")\n",
      "(\"Fables\", \"honored because of\", \"Aesop\")\n",
      "(\"Fables\", \"gather at\", \"the doors of the wise man\")\n",
      "(\"Fables\", \"bind\", \"fillets about Aesop's head\")\n",
      "(\"Fables\", \"crown\", \"Aesop with a victor's crown of wild olive\")\n",
      "(\"Aesop\", \"weaves\", \"some fable\")\n",
      "(\"painting\", \"represents\", \"persons of the Fables\")\n",
      "(\"painting\", \"combines\", \"animals with men to make a chorus about Aesop\")\n",
      "(\"Spain\", \"had\", \"La vida del Ysopet con sus fabulas historiadas\")\n",
      "(\"France\", \"had\", \"I. Baudoin's Fables d'Ésope Phrygien\")\n",
      "(\"France\", \"had\", \"Matthieu Guillemot's Les images ou tableaux de platte peinture des deux Philostrates\")\n",
      "(\"England\", \"had\", \"Francis C\n",
      "-\n"
     ]
    },
    {
     "name": "stderr",
     "output_type": "stream",
     "text": [
      " 28%|██████████████████████████████████████████▌                                                                                                           | 221/780 [37:24<1:42:21, 10.99s/it]"
     ]
    },
    {
     "name": "stdout",
     "output_type": "stream",
     "text": [
      "\n",
      "(\"Goblin shark\", \"feeds on\", \"teleost fishes such as rattails and dragonfishes\")\n",
      "(\"Goblin shark\", \"also consumes\", \"cephalopods and crustaceans\")\n",
      "(\"Goblin shark\", \"also consumes\", \"decapods and isopods\")\n",
      "(\"Goblin shark\", \"has been recorded to consume\", \"garbage\")\n",
      "(\"Goblin shark\", \"known prey includes\", \"bottom-dwelling species such as the blackbelly rosefish\")\n",
      "(\"Goblin shark\", \"known prey includes\", \"midwater species such as the squid Teuthowenia pellucida\")\n",
      "(\"Goblin shark\", \"known prey includes\", \"the ostracod Macrocypridina castanea rotunda\")\n",
      "(\"Goblin shark\", \"forages for food\", \"near the sea floor\")\n",
      "(\"Goblin shark\", \"forages for food\", \"far above it\")\n",
      "-\n"
     ]
    },
    {
     "name": "stderr",
     "output_type": "stream",
     "text": [
      " 28%|██████████████████████████████████████████▋                                                                                                           | 222/780 [37:34<1:41:19, 10.90s/it]"
     ]
    },
    {
     "name": "stdout",
     "output_type": "stream",
     "text": [
      "\n",
      "(\"Black Sea\", \"has\", \"dinoflagellates\")\n",
      "(\"Black Sea\", \"has\", \"diatoms\")\n",
      "(\"Black Sea\", \"has\", \"coccolithophores\")\n",
      "(\"Black Sea\", \"has\", \"cyanobacteria\")\n",
      "(\"Annual cycle of phytoplankton development\", \"comprises\", \"significant diatom and dinoflagellate-dominated spring production\")\n",
      "(\"Annual cycle of phytoplankton development\", \"follows with\", \"weaker mixed assemblage of community development below the seasonal thermocline during summer months\")\n",
      "(\"Annual cycle of phytoplankton development\", \"has\", \"surface-intensified autumn production\")\n",
      "(\"Annual cycle of phytoplankton development\", \"is augmented by\", \"an Emiliania huxleyi bloom during the late spring and summer months\")\n",
      "-\n"
     ]
    },
    {
     "name": "stderr",
     "output_type": "stream",
     "text": [
      " 29%|██████████████████████████████████████████▉                                                                                                           | 223/780 [37:40<1:27:17,  9.40s/it]"
     ]
    },
    {
     "name": "stdout",
     "output_type": "stream",
     "text": [
      "\n",
      "(\"Rats\", \"can serve as\", \"zoonotic vectors\")\n",
      "(\"Rats\", \"can spread\", \"disease\")\n",
      "(\"Disease\", \"includes\", \"bubonic plague\")\n",
      "(\"Disease\", \"includes\", \"Lassa fever\")\n",
      "(\"Disease\", \"includes\", \"leptospirosis\")\n",
      "(\"Disease\", \"includes\", \"Hantavirus infection\")\n",
      "-\n"
     ]
    },
    {
     "name": "stderr",
     "output_type": "stream",
     "text": [
      " 29%|███████████████████████████████████████████                                                                                                           | 224/780 [37:48<1:23:25,  9.00s/it]"
     ]
    },
    {
     "name": "stdout",
     "output_type": "stream",
     "text": [
      "\n",
      "(\"horse\", \"adapted to\", \" survive in areas of wide-open terrain with sparse vegetation\")\n",
      "(\"horse\", \"survives in\", \" an ecosystem\")\n",
      "(\"horse\", \"belongs to\", \" family Equidae\")\n",
      "(\"other large grazing animals\", \"could not survive in\", \"horse's ecosystem\")\n",
      "(\"Equidae family\", \"includes\", \"horse and related species\")\n",
      "(\"Order Perissodactyla\", \"contained\", \"14 families in the past\")\n",
      "(\"Order Perissodactyla\", \"is a group of\", \"mammals\")\n",
      "(\"Order Perissodactyla\", \"was dominant during\", \"Tertiary period\")\n",
      "(\"only three families\", \"have survived to the present day\", \"Equidae, Tapiridae, and Rhinocerotidae\")\n",
      "-\n"
     ]
    },
    {
     "name": "stderr",
     "output_type": "stream",
     "text": [
      " 29%|███████████████████████████████████████████▎                                                                                                          | 225/780 [37:58<1:25:18,  9.22s/it]"
     ]
    },
    {
     "name": "stdout",
     "output_type": "stream",
     "text": [
      "\n",
      "(\"Gulo\", \"contains\", \"one extant species\")\n",
      "(\"Gulo\", \"contains\", \"the Wolverine\")\n",
      "(\"Gulo\", \"appeared in\", \"North America\")\n",
      "(\"Gulo\", \"spread to\", \"Eurasia\")\n",
      "(\"Gulo\", \"appeared in\", \"the Pliocene\")\n",
      "(\"Gulo\", \"has\", \"diagnostic traits\")\n",
      "(\"Gulo's diagnostic traits\", \"include\", \"a strongly reduced P2\")\n",
      "(\"Gulo's diagnostic traits\", \"include\", \"a robust P4 with three roots\")\n",
      "(\"Gulo's diagnostic traits\", \"include\", \"upper molars smaller than in other gulonines\")\n",
      "(\"Gulo\", \"are adapted for\", \"hypercarnivory\")\n",
      "-\n"
     ]
    },
    {
     "name": "stderr",
     "output_type": "stream",
     "text": [
      " 29%|███████████████████████████████████████████▍                                                                                                          | 226/780 [38:05<1:19:13,  8.58s/it]"
     ]
    },
    {
     "name": "stdout",
     "output_type": "stream",
     "text": [
      " (\"Zoology\", \"is a branch of\", \"biology\")\n",
      "(\"Zoology\", \"studies\", \"the animal kingdom\")\n",
      "(\"Zoology\", \"studies the structure, embryology, evolution, classification, habits and distribution of\", \"all animals, both living and extinct\")\n",
      "(\"Zoology\", \"studies\", \"how animals interact with their ecosystems\")\n",
      "(\"Zoology\", \"is derived from\", \"Ancient Greek ζῷον, zōion, i.e. 'animal' and λόγος, logos, i.e. 'knowledge, study'\")\n",
      "-\n"
     ]
    },
    {
     "name": "stderr",
     "output_type": "stream",
     "text": [
      " 29%|███████████████████████████████████████████▋                                                                                                          | 227/780 [38:09<1:06:21,  7.20s/it]"
     ]
    },
    {
     "name": "stdout",
     "output_type": "stream",
     "text": [
      "\n",
      "(\"European wildcat\", \"is a species of\", \"Felis silvestris\")\n",
      "(\"European wildcat\", \"is native to\", \"continental Europe, Scotland, Turkey and the Caucasus\")\n",
      "(\"European wildcat\", \"inhabits forests from\", \"the Iberian Peninsula, Italy, Central and Eastern Europe to the Caucasus\")\n",
      "(\"European wildcat\", \"has been extirpated in\", \"England and Wales\")\n",
      "-\n"
     ]
    },
    {
     "name": "stderr",
     "output_type": "stream",
     "text": [
      " 29%|███████████████████████████████████████████▊                                                                                                          | 228/780 [38:17<1:07:13,  7.31s/it]"
     ]
    },
    {
     "name": "stdout",
     "output_type": "stream",
     "text": [
      "\n",
      "(\"Cattle\", \"are\", \"ruminants\")\n",
      "(\"Cattle\", \"have a digestive system\", \"highly specialized to allow the use of poorly digestible plants as food\")\n",
      "(\"Cattle\", \"have one stomach with\", \"four compartments\")\n",
      "(\"four compartments\", \"include\", \"rumen\")\n",
      "(\"four compartments\", \"include\", \"reticulum\")\n",
      "(\"four compartments\", \"include\", \"omasum\")\n",
      "(\"four compartments\", \"include\", \"abomasum\")\n",
      "(\"rumen\", \"is the largest\", \"compartment\")\n",
      "-\n"
     ]
    },
    {
     "name": "stderr",
     "output_type": "stream",
     "text": [
      " 29%|████████████████████████████████████████████                                                                                                          | 229/780 [38:32<1:28:16,  9.61s/it]"
     ]
    },
    {
     "name": "stdout",
     "output_type": "stream",
     "text": [
      "\n",
      "(\"virus\", \"has adapted to\", \"grow in cells of cold-blooded vertebrates\")\n",
      "(\"virus\", \"can infect\", \"most animals\")\n",
      "(\"most animals\", \"can transmit\", \"the disease to humans\")\n",
      "(\"infected bats\", \"present the greatest risk to\", \"humans\")\n",
      "(\"infected monkeys\", \"present the greatest risk to\", \"humans\")\n",
      "(\"infected raccoons\", \"present the greatest risk to\", \"humans\")\n",
      "(\"infected foxes\", \"present the greatest risk to\", \"humans\")\n",
      "(\"infected skunks\", \"present the greatest risk to\", \"humans\")\n",
      "(\"infected cattle\", \"present the greatest risk to\", \"humans\")\n",
      "(\"infected wolves\", \"present the greatest risk to\", \"humans\")\n",
      "(\"infected coyotes\", \"present the greatest risk to\", \"humans\")\n",
      "(\"infected dogs\", \"present the greatest risk to\", \"humans\")\n",
      "(\"infected cats\", \"present the greatest risk to\", \"humans\")\n",
      "(\"infected mongooses\", \"present the greatest risk to\", \"humans\")\n",
      "-\n"
     ]
    },
    {
     "name": "stderr",
     "output_type": "stream",
     "text": [
      " 29%|████████████████████████████████████████████▏                                                                                                         | 230/780 [38:45<1:38:34, 10.75s/it]"
     ]
    },
    {
     "name": "stdout",
     "output_type": "stream",
     "text": [
      "\n",
      "(\"Body colour\", \"varies from\", \"medium brown to goldish to beige-white\")\n",
      "(\"Body colour\", \"is occasionally marked with\", \"dark brown spots\")\n",
      "(\"All species of lynx\", \"have white fur on\", \"their chests, bellies and on the insides of their legs\")\n",
      "(\"Lynx's colouring\", \"varies according\", \"climate in their range\")\n",
      "(\"In the Southwestern United States\", \"lynx are\", \"short-haired, dark in colour\")\n",
      "(\"In the Southwestern United States\", \"lynx have paws that are\", \"smaller and less padded\")\n",
      "(\"As climates get colder and more northerly\", \"lynx have\", \"progressively thicker fur, lighter colour\")\n",
      "(\"As climates get colder and more northerly\", \"lynx have paws that are\", \"larger and more padded to adapt to the snow\")\n",
      "(\"Lynx's paw\", \"may be larger than\", \"a human hand or foot\")\n",
      "-\n"
     ]
    },
    {
     "name": "stderr",
     "output_type": "stream",
     "text": [
      " 30%|████████████████████████████████████████████▍                                                                                                         | 231/780 [38:52<1:28:24,  9.66s/it]"
     ]
    },
    {
     "name": "stdout",
     "output_type": "stream",
     "text": [
      "\n",
      "(\"web search engine\", \"is a software system that is designed to\", \"carry out web search (Internet search)\")\n",
      "(\"web search engine\", \"present information in a line of results\", \"referred to as search engine results pages (SERPs)\")\n",
      "(\"search engine results pages (SERPs)\", \"contain a mix of\", \"links to web pages, images, videos, infographics, articles, research papers, and other types of files\")\n",
      "(\"search engines\", \"maintain real-time information by running an algorithm on a web crawler\", \"True\")\n",
      "-\n"
     ]
    },
    {
     "name": "stderr",
     "output_type": "stream",
     "text": [
      " 30%|████████████████████████████████████████████▌                                                                                                         | 232/780 [38:56<1:13:11,  8.01s/it]"
     ]
    },
    {
     "name": "stdout",
     "output_type": "stream",
     "text": [
      "\n",
      "(\"International Cat Association\", \"describes\", \"the Bengal cat\")\n",
      "(\"Bengal cat\", \"is\", \"active, inquisitive\")\n",
      "(\"Bengal cat\", \"loves to\", \"be up high\")\n",
      "(\"Bengal cat\", \"enjoys\", \"playing, chasing, climbing and investigating\")\n",
      "(\"Bengal cat\", \"tend to be\", \"confident and curious\")\n",
      "-\n"
     ]
    },
    {
     "name": "stderr",
     "output_type": "stream",
     "text": [
      " 30%|████████████████████████████████████████████▊                                                                                                         | 233/780 [39:06<1:18:09,  8.57s/it]"
     ]
    },
    {
     "name": "stdout",
     "output_type": "stream",
     "text": [
      "\n",
      "(\"Pain Level 4\", \"is\", \"the highest level in the Schmidt sting pain index\")\n",
      "(\"Schmidt sting pain index\", \"rated\", \"the sting of the bullet ant as a 4\")\n",
      "(\"Schmidt\", \"has described the sting as\", \"pure, intense, brilliant pain...like walking over flaming charcoal with a three-inch nail embedded in your heel\")\n",
      "(\"Bullet ant's venom\", \"primarily contains\", \"poneratoxin\")\n",
      "(\"Poneratoxin\", \"is a\", \"paralyzing neurotoxic peptide\")\n",
      "-\n"
     ]
    },
    {
     "name": "stderr",
     "output_type": "stream",
     "text": [
      " 30%|█████████████████████████████████████████████                                                                                                         | 234/780 [39:11<1:07:46,  7.45s/it]"
     ]
    },
    {
     "name": "stdout",
     "output_type": "stream",
     "text": [
      "\n",
      "(\"Oculudentavis\", \"has a skull size of\", \"1.4 centimetres (0.55 in)\")\n",
      "(\"Oculudentavis\", \"would be\", \"the smallest known Mesozoic dinosaur\")\n",
      "(\"Oculudentavis\", \"is comparable in size to\", \"the modern bee hummingbird\")\n",
      "(\"modern bee hummingbird\", \"is\", \"the smallest known living dinosaur\")\n",
      "-\n"
     ]
    },
    {
     "name": "stderr",
     "output_type": "stream",
     "text": [
      " 30%|█████████████████████████████████████████████▏                                                                                                        | 235/780 [39:17<1:03:58,  7.04s/it]"
     ]
    },
    {
     "name": "stdout",
     "output_type": "stream",
     "text": [
      "\n",
      "(\"Beavers\", \"continue to grow throughout their\", \"lives\")\n",
      "(\"Beavers\", \"can weigh\", \"over 25 kg (55 lb)\")\n",
      "(\"Females\", \"are as large as or larger than\", \"males of the same age\")\n",
      "(\"Beavers\", \"live up to\", \"24 years of age in the wild\")\n",
      "-\n"
     ]
    },
    {
     "name": "stderr",
     "output_type": "stream",
     "text": [
      " 30%|█████████████████████████████████████████████▉                                                                                                          | 236/780 [39:21<54:33,  6.02s/it]"
     ]
    },
    {
     "name": "stdout",
     "output_type": "stream",
     "text": [
      "\n",
      "(\"lake water\", \"has high salt concentration\", \"unusually dense\")\n",
      "(\"lake water\", \"makes it easier for people to\", \"float\")\n",
      "(\"Gunnison Bay\", \"is the\", \"saltier north arm of the lake\")\n",
      "-\n"
     ]
    },
    {
     "name": "stderr",
     "output_type": "stream",
     "text": [
      " 30%|██████████████████████████████████████████████▏                                                                                                         | 237/780 [39:25<49:12,  5.44s/it]"
     ]
    },
    {
     "name": "stdout",
     "output_type": "stream",
     "text": [
      "\n",
      "(\"Saint Kitts and Nevis\",\"Officially known as\",\"the Federation of Saint Christopher and Nevis\")\n",
      "(\"Saint Kitts and Nevis\",\"Located In\",\"the Leeward Islands chain of the Lesser Antilles\")\n",
      "(\"Saint Kitts and Nevis\",\"Is the smallest sovereign state in\",\"the Western Hemisphere\")\n",
      "(\"Saint Kitts and Nevis\",\"Queen and head of state\",\"Elizabeth II\")\n",
      "-\n"
     ]
    },
    {
     "name": "stderr",
     "output_type": "stream",
     "text": [
      " 31%|█████████████████████████████████████████████▊                                                                                                        | 238/780 [39:37<1:08:24,  7.57s/it]"
     ]
    },
    {
     "name": "stdout",
     "output_type": "stream",
     "text": [
      "\n",
      "(\"queen\", \"comes out of\", \"diapause\")\n",
      "(\"queen\", \"finds\", \"suitable place to create colony\")\n",
      "(\"queen\", \"builds\", \"wax cells\")\n",
      "(\"queen\", \"lays eggs\", \"fertilised the previous year\")\n",
      "(\"eggs\", \"develop into\", \"female workers\")\n",
      "(\"young queens\", \"leave the nest\", \"in autumn\")\n",
      "(\"young queens\", \"mate with\", \"males\")\n",
      "(\"drones\", \"are forced\", \"out of the colony\")\n",
      "(\"drones\", \"die\", \"as the weather turns colder\")\n",
      "(\"young queens\", \"feed intensively\", \"to build up stores of fat\")\n",
      "(\"young queens\", \"survive in a resting state\", \"diapause\")\n",
      "(\"Bombus pensylvanicus\", \"begins cycle in\", \"February\")\n",
      "(\"Bombus pensylvanicus\", \"reproduction starts in\", \"July or August\")\n",
      "(\"Bombus pensylvanicus\", \"ends in\", \"winter months\")\n",
      "(\"queen\", \"remains in hibernation\", \"until spring of the following year\")\n",
      "-\n"
     ]
    },
    {
     "name": "stderr",
     "output_type": "stream",
     "text": [
      " 31%|█████████████████████████████████████████████▉                                                                                                        | 239/780 [39:47<1:14:04,  8.22s/it]"
     ]
    },
    {
     "name": "stdout",
     "output_type": "stream",
     "text": [
      "\n",
      "(\"Storks\", \"have a nearly cosmopolitan distribution\", \"being absent from the poles, most of North America and large parts of Australia\")\n",
      "(\"Centres of stork diversity\", \"are\", \"in tropical Asia and sub-Saharan Africa\")\n",
      "(\"Tropical Asia\", \"has\", \"eight breeding species\")\n",
      "(\"Sub-Saharan Africa\", \"has\", \"six breeding species\")\n",
      "(\"New World\", \"has\", \"three species\")\n",
      "(\"Three species\", \"are\", \"wood stork, maguari stork and jabiru\")\n",
      "(\"Jabiru\", \"is the tallest flying bird of\", \"the Americas\")\n",
      "(\"Europe and western temperate Asia\", \"have two species\", \"white and black stork\")\n",
      "(\"Eastern Asia\", \"has one species\", \"Oriental stork\")\n",
      "(\"Australasia\", \"has one species\", \"black-necked stork\")\n",
      "-\n"
     ]
    },
    {
     "name": "stderr",
     "output_type": "stream",
     "text": [
      " 31%|██████████████████████████████████████████████▏                                                                                                       | 240/780 [39:55<1:12:07,  8.01s/it]"
     ]
    },
    {
     "name": "stdout",
     "output_type": "stream",
     "text": [
      "\n",
      "(\"Queen bumblebees\", \"can sting\", \"\")\n",
      "(\"Worker bumblebees\", \"can sting\", \"\")\n",
      "(\"Honey bee stingers\", \"have harpoon-like barbs on the end of the stinger\", \"\")\n",
      "(\"B. ternarius\", \"can sting repeatedly\", \"without risk of disemboweling itself and dying\")\n",
      "(\"B. ternarius\", \"is usually not aggressive\", \"\")\n",
      "(\"B. ternarius\", \"will sting\", \"in defense of its nest or when threatened or provoked\")\n",
      "-\n"
     ]
    },
    {
     "name": "stderr",
     "output_type": "stream",
     "text": [
      " 31%|██████████████████████████████████████████████▎                                                                                                       | 241/780 [40:12<1:36:43, 10.77s/it]"
     ]
    },
    {
     "name": "stdout",
     "output_type": "stream",
     "text": [
      "\n",
      "(\"medium-sized caprid\", \"is\", \"115 to 165 cm (45 to 65 in) long\")\n",
      "(\"medium-sized caprid\", \"has a tail of\", \"10 to 20 cm (3.9 to 7.9 in)\")\n",
      "(\"medium-sized caprid\", \"stands\", \"69 to 91 cm (27 to 36 in) high\")\n",
      "(\"medium-sized caprid\", \"has a body mass of\", \"35 to 75 kg (77 to 165 lb)\")\n",
      "(\"medium-sized caprid\", \"has\", \"a short, dense coat\")\n",
      "(\"medium-sized caprid's coat\", \"is\", \"slate grey in color\")\n",
      "(\"middle-sized caprid's coat\", \"sometimes has a\", \"bluish sheen\")\n",
      "(\"medium-sized caprid's underparts and back of the legs\", \"are\", \"white\")\n",
      "(\"medium-sized caprid's chest and fronts of the legs\", \"are\", \"black\")\n",
      "(\"medium-sized caprid\", \"has a\", \"charcoal colored stripe separating the grey back and white belly\")\n",
      "(\"medium-sized caprid\", \"has\", \"small ears\")\n",
      "(\"medium-sized caprid's nose\", \"is\", \"dark\")\n",
      "(\"medium-sized caprid\", \"has horns\", \"in both sexes\")\n",
      "(\"medium-sized caprid's horns\", \"are ridged on the upper surface\n",
      "-\n"
     ]
    },
    {
     "name": "stderr",
     "output_type": "stream",
     "text": [
      " 31%|██████████████████████████████████████████████▌                                                                                                       | 242/780 [40:26<1:46:10, 11.84s/it]"
     ]
    },
    {
     "name": "stdout",
     "output_type": "stream",
     "text": [
      "\n",
      "(\"Summers in New York State\", \"vary by a lot\", \"in terms of temperature\")\n",
      "(\"Adirondacks\", \"experiences weather in the summer\", \"ranging from 66°F-73°F\")\n",
      "(\"Adirondacks\", \"experiences temperatures at night\", \"ranging from 45°F-54°F\")\n",
      "(\"Central New York\", \"is usually humid in the summer\", \"with temperatures ranging 80°F-85°F\")\n",
      "(\"Central New York\", \"experiences temperatures at night\", \"between 61°F-67°F\")\n",
      "(\"New York City area\", \"experiences temperature in the summer\", \"between 86°F-91°F\")\n",
      "(\"New York City area\", \"experiences temperatures at night\", \"between 68-75°F\")\n",
      "(\"New York State\", \"has a record high temperature of\", \"108°F\")\n",
      "-\n"
     ]
    },
    {
     "name": "stderr",
     "output_type": "stream",
     "text": [
      " 31%|██████████████████████████████████████████████▋                                                                                                       | 243/780 [40:32<1:28:22,  9.87s/it]"
     ]
    },
    {
     "name": "stdout",
     "output_type": "stream",
     "text": [
      "\n",
      "(\"Osteoporosis\", \"is a disease\", \"where bone weakening increases the risk of a broken bone\")\n",
      "(\"Osteoporosis\", \"is the most common reason for\", \"a broken bone among the elderly\")\n",
      "(\"Osteoporosis\", \"causes bones to break\", \"vertebrae in the spine, the bones of the forearm, and the hip\")\n",
      "(\"Osteoporosis\", \"usually has no symptoms\", \"until a broken bone occurs\")\n",
      "(\"Osteoporosis\", \"may cause\", \"chronic pain and a decreased ability to carry out normal activities\")\n",
      "-\n"
     ]
    },
    {
     "name": "stderr",
     "output_type": "stream",
     "text": [
      " 31%|██████████████████████████████████████████████▉                                                                                                       | 244/780 [40:33<1:05:52,  7.37s/it]"
     ]
    },
    {
     "name": "stdout",
     "output_type": "stream",
     "text": [
      "\n",
      "(\"Adult domestic cats\", \"typically weigh\", \"between 4 and 5 kg\")\n",
      "(\"4 and 5 kg\", \"equal to\", \"8.8 lbs\")\n",
      "-\n"
     ]
    },
    {
     "name": "stderr",
     "output_type": "stream",
     "text": [
      " 31%|███████████████████████████████████████████████                                                                                                       | 245/780 [40:44<1:14:54,  8.40s/it]"
     ]
    },
    {
     "name": "stdout",
     "output_type": "stream",
     "text": [
      "\n",
      "(\"olive oil\", \"varies with\", \"cultivar\")\n",
      "(\"olive oil\", \"varies with\", \"altitude\")\n",
      "(\"olive oil\", \"varies with\", \"time of harvest\")\n",
      "(\"olive oil\", \"varies with\", \"extraction process\")\n",
      "(\"olive oil\", \"is made up of\", \"oleic acid\")\n",
      "(\"oleic acid\", \"has a percentage of\", \"up to 83%\")\n",
      "(\"olive oil\", \"is made up of\", \"linoleic acid\")\n",
      "(\"linoleic acid\", \"has a percentage of\", \"up to 21%\")\n",
      "(\"olive oil\", \"is made up of\", \"palmitic acid\")\n",
      "(\"palmitic acid\", \"has a percentage of\", \"up to 20%\")\n",
      "(\"extra virgin olive oil\", \"is required to have a free acidity of\", \"no more than 0.8%\")\n",
      "(\"extra virgin olive oil\", \"is considered to have\", \"favorable flavor characteristics\")\n",
      "-\n"
     ]
    },
    {
     "name": "stderr",
     "output_type": "stream",
     "text": [
      " 32%|███████████████████████████████████████████████▎                                                                                                      | 246/780 [40:49<1:05:18,  7.34s/it]"
     ]
    },
    {
     "name": "stdout",
     "output_type": "stream",
     "text": [
      "\n",
      "(\"Saint Kitts\", \"is known more formally as\", \"Saint Christopher Island\")\n",
      "(\"Saint Kitts\", \"borders\", \"the Caribbean Sea\")\n",
      "(\"Saint Kitts\", \"faces\", \"the Atlantic Ocean\")\n",
      "(\"Saint Kitts\", \"constitutes one country with\", \"Nevis\")\n",
      "(\"Saint Kitts and Nevis\", \"are separated by\", \"a shallow 3-kilometre (2 mi) channel known as 'The Narrows'\")\n",
      "-\n"
     ]
    },
    {
     "name": "stderr",
     "output_type": "stream",
     "text": [
      " 32%|███████████████████████████████████████████████▌                                                                                                      | 247/780 [41:01<1:19:17,  8.93s/it]"
     ]
    },
    {
     "name": "stdout",
     "output_type": "stream",
     "text": [
      "\n",
      "(\"Wandering albatross\", \"breeds on\", \"South Georgia Island\")\n",
      "(\"Wandering albatross\", \"breeds on\", \"Crozet Islands\")\n",
      "(\"Wandering albatross\", \"breeds on\", \"Kerguelen Islands\")\n",
      "(\"Wandering albatross\", \"breeds on\", \"Prince Edward Islands\")\n",
      "(\"Wandering albatross\", \"breeds on\", \"Macquarie Island\")\n",
      "(\"Wandering albatross\", \"is seen feeding\", \"year round off the Kaikoura Peninsula on the east coast of the south island of New Zealand\")\n",
      "(\"Wandering albatross\", \"ranges in\", \"all the southern oceans from 28° to 60°\")\n",
      "(\"Wandering albatross\", \"spend most of life in\", \"flight\")\n",
      "(\"Wandering albatross\", \"lands to\", \"breed\")\n",
      "(\"Wandering albatross\", \"lands to\", \"feed\")\n",
      "(\"One banded bird\", \"was recorded travelling\", \"6000 km in twelve days\")\n",
      "-\n"
     ]
    },
    {
     "name": "stderr",
     "output_type": "stream",
     "text": [
      " 32%|███████████████████████████████████████████████▋                                                                                                      | 248/780 [41:10<1:18:36,  8.87s/it]"
     ]
    },
    {
     "name": "stdout",
     "output_type": "stream",
     "text": [
      "\n",
      "(\"twenty-five distinct vocalizations\", \"are recognised\", \"many of which are used primarily for group communication\")\n",
      "(\"grunts and barks\", \"indicate the whereabouts of individual group members\", \"while traveling\")\n",
      "(\"grunts and barks\", \"are used during social interactions\", \"when discipline is required\")\n",
      "(\"screams and roars\", \"signal alarm or warning\", \"and are produced most often by silverbacks\")\n",
      "(\"deep, rumbling belches\", \"suggest contentment\", \"and are heard frequently during feeding and resting periods\")\n",
      "(\"deep, rumbling belches\", \"are the most common form of\", \"intragroup communication\")\n",
      "-\n"
     ]
    },
    {
     "name": "stderr",
     "output_type": "stream",
     "text": [
      " 32%|███████████████████████████████████████████████▉                                                                                                      | 249/780 [41:16<1:11:37,  8.09s/it]"
     ]
    },
    {
     "name": "stdout",
     "output_type": "stream",
     "text": [
      "\n",
      "(\"Rats\", \"have been considered\", \"deadly pests\")\n",
      "(\"Rat flood in India\", \"occurs every\", \"fifty years\")\n",
      "(\"Rats\", \"are often blamed for\", \"the spread of the Bubonic Plague\")\n",
      "(\"Recent studies\", \"show that\", \"rats alone could not account for the rapid spread of the Bubonic Plague through Europe\")\n",
      "(\"Center for Disease Control\", \"lists\", \"nearly a dozen diseases directly linked to rats\")\n",
      "-\n"
     ]
    },
    {
     "name": "stderr",
     "output_type": "stream",
     "text": [
      " 32%|████████████████████████████████████████████████                                                                                                      | 250/780 [41:25<1:13:08,  8.28s/it]"
     ]
    },
    {
     "name": "stdout",
     "output_type": "stream",
     "text": [
      "\n",
      "(\"German Shepherds\", \"are\", \"herding dogs\")\n",
      "(\"German Shepherds\", \"were developed\", \"for herding sheep\")\n",
      "(\"German Shepherds\", \"are often preferred for\", \"disability assistance, search-and-rescue, police and military roles and acting\")\n",
      "(\"German Shepherds\", \"are the second-most registered breed by\", \"the American Kennel Club\")\n",
      "(\"German Shepherds\", \"are the seventh-most registered breed by\", \"The Kennel Club in the United Kingdom\")\n",
      "-\n"
     ]
    },
    {
     "name": "stderr",
     "output_type": "stream",
     "text": [
      " 32%|████████████████████████████████████████████████▎                                                                                                     | 251/780 [41:34<1:14:37,  8.46s/it]"
     ]
    },
    {
     "name": "stdout",
     "output_type": "stream",
     "text": [
      "\n",
      "(\"Allosaurus\", \"is the most abundant large predator in\", \"Morrison Formation\")\n",
      "(\"Allosaurus\", \"was at the top of\", \"the food chain\")\n",
      "(\"Allosaurus\", \"probably preyed on\", \"contemporaneous large herbivorous dinosaurs\")\n",
      "(\"Allosaurus\", \"probably preyed on\", \"other predators\")\n",
      "(\"Allosaurus' potential prey\", \"includes\", \"ornithopods\")\n",
      "(\"Allosaurus' potential prey\", \"includes\", \"stegosaurids\")\n",
      "(\"Allosaurus' potential prey\", \"includes\", \"sauropods\")\n",
      "(\"Allosaurus\", \"may be interpreted as having had \", \"cooperative social behavior\")\n",
      "(\"Allosaurus\", \"may be interpreted as \", \"hunting in packs\")\n",
      "(\"Allosaurus\", \"may be interpreted as \", \"lone individuals feeding on the same carcasses\")\n",
      "-\n"
     ]
    },
    {
     "name": "stderr",
     "output_type": "stream",
     "text": [
      " 32%|████████████████████████████████████████████████▍                                                                                                     | 252/780 [41:42<1:14:01,  8.41s/it]"
     ]
    },
    {
     "name": "stdout",
     "output_type": "stream",
     "text": [
      "\n",
      "(\"Shanghai\", \"is located on\", \"an alluvial plain\")\n",
      "(\"Shanghai\", \"has a land area of\", \"6,340.5 km2 (2,448.1 sq mi)\")\n",
      "(\"Shanghai\", \"has an average elevation of\", \"4 m (13 ft)\")\n",
      "(\"Shanghai\", \"has few hills such as\", \"She Shan\")\n",
      "(\"Shanghai\", \"has a highest point of\", \"the peak of Dajinshan Island (103 m or 338 ft) in Hangzhou Bay\")\n",
      "(\"Shanghai\", \"is known for its\", \"rich water resources\")\n",
      "(\"Shanghai\", \"has many rivers, canals, streams, and lakes\", \"as part of Lake Tai drainage basin\")\n",
      "-\n"
     ]
    },
    {
     "name": "stderr",
     "output_type": "stream",
     "text": [
      " 32%|████████████████████████████████████████████████▋                                                                                                     | 253/780 [41:50<1:11:16,  8.11s/it]"
     ]
    },
    {
     "name": "stdout",
     "output_type": "stream",
     "text": [
      "\n",
      "(\"Scavengers\", \"consume\", \"dead organisms\")\n",
      "(\"Scavengers\", \"refers to\", \"carnivores feeding on carrion\")\n",
      "(\"Scavengers\", \"may be\", \"herbivorous\")\n",
      "(\"Scavengers\", \"play an important role in\", \"the ecosystem\")\n",
      "(\"Scavengers\", \"consume\", \"dead animal and plant material\")\n",
      "(\"Dead animal and plant material\", \"consumed by\", \"decomposers and detritivores\")\n",
      "-\n"
     ]
    },
    {
     "name": "stderr",
     "output_type": "stream",
     "text": [
      " 33%|████████████████████████████████████████████████▊                                                                                                     | 254/780 [41:58<1:10:25,  8.03s/it]"
     ]
    },
    {
     "name": "stdout",
     "output_type": "stream",
     "text": [
      "\n",
      "(\"Snoopy\",\"appeared on\", \"October 4, 1950 strip\")\n",
      "(\"Snoopy\",\"was called\", \"Snoopy for the first time\")\n",
      "(\"November 10\",\"was when\",\"Snoopy was called for the first time\")\n",
      "(\"Snoopy\",\"was originally\", \"Patty's dog\")\n",
      "(\"Snoopy\",\"quickly adopts\", \"Charlie Brown\")\n",
      "(\"March 16,1952\",\"was when\",\"Snoopy's thoughts were first shown in a thought balloon\")\n",
      "(\"January 9, 1956\",\"was when\",\"Snoopy first appeared upright on his hind legs\")\n",
      "(\"Shermy and Lucy\",\"did so before\", \"Snoopy sliding across a sheet of ice\")\n",
      "-\n"
     ]
    },
    {
     "name": "stderr",
     "output_type": "stream",
     "text": [
      " 33%|█████████████████████████████████████████████████                                                                                                     | 255/780 [42:05<1:09:38,  7.96s/it]"
     ]
    },
    {
     "name": "stdout",
     "output_type": "stream",
     "text": [
      "\n",
      "(\"exposure of an unprotected human to very low pressure\", \"can cause\", \"pulmonary barotrauma\")\n",
      "(\"exposure of an unprotected human to very low pressure\", \"may be too slow to prevent\", \"rupture\")\n",
      "(\"rapid decompression\", \"can rupture\", \"eardrums and sinuses\")\n",
      "(\"rapid decompression\", \"can cause\", \"bruising and blood seep in soft tissues\")\n",
      "(\"shock\", \"can cause\", \"increase in oxygen consumption\")\n",
      "(\"increase in oxygen consumption\", \"can lead to\", \"hypoxia\")\n",
      "-\n"
     ]
    },
    {
     "name": "stderr",
     "output_type": "stream",
     "text": [
      " 33%|█████████████████████████████████████████████████▏                                                                                                    | 256/780 [42:18<1:21:30,  9.33s/it]"
     ]
    },
    {
     "name": "stdout",
     "output_type": "stream",
     "text": [
      "\n",
      "(\"Anthropogenic threats\", \"include\", \"habitat destruction and fragmentation\")\n",
      "(\"Habitat destruction\", \"caused by\", \"urbanisation in coastal areas\")\n",
      "(\"Habitat destruction\", \"caused by\", \"clearing of habitat for agriculture in rural areas\")\n",
      "(\"Habitat destruction\", \"caused by\", \"taking down native forest trees to make wood products\")\n",
      "(\"Australia\", \"ranked in the world by deforestation rates in 2000\", \"fifth\")\n",
      "(\"Australia\", \"deforested in 2000\", \"564,800 hectares (1,396,000 acres)\")\n",
      "(\"Koala\", \"distribution has shrunk since European arrival by\", \"more than 50%\")\n",
      "(\"Koala's distribution\", \"shrunk largely due to\", \"fragmentation of habitat in Queensland\")\n",
      "(\"Koala\", \"considered vulnerable in\", \"Queensland and New South Wales\")\n",
      "(\"Developers in Queensland and New South Wales\", \"must consider impacts on\", \"koalas when making building applications\")\n",
      "(\"Koalas\", \"live in many\", \"protected areas\")\n",
      "-\n"
     ]
    },
    {
     "name": "stderr",
     "output_type": "stream",
     "text": [
      " 33%|█████████████████████████████████████████████████▍                                                                                                    | 257/780 [42:24<1:13:04,  8.38s/it]"
     ]
    },
    {
     "name": "stdout",
     "output_type": "stream",
     "text": [
      "\n",
      "(\"refrigeration units\", \"were designed for\", \"installation on trucks or lorries\")\n",
      "(\"refrigerated vehicles\", \"are used to\", \"transport perishable goods\") \n",
      "(\"perishable goods\", \"include\", \"frozen foods, fruit and vegetables, and temperature-sensitive chemicals\")\n",
      "(\"modern refrigerators\", \"keep the temperature between\", \"–40 and –20 °C\")\n",
      "(\"modern refrigerators\", \"have a maximum payload of\", \"around 24,000 kg gross weight in Europe\")\n",
      "-\n"
     ]
    },
    {
     "name": "stderr",
     "output_type": "stream",
     "text": [
      " 33%|█████████████████████████████████████████████████▌                                                                                                    | 258/780 [42:35<1:20:30,  9.25s/it]"
     ]
    },
    {
     "name": "stdout",
     "output_type": "stream",
     "text": [
      "\n",
      "(\"Anchovies\", \"are used in\", \"small quantities to flavor many dishes\")\n",
      "(\"Anchovies\", \"are an ingredient in\", \"several sauces\")\n",
      "(\"Anchovies\", \"are an ingredient in\", \"Worcestershire sauce\")\n",
      "(\"Anchovies\", \"are an ingredient in\", \"remoulade\")\n",
      "(\"Anchovies\", \"are an ingredient in\", \"fish sauces\")\n",
      "(\"Anchovies\", \"are an ingredient in\", \"certain versions of Café de Paris butter\")\n",
      "(\"Anchovies\", \"are a popular pizza topping in some places\")\n",
      "(\"Anchovies\", \"were the base for\", \"fermented fish sauce garum\")\n",
      "(\"Garum\", \"had a shelf life\", \"suitable for long-distance commerce\")\n",
      "(\"Garum\", \"was produced in\", \"industrial quantities\")\n",
      "(\"Anchovies\", \"were eaten raw\", \"as an aphrodisiac\")\n",
      "-\n"
     ]
    },
    {
     "name": "stderr",
     "output_type": "stream",
     "text": [
      " 33%|█████████████████████████████████████████████████▊                                                                                                    | 259/780 [42:53<1:41:18, 11.67s/it]"
     ]
    },
    {
     "name": "stdout",
     "output_type": "stream",
     "text": [
      "\n",
      "(\"Ontario\", \"is bordered by\", \"province of Manitoba\")\n",
      "(\"Ontario\", \"is bordered by\", \"Hudson Bay\")\n",
      "(\"Ontario\", \"is bordered by\", \"James Bay\")\n",
      "(\"Ontario\", \"is bordered by\", \"Quebec\")\n",
      "(\"Ontario\", \"is bordered to the south by\", \"U.S. states of Minnesota, Michigan, Ohio, Pennsylvania, and New York\")\n",
      "(\"Ontario\", \"has a border length of\", \"2,700 km (1,678 mi)\")\n",
      "(\"Ontario's border with the U.S.\", \"follows along\", \"inland waterways\")\n",
      "(\"inland waterways\", \"include\", \"Rainy River\")\n",
      "(\"inland waterways\", \"include\", \"Pigeon River\")\n",
      "(\"inland waterways\", \"include\", \"Lake Superior\")\n",
      "(\"inland waterways\", \"include\", \"St. Marys River\")\n",
      "(\"inland waterways\", \"include\", \"Lake Huron\")\n",
      "(\"inland waterways\", \"include\", \"St. Clair River\")\n",
      "(\"inland waterways\", \"include\", \"Lake St. Clair\")\n",
      "(\"inland waterways\", \"include\", \"Detroit River\")\n",
      "(\"inland waterways\", \"include\", \"Lake Erie\")\n",
      "(\"inland waterways\", \"include\", \"Niagara River\")\n",
      "(\"inland waterways\", \"include\", \"Lake Ontario\")\n",
      "(\"\n",
      "-\n"
     ]
    },
    {
     "name": "stderr",
     "output_type": "stream",
     "text": [
      " 33%|██████████████████████████████████████████████████                                                                                                    | 260/780 [42:59<1:26:10,  9.94s/it]"
     ]
    },
    {
     "name": "stdout",
     "output_type": "stream",
     "text": [
      "\n",
      "(\"Arctic Circle climate\", \"is generally\", \"cold\")\n",
      "(\"Coastal areas of Norway\", \"have mild climate\", \"as result of Gulf Stream\")\n",
      "(\"Gulf Stream\", \"makes ports of\", \"Northern Norway and Northwest Russia ice-free all year long\")\n",
      "(\"Interior of Arctic Circle\", \"summers can be\", \"quite warm\")\n",
      "(\"Interior of Arctic Circle\", \"winters are\", \"extremely cold\")\n",
      "(\"Norilsk, Russia\", \"summer temperatures can reach\", \"as high as 30 °C (86 °F)\")\n",
      "(\"Norilsk, Russia\", \"winter temperatures\", \"frequently fall below −50°C (−58°F)\")\n",
      "-\n"
     ]
    },
    {
     "name": "stderr",
     "output_type": "stream",
     "text": [
      " 33%|██████████████████████████████████████████████████▏                                                                                                   | 261/780 [43:03<1:11:23,  8.25s/it]"
     ]
    },
    {
     "name": "stdout",
     "output_type": "stream",
     "text": [
      "\n",
      "(\"orca\", \"is an\", \"alternative name for\")\n",
      "(\"killer whale\", \"is a common name used by\",\"English-speaking scientists\")\n",
      "(\"Orcinus\", \"means\", \"of the kingdom of the dead\")\n",
      "(\"Orcinus\", \"means\", \"belonging to Orcus\")\n",
      "-\n"
     ]
    },
    {
     "name": "stderr",
     "output_type": "stream",
     "text": [
      " 34%|██████████████████████████████████████████████████▍                                                                                                   | 262/780 [43:13<1:15:12,  8.71s/it]"
     ]
    },
    {
     "name": "stdout",
     "output_type": "stream",
     "text": [
      "\n",
      "(\"Marsupials\", \"have a different\", \"reproductive system\")\n",
      "(\"Marsupials\", \"have a different\", \"placental system\")\n",
      "(\"viviparous mammals\", \"include\", \"non-placental eutherians\")\n",
      "(\"During embryonic development\", \"in marsupials\", \"a choriovitelline placenta forms\")\n",
      "(\"bandicoots\", \"have an additional\", \"chorioallantoic placenta\")\n",
      "(\"chorioallantoic placenta\", \"lacks\", \"chorionic villi\")\n",
      "-\n"
     ]
    },
    {
     "name": "stderr",
     "output_type": "stream",
     "text": [
      " 34%|██████████████████████████████████████████████████▌                                                                                                   | 263/780 [43:19<1:07:39,  7.85s/it]"
     ]
    },
    {
     "name": "stdout",
     "output_type": "stream",
     "text": [
      "\n",
      "(\"Nicholas Mevoli\", \"is from\", \"New York\")\n",
      "(\"Nicholas Mevoli\", \"died on\", \"17 November 2013\")\n",
      "(\"Nicholas Mevoli\", \"lost consciousness after\", \"a 3-minute 38 second dive to a depth of 72 metres during an official record attempt\")\n",
      "(\"Nicholas Mevoli\", \"had previously reached\", \"greater depths and longer times in other disciplines\")\n",
      "-\n"
     ]
    },
    {
     "name": "stderr",
     "output_type": "stream",
     "text": [
      " 34%|██████████████████████████████████████████████████▊                                                                                                   | 264/780 [43:26<1:05:35,  7.63s/it]"
     ]
    },
    {
     "name": "stdout",
     "output_type": "stream",
     "text": [
      "\n",
      "(\"Hippos\", \"are traditionally displayed in\", \"concrete exhibits\")\n",
      "(\"Hippos\", \"usually have\", \"a pool of water and patch of grass\")\n",
      "(\"Zoo exhibits\", \"increasingly reflect\", \"native habitats\")\n",
      "(\"Toledo Zoo Hippoquarium\", \"features a\", \"360,000-US-gallon (1,400,000 l) pool\")\n",
      "(\"Toledo Zoo\", \"saw\", \"the first underwater birth by a captive hippo in 1987\")\n",
      "(\"Toledo Zoo Hippos\", \"became the logo of\", \"the Toledo Zoo\")\n",
      "-\n"
     ]
    },
    {
     "name": "stderr",
     "output_type": "stream",
     "text": [
      " 34%|██████████████████████████████████████████████████▉                                                                                                   | 265/780 [43:34<1:07:12,  7.83s/it]"
     ]
    },
    {
     "name": "stdout",
     "output_type": "stream",
     "text": [
      "\n",
      "(\"Primates\", \"are eutherian mammals\", \"constituting the taxonomic order Primates\")\n",
      "(\"Primates\", \"arose\",  \"85–55 million years ago\")\n",
      "(\"Primates\", \"originated from\", \"small terrestrial mammals\")\n",
      "(\"Primates\", \"developed adaptations for life in trees of tropical forests\", \"including large brains, visual acuity, color vision, altered shoulder girdle, and dextrous hands\")\n",
      "(\"Primates\", \"range in size from\", \"Madame Berthe's mouse lemur to the eastern gorilla\")\n",
      "(\"Primates\", \"contain\", \"190–448 species of living primates\")\n",
      "(\"Primates\", \"have seen new species described in the first decade of the 2000s\", \"eleven species since 2010\")\n",
      "-\n"
     ]
    },
    {
     "name": "stderr",
     "output_type": "stream",
     "text": [
      " 34%|███████████████████████████████████████████████████▏                                                                                                  | 266/780 [43:47<1:20:59,  9.46s/it]"
     ]
    },
    {
     "name": "stdout",
     "output_type": "stream",
     "text": [
      "\n",
      "(\"Proboscideans\", \"experienced\", \"several evolutionary trends\")\n",
      "(\"increase in size\", \"led to\", \"many giant species\")\n",
      "(\"giant species\", \"stood up to\", \"500 cm (16 ft 5 in\")\n",
      "(\"large size of elephants\", \"developed to\", \"allow them to survive on vegetation with low nutritional value\")\n",
      "(\"limbs\", \"grew longer and the feet shorter and broader\", \"\")\n",
      "(\"feet\", \"were originally plantigrade and developed into a digitigrade stance with cushion pads and the sesamoid bone providing support\", \"\")\n",
      "(\"early proboscideans\", \"developed longer mandibles and smaller craniums\", \"\")\n",
      "(\"more derived proboscideans\", \"developed shorter mandibles\", \"\")\n",
      "(\"head's centre of gravity\", \"shifted\", \"\")\n",
      "(\"skull\", \"grew larger, especially the cranium\", \"\")\n",
      "(\"neck\", \"shortened to provide better support for the skull\", \"\")\n",
      "(\"increase in size\", \"led to\", \"the development and elongation of the mobile trunk\")\n",
      "(\"number of premolars, incisors and canines\", \"decreased\", \"\")\n",
      "(\"cheek teeth\", \"became larger and more specialized\", \"\")\n",
      "(\"elephants\", \"started to switch from C3-plants to C4-grasses\", \"\")\n",
      "(\"\n",
      "-\n"
     ]
    },
    {
     "name": "stderr",
     "output_type": "stream",
     "text": [
      " 34%|███████████████████████████████████████████████████▎                                                                                                  | 267/780 [43:56<1:19:20,  9.28s/it]"
     ]
    },
    {
     "name": "stdout",
     "output_type": "stream",
     "text": [
      "\n",
      "(\"Sea otters\", \"consume\", \"over 100 prey species\")\n",
      "(\"Sea otters\", \"have an almost exclusive diet of\", \"marine benthic invertebrates\")\n",
      "(\"Invertebrates\", \"include\", \"sea urchins, fat innkeeper worms, bivalves, abalone, other mollusks, crustaceans, and snails\")\n",
      "(\"Sea otters\", \"prey\", \"ranges in size from tiny limpets and crabs to giant octopuses\")\n",
      "(\"Sea otters\", \"prefer\", \"larger items over smaller ones of similar type\")\n",
      "(\"In California\", \"Sea otters ignore\", \"Pismo clams smaller than 3 inches (7 cm) across\")\n",
      "-\n"
     ]
    },
    {
     "name": "stderr",
     "output_type": "stream",
     "text": [
      " 34%|███████████████████████████████████████████████████▌                                                                                                  | 268/780 [44:07<1:24:44,  9.93s/it]"
     ]
    },
    {
     "name": "stdout",
     "output_type": "stream",
     "text": [
      "\n",
      "(\"Darwin\", \"published\", \"his theory of evolution\")\n",
      "(\"Darwin\", \"published with\", \"compelling evidence\")\n",
      "(\"Darwin's evidence\", \"was presented in\", \"his 1859 book On the Origin of Species\")\n",
      "(\"By 1870s\", \"the scientific community and majority of educated public had\", \"accepted evolution as a fact\")\n",
      "(\"Many\", \"favoured competing explanations which gave only a minor role to\", \"natural selection\")\n",
      "(\"Modern evolutionary synthesis\", \"emerged in\", \"1930s to the 1950s\")\n",
      "(\"Broad consensus\", \"developed in which\", \"natural selection was the basic mechanism of evolution\")\n",
      "(\"Darwin's scientific discovery\", \"is the unifying theory of\", \"the life sciences\")\n",
      "(\"Darwin's scientific discovery\", \"explains\", \"the diversity of life\")\n",
      "-\n"
     ]
    },
    {
     "name": "stderr",
     "output_type": "stream",
     "text": [
      " 34%|███████████████████████████████████████████████████▋                                                                                                  | 269/780 [44:22<1:36:31, 11.33s/it]"
     ]
    },
    {
     "name": "stdout",
     "output_type": "stream",
     "text": [
      "\n",
      "(\"red kangaroo\", \"ranges throughout\", \"western and central Australia\")\n",
      "(\"red kangaroo\", \"inhabits\", \"scrubland, grassland, and desert habitats\")\n",
      "(\"red kangaroo\", \"inhabits\", \"open habitats with some trees for shade\")\n",
      "(\"red kangaroo\", \"are capable of\", \"conserving enough water and selecting enough fresh vegetation to survive in an arid environment\")\n",
      "(\"red kangaroo\", \"have efficient\", \"kidneys concentrating urine, particularly during summer\")\n",
      "(\"red kangaroo\", \"primarily eat\", \"green vegetation, particularly fresh grasses and forbs\")\n",
      "(\"red kangaroo\", \"get enough of\", \"green vegetation, even when most plants look brown and dry\")\n",
      "(\"A study of kangaroos in Central Australia\", \"found that\", \"green grass makes up 75–95% of red kangaroo diet\")\n",
      "(\"Eragrostis setifolia\", \"dominates as\", \"54% of red kangaroo diet\")\n",
      "(\"Eragrostis setifolia\", \"continues to be green into\", \"dry season\")\n",
      "(\"Kangaroos in western New South Wales\", \"consumed\", \"Eragrostis setifolia, Enneapogon avanaceus, and other species\")\n",
      "(\"Eragrostis setifolia and Enneapogon avanace\n",
      "-\n"
     ]
    },
    {
     "name": "stderr",
     "output_type": "stream",
     "text": [
      " 35%|███████████████████████████████████████████████████▉                                                                                                  | 270/780 [44:30<1:26:46, 10.21s/it]"
     ]
    },
    {
     "name": "stdout",
     "output_type": "stream",
     "text": [
      "\n",
      "(\"Crocodiles\", \"are\", \"large semiaquatic reptiles\")\n",
      "(\"Crocodiles\", \"live\", \"throughout the tropics in Africa, Asia, the Americas and Australia\")\n",
      "(\"Crocodiles\", \"belong to biological subfamily\", \"Crocodylinae\")\n",
      "(\"Crocodylidae\", \"includes\", \"Tomistoma\")\n",
      "(\"Crocodylinae\", \"includes all\", \"true crocodiles\")\n",
      "(\"Crocodilia\", \"includes\", \"alligators and caimans\")\n",
      "(\"Crocodilia\", \"includes\", \"gharial and false gharial\")\n",
      "(\"Crocodilia\", \"includes\", \"all other living and fossil Crocodylomorpha\")\n",
      "-\n"
     ]
    },
    {
     "name": "stderr",
     "output_type": "stream",
     "text": [
      " 35%|████████████████████████████████████████████████████                                                                                                  | 271/780 [44:36<1:17:43,  9.16s/it]"
     ]
    },
    {
     "name": "stdout",
     "output_type": "stream",
     "text": [
      "\n",
      "(\"Kennel Club\", \"is located in\", \"the United Kingdom\") \n",
      "(\"Kennel Club\", \"is in dispute with\", \"German Shepherd breed clubs\")\n",
      "(\"The dispute\", \"is about\", \"soundness in the show-strain of the breed\")\n",
      "(\"Show-strains\", \"have a\", \"extremely sloping topline\")\n",
      "(\"Show-strains\", \"cause\", \"poor gait in the hind legs\")\n",
      "(\"Working-pedigree lines\", \"retain\", \"the traditional straight back of the breed\")\n",
      "-\n"
     ]
    },
    {
     "name": "stderr",
     "output_type": "stream",
     "text": [
      " 35%|████████████████████████████████████████████████████▎                                                                                                 | 272/780 [44:41<1:05:05,  7.69s/it]"
     ]
    },
    {
     "name": "stdout",
     "output_type": "stream",
     "text": [
      "\n",
      "(\"Humane Society of the United States\", \"estimated\", \"3–4 million dogs and cats are euthanized each year in the United States\")\n",
      "(\"Many animals\", \"are confined to cages in shelters\", \"because there are many more animals than there are homes\")\n",
      "(\"Spaying or castrating dogs\", \"helps keep overpopulation down\", \"\")\n",
      "(\"Local humane societies, SPCAs, and other animal protection organizations\", \"urge people\", \"to neuter their pets and to adopt animals from shelters instead of purchasing them\")\n",
      "-\n"
     ]
    },
    {
     "name": "stderr",
     "output_type": "stream",
     "text": [
      " 35%|█████████████████████████████████████████████████████▏                                                                                                  | 273/780 [44:46<58:14,  6.89s/it]"
     ]
    },
    {
     "name": "stdout",
     "output_type": "stream",
     "text": [
      "\n",
      "(\"Carp\", \"are\", \"various species of oily freshwater fish\")\n",
      "(\"Carp\", \"are native to\", \"Europe and Asia\")\n",
      "(\"Carp\", \"are consumed in\", \"many parts of the world\")\n",
      "(\"Carp\", \"are generally considered as\", \"invasive species\")\n",
      "(\"Invasive species\", \"are found in\", \"parts of Africa, Australia and most of the United States\")\n",
      "-\n"
     ]
    },
    {
     "name": "stderr",
     "output_type": "stream",
     "text": [
      " 35%|████████████████████████████████████████████████████▋                                                                                                 | 274/780 [44:53<1:00:17,  7.15s/it]"
     ]
    },
    {
     "name": "stdout",
     "output_type": "stream",
     "text": [
      "\n",
      "(\"American Medical Association\", \"recommends\", \"washing the bite with soap and water\")\n",
      "(\"American Red Cross\", \"recommends\", \"washing the bite with soap and water\")\n",
      "(\"Australian recommendations for snake bite treatment\", \"recommends against\", \"cleaning the wound\")\n",
      "(\"Traces of venom left on the skin/bandages from the strike\", \"can be used in combination with a snake bite identification kit\", \"to identify the species of snake\")\n",
      "(\"Snake bite identification kit\", \"speeds determination of which antivenom to administer in the emergency room\", \"yes\")\n",
      "-\n"
     ]
    },
    {
     "name": "stderr",
     "output_type": "stream",
     "text": [
      " 35%|████████████████████████████████████████████████████▉                                                                                                 | 275/780 [45:06<1:12:56,  8.67s/it]"
     ]
    },
    {
     "name": "stdout",
     "output_type": "stream",
     "text": [
      "\n",
      "(\"Red Sea\", \"associated with\", \"the biblical account of the Israelites crossing the Red Sea\")\n",
      "(\"Red Sea\", \"made explicit in\", \"the Septuagint translation of the Book of Exodus from Hebrew to Koine Greek in approximately the third century B.C.\")\n",
      "(\"Red Sea\", \"translated as\", \"Erythra Thalassa\")\n",
      "(\"Yam Suph\", \"translated as\", \"Erythra Thalassa\")\n",
      "(\"Yam Suph\", \"literal meaning of\", \"Sea of Reeds\")\n",
      "(\"Reeds\", \"do not grow in\", \"the Red Sea\")\n",
      "(\"Reeds\", \"cannot grow in\", \"salt water\")\n",
      "(\"Colin Humphreys\", \"provides explanation for discrepancy on the basis\", \"that a freshwater marsh of reeds could have existed around Aqaba\")\n",
      "-\n"
     ]
    },
    {
     "name": "stderr",
     "output_type": "stream",
     "text": [
      " 35%|█████████████████████████████████████████████████████                                                                                                 | 276/780 [45:14<1:11:05,  8.46s/it]"
     ]
    },
    {
     "name": "stdout",
     "output_type": "stream",
     "text": [
      "\n",
      "(\"American black bear\", \"has the scientific name\", \"Ursus americanus\")\n",
      "(\"American black bear\", \"was formerly known as\", \"Euarctos americanus\")\n",
      "(\"American black bear\", \"is a\", \"medium-sized bear\")\n",
      "(\"American black bear\", \"is native to\", \"North America\")\n",
      "(\"American black bear\", \"is the continent's\", \"smallest and most widely distributed bear species\")\n",
      "(\"American black bear\", \"is an\", \"omnivore\")\n",
      "(\"American black bear\", \"varies depending on season and location\", \"diet\")\n",
      "(\"American black bear\", \"lives in\", \"largely forested areas\")\n",
      "(\"American black bear\", \"leaves forests in search of food\", \"sometimes\")\n",
      "(\"American black bear\", \"is attracted to\", \"human communities because of the immediate availability of food\")\n",
      "(\"American black bear\", \"is the world's\", \"most common bear species\")\n",
      "-\n"
     ]
    },
    {
     "name": "stderr",
     "output_type": "stream",
     "text": [
      " 36%|█████████████████████████████████████████████████████▎                                                                                                | 277/780 [45:19<1:02:20,  7.44s/it]"
     ]
    },
    {
     "name": "stdout",
     "output_type": "stream",
     "text": [
      "\n",
      "(\"Treatment after exposure\", \"can prevent\", \"the disease\")\n",
      "(\"Treatment after exposure\", \"is recommended within\", \"10 days\")\n",
      "(\"Rabies vaccine\", \"is 100% effective\", \"if given early\")\n",
      "(\"Rabies vaccine\", \"has a chance of success\", \"if delivery is delayed\")\n",
      "(\"Every Year\", \"more than 15 million people get\", \"vaccination after potential exposure\")\n",
      "(\"US\", \"recommends\", \"one dose of HRIG and four doses of rabies vaccine over a 14-day period\")\n",
      "(\"HRIG\",\"is expensive\",\"ranging as high as several thousand dollars\")\n",
      "(\"HRIG\", \"as much as possible of this dose should be injected around the bites\", \"with the remainder being given by deep intramuscular injection at a site distant from the vaccination site\")\n",
      "-\n"
     ]
    },
    {
     "name": "stderr",
     "output_type": "stream",
     "text": [
      " 36%|█████████████████████████████████████████████████████▍                                                                                                | 278/780 [45:29<1:10:06,  8.38s/it]"
     ]
    },
    {
     "name": "stdout",
     "output_type": "stream",
     "text": [
      "\n",
      "(\"kittens\", \"cannot urinate or defecate without\", \"being stimulated by their mother\")\n",
      "(\"kittens\", \"cannot regulate body temperature for first\", \"three weeks\")\n",
      "(\"kittens born in temperatures less than\", \"can die from\", \"hypothermia\")\n",
      "(\"mother's milk\", \"is very important for\", \"kittens' nutrition\")\n",
      "(\"mother's milk\", \"transfers antibodies to\", \"kittens\")\n",
      "(\"kittens\", \"have high requirement for\", \"fluids\")\n",
      "(\"kittens\", \"open eyes\", \"seven to ten days after birth\")\n",
      "(\"kittens' retina\", \"is poorly developed so\", \"vision is poor\")\n",
      "(\"kittens\", \"cannot see as well as adult cats until\", \"ten weeks after birth\")\n",
      "-\n"
     ]
    },
    {
     "name": "stderr",
     "output_type": "stream",
     "text": [
      " 36%|█████████████████████████████████████████████████████▋                                                                                                | 279/780 [45:48<1:36:11, 11.52s/it]"
     ]
    },
    {
     "name": "stdout",
     "output_type": "stream",
     "text": [
      "\n",
      "(\"Alaska moose\", \"are\", \"sexually dimorphic\")\n",
      "(\"Male Alaska moose\", \"are\", \"40% heavier than females\")\n",
      "(\"Male Alaska moose\", \"can stand\", \"over 2.1 m (6.9 ft) at shoulder\")\n",
      "(\"Male Alaska moose\", \"weigh\", \"over 635 kg (1,400 lb)\")\n",
      "(\"Antlers\", \"have a span\", \"1.8 m (5.9 ft) on average\")\n",
      "(\"Antlers\", \"are influenced by\", \"genetics, nutrition and age\")\n",
      "(\"Antlers\", \"establish social rank and affect\", \"mating success\")\n",
      "(\"Female Alaska moose\", \"stand on average\", \"1.8 m (5.9 ft) at the shoulder\")\n",
      "(\"Female Alaska moose\", \"weigh\", \"close to 478 kg (1,054 lb)\")\n",
      "(\"Largest Alaska moose\", \"was shot in\", \"western Yukon in September 1897\")\n",
      "(\"Largest Alaska moose\", \"weighed\", \"820 kg (1,808 lb)\")\n",
      "(\"Largest Alaska moose\", \"was\", \"2.33 m (7.6 ft) tall at the shoulder\")\n",
      "(\"Alaska moose\", \"match\", \"the extinct Irish elk\")\n",
      "(\"Alaska moose\", \"are smaller than\", \"Cerval\n",
      "-\n"
     ]
    },
    {
     "name": "stderr",
     "output_type": "stream",
     "text": [
      " 36%|█████████████████████████████████████████████████████▊                                                                                                | 280/780 [45:57<1:29:42, 10.76s/it]"
     ]
    },
    {
     "name": "stdout",
     "output_type": "stream",
     "text": [
      "\n",
      "(\"Curiosity\", \"is\", \"2.9m (9.5ft) long by 2.7m (8.9ft) wide by 2.2m (7.2ft) in height\")\n",
      "(\"Curiosity\", \"is larger than\", \"Mars Exploration Rovers\")\n",
      "(\"Mars Exploration Rovers\", \"are\", \"1.5m (4.9ft) long and have a mass of 174kg (384lb) including 6.8kg (15lb) of scientific instruments\")\n",
      "(\"MastCam-34\", \"has\", \"1.25x higher spatial resolution\")\n",
      "(\"MastCam-100\", \"has\", \"3.67x higher spatial resolution\")\n",
      "-\n"
     ]
    },
    {
     "name": "stderr",
     "output_type": "stream",
     "text": [
      " 36%|██████████████████████████████████████████████████████                                                                                                | 281/780 [46:03<1:18:06,  9.39s/it]"
     ]
    },
    {
     "name": "stdout",
     "output_type": "stream",
     "text": [
      "\n",
      "(\"Shamu\", \"is a\", \"killer whale\")\n",
      "(\"Shamu\", \"appeared in shows at\", \"SeaWorld San Diego\")\n",
      "(\"Shamu\", \"was the fourth orca\", \"ever captured\")\n",
      "(\"Shamu\", \"was the second female\", \"ever captured\")\n",
      "(\"Shamu\", \"was caught in\", \"October 1965\")\n",
      "(\"Shamu\",\"died in\", \"August 1971\")\n",
      "(\"Shamu\", \"lasted for\", \"about six years of performance\")\n",
      "(\"Shamu\", \"name continued to be used in\", \"SeaWorld 'Shamu' shows\")\n",
      "(\"Shamu\", \"for different orcas in different SeaWorld parks\", \"name was used\")\n",
      "-\n"
     ]
    },
    {
     "name": "stderr",
     "output_type": "stream",
     "text": [
      " 36%|██████████████████████████████████████████████████████▏                                                                                               | 282/780 [46:14<1:20:08,  9.66s/it]"
     ]
    },
    {
     "name": "stdout",
     "output_type": "stream",
     "text": [
      "\n",
      "(\"Great Dane\", \"is a combination of\", \"strength, and elegance\")\n",
      "(\"Great Dane\", \"has\", \"a powerful, well-formed, smoothly muscled body\")\n",
      "(\"Great Dane\", \"is a\", \"short-haired breed\")\n",
      "(\"Great Dane\", \"moves with\", \"a long reach and powerful drive\")\n",
      "(\"Great Dane\", \"ratio between length and height should be\", \"square\")\n",
      "(\"Male Great Dane\", \"should not be less than\", \"30in (76 cm) at the shoulders\")\n",
      "(\"Female Great Dane\", \"should not be less than\", \"28in (71 cm)\")\n",
      "(\"Great Dane\", \"current record holder is\", \"Zeus\")\n",
      "(\"Zeus\", \"stood at the shoulder\", \"111.8cm (44.0in)\")\n",
      "(\"George\", \"stood at the shoulder\", \"109.2cm (43.0in)\")\n",
      "-\n"
     ]
    },
    {
     "name": "stderr",
     "output_type": "stream",
     "text": [
      " 36%|██████████████████████████████████████████████████████▍                                                                                               | 283/780 [46:21<1:15:43,  9.14s/it]"
     ]
    },
    {
     "name": "stdout",
     "output_type": "stream",
     "text": [
      "\n",
      "(\"Meow\", \"weighed\", \"18.0 kilograms (39.7 lb)\")\n",
      "(\"Domestic cats\", \"are typically\", \"weighing between 4 kilograms (8.8 lb) and 5 kilograms (11 lb)\")\n",
      "(\"Himmy\", \"weighed\", \"21.3 kilograms (46.8 pounds)\")\n",
      "(\"Guinness World Records\", \"have stopped\", \"recording the world's heaviest pets\")\n",
      "(\"Guinness World Records\", \"have stopped recording\", \"to discourage deliberate overfeeding\")\n",
      "-\n"
     ]
    },
    {
     "name": "stderr",
     "output_type": "stream",
     "text": [
      " 36%|██████████████████████████████████████████████████████▌                                                                                               | 284/780 [46:26<1:04:23,  7.79s/it]"
     ]
    },
    {
     "name": "stdout",
     "output_type": "stream",
     "text": [
      "\n",
      "(\"Freshwater fish\", \"differ from\", \"salt water fish\")\n",
      "(\"Freshwater fish\", \"must have\", \"gills that diffuse dissolved gasses without letting the salts enter body fluids\")\n",
      "(\"Freshwater fish\", \"have scales which\", \"reduce water diffusion\")\n",
      "(\"Freshwater fish that lose too many scales\", \"will die\", \"\")\n",
      "(\"Freshwater fish\", \"have developed kidneys\", \"that reclaim salts from body fluids before excretion\")\n",
      "-\n"
     ]
    },
    {
     "name": "stderr",
     "output_type": "stream",
     "text": [
      " 37%|██████████████████████████████████████████████████████▊                                                                                               | 285/780 [46:38<1:15:21,  9.13s/it]"
     ]
    },
    {
     "name": "stdout",
     "output_type": "stream",
     "text": [
      "\n",
      "(\"Mexico\", \"is a country in\", \"the southern portion of North America\")\n",
      "(\"Mexico\", \"is bordered to the north by\", \"the United States\")\n",
      "(\"Mexico\", \"is bordered to the south and west by\", \"the Pacific Ocean\")\n",
      "(\"Mexico\", \"is bordered to the southeast by\", \"Guatemala, Belize, and the Caribbean Sea\")\n",
      "(\"Mexico\", \"is bordered to the east by\", \"the Gulf of Mexico\")\n",
      "(\"Mexico\", \"covers\", \"1,972,550 square kilometers (761,610 sq mi)\")\n",
      "(\"Mexico\", \"has\", \"approximately 128,649,565 inhabitants\")\n",
      "(\"Mexico\", \"is a federation comprising\", \"31 states\")\n",
      "(\"Mexico City\", \"is\", \"the capital city\")\n",
      "(\"Mexico City\", \"is its largest metropolis\", \"\")\n",
      "(\"Mexico\", \"has major urban areas\", \"including Guadalajara, Monterrey, Puebla, Toluca, Tijuana, Ciudad Juárez, and León\")\n",
      "-\n"
     ]
    },
    {
     "name": "stderr",
     "output_type": "stream",
     "text": [
      " 37%|██████████████████████████████████████████████████████▉                                                                                               | 286/780 [46:45<1:08:46,  8.35s/it]"
     ]
    },
    {
     "name": "stdout",
     "output_type": "stream",
     "text": [
      "\n",
      "(\"Elephantidae\", \"are a family of\", \"large, herbivorous mammals\")\n",
      "(\"Elephantidae\", \"have\", \"a snout modified into a trunk and teeth modified into tusks\")\n",
      "(\"Elephantidae\", \"comprise the genera\", \"Loxodonta and Elephas\")\n",
      "(\"Elephantidae\", \"are comprised of\", \"extinct species\")\n",
      "(\"Elephantidae\", \"have living members in the genera\", \"Loxodonta and Elephas\")\n",
      "(\"Loxodonta\", \"are\", \"African elephants\")\n",
      "(\"Elephas\", \"are\", \"Asiatic elephants\")\n",
      "-\n"
     ]
    },
    {
     "name": "stderr",
     "output_type": "stream",
     "text": [
      " 37%|███████████████████████████████████████████████████████▉                                                                                                | 287/780 [46:48<56:01,  6.82s/it]"
     ]
    },
    {
     "name": "stdout",
     "output_type": "stream",
     "text": [
      "\n",
      "(\"Eagle Flight\", \"is a\", \"first-person simulation game\")\n",
      "(\"Eagle Flight\", \"tasks players to\", \"assume control of an eagle\")\n",
      "(\"Eagle Flight\", \"requires players to\", \"control eagle's direction with head movement\")\n",
      "(\"Eagle Flight\", \"requires players to\", \"use controller to slow down or speed up eagle's flight speed\")\n",
      "-\n"
     ]
    },
    {
     "name": "stderr",
     "output_type": "stream",
     "text": [
      " 37%|███████████████████████████████████████████████████████▍                                                                                              | 288/780 [47:03<1:16:16,  9.30s/it]"
     ]
    },
    {
     "name": "stdout",
     "output_type": "stream",
     "text": [
      "\n",
      "(\"Horseradish\", \"is probably indigenous to\", \"temperate Eastern Europe\")\n",
      "(\"Slavic name khren\", \"is\", \"primitive according to Augustin Pyramus de Candolle\")\n",
      "(\"Horseradish\", \"has been cultivated since\", \"antiquity\")\n",
      "(\"Delphic Oracle\", \"told Apollo\", \"horseradish was worth its weight in gold\")\n",
      "(\"Dioscorides\", \"listed horseradish as\", \"Persicon sinapi\")\n",
      "(\"Pliny's Natural History\", \"reported as\", \"Persicon napy\")\n",
      "(\"Cato\", \"discussed horseradish in\", \"treatises on agriculture\")\n",
      "(\"A mural in Pompeii\", \"shows\", \"the plant\")\n",
      "(\"Pliny the Elder\", \"mentions horseradish in his Natural History as\", \"Amoracia\")\n",
      "(\"Pliny the Elder\", \"recommends horseradish for\", \"its medicinal qualities\")\n",
      "(\"Greeks\", \"mention horseradish as\", \"wild radish or raphanos agrios\")\n",
      "(\"Pietro Andrea Mattioli and John Gerard\", \"showed horseradish as\", \"Raphanus\")\n",
      "(\"Heinrich Bernhard Ruppius\", \"applied genus Armoracia to\", \"horseradish in Flora Jenensis\")\n",
      "(\"Linnaeus\", \"called horseradish\n",
      "-\n"
     ]
    },
    {
     "name": "stderr",
     "output_type": "stream",
     "text": [
      " 37%|███████████████████████████████████████████████████████▌                                                                                              | 289/780 [47:12<1:13:39,  9.00s/it]"
     ]
    },
    {
     "name": "stdout",
     "output_type": "stream",
     "text": [
      "\n",
      "(\"The Hulk\", \"is a\", \"fictional superhero\")\n",
      "(\"The Hulk\", \"is created by\", \"writer Stan Lee\")\n",
      "(\"The Hulk\", \"is created by\", \"artist Jack Kirby\")\n",
      "(\"The Hulk\", \"first appeared in\", \"the debut issue of The Incredible Hulk\")\n",
      "(\"The Hulk\", \"first appeared in\", \"May 1962\")\n",
      "(\"The Hulk\", \"is a green-skinned, hulking and muscular humanoid\", \"possessing a vast degree of physical strength\")\n",
      "(\"The Hulk\", \"has an alter-ego\", \"Dr. Robert Bruce Banner\")\n",
      "(\"Dr. Robert Bruce Banner\", \"is physically weak\", \"socially withdrawn, and emotionally reserved physicist\")\n",
      "(\"The Hulk\", \"resent\", \"the alter ego Dr. Robert Bruce Banner\")\n",
      "-\n"
     ]
    },
    {
     "name": "stderr",
     "output_type": "stream",
     "text": [
      " 37%|███████████████████████████████████████████████████████▊                                                                                              | 290/780 [47:24<1:22:22, 10.09s/it]"
     ]
    },
    {
     "name": "stdout",
     "output_type": "stream",
     "text": [
      "\n",
      "(\"giant panda\", \"has scientific name\", \"Ailuropoda melanoleuca\")\n",
      "(\"giant panda\", \"is referred to in Chinese\", \"大熊猫\")\n",
      "(\"giant panda\", \"has pinyin name\", \"dàxióngmāo\")\n",
      "(\"giant panda\", \"is native to\", \"south central China\")\n",
      "(\"giant panda\", \"has physical features\", \"large, black patches around its eyes, over the ears, and across its round body\") \n",
      "(\"giant panda\", \"differs from\", \"red panda\")\n",
      "(\"giant panda\", \"belongs to the order of\", \"Carnivora\")\n",
      "(\"giant panda\", \"is a\", \"folivore\")\n",
      "(\"giant panda's diet\", \"is composed mostly of\", \"bamboo shoots and leaves\")\n",
      "(\"giant panda's diet\", \"may include\", \"other grasses, wild tubers, or meat\")\n",
      "(\"giant panda's diet in captivity\", \"may include\", \"honey, eggs, fish, yams, shrub leaves, oranges, or bananas\")\n",
      "-\n"
     ]
    },
    {
     "name": "stderr",
     "output_type": "stream",
     "text": [
      " 37%|███████████████████████████████████████████████████████▉                                                                                              | 291/780 [47:29<1:10:02,  8.59s/it]"
     ]
    },
    {
     "name": "stdout",
     "output_type": "stream",
     "text": [
      "\n",
      "(\"Sun tanning\", \"is the process\", \"whereby skin color is darkened or tanned\")\n",
      "(\"Sun tanning\", \"is typically caused by\", \"exposure to ultraviolet radiation\")\n",
      "(\"Ultraviolet radiation\", \"can be sourced from\", \"sunlight or artificial sources\")\n",
      "(\"Sun tanning\", \"is also known as\", \"sun bathing\")\n",
      "(\"Sun tanning\", \"can also be done without\", \"exposure to ultraviolet radiation\")\n",
      "-\n"
     ]
    },
    {
     "name": "stderr",
     "output_type": "stream",
     "text": [
      " 37%|████████████████████████████████████████████████████████▏                                                                                             | 292/780 [47:37<1:08:49,  8.46s/it]"
     ]
    },
    {
     "name": "stdout",
     "output_type": "stream",
     "text": [
      "\n",
      "(\"Abitur\", \"is a qualification\", \"granted by university-preparatory schools in Germany, Lithuania, and Estonia\")\n",
      "(\"Abitur\", \"is conferred on\", \"students\")\n",
      "(\"Abitur\", \"is acquired after\", \"passing final exams\")\n",
      "(\"Abitur\", \"follows\", \"secondary education\")\n",
      "(\"Abitur\", \"is usually acquired after\", \"twelve or thirteen years of schooling\")\n",
      "(\"Abitur\", \"comes from archaic word\", \"Abiturium\")\n",
      "(\"Abiturium\", \"is derived from\", \"Latin abiturus\")\n",
      "(\"Latin abiturus\", \"is a future active participle of\", \"abire\")\n",
      "-\n"
     ]
    },
    {
     "name": "stderr",
     "output_type": "stream",
     "text": [
      " 38%|████████████████████████████████████████████████████████▎                                                                                             | 293/780 [47:47<1:11:57,  8.86s/it]"
     ]
    },
    {
     "name": "stdout",
     "output_type": "stream",
     "text": [
      "\n",
      "(\"Sumner\", \"was a founding member of\", \"Joy Division\")\n",
      "(\"Sumner\", \"attended\", \"the fabled Sex Pistols concert at Manchester's Free Trade Hall on 4 June 1976\")\n",
      "(\"Peter Hook\", \"attended\", \"the fabled Sex Pistols concert at Manchester's Free Trade Hall on 4 June 1976\")\n",
      "(\"Sumner\", \"was inspired to\", \"form a band\")\n",
      "(\"Joy Division\", \"is widely considered one of the most influential of the era\", \"\")\n",
      "(\"Sumner\", \"was primarily known as\", \"the band's lead guitarist\")\n",
      "(\"Sumner\", \"used\", \"a Gibson SG and a custom Shergold Masquerader as his main guitars\")\n",
      "(\"Sumner\", \"made his first vocal appearance on\", \"the Warsaw album\")\n",
      "(\"Ian Curtis\", \"committed suicide in May 1980\", \"\")\n",
      "(\"Joy Division\", \"ended because of\", \"Ian Curtis' suicide in May 1980\")\n",
      "-\n"
     ]
    },
    {
     "name": "stderr",
     "output_type": "stream",
     "text": [
      " 38%|████████████████████████████████████████████████████████▌                                                                                             | 294/780 [47:59<1:19:21,  9.80s/it]"
     ]
    },
    {
     "name": "stdout",
     "output_type": "stream",
     "text": [
      "\n",
      "(\"Gray whale\", \"has baleen that is\", \"variously described as cream, off-white, or blond in color\")\n",
      "(\"Gray whale\", \"has baleen that is\", \"unusually short\")\n",
      "(\"Gray whale\", \"has small depressions on upper jaw each containing a\", \"lone stiff hair\")\n",
      "(\"Gray whale\", \"lacks\", \"prominent furrows of the related rorquals\")\n",
      "(\"Gray whale\", \"has a ventral surface with\", \"2 to 5 shallow furrows on the throat's underside\")\n",
      "(\"Gray whale\", \"lacks\", \"a dorsal fin\")\n",
      "(\"Gray whale\", \"has\", \"6 to 12 dorsal crenulations\")\n",
      "(\"Gray whale\", \"has a tail\", \"3-3.5 m (10-11 ft) across\")\n",
      "(\"Gray whale\", \"has a tail that is\", \"deeply notched at the center\")\n",
      "(\"Gray whale\", \"has a tail that is\", \"tapers to a point at the edges\")\n",
      "-\n"
     ]
    },
    {
     "name": "stderr",
     "output_type": "stream",
     "text": [
      " 38%|████████████████████████████████████████████████████████▋                                                                                             | 295/780 [48:04<1:07:26,  8.34s/it]"
     ]
    },
    {
     "name": "stdout",
     "output_type": "stream",
     "text": [
      "\n",
      "(\"Minotaur\", \"is commonly represented in\", \"Classical art\")\n",
      "(\"Minotaur\", \"has the body of\", \"a man\")\n",
      "(\"Minotaur\", \"has the head and tail of\", \"a bull\")\n",
      "(\"River spirit Achelous\", \"seduced\", \"Deianira\") \n",
      "(\"River spirit Achelous\", \"assumed the guise of\", \"a man with the head of a bull\")\n",
      "-\n"
     ]
    },
    {
     "name": "stderr",
     "output_type": "stream",
     "text": [
      " 38%|█████████████████████████████████████████████████████████▋                                                                                              | 296/780 [48:07<53:37,  6.65s/it]"
     ]
    },
    {
     "name": "stdout",
     "output_type": "stream",
     "text": [
      "\n",
      "(\"Bay City\", \"had a\", \"mandatory evacuation issued\")\n",
      "(\"Bay City\", \"was expected to be\", \"inundated by 10 ft of water\")\n",
      "(\"Flooding\", \"would cut off access to\", \"the city at 1:00 pm CDT on August 28\")\n",
      "-\n"
     ]
    },
    {
     "name": "stderr",
     "output_type": "stream",
     "text": [
      " 38%|█████████████████████████████████████████████████████████                                                                                             | 297/780 [48:22<1:12:52,  9.05s/it]"
     ]
    },
    {
     "name": "stdout",
     "output_type": "stream",
     "text": [
      "\n",
      "(\"Eurasian otter\", \"declined across its range in\", \"the second half of the 20th century\")\n",
      "(\"Eurasian otter\", \"declined due to\", \"pollution from pesticides\")\n",
      "(\"Pesticides\", \"include\", \"organochlorine and polychlorinated biphenyls\")\n",
      "(\"Eurasian otter\", \"declined due to\", \"habitat loss\")\n",
      "(\"Eurasian otter\", \"declined due to\", \"hunting\")\n",
      "(\"Eurasian otter\", \"is recovering\", \"in many parts of Europe\")\n",
      "(\"United Kingdom\", \"has an increase of sites with otter presence by\", \"55% between 1994 and 2002\")\n",
      "(\"Environment Agency\", \"announced\", \"otters had returned to every county in England\")\n",
      "(\"Recovery\", \"is due to\", \"ban on the most harmful pesticides\")\n",
      "(\"Recovery\", \"is due to\", \"improvements in water quality\")\n",
      "(\"Recovery\", \"is due to\", \"direct legal protection under European Union Habitats Directive\")\n",
      "(\"Recovery\", \"is due to\", \"national legislation in several European countries\")\n",
      "(\"Eurasian otter\", \"is a protected species in\", \"Hong Kong\")\n",
      "(\"Eurasian otter\", \"is listed as\", \"Near Threatened by IUCN Red List\")\n",
      "-\n"
     ]
    },
    {
     "name": "stderr",
     "output_type": "stream",
     "text": [
      " 38%|█████████████████████████████████████████████████████████▎                                                                                            | 298/780 [48:30<1:12:00,  8.96s/it]"
     ]
    },
    {
     "name": "stdout",
     "output_type": "stream",
     "text": [
      "\n",
      "(\"Harvey\", \"regenerated on\", \"August 23\")\n",
      "(\"Harvey\", \"reattained tropical storm intensity by\", \"18:00 UTC\")\n",
      "(\"Harvey\", \"underwent rapid intensification as\", \"an eye developed\")\n",
      "(\"Harvey\", \"reached peak intensity as\", \"a Category 4 hurricane\")\n",
      "(\"Harvey\", \"made landfall on\", \"San Jose Island\")\n",
      "(\"Harvey's landfall\", \"was at peak intensity\", \"with winds of 130 mph\")\n",
      "(\"Harvey's landfall\", \"had an atmospheric pressure of\", \"937 mbar\")\n",
      "(\"Harvey\", \"made a second landfall at\", \"Rockport\")\n",
      "(\"Harvey\", \"became the first\", \"major hurricane to make landfall in the United States since Wilma in 2005\")\n",
      "-\n"
     ]
    },
    {
     "name": "stderr",
     "output_type": "stream",
     "text": [
      " 38%|█████████████████████████████████████████████████████████▌                                                                                            | 299/780 [48:36<1:03:46,  7.96s/it]"
     ]
    },
    {
     "name": "stdout",
     "output_type": "stream",
     "text": [
      "\n",
      "(\"Mount Sharp\", \"is also known as\", \"Aeolis Mons\")\n",
      "(\"Mount Sharp\", \"is located at\", \"5°05′S 137°51′E\")\n",
      "(\"Mount Sharp\", \"rises\", \"5.5 km (18,000 ft)\")\n",
      "(\"Mount Sharp\", \"has an ID of\", \"15000 in the Gazetteer of Planetary Nomenclature from the US Geological Survey\")\n",
      "-\n"
     ]
    },
    {
     "name": "stderr",
     "output_type": "stream",
     "text": [
      " 38%|█████████████████████████████████████████████████████████▋                                                                                            | 300/780 [48:46<1:08:50,  8.61s/it]"
     ]
    },
    {
     "name": "stdout",
     "output_type": "stream",
     "text": [
      "\n",
      "(\"giant squid\", \"scientific name\", \"Architeuthis dux\")\n",
      "(\"giant squid\", \"lives in\", \"deep-ocean\")\n",
      "(\"giant squid\", \"is a species of\", \"family Architeuthidae\")\n",
      "(\"giant squid\", \"exhibits\", \"deep-sea gigantism\")\n",
      "(\"giant squid\", \"females can measure\", \"up to 12 m (39 ft)\")\n",
      "(\"giant squid\", \"males can measure up\", \"to 10 m (33 ft)\")\n",
      "(\"giant squid\", \"mantle length\", \"2 m (6 ft 7 in) (for females)\")\n",
      "(\"giant squid\", \"excluding tentacles\", \"maximum length is 5 m (16 ft)\")\n",
      "(\"giant squid\", \"unverified claims\", \"of specimens measuring 20 m (66 ft) or more\")\n",
      "-\n"
     ]
    },
    {
     "name": "stderr",
     "output_type": "stream",
     "text": [
      " 39%|██████████████████████████████████████████████████████████▋                                                                                             | 301/780 [48:48<53:57,  6.76s/it]"
     ]
    },
    {
     "name": "stdout",
     "output_type": "stream",
     "text": [
      "\n",
      "(\"An archipelago\", \"refers to\", \"a chain, cluster, or collection of islands\")\n",
      "(\"An archipelago\", \"can also refer to\", \"a sea containing a small number of scattered islands\")\n",
      "-\n"
     ]
    },
    {
     "name": "stderr",
     "output_type": "stream",
     "text": [
      " 39%|██████████████████████████████████████████████████████████                                                                                            | 302/780 [48:59<1:02:34,  7.85s/it]"
     ]
    },
    {
     "name": "stdout",
     "output_type": "stream",
     "text": [
      "\n",
      "(\"Koala's gestation period\", \"lasts\", \"33–35 days\")\n",
      "(\"Female koala\", \"gives birth to\", \"a single joey\")\n",
      "(\"Twins\", \"occur\", \"on occasion\")\n",
      "(\"Young koalas\", \"are born at the\", \"embryonic stage\")\n",
      "(\"Young koalas\", \"weigh\", \"0.5 g (0.02 oz)\")\n",
      "(\"Young koalas\", \"have relatively well-developed\", \"lips, forelimbs, and shoulders\")\n",
      "(\"Young koalas\", \"have functioning\", \"respiratory, digestive, and urinary systems\")\n",
      "(\"Joey\", \"crawls into its mother's pouch\", \"to continue rest of its development\")\n",
      "(\"Koala\", \"does not clean her pouch\", \"unlike most other marsupials\")\n",
      "-\n"
     ]
    },
    {
     "name": "stderr",
     "output_type": "stream",
     "text": [
      " 39%|███████████████████████████████████████████████████████████                                                                                             | 303/780 [49:03<52:52,  6.65s/it]"
     ]
    },
    {
     "name": "stdout",
     "output_type": "stream",
     "text": [
      "\n",
      "(\"Marsupials\", \"have a reproductive system that\", \"differs from those of placental mammals\")\n",
      "(\"Marsupials\", \"form a\", \"choriovitelline placenta during embryonic development\")\n",
      "(\"Bandicoots\", \"form an additional\", \"chorioallantoic placenta\")\n",
      "(\"Chorioallantoic placenta of Bandicoots\", \"lacks\", \"chorionic villi\")\n",
      "(\"Chorionic villi\", \"are found in\", \"eutherian placentas\")\n",
      "-\n"
     ]
    },
    {
     "name": "stderr",
     "output_type": "stream",
     "text": [
      " 39%|██████████████████████████████████████████████████████████▍                                                                                           | 304/780 [49:16<1:08:26,  8.63s/it]"
     ]
    },
    {
     "name": "stdout",
     "output_type": "stream",
     "text": [
      "\n",
      "(\"Japanese spider crab\", \"is a species of\", \"marine crab\")\n",
      "(\"Japanese spider crab\", \"lives in\", \"waters around Japan\")\n",
      "(\"Japanese spider crab\", \"has the largest leg span of any\", \"arthropod\")\n",
      "(\"Japanese spider crab\", \"goes through\", \"three main larval stages\")\n",
      "(\"Japanese spider crab\", \"goes through\", \"a prezoeal stage\")\n",
      "(\"Japanese spider crab\", \"is part of genus\", \"Macrocheira\")\n",
      "(\"Macrocheira\", \"contains multiple species\", \"Two fossil species\")\n",
      "(\"Macrocheira\", \"fossil species\", \"Macrocheira ginzanensis\")\n",
      "(\"Macrocheira\", \"fossil species\", \"Macrocheira yabei\")\n",
      "(\"Macrocheira ginzanensis\", \"from\", \"Miocene of Japan\")\n",
      "(\"Macrocheira yabei\", \"from\", \"Miocene of Japan\")\n",
      "(\"Japanese spider crab\", \"subject of\", \"fishery\")\n",
      "(\"Japanese spider crab\", \"considered a\", \"delicacy\")\n",
      "(\"Japanese spider crab\", \" protected from\", \"dangers of overfishing\")\n",
      "-\n"
     ]
    },
    {
     "name": "stderr",
     "output_type": "stream",
     "text": [
      " 39%|██████████████████████████████████████████████████████████▋                                                                                           | 305/780 [49:31<1:23:05, 10.50s/it]"
     ]
    },
    {
     "name": "stdout",
     "output_type": "stream",
     "text": [
      "\n",
      "(\"Wolverines\", \"live in\", \"isolated arctic, boreal, and alpine regions of northern Canada, Alaska, Siberia, and Fennoscandia\")\n",
      "(\"Wolverines\", \"live in\", \"European Russia, the Baltic countries, the Russian Far East, northeast China and Mongolia\")\n",
      "(\"Wolverines\", \"were sighted\", \"Winnemucca Lake in spring 1995\")\n",
      "(\"Wolverines\", \"were sighted\", \"Toe Jam Lake north of the Yosemite border in 1996\")\n",
      "(\"Wolverines\", \"were photographed\", \"2008 and 2009 near Lake Tahoe\")\n",
      "(\"Wolverines\", \"are found\", \"North Cascades in Washington\" )\n",
      "(\"Wolverines\", \"are found\", \"Northern Rocky Mountains in Idaho, Montana, Oregon (Wallowa Range), and Wyoming\")\n",
      "(\"Wolverines\", \"have moved into\", \"historic range in the Sierra Nevada Mountains of California\")\n",
      "(\"Wolverines\", \"have moved into\", \"the Southern Rocky Mountains of Colorado\")\n",
      "(\"Wolverines\", \"established breeding population in\", \"Sierra Nevada Mountains in California\")\n",
      "(\"Wolverines\", \"established breeding population in\", \"Southern Rocky Mountains in Colorado\")\n",
      "-\n"
     ]
    },
    {
     "name": "stderr",
     "output_type": "stream",
     "text": [
      " 39%|██████████████████████████████████████████████████████████▊                                                                                           | 306/780 [49:45<1:32:08, 11.66s/it]"
     ]
    },
    {
     "name": "stdout",
     "output_type": "stream",
     "text": [
      "\n",
      "(\"American football\", \"is the most common and widely known\", \"of these sports\")\n",
      "(\"American football\", \"was originally more closely related to\", \"rugby\")\n",
      "(\"Walter Camp\", \"implemented rule changes in\", \"1880\")\n",
      "(\"American football\", \"diverged irreversibly after\", \"the forward pass was introduced in 1906\")\n",
      "(\"American football\", \"is played with\", \"eleven players to a side\")\n",
      "(\"American football\", \"has four downs and a\", \"100-yard field\")\n",
      "(\"National Football League\", \"has its own rulebook\", \"\")\n",
      "(\"College football programs\", \"follow the rules of\", \"NCAA Football Rules and Interpretations\")\n",
      "(\"High schools\", \"follow the rules of\", \"National Federation of High School Associations\")\n",
      "(\"Youth games\", \"follow the rules of\", \"National Federation of High School Associations\")\n",
      "(\"Adult semi-pro, alternative and minor professional, amateur, touch, flag, etc.\", \"follow any one of the codes or use their own rules\", \"\")\n",
      "(\"Canadian football\", \"was originally more closely related to\", \"rugby\")\n",
      "(\"Canadian football\", \"adopted the forward pass in\", \"1929\")\n",
      "(\"Canadian football\", \"is played with\", \"twelve players to a side\")\n",
      "(\"Canadian football\", \"has three downs and a\", \"110-yard field\")\n",
      "(\"Canadian football\",\n",
      "-\n"
     ]
    },
    {
     "name": "stderr",
     "output_type": "stream",
     "text": [
      " 39%|███████████████████████████████████████████████████████████                                                                                           | 307/780 [49:57<1:32:50, 11.78s/it]"
     ]
    },
    {
     "name": "stdout",
     "output_type": "stream",
     "text": [
      "\n",
      "(\"Jumping Frogs\", \"are generally recognized as\", \"exceptional jumpers\")\n",
      "(\"Jumping Frogs\", \"are relative to their size\", \"the best jumpers of all vertebrates\")\n",
      "(\"Litoria nasuta\", \"can leap\", \"over 2 metres (6 ft 7 in)\")\n",
      "(\"Litoria nasuta\", \"has a body length of\", \"5.5 centimetres (2.2 in)\")\n",
      "(\"Tremendous differences\", \"exist between\", \"species in jumping capability\")\n",
      "(\"Jump distance\", \"increases with increasing size\", \"within a species\")\n",
      "(\"Relative jumping distance\", \"decreases\", \"within a species\")\n",
      "(\"Euphlyctis cyanophlyctis\", \"has the ability\", \"to leap out of the water from a position floating on the surface\") \n",
      "(\"Acris crepitans\", \"can skitter across the surface of a pond\", \"with a series of short rapid jumps\")\n",
      "-\n"
     ]
    },
    {
     "name": "stderr",
     "output_type": "stream",
     "text": [
      " 39%|███████████████████████████████████████████████████████████▏                                                                                          | 308/780 [50:06<1:25:25, 10.86s/it]"
     ]
    },
    {
     "name": "stdout",
     "output_type": "stream",
     "text": [
      "\n",
      "(\"Black Death\", \"was the second disaster affecting\", \"Europe during the Late Middle Ages\")\n",
      "(\"Black Death\", \"is estimated to have killed\", \"30% to 60% of Europe's population\")\n",
      "(\"Black Death\", \"reduced the world population from an estimated\", \"475 million to 350–375 million in the 14th century\")\n",
      "(\"Black Death\", \"caused further outbreaks throughout the Late Middle Ages in\", \"Western Europe\")\n",
      "(\"Black Death\", \"has recurred at various locations around the world until\", \"the early 20th century\")\n",
      "(\"Great Famine\", \"was the first disaster affecting\", \"Europe during the Late Middle Ages\")\n",
      "(\"Western Europe\", \"experienced shortages of labour due to\", \"Black Death\")\n",
      "(\"Peasants\", \"were able to increase their wages due to\", \"Black Death\")\n",
      "-\n"
     ]
    },
    {
     "name": "stderr",
     "output_type": "stream",
     "text": [
      " 40%|███████████████████████████████████████████████████████████▍                                                                                          | 309/780 [50:12<1:14:29,  9.49s/it]"
     ]
    },
    {
     "name": "stdout",
     "output_type": "stream",
     "text": [
      "\n",
      "(\"woodlice\", \"were\", \"marine isopods\")\n",
      "(\"woodlice\", \"presumed to have colonised land in\", \"Carboniferous\")\n",
      "(\"woodlice\", \"have many common names\", \"terrestrial Isopods\")\n",
      "(\"woodlice\", \"live\", \"semiterrestrially\")\n",
      "(\"woodlice\", \"have recolonised\", \"aquatic environments\")\n",
      "(\"woodlice\", \"in the families Armadillidae, Armadillidiidae, Eubelidae, Tylidae and some other genera\", \"can roll up into a roughly spherical shape\")\n",
      "(\"woodlice\", \"can have partial rolling ability\", \"but most cannot conglobate at all\")\n",
      "-\n"
     ]
    },
    {
     "name": "stderr",
     "output_type": "stream",
     "text": [
      " 40%|███████████████████████████████████████████████████████████▌                                                                                          | 310/780 [50:22<1:14:11,  9.47s/it]"
     ]
    },
    {
     "name": "stdout",
     "output_type": "stream",
     "text": [
      "\n",
      "(\"female koala\", \"has\", \"two teats\")\n",
      "(\"female koala\", \"produces milk with\", \"lowest energy rate in relation to body size of any mammal\")\n",
      "(\"female koala\", \"lactates for\", \"12 months\")\n",
      "(\"joey\", \"attaches to\", \"one of the female koala's teats\")\n",
      "(\"joey\", \"weighs around\", \"50 g at 13 weeks\")\n",
      "(\"joey\", \"head doubles in size at\", \"13 weeks\")\n",
      "(\"joey\", \"develops pigmentation\", \"at 7 weeks\")\n",
      "(\"joey\", \"sex can be determined\", \"at 7 weeks\")\n",
      "(\"joey\", \"fully furred at\", \"26 weeks\")\n",
      "(\"joey\", \"starts poking its head out of the pouch at\", \"26 weeks\")\n",
      "-\n"
     ]
    },
    {
     "name": "stderr",
     "output_type": "stream",
     "text": [
      " 40%|███████████████████████████████████████████████████████████▊                                                                                          | 311/780 [50:31<1:12:48,  9.31s/it]"
     ]
    },
    {
     "name": "stdout",
     "output_type": "stream",
     "text": [
      "\n",
      "(\"clouded leopard\", \"scientific name\", \"Neofelis nebulosa\")\n",
      "(\"clouded leopard\", \"occurs in\", \"Himalayan foothills\")\n",
      "(\"clouded leopard\", \"occurs in\", \"mainland Southeast Asia\")\n",
      "(\"clouded leopard\", \"occurs in\", \"southern China\")\n",
      "(\"clouded leopard\", \"listed as\", \"Vulnerable on IUCN Red List\")\n",
      "(\"clouded leopard\", \"total population\", \"suspected to be fewer than 10,000 mature individuals\")\n",
      "(\"clouded leopard\", \"population trend\", \"decreasing\")\n",
      "(\"clouded leopard\", \"largest population\", \"no single population numbering more than 1,000 adults\")\n",
      "-\n"
     ]
    },
    {
     "name": "stderr",
     "output_type": "stream",
     "text": [
      " 40%|████████████████████████████████████████████████████████████                                                                                          | 312/780 [50:38<1:08:55,  8.84s/it]"
     ]
    },
    {
     "name": "stdout",
     "output_type": "stream",
     "text": [
      "\n",
      "(\"cane toad\", \"is very large\", \"true\")\n",
      "(\"cane toad\", \"females are longer than males\", \"true\")\n",
      "(\"cane toad\", \"typical length of female\", \"10-15 cm\")\n",
      "(\"cane toad\", \"maximum length of female\", \"24 cm\")\n",
      "(\"cane toad\", \"larger toad typically found in areas of low population density\", \"true\")\n",
      "(\"cane toad\", \"life expectancy in wild\", \"10-15 years\")\n",
      "(\"cane toad\", \"life expectancy in captivity\", \"35 years\")\n",
      "-\n"
     ]
    },
    {
     "name": "stderr",
     "output_type": "stream",
     "text": [
      " 40%|████████████████████████████████████████████████████████████▏                                                                                         | 313/780 [50:47<1:09:03,  8.87s/it]"
     ]
    },
    {
     "name": "stdout",
     "output_type": "stream",
     "text": [
      "\n",
      "(\"Hyenas\", \"lack\", \"perineal scent glands\")\n",
      "(\"Hyenas\", \"have\", \"large pouch of naked skin located at the anal opening\")\n",
      "(\"Hyenas\", \"have\", \"large anal glands\")\n",
      "(\"Hyenas\", \"have\", \"several sebaceous glands\")\n",
      "(\"Sebaceous glands\", \"produce\", \"white, creamy secretion\")\n",
      "(\"Hyenas\", \"paste\", \"secretion onto grass stalks\")\n",
      "(\"Secretion\", \"has a smell of\", \"boiling cheap soap or burning\")\n",
      "(\"Secretion\", \"can be detected by humans\", \"several metres downwind\")\n",
      "(\"Secretion\", \"is primarily used for\", \"territorial marking\")\n",
      "(\"Aardwolf\", \"spray secretion when\", \"attacked\")\n",
      "(\"Striped hyena\", \"spray secretion when\", \"attacked\")\n",
      "-\n"
     ]
    },
    {
     "name": "stderr",
     "output_type": "stream",
     "text": [
      " 40%|████████████████████████████████████████████████████████████▍                                                                                         | 314/780 [50:54<1:04:38,  8.32s/it]"
     ]
    },
    {
     "name": "stdout",
     "output_type": "stream",
     "text": [
      "\n",
      "(\"Madame Berthe's mouse lemur\", \"is also known as\",\"Berthe's mouse lemur\")\n",
      "(\"Madame Berthe's mouse lemur\", \"is the smallest\",\"of the mouse lemurs\")\n",
      "(\"Madame Berthe's mouse lemur\", \"is the smallest\",\"primate in the world\")\n",
      "(\"Madame Berthe's mouse lemur\", \"has an average body length of\", \"9.2 cm\")\n",
      "(\"Madame Berthe's mouse lemur\", \"has an average weight of\", \"30 g\")\n",
      "(\"Madame Berthe's mouse lemur\", \"was created through\", \"extensive speciation\")\n",
      "-\n"
     ]
    },
    {
     "name": "stderr",
     "output_type": "stream",
     "text": [
      " 40%|████████████████████████████████████████████████████████████▌                                                                                         | 315/780 [51:03<1:04:28,  8.32s/it]"
     ]
    },
    {
     "name": "stdout",
     "output_type": "stream",
     "text": [
      "\n",
      "(\"stomach\", \"lies between\", \"oesophagus and duodenum\")\n",
      "(\"stomach\", \"is in\", \"left upper part of abdominal cavity\")\n",
      "(\"stomach\", \"lies against\", \"diaphragm\")\n",
      "(\"stomach\", \"lies behind\", \"pancreas\")\n",
      "(\"stomach\", \"has two sphincters\", \"lower oesophageal sphincter and pyloric sphincter\")\n",
      "(\"lower oesophageal sphincter\", \"is found in\", \"cardiac region\")\n",
      "(\"pyloric sphincter\", \"is found at\", \"junction of stomach and duodenum\")\n",
      "(\"stomach\", \"has a large double fold of visceral peritoneum\", \"greater omentum\")\n",
      "-\n"
     ]
    },
    {
     "name": "stderr",
     "output_type": "stream",
     "text": [
      " 41%|████████████████████████████████████████████████████████████▊                                                                                         | 316/780 [51:22<1:29:05, 11.52s/it]"
     ]
    },
    {
     "name": "stdout",
     "output_type": "stream",
     "text": [
      "\n",
      "(\"Venus\", \"is a\", \"terrestrial planet\")\n",
      "(\"Venus\", \"is called\" , \"Earth's 'sister planet'\")\n",
      "(\"Venus\", \"has a similar size to\", \"Earth\")\n",
      "(\"Venus\", \"has a similar mass to\", \"Earth\")\n",
      "(\"Venus\", \"has a similar proximity to the Sun to\", \"Earth\")\n",
      "(\"Venus\", \"has a similar bulk composition to\", \"Earth\")\n",
      "(\"Venus\", \"has the densest atmosphere of the four terrestrial planets consisting of\", \"more than 96% carbon dioxide\")\n",
      "(\"Venus\", \"has an atmospheric pressure of\", \"92 times that of Earth\")\n",
      "(\"Venus\", \"is the hottest planet in the Solar System with a mean surface temperature of\", \"735 K (462 °C; 863 °F)\")\n",
      "(\"Venus\", \"is shrouded by\", \"an opaque layer of highly reflective clouds of sulfuric acid\")\n",
      "(\"Venus\", \"may have had\", \"water oceans in the past\")\n",
      "(\"Venus' water\", \"has probably\", \"photodissociated\")\n",
      "(\"Venus' free hydrogen\", \"has been swept into interplanetary space by the solar wind because of\", \"the lack of a planetary magnetic field\")\n",
      "(\"Venus' surface\", \"is\", \"a dry desertscape interspersed with slab-like rocks\")\n",
      "(\"Venus' surface\",\n",
      "-\n"
     ]
    },
    {
     "name": "stderr",
     "output_type": "stream",
     "text": [
      " 41%|████████████████████████████████████████████████████████████▉                                                                                         | 317/780 [51:31<1:24:19, 10.93s/it]"
     ]
    },
    {
     "name": "stdout",
     "output_type": "stream",
     "text": [
      "\n",
      "(\"Order of the Phoenix\", \"is a secret organization in\", \"Harry Potter series of fiction books written by J. K. Rowling\")\n",
      "(\"Order of the Phoenix\", \"was founded by\", \"Albus Dumbledore\")\n",
      "(\"Albus Dumbledore\", \"founded\", \"Order of the Phoenix\")\n",
      "(\"Order of the Phoenix\", \"was created to fight\", \"Lord Voldemort and his followers, the Death Eaters\")\n",
      "(\"Order of the Phoenix\", \"lends its name to\", \"the fifth book of the series, Harry Potter and the Order of the Phoenix\")\n",
      "-\n"
     ]
    },
    {
     "name": "stderr",
     "output_type": "stream",
     "text": [
      " 41%|█████████████████████████████████████████████████████████████▏                                                                                        | 318/780 [51:41<1:21:42, 10.61s/it]"
     ]
    },
    {
     "name": "stdout",
     "output_type": "stream",
     "text": [
      "\n",
      "(\"One half\", \"is the irreducible fraction resulting from\", \"dividing one by two (2)\")\n",
      "(\"One half\", \"is the fraction resulting from\", \"dividing any number by its double\")\n",
      "(\"One half\", \"is equivalent to\", \"multiplication by two\")\n",
      "(\"One half\", \"is equivalent to\", \"division by two (halving)\")\n",
      "(\"Division by one half\", \"is equivalent to\", \"multiplication by two (doubling)\")\n",
      "(\"One half\", \"appears often in\", \"mathematical equations, recipes, measurements, etc.\")\n",
      "(\"One half\", \"is one part of something divided into\", \"two equal parts\")\n",
      "-\n"
     ]
    },
    {
     "name": "stderr",
     "output_type": "stream",
     "text": [
      " 41%|█████████████████████████████████████████████████████████████▎                                                                                        | 319/780 [51:48<1:12:21,  9.42s/it]"
     ]
    },
    {
     "name": "stdout",
     "output_type": "stream",
     "text": [
      "\n",
      "(\"Sea turtles\", \"use\", \"beaches and the lower dunes to nest and lay their eggs\")\n",
      "(\"Beaches and dunes\", \"depend on\" ,\"vegetation to protect against erosion\")\n",
      "(\"Eggs, hatched or unhatched\", \"are a nutrient source for\", \"dune vegetation\")\n",
      "(\"30-kilometre (20mi) stretch of beach on the east coast of Florida\", \"has sea turtles that lay\", \"over 68,000kg (150,000lb) of eggs in the sand\")\n",
      "(\"Dune vegetation\", \"grows and becomes stronger\", \"with the nutrients from sea turtle nests\")\n",
      "(\"Stronger vegetation and root systems\", \"help to hold the sand in the dunes and help protect the beach\", \"from erosion\")\n",
      "-\n"
     ]
    },
    {
     "name": "stderr",
     "output_type": "stream",
     "text": [
      " 41%|█████████████████████████████████████████████████████████████▌                                                                                        | 320/780 [51:59<1:16:09,  9.93s/it]"
     ]
    },
    {
     "name": "stdout",
     "output_type": "stream",
     "text": [
      "\n",
      "(\"wandering albatross\", \"has longest wingspan of any living bird\", \"ranging from 2.51 to 3.5 m\")\n",
      "(\"wandering albatross\", \"has a mean span of\", \"3.1 m in the Bird Island, South Georgia colony\")\n",
      "(\"average wingspan of 123 birds\", \"is\", \"exactly 3 m\")\n",
      "(\"Crozet Islands adults\", \"averaged\", \"3.05 m\")\n",
      "(\"longest-winged examples\", \"verified\", \"3.7 m\")\n",
      "(\"two giants\", \"reportedly measured\", \"4.22 m and 5.3 m\")\n",
      "(\"length of body\", \"ranges from\", \"107 to 135 cm\")\n",
      "(\"females\", \"are slightly\", \"smaller than males\")\n",
      "(\"adults can weigh\", \"from\", \"5.9 to 12.7 kg\")\n",
      "(\"Macquarie Island 3 males\", \"averaged\", \"8.4 kg\")\n",
      "(\"Macquarie Island 3 females\", \"averaged\", \"6.2 kg\")\n",
      "(\"Crozet Islands males\", \"averaged\", \"9.44 kg\")\n",
      "(\"Crozet Islands females\", \"averaged\", \"7.84 kg\")\n",
      "(\"10 unsexed adults\", \"averaged\", \"9.6 kg\")\n",
      "(\"South Georgia 52 males\", \"averaged\", \"9.11 kg\")\n",
      "(\"South Georgia\n",
      "-\n"
     ]
    },
    {
     "name": "stderr",
     "output_type": "stream",
     "text": [
      " 41%|█████████████████████████████████████████████████████████████▋                                                                                        | 321/780 [52:06<1:08:53,  9.01s/it]"
     ]
    },
    {
     "name": "stdout",
     "output_type": "stream",
     "text": [
      "\n",
      "(\"Goats\", \"sample\", \"many things\")\n",
      "(\"Goats\", \"prefer to browse\", \"on the tips of woody shrubs and trees\")\n",
      "(\"Goats\", \"also consume\", \"occasional broad-leaved plants\")\n",
      "(\"Goats\", \"consume\", \"an extremely varied plant diet\")\n",
      "(\"Goats\", \"occasionally consume\", \"toxic species\")\n",
      "(\"Goats\", \"rarely consume\", \"soiled food or contaminated water\")\n",
      "(\"Goats\", \"are usually\", \"free-ranging\")\n",
      "(\"Goats\", \"are rarely\", \"stall-fed\")\n",
      "-\n"
     ]
    },
    {
     "name": "stderr",
     "output_type": "stream",
     "text": [
      " 41%|█████████████████████████████████████████████████████████████▉                                                                                        | 322/780 [52:21<1:23:37, 10.96s/it]"
     ]
    },
    {
     "name": "stdout",
     "output_type": "stream",
     "text": [
      "\n",
      "(\"Bornean orangutan\", \"is listed as\", \"critically endangered\")\n",
      "(\"Bornean orangutan\", \"is listed on Appendix I of\", \"CITES\")\n",
      "(\"Bornean orangutan\", \"estimated total population is\", \"less than 14% of what it was in the recent past\")\n",
      "(\"Bornean orangutan\", \"sharp decline in population is due to\", \"human activities and development\")\n",
      "(\"Bornean orangutan\", \"species distribution is now\", \"highly patchy throughout Borneo\")\n",
      "(\"Bornean orangutan\", \"apparently absent or uncommon in\", \"the southeast of the island\")\n",
      "(\"Bornean orangutan\", \"apparently absent or uncommon in the forests between\", \"the Rajang River in central Sarawak and the Padas River in western Sabah\")\n",
      "(\"Bornean orangutan\", \"population found in\", \"Sabangau National Park\")\n",
      "(\"Sabangau National Park\", \"environment is at risk due to\", \"human activities and development\")\n",
      "(\"Bornean orangutan\", \"extinction in the wild is expected in\", \"10 to 20 years\")\n",
      "(\"Bornean orangutan extinction in the wild\", \"is expected if no serious effort is made to overcome the threats they are facing\", \"according to an anthropologist at Harvard University\")\n",
      "-\n"
     ]
    },
    {
     "name": "stderr",
     "output_type": "stream",
     "text": [
      " 41%|██████████████████████████████████████████████████████████████                                                                                        | 323/780 [52:36<1:31:19, 11.99s/it]"
     ]
    },
    {
     "name": "stdout",
     "output_type": "stream",
     "text": [
      "\n",
      "(\"sand cats\", \"were observed preying foremost on\", \"small rodents\")\n",
      "(\"sand cats\", \"were observed preying foremost on\", \"young of cape hare (Lepus capensis)\")\n",
      "(\"sand cats\", \"were observed hunting\", \"greater hoopoe lark (Alaemon alaudipes)\")\n",
      "(\"sand cats\", \"were observed hunting\", \"desert monitor (Varanus griseus)\")\n",
      "(\"sand cats\", \"were observed hunting\", \"sandfish (Scincus scincus)\")\n",
      "(\"sand cats\", \"were observed hunting\", \"venomous vipers\")\n",
      "(\"sand cats\", \"buried remains for\", \"later consumption\")\n",
      "(\"sand cats\", \"satisfied moisture requirements from\", \"prey\")\n",
      "(\"sand cats\", \"drank readily if\", \"water was available\")\n",
      "(\"Toubou people\", \"accounted of sand cats coming to\", \"their camps at night\")\n",
      "(\"Toubou people\", \"accounted of sand cats\",\"drinking fresh camel milk\")\n",
      "-\n"
     ]
    },
    {
     "name": "stderr",
     "output_type": "stream",
     "text": [
      " 42%|██████████████████████████████████████████████████████████████▎                                                                                       | 324/780 [52:46<1:26:26, 11.37s/it]"
     ]
    },
    {
     "name": "stdout",
     "output_type": "stream",
     "text": [
      "\n",
      "(\"horse\", \"is one of two extant subspecies of\", \"Equus ferus\")\n",
      "(\"horse\", \"is an\", \"odd-toed ungulate mammal\")\n",
      "(\"horse\", \"belongs to the\", \"taxonomic family Equidae\")\n",
      "(\"horse\", \"evolved from\", \"a small multi-toed creature, Eohippus\")\n",
      "(\"horse\", \"domesticated by\", \"Humans around 4000 BC\")\n",
      "(\"horse\", \"believed to be widespread by\", \"3000 BC\")\n",
      "(\"some domesticated horses\", \"live as\", \"feral horses in the wild\")\n",
      "(\"Przewalski's horse\", \"is a separate subspecies and the only remaining\", \"true wild horse\")\n",
      "(\"horse\", \"has an extensive specialized vocabulary to\", \"describe equine-related concepts\")\n",
      "-\n"
     ]
    },
    {
     "name": "stderr",
     "output_type": "stream",
     "text": [
      " 42%|██████████████████████████████████████████████████████████████▌                                                                                       | 325/780 [52:52<1:15:57, 10.02s/it]"
     ]
    },
    {
     "name": "stdout",
     "output_type": "stream",
     "text": [
      "\n",
      "(\"honey badger\", \"has\", \"two pairs of mammae\")\n",
      "(\"honey badger\", \"has\", \"anal pouch\")\n",
      "(\"anal pouch\", \"is\", \"evertable\")\n",
      "(\"anal pouch\", \"is shared with\", \"hyenas and mongooses\")\n",
      "(\"anal pouch\", \"has a smell that is\", \"suffocating\")\n",
      "(\"anal pouch\", \"may assist in\", \"calming bees when raiding beehives\")\n",
      "-\n"
     ]
    },
    {
     "name": "stderr",
     "output_type": "stream",
     "text": [
      " 42%|██████████████████████████████████████████████████████████████▋                                                                                       | 326/780 [53:04<1:20:08, 10.59s/it]"
     ]
    },
    {
     "name": "stdout",
     "output_type": "stream",
     "text": [
      "\n",
      "(\"Hudson Bay\", \"is a body of\", \"saltwater\")\n",
      "(\"Hudson Bay\", \"is located in\", \"northeastern Canada\")\n",
      "(\"Hudson Bay\", \"has a surface area of\", \"1,230,000 km2 (470,000 sq mi)\")\n",
      "(\"Hudson Bay\", \"is considered to be a marginal sea of the\", \"Arctic Ocean\")\n",
      "(\"Hudson Bay\", \"drains a very large area of\", \"3,861,400 km2 (1,490,900 sq mi)\")\n",
      "(\"Hudson Bay\", \"includes parts of\", \"southeastern Nunavut, Alberta, Saskatchewan, Ontario, Quebec, all of Manitoba\")\n",
      "(\"Hudson Bay\", \"indirectly affects\", \"North Dakota, South Dakota, Minnesota, and Montana\")\n",
      "(\"Hudson Bay\", \"has a southern arm called\", \"James Bay\")\n",
      "-\n"
     ]
    },
    {
     "name": "stderr",
     "output_type": "stream",
     "text": [
      " 42%|██████████████████████████████████████████████████████████████▉                                                                                       | 327/780 [53:14<1:16:56, 10.19s/it]"
     ]
    },
    {
     "name": "stdout",
     "output_type": "stream",
     "text": [
      "\n",
      "(\"shuttlecock\", \"is formed from\", \"16 or so overlapping feathers\")\n",
      "(\"shuttlecock\", \"is made of\", \"goose or duck feathers\")\n",
      "(\"shuttlecock\", \"has a cork base\", \"covered with thin leather\")\n",
      "(\"shuttlecock\", \"has a length of\", \"77 to 83 mm (3.0 to 3.27 in)\")\n",
      "(\"shuttlecock\", \"has a diameter of\", \"25 to 28 mm (0.98 to 1.10 in)\")\n",
      "(\"the circle made by the shuttlecock's feathers\", \"has a diameter of\", \"58 to 68 mm (2.3 to 2.7 in)\")\n",
      "(\"unmixed feathers\", \"are preferred over\", \"mixed feathers from different wings\")\n",
      "-\n"
     ]
    },
    {
     "name": "stderr",
     "output_type": "stream",
     "text": [
      " 42%|███████████████████████████████████████████████████████████████                                                                                       | 328/780 [53:18<1:03:04,  8.37s/it]"
     ]
    },
    {
     "name": "stdout",
     "output_type": "stream",
     "text": [
      "\n",
      "(\"Another human death\", \"due to\", \"a cassowary\")\n",
      "(\"Another human death\", \"was recorded\", \"in Florida on April 12 2019\")\n",
      "(\"The bird's owner\", \"was\", \"a 75-year-old man\")\n",
      "(\"The bird's owner\", \"had raised\", \"the animal\")\n",
      "(\"The bird's owner\", \"was apparently clawed to death after\", \"he fell to the ground\")\n",
      "-\n"
     ]
    },
    {
     "name": "stderr",
     "output_type": "stream",
     "text": [
      " 42%|███████████████████████████████████████████████████████████████▎                                                                                      | 329/780 [53:32<1:16:07, 10.13s/it]"
     ]
    },
    {
     "name": "stdout",
     "output_type": "stream",
     "text": [
      "\n",
      "(\"Presidential elections\", \"occur\", \"quadrennially\")\n",
      "(\"Presidential elections\", \"have registered voters\", \"casting their ballots on Election Day\")\n",
      "(\"Election Day\", \"has been since\", \"1845\")\n",
      "(\"Election Day\", \"is\", \"the first Tuesday after November 1\")\n",
      "(\"Election Day\", \"coincides with\", \"the general elections of various federal, state, and local races\")\n",
      "(\"Local governments\", \"are responsible for\", \"managing elections\")\n",
      "(\"These races\", \"typically appear on\", \"one ballot\")\n",
      "(\"The Electoral College electors\", \"formally cast their electoral votes on\", \"the first Monday after December 12\")\n",
      "(\"The Electoral College electors\", \"cast their votes at their respective\", \"state capitals\")\n",
      "(\"Congress\", \"certifies the results in\", \"early January\")\n",
      "(\"The presidential term\", \"begins on\", \"Inauguration Day\")\n",
      "(\"Inauguration Day\", \"has been set since\", \"the passage of the Twentieth Amendment\")\n",
      "(\"Inauguration Day\", \"is set at\", \"January 20\")\n",
      "-\n"
     ]
    },
    {
     "name": "stderr",
     "output_type": "stream",
     "text": [
      " 42%|███████████████████████████████████████████████████████████████▍                                                                                      | 330/780 [53:40<1:11:57,  9.59s/it]"
     ]
    },
    {
     "name": "stdout",
     "output_type": "stream",
     "text": [
      "\n",
      "(\"polar bear\", \"is found\", \"in Arctic Circle and adjacent land masses\")\n",
      "(\"polar bear\", \"ranges as far south as\", \"Newfoundland\")\n",
      "(\"polar bear\", \"retains original range more than\", \"other extant carnivore\")\n",
      "(\"polar bear\", \"are rare north of\", \"88°\")\n",
      "(\"polar bear\", \"ranges as far as\", \"James Bay in Canada\")\n",
      "(\"polar bear\", \"is near boundary of\", \"subarctic and humid continental climate zones\")\n",
      "(\"polar bear\", \"may drift as far south as\", \"Berlevåg on Norwegian mainland and Kuril Islands in Sea of Okhotsk\")\n",
      "(\"global population of polar bear\", \"estimated at\", \"20-25,000 or 22-31,000\")\n",
      "-\n"
     ]
    },
    {
     "name": "stderr",
     "output_type": "stream",
     "text": [
      " 42%|███████████████████████████████████████████████████████████████▋                                                                                      | 331/780 [53:52<1:15:49, 10.13s/it]"
     ]
    },
    {
     "name": "stdout",
     "output_type": "stream",
     "text": [
      "\n",
      "(\"American football\", \"is referred to as\", \"football in the United States and Canada\")\n",
      "(\"American football\", \"is also known as\", \"gridiron\")\n",
      "(\"American football\", \"is a\", \"team sport\")\n",
      "(\"American football\", \"played by\", \"two teams of eleven players\")\n",
      "(\"American football\", \"played on a\", \"rectangular field with goalposts at each end\")\n",
      "(\"American football\", \"is advanced\", \"by running with the ball or passing it\")\n",
      "(\"American football\", \"defense is to\", \"stop the offense's advance and to take control of the ball for themselves\")\n",
      "(\"American football\", \"advancement must be\", \"at least ten yards in four downs or plays\")\n",
      "(\"American football\", \"winning requires\", \"the most points at the end of a game\")\n",
      "-\n"
     ]
    },
    {
     "name": "stderr",
     "output_type": "stream",
     "text": [
      " 43%|███████████████████████████████████████████████████████████████▊                                                                                      | 332/780 [54:00<1:12:07,  9.66s/it]"
     ]
    },
    {
     "name": "stdout",
     "output_type": "stream",
     "text": [
      "\n",
      "(\"Zebra mussels\", \"native distribution\", \"Black Sea and Caspian Sea in Eurasia\")\n",
      "(\"Zebra mussels\", \"are an invasive species in\", \"North America, Great Britain, Ireland, Italy, Spain, and Sweden\")\n",
      "(\"Zebra mussels\", \"disrupt ecosystems by\", \"monotypic colonization\")\n",
      "(\"Zebra mussels\", \"damage\", \"harbors and waterways, ships and boats, and water treatment and power plants\")\n",
      "(\"Water treatment plants\", \"most affected by\", \"the water intakes bringing the microscopic free-swimming larvae directly into the facilities\")\n",
      "(\"Zebra mussels\", \"cling to pipes and\", \"clog them\")\n",
      "-\n"
     ]
    },
    {
     "name": "stderr",
     "output_type": "stream",
     "text": [
      " 43%|████████████████████████████████████████████████████████████████                                                                                      | 333/780 [54:15<1:23:06, 11.16s/it]"
     ]
    },
    {
     "name": "stdout",
     "output_type": "stream",
     "text": [
      " (\"swifts\", \"are unrelated to\", \"nightjars\")\n",
      "    (\"swifts\", \"hunt in a similar way to\", \"nightjars\")\n",
      "    (\"swifts\", \"have\", \"short bills\")\n",
      "    (\"swifts\", \"have\", \"strong jaws\")\n",
      "    (\"swifts\", \"have\", \"wide gape\")\n",
      "    (\"swifts\", \"have a body length of\", \"10–24 cm (3.9–9.4 in)\")\n",
      "    (\"swifts\", \"have a weight of\", \"10–60 g (0.35–2.12 oz)\")\n",
      "    (\"swifts\", \"have\", \"long, pointed wings\")\n",
      "    (\"swifts\", \"have\", \"nine primary feathers\")\n",
      "    (\"swifts\", \"have a tail with\", \"12 feathers\")\n",
      "    (\"swifts\", \"may have a\", \"deeply forked tail\")\n",
      "    (\"swifts\", \"may have an\", \"somewhat indented tail\")\n",
      "    (\"swifts\", \"may have a\", \"square-ended tail\")\n",
      "    (\"swifts\", \"have long tails that\", \"increase maneuverability\")\n",
      "    (\"swifts\", \"have long tails that\", \"function as a sexual adornment\")\n",
      "    (\"swifts\", \"have long tails that\", \"are longer in males\")\n",
      "    (\"male swifts\", \"have tails\n",
      "-\n"
     ]
    },
    {
     "name": "stderr",
     "output_type": "stream",
     "text": [
      " 43%|████████████████████████████████████████████████████████████████▏                                                                                     | 334/780 [54:25<1:21:11, 10.92s/it]"
     ]
    },
    {
     "name": "stdout",
     "output_type": "stream",
     "text": [
      "\n",
      "(\"Elsa\", \"to be crowned\", \"Queen of Arendelle\")\n",
      "(\"Elsa\", \"afraid\", \"citizens might find out about her powers\")\n",
      "(\"Castle gates\", \"open to\", \"public and visiting dignitaries\")\n",
      "(\"Duke of Weselton\", \"among\", \"visiting dignitaries\")\n",
      "(\"Prince Hans of the Southern Isles\", \"among\", \"visiting dignitaries\")\n",
      "(\"Anna\", \"falls in love\", \"Prince Hans\")\n",
      "(\"Elsa's coronation\", \"takes place without incident\", \"but she remains distant from Anna\")\n",
      "(\"Anna and Hans\", \"develop\", \"romantic connection\")\n",
      "(\"Hans\", \"proposes to\", \"Anna\")\n",
      "(\"Elsa\", \"objects\", \"to proposal\")\n",
      "(\"Emotional strain\", \"cause Elsa to\", \"unleash her powers\")\n",
      "(\"Elsa\", \"branded\", \"monster by Duke\")\n",
      "(\"Elsa\", \"flee to\", \"North Mountain\")\n",
      "(\"Elsa\", \"acknowledges her powers\", \"building an ice palace\")\n",
      "(\"Elsa's magic\", \"unintentionally engulfs\", \"Arendelle in an eternal winter\")\n",
      "-\n"
     ]
    },
    {
     "name": "stderr",
     "output_type": "stream",
     "text": [
      " 43%|████████████████████████████████████████████████████████████████▍                                                                                     | 335/780 [54:33<1:14:53, 10.10s/it]"
     ]
    },
    {
     "name": "stdout",
     "output_type": "stream",
     "text": [
      "\n",
      "(\"jellyfish\", \"do not have\", \"specialized systems for osmoregulation, respiration and circulation\")\n",
      "(\"jellyfish\", \"do not have\", \"a central nervous system\")\n",
      "(\"jellyfish\", \"have\", \"Nematocysts\")\n",
      "(\"Nematocysts\", \"are located\", \"mostly on the tentacles\")\n",
      "(\"true jellyfish\", \"also have\", \"Nematocysts around the mouth and stomach\")\n",
      "(\"jellyfish\", \"do not need\", \"a respiratory system\")\n",
      "(\"jellyfish\", \"have\", \"limited control over their movement\")\n",
      "(\"jellyfish\", \"can navigate with\", \"the pulsations of the bell-like body\")\n",
      "(\"some species\", \"are active swimmers\", \"most of the time\")\n",
      "(\"others species\", \"largely drift\", \"most of the time\")\n",
      "-\n"
     ]
    },
    {
     "name": "stderr",
     "output_type": "stream",
     "text": [
      " 43%|████████████████████████████████████████████████████████████████▌                                                                                     | 336/780 [54:47<1:22:27, 11.14s/it]"
     ]
    },
    {
     "name": "stdout",
     "output_type": "stream",
     "text": [
      "\n",
      "(\"Bears\", \"are\", \"carnivoran mammals\")\n",
      "(\"Bears\", \"belong to\", \"the family Ursidae\")\n",
      "(\"Bears\", \"are classified as\", \"caniforms\")\n",
      "(\"Bears\", \"are\", \"dog-like carnivorans\")\n",
      "(\"Bears\", \"are found in\", \"the Northern Hemisphere\")\n",
      "(\"Bears\", \"are found in\", \"the Southern Hemisphere\")\n",
      "(\"Bears\", \"are found in\", \"North America\")\n",
      "(\"Bears\", \"are found in\", \"South America\")\n",
      "(\"Bears\", \"are found in\", \"Europe\")\n",
      "(\"Bears\", \"are found in\", \"Asia\")\n",
      "(\"Bears\", \"have\", \"large bodies\")\n",
      "(\"Bears\", \"have\", \"stocky legs\")\n",
      "(\"Bears\", \"have\", \"long snouts\")\n",
      "(\"Bears\", \"have\", \"small rounded ears\")\n",
      "(\"Bears\", \"have\", \"shaggy hair\")\n",
      "(\"Bears\", \"have\", \"plantigrade paws\")\n",
      "(\"Bears\", \"have\", \"five nonretractile claws\")\n",
      "(\"Bears\", \"have\", \"short tails\")\n",
      "-\n"
     ]
    },
    {
     "name": "stderr",
     "output_type": "stream",
     "text": [
      " 43%|████████████████████████████████████████████████████████████████▊                                                                                     | 337/780 [54:59<1:23:48, 11.35s/it]"
     ]
    },
    {
     "name": "stdout",
     "output_type": "stream",
     "text": [
      "\n",
      "(\"Reticulated python\", \"preys on\", \"humans\")\n",
      "(\"Reticulated python\", \"attacks humans\", \"not common\")\n",
      "(\"Reticulated python\", \"responsible for\", \"several reported human fatalities\")\n",
      "(\"Reticulated python\", \"known maximum prey size\", \"full-grown\")\n",
      "(\"Reticulated python\", \"can open jaws wide enough to swallow\", \"human\")\n",
      "(\"Reticulated python\", \"width of shoulder of some adult Homo sapiens\", \"poses a problem\")\n",
      "(\"Reticulated python\", \"reports of human fatalities and human consumption\", \"latest examples of consumption of an adult human being well authenticated\")\n",
      "-\n"
     ]
    },
    {
     "name": "stderr",
     "output_type": "stream",
     "text": [
      " 43%|█████████████████████████████████████████████████████████████████                                                                                     | 338/780 [55:10<1:23:52, 11.39s/it]"
     ]
    },
    {
     "name": "stdout",
     "output_type": "stream",
     "text": [
      "\n",
      "(\"Invertebrates\", \"are animals that\", \"neither possess nor develop a vertebral column\")\n",
      "(\"Invertebrates\", \"are animals that\", \"are not part of the subphylum Vertebrata\")\n",
      "(\"Invertebrates\", \"include\", \"arthropods\")\n",
      "(\"Invertebrates\", \"include\", \"mollusks\")\n",
      "(\"Invertebrates\", \"include\", \"annelids\")\n",
      "(\"Invertebrates\", \"include\", \"cnidarians\")\n",
      "(\"Arthropods\", \"include\", \"insects\")\n",
      "(\"Arthropods\", \"include\", \"arachnids\")\n",
      "(\"Arthropods\", \"include\", \"crustaceans\")\n",
      "(\"Arthropods\", \"include\", \"myriapods\")\n",
      "(\"Mollusks\", \"include\", \"chitons\")\n",
      "(\"Mollusks\", \"include\", \"snails\")\n",
      "(\"Mollusks\", \"include\", \"bivalves\")\n",
      "(\"Mollusks\", \"include\", \"squids\")\n",
      "(\"Mollusks\", \"include\", \"octopuses\")\n",
      "(\"Annelids\", \"include\", \"earthworms\")\n",
      "(\"Annelids\", \"include\", \"leeches\")\n",
      "(\"Cnidarians\", \"include\", \"hydras\")\n",
      "(\"Cnidarians\", \"include\", \"jellyfishes\")\n",
      "(\"C\n",
      "-\n"
     ]
    },
    {
     "name": "stderr",
     "output_type": "stream",
     "text": [
      " 43%|█████████████████████████████████████████████████████████████████▏                                                                                    | 339/780 [55:15<1:08:35,  9.33s/it]"
     ]
    },
    {
     "name": "stdout",
     "output_type": "stream",
     "text": [
      "\n",
      "(\"Footwear\", \"refers to\", \"garments worn on the feet\")\n",
      "(\"Footwear\", \"serves the purpose of\", \"protection against adversities of the environment\")\n",
      "(\"Footwear\", \"serves primarily\", \"to ease locomotion and prevent injuries\")\n",
      "(\"Footwear\", \"can also be used for\", \"fashion and adornment\")\n",
      "(\"Footwear\", \"indicates\", \"the status or rank of the person within a social structure\")\n",
      "-\n"
     ]
    },
    {
     "name": "stderr",
     "output_type": "stream",
     "text": [
      " 44%|█████████████████████████████████████████████████████████████████▍                                                                                    | 340/780 [55:28<1:17:28, 10.56s/it]"
     ]
    },
    {
     "name": "stdout",
     "output_type": "stream",
     "text": [
      "\n",
      "(\"Standards\", \"outline\", \"what students need to know, understand, and be able to do\")\n",
      "(\"Standards\", \"should be\", \"developmentally appropriate\")\n",
      "(\"Standards\", \"should be\", \"relevant to future employment and education needs\")\n",
      "(\"Standards\", \"are written\", \"so that all students are capable of achieving them\")\n",
      "(\"Standards\", \"are written\", \"so that talented students will exceed them\")\n",
      "(\"All students\", \"are believed to\", \"be capable of learning and of meeting high expectations\")\n",
      "(\"Advanced and struggling students\", \"can learn\", \"new things in their own ways and at their own rates\")\n",
      "(\"Instruction\", \"emphasizes\", \"helping an individual student learn the information and skills listed in the standards\")\n",
      "(\"Excellence and equity\", \"are valued\", \"in standards-based education reform\")\n",
      "(\"Subgroups\", \"are measured\", \"to identify and reduce systemic racism, bias, and the tyranny of low expectations\")\n",
      "(\"Professional teachers\", \"are empowered to make decisions\", \"essential for effective learning\")\n",
      "(\"Social promotion\", \"is discouraged\", \"in standards-based education reform\")\n",
      "(\"Students\", \"advance or are retained based on\", \"their actual learning achievements\")\n",
      "(\"Students\", \"advance or are retained based on\", \"their age, their friends' achievements, or tradition\")\n",
      "-\n"
     ]
    },
    {
     "name": "stderr",
     "output_type": "stream",
     "text": [
      " 44%|█████████████████████████████████████████████████████████████████▌                                                                                    | 341/780 [55:34<1:06:56,  9.15s/it]"
     ]
    },
    {
     "name": "stdout",
     "output_type": "stream",
     "text": [
      "\n",
      "(\"United States National Bureau of Standards\", \"redefined the pound (avoirdupois)\", \"to be exactly equal to 0.453 592 37 kilograms\")\n",
      "(\"United States National Bureau of Standards\", \"designated\", \"the International Pound\")\n",
      "(\"United States 1894 pound\", \"differed from\", \"the international pound\")\n",
      "(\"The difference\", \"is approximately\", \"one part in 10 million\")\n",
      "(\"The United States 1894 pound\", \"differs from\", \"the International Pound\")\n",
      "-\n"
     ]
    },
    {
     "name": "stderr",
     "output_type": "stream",
     "text": [
      " 44%|█████████████████████████████████████████████████████████████████▊                                                                                    | 342/780 [55:42<1:04:58,  8.90s/it]"
     ]
    },
    {
     "name": "stdout",
     "output_type": "stream",
     "text": [
      " (\"eel\", \"belongs to\", \"order Anguilliformes\")\n",
      "(\"order Anguilliformes\", \"consists of\", \"eight suborders\")\n",
      "(\"order Anguilliformes\", \"consists of\", \"19 families\")\n",
      "(\"order Anguilliformes\", \"consists of\", \"111 genera\")\n",
      "(\"order Anguilliformes\", \"consists of\", \"800 species\")\n",
      "(\"eel\", \"undergoes\", \"considerable development from the early larval stage to the eventual adult stage\")\n",
      "(\"eel\", \"are\", \"predators\")\n",
      "-\n"
     ]
    },
    {
     "name": "stderr",
     "output_type": "stream",
     "text": [
      " 44%|█████████████████████████████████████████████████████████████████▉                                                                                    | 343/780 [55:52<1:06:40,  9.15s/it]"
     ]
    },
    {
     "name": "stdout",
     "output_type": "stream",
     "text": [
      "\n",
      "(\"Goofy\", \"is a\", \"funny animal cartoon character\")\n",
      "(\"Goofy\", \"was created in\", \"1932\")\n",
      "(\"Goofy\", \"was created at\", \"Walt Disney Productions\")\n",
      "(\"Goofy\", \"is a tall anthropomorphic\", \"dog\")\n",
      "(\"Goofy\", \"typically wears\", \"a turtle neck and vest, with pants, shoes, white gloves, and a tall hat originally designed as a rumpled fedora\")\n",
      "(\"Goofy\", \"is a close friend of\", \"Mickey Mouse and Donald Duck\")\n",
      "(\"Goofy\", \"is normally characterized as\", \"extremely clumsy and somewhat dimwitted\")\n",
      "(\"Goofy\", \"is occasionally shown as\", \"intuitive and clever\")\n",
      "-\n"
     ]
    },
    {
     "name": "stderr",
     "output_type": "stream",
     "text": [
      " 44%|██████████████████████████████████████████████████████████████████▏                                                                                   | 344/780 [56:05<1:14:59, 10.32s/it]"
     ]
    },
    {
     "name": "stdout",
     "output_type": "stream",
     "text": [
      "\n",
      "(\"rectum\", \"has a\", \"rectal temperature\")\n",
      "(\"mouth\", \"has an\", \"oral temperature\")\n",
      "(\"arm\", \"has an\", \"axillary temperature\")\n",
      "(\"ear\", \"has a\", \"tympanic temperature\")\n",
      "(\"forehead\", \"has a\", \"temporal artery temperature\")\n",
      "(\"temperature control\", \"is a part of\", \"homeostatic mechanism\")\n",
      "(\"homeostatic mechanism\", \"keeps\", \"organism at optimum operating temperature\")\n",
      "(\"temperature\", \"affects the rate of\", \"chemical reactions\")\n",
      "(\"humans\", \"have an average internal temperature of\", \"37.0 °C (98.6 °F)\")\n",
      "(\"humans\", \"have varying temperatures\", \"as controlled by the person's circadian rhythm\")\n",
      "(\"lowest temperature\", \"occurs\", \"about two hours before the person normally wakes up\")\n",
      "(\"temperatures\", \"change according to\", \"activities and external factors\")\n",
      "-\n"
     ]
    },
    {
     "name": "stderr",
     "output_type": "stream",
     "text": [
      " 44%|██████████████████████████████████████████████████████████████████▎                                                                                   | 345/780 [56:15<1:13:44, 10.17s/it]"
     ]
    },
    {
     "name": "stdout",
     "output_type": "stream",
     "text": [
      "\n",
      "(\"Caspian Sea\", \"has its main freshwater inflow\", \"Volga River\")\n",
      "(\"Caspian Sea\", \"enters at the shallow north end\", \"Volga River\")\n",
      "(\"Caspian Sea\", \"has two deep basins at its central and southern areas\", \"\")\n",
      "(\"Caspian Sea\", \"spreads out\", \"1200 kilometres\")\n",
      "(\"Caspian Sea\", \"has an average width of\", \"320 kilometres\")\n",
      "(\"Caspian Sea\", \"covers a region of\", \"386400 km2\")\n",
      "(\"Caspian Sea\", \"has a surface level of\", \"27 metres below sea level\")\n",
      "(\"Caspian Sea\", \"has a sea bed level in the southern part of\", \"1023 metres below sea level\")\n",
      "(\"Caspian Sea\", \"was perceived by ancient inhabitants as\", \"an ocean\")\n",
      "-\n"
     ]
    },
    {
     "name": "stderr",
     "output_type": "stream",
     "text": [
      " 44%|██████████████████████████████████████████████████████████████████▌                                                                                   | 346/780 [56:20<1:02:14,  8.60s/it]"
     ]
    },
    {
     "name": "stdout",
     "output_type": "stream",
     "text": [
      "\n",
      "(\"Cattle\", \"use\", \"all five widely recognized sensory modalities\")\n",
      "(\"Cattle\", \"have a partial preference of\", \"approximately 70% clover and 30% grass\")\n",
      "(\"Cattle\", \"show diurnal pattern of preferences\", \"with a stronger preference for clover in the morning, and the proportion of grass increasing towards the evening\")\n",
      "(\"Cattle\", \"perform complex behavior\", \"such as grazing behavior\")\n",
      "-\n"
     ]
    },
    {
     "name": "stderr",
     "output_type": "stream",
     "text": [
      " 44%|███████████████████████████████████████████████████████████████████▌                                                                                    | 347/780 [56:25<54:53,  7.61s/it]"
     ]
    },
    {
     "name": "stdout",
     "output_type": "stream",
     "text": [
      "\n",
      "(\"Millan\", \"is a\", \"New York Times best-selling author\")\n",
      "(\"Millan\", \"has a line of\", \"dog products\")\n",
      "(\"Millan\", \"has instructional DVDs\", \"true\")\n",
      "(\"Millan\", \"focused on\", \"rehabilitating severely aggressive dogs\")\n",
      "(\"Millan\", \"founded\", \"a rehab complex\")\n",
      "(\"Rehab complex\", \"name\", \"Dog Psychology Center\")\n",
      "(\"Dog Psychology Center\", \"location\", \"South Los Angeles\")\n",
      "(\"Dog Psychology Center\", \"time frame\", \"2002–2008\")\n",
      "-\n"
     ]
    },
    {
     "name": "stderr",
     "output_type": "stream",
     "text": [
      " 45%|███████████████████████████████████████████████████████████████████▊                                                                                    | 348/780 [56:34<58:01,  8.06s/it]"
     ]
    },
    {
     "name": "stdout",
     "output_type": "stream",
     "text": [
      "\n",
      "(\"North America\", \"is a\", \"continent\")\n",
      "(\"North America\", \"is within\", \"the Northern Hemisphere\")\n",
      "(\"North America\", \"is almost entirely within\", \"the Western Hemisphere\")\n",
      "(\"North America\", \"can be described as\", \"a northern subcontinent of the Americas\")\n",
      "(\"North America\", \"is bordered\", \"to the north by the Arctic Ocean\")\n",
      "(\"North America\", \"is bordered\", \"to the east by the Atlantic Ocean\")\n",
      "(\"North America\", \"is bordered\", \"to the west and south by the Pacific Ocean\")\n",
      "(\"North America\", \"is bordered\", \"to the southeast by South America and the Caribbean Sea\")\n",
      "-\n"
     ]
    },
    {
     "name": "stderr",
     "output_type": "stream",
     "text": [
      " 45%|████████████████████████████████████████████████████████████████████                                                                                    | 349/780 [56:37<46:36,  6.49s/it]"
     ]
    },
    {
     "name": "stdout",
     "output_type": "stream",
     "text": [
      "\n",
      "(\"Curiosity\", \"comprised\", \"23% of the mass\")\n",
      "(\"3,893 kg (8,583 lb)\", \"was the\", \"mass of the spacecraft at launch\")\n",
      "(\"Curiosity\", \"had remaining mass\", \"which was discarded in the process of transport and landing\")\n",
      "-\n"
     ]
    },
    {
     "name": "stderr",
     "output_type": "stream",
     "text": [
      " 45%|████████████████████████████████████████████████████████████████████▏                                                                                   | 350/780 [56:44<47:07,  6.57s/it]"
     ]
    },
    {
     "name": "stdout",
     "output_type": "stream",
     "text": [
      "\n",
      "(\"Food\", \"is\", \"any substance consumed to provide nutritional support for an organism\")\n",
      "(\"Food\", \"is usually of\", \"plant or animal origin\")\n",
      "(\"Food\", \"contains\", \"essential nutrients\")\n",
      "(\"Essential nutrients\", \"include\", \"carbohydrates, fats, proteins, vitamins, or minerals\")\n",
      "(\"Food\", \"is ingested by\", \"an organism\")\n",
      "(\"Food\", \"is assimilated by\", \"the organism's cells\")\n",
      "(\"Food\", \"provides\", \"energy, maintain life, or stimulate growth\")\n",
      "-\n"
     ]
    },
    {
     "name": "stderr",
     "output_type": "stream",
     "text": [
      " 45%|████████████████████████████████████████████████████████████████████▍                                                                                   | 351/780 [56:55<57:32,  8.05s/it]"
     ]
    },
    {
     "name": "stdout",
     "output_type": "stream",
     "text": [
      "\n",
      "(\"Gorillas\", \"have a natural habitat\", \"tropical or subtropical forest in Sub-Saharan Africa\")\n",
      "(\"Gorillas' range\", \"covers a small percentage of\", \"Sub-Saharan Africa\")\n",
      "(\"Gorillas' range\", \"covers a wide range of elevations\", \"\")\n",
      "(\"Mountain gorilla\", \"inhabits\", \"the Albertine Rift montane cloud forests of the Virunga Volcanoes\")\n",
      "(\"Altitude range of mountain gorilla\", \"varies from\", \"2,200 to 4,300 metres (7,200 to 14,100 ft)\")\n",
      "(\"Lowland gorilla\", \"lives in\", \"dense forests and lowland swamps and marshes\")\n",
      "(\"Lowland gorilla\", \"has a minimum altitude of\", \"sea level\")\n",
      "(\"Western lowland gorilla\", \"lives in\", \"Central West African countries\")\n",
      "(\"Eastern lowland gorilla\", \"lives in\", \"Democratic Republic of the Congo near its border with Rwanda\")\n",
      "-\n"
     ]
    },
    {
     "name": "stderr",
     "output_type": "stream",
     "text": [
      " 45%|████████████████████████████████████████████████████████████████████▌                                                                                   | 352/780 [57:02<55:01,  7.71s/it]"
     ]
    },
    {
     "name": "stdout",
     "output_type": "stream",
     "text": [
      "\n",
      "(\"Incubator\", \"is a device used to\", \"grow and maintain microbiological cultures or cell cultures\")\n",
      "(\"Incubator\", \"maintains\", \"optimal temperature, humidity and other conditions\")\n",
      "(\"Incubator\", \"maintains\", \"CO2 and oxygen content of the atmosphere inside\")\n",
      "(\"Incubator\", \"are essential for\", \"much experimental work in cell biology, microbiology and molecular biology\")\n",
      "(\"Incubator\", \"are used to\", \"culture both bacterial and eukaryotic cells\")\n",
      "-\n"
     ]
    },
    {
     "name": "stderr",
     "output_type": "stream",
     "text": [
      " 45%|███████████████████████████████████████████████████████████████████▉                                                                                  | 353/780 [57:22<1:21:09, 11.40s/it]"
     ]
    },
    {
     "name": "stdout",
     "output_type": "stream",
     "text": [
      "\n",
      "(\"Alpacas\", \"are pets\", \"True\")\n",
      "(\"Camels\", \"are pets\", \"True\")\n",
      "(\"Cats\", \"are pets\", \"True\")\n",
      "(\"Cattle\", \"are pets\", \"True\")\n",
      "(\"Dogs\", \"are pets\", \"True\")\n",
      "(\"Donkeys\", \"are pets\", \"True\")\n",
      "(\"Ferrets\", \"are pets\", \"True\")\n",
      "(\"Goats\", \"are pets\", \"True\")\n",
      "(\"Hedgehogs\", \"are pets\", \"True\")\n",
      "(\"Horses\", \"are pets\", \"True\")\n",
      "(\"Llamas\", \"are pets\", \"True\")\n",
      "(\"Pigs\", \"are pets\", \"True\")\n",
      "(\"Rabbits\", \"are pets\", \"True\")\n",
      "(\"Red foxes\", \"are pets\", \"True\")\n",
      "(\"Rodents\", \"are pets\", \"True\")\n",
      "(\"Rats\", \"are pets\", \"True\")\n",
      "(\"Mice\", \"are pets\", \"True\")\n",
      "(\"Hamsters\", \"are pets\", \"True\")\n",
      "(\"Guinea pigs\", \"are pets\", \"True\")\n",
      "(\"Gerbils\", \"are pets\", \"True\")\n",
      "(\"Chinchillas\", \"are pets\", \"True\")\n",
      "(\"Sheep\", \"are pets\", \"True\")\n",
      "(\"Sugar gliders\", \"are pets\", \"True\")\n",
      "(\"Companion parrots\", \"are pets\", \"True\n",
      "-\n"
     ]
    },
    {
     "name": "stderr",
     "output_type": "stream",
     "text": [
      " 45%|████████████████████████████████████████████████████████████████████                                                                                  | 354/780 [57:39<1:31:55, 12.95s/it]"
     ]
    },
    {
     "name": "stdout",
     "output_type": "stream",
     "text": [
      "\n",
      "(\"cheetahs\", \"are lightly built\", \"spotted cats\")\n",
      "(\"cheetahs\", \"have\", \"a small rounded head\")\n",
      "(\"cheetahs\", \"have\", \"a short snout\")\n",
      "(\"cheetahs\", \"have\", \"black tear-like facial streaks\")\n",
      "(\"cheetahs\", \"have\", \"a deep chest\")\n",
      "(\"cheetahs\", \"have\", \"long thin legs\")\n",
      "(\"cheetahs\", \"have\", \"a long tail\")\n",
      "(\"cheetahs\", \"adopt\", \"a slender canine form\")\n",
      "(\"cheetahs\", \"are highly adapted for\", \"speed\")\n",
      "(\"cheetahs\", \"reach\", \"67-94 cm at the shoulder\")\n",
      "(\"cheetahs\", \"range in length\", \"between 1.1 and 1.5 m\")\n",
      "(\"cheetahs\", \"can weigh\", \"20-65 kg\")\n",
      "(\"wild cubs\", \"can weigh\", \"150-300 g\")\n",
      "(\"captive cubs\", \"can weigh\", \"500 g\")\n",
      "(\"Southern African cheetahs\", \"are slightly bigger than\", \"Eastern African cheetahs\")\n",
      "(\"Saharan cheetahs\", \"have particularly canine features\", \"\")\n",
      "(\"males\", \"are larger than\", \"females\")\n",
      "-\n"
     ]
    },
    {
     "name": "stderr",
     "output_type": "stream",
     "text": [
      " 46%|████████████████████████████████████████████████████████████████████▎                                                                                 | 355/780 [57:46<1:19:43, 11.26s/it]"
     ]
    },
    {
     "name": "stdout",
     "output_type": "stream",
     "text": [
      "\n",
      "(\"Sea turtles\", \"take decades to reach\", \"sexual maturity\")\n",
      "(\"Mature sea turtles\", \"may migrate\", \"thousands of miles to reach breeding sites\")\n",
      "(\"Adult female sea turtles\", \"return to land to\", \"lay their eggs\")\n",
      "(\"Different species of sea turtles\", \"exhibit various levels of\", \"philopatry\")\n",
      "(\"In the extreme case\", \"females return to the same beach where they hatched\", \"This\")\n",
      "(\"This\", \"can take place every two to four years in maturity\", \"in maturity\")\n",
      "-\n"
     ]
    },
    {
     "name": "stderr",
     "output_type": "stream",
     "text": [
      " 46%|████████████████████████████████████████████████████████████████████▍                                                                                 | 356/780 [57:51<1:05:27,  9.26s/it]"
     ]
    },
    {
     "name": "stdout",
     "output_type": "stream",
     "text": [
      "\n",
      "(\"cat\", \"species is\", \"domestic species of small carnivorous mammal\")\n",
      "(\"cat\", \"family is\", \"Felidae\")\n",
      "(\"cat\", \"commonly referred to as\", \"domestic cat\")\n",
      "(\"cat\", \"types are\", \"house cat, farm cat, or feral cat\")\n",
      "(\"cat\", \"valued by humans for\", \"companionship and their ability to hunt rodents\")\n",
      "(\"cat\", \"number of breeds recognized by various cat registries\", \"60\")\n",
      "-\n"
     ]
    },
    {
     "name": "stderr",
     "output_type": "stream",
     "text": [
      " 46%|████████████████████████████████████████████████████████████████████▋                                                                                 | 357/780 [58:05<1:16:07, 10.80s/it]"
     ]
    },
    {
     "name": "stdout",
     "output_type": "stream",
     "text": [
      "\n",
      "(\"Wolves\", \"are thought to be\", \"the wolverine's most important natural predator\")\n",
      "(\"Arrival of wolves to a wolverine's territory\", \"presumably leads to\", \"wolverine abandoning the area\")\n",
      "(\"Wolverines\", \"are equipped with\", \"powerful jaws, sharp claws, and a thick hide\")\n",
      "(\"Wolverines\", \"defend against\", \"larger or more numerous predators such as wolves or bears\")\n",
      "(\"Grey wolves\", \"are the most serious predators of\", \"wolverines\")\n",
      "(\"Cougar\", \"is a less frequent predator of\", \"wolverines\")\n",
      "(\"Black bear\", \"won a fatal contest with\", \"wolverine\")\n",
      "(\"Brown bears\", \"have been known to kill and consume\", \"wolverines\")\n",
      "(\"Wolverines\", \"try to actively avoid encounters with\", \"grizzly bears\")\n",
      "(\"A wolverine\", \"was claimed to have killed\", \"an adult polar bear\")\n",
      "-\n"
     ]
    },
    {
     "name": "stderr",
     "output_type": "stream",
     "text": [
      " 46%|████████████████████████████████████████████████████████████████████▊                                                                                 | 358/780 [58:16<1:15:47, 10.78s/it]"
     ]
    },
    {
     "name": "stdout",
     "output_type": "stream",
     "text": [
      "\n",
      "(\"Caspian Sea\", \"is a\", \"world's largest inland body of water\")\n",
      "(\"Caspian Sea\", \"is located between\", \"Europe and Asia\")\n",
      "(\"Caspian Sea\", \"is to the east of\", \"the Caucasus Mountains\")\n",
      "(\"Caspian Sea\", \"is to the west of\", \"broad steppe of Central Asia\")\n",
      "(\"Caspian Sea\", \"has a surface area of\", \"371,000 km2\")\n",
      "(\"Caspian Sea\", \"has a volume of\", \"78,200 km3\")\n",
      "(\"Caspian Sea\", \"has a salinity of\", \"approximately 1.2%\")\n",
      "(\"Caspian Sea\", \"is bounded by\", \"Kazakhstan, Russia, Azerbaijan, Iran, and Turkmenistan\")\n",
      "(\"Caspian Sea\", \"is home to\", \"a wide range of species\")\n",
      "(\"Caspian Sea\", \"is best known for\", \"its caviar and oil industries\")\n",
      "(\"Caspian Sea\", \"has been polluted by\", \"oil industry and dams on rivers draining into it\")\n",
      "-\n"
     ]
    },
    {
     "name": "stderr",
     "output_type": "stream",
     "text": [
      " 46%|█████████████████████████████████████████████████████████████████████                                                                                 | 359/780 [58:34<1:31:06, 12.98s/it]"
     ]
    },
    {
     "name": "stdout",
     "output_type": "stream",
     "text": [
      "\n",
      "(\"Saline water\", \"is more commonly known as\", \"salt water\")\n",
      "(\"Saline water\", \"contains high concentration of\", \"dissolved salts\")\n",
      "(\"Dissolved salts\", \"are mainly\", \"sodium chloride\")\n",
      "(\"Salt concentration\", \"is usually expressed in\", \"parts per thousand (permille, ‰) or parts per million (ppm)\")\n",
      "(\"United States Geological Survey\", \"classifies saline water in\", \"three salinity categories\")\n",
      "(\"Slightly saline water\", \"has salt concentration around\", \"1,000 to 3,000 ppm (0.1–0.3%)\")\n",
      "(\"Moderately saline water\", \"has salt concentration around\", \"3,000 to 10,000 ppm (0.3–1%)\")\n",
      "(\"Highly saline water\", \"has salt concentration around\", \"10,000 to 35,000 ppm (1–3.5%)\")\n",
      "(\"Seawater\", \"has a salinity of roughly\", \"35,000 ppm\")\n",
      "(\"Seawater\", \"is equivalent to\", \"35 grams of salt per one liter (or kilogram) of water\")\n",
      "(\"Saturation level of salt\", \"is dependent on\", \"the temperature of the water\")\n",
      "(\"At 20 °C\", \"one liter of water can dissolve\", \"about 357 grams of salt\")\n",
      "(\"This concentration\", \"is expressed as\", \"26.3\n",
      "-\n"
     ]
    },
    {
     "name": "stderr",
     "output_type": "stream",
     "text": [
      " 46%|█████████████████████████████████████████████████████████████████████▏                                                                                | 360/780 [58:41<1:17:22, 11.05s/it]"
     ]
    },
    {
     "name": "stdout",
     "output_type": "stream",
     "text": [
      "\n",
      "(\"Richard Nelson Frye\", \"suggested an\", \"Urartian origin\")\n",
      "(\"T. Burrow\", \"connected the origin of the name Urmia to\", \"Indo-Iranian urmi- 'wave' and urmya- 'undulating, wavy'\")\n",
      "(\"Neo-Aramaic Assyrian-Chaldean\", \"is spoken by\", \"the shrinking number of the ancient Christian population of the nearby city of Urmia\")\n",
      "(\"ur\", \"means\", \"city\")\n",
      "(\"mia\", \"means\", \"water\")\n",
      "(\"Urmia city\", \"is a\", \"city on the waters of the eponymous lake\")\n",
      "-\n"
     ]
    },
    {
     "name": "stderr",
     "output_type": "stream",
     "text": [
      " 46%|█████████████████████████████████████████████████████████████████████▍                                                                                | 361/780 [58:44<1:01:25,  8.80s/it]"
     ]
    },
    {
     "name": "stdout",
     "output_type": "stream",
     "text": [
      "\n",
      "(\"Cassowaries\", \"have a reputation for\", \"being dangerous to people and domestic animals\")\n",
      "(\"American and Australian troops stationed in New Guinea\", \"were warned to\", \"steer clear ofCassowaries\")\n",
      "(\"Ernest Thomas Gilliard\", \"wrote in his\", \"1958 book, Living Birds of the World\")\n",
      "-\n"
     ]
    },
    {
     "name": "stderr",
     "output_type": "stream",
     "text": [
      " 46%|██████████████████████████████████████████████████████████████████████▌                                                                                 | 362/780 [58:49<53:19,  7.65s/it]"
     ]
    },
    {
     "name": "stdout",
     "output_type": "stream",
     "text": [
      "\n",
      "(\"Mustelids\", \"are typically\", \"small animals\")\n",
      "(\"Mustelids\", \"have\", \"elongated bodies\")\n",
      "(\"Mustelids\", \"have\", \"short legs\")\n",
      "(\"Mustelids\", \"have\", \"short, round ears\")\n",
      "(\"Mustelids\", \"have\", \"thick fur\")\n",
      "(\"Most mustelids\", \"are\", \"solitary\")\n",
      "(\"Most mustelids\", \"are\", \"nocturnal\")\n",
      "(\"Most mustelids\", \"are\",\"active year-round\")\n",
      "-\n"
     ]
    },
    {
     "name": "stderr",
     "output_type": "stream",
     "text": [
      " 47%|██████████████████████████████████████████████████████████████████████▋                                                                                 | 363/780 [58:57<53:30,  7.70s/it]"
     ]
    },
    {
     "name": "stdout",
     "output_type": "stream",
     "text": [
      "\n",
      "(\"Hominidae\", \"is a taxonomic family of\", \"primates\")\n",
      "(\"Hominidae\", \"includes eight extant species in 4 genera\", \"Pongo, Gorilla, Pan, and Homo\")\n",
      "(\"Pongo\", \"is composed of\", \"Bornean, Sumatran, and Tapanuli orangutan\")\n",
      "(\"Gorilla\", \"is composed of\", \"Eastern and Western gorilla\")\n",
      "(\"Pan\", \"is composed of\", \"Common chimpanzee and bonobo\")\n",
      "(\"Homo\", \"is composed of\", \"Modern humans\")\n",
      "-\n"
     ]
    },
    {
     "name": "stderr",
     "output_type": "stream",
     "text": [
      " 47%|██████████████████████████████████████████████████████████████████████▉                                                                                 | 364/780 [59:06<55:04,  7.94s/it]"
     ]
    },
    {
     "name": "stdout",
     "output_type": "stream",
     "text": [
      "\n",
      "(\"Iberian wolf\", \"also known as\", \"Spanish wolf\")\n",
      "(\"Iberian wolf\", \"is a proposed subspecies of\", \"grey wolf\")\n",
      "(\"Iberian wolf\", \"inhabits\", \"northwest of the Iberian Peninsula\")\n",
      "(\"Northwest of the Iberian Peninsula\", \"includes\", \"northern Portugal and northwestern Spain\")\n",
      "(\"Iberian wolf\", \"has a population of\", \"2,200-2,700 wolves\")\n",
      "(\"Iberian wolf\", \"has been isolated from\", \"mixing with other wolf populations\")\n",
      "(\"Iberian wolf\", \"has been isolated for\", \"over a century\")\n",
      "(\"Iberian wolf\", \"forms the largest population of\", \"wolves in Western Europe\")\n",
      "-\n"
     ]
    },
    {
     "name": "stderr",
     "output_type": "stream",
     "text": [
      " 47%|███████████████████████████████████████████████████████████████████████▏                                                                                | 365/780 [59:09<45:10,  6.53s/it]"
     ]
    },
    {
     "name": "stdout",
     "output_type": "stream",
     "text": [
      "\n",
      "(\"Sand cats\", \"were collected in\", \"eastern Karakum Desert in the late 1950s\")\n",
      "(\"Sand cats\", \"have remains of\", \"small mammals, birds, small reptiles, and invertebrates in their faeces and stomachs\")\n",
      "-\n"
     ]
    },
    {
     "name": "stderr",
     "output_type": "stream",
     "text": [
      " 47%|███████████████████████████████████████████████████████████████████████▎                                                                                | 366/780 [59:15<44:58,  6.52s/it]"
     ]
    },
    {
     "name": "stdout",
     "output_type": "stream",
     "text": [
      "\n",
      "(\"orbit\", \"is a gravitationally curved trajectory of\", \"an object\")\n",
      "(\"planet\", \"follows a\", \"trajectory around a star\")\n",
      "(\"natural satellite\", \"follows a\", \"trajectory around a planet\")\n",
      "(\"orbit\", \"may refer to\", \"a regularly repeating trajectory\")\n",
      "(\"orbit\", \"may refer to\", \"a non-repeating trajectory\")\n",
      "(\"planets and satellites\", \"follow approximately\", \"elliptic orbits\")\n",
      "(\"center of mass\", \"is orbited at a\", \"focal point of the ellipse\")\n",
      "(\"Kepler's laws of planetary motion\", \"describes\", \"elliptic orbits\")\n",
      "-\n"
     ]
    },
    {
     "name": "stderr",
     "output_type": "stream",
     "text": [
      " 47%|███████████████████████████████████████████████████████████████████████▌                                                                                | 367/780 [59:21<42:21,  6.15s/it]"
     ]
    },
    {
     "name": "stdout",
     "output_type": "stream",
     "text": [
      "\n",
      "(\"Bernard Sumner\", \"was born on\", \"4 January 1956\")\n",
      "(\"Bernard Sumner\", \"is\", \"an English singer, songwriter, musician, and record producer\")\n",
      "(\"Bernard Sumner\", \"is a founding member of\", \"Joy Division\")\n",
      "(\"Bernard Sumner\", \"is a founding member of\", \"New Order\")\n",
      "-\n"
     ]
    },
    {
     "name": "stderr",
     "output_type": "stream",
     "text": [
      " 47%|███████████████████████████████████████████████████████████████████████▋                                                                                | 368/780 [59:28<44:07,  6.43s/it]"
     ]
    },
    {
     "name": "stdout",
     "output_type": "stream",
     "text": [
      "\n",
      "(\"bull shark\", \"diet consists mainly of\", \"bony fish and small sharks\")\n",
      "(\"bull shark\", \"diet includes\", \"turtles, birds, dolphins, terrestrial mammals, crustaceans, and echinoderms\")\n",
      "(\"bull shark\", \"hunts in\", \"murky waters\")\n",
      "(\"murky waters\", \"make it harder for prey to see\", \"the shark coming\")\n",
      "(\"bull shark\", \"uses a technique\", \"bump-and-bite technique\")\n",
      "(\"bump-and-bite technique\", \"includes initially contacting prey followed by\", \"continue to bite and tackle until prey unable to flee\")\n",
      "-\n"
     ]
    },
    {
     "name": "stderr",
     "output_type": "stream",
     "text": [
      " 47%|███████████████████████████████████████████████████████████████████████▉                                                                                | 369/780 [59:36<47:18,  6.91s/it]"
     ]
    },
    {
     "name": "stdout",
     "output_type": "stream",
     "text": [
      "\n",
      "(\"Central Park Zoo\", \"is a\", \"6.5-acre\")\n",
      "(\"Central Park Zoo\", \"located at\", \"southeast corner of Central Park in New York City\")\n",
      "(\"Central Park Zoo\", \"part of\", \"integrated system of four zoos and one aquarium\")\n",
      "(\"integrated system of four zoos and one aquarium\", \"managed by\", \"Wildlife Conservation Society\")\n",
      "(\"Wildlife Conservation Society\", \"offers children's educational programs\", \"in conjunction with Central Park Zoo's operations\") \n",
      "(\"Wildlife Conservation Society\", \"engaged in\", \"restoration of endangered species populations\")\n",
      "(\"Wildlife Conservation Society\", \"reaches out to\", \"local community through volunteer programs\")\n",
      "-\n"
     ]
    },
    {
     "name": "stderr",
     "output_type": "stream",
     "text": [
      " 47%|███████████████████████████████████████████████████████████████████████▏                                                                              | 370/780 [59:49<1:00:24,  8.84s/it]"
     ]
    },
    {
     "name": "stdout",
     "output_type": "stream",
     "text": [
      "\n",
      "(\"Honey badger\", \"favours\", \"honey\")\n",
      "(\"Honey badger\", \"searches for\", \"beehives\")\n",
      "(\"Honey badger\", \"feeds on\",\"insects\")\n",
      "(\"Honey badger\", \"feeds on\", \"frogs\")\n",
      "(\"Honey badger\", \"feeds on\", \"tortoises\")\n",
      "(\"Honey badger\", \"feeds on\", \"turtles\")\n",
      "(\"Honey badger\", \"feeds on\", \"lizards\")\n",
      "(\"Honey badger\", \"feeds on\", \"rodents\")\n",
      "(\"Honey badger\", \"feeds on\", \"snakes\")\n",
      "(\"Honey badger\", \"feeds on\", \"birds\")\n",
      "(\"Honey badger\", \"feeds on\", \"eggs\")\n",
      "(\"Honey badger\", \"feeds on\", \"berries\")\n",
      "(\"Honey badger\", \"feeds on\", \"roots\")\n",
      "(\"Honey badger\", \"feeds on\", \"bulbs\")\n",
      "(\"Honey badger\", \"forages by\", \"lifts stones\")\n",
      "(\"Honey badger\", \"forages by\", \"tearing bark from trees\")\n",
      "(\"Honey badger\", \"is observed to\", \"chase away lion cubs from kills\")\n",
      "(\"Honey badger\", \"devours\", \"all parts of prey\")\n",
      "-\n"
     ]
    },
    {
     "name": "stderr",
     "output_type": "stream",
     "text": [
      " 48%|███████████████████████████████████████████████████████████████████████▎                                                                              | 371/780 [59:59<1:02:22,  9.15s/it]"
     ]
    },
    {
     "name": "stdout",
     "output_type": "stream",
     "text": [
      "\n",
      "(\"Crocodilia\", \"is an order of\", \"mostly large, predatory, semiaquatic reptiles\")\n",
      "(\"Crocodilia\", \"known as\", \"crocodilians\")\n",
      "(\"Crocodilia\", \"first appeared\", \"95 million years ago in the Late Cretaceous period (Cenomanian stage\")\n",
      "(\"Crocodilia\", \"is the closest living relative of\", \"birds\")\n",
      "(\"Crocodilia\", \"includes the true crocodiles\", \"(family Crocodylidae)\")\n",
      "(\"Crocodilia\", \"includes the alligators and caimans\", \"(family Alligatoridae)\")\n",
      "(\"Crocodilia\", \"includes the gharial and false gharial\", \"(family Gavialidae)\")\n",
      "(\"Crocodilia\", \"often referred to as\", \"crocodiles\")\n",
      "-\n"
     ]
    },
    {
     "name": "stderr",
     "output_type": "stream",
     "text": [
      " 48%|██████████████████████████████████████████████████████████████████████▌                                                                             | 372/780 [1:00:08<1:01:36,  9.06s/it]"
     ]
    },
    {
     "name": "stdout",
     "output_type": "stream",
     "text": [
      "\n",
      "(\"Indian brown mongoose\", \"appears\", \"large\")\n",
      "(\"Indian brown mongoose\", \"lives in\", \"southern Western Ghats\")\n",
      "(\"Indian brown mongoose\", \"has a\", \"dark brown body\")\n",
      "(\"Indian brown mongoose\", \"has legs in\", \"black colour\")\n",
      "(\"Indian brown mongoose\", \"has a tail length of\", \"two third of its body length\")\n",
      "(\"Indian brown mongoose\", \"has more furry tail than\", \"small Indian mongoose\")\n",
      "(\"Indian brown mongoose\", \"has a pointed\", \"tail\")\n",
      "(\"Indian brown mongoose\", \"has fur beneath the\", \"hind leg\")\n",
      "-\n"
     ]
    },
    {
     "name": "stderr",
     "output_type": "stream",
     "text": [
      " 48%|██████████████████████████████████████████████████████████████████████▊                                                                             | 373/780 [1:00:18<1:04:44,  9.54s/it]"
     ]
    },
    {
     "name": "stdout",
     "output_type": "stream",
     "text": [
      "\n",
      "(\"Private pools\",\"are usually\",\"smaller than public pools\")\n",
      "(\"Private pools\",\"have an average size of\",\"3.7m X 7.3m (12ft X 24ft) to 6.1m X 12.2m (20ft X 40ft)\")\n",
      "(\"Public pools\",\"usually start at\",\"24m (80ft)\")\n",
      "(\"Home pools\",\"can be\",\"permanently built-in\")\n",
      "(\"Home pools\",\"can be\",\"assembled above ground and disassembled after summer\")\n",
      "(\"Privately owned outdoor pools\",\"began to proliferate in the 1950s\",\"in regions with warm summer climates\")\n",
      "(\"Privately owned outdoor pools\",\"were particularly popular in\",\"the United States with desegregation\")\n",
      "-\n"
     ]
    },
    {
     "name": "stderr",
     "output_type": "stream",
     "text": [
      " 48%|██████████████████████████████████████████████████████████████████████▉                                                                             | 374/780 [1:00:28<1:04:36,  9.55s/it]"
     ]
    },
    {
     "name": "stdout",
     "output_type": "stream",
     "text": [
      "\n",
      "(\"language\", \"is a mental faculty that\", \"allows humans to undertake linguistic behaviour\")\n",
      "(\"language\", \"emphasizes a biological basis of\", \"the human capacity for language\")\n",
      "(\"language\", \"is acquired by\", \"all cognitively normal children\")\n",
      "(\"language\", \"is understood to be\", \"largely innate\")\n",
      "(\"language\", \"can be studied using\", \"cognitive science framework\" )\n",
      "(\"language\", \"can be studied using\", \"neurolinguistics\")\n",
      "(\"Kant and Descartes\", \"understand language to be\", \"largely innate\")\n",
      "(\"Chomsky's theory\", \"believes language to be\", \"Universal Grammar\")\n",
      "(\"Jerry Fodor's extreme innatist theory\", \"believes language to be\", \"largely innate\")\n",
      "-\n"
     ]
    },
    {
     "name": "stderr",
     "output_type": "stream",
     "text": [
      " 48%|███████████████████████████████████████████████████████████████████████▏                                                                            | 375/780 [1:00:45<1:19:23, 11.76s/it]"
     ]
    },
    {
     "name": "stdout",
     "output_type": "stream",
     "text": [
      "\n",
      "(\"marin life\", \"lives in\", \"photic zone\")\n",
      "(\"photic zone\", \"is approximately\", \"200 meters deep\")\n",
      "(\"photic zone\", \"includes\", \"phytoplankton\")\n",
      "(\"phytoplankton\", \"includes\", \"dinoflagellates\")\n",
      "(\"phytoplankton\", \"includes\", \"diatoms\")\n",
      "(\"phytoplankton\", \"includes\", \"cyanobacteria\")\n",
      "(\"phytoplankton\", \"includes\", \"coccolithophorids\")\n",
      "(\"phytoplankton\", \"includes\", \"cryptomonads\")\n",
      "(\"photic zone\", \"includes\", \"zooplankton\")\n",
      "(\"zooplankton\", \"includes\", \"carnivorous meat eaters\")\n",
      "(\"zooplankton\", \"includes\", \"herbivorous plant eaters\")\n",
      "(\"photic zone\", \"includes\", \"copepods\")\n",
      "(\"copepods\", \"are\", \"the biggest group of animals on the planet\")\n",
      "(\"photic zone\", \"includes\", \"nekton\")\n",
      "(\"nekton\", \"includes\", \"fish\")\n",
      "(\"nekton\", \"includes\", \"squids\")\n",
      "(\"nekton\", \"includes\", \"crabs\")\n",
      "(\"nekton\", \"are smallest in\", \"quantity among all groups\")\n",
      "-\n"
     ]
    },
    {
     "name": "stderr",
     "output_type": "stream",
     "text": [
      " 48%|███████████████████████████████████████████████████████████████████████▎                                                                            | 376/780 [1:00:49<1:04:38,  9.60s/it]"
     ]
    },
    {
     "name": "stdout",
     "output_type": "stream",
     "text": [
      "\n",
      "(\"Election Day\", \"is the annual day set by law for\", \"the general elections of federal public officials\")\n",
      "(\"Election Day\", \"is statutorily set as\" ,\"the Tuesday next after the first Monday in the month of November\")\n",
      "(\"Election Day\", \"is statutorily set as\" , \"the first Tuesday after November 1\")\n",
      "(\"Election Day\", \"earliest possible date is\", \"November 2\")\n",
      "(\"Election Day\", \"latest possible date is\", \"November 8\")\n",
      "-\n"
     ]
    },
    {
     "name": "stderr",
     "output_type": "stream",
     "text": [
      " 48%|███████████████████████████████████████████████████████████████████████▌                                                                            | 377/780 [1:00:57<1:01:08,  9.10s/it]"
     ]
    },
    {
     "name": "stdout",
     "output_type": "stream",
     "text": [
      "\n",
      "(\"Florida\", \"has a climate\", \"tempered by the fact that no part of the state is very distant from the ocean\")\n",
      "(\"North of Lake Okeechobee\", \"has a climate\", \"humid subtropical\")\n",
      "(\"Coastal areas south of the lake\", \"has a climate\", \"true tropical\")\n",
      "(\"Mean high temperatures for late July\", \"are primarily in\", \"low 90s Fahrenheit (32–34 °C)\")\n",
      "(\"Mean low temperatures for early to mid January\", \"range from\", \"low 40s Fahrenheit (4–7 °C) in northern Florida to the mid-50s (≈13 °C) in southern Florida\")\n",
      "-\n"
     ]
    },
    {
     "name": "stderr",
     "output_type": "stream",
     "text": [
      " 48%|████████████████████████████████████████████████████████████████████████▋                                                                             | 378/780 [1:01:06<59:44,  8.92s/it]"
     ]
    },
    {
     "name": "stdout",
     "output_type": "stream",
     "text": [
      "\n",
      "(\"Gilbert White\", \"was among\", \"early interest in observing birds\") \n",
      "(\"Thomas Bewick\", \"was among\", \"early interest in observing birds\") \n",
      "(\"George Montagu\", \"was among\", \"early interest in observing birds\") \n",
      "(\"John Clare\", \"was among\", \"early interest in observing birds\") \n",
      "(\"Victorian Era\", \"was associated with\", \"collection, eggs and later skins\")\n",
      "(\"Victorian Era\", \"was associated with\", \"collection of birds\")\n",
      "(\"Wealthy collectors\", \"used contacts in the colonies\", \"to obtain specimens from around the world\")\n",
      "(\"Audubon Society\", \"was started for\", \"protection of birds from trade in feathers in US\")\n",
      "(\"Royal Society for the Protection of Birds\", \"was started in\", \"Britain\")\n",
      "-\n"
     ]
    },
    {
     "name": "stderr",
     "output_type": "stream",
     "text": [
      " 49%|████████████████████████████████████████████████████████████████████████▉                                                                             | 379/780 [1:01:15<59:43,  8.94s/it]"
     ]
    },
    {
     "name": "stdout",
     "output_type": "stream",
     "text": [
      "\n",
      "(\"Night monkeys\", \"mate\", \"infrequently\")\n",
      "(\"Night monkeys\", \"have reproductive cycles ranging from\", \"13–25 days\")\n",
      "(\"Night monkeys\", \"have a gestation period ranging from\", \"117–159 days\")\n",
      "(\"Night monkeys\", \"have birthing season extending from\", \"September to March\")\n",
      "(\"Night monkeys\", \"usually produce\", \"one offspring per year\")\n",
      "(\"Night monkeys in captivity\", \"have shown to produce\", \"twins\")\n",
      "(\"Night monkeys\", \"reach puberty at\", \"7–11 months\")\n",
      "(\"Night monkeys\", \"reach full sexual maturity at\", \"2 years of age\")\n",
      "(\"A. azare\", \"reaches full sexual maturity at\", \"4 years of age\")\n",
      "-\n"
     ]
    },
    {
     "name": "stderr",
     "output_type": "stream",
     "text": [
      " 49%|█████████████████████████████████████████████████████████████████████████                                                                             | 380/780 [1:01:19<50:06,  7.52s/it]"
     ]
    },
    {
     "name": "stdout",
     "output_type": "stream",
     "text": [
      "\n",
      "(\"Some goldfish\", \"are selectively bred\", \"with an altered shape\")\n",
      "(\"Some goldfish\", \"can no longer\", \"breed naturally\")\n",
      "(\"Artificial breeding method\", \"is called\", \"hand stripping\")\n",
      "(\"Hand stripping\", \"can assist nature but\", \"can harm the fish if not done correctly\")\n",
      "(\"Adults in captivity\", \"may eat\", \"young that they encounter\")\n",
      "-\n"
     ]
    },
    {
     "name": "stderr",
     "output_type": "stream",
     "text": [
      " 49%|█████████████████████████████████████████████████████████████████████████▎                                                                            | 381/780 [1:01:31<59:19,  8.92s/it]"
     ]
    },
    {
     "name": "stdout",
     "output_type": "stream",
     "text": [
      "\n",
      "(\"Nighttime temperatures\", \"are often enhanced due to\", \"the urban heat island effect\")\n",
      "(\"Daytime temperatures\", \"exceed\", \"90°F (32°C)\")\n",
      "(\"Daytime temperatures\", \"average\", \"17 days each summer\")\n",
      "(\"Daytime temperatures\", \"sometimes exceed\", \"100°F (38°C)\")\n",
      "(\"Daytime temperatures\", \"last exceeded\", \"100°F (38°C) on July 23, 2011\")\n",
      "(\"Readings of 0°F (−18°C)\", \"is a rare achievement\", \"last occurring on February 14, 2016\")\n",
      "(\"Extreme temperatures\", \"have ranged\", \"from -15°F (-26°C) to 106°F (41°C)\")\n",
      "(\"The coldest recorded wind chill\", \"was\", \"-37°F (-38°C)\")\n",
      "(\"The all-time record low\", \"was\", \"-15°F (-26°C) on February 9, 1934\")\n",
      "(\"The record cold daily maximum\", \"was\", \"2°F (-17°C) on December 30, 1917\")\n",
      "(\"The record warm daily minimum\", \"was\", \"84°F (29°C) on July 22, 2011\")\n",
      "(\"Average water temperature of the Atlantic Ocean\", \"ranges from\", \"39.7°F (4.3°C) in February to 74.1°F (23.4°\n",
      "-\n"
     ]
    },
    {
     "name": "stderr",
     "output_type": "stream",
     "text": [
      " 49%|█████████████████████████████████████████████████████████████████████████▍                                                                            | 382/780 [1:01:37<53:32,  8.07s/it]"
     ]
    },
    {
     "name": "stdout",
     "output_type": "stream",
     "text": [
      "\n",
      "(\"Greyhound\", \"serves\", \"over 2,700 destinations across America\")\n",
      "(\"Greyhound\", \"operates\", \"230 stations\")\n",
      "(\"Stations\", \"are located\", \"in most major cities\")\n",
      "(\"Stations\",\"have\",\"Greyhound branding\")\n",
      "(\"Stations\", \"are staffed by\", \"company representatives\")\n",
      "(\"Stations\", \"can stand\", \"alone\")\n",
      "(\"Stations\",\"can be\",\"part of larger transportation centers\")\n",
      "(\"Stations\",\"have\",\"Greyhound ticket counter and waiting area\")\n",
      "-\n"
     ]
    },
    {
     "name": "stderr",
     "output_type": "stream",
     "text": [
      " 49%|█████████████████████████████████████████████████████████████████████████▋                                                                            | 383/780 [1:01:48<58:14,  8.80s/it]"
     ]
    },
    {
     "name": "stdout",
     "output_type": "stream",
     "text": [
      "\n",
      "(\"Amphibious turtles\", \"have limbs\", \"similar to those of tortoises\") \n",
      "(\"Amphibious turtles\", \"have feet\", \"webbed\")\n",
      "(\"Amphibious turtles\", \"have claws\", \"long\")\n",
      "(\"Amphibious turtles\", \"swim with\", \"all four feet\")\n",
      "(\"Amphibious turtles\", \"swimming technique\", \"similar to the dog paddle\")\n",
      "(\"Large turtles\", \"swim less than\", \"smaller ones\")\n",
      "(\"Alligator snapping turtles\", \"prefers\", \"to walk along bottom of river or lake\")\n",
      "(\"Turtles\", \"have claws\", \"long\")\n",
      "(\"Male turtles\", \"have longer claws than\", \"females\" )\n",
      "(\"Male turtles\", \"use claws\", \"to stimulate the female while mating\")\n",
      "(\"Some turtles\", \"have true flippers\", \"with digits being fused into paddles and claws being small\")\n",
      "(\"True flipper turtles\", \"swim in same way as\", \"sea turtles\")\n",
      "-\n"
     ]
    },
    {
     "name": "stderr",
     "output_type": "stream",
     "text": [
      " 49%|████████████████████████████████████████████████████████████████████████▊                                                                           | 384/780 [1:02:02<1:09:22, 10.51s/it]"
     ]
    },
    {
     "name": "stdout",
     "output_type": "stream",
     "text": [
      "\n",
      "(\"No known air breathing engine\", \"is capable of\", \"operating at orbital speed within the atmosphere\")\n",
      "(\"Hydrogen fueled scramjets\", \"have a top speed of\", \"about Mach 17\")\n",
      "(\"Rockets must be used for\", \"final orbital insertion\",)\n",
      "(\"Rocket thrust needs\", \"orbital mass to be as small as possible\",)\n",
      "(\"Thrust-to-weight ratio of rockets\", \"increases dramatically as fuel is expended\",)\n",
      "(\"Traditional air breathing engines\", \"have a poor thrust/weight ratio\",)\n",
      "(\"High speeds in the atmosphere\", \"necessitate very heavy thermal protection systems\", )\n",
      "(\"Air-breathing engines\", \"very efficient\", \"at low speeds\")\n",
      "(\"Air-breathing jet engines\", \"drop efficiency and thrust levels\", \"above Mach 5-10\")\n",
      "(\"Lift to drag ratios of vehicles at hypersonic speeds\", \"are poor\",)\n",
      "(\"Rocket vehicles at high g\", \"effective lift to drag ratios not dissimilar\",)\n",
      "(\"Scramjet designs\", \"mass budgets do not seem to close for orbital launch\",)\n",
      "-\n"
     ]
    },
    {
     "name": "stderr",
     "output_type": "stream",
     "text": [
      " 49%|██████████████████████████████████████████████████████████████████████████                                                                            | 385/780 [1:02:07<57:32,  8.74s/it]"
     ]
    },
    {
     "name": "stdout",
     "output_type": "stream",
     "text": [
      "\n",
      "(\"Vulnerable species\", \"is defined as\", \"species likely to become endangered\")\n",
      "(\"Vulnerable species\", \"is categorized by\", \"International Union for Conservation of Nature\")\n",
      "(\"Vulnerable species\", \"is threatened by\", \"circumstances\")\n",
      "(\"Vulnerable species\", \"must improve\", \"circumstances threatening its survival and reproduction\")\n",
      "-\n"
     ]
    },
    {
     "name": "stderr",
     "output_type": "stream",
     "text": [
      " 49%|██████████████████████████████████████████████████████████████████████████▏                                                                           | 386/780 [1:02:15<56:57,  8.67s/it]"
     ]
    },
    {
     "name": "stdout",
     "output_type": "stream",
     "text": [
      "\n",
      "(\"zoo\", \"is also called\", \"animal park\")\n",
      "(\"zoo\", \"is also called\", \"menagerie\")\n",
      "(\"zoo\", \"houses\", \"animals\")\n",
      "(\"zoo\", \"encloses\", \"animals\")\n",
      "(\"zoo\", \"cares for\", \"animals\")\n",
      "(\"zoo\", \"displays to the public\", \"animals\")\n",
      "(\"zoo\", \"breeds\", \"animals\")\n",
      "-\n"
     ]
    },
    {
     "name": "stderr",
     "output_type": "stream",
     "text": [
      " 50%|██████████████████████████████████████████████████████████████████████████▍                                                                           | 387/780 [1:02:26<59:58,  9.16s/it]"
     ]
    },
    {
     "name": "stdout",
     "output_type": "stream",
     "text": [
      "\n",
      "(\"Vellum\", \"is made from\", \"animal skin\")\n",
      "(\"Vellum\", \"is also known as\", \"membrane\")\n",
      "(\"Vellum\", \"is typically used for\", \"writing\")\n",
      "(\"Parchment\", \"is another name for\", \"Vellum\")\n",
      "(\"Vellum\", \"is distinguished from Parchment by being made from\", \"calfskin\")\n",
      "(\"Vellum\", \"is of higher quality than other animal skins\", \"True\")\n",
      "(\"Vellum\", \"is prepared for\" \"writing and printing\")\n",
      "(\"Vellum\", \"can be used to produce\", \"single pages, scrolls, codices or books\")\n",
      "(\"Vellum\", \"is derived from the Latin word\", \"vitulinum\")\n",
      "(\"Vitulinum\", \"means\", \"made from calf\")\n",
      "-\n"
     ]
    },
    {
     "name": "stderr",
     "output_type": "stream",
     "text": [
      " 50%|██████████████████████████████████████████████████████████████████████████▌                                                                           | 388/780 [1:02:32<54:17,  8.31s/it]"
     ]
    },
    {
     "name": "stdout",
     "output_type": "stream",
     "text": [
      "\n",
      "(\"crocodylian family\", \"includes\", \"true crocodiles - members of subfamily Crocodylinae\")\n",
      "(\"crocodylian family\", \"includes\",  \"false gharial - member of subfamily Tomistominae\")\n",
      "(\"false gharial\", \"is subject of controversy\", \"belongs to family Gavialidae\")\n",
      "(\"false gharial\", \"requires\", \"further genetic analysis\")\n",
      "-\n"
     ]
    },
    {
     "name": "stderr",
     "output_type": "stream",
     "text": [
      " 50%|█████████████████████████████████████████████████████████████████████████▊                                                                          | 389/780 [1:02:44<1:01:13,  9.39s/it]"
     ]
    },
    {
     "name": "stdout",
     "output_type": "stream",
     "text": [
      "\n",
      "(\"Thalassarche chlororhynchos\", \"type of\", \"Atlantic yellow-nosed albatross\")\n",
      "(\"Thalassarche carteri\", \"type of\", \"Indian yellow-nosed albatross\")\n",
      "(\"Thalassarche bulleri\", \"type of\", \"Buller's albatross\")\n",
      "(\"Thalassarche cauta\", \"type of\", \"shy albatross\")\n",
      "(\"Thalassarche steadi\", \"type of\", \"white-capped albatross\")\n",
      "(\"Thalassarche eremita\", \"type of\", \"Chatham albatross\")\n",
      "(\"Thalassarche salvini\", \"type of\", \"Salvin's albatross\")\n",
      "(\"Thalassarche impavida\", \"type of\", \"Campbell albatross\")\n",
      "(\"Thalassarche chrysostoma\", \"type of\", \"grey-headed albatross\")\n",
      "(\"Thalassarche melanophrys\", \"type of\", \"black-browed albatross\")\n",
      "(\"†Thalassarche thyridata\", \"type of\", \"Mollymawks\")\n",
      "(\"Mollymawks\", \"has\", \"largest range in size of all albatross genera\")\n",
      "(\"Mollymawks\", \"have wingspans of\", \"180–256 cm (\n",
      "-\n"
     ]
    },
    {
     "name": "stderr",
     "output_type": "stream",
     "text": [
      " 50%|██████████████████████████████████████████████████████████████████████████                                                                          | 390/780 [1:02:54<1:02:01,  9.54s/it]"
     ]
    },
    {
     "name": "stdout",
     "output_type": "stream",
     "text": [
      "\n",
      "(\"The saltwater crocodile\", \"is a\", \"crocodilian\")\n",
      "(\"The saltwater crocodile\", \"is native to\", \"saltwater habitats and brackish wetlands\")\n",
      "(\"The saltwater crocodile\", \"has a range from\", \"India's east coast to northern Australia and Micronesia\")\n",
      "(\"The saltwater crocodile\", \"is listed as\", \"Least Concern on the IUCN Red List\")\n",
      "(\"The saltwater crocodile\", \"was hunted for its skin\", \"up to the 1970s\")\n",
      "(\"The saltwater crocodile\", \"is threatened by\", \"illegal killing and habitat loss\")\n",
      "(\"The saltwater crocodile\", \"is regarded as\", \"dangerous for people who share the same environment\")\n",
      "-\n"
     ]
    },
    {
     "name": "stderr",
     "output_type": "stream",
     "text": [
      " 50%|███████████████████████████████████████████████████████████████████████████▏                                                                          | 391/780 [1:03:00<55:33,  8.57s/it]"
     ]
    },
    {
     "name": "stdout",
     "output_type": "stream",
     "text": [
      "\n",
      "(\"Risk assessment\", \"is based on\", \"patients' health\")\n",
      "(\"American Society of Anesthesiologists\", \"has developed\", \"a six-tier scale\")\n",
      "(\"Six-tier scale\", \"stratifies\", \"patient's pre-operative physical state\")\n",
      "(\"Six-tier scale\", \"is called\", \"ASA physical status\")\n",
      "(\"ASA physical status\", \"assesses risk\", \"as patient's general health relates to ansesthetic\")\n",
      "-\n"
     ]
    },
    {
     "name": "stderr",
     "output_type": "stream",
     "text": [
      " 50%|███████████████████████████████████████████████████████████████████████████▍                                                                          | 392/780 [1:03:06<50:43,  7.84s/it]"
     ]
    },
    {
     "name": "stdout",
     "output_type": "stream",
     "text": [
      "\n",
      "(\"Cookiecutter sharks\", \"feed on\", \"flesh sliced out of other larger fish and marine mammals\")\n",
      "(\"Cookiecutter sharks\", \"have teeth\", \"enormous compared to the animal's size\")\n",
      "(\"Cookiecutter sharks' teeth\", \"are particularly sharp\", \"lower teeth\")\n",
      "(\"Cookiecutter sharks\", \"are believed to\", \"latch onto their prey\")\n",
      "(\"Cookiecutter sharks\", \"use\", \"thick lips to make a seal\")\n",
      "(\"Cookiecutter sharks\", \"twist their bodies to\", \"rip off flesh\")\n",
      "-\n"
     ]
    },
    {
     "name": "stderr",
     "output_type": "stream",
     "text": [
      " 50%|███████████████████████████████████████████████████████████████████████████▌                                                                          | 393/780 [1:03:13<49:14,  7.63s/it]"
     ]
    },
    {
     "name": "stdout",
     "output_type": "stream",
     "text": [
      "\n",
      "(\"detection dog\", \"is a type of\", \"dog\")\n",
      "(\"detection dog\", \"is trained to\", \"use its senses to detect substances\")\n",
      "(\"substances\", \"detection dog is able to detect\", \"explosives, illegal drugs, wildlife scat, currency, blood, and contraband electronics\")\n",
      "(\"detection dog\", \"uses primarily\", \"smell\")\n",
      "(\"detection dog\", \"is different than\", \"hunting and search dogs\")\n",
      "(\"detection dog\", \"can be used as a resource for\", \"police\")\n",
      "(\"police\", \"utilize detection dogs\", \"for drug raids, searching for missing criminals, and locating stashed currency\")\n",
      "-\n"
     ]
    },
    {
     "name": "stderr",
     "output_type": "stream",
     "text": [
      " 51%|██████████████████████████████████████████████████████████████████████████▊                                                                         | 394/780 [1:03:32<1:10:43, 10.99s/it]"
     ]
    },
    {
     "name": "stdout",
     "output_type": "stream",
     "text": [
      "\n",
      "(\"Hurricane Harvey\", \"originated from\", \"a westward-moving tropical wave\")\n",
      "(\"Hurricane Harvey\", \"emerged from\", \"Africa\")\n",
      "(\"Hurricane Harvey\", \"emerged over\", \"the eastern Atlantic Ocean\")\n",
      "(\"Hurricane Harvey\", \"emerged on\", \"August 12, 2017\")\n",
      "(\"Hurricane Harvey\", \"has a surface circulation\", \"which slowly developed\")\n",
      "(\"Hurricane Harvey\", \"consolidated around a low\", \"over subsequent days\")\n",
      "(\"Hurricane Harvey\", \"became a tropical depression\", \"on August 17\")\n",
      "(\"Hurricane Harvey\", \"was located roughly\", \"505 mi (815 km) east of Barbados when it became a depression\")\n",
      "(\"Hurricane Harvey\", \"maintained a brisk\", \"westward motion\")\n",
      "(\"Hurricane Harvey\", \"strengthened, and became a\", \"tropical storm\")\n",
      "(\"Hurricane Harvey\", \"was assigned the name\", \"Harvey.\")\n",
      "(\"Hurricane Harvey\", \"had maximum sustained winds of\", \"45 mph (75 km/h)\")\n",
      "(\"Hurricane Harvey\", \"made landfalls in\", \"Barbados and St. Vincent\")\n",
      "(\"Hurricane Harvey\", \"entered the Caribbean Sea\", \"on August 18\")\n",
      "(\"Hurricane Harvey\", \"weakened due to\", \"wind shear\")\n",
      "(\"Hurricane Harvey\", \"degenerated into a tropical wave\n",
      "-\n"
     ]
    },
    {
     "name": "stderr",
     "output_type": "stream",
     "text": [
      " 51%|██████████████████████████████████████████████████████████████████████████▉                                                                         | 395/780 [1:03:48<1:18:58, 12.31s/it]"
     ]
    },
    {
     "name": "stdout",
     "output_type": "stream",
     "text": [
      "\n",
      "(\"Jure Grando Alilović\", \"is from\", \"the region of Istria\")\n",
      "(\"Jure Grando Alilović\", \"was\", \"the first real person described as a vampire\")\n",
      "(\"Jure Grando Alilović\", \"was referred to as\", \"štrigon or štrigun\")\n",
      "(\"Jure Grando Alilović\", \"terrorized his former village\", \"sixteen years after his death\")\n",
      "(\"Jure Grando Alilović\", \"was\", \"decapitated by the local priest and villagers\")\n",
      "(\"Janez Vajkard Valvasor\", \"wrote about\", \"Jure Grando Alilović's life and afterlife\")\n",
      "(\"Janez Vajkard Valvasor\", \"did this when\", \"he visited Kringa during his travels\")\n",
      "(\"Janez Vajkard Valvasor\", \"wrote\", \"the first written document on vampires\")\n",
      "(\"Erasmus Francisci and Johann Joseph von Goerres\", \"wrote about\", \"Jure Grando Alilović\")\n",
      "(\"Erasmus Francisci and Johann Joseph von Goerres\", \"wrote with\", \"fantastic details to make the story more interesting and sensational\")\n",
      "(\"Boris Perić\", \"has researched\", \"the legend\")\n",
      "(\"Boris Perić\", \"wrote a book\", \"The Vampire\")\n",
      "-\n"
     ]
    },
    {
     "name": "stderr",
     "output_type": "stream",
     "text": [
      " 51%|███████████████████████████████████████████████████████████████████████████▏                                                                        | 396/780 [1:03:54<1:06:32, 10.40s/it]"
     ]
    },
    {
     "name": "stdout",
     "output_type": "stream",
     "text": [
      "\n",
      "(\"Sweden\", \"had a debate in the late 18th century about the national value of\", \"using the moose as a domestic animal\")\n",
      "(\"The moose\", \"was proposed to be used in\", \"postal distribution\")\n",
      "(\"1790s\", \"deregulated hunting for moose\", \"nearly drove it to extinction\")\n",
      "(\"Individual moose\", \"were used for\", \"riding and/or pulling carts and sleds\")\n",
      "(\"Björklöf\", \"concludes\", \"no wide-scale usage of moose has occurred outside fairytales\")\n",
      "-\n"
     ]
    },
    {
     "name": "stderr",
     "output_type": "stream",
     "text": [
      " 51%|███████████████████████████████████████████████████████████████████████████▎                                                                        | 397/780 [1:04:08<1:13:55, 11.58s/it]"
     ]
    },
    {
     "name": "stdout",
     "output_type": "stream",
     "text": [
      "\n",
      "(\"Double oven\", \"is\", \"a built-in oven fixture that has either two ovens, or one oven and one microwave oven\")\n",
      "(\"Double oven\", \"is usually built into\", \"the kitchen cabinet\")\n",
      "(\"Earth oven\", \"is\", \"a pit dug into the ground and then heated, usually by rocks or smoldering debris\")\n",
      "(\"Earth oven\", \"has historically been used by\", \"many cultures for cooking\")\n",
      "(\"Cooking times\", \"are usually\", \"long\")\n",
      "(\"Process of cooking by slow roasting\", \"is\", \"the food\")\n",
      "(\"Earth ovens\", \"are among the most common things archaeologists look for at an anthropological dig\", \"as they are one of the key indicators of human civilization and static society\")\n",
      "(\"Ceramic oven\", \"takes different forms depending on the culture\", \"Indians refer to it as a tandoor and use it for cooking\")\n",
      "(\"Ceramic ovens\", \"can be dated back as far as\", \"3,000 BC\")\n",
      "(\"Ceramic ovens\", \"have been argued to have their origins in\", \"the Indus Valley\")\n",
      "(\"Brick ovens\", \"are another type of ceramic oven\", \"notable for its use in Italian culture and its pizza\")\n",
      "(\"Brick ovens\", \"have a history that dates further back to Roman times\", \"wherein the brick oven was used for commercial and household\n",
      "-\n"
     ]
    },
    {
     "name": "stderr",
     "output_type": "stream",
     "text": [
      " 51%|████████████████████████████████████████████████████████████████████████████▌                                                                         | 398/780 [1:04:11<57:40,  9.06s/it]"
     ]
    },
    {
     "name": "stdout",
     "output_type": "stream",
     "text": [
      "\n",
      "(\"It\", \"averages about\", \"46 cm in head-to-body length\")\n",
      "(\"It\", \"averages about\", \"23-25 cm in height\")\n",
      "(\"It\", \"averages about\", \"30 cm long tails\")\n",
      "(\"Males\", \"are larger than\", \"females\")\n",
      "-\n"
     ]
    },
    {
     "name": "stderr",
     "output_type": "stream",
     "text": [
      " 51%|███████████████████████████████████████████████████████████████████████████▋                                                                        | 399/780 [1:04:23<1:02:06,  9.78s/it]"
     ]
    },
    {
     "name": "stdout",
     "output_type": "stream",
     "text": [
      "\n",
      "(\"Insect respiration\", \"is accomplished without\", \"lungs\")\n",
      "(\"Insect respiration\", \"is accomplished using\", \"a system of internal tubes and sacs\") \n",
      "(\"Insect respiration\", \"uses gases\", \"which diffuse or are actively pumped\")\n",
      "(\"Insect respiration\", \"delivers oxygen\", \"directly to tissues that need oxygen\")\n",
      "(\"Insect respiration\", \"eliminates carbon dioxide\", \"via their cells\")\n",
      "(\"Insect respiration\", \"does not use\", \"the circulatory system\")\n",
      "(\"Insect respiration\", \"does not have closed vessels\", \"like veins or arteries\")\n",
      "(\"Insect respiration\", \"has a single, perforated dorsal tube\", \"that pulses peristaltically\")\n",
      "(\"Insect respiration\", \"helps circulate\", \"the hemolymph inside the body cavity\")\n",
      "-\n"
     ]
    },
    {
     "name": "stderr",
     "output_type": "stream",
     "text": [
      " 51%|███████████████████████████████████████████████████████████████████████████▉                                                                        | 400/780 [1:04:36<1:08:17, 10.78s/it]"
     ]
    },
    {
     "name": "stdout",
     "output_type": "stream",
     "text": [
      "\n",
      "(\"gills\", \"are located on\", \"either side of the pharynx\")\n",
      "(\"gills\", \"are composed of\", \"threadlike structures called filaments\")\n",
      "(\"gills\", \"have functions involving\", \"ion and water transfer, oxygen, carbon dioxide, acid and ammonia exchange\")\n",
      "(\"filaments\", \"contain\", \"a capillary network\")\n",
      "(\"capillary network\", \"provides a large surface\", \"area for the exchange of gases and ions\")\n",
      "(\"Fish\", \"exchange gases by\", \"pulling oxygen-rich water through their mouths and pumping it over their gills\")\n",
      "(\"Sharks and Rays\", \"employ\", \"a spiracle near the top of the head to pump water into the gills when the animal is not in motion\") \n",
      "(\"Capillary blood\", \"flows in the\", \"opposite direction to the water, causing countercurrent exchange\")\n",
      "(\"Muscles\", \"on the sides of the pharynx\", \"push the oxygen-depleted water out the gill openings\")\n",
      "(\"Bony fish\", \"are aided by an Operculum\", \"a bone that surrounds the gills\")\n",
      "-\n"
     ]
    },
    {
     "name": "stderr",
     "output_type": "stream",
     "text": [
      " 51%|█████████████████████████████████████████████████████████████████████████████                                                                         | 401/780 [1:04:41<56:45,  8.99s/it]"
     ]
    },
    {
     "name": "stdout",
     "output_type": "stream",
     "text": [
      "\n",
      "(\"Iberian Peninsula\", \"comprises\", \"bulk of Spain and Portugal\")\n",
      "(\"Iberian Peninsula\", \"comprises\", \"microstate of Andorra\")\n",
      "(\"Iberian Peninsula\", \"comprises\", \"small part of the French department of Pyrénées-Orientales\")\n",
      "(\"Iberian Peninsula\", \"comprises\", \"British Overseas Territory of Gibraltar\")\n",
      "(\"Iberian Peninsula\", \"comprises\", \"the French Cerdagne\")\n",
      "-\n"
     ]
    },
    {
     "name": "stderr",
     "output_type": "stream",
     "text": [
      " 52%|████████████████████████████████████████████████████████████████████████████▎                                                                       | 402/780 [1:04:57<1:11:37, 11.37s/it]"
     ]
    },
    {
     "name": "stdout",
     "output_type": "stream",
     "text": [
      "\n",
      "(\"nutrient\", \"is a substance used by\", \"organisms to survive, grow, and reproduce\")\n",
      "(\"nutrient\", \"must be provided by\", \"animals, plants, fungi, and protists\")\n",
      "(\"nutrient\", \"can be metabolized to\", \"smaller molecules\")\n",
      "(\"nutrient\", \"releasing energy from\", \"carbohydrates, lipids, proteins and fermentation products\")\n",
      "(\"nutrient\", \"metabolizing to\", \"water and carbon dioxide\")\n",
      "(\"water\", \"is essential for\", \"all organisms\")\n",
      "(\"essential nutrients\", \"required by animals\", \"energy sources, certain amino acids, a subset of fatty acids, vitamins and minerals\")\n",
      "(\"essential nutrients\", \"required by plants\", \"diverse minerals, carbon dioxide and oxygen\")\n",
      "(\"essential nutrients\", \"required by fungi\", \"dead or living organic matter from host\")\n",
      "-\n"
     ]
    },
    {
     "name": "stderr",
     "output_type": "stream",
     "text": [
      " 52%|████████████████████████████████████████████████████████████████████████████▍                                                                       | 403/780 [1:05:04<1:02:15,  9.91s/it]"
     ]
    },
    {
     "name": "stdout",
     "output_type": "stream",
     "text": [
      "\n",
      "(\"Life on Mars\", \"is a subject of\", \"huge interest in astrobiology\")\n",
      "(\"Mars\", \"is similar to\", \"Earth\")\n",
      "(\"No proof\", \"has been found of\", \"past or present life on Mars\")\n",
      "(\"Noachian time period\", \"had a surface environment of\", \"liquid water\")\n",
      "(\"Mars\", \"may have been livable for\", \"microorganisms\")\n",
      "(\"Habitable conditions\", \"do not necessarily indicate the presence of\", \"life\")\n",
      "-\n"
     ]
    },
    {
     "name": "stderr",
     "output_type": "stream",
     "text": [
      " 52%|████████████████████████████████████████████████████████████████████████████▋                                                                       | 404/780 [1:05:20<1:13:39, 11.75s/it]"
     ]
    },
    {
     "name": "stdout",
     "output_type": "stream",
     "text": [
      "\n",
      "(\"Ontario\",\"shares a border with\",\"Minnesota\")\n",
      "(\"Ontario\",\"shares a border with\",\"Michigan\")\n",
      "(\"Ontario\",\"shares a border with\",\"Ohio\")\n",
      "(\"Ontario\",\"shares a border with\",\"Pennsylvania\")\n",
      "(\"Ontario\",\"shares a border with\",\"New York\")\n",
      "(\"Minnesota border\", \"consists of\", \"Lake of the Woods\")\n",
      "(\"Minnesota border\",\"consists of\",\"Rainy River\")\n",
      "(\"Minnesota border\",\"consists of\",\"Rainy Lake\")\n",
      "(\"Minnesota border\",\"consists of\",\"Height of Land Portage\")\n",
      "(\"Height of Land Portage\",\"is a\",\"1 km stretch of land\")\n",
      "(\"Height of Land Portage\",\"divides the\",\"Arctic Ocean and Nelson River watershed\")\n",
      "(\"Height of Land Portage\",\"divides the\",\"St Lawrence River and the Atlantic Ocean\")\n",
      "(\"U.S./Minnesota border\",\"follows\",\"tributaries of the Pigeon River\")\n",
      "(\"U.S./Minnesota border\",\"ends at\",\"Lake Superior\")\n",
      "(\"Ontario\",\"borders Michigan across\",\"Lake Superior\")\n",
      "(\"Ontario\",\"borders Michigan across\",\"Saint Mary's River\")\n",
      "(\"Ontario\",\"borders Michigan across\",\"Lake Huron\")\n",
      "(\"Ontario\",\"borders Michigan across\",\"St. Clair River\")\n",
      "(\"Ontario\",\"borders Michigan across\",\"Lake St. Clair\")\n",
      "(\"Ontario\",\"borders Michigan across\",\"\n",
      "-\n"
     ]
    },
    {
     "name": "stderr",
     "output_type": "stream",
     "text": [
      " 52%|████████████████████████████████████████████████████████████████████████████▊                                                                       | 405/780 [1:05:33<1:15:40, 12.11s/it]"
     ]
    },
    {
     "name": "stdout",
     "output_type": "stream",
     "text": [
      "\n",
      "(\"kangaroos\", \"attacking humans without provocation\", \"very few records\")\n",
      "(\"kangaroos\", \"spurred fears of\", \"a rabies-like disease\")\n",
      "(\"kangaroos\", \"only reliably documented fatality\", \"New South Wales in 1936\")\n",
      "(\"heated fray\", \"hunter killed while trying to rescue\", \"his two dogs\")\n",
      "(\"erratic and dangerous kangaroo behaviour\", \"possible causes\", \"extreme thirst and hunger\")\n",
      "(\"94-year-old woman's backyard\", \"kangaroo attack in July 2011\", \"male red kangaroo\")\n",
      "(\"male red kangaroo\", \"attacked\", \"the woman and her son\")\n",
      "(\"male red kangaroo\", \"responded to by police officers\", \"capsicum sprayed (pepper sprayed)\")\n",
      "(\"male red kangaroo\", \"put down after attack\", \"yes\")\n",
      "-\n"
     ]
    },
    {
     "name": "stderr",
     "output_type": "stream",
     "text": [
      " 52%|█████████████████████████████████████████████████████████████████████████████                                                                       | 406/780 [1:05:37<1:00:33,  9.71s/it]"
     ]
    },
    {
     "name": "stdout",
     "output_type": "stream",
     "text": [
      "\n",
      "(\"Least-concern species\", \"categorized by\", \"International Union for Conservation of Nature (IUCN)\")\n",
      "(\"Least-concern species\", \"evaluated as\", \"not being a focus of species conservation\")\n",
      "(\"Least-concern species\", \"do not qualify as\", \"threatened\")\n",
      "(\"Least-concern species\", \"do not qualify as\", \"near threatened\")\n",
      "(\"Least-concern species\", \"do not qualify as\", \"conservation dependent (before 2001)\")\n",
      "-\n"
     ]
    },
    {
     "name": "stderr",
     "output_type": "stream",
     "text": [
      " 52%|█████████████████████████████████████████████████████████████████████████████▏                                                                      | 407/780 [1:05:57<1:19:13, 12.74s/it]"
     ]
    },
    {
     "name": "stdout",
     "output_type": "stream",
     "text": [
      "\n",
      "(\"northern fur seal\", \"is found in\", \"north Pacific\")\n",
      "(\"northern fur seal\", \"southernmost reach\", \"line that runs roughly from the southern tip of Japan to the southern tip of the Baja California Peninsula, the Sea of Okhotsk, and the Bering Sea\")\n",
      "(\"northern fur seal\", \"estimated population\", \"1.1 million\")\n",
      "(\"northern fur seal\", \"roughly half breed on\", \"Pribilof Islands in the east Bering Sea\")\n",
      "(\"northern fur seal\", \"some breed on\", \"Commander Islands in the west Bering Sea\")\n",
      "(\"northern fur seal\", \"some breed on\", \"Tyuleniy Island off the coast of Sakhalin in the southwest Sea of Okhotsk\")\n",
      "(\"northern fur seal\", \"some breed on\", \"central Kuril Islands in Russia\")\n",
      "(\"northern fur seal\", \"smaller rookeries occur on\", \"Bogoslof Island in the Aleutian Chain\")\n",
      "(\"northern fur seal\", \"smaller rookeries occur on\", \"San Miguel Island in the Channel Island group\")\n",
      "(\"northern fur seal\", \"smaller rookeries occur on\", \"South Farallon Island off the coast of California\")\n",
      "(\"northern fur seal\", \"also used to breed on\", \"British Columbia\")\n",
      "(\"northern fur seal\", \"also used to breed on\", \"\n",
      "-\n"
     ]
    },
    {
     "name": "stderr",
     "output_type": "stream",
     "text": [
      " 52%|█████████████████████████████████████████████████████████████████████████████▍                                                                      | 408/780 [1:06:03<1:05:57, 10.64s/it]"
     ]
    },
    {
     "name": "stdout",
     "output_type": "stream",
     "text": [
      "\n",
      "(\"Sumner\", \"has been credited with\", \"advancing UK dance music\")\n",
      "(\"Sumner\", \"has been credited with\", \"popularising the use of sequencers\")\n",
      "(\"Sumner\", \"collaborated with\", \"former Smiths guitarist Johnny Marr\")\n",
      "(\"Sumner\", \"collaborated as\", \"Electronic\")\n",
      "(\"Sumner\", \"collaborated in the\", \"early 1990s\")\n",
      "-\n"
     ]
    },
    {
     "name": "stderr",
     "output_type": "stream",
     "text": [
      " 52%|██████████████████████████████████████████████████████████████████████████████▋                                                                       | 409/780 [1:06:08<55:37,  9.00s/it]"
     ]
    },
    {
     "name": "stdout",
     "output_type": "stream",
     "text": [
      "\n",
      "(\"Triple Sec at room temperature\", \"will not ignite easily\", \"so it should be warmed up beforehand\")\n",
      "(\"Triple Sec at room temperature\", \"should be topped with\", \"a small layer of an overproof rum with 65–85% ABV\")\n",
      "(\"Overproof rum with 65–85% ABV\", \"can be\", \"Bacardi 151 or Stroh 160\")\n",
      "(\"B-52 On a Mission\", \"refers to\", \"the preparation of Triple Sec with overproof rum\")\n",
      "-\n"
     ]
    },
    {
     "name": "stderr",
     "output_type": "stream",
     "text": [
      " 53%|██████████████████████████████████████████████████████████████████████████████▊                                                                       | 410/780 [1:06:19<58:49,  9.54s/it]"
     ]
    },
    {
     "name": "stdout",
     "output_type": "stream",
     "text": [
      "\n",
      "(\"Pangolins\", \"have\", \"large, protective keratin scales covering their skin\")\n",
      "(\"Pangolins\", \"are the only known mammals with\", \"this feature\")\n",
      "(\"Pangolins\", \"live in\", \"hollow trees or burrows\")\n",
      "(\"Pangolins\", \"depend on\", \"the species\")\n",
      "(\"Pangolins\", \"are nocturnal\", \"\")\n",
      "(\"Pangolins\", \"feed on\", \"ants and termites\")\n",
      "(\"Pangolins\", \"capture food using\", \"their long tongues\")\n",
      "(\"Pangolins\", \"are solitary animals\", \"\")\n",
      "(\"Pangolins\", \"meet only\", \"to mate and produce a litter of one to three offspring\")\n",
      "(\"Pangolins\", \"raise their young for\", \"about two years\")\n",
      "-\n"
     ]
    },
    {
     "name": "stderr",
     "output_type": "stream",
     "text": [
      " 53%|███████████████████████████████████████████████████████████████████████████████                                                                       | 411/780 [1:06:26<54:52,  8.92s/it]"
     ]
    },
    {
     "name": "stdout",
     "output_type": "stream",
     "text": [
      "\n",
      "(\"Hippos\", \"mark their territory by\", \"defecation\")\n",
      "(\"Hippos\", \"spin their tails to\", \"distribute their excrement\")\n",
      "(\"Hippos\", \"yawn as a\", \"threat display\")\n",
      "(\"Hippos\", \"fight using\", \"their incisors\")\n",
      "(\"Hippos\", \"fight using\", \"large canines\")\n",
      "(\"Hippos\", \"sometimes commit\", \"infanticide\")\n",
      "(\"Hippos\", \"sometimes commit\", \"cannibalism\")\n",
      "(\"Cannibalism\", \"believed to be\", \"the behaviour of distressed or sick hippos\")\n",
      "-\n"
     ]
    },
    {
     "name": "stderr",
     "output_type": "stream",
     "text": [
      " 53%|███████████████████████████████████████████████████████████████████████████████▏                                                                      | 412/780 [1:06:31<46:55,  7.65s/it]"
     ]
    },
    {
     "name": "stdout",
     "output_type": "stream",
     "text": [
      "\n",
      "(\"Amtrak\", \"owns\", \"730 miles\")\n",
      "(\"Amtrak\", \"owns\", \"17 tunnels\")\n",
      "(\"Amtrak\", \"owns\", \"29.7 miles of track\")\n",
      "(\"Amtrak\", \"owns\", \"1,186 bridges\")\n",
      "(\"Amtrak\", \"owns\", \"42.5 miles of track\")\n",
      "(\"Amtrak\", \"leases tracks\", \"from state, regional, or local governments\")\n",
      "(\"Amtrak\", \"operates\", \"the following lines\")\n",
      "-\n"
     ]
    },
    {
     "name": "stderr",
     "output_type": "stream",
     "text": [
      " 53%|███████████████████████████████████████████████████████████████████████████████▍                                                                      | 413/780 [1:06:42<52:33,  8.59s/it]"
     ]
    },
    {
     "name": "stdout",
     "output_type": "stream",
     "text": [
      "\n",
      "(\"refrigerator\", \"should verify temperature of\", \"40 °F (4°C) or below\")\n",
      "(\"refrigerator\", \"has built-in thermometers to measure\", \"internal temperature\")\n",
      "(\"appliance thermometer\", \"is kept in refrigerator to\", \"monitor temperature\")\n",
      "(\"appliance thermometer\", \"is designed to\", \"provide accuracy at cold temperatures\")\n",
      "(\"refrigerator/freezer doors\", \"should be closed\", \"tightly at all times\")\n",
      "(\"refrigerator/freezer doors\", \"should not be opened\", \"more often than necessary\")\n",
      "(\"United States Department of Agriculture\", \"publishes\", \"recommended storage times for refrigerated food\")\n",
      "-\n"
     ]
    },
    {
     "name": "stderr",
     "output_type": "stream",
     "text": [
      " 53%|███████████████████████████████████████████████████████████████████████████████▌                                                                      | 414/780 [1:06:50<51:36,  8.46s/it]"
     ]
    },
    {
     "name": "stdout",
     "output_type": "stream",
     "text": [
      "\n",
      "(\"Telangiectasias\", \"also known as\", \"spider veins\")\n",
      "(\"Telangiectasias\", \"are small dilated blood vessels that can\", \"occur near the surface of the skin or mucous membranes\")\n",
      "(\"Telangiectasias\", \"measure\", \"between 0.5 and 1 millimeter in diameter\")\n",
      "(\"Telangiectasias\", \"can develop\", \"anywhere on the body\")\n",
      "(\"Telangiectasias\", \"commonly seen\", \"on the face around the nose, cheeks and chin\")\n",
      "(\"Telangiectasias\", \"can also develop\", \"on the legs\")\n",
      "(\"Telangiectasias\", \"often have underlying venous reflux or 'hidden varicose veins' when found\", \"on legs\")\n",
      "(\"Telangiectasias\", \"found specifically\", \"on upper thigh, below the knee joint and around the ankles when found on legs\")\n",
      "-\n"
     ]
    },
    {
     "name": "stderr",
     "output_type": "stream",
     "text": [
      " 53%|███████████████████████████████████████████████████████████████████████████████▊                                                                      | 415/780 [1:06:58<51:58,  8.54s/it]"
     ]
    },
    {
     "name": "stdout",
     "output_type": "stream",
     "text": [
      "\n",
      "(\"Shuttlecock\", \"is a\", \"high-drag projectile\")\n",
      "(\"Shuttlecock\", \"has an open conical shape\", \"cone is formed from 16 overlapping feathers\")\n",
      "(\"Shuttlecock\", \"consists of\", \"rounded cork base\")\n",
      "(\"Shuttlecock\", \"covered with\", \"thin leather or synthetic material\")\n",
      "(\"Recreational players\", \"use\", \"synthetic shuttles\")\n",
      "(\"Synthetic shuttles\", \"made with\", \"either natural cork or synthetic foam base and a plastic skirt\")\n",
      "-\n"
     ]
    },
    {
     "name": "stderr",
     "output_type": "stream",
     "text": [
      " 53%|████████████████████████████████████████████████████████████████████████████████                                                                      | 416/780 [1:07:08<53:37,  8.84s/it]"
     ]
    },
    {
     "name": "stdout",
     "output_type": "stream",
     "text": [
      "\n",
      "(\"salmon\", \"are typically\", \"anadromous\")\n",
      "(\"salmon\", \"hatch in\", \"fresh water\")\n",
      "(\"salmon\", \"migrate to\", \"the ocean\")\n",
      "(\"salmon\", \"return to\", \"fresh water to reproduce\")\n",
      "(\"some salmon\", \"restrict to\", \"fresh water through their lives\")\n",
      "(\"Folklore\", \"has it\", \"salmon return to exact spot where they hatched to spawn\")\n",
      "(\"tracking studies\", \"have shown\", \"this to be mostly true\")\n",
      "(\"a portion of a returning salmon run\", \"may stray and\", \"spawn in different freshwater systems\")\n",
      "(\"percent of straying\", \"depends on\", \"species of salmon\")\n",
      "(\"homing behavior\", \"has been shown to depend on\", \"olfactory memory\")\n",
      "(\"salmon\", \"date back to\", \"Neogene\")\n",
      "-\n"
     ]
    },
    {
     "name": "stderr",
     "output_type": "stream",
     "text": [
      " 53%|████████████████████████████████████████████████████████████████████████████████▏                                                                     | 417/780 [1:07:14<48:06,  7.95s/it]"
     ]
    },
    {
     "name": "stdout",
     "output_type": "stream",
     "text": [
      "\n",
      "(\"trailers\", \"range in size from\", \"single-axle dollies\")\n",
      "(\"trailers\", \"range in size to\", \"6-axle, 13-foot-6-inch (4.11m) high\")\n",
      "(\"trailers\", \"range in size to\", \"53-foot (16.15m) long semi-trailers\")\n",
      "(\"trailers\", \"are common in\", \"the United States\") \n",
      "(\"18-wheeler\", \"carries a large percentage of\", \"freight that travels over land in North America\")\n",
      "-\n"
     ]
    },
    {
     "name": "stderr",
     "output_type": "stream",
     "text": [
      " 54%|████████████████████████████████████████████████████████████████████████████████▍                                                                     | 418/780 [1:07:24<51:27,  8.53s/it]"
     ]
    },
    {
     "name": "stdout",
     "output_type": "stream",
     "text": [
      "\n",
      "(\"golden toad\", \"species name\", \"Incilius periglenes\")\n",
      "(\"golden toad\", \"former species name\", \"Bufo periglenes\")\n",
      "(\"golden toad\", \"area of abundance\", \"small, high-altitude region of about 4 square kilometres (1.5 sq mi) in an area north of the city of Monteverde, Costa Rica\")\n",
      "(\"golden toad\", \"is endemic to\", \"elfin cloud forest\")\n",
      "(\"golden toad\", \"commonly called\", \"Monte Verde toad, Alajuela toad and orange toad\")\n",
      "(\"golden toad\", \"described by\", \"herpetologist Jay Savage\")\n",
      "(\"golden toad\", \"last sighting\", \"15 May 1989\")\n",
      "(\"golden toad\", \"classified by\", \"International Union for Conservation of Nature (IUCN)\")\n",
      "-\n"
     ]
    },
    {
     "name": "stderr",
     "output_type": "stream",
     "text": [
      " 54%|███████████████████████████████████████████████████████████████████████████████▌                                                                    | 419/780 [1:07:38<1:01:20, 10.19s/it]"
     ]
    },
    {
     "name": "stdout",
     "output_type": "stream",
     "text": [
      "\n",
      "(\"Greece\", \"has a climate\", \"that is primarily Mediterranean\")\n",
      "(\"This climate\", \"features\", \"mild, wet winters and hot, dry summers\")\n",
      "(\"This climate\", \"occurs at\", \"all coastal locations\")\n",
      "(\"This includes\", \"Athens, the Cyclades, the Dodecanese, Crete, the Peloponnese, the Ionian Islands and parts of the Central Continental Greece region \", \"climate\")\n",
      "(\"The Pindus mountain range\", \"strongly affects\", \"the climate of the country\")\n",
      "(\"Areas to the west of the range\", \"are wetter on average\", \"than the areas lying to the east of the range\")\n",
      "(\"This is due to\", \"greater exposure to south-westerly systems bringing in moisture\", \"and a rain shadow effect\")\n",
      "-\n"
     ]
    },
    {
     "name": "stderr",
     "output_type": "stream",
     "text": [
      " 54%|████████████████████████████████████████████████████████████████████████████████▊                                                                     | 420/780 [1:07:44<54:37,  9.10s/it]"
     ]
    },
    {
     "name": "stdout",
     "output_type": "stream",
     "text": [
      "\n",
      "(\"Morays\", \"are\", \"opportunistic, carnivorous predators\")\n",
      "(\"Morays\", \"feed on\", \"smaller fish, octopuses, squid, cuttlefish and crustaceans\")\n",
      "(\"Groupers\", \"are among the known predators of\", \"Morays\")\n",
      "(\"Barracudas\", \"are among the known predators of\", \"Morays\")\n",
      "(\"Sea snakes\", \"are among the known predators of\", \"Morays\")\n",
      "(\"Larger species of Morays\", \"are\", \"apex predators in their ecosystems\")\n",
      "-\n"
     ]
    },
    {
     "name": "stderr",
     "output_type": "stream",
     "text": [
      " 54%|████████████████████████████████████████████████████████████████████████████████▉                                                                     | 421/780 [1:07:55<56:53,  9.51s/it]"
     ]
    },
    {
     "name": "stdout",
     "output_type": "stream",
     "text": [
      "\n",
      "(\"bathyal zone\", \"also known as\", \"midnight zone\")\n",
      "(\"bathyal zone\", \"extends from\", \"1,000 to 4,000 m depth\")\n",
      "(\"bathyal zone\", \"lies between\", \"mesopelagic and abyssopelagic\")\n",
      "(\"bathyal zone\", \"average temperature\", \"4 °C\")\n",
      "(\"bathyal zone\", \"volume size\", \"larger than photic zone\")\n",
      "(\"bathyal zone\", \"density\", \"less populated\")\n",
      "(\"bathyal zone\", \"sunlight\", \"does not reach\")\n",
      "(\"bathyal zone\", \"primary production\", \"almost nonexistent\")\n",
      "(\"bathyal zone\", \"known plants\", \"none due to lack of sunlight\")\n",
      "(\"bathyal zone\", \"nicknames\", \"midnight, twilight, dark\")\n",
      "-\n"
     ]
    },
    {
     "name": "stderr",
     "output_type": "stream",
     "text": [
      " 54%|█████████████████████████████████████████████████████████████████████████████████▏                                                                    | 422/780 [1:08:05<58:03,  9.73s/it]"
     ]
    },
    {
     "name": "stdout",
     "output_type": "stream",
     "text": [
      "\n",
      "(\"Mantas\", \"are found in\", \"tropical and subtropical waters in all the world's major oceans\")\n",
      "(\"Mantas\", \"venture into\", \"temperate seas\")\n",
      "(\"Mantas\", \"furthest from the equator recorded\", \"North Carolina in the United States (31°N) and the North Island of New Zealand (36°S)\")\n",
      "(\"Mantas\", \"prefer water temperature\", \"above 68 °F (20 °C)\")\n",
      "(\"M. alfredi\", \"is predominantly found in\", \"tropical areas\")\n",
      "(\"M. birostris\", \"lives mostly in\", \"the open ocean\")\n",
      "(\"M. birostris\", \"travels with\", \"the currents\")\n",
      "(\"M. birostris\", \"migrates to\", \"areas where upwellings of nutrient-rich water increase prey concentrations\")\n",
      "-\n"
     ]
    },
    {
     "name": "stderr",
     "output_type": "stream",
     "text": [
      " 54%|████████████████████████████████████████████████████████████████████████████████▎                                                                   | 423/780 [1:08:19<1:05:52, 11.07s/it]"
     ]
    },
    {
     "name": "stdout",
     "output_type": "stream",
     "text": [
      "\n",
      "(\"Subfamily Crocodylinae\", \"is made up of\", \"Genus Crocodylus\")\n",
      "(\"Genus Crocodylus\", \"includes\", \"Crocodylus acutus\")\n",
      "(\"Crocodylus acutus\", \"is known as\", \"American crocodile\")\n",
      "(\"Genus Crocodylus\", \"includes\", \"Crocodylus intermedius\")\n",
      "(\"Crocodylus intermedius\", \"is known as\", \"Orinoco crocodile\")\n",
      "(\"Genus Crocodylus\", \"includes\", \"Crocodylus johnsoni\")\n",
      "(\"Crocodylus johnsoni\", \"is known as\", \"freshwater crocodile, or Johnstone's crocodile\")\n",
      "(\"Genus Crocodylus\", \"includes\", \"Crocodylus mindorensis\")\n",
      "(\"Crocodylus mindorensis\", \"is known as\", \"Philippine crocodile\")\n",
      "(\"Genus Crocodylus\", \"includes\", \"Crocodylus moreletii\")\n",
      "(\"Crocodylus moreletii\", \"is known as\", \"Morelet's crocodile or Mexican crocodile\")\n",
      "(\"Genus Crocodylus\", \"includes\", \"Crocodylus niloticus\")\n",
      "(\"Crocodylus niloticus\" \"is known as\", \"Nile crocodile or African crocodile\")\n",
      "(\"Crocodylus nil\n",
      "-\n"
     ]
    },
    {
     "name": "stderr",
     "output_type": "stream",
     "text": [
      " 54%|████████████████████████████████████████████████████████████████████████████████▍                                                                   | 424/780 [1:08:34<1:11:33, 12.06s/it]"
     ]
    },
    {
     "name": "stdout",
     "output_type": "stream",
     "text": [
      "\n",
      "(\"Terminator 2\", \"includes a\", \"T-1000\")\n",
      "(\"T-1000\", \"is made of\", \"liquid metal\")\n",
      "(\"T-800\", \"explains that the T-1000 is a\", \"more advanced Terminator\")\n",
      "(\"T-1000\", \"is composed of\", \"a 'mimetic polyalloy'\")\n",
      "(\"T-1000\", \"is rendered capable of\", \"rapid shape shifting\")\n",
      "(\"T-1000\", \"is rendered capable of\", \"near-perfect mimicry\")\n",
      "(\"T-1000\", \"is rendered capable of\", \"recovery from damage\")\n",
      "(\"T-1000\", \"can use its ability to\", \"liquify\")\n",
      "(\"T-1000\", \"can assume alternative forms such as\", \"fitting through narrow openings\")\n",
      "(\"T-1000\", \"can assume alternative forms such as\", \"morphing its arms into solid metal tools\")\n",
      "(\"T-1000\", \"can assume alternative forms such as\", \"morphing its arms into bladed weapons\")\n",
      "(\"T-1000\", \"can assume alternative forms such as\", \"walking through prison bars\")\n",
      "(\"T-1000\", \"can assume alternative forms such as\", \"flattening itself and imitating the pattern and texture of the ground to hide or ambush targets\")\n",
      "-\n"
     ]
    },
    {
     "name": "stderr",
     "output_type": "stream",
     "text": [
      " 54%|████████████████████████████████████████████████████████████████████████████████▋                                                                   | 425/780 [1:08:45<1:10:19, 11.88s/it]"
     ]
    },
    {
     "name": "stdout",
     "output_type": "stream",
     "text": [
      "\n",
      "(\"Mantas\", \"are found in\", \"warm temperate, subtropical and tropical waters\")\n",
      "(\"Mantas\", \"include species\", \"M. birostris and M. alfredi\")\n",
      "(\"M. birostris\", \"migrates across\", \"open oceans\")\n",
      "(\"M. alfredi\", \"tends to be\", \"resident and coastal\")\n",
      "(\"Mantas\", \"are filter feeders\", \"eating zooplankton\")\n",
      "(\"Mantas\", \"get most of their diet from\", \"mesopelagic sources\")\n",
      "(\"Mantas\", \"have a gestation period of\", \"over a year\")\n",
      "(\"Mantas\", \"give birth to\", \"live pups\")\n",
      "(\"Mantas\", \"visit cleaning stations\", \"for the removal of parasites\")\n",
      "(\"Mantas\", \"breach\", \"for unknown reasons\")\n",
      "-\n"
     ]
    },
    {
     "name": "stderr",
     "output_type": "stream",
     "text": [
      " 55%|█████████████████████████████████████████████████████████████████████████████████▉                                                                    | 426/780 [1:08:51<59:38, 10.11s/it]"
     ]
    },
    {
     "name": "stdout",
     "output_type": "stream",
     "text": [
      "\n",
      "(\"IUCN Red List of Threatened Species\", \"also known as\", \"IUCN Red List or Red Data List\")\n",
      "(\"IUCN Red List of Threatened Species\", \"founded in\", \"1964\")\n",
      "(\"IUCN Red List of Threatened Species\", \"is the most comprehensive inventory of\", \"global conservation status of biological species\")\n",
      "(\"IUCN Red List of Threatened Species\", \"uses a set of criteria to evaluate\",\"extinction risk of thousands of species and subspecies\")\n",
      "(\"IUCN Red List of Threatened Species\", \"is recognized as\", \"the most authoritative guide to the status of biological diversity\")\n",
      "(\"IUCN Red List of Threatened Species\", \"has a series of\", \"Regional Red Lists produced by countries or organizations\")\n",
      "-\n"
     ]
    },
    {
     "name": "stderr",
     "output_type": "stream",
     "text": [
      " 55%|█████████████████████████████████████████████████████████████████████████████████                                                                   | 427/780 [1:09:02<1:00:27, 10.28s/it]"
     ]
    },
    {
     "name": "stdout",
     "output_type": "stream",
     "text": [
      "\n",
      "(\"domestic goat\", \"is a subspecies of\", \"C. aegagrus\")\n",
      "(\"domestic goat\", \"is domesticated from\", \"the wild goat of Southwest Asia and Eastern Europe\")\n",
      "(\"domestic goat\", \"is a member of\", \"the animal family Bovidae\")\n",
      "(\"domestic goat\", \"is a member of\", \"the subfamily Caprinae\")\n",
      "(\"domestic goat\", \"is closely related to\", \"sheep\")\n",
      "(\"domestic goat\", \"has over\", \"300 distinct breeds\")\n",
      "(\"domestic goat\", \"is one of the oldest domesticated species of\", \"animal\")\n",
      "(\"domestic goat\", \"have been used for\", \"milk\")\n",
      "(\"domestic goat\", \"have been used for\", \"meat\")\n",
      "(\"domestic goat\", \"have been used for\", \"fur\")\n",
      "(\"domestic goat\", \"have been used for\", \"skins\")\n",
      "(\"domestic goat\", \"milk is often turned into\", \"goat cheese\")\n",
      "-\n"
     ]
    },
    {
     "name": "stderr",
     "output_type": "stream",
     "text": [
      " 55%|█████████████████████████████████████████████████████████████████████████████████▏                                                                  | 428/780 [1:09:21<1:15:42, 12.91s/it]"
     ]
    },
    {
     "name": "stdout",
     "output_type": "stream",
     "text": [
      "\n",
      "(\"Liberty Bell\", \"weighs\", \"2,080 pounds (940 kg)\")\n",
      "(\"Liberty Bell\", \"contains/is made of\", \"70% copper, 25% tin, lead, zinc, arsenic, gold and silver\")\n",
      "(\"Liberty Bell\", \"hangs from\", \"what is believed to be its original yoke\")\n",
      "(\"what is believed to be its original yoke\", \"is made of\", \"American elm\")\n",
      "(\"Liberty Bell\", \"has a crack\", \"appearing to end at the abbreviation 'Philada' in the last line\")\n",
      "(\"Liberty Bell\", \"has a hairline crack\", \"extending through the bell to the inside\")\n",
      "(\"hairline crack\", \"gradually moves to\", \"top of the bell\")\n",
      "(\"hairline crack\", \"goes through\", \"the word 'and' in 'Pass and Stow'\")\n",
      "(\"hairline crack\", \"goes through\", \"the word 'the' before the word 'Assembly' in the second line of text\")\n",
      "(\"hairline crack\", \"goes through\", \"the letters 'rty' in the word 'Liberty' in the first line\")\n",
      "(\"hairline crack\", \"ends near\", \"the attachment with the yoke\")\n",
      "-\n"
     ]
    },
    {
     "name": "stderr",
     "output_type": "stream",
     "text": [
      " 55%|█████████████████████████████████████████████████████████████████████████████████▍                                                                  | 429/780 [1:09:30<1:08:19, 11.68s/it]"
     ]
    },
    {
     "name": "stdout",
     "output_type": "stream",
     "text": [
      "\n",
      "(\"Goldfish\", \"have learned behaviors\", \"as groups and as individuals\")\n",
      "(\"Goldfish\", \"have native behaviors\", \"from carp\")\n",
      "(\"Goldfish\", \"are a generalist species\", \"with varied feeding, breeding, and predator avoidance behaviors\")\n",
      "(\"Goldfish\", \"are described as\", \"friendly towards each other\")\n",
      "(\"Goldfish\", \"threat to each other\", \"competing for food\")\n",
      "(\"Commons, comets, and other faster varieties\", \"can eat all the food\", \"before fancy varieties can reach it\")\n",
      "(\"This\", \"can lead to\", \"stunted growth or possible starvation of fancier varieties\")\n",
      "(\"Care\", \"should be taken\", \"to combine only breeds with similar body type and swim characteristics\")\n",
      "-\n"
     ]
    },
    {
     "name": "stderr",
     "output_type": "stream",
     "text": [
      " 55%|█████████████████████████████████████████████████████████████████████████████████▌                                                                  | 430/780 [1:09:37<1:00:45, 10.42s/it]"
     ]
    },
    {
     "name": "stdout",
     "output_type": "stream",
     "text": [
      "\n",
      "(\"Environmentalism\", \"is a\", \"broad philosophy, ideology and social movement\")\n",
      "(\"Environmentalism\", \"is concerned for\", \"environmental protection\")\n",
      "(\"Environmentalism\", \"seeks to improve\", \"the health of the environment\")\n",
      "(\"The health of the environment\", \"incorporates\", \"the impact of changes to the environment on humans, animals, plants and non-living matter\")\n",
      "(\"Environmentalism\", \"focuses on the aspects of\", \"green ideology and politics\")\n",
      "(\"Ecology\", \"combines the ideology of\", \"social ecology and environmentalism\")\n",
      "-\n"
     ]
    },
    {
     "name": "stderr",
     "output_type": "stream",
     "text": [
      " 55%|█████████████████████████████████████████████████████████████████████████████████▊                                                                  | 431/780 [1:09:53<1:10:49, 12.18s/it]"
     ]
    },
    {
     "name": "stdout",
     "output_type": "stream",
     "text": [
      "\n",
      "(\"Lobsters\", \"have\", \"long bodies with muscular tails\")\n",
      "(\"Lobsters\", \"live in\", \"crevices or burrows on the sea floor\")\n",
      "(\"Lobsters\", \"have\", \"three of five pairs of legs with claws\")\n",
      "(\"Lobsters\", \"are highly prized as\", \"seafood\")\n",
      "(\"Lobsters\", \"are economically important\", \"and are often one of the most profitable commodities in coastal areas they populate\")\n",
      "(\"Lobsters\", \"include\", \"two species of Homarus from the northern Atlantic Ocean\")\n",
      "(\"Lobsters\", \"include\", \"scampi from the Northern Hemisphere genus Nephrops and the Southern Hemisphere genus Metanephrops\")\n",
      "(\"Lobsters\", \"are referred to as\", \"the clawed lobsters of the family Nephropidae\")\n",
      "(\"Clawed lobsters\", \"are not closely related to\", \"spiny lobsters or slipper lobsters which have no claws (chelae)\")\n",
      "(\"Clawed lobsters\", \"are not closely related to\", \"squat lobsters\")\n",
      "(\"Clawed lobsters\", \"have the closest living relatives in\", \"the reef lobsters and the three families of freshwater crayfish\")\n",
      "-\n"
     ]
    },
    {
     "name": "stderr",
     "output_type": "stream",
     "text": [
      " 55%|█████████████████████████████████████████████████████████████████████████████████▉                                                                  | 432/780 [1:10:05<1:09:32, 11.99s/it]"
     ]
    },
    {
     "name": "stdout",
     "output_type": "stream",
     "text": [
      "\n",
      "(\"Lizard species\", \"are predators of\", \"small, terrestrial invertebrates\")\n",
      "(\"Invertebrates\", \"are commonly preyed upon\", \"by lizard species\")\n",
      "(\"Insects\", \"are commonly preyed upon\", \"by lizard species\")\n",
      "(\"Beetles\", \"are preyed upon\", \"by Chameleons\")\n",
      "(\"Grasshoppers\", \"are preyed upon\", \"by Chameleons\")\n",
      "(\"Winged termites\", \"are preyed upon\", \"by Chameleons\")\n",
      "(\"Spiders\", \"are preyed upon\", \"by Chameleons\")\n",
      "(\"Chameleons\", \"rely on\", \"persistence and ambush\")\n",
      "(\"Chameleons\", \"focus eyes on\", \"target before slowly moving closer\")\n",
      "(\"Chameleons\", \"hunt with\", \"a long sticky tongue\")\n",
      "(\"Geckos\", \"feed on\", \"crickets\")\n",
      "(\"Geckos\", \"feed on\", \"beetles\")\n",
      "(\"Geckos\", \"feed on\", \"termites\")\n",
      "(\"Geckos\", \"feed on\", \"moths\")\n",
      "-\n"
     ]
    },
    {
     "name": "stderr",
     "output_type": "stream",
     "text": [
      " 56%|██████████████████████████████████████████████████████████████████████████████████▏                                                                 | 433/780 [1:10:17<1:09:14, 11.97s/it]"
     ]
    },
    {
     "name": "stdout",
     "output_type": "stream",
     "text": [
      "\n",
      "\n",
      "(\"Irons\", \"was born in\", \"Cowes on the Isle of Wight\")\n",
      "(\"Paul Dugan Irons\", \"is\", \"Irons' father\")\n",
      "(\"Barbara Anne Brereton Brymer\", \"is\", \"Irons' mother\")\n",
      "(\"Irons\", \"has some\", \"Scottish ancestry\")\n",
      "(\"Irons\", \"has some\", \"Irish ancestry\")\n",
      "(\"Irons\", \"traces his Irish ancestry\", \"back to County Cork\")\n",
      "(\"Irons\", \"has a brother\", \"Christopher\")\n",
      "(\"Christopher\", \"was born in\", \"1943\")\n",
      "(\"Irons\", \"has a sister\", \"Felicity Anne\")\n",
      "(\"Felicity Anne\", \"was born in\", \"1944\")\n",
      "(\"Irons\", \"was educated at\", \"Sherborne School\")\n",
      "(\"Sherborne School\", \"was located in\", \"Dorset\")\n",
      "(\"Irons\", \"attended Sherborne School from\", \"1962 to 1966\")\n",
      "(\"Irons\", \"was the drummer in\", \"a four-man school band\")\n",
      "(\"a four-man school band\", \"is called\", \"the Four Pillars of Wisdom\")\n",
      "-\n"
     ]
    },
    {
     "name": "stderr",
     "output_type": "stream",
     "text": [
      " 56%|██████████████████████████████████████████████████████████████████████████████████▎                                                                 | 434/780 [1:10:30<1:11:03, 12.32s/it]"
     ]
    },
    {
     "name": "stdout",
     "output_type": "stream",
     "text": [
      "\n",
      "(\"Seasonal variation in weight\", \"is very pronounced in\", \"American black bears\")\n",
      "(\"In autumn\", \"American black bears' pre-den weight tends to be\", \"30% higher than in spring\")\n",
      "(\"American black bears on the East Coast\", \"weigh on average more than bear on the West Coast\", \"American black bears\")\n",
      "(\"American black bears\", \"follow Bergmann's rule\", \"Northwest are often slightly heavier than the bears from the Southeast\")\n",
      "(\"Adult males of American black bears\", \"typically weigh between\", \"57–250 kg (126–551 lb)\")\n",
      "(\"Adult females of American black bears\", \"typically weigh\", \"33% less at 41–170 kg (90–375 lb)\")\n",
      "(\"In the state of California\", \"studies have indicated that the average mass for adult males is\", \"86 kg (190 lb)\")\n",
      "(\"In the state of California\", \"studies have indicated that the average mass for adult females is\", \"58 kg (128 lb)\")\n",
      "(\"American black bears in Yukon Flats National Wildlife Refuge in east-central Alaska\", \"are found to average 87.3 kg (192 lb) for males and 63.4 kg (140 lb) for females\", \"American black bears\")\n",
      "(\"In Great Smoky Mountains National Park\", \"adult males average\", \"112 kg (247 lb)\")\n",
      "(\"In Great Smoky Mountains National Park\", \"\n",
      "-\n"
     ]
    },
    {
     "name": "stderr",
     "output_type": "stream",
     "text": [
      " 56%|██████████████████████████████████████████████████████████████████████████████████▌                                                                 | 435/780 [1:10:38<1:03:18, 11.01s/it]"
     ]
    },
    {
     "name": "stdout",
     "output_type": "stream",
     "text": [
      "\n",
      "(\"American Institute for Cancer Research\", \"released a report\", \"finding that consuming one daily 50-gram serving of processed meat increases long-term risk of colorectal cancer by 20 percent\")\n",
      "(\"50-gram serving of processed meat\", \"equals approximately\", \"one hot dog\")\n",
      "(\"consumption of one hot dog daily\", \"increases the likelihood of\", \"contracting colorectal cancer\")\n",
      "(\"consumption of one hot dog daily\", \"changes the probability of\", \"contracting colorectal cancer from 5.8 percent to 7 percent\")\n",
      "(\"American Institute for Cancer Research's\", \"warning campaign\", \"has been criticised\")\n",
      "(\"The Cancer Project group\", \"filed a class-action lawsuit\", \"demanding warning labels on packages and at sporting events\")\n",
      "-\n"
     ]
    },
    {
     "name": "stderr",
     "output_type": "stream",
     "text": [
      " 56%|██████████████████████████████████████████████████████████████████████████████████▋                                                                 | 436/780 [1:10:52<1:07:57, 11.85s/it]"
     ]
    },
    {
     "name": "stdout",
     "output_type": "stream",
     "text": [
      "\n",
      "(\"Goblin shark\", \"scientific name\", \"Mitsukurina owstoni\")\n",
      "(\"Goblin shark\", \"commonly called\", \"living fossil\")\n",
      "(\"Goblin shark\", \"is the only representative of\", \"family Mitsukurinidae\")\n",
      "(\"Goblin shark\", \"family\", \"Mitsukurinidae\")\n",
      "(\"Family Mitsukurinidae\", \"has a lineage of\", \"125 million years old\")\n",
      "(\"Goblin shark\", \"skin color\", \"pink\")\n",
      "(\"Goblin shark\", \"has a distinctive profile with\", \"elongated, flattened snout\")\n",
      "(\"Goblin shark\", \"has protrusible jaws with\", \"prominent nail-like teeth\")\n",
      "(\"Goblin shark\", \"length when mature\", \"3 to 4 m\")\n",
      "(\"Goblin shark\", \"can grow\", \"considerably larger\")\n",
      "(\"Goblin shark\", \"inhabit\", \"upper continental slopes, submarine canyons, and seamounts\")\n",
      "(\"Goblin shark\", \"found in depths greater than\", \"100 m\")\n",
      "(\"Goblin shark\", \"adults found deeper than\", \"juveniles\")\n",
      "-\n"
     ]
    },
    {
     "name": "stderr",
     "output_type": "stream",
     "text": [
      " 56%|██████████████████████████████████████████████████████████████████████████████████▉                                                                 | 437/780 [1:11:12<1:22:40, 14.46s/it]"
     ]
    },
    {
     "name": "stdout",
     "output_type": "stream",
     "text": [
      "\n",
      "(\"majority of crustaceans\", \"are aquatic\", \"living in either marine or freshwater environments\")\n",
      "(\"few groups\", \"have adapted to\", \"life on land\")\n",
      "(\"terrestrial crabs\", \"are a\", \"group adapted to life on land\")\n",
      "(\"terrestrial hermit crabs\", \"are a\", \"group adapted to life on land\")\n",
      "(\"woodlice\", \"are a\", \"group adapted to life on land\")\n",
      "(\"marine crustaceans\", \"are as ubiquitous in the oceans as\", \"insects are on land\")\n",
      "(\"majority of crustaceans\", \"are motile\", \"moving about independently\")\n",
      "(\"few taxonomic units\", \"are parasitic\", \"living attached to their hosts\")\n",
      "(\"sea lice\", \"are a type of\", \"parasitic taxonomic unit\")\n",
      "(\"fish lice\", \"are a type of\", \"parasitic taxonomic unit\")\n",
      "(\"whale lice\", \"are a type of\", \"parasitic taxonomic unit\")\n",
      "(\"tongue worms\", \"are a type of\", \"parasitic taxonomic unit\")\n",
      "(\"Cymothoa exigua\", \"are a type of\", \"parasitic taxonomic unit\")\n",
      "(\"adult barnacles\", \"live a sessile life\", \"attached headfirst to the substrate and cannot move independently\")\n",
      "(\"some branchiurans\", \"are able to\", \"with\n",
      "-\n"
     ]
    },
    {
     "name": "stderr",
     "output_type": "stream",
     "text": [
      " 56%|███████████████████████████████████████████████████████████████████████████████████                                                                 | 438/780 [1:11:17<1:04:56, 11.39s/it]"
     ]
    },
    {
     "name": "stdout",
     "output_type": "stream",
     "text": [
      "\n",
      "(\"Mattresses\", \"conform to\", \"bed sizing standards\")\n",
      "(\"Mattresses\", \"vary by\", \"market\")\n",
      "(\"Mattresses\", \"vary by\", \"national standards in width and height and depth\")\n",
      "(\"Mattresses\", \"represented by\", \"non-numeric labels such as 'King', 'Queen', or 'Double'\")\n",
      "-\n"
     ]
    },
    {
     "name": "stderr",
     "output_type": "stream",
     "text": [
      " 56%|████████████████████████████████████████████████████████████████████████████████████▍                                                                 | 439/780 [1:11:21<52:22,  9.22s/it]"
     ]
    },
    {
     "name": "stdout",
     "output_type": "stream",
     "text": [
      "\n",
      "(\"tallest recorded individual\", \"stood at\", \"4.21 m (13.8 ft)\")\n",
      "(\"tallest recorded individual\", \"weighed\", \"8,000 kg (18,000 lb)\")\n",
      "(\"African forest elephant\", \"has male shoulder heights of\", \"up to 2.5 metres (8.2 ft)\")\n",
      "(\"African forest elephant\", \"is\", \"the third largest terrestrial animal\")\n",
      "(\"African forest elephant\", \"has a thickset body resting on\", \"stocky legs\")\n",
      "-\n"
     ]
    },
    {
     "name": "stderr",
     "output_type": "stream",
     "text": [
      " 56%|████████████████████████████████████████████████████████████████████████████████████▌                                                                 | 440/780 [1:11:31<53:31,  9.45s/it]"
     ]
    },
    {
     "name": "stdout",
     "output_type": "stream",
     "text": [
      "\n",
      "(\"A desert\", \"is a\", \"barren area of landscape\")\n",
      "(\"A desert\", \"has little\", \"precipitation\")\n",
      "(\"A desert\", \"has hostile\", \"living conditions\")\n",
      "(\"A desert\", \"affects\", \"plant and animal life\")\n",
      "(\"A desert\", \"exposes the unprotected surface of the ground to\", \"the processes of denudation\")\n",
      "(\"One-third of the land surface of the world\", \"is arid or semi-arid\", \"\")\n",
      "(\"Deserts\", \"can be classified by amount of precipitation\", \"that falls\")\n",
      "(\"Deserts\", \"can be classified by temperature\", \"that prevails\")\n",
      "(\"Deserts\", \"can be classified by the causes of desertification\", \"\")\n",
      "(\"Deserts\", \"can be classified by geographical location\", \"\")\n",
      "-\n"
     ]
    },
    {
     "name": "stderr",
     "output_type": "stream",
     "text": [
      " 57%|████████████████████████████████████████████████████████████████████████████████████▊                                                                 | 441/780 [1:11:35<45:30,  8.06s/it]"
     ]
    },
    {
     "name": "stdout",
     "output_type": "stream",
     "text": [
      "\n",
      "(\"Lauren\", \"was a\", \"PETA member\")\n",
      "(\"Lauren\", \"joined other PETA models on\", \"July 18, 2007\")\n",
      "(\"July 18, 2007\", \"in protesting\", \"the American Meat Institute's Annual Hot Dog Day on Capitol Hill\")\n",
      "(\"PETA models\", \"were protesting by\", \"dressing in a lettuce bikini and handing out vegetarian hot dogs\")\n",
      "-\n"
     ]
    },
    {
     "name": "stderr",
     "output_type": "stream",
     "text": [
      " 57%|█████████████████████████████████████████████████████████████████████████████████████                                                                 | 442/780 [1:11:42<42:18,  7.51s/it]"
     ]
    },
    {
     "name": "stdout",
     "output_type": "stream",
     "text": [
      "\n",
      "(\"Large backpacks\", \"used to carry loads over\", \"10 kilograms (22 lb)\")\n",
      "(\"Smaller sports backpacks\", \"used for\", \"running, cycling, hiking and hydration\")\n",
      "(\"Large backpacks\", \"offload the largest part\", \"up to about 90% of their weight\")\n",
      "(\"Weight\", \"onto padded hip belts\", \"large backpacks\")\n",
      "(\"Load\", \"moved nearer to center of mass\", \"improves potential to carry heavy loads\")\n",
      "(\"Load\", \"moved nearer to center of mass\", \"increases agility and balance\")\n",
      "-\n"
     ]
    },
    {
     "name": "stderr",
     "output_type": "stream",
     "text": [
      " 57%|█████████████████████████████████████████████████████████████████████████████████████▏                                                                | 443/780 [1:11:47<38:10,  6.80s/it]"
     ]
    },
    {
     "name": "stdout",
     "output_type": "stream",
     "text": [
      "\n",
      "(\"Allium\", \"is a genus of\", \"monocotyledonous flowering plants\")\n",
      "(\"Allium\", \"includes hundreds of species\", \"including the cultivated onion, garlic, scallion, shallot, leek, and chives\")\n",
      "(\"Allium\", \"is Latin for\", \"garlic\")\n",
      "(\"Allium sativum\", \"means\", \"cultivated garlic\")\n",
      "-\n"
     ]
    },
    {
     "name": "stderr",
     "output_type": "stream",
     "text": [
      " 57%|█████████████████████████████████████████████████████████████████████████████████████▍                                                                | 444/780 [1:11:57<44:23,  7.93s/it]"
     ]
    },
    {
     "name": "stdout",
     "output_type": "stream",
     "text": [
      "\n",
      "(\"New York City\", \"aka\", \"The City\")\n",
      "(\"New York City\", \"aka\", \"NY\")\n",
      "(\"New York City\", \"population in 2018\", \"8,398,748\")\n",
      "(\"New York City\", \"area size\", \"302.6 square miles\")\n",
      "(\"New York City\", \"part of\", \"New York metropolitan area\")\n",
      "(\"New York metropolitan area\", \"is largest metropolitan area in the world\", \"by urban landmass\")\n",
      "(\"New York metropolitan area\", \"population\", \"almost 20 million people\")\n",
      "(\"New York metropolitan area\", \"combined statistical area population\", \"approximately 23 million\")\n",
      "(\"New York City\", \"influences\", \"commerce, entertainment, research, technology, education, politics, tourism, art, fashion, and sports\")\n",
      "(\"New York City\", \"headquarters of\", \"the United Nations\")\n",
      "(\"New York City\", \"important center for\", \"international diplomacy\")\n",
      "-\n"
     ]
    },
    {
     "name": "stderr",
     "output_type": "stream",
     "text": [
      " 57%|█████████████████████████████████████████████████████████████████████████████████████▌                                                                | 445/780 [1:12:10<51:31,  9.23s/it]"
     ]
    },
    {
     "name": "stdout",
     "output_type": "stream",
     "text": [
      "\n",
      "(\"First Class\", \"is located\", \"in a separate car from business class\")\n",
      "(\"First Class\", \"has a car attendant that provides\", \"hot towel service, a complimentary meal and alcoholic beverages\")\n",
      "(\"First Class\", \"has access to\", \"ClubAcela Lounges\")\n",
      "(\"Sleeper Service\", \"has room accommodations\", \"roomettes, bedrooms, accessible bedrooms, and family bedrooms (on some trains)\")\n",
      "(\"Sleeper Service\", \"provides attendants that convert rooms\", \"into sleeping areas with fold-down beds and fresh linens\")\n",
      "(\"Sleeper Service\", \"has access to\", \"ClubAcela Lounges, Metropolitan Lounges, and unattended First Class Lounges\")\n",
      "(\"Business Class\", \"is offered on\", \"Acela Express, Northeast Regional, many short-haul corridor trains and some long-distance trains\")\n",
      "(\"Business Class\", \"features include\", \"extra legroom and complimentary non-alcoholic drinks\")\n",
      "(\"Business Class\", \"has access to\", \"Metropolitan Lounges and may purchase a daily access pass to select ClubAcela locations\")  \n",
      "(\"Coach Class\", \"is standard on\", \"all Amtrak trains except the Acela Express\")\n",
      "(\"Coach Class\", \"has features such as\", \"reclining seats, fold-down tray table, foot rest, individual reading light, and power outlet\")\n",
      "(\"Amtrak\n",
      "-\n"
     ]
    },
    {
     "name": "stderr",
     "output_type": "stream",
     "text": [
      " 57%|████████████████████████████████████████████████████████████████████████████████████▋                                                               | 446/780 [1:12:30<1:10:03, 12.58s/it]"
     ]
    },
    {
     "name": "stdout",
     "output_type": "stream",
     "text": [
      "\n",
      "(\"Corydoras\", \"are found in\", \"smaller-sized streams\")\n",
      "(\"Corydoras\", \"are found in\", \"larger rivers\")\n",
      "(\"Corydoras\", \"are found in\", \"marshes\")\n",
      "(\"Corydoras\", \"are found in\", \"ponds\")\n",
      "(\"Corydoras\", \"are native to\", \"slow-moving streams\")\n",
      "(\"Corydoras\", \"are native to\", \"small rivers\")\n",
      "(\"Corydoras\", \"are native to\", \"South America\")\n",
      "(\"Corydoras\", \"are bottom-dwellers\", \"foraging in sand\")\n",
      "(\"Corydoras\", \"are bottom-dwellers\", \"gravel\")\n",
      "(\"Corydoras\", \"are bottom-dwellers\", \"detritus\")\n",
      "(\"Corydoras\", \"are found\", \"in dense plant growth\")\n",
      "(\"Corydoras\", \"prefer\", \"soft water\")\n",
      "(\"Corydoras\", \"prefer\", \"neutral to slightly acidic water\")\n",
      "(\"Corydoras\", \"prefer\", \"slightly alkaline water\")\n",
      "(\"Corydoras\", \"prefer\", \"5-10 degrees of hardness\")\n",
      "(\"Corydoras\", \"can tolerate\", \"a small amount of salt\")\n",
      "(\"Corydoras\", \"inhabit\", \"environments without\n",
      "-\n"
     ]
    },
    {
     "name": "stderr",
     "output_type": "stream",
     "text": [
      " 57%|████████████████████████████████████████████████████████████████████████████████████▊                                                               | 447/780 [1:12:46<1:15:17, 13.57s/it]"
     ]
    },
    {
     "name": "stdout",
     "output_type": "stream",
     "text": [
      "\n",
      "(\"American black bears\", \"have\", \"broad skulls\")\n",
      "(\"American black bears\", \"have\", \"narrow muzzles\")\n",
      "(\"American black bears\", \"have\", \"large jaw hinges\")\n",
      "(\"Total length of adult bear skulls\", \"averages\", \"262 to 317 mm (10.3 to 12.5 in) in Virginia\")\n",
      "(\"Total length of adult bear skulls\", \"is longest\", \"23.5 to 35 cm (9.3 to 13.8 in) across its range\")\n",
      "(\"Females of American black bears\", \"have\", \"slenderer and more pointed faces than males\")\n",
      "(\"Claws of American black bears\", \"are typically\", \"black or grayish-brown\")\n",
      "(\"Claws of American black bears\", \"are\", \"short and rounded\")\n",
      "(\"Claws of American black bears\", \"are thick at the base and\", \"taper to a point\")\n",
      "(\"Paws of American black bears\", \"are\", \"relatively large\")\n",
      "(\"Rear foot length of American black bears\", \"is\", \"13.7 to 22.5 cm (5.4 to 8.9 in)\")\n",
      "(\"Rear foot length of American black bears\", \"is proportionately larger than other medium-sized bear species\", \"but much smaller than paws of large adult brown and polar bears\")\n",
      "(\"Soles of feet of American black bears\",\n",
      "-\n"
     ]
    },
    {
     "name": "stderr",
     "output_type": "stream",
     "text": [
      " 57%|██████████████████████████████████████████████████████████████████████████████████████▏                                                               | 448/780 [1:12:50<59:41, 10.79s/it]"
     ]
    },
    {
     "name": "stdout",
     "output_type": "stream",
     "text": [
      "\n",
      "(\"Chinese mountain cat\", \"is endemic to\", \"China\")\n",
      "(\"Chinese mountain cat\", \"lives on\", \"north-eastern edge of the Tibetan Plateau\")\n",
      "(\"Chinese mountain cat\", \"was recorded in\", \"eastern Qinghai and north-western Sichuan\") \n",
      "(\"Chinese mountain cat\", \"weighs between\", \"-9 kg and 14 lb\")\n",
      "-\n"
     ]
    },
    {
     "name": "stderr",
     "output_type": "stream",
     "text": [
      " 58%|██████████████████████████████████████████████████████████████████████████████████████▎                                                               | 449/780 [1:12:57<53:25,  9.69s/it]"
     ]
    },
    {
     "name": "stdout",
     "output_type": "stream",
     "text": [
      "\n",
      "(\"basket\", \"is\", \"a container\")\n",
      "(\"basket\", \"is traditionally constructed from\", \"stiff fibers\")\n",
      "(\"basket\", \"can be made from\", \"a range of materials\")\n",
      "(\"basket\", \"is made from\", \"plant materials\")\n",
      "(\"basket\", \"can also be made from\", \"horsehair, baleen, or metal wire\")\n",
      "(\"basket\", \"is generally woven by\", \"hand\")\n",
      "(\"basket\", \"can be fitted with\", \"a lid\")\n",
      "(\"basket\", \"or left open on\", \"top\")\n",
      "-\n"
     ]
    },
    {
     "name": "stderr",
     "output_type": "stream",
     "text": [
      " 58%|██████████████████████████████████████████████████████████████████████████████████████▌                                                               | 450/780 [1:13:04<48:59,  8.91s/it]"
     ]
    },
    {
     "name": "stdout",
     "output_type": "stream",
     "text": [
      "\n",
      "(\"Snowshoe\", \"is footwear for\", \"walking over snow\")\n",
      "(\"Snowshoe\", \"works by\", \"distributing the weight of the person over a larger area\")\n",
      "(\"Person's foot\", \"does not sink completely in snow\", \"due to flotation\")\n",
      "(\"Snowshoeing\", \"is a form of\", \"hiking\")\n",
      "-\n"
     ]
    },
    {
     "name": "stderr",
     "output_type": "stream",
     "text": [
      " 58%|█████████████████████████████████████████████████████████████████████████████████████▌                                                              | 451/780 [1:13:24<1:06:24, 12.11s/it]"
     ]
    },
    {
     "name": "stdout",
     "output_type": "stream",
     "text": [
      "\n",
      "(\"young koala\", \"approaches\", \"six months\")\n",
      "(\"koala mother\", \"prepares\", \"it for eucalyptus diet\")\n",
      "(\"koala mother\", \"produces\", \"faecal pap\")\n",
      "(\"koala joey\", \"eats from\", \"mother's cloaca\")\n",
      "(\"faecal pap\", \"is composed of\", \"contents of the caecum\")\n",
      "(\"faecal pap\", \"has\", \"high concentration of bacteria\")\n",
      "(\"koala joey\", \"has a transition from\", \"milk to leaf diet\")\n",
      "(\"koala joey\", \"fully emerges from\", \"pouch at six or seven months\")\n",
      "(\"koala joey\", \"weighs\", \"300–500 g at emergence\")\n",
      "(\"koala joey\", \"rides on\", \"mother's back for transportation\")\n",
      "(\"weaning\", \"occurs at\", \"12 months\")\n",
      "(\"mother\", \"encourages\", \"newly weaned young to disperse\")\n",
      "-\n"
     ]
    },
    {
     "name": "stderr",
     "output_type": "stream",
     "text": [
      " 58%|█████████████████████████████████████████████████████████████████████████████████████▊                                                              | 452/780 [1:13:38<1:09:42, 12.75s/it]"
     ]
    },
    {
     "name": "stdout",
     "output_type": "stream",
     "text": [
      "\n",
      "(\"An infant marsupial\", \"is known as\", \"a joey\")\n",
      "(\"Marsupials\", \"have a very short gestation period\", \"usually around four to five weeks\")\n",
      "(\"Some species\", \"have a very short gestation period\", \"as low as 12 days\")\n",
      "(\"Joey\", \"is born in\", \"an essentially fetal state\")\n",
      "(\"Blind, furless, miniature newborn\", \"is the size of\", \"a jelly bean\")\n",
      "(\"Joey\", \"crawls across its mother's fur\", \"to make its way into the pouch\")\n",
      "(\"Joey\", \"latches onto\", \"a teat for food\")\n",
      "(\"Joey\", \"will not re-emerge for\", \"several months\")\n",
      "(\"Joey\", \"develops fully during this period\", \" \")\n",
      "(\"Joey\", \"begins to spend increasing lengths of time out of the pouch\", \"feeding and learning survival skills\")\n",
      "(\"Joey\", \"returns to the pouch to sleep\", \" \")\n",
      "(\"If danger threatens\", \"Joey will seek refuge in its mother's pouch for safety\", \" \")\n",
      "-\n"
     ]
    },
    {
     "name": "stderr",
     "output_type": "stream",
     "text": [
      " 58%|█████████████████████████████████████████████████████████████████████████████████████▉                                                              | 453/780 [1:13:48<1:04:17, 11.80s/it]"
     ]
    },
    {
     "name": "stdout",
     "output_type": "stream",
     "text": [
      "\n",
      "(\"barn swallow\", \"is similar in its habits to\", \"other aerial insectivores\")\n",
      "(\"other aerial insectivores\", \"includes\", \"other swallow species\")\n",
      "(\"other aerial insectivores\", \"includes\", \"unrelated swifts\")\n",
      "(\"barn swallow\", \"is not a\", \"particularly fast flier\")\n",
      "(\"barn swallow\", \"has a speed estimated at\", \"11 m/s\")\n",
      "(\"barn swallow\", \"has a speed estimated up to\", \"20 m/s\")\n",
      "(\"barn swallow\", \"has a wing beat rate of\", \"approximately 5\")\n",
      "(\"barn swallow\", \"has a wing beat rate estimated up to\", \"7–9 times each second\")\n",
      "-\n"
     ]
    },
    {
     "name": "stderr",
     "output_type": "stream",
     "text": [
      " 58%|██████████████████████████████████████████████████████████████████████████████████████▏                                                             | 454/780 [1:13:59<1:03:17, 11.65s/it]"
     ]
    },
    {
     "name": "stdout",
     "output_type": "stream",
     "text": [
      "\n",
      "(\"Death Eaters\", \"are featured in\", \"Harry Potter series of novels and films\")\n",
      "(\"Death Eaters\", \"are a\", \"terrorist group of wizards and witches\")\n",
      "(\"Death Eaters\", \"are led by\", \"the dark wizard Lord Voldemort\")\n",
      "(\"Death Eaters\", \"seek to\", \"purify the wizarding community by eliminating wizards and witches born to non-magical parents\")\n",
      "(\"Death Eaters\", \"attempt to create\", \"a new order within the Ministry of Magic\")\n",
      "(\"Death Eaters\", \"spread fear through\", \"the wizarding community\")\n",
      "(\"Death Eaters\", \"murder those who\", \"speak out against them\")\n",
      "(\"Death Eaters\", \"have primary opposition of\", \"the members of the Order of the Phoenix\")\n",
      "-\n"
     ]
    },
    {
     "name": "stderr",
     "output_type": "stream",
     "text": [
      " 58%|███████████████████████████████████████████████████████████████████████████████████████▌                                                              | 455/780 [1:14:06<55:18, 10.21s/it]"
     ]
    },
    {
     "name": "stdout",
     "output_type": "stream",
     "text": [
      "\n",
      "(\"Vellore Fort\", \"built by\", \"Vijayanagara kings\")\n",
      "(\"Vellore Fort\", \"is located in\", \"the Vellore city in Tamil Nadu, India\")\n",
      "(\"Vellore Fort\", \"at one time was the headquarters of\", \"the Aravidu Dynasty of the Vijayanagara Empire\")\n",
      "(\"Vellore Fort\", \"is known for\", \"its grand ramparts, wide moat and robust masonry\")\n",
      "-\n"
     ]
    },
    {
     "name": "stderr",
     "output_type": "stream",
     "text": [
      " 58%|███████████████████████████████████████████████████████████████████████████████████████▋                                                              | 456/780 [1:14:10<44:44,  8.28s/it]"
     ]
    },
    {
     "name": "stdout",
     "output_type": "stream",
     "text": [
      "\n",
      "(\"Hypothermia\", \"is caused by\", \"excessive exposure to cold air or water\")\n",
      "(\"Hypothermia\", \"can be\", \"deliberately induced\")\n",
      "(\"Symptoms\", \"usually appear when\", \"the body's core temperature drops\")\n",
      "(\"Body's core temperature\", \"drops by\", \"1–2 °C (1.8–3.6 °F) below normal temperature\")\n",
      "-\n"
     ]
    },
    {
     "name": "stderr",
     "output_type": "stream",
     "text": [
      " 59%|███████████████████████████████████████████████████████████████████████████████████████▉                                                              | 457/780 [1:14:19<45:33,  8.46s/it]"
     ]
    },
    {
     "name": "stdout",
     "output_type": "stream",
     "text": [
      "\n",
      "(\"World War II\",\"came after\", \"building of the Interstate Highway System\")\n",
      "(\"Interstate Highway System\", \"began in\", \"1956\")\n",
      "(\"Automobile travel\",\"became a preferred mode of travel in\", \"the United States\")\n",
      "(\"Increasing affordability of air travel\", \"combines with\", \"automobile travel\")\n",
      "(\"Increasing affordability of air travel\", \"spells trouble for\", \"Greyhound and other intercity bus carriers\")\n",
      "-\n"
     ]
    },
    {
     "name": "stderr",
     "output_type": "stream",
     "text": [
      " 59%|████████████████████████████████████████████████████████████████████████████████████████                                                              | 458/780 [1:14:27<44:39,  8.32s/it]"
     ]
    },
    {
     "name": "stdout",
     "output_type": "stream",
     "text": [
      "\n",
      "(\"Irwin\", \"died on\", \"4 September 2006\")\n",
      "(\"Irwin\", \"was pierced\", \"in the chest by a stingray barb\")\n",
      "(\"Irwin\", \"died while filming\", \"in Australia's Great Barrier Reef\")\n",
      "(\"the stinger\", \"penetrated\", \"Irwin's thoracic wall\")\n",
      "(\"the stinger\", \"caused\", \"massive trauma\")\n",
      "(\"Irwin\", \"was at\", \"Batt Reef, near Port Douglas, Queensland\")\n",
      "(\"Irwin\", \"was taking part in the production of\", \"the documentary series Ocean's Deadliest\")\n",
      "(\"Irwin\", \"decided to\", \"snorkel in shallow waters while being filmed\")\n",
      "(\"Irwin\", \"was filming for\", \"his daughter's television program\")\n",
      "-\n"
     ]
    },
    {
     "name": "stderr",
     "output_type": "stream",
     "text": [
      " 59%|████████████████████████████████████████████████████████████████████████████████████████▎                                                             | 459/780 [1:14:35<44:27,  8.31s/it]"
     ]
    },
    {
     "name": "stdout",
     "output_type": "stream",
     "text": [
      "\n",
      "(\"Leopard cats\", \"are hunted for\", \"their fur\")\n",
      "(\"Leopard cats\", \"were exported yearly between 1984 - 1989\", \"200,000 skins\")\n",
      "(\"Major fur traders\", \"revealed on 1989 survey\", \"more than 800,000 skins on stock\")\n",
      "(\"European Union\", \"imposed import ban in\", \"1988\")\n",
      "(\"Japan\", \"became main importing country in 1989, received\", \"50,000 skins\")\n",
      "(\"Leopard cat\", \"continues to be hunted for\", \"fur, food, and as a pet\")\n",
      "(\"Leopard cat\", \"is widely viewed as\", \"poultry thief\")\n",
      "(\"Leopard cat\", \"is killed\", \"in retribution\")\n",
      "-\n"
     ]
    },
    {
     "name": "stderr",
     "output_type": "stream",
     "text": [
      " 59%|████████████████████████████████████████████████████████████████████████████████████████▍                                                             | 460/780 [1:14:44<45:47,  8.59s/it]"
     ]
    },
    {
     "name": "stdout",
     "output_type": "stream",
     "text": [
      " (\"Beagle\", \"is a breed of\", \"small hound\")\n",
      "     (\"Beagle\", \"is similar in appearance to\", \"foxhound\")\n",
      "     (\"Beagle\", \"is a\", \"scent hound\")\n",
      "     (\"Beagle\", \"was developed for\", \"hunting hare (beagling)\")\n",
      "     (\"Beagle\", \"is used as\", \"detection dogs for prohibited agricultural imports and foodstuffs\")\n",
      "     (\"Beagle\", \"is intelligent and\", \"popular pet\")\n",
      "     (\"Beagle\", \"is popular due to\", \"its size, good temper, and a lack of inherited health problems\")\n",
      "-\n"
     ]
    },
    {
     "name": "stderr",
     "output_type": "stream",
     "text": [
      " 59%|████████████████████████████████████████████████████████████████████████████████████████▋                                                             | 461/780 [1:14:48<37:21,  7.03s/it]"
     ]
    },
    {
     "name": "stdout",
     "output_type": "stream",
     "text": [
      "\n",
      "(\"Herpestidae\", \"originated\", \"about 21.8 million years ago in the Early Miocene\")\n",
      "(\"Herpestidae\", \"genetically diverged into\", \"two main genetic lineages\")\n",
      "(\"Herpestidae\", \"genetically diverged into two main genetic lineages\", \"between 19\")\n",
      "-\n"
     ]
    },
    {
     "name": "stderr",
     "output_type": "stream",
     "text": [
      " 59%|████████████████████████████████████████████████████████████████████████████████████████▊                                                             | 462/780 [1:15:02<48:56,  9.24s/it]"
     ]
    },
    {
     "name": "stdout",
     "output_type": "stream",
     "text": [
      "\n",
      "(\"Life span of individuals\", \"depends on\", \"two major factors - genetics and lifestyle choices\")\n",
      "(\"Women\", \"live on average\", \"four years longer than men\")\n",
      "(\"Average life expectancy at birth of a girl\", \"is\", \"70.2 years\")\n",
      "(\"Average life expectancy at birth of a boy\", \"is\", \"66.1\")\n",
      "(\"Geographical variations in human life expectancy\", \"are primarily correlated with\", \"economic development\")\n",
      "(\"Median age in the developed world\", \"is\", \"around 40 years\")\n",
      "(\"Median age in the developing world\", \"is\", \"between 15 and 20 years\")\n",
      "(\"One in five Europeans\", \"is\", \"60 years of age or older\")\n",
      "(\"One in twenty Africans\", \"is\", \"60 years of age or older\")\n",
      "(\"Number of centenarians in the world\", \"was estimated by the United Nations in 2002 at\",\"210,000\")\n",
      "(\"Jeanne Calment\", \"is believed to have reached the age of\", \"122\")\n",
      "-\n"
     ]
    },
    {
     "name": "stderr",
     "output_type": "stream",
     "text": [
      " 59%|█████████████████████████████████████████████████████████████████████████████████████████                                                             | 463/780 [1:15:14<53:58, 10.22s/it]"
     ]
    },
    {
     "name": "stdout",
     "output_type": "stream",
     "text": [
      " (\"abyssal plain\", \"is an underwater plain on\", \"the deep ocean floor\")\n",
      "(\"abyssal plain\", \"is usually found at depths between\", \"3,000 metres (9,800 ft) and 6,000 metres (20,000 ft)\")\n",
      "(\"abyssal plain\", \"lies generally between\", \"the foot of a continental rise and a mid-ocean ridge\")\n",
      "(\"abyssal plain\", \"covers more than\", \"50% of the Earth's surface\")\n",
      "(\"abyssal plain\", \"is among\", \"the flattest, smoothest, and least explored regions on Earth\")\n",
      "(\"abyssal plain\", \"is a key geologic element of\", \"oceanic basins\")\n",
      "-\n"
     ]
    },
    {
     "name": "stderr",
     "output_type": "stream",
     "text": [
      " 59%|█████████████████████████████████████████████████████████████████████████████████████████▏                                                            | 464/780 [1:15:22<49:37,  9.42s/it]"
     ]
    },
    {
     "name": "stdout",
     "output_type": "stream",
     "text": [
      "\n",
      "(\"The Boy Who Cried Wolf\", \"is one of\", \"Aesop's Fables\")\n",
      "(\"The Boy Who Cried Wolf\", \"is numbered\", \"210 in the Perry Index\")\n",
      "(\"The Boy Who Cried Wolf\", \"derived the English idiom\", \"to cry wolf\")\n",
      "(\"to cry wolf\", \"defined as\", \"to give a false alarm\")\n",
      "(\"to cry wolf\", \"is glossed by\", \"the Oxford English Dictionary\")\n",
      "(\"the Oxford English Dictionary\", \"meaning to\", \"make false claims\")\n",
      "(\"make false claims\", \"with the result\", \"subsequent true claims are disbelieved\")\n",
      "-\n"
     ]
    },
    {
     "name": "stderr",
     "output_type": "stream",
     "text": [
      " 60%|█████████████████████████████████████████████████████████████████████████████████████████▍                                                            | 465/780 [1:15:27<42:55,  8.18s/it]"
     ]
    },
    {
     "name": "stdout",
     "output_type": "stream",
     "text": [
      "\n",
      "(\"Bengal cats\", \"are\", \"smart, energetic and playful\")\n",
      "(\"Bengal cats\", \"can\", \"naturally retrieve items\")\n",
      "(\"Bengal cats\", \"enjoy\", \"playing in water\")\n",
      "-\n"
     ]
    },
    {
     "name": "stderr",
     "output_type": "stream",
     "text": [
      " 60%|█████████████████████████████████████████████████████████████████████████████████████████▌                                                            | 466/780 [1:15:34<39:51,  7.62s/it]"
     ]
    },
    {
     "name": "stdout",
     "output_type": "stream",
     "text": [
      "\n",
      "(\"Human beings\", \"have a life expectancy in \", \"Eswatini\")\n",
      "(\"Eswatini\", \"life expectancy\", \"30–40 years\")\n",
      "(\"Human beings\", \"have a life expectancy in\", \"Japan\")\n",
      "(\"Japan\", \"life expectancy\", \"82.6 years\")\n",
      "(\"Japan\", \"recorded life expectancy\", \"very slightly increased\")\n",
      "(\"Increased life expectancy\", \"due to\", \"counting many infant deaths as stillborn\")\n",
      "(\"Japanese life expectancy\", \"attributed to\", \"equal opportunities and public health as well as diet\")\n",
      "-\n"
     ]
    },
    {
     "name": "stderr",
     "output_type": "stream",
     "text": [
      " 60%|█████████████████████████████████████████████████████████████████████████████████████████▊                                                            | 467/780 [1:15:43<42:15,  8.10s/it]"
     ]
    },
    {
     "name": "stdout",
     "output_type": "stream",
     "text": [
      "\n",
      "(\"hertz\", \"is the plural form of\", \"English\")\n",
      "(\"Hz\", \"is an SI unit of\", \"hertz\")\n",
      "(\"kHz\", \"is a multiple of\", \"Hz\")\n",
      "(\"MHz\", \"is a multiple of\", \"Hz\")\n",
      "(\"GHz\", \"is a multiple of\", \"Hz\")\n",
      "(\"THz\", \"is a multiple of\", \"Hz\")\n",
      "(\"one hertz\", \"refers to\", \"one cycle per second\")\n",
      "(\"100 Hz\", \"refers to\", \"one hundred cycles per second\")\n",
      "(\"Hz\", \"can be applied to any periodic event\", \"clock\")\n",
      "(\"Hz\", \"can be applied to any periodic event\", \"heartbeat of humans\")\n",
      "-\n"
     ]
    },
    {
     "name": "stderr",
     "output_type": "stream",
     "text": [
      " 60%|██████████████████████████████████████████████████████████████████████████████████████████                                                            | 468/780 [1:15:57<52:17, 10.06s/it]"
     ]
    },
    {
     "name": "stdout",
     "output_type": "stream",
     "text": [
      "\n",
      "(\"teachers' college\", \"may include\", \"setting out clear standards of practice\")\n",
      "(\"teachers' college\", \"may include\", \"providing for the ongoing education of teachers\")\n",
      "(\"teachers' college\", \"may include\", \"investigating complaints involving members\")\n",
      "(\"teachers' college\", \"may include\", \"conducting hearings into allegations of professional misconduct\")\n",
      "(\"teachers' college\", \"may include\", \"taking appropriate disciplinary action\")\n",
      "(\"teachers' college\", \"may include\", \"accrediting teacher education programs\")\n",
      "(\"teachers in publicly funded schools\", \"must be\", \"members in good standing with the college\")\n",
      "(\"teachers in private schools\", \"may be required to be\", \"college members\")\n",
      "(\"State Board of Education\", \"may be responsible for\", \"some or all of these duties\")\n",
      "(\"Superintendent of Public Instruction\", \"may be responsible for\", \"some or all of these duties\")\n",
      "(\"State Education Agency\", \"may be responsible for\", \"some or all of these duties\")\n",
      "(\"other governmental bodies\", \"may be responsible for\", \"some or all of these duties\")\n",
      "(\"Teaching Unions\", \"may be responsible for\", \"some or all of these duties\")\n",
      "-\n"
     ]
    },
    {
     "name": "stderr",
     "output_type": "stream",
     "text": [
      " 60%|██████████████████████████████████████████████████████████████████████████████████████████▏                                                           | 469/780 [1:16:07<51:38,  9.96s/it]"
     ]
    },
    {
     "name": "stdout",
     "output_type": "stream",
     "text": [
      "\n",
      "(\"Miami\", \"is the seat of\", \"Miami-Dade County\")\n",
      "(\"Miami\", \"is the cultural, economic and financial center of\", \"South Florida\") \n",
      "(\"Miami\", \"is located in\", \"the United States\")\n",
      "(\"Miami\", \"covers an area of\", \"about 56 square miles (150 km2)\")\n",
      "(\"Miami\", \"is located between\", \"the Everglades and Biscayne Bay\")\n",
      "(\"Miami\", \"has an estimated population of\", \"470, 914 in 2018\")\n",
      "(\"Miami\", \"is home to\", \"6.1 million people\")\n",
      "(\"Miami\", \"is the second-most populous city in the\", \"southeastern United States\")\n",
      "(\"Miami\", \"is the seventh-largest city in the United States\", \"nation\")\n",
      "(\"Miami\", \"has the third tallest skyline in the US with\", \"over 300 high-rises\")\n",
      "(\"Miami\", \"has\", \"55 high-rises which exceed 490 ft (149 m)\")\n",
      "-\n"
     ]
    },
    {
     "name": "stderr",
     "output_type": "stream",
     "text": [
      " 60%|██████████████████████████████████████████████████████████████████████████████████████████▍                                                           | 470/780 [1:16:16<49:30,  9.58s/it]"
     ]
    },
    {
     "name": "stdout",
     "output_type": "stream",
     "text": [
      "\n",
      "(\"cargo of ice\", \"sent from\", \"New York City to Charleston, South Carolina\")\n",
      "(\"cargo of ice\", \"sent in\", \"1799\")\n",
      "(\"first half of 19th century\", \"2009 saw the start of\", \"ice harvesting\")\n",
      "(\"Frederic Tudor\", \"became known as\", \"the 'Ice King'\")\n",
      "(\"Frederic Tudor\", \"worked on developing\", \"better insulation products\")\n",
      "(\"better insulation products\", \"for the purpose of\", \"long distance shipment of ice\")\n",
      "(\"long distance shipment of ice\", \"especially to\", \"the tropics\")\n",
      "(\"long distance shipment of ice\", \"became known as\", \"ice trade\")\n",
      "-\n"
     ]
    },
    {
     "name": "stderr",
     "output_type": "stream",
     "text": [
      " 60%|██████████████████████████████████████████████████████████████████████████████████████████▌                                                           | 471/780 [1:16:23<46:03,  8.94s/it]"
     ]
    },
    {
     "name": "stdout",
     "output_type": "stream",
     "text": [
      "\n",
      "(\"common carp\", \"is also known as\", \"European carp\")\n",
      "(\"common carp\", \"belongs to\", \"Cyprinus carpio\")\n",
      "(\"common carp\", \"is native to\", \"Europe and Asia\")\n",
      "(\"common carp\", \"is considered vulnerable to extinction by\", \"IUCN\")\n",
      "(\"common carp\", \"has been domesticated and introduced to\", \"environments worldwide\")\n",
      "(\"common carp\", \"is considered a destructive invasive species\", \"yes\")\n",
      "(\"common carp\", \"is included in the list of\", \"world's 100 worst invasive species\")\n",
      "(\"common carp\", \"gives its name to the carp family\", \"Cyprinidae\")\n",
      "-\n"
     ]
    },
    {
     "name": "stderr",
     "output_type": "stream",
     "text": [
      " 61%|█████████████████████████████████████████████████████████████████████████████████████████▌                                                          | 472/780 [1:16:42<1:00:44, 11.83s/it]"
     ]
    },
    {
     "name": "stdout",
     "output_type": "stream",
     "text": [
      "\n",
      "(\"Apprehension and attack dogs\", \"are used to\", \"locate and subdue suspects or enemies\")\n",
      "(\"Search and rescue dogs (SAR)\", \"are used to\", \"locate suspects or find missing people or objects\")\n",
      "(\"Belgian Malinois\", \"can be used for\", \"SAR and Apprehension and attack\")\n",
      "(\"German shepherds\", \"can be used for\", \"SAR and Apprehension and attack\")\n",
      "(\"Golden retrievers\", \"can be used for\", \"SAR and Apprehension and attack\")\n",
      "(\"Labrador retrievers\", \"can be used for\", \"SAR and Apprehension and attack\")\n",
      "(\"Bloodhounds\", \"can be used for\", \"SAR and Apprehension and attack\")\n",
      "(\"Detection or explosive dogs\", \"are used to\", \"detect illicit substances\")\n",
      "(\"Detection or explosive dogs\", \"are trained to detect\", \"marijuana, heroin, cocaine, crack cocaine, and methamphetamines\")\n",
      "(\"Dual purpose dog\", \"are also known as\", \"patrol dogs\")\n",
      "(\"Dual purpose dogs\", \"are fully trained and skilled in\", \"tracking; handler protection; off-leash obedience; article, area and building search; and criminal apprehension\")\n",
      "(\"Dual purpose dog\", \"are used to\", \"enforce public order by chasing and detaining suspects either by direct apprehension or a method known as Bark and\n",
      "-\n"
     ]
    },
    {
     "name": "stderr",
     "output_type": "stream",
     "text": [
      " 61%|█████████████████████████████████████████████████████████████████████████████████████████▋                                                          | 473/780 [1:16:53<1:00:04, 11.74s/it]"
     ]
    },
    {
     "name": "stdout",
     "output_type": "stream",
     "text": [
      "\n",
      "(\"zygote\", \"divides into\", \"embryo\")\n",
      "(\"zygote\", \"divides inside\", \"female's uterus\")\n",
      "(\"embryo\", \"develops in\", \"a period of 38 weeks (9 months)\")\n",
      "(\"a period of 38 weeks (9 months)\", \"develops to\", \"a fetus\")\n",
      "(\"fetus\", \"birthed from\", \"woman's body\")\n",
      "(\"fetus\", \"becomes an infant and\", \"breathes independently for the first time\")\n",
      "(\"most modern cultures\", \"recognize the baby as\", \"a person entitled to the full protection of the law\")\n",
      "(\"some jurisdictions\", \"extend various levels of personhood earlier to\", \"human fetuses while they remain in the uterus\")\n",
      "-\n"
     ]
    },
    {
     "name": "stderr",
     "output_type": "stream",
     "text": [
      " 61%|█████████████████████████████████████████████████████████████████████████████████████████▉                                                          | 474/780 [1:17:07<1:02:32, 12.26s/it]"
     ]
    },
    {
     "name": "stdout",
     "output_type": "stream",
     "text": [
      "\n",
      "(\"Asian black bear\", \"has broken hind legs but\", \"can still climb effectively\")\n",
      "(\"Asian black bear\", \"has powerful upper bodies for\", \"climbing trees\")\n",
      "(\"Asian black bear\", \"has relatively weak hind legs compared to\", \"brown bears and American black bears\")\n",
      "(\"Asian black bear\", \"is the most bipedal of\", \"all bears\")\n",
      "(\"Asian black bear\", \"can walk upright for\", \"over a quarter mile\")\n",
      "(\"Asian black bear\", \"has heel pads on the forefeet that are\", \"larger than those of most other bear species\")\n",
      "(\"Asian black bear\", \"has claws that are\", \"slightly longer on the fore foot (30–45 mm) than the back (18–36 mm)\")\n",
      "(\"Asian black bear\", \"has claws that are\", \"larger and more hooked than those of the American black bear\")\n",
      "-\n"
     ]
    },
    {
     "name": "stderr",
     "output_type": "stream",
     "text": [
      " 61%|███████████████████████████████████████████████████████████████████████████████████████████▎                                                          | 475/780 [1:17:12<51:49, 10.19s/it]"
     ]
    },
    {
     "name": "stdout",
     "output_type": "stream",
     "text": [
      "\n",
      "(\"short-eared dog\", \"is also known as\", \"short-eared zorro and small-eared dog\")\n",
      "(\"short-eared dog\", \"is a species of\", \"canid\")\n",
      "(\"short-eared dog\", \"is endemic to\", \"Amazonian basin\")\n",
      "(\"short-eared dog\", \"is the only species assigned to\", \"genus Atelocynus\")\n",
      "-\n"
     ]
    },
    {
     "name": "stderr",
     "output_type": "stream",
     "text": [
      " 61%|███████████████████████████████████████████████████████████████████████████████████████████▌                                                          | 476/780 [1:17:27<58:31, 11.55s/it]"
     ]
    },
    {
     "name": "stdout",
     "output_type": "stream",
     "text": [
      "\n",
      "(\"SeaWorld\", \"is a\", \"United States theme park chain\")\n",
      "(\"SeaWorld\", \"has headquarters in\", \"Orlando, Florida\")\n",
      "(\"SeaWorld\", \"is a proprietor of\", \"marine mammal parks\")\n",
      "(\"SeaWorld\", \"is a proprietor of\", \"oceanariums\")\n",
      "(\"SeaWorld\", \"is a proprietor of\", \"animal theme parks\")\n",
      "(\"SeaWorld\", \"is a proprietor of\", \"rehabilitation centers\")\n",
      "(\"SeaWorld Entertainment\", \"owns\", \"SeaWorld Parks\")\n",
      "(\"SeaWorld Parks\", \"features\", \"orca, sea lion, and dolphin shows\")\n",
      "(\"SeaWorld Parks\", \"has animal\", \"zoological displays featuring various marine animals\")\n",
      "(\"SeaWorld Parks\", \"is located within the\", \"United States in Orlando, Florida; San Diego, California; San Antonio, Texas\")\n",
      "(\"SeaWorld Parks\", \"have operations outside\", \"the United States such as Abu Dhabi, United Arab Emirates; and previously Aurora, Ohio\")\n",
      "(\"SeaWorld Orlando\", \"announced addition of\", \"the Aquatica water park to its adventure park\")\n",
      "(\"Aquatica water park\", \"is part of\", \"SeaWorld and Discovery Cove\")\n",
      "-\n"
     ]
    },
    {
     "name": "stderr",
     "output_type": "stream",
     "text": [
      " 61%|███████████████████████████████████████████████████████████████████████████████████████████▋                                                          | 477/780 [1:17:35<53:32, 10.60s/it]"
     ]
    },
    {
     "name": "stdout",
     "output_type": "stream",
     "text": [
      "\n",
      "(\"Queen\", \"can\", \"sting\")\n",
      "(\"Worker\", \"can\", \"sting\")\n",
      "(\"Bumblebees\", \"stinger lacks\", \"barbs\")\n",
      "(\"Bumblebees\", \"can\", \"sting repeatedly without injuring itself\")\n",
      "(\"Bumblebees\", \"stinger is not left in the wound\", \"true\")\n",
      "(\"Bumblebees species\", \"are not normally aggressive\", \"true\")\n",
      "(\"Bumblebees species\", \"will sting in defense of their nest\", \"true\")\n",
      "(\"Bumblebees species\", \"will sting if harmed\", \"true\")\n",
      "(\"Female cuckoo bumblebees\", \"attack host colony members\", \"true\")\n",
      "(\"Female cuckoo bumblebees\", \"sting the host queen\", \"true\")\n",
      "(\"Female cuckoo bumblebees\", \"will sting other animals if disturbed\", \"true\")\n",
      "-\n"
     ]
    },
    {
     "name": "stderr",
     "output_type": "stream",
     "text": [
      " 61%|███████████████████████████████████████████████████████████████████████████████████████████▉                                                          | 478/780 [1:17:47<54:26, 10.82s/it]"
     ]
    },
    {
     "name": "stdout",
     "output_type": "stream",
     "text": [
      "\n",
      "(\"North America\", \"start of autumn\", \"September Equinox (21 to 24 September)\")\n",
      "(\"North America\", \"end of autumn\",\"winter solstice (21 or 22 December)\")\n",
      "(\"cultural associations in United States\", \"end of summer\",\"Labor Day (first Monday of September)\")\n",
      "(\"temperatures\", \"effect on\", \"trees changing color and shedding leaves\")\n",
      "(\"East Asian solar term\", \"start of autumn\", \"8 August\")\n",
      "(\"East Asian solar term\", \"end of autumn\", \"7 November\")\n",
      "(\"Met Éireann (Irish meteorological service)\", \"autumn months\", \"September, October, November\")\n",
      "(\"Irish Calendar (based on Gaelic traditions)\", \"autumn months\",\"August, September, October\")\n",
      "(\"Irish language\", \"middle of autumn\", \"Meán Fómhair\")\n",
      "(\"Irish language\", \"end of autumn\", \"Deireadh Fómhair\")\n",
      "-\n"
     ]
    },
    {
     "name": "stderr",
     "output_type": "stream",
     "text": [
      " 61%|████████████████████████████████████████████████████████████████████████████████████████████                                                          | 479/780 [1:18:01<59:52, 11.94s/it]"
     ]
    },
    {
     "name": "stdout",
     "output_type": "stream",
     "text": [
      "\n",
      "(\"People who have previously been vaccinated against rabies\", \"do not need\", \"the immunoglobulin\")\n",
      "(\"People who have previously been vaccinated against rabies\", \"need\", \"postexposure vaccinations on days 0 and 3\")\n",
      "(\"modern cell-based vaccines\", \"have side effects that are similar to\", \"flu shots\")\n",
      "(\"old nerve-tissue-based vaccination\", \"required\", \"multiple injections into the abdomen with a large needle\")\n",
      "(\"old nerve-tissue-based vaccination\", \"is being replaced by\", \"affordable World Health Organization intradermal-vaccination regimens\")\n",
      "(\"Intramuscular vaccination\", \"should be given into\", \"the deltoid\")\n",
      "(\"Intramuscular vaccination\", \"should not be given into\", \"the gluteal area\")\n",
      "(\"In children less than a year old\", \"vaccination should be given into\", \"the lateral thigh\")\n",
      "(\"wound\", \"should be washed as soon as possible\", \"with soap and water for approximately five minutes\")\n",
      "(\"wound\", \"should also be washed with\", \"povidone-iodine or alcohol\")\n",
      "-\n"
     ]
    },
    {
     "name": "stderr",
     "output_type": "stream",
     "text": [
      " 62%|████████████████████████████████████████████████████████████████████████████████████████████▎                                                         | 480/780 [1:18:08<52:17, 10.46s/it]"
     ]
    },
    {
     "name": "stdout",
     "output_type": "stream",
     "text": [
      "\n",
      "(\"iwato scale\", \"is a musical scale\", \"similar to the Locrian mode\")\n",
      "(\"iwato scale\", \"is spelled\", \"1 b2 4 b5 b7\")\n",
      "(\"iwato scale\", \"has no\", \"3rd or 6th notes\")\n",
      "(\"iwato scale\", \"is pentatonic\", \"\")\n",
      "(\"iwato scale\", \"used in\", \"traditional Japanese music for the koto\")\n",
      "(\"iwato scale\", \"is a mode of\", \"Hirajōshi scale\")\n",
      "-\n"
     ]
    },
    {
     "name": "stderr",
     "output_type": "stream",
     "text": [
      " 62%|███████████████████████████████████████████████████████████████████████████████████████████▎                                                        | 481/780 [1:18:24<1:00:17, 12.10s/it]"
     ]
    },
    {
     "name": "stdout",
     "output_type": "stream",
     "text": [
      "\n",
      "(\"polar bear\", \"scientific name\", \"Ursus maritimus\")\n",
      "(\"polar bear\", \"native range\", \"lies largely within the Arctic Circle\")\n",
      "(\"polar bear\", \"native range\", \"encompassing the Arctic Ocean\")\n",
      "(\"polar bear\", \"native range\", \"surrounding seas\")\n",
      "(\"polar bear\", \"native range\", \"surrounding land masses\")\n",
      "(\"polar bear\", \"size compared to\", \"omnivorous Kodiak bear\")\n",
      "(\"boar\", \"weighs about\", \"350–700 kg (772–1,543 lb)\")\n",
      "(\"sow\", \"weighs about\", \"half that size\")\n",
      "(\"polar bear\", \"largest land carnivore\", \"currently in existence\")\n",
      "(\"polar bear\", \"rivaled only by\", \"Kodiak bear\")\n",
      "(\"polar bear\", \"sister species of\", \"brown bear\")\n",
      "(\"polar bear\", \"ecological niche\", \"body characteristics adapted for cold temperatures\")\n",
      "(\"polar bear\", \"ecological niche\", \"moving across snow, ice and open water\")\n",
      "(\"polar bear\", \"ecological niche\", \"hunting seals\")\n",
      "(\"polar bear\", \"diet\", \"seals\")\n",
      "(\"polar bear\", \"born on\", \"land\")\n",
      "(\"polar bear\", \"spend most time on\", \"sea\n",
      "-\n"
     ]
    },
    {
     "name": "stderr",
     "output_type": "stream",
     "text": [
      " 62%|████████████████████████████████████████████████████████████████████████████████████████████▋                                                         | 482/780 [1:18:33<54:54, 11.06s/it]"
     ]
    },
    {
     "name": "stdout",
     "output_type": "stream",
     "text": [
      "\n",
      "(\"reticulated python\", \"is an\", \"ambush hunter\")\n",
      "(\"reticulated python\", \"kills\", \"by constriction\")\n",
      "(\"reticulated python\", \"eats\", \"mammals\")\n",
      "(\"reticulated python\", \"eats\", \"birds\")\n",
      "(\"small specimens\", \"eat mainly\", \"rodents\")\n",
      "(\"larger individuals\", \"switch to\", \"prey such as small Indian civet and binturong, primates, and pigs\")\n",
      "(\"reticulated python\", \"can swallow prey\", \"up to one-quarter its own length and up to its own weight\")\n",
      "(\"reticulated python\", \"snatches\", \"stray chickens, cats, and dogs on occasion\")\n",
      "-\n"
     ]
    },
    {
     "name": "stderr",
     "output_type": "stream",
     "text": [
      " 62%|███████████████████████████████████████████████████████████████████████████████████████████▋                                                        | 483/780 [1:18:55<1:10:44, 14.29s/it]"
     ]
    },
    {
     "name": "stdout",
     "output_type": "stream",
     "text": [
      "\n",
      "(\"Crickets\", \"appear as characters in\", \"literature\")\n",
      "(\"Talking Cricket\", \"features in\", \"Carlo Collodi's 1883 children's book, The Adventures of Pinocchio\")\n",
      "(\"Talking Cricket\", \"features in\", \"films based on The Adventures of Pinocchio\")\n",
      "(\"Crickets\", \"are central to\", \"Charles Dickens's 1845 The Cricket on the Hearth\")\n",
      "(\"Crickets\", \"are central to\", \"George Selden's 1960 The Cricket in Times Square\")\n",
      "(\"Crickets\", \"are celebrated in poems by\", \"William Wordsworth\")\n",
      "(\"Crickets\", \"are celebrated in poems by\", \"John Keats\")\n",
      "(\"Crickets\", \"are celebrated in poems by\", \"Du Fu\")\n",
      "(\"Crickets\", \"are kept as pets in\", \"countries from China to Europe\")\n",
      "(\"Crickets\", \"are kept as pets in\", \"countries from China for cricket fighting\")\n",
      "(\"Crickets\", \"are used as human food in\", \"Southeast Asia\")\n",
      "(\"Crickets\", \"are sold\", \"deep-fried in markets as snacks\")\n",
      "(\"Crickets\", \"are used to feed\", \"carnivorous pets\")\n",
      "(\"Crickets\", \"are used to feed\",\"zoo animals\")\n",
      "(\"Crickets\", \"feature as omens of\", \"various events in\n",
      "-\n"
     ]
    },
    {
     "name": "stderr",
     "output_type": "stream",
     "text": [
      " 62%|███████████████████████████████████████████████████████████████████████████████████████████▊                                                        | 484/780 [1:19:10<1:11:41, 14.53s/it]"
     ]
    },
    {
     "name": "stdout",
     "output_type": "stream",
     "text": [
      "\n",
      "(\"M. p. pygmaeus\", \"is found in\", \"Cozumel\")\n",
      "(\"M. p. rubricomus\", \"is found in\", \"Yucatán Peninsula south to central Belize\")\n",
      "(\"M. p. tysoni\", \"is found in\", \"Guanaja I. (off northern Honduras)\")\n",
      "(\"Yucatán woodpecker\", \"is endemic to\", \"Central America\")\n",
      "(\"Yucatán woodpecker\", \"has a range including\", \"Yucatan Peninsula and adjoining offshore islands\")\n",
      "(\"Yucatán woodpecker\", \"has a range including\", \"Cozumel Island\")\n",
      "(\"Yucatán woodpecker\", \"has a range including\", \"Belize\")\n",
      "(\"Yucatán woodpecker\", \"has a range including\", \"northeastern Guatemala\")\n",
      "(\"Yucatán woodpecker\", \"has a range including\", \"Guanaja Island off the coast of Honduras\")\n",
      "(\"Yucatán woodpecker\", \"is mostly found in\", \"clearings and near the edges of dry woodland and in coastal scrub\")\n",
      "(\"Yucatán woodpecker\", \"inhabits sometimes\", \"damper woodland and degraded habitats\")\n",
      "-\n"
     ]
    },
    {
     "name": "stderr",
     "output_type": "stream",
     "text": [
      " 62%|████████████████████████████████████████████████████████████████████████████████████████████                                                        | 485/780 [1:19:17<1:01:11, 12.45s/it]"
     ]
    },
    {
     "name": "stdout",
     "output_type": "stream",
     "text": [
      "\n",
      "(\"dog\", \"is a member of\", \"genus Canis\")\n",
      "(\"genus Canis\", \"forms part of\", \"wolf-like canids\")\n",
      "(\"dog\", \"is the most widely abundant\", \"terrestrial carnivore\")\n",
      "(\"dog\", \"is sister taxa to\", \"gray wolf\")\n",
      "(\"modern wolves\", \"are not closely related to\", \"wolves that were first domesticated\")\n",
      "(\"dog\", \"was first species to be\", \"domesticated\")\n",
      "(\"dog\", \"has been selectively bred over millennia for\", \"various behaviors, sensory capabilities, and physical attributes\")\n",
      "-\n"
     ]
    },
    {
     "name": "stderr",
     "output_type": "stream",
     "text": [
      " 62%|████████████████████████████████████████████████████████████████████████████████████████████▏                                                       | 486/780 [1:19:33<1:05:09, 13.30s/it]"
     ]
    },
    {
     "name": "stdout",
     "output_type": "stream",
     "text": [
      "\n",
      "(\"Moose\", \"require habitat with\", \"adequate edible plants\")\n",
      "(\"Moose\", \"require habitat with\", \"cover from predators\")\n",
      "(\"Moose\", \"require habitat with\", \"protection from extremely hot or cold weather\")\n",
      "(\"Moose\", \"travel among\", \"different habitats with the seasons\")\n",
      "(\"Moose\", \"have thickened skin, dense, heat-retaining coat,\", \"low surface:volume ratio\")\n",
      "(\"Moose\", \"have low surface:volume ratio\", \"excellent cold tolerance but poor heat tolerance\")\n",
      "(\"Moose\", \"survive hot weather by\", \"accessing shade or cooling wind\")\n",
      "(\"Moose\", \"survive hot weather by\", \"immersion in cool water\")\n",
      "(\"Moose\", \"may fail to adequately forage in summer when heat-stressed,\", \"not gain adequate body fat to survive the winter\")\n",
      "(\"Moose cows\", \"may not calve without\", \"adequate summer weight gain\")\n",
      "(\"Moose\", \"require access to\", \"young forest for browsing\")\n",
      "(\"Moose\", \"require access to\", \"mature forest for shelter and cover\")\n",
      "(\"Forest\", \"is disturbed by\", \"fire and logging\")\n",
      "(\"Fire and logging\", \"promotes the growth of fodder for\", \"moose\")\n",
      "(\"Moose\", \"require access to\", \"mineral licks\")\n",
      "(\"Moose\", \"require access to\n",
      "-\n"
     ]
    },
    {
     "name": "stderr",
     "output_type": "stream",
     "text": [
      " 62%|█████████████████████████████████████████████████████████████████████████████████████████████▋                                                        | 487/780 [1:19:42<58:37, 12.00s/it]"
     ]
    },
    {
     "name": "stdout",
     "output_type": "stream",
     "text": [
      "\n",
      "(\"Dam building\", \"can be beneficial in\", \"restoring wetlands\")\n",
      "(\"Wetland benefits\", \"include\", \"flood control downstream\")\n",
      "(\"Wetland benefits\", \"include\", \"biodiversity\")\n",
      "(\"Wetland benefits\", \"include\", \"water cleansing\")\n",
      "(\"Beaver dams\", \"produce\", \"rich bottomland\")\n",
      "(\"Beaver dams\", \"reduce erosion\", \"and decrease turbidity\")\n",
      "(\"Beaver dams\", \"can create damage\", \"but are often misunderstood\")\n",
      "(\"Beaver dams\", \"have long-term benefits\", \"hard to recognize\")\n",
      "(\"Almost half of endangered and threatened species\", \"rely upon\", \"wetlands\")\n",
      "-\n"
     ]
    },
    {
     "name": "stderr",
     "output_type": "stream",
     "text": [
      " 63%|█████████████████████████████████████████████████████████████████████████████████████████████▊                                                        | 488/780 [1:19:52<56:08, 11.53s/it]"
     ]
    },
    {
     "name": "stdout",
     "output_type": "stream",
     "text": [
      "\n",
      "(\"Horseradish\", \"is a\", \"perennial plant\")\n",
      "(\"Horseradish\", \"belongs to the family\", \"Brassicaceae\")\n",
      "(\"Brassicaceae\", \"includes\", \"mustard\")\n",
      "(\"Brassicaceae\", \"includes\", \"wasabi\")\n",
      "(\"Brassicaceae\", \"includes\", \"broccoli\")\n",
      "(\"Brassicaceae\", \"includes\", \"cabbage\")\n",
      "(\"Brassicaceae\", \"includes\", \"radish\")\n",
      "(\"Horseradish\", \"is a\", \"root vegetable\")\n",
      "(\"Horseradish\", \"is used as a\", \"spice\")\n",
      "(\"Horseradish\", \"is prepared as a\", \"condiment\")\n",
      "-\n"
     ]
    },
    {
     "name": "stderr",
     "output_type": "stream",
     "text": [
      " 63%|██████████████████████████████████████████████████████████████████████████████████████████████                                                        | 489/780 [1:19:57<46:50,  9.66s/it]"
     ]
    },
    {
     "name": "stdout",
     "output_type": "stream",
     "text": [
      "\n",
      "(\"clouded leopard\", \"is a\", \"solitary cat\")\n",
      "(\"clouded leopard\", \"is depicted as\", \"rare\")\n",
      "(\"clouded leopard\", \"is depicted as\", \"secretive\")\n",
      "(\"clouded leopard\", \"is depicted as\", \"arboreal\")\n",
      "(\"clouded leopard\", \"is depicted as\",\"nocturnal\")\n",
      "(\"clouded leopard\", \"habitat\", \"dense primary forest\")\n",
      "-\n"
     ]
    },
    {
     "name": "stderr",
     "output_type": "stream",
     "text": [
      " 63%|██████████████████████████████████████████████████████████████████████████████████████████████▏                                                       | 490/780 [1:20:15<58:55, 12.19s/it]"
     ]
    },
    {
     "name": "stdout",
     "output_type": "stream",
     "text": [
      "\n",
      "(\"Adult frog\", \"has\", \"a stout body\")\n",
      "(\"Adult frog\", \"has\", \"protruding eyes\")\n",
      "(\"Adult frog\", \"has\", \"anteriorly-attached tongue\")\n",
      "(\"Adult frog\", \"has\", \"limbs folded underneath\")\n",
      "(\"Adult frog\", \"lacks\", \"tail (except in tailed frogs)\")\n",
      "(\"Adult frog\", \"has\", \"glandular skin\")\n",
      "(\"Adult frog\", \"has skin secretions\", \"ranging from distasteful to toxic\")\n",
      "(\"Adult frog\", \"has skin ranging in colour\", \"from well-camouflaged dappled brown, grey and green to vivid patterns of bright red or yellow and black to show toxicity and ward off predators\")\n",
      "(\"Adult frog\", \"lives\", \"in fresh water\")\n",
      "(\"Adult frog\", \"lives\", \"on dry land\")\n",
      "(\"Adult frog\", \"is adapted to living\", \"underground\")\n",
      "(\"Adult frog\", \"is adapted to living\", \"in trees\")\n",
      "-\n"
     ]
    },
    {
     "name": "stderr",
     "output_type": "stream",
     "text": [
      " 63%|█████████████████████████████████████████████████████████████████████████████████████████████▏                                                      | 491/780 [1:20:29<1:00:21, 12.53s/it]"
     ]
    },
    {
     "name": "stdout",
     "output_type": "stream",
     "text": [
      "\n",
      "(\"giraffe\", \"has\", \"an extremely long neck and legs\")\n",
      "(\"giraffe\", \"has\", \"horn-like ossicones\")\n",
      "(\"giraffe\", \"has\", \"a distinctive coat pattern\")\n",
      "(\"giraffe\", \"is classified under\", \"the family Giraffidae\")\n",
      "(\"giraffe\", \"has a closest extant relative\", \"the okapi\")\n",
      "(\"giraffe\", \"has a scattered range from\", \"Chad in the north to South Africa in the south\")\n",
      "(\"giraffe\", \"has a scattered range from\", \"Niger in the west to Somalia in the east\")\n",
      "(\"giraffe\", \"usually inhabits\", \"savannahs and woodlands\")\n",
      "(\"giraffe\", \"eats\", \"leaves, fruits and flowers of woody plants\")\n",
      "(\"giraffe's food source\", \"is primarily acacia species\", \"which they browse\")\n",
      "(\"giraffe\", \"may be preyed on by\", \"lions, leopards, spotted hyenas and African wild dogs\")\n",
      "(\"giraffe\", \"lives in herds of\", \"related females and their offspring\")\n",
      "(\"giraffe\", \"lives in herds of\", \"unrelated adult males\")\n",
      "(\"giraffe\", \"may gather in\", \"large aggregations\")\n",
      "(\"giraffe\", \"establishes social hierarchies through\",\n",
      "-\n"
     ]
    },
    {
     "name": "stderr",
     "output_type": "stream",
     "text": [
      " 63%|██████████████████████████████████████████████████████████████████████████████████████████████▌                                                       | 492/780 [1:20:35<51:30, 10.73s/it]"
     ]
    },
    {
     "name": "stdout",
     "output_type": "stream",
     "text": [
      "\n",
      "(\"Crustacean group\", \"can be treated as\", \"a subphylum under the clade Mandibulata\")\n",
      "(\"Crustacean group\", \"is now accepted by\", \"molecular studies\")\n",
      "(\"Crustacean group\", \"is paraphyletic\", \"and comprises all animals in the clade Pancrustacea other than hexapods\")\n",
      "(\"Crustaceans\", \"are more closely related to\", \"insects and other hexapods\")\n",
      "(\"Crustaceans\", \"are more closely related to\", \"certain other crustaceans\")\n",
      "-\n"
     ]
    },
    {
     "name": "stderr",
     "output_type": "stream",
     "text": [
      " 63%|██████████████████████████████████████████████████████████████████████████████████████████████▊                                                       | 493/780 [1:20:42<46:03,  9.63s/it]"
     ]
    },
    {
     "name": "stdout",
     "output_type": "stream",
     "text": [
      "\n",
      "(\"Lynx\", \"have a short tail\", \"characteristic tufts of black hair on the tips of their ears\")\n",
      "(\"Lynx\", \"have\", \"large, padded paws\")\n",
      "(\"Lynx\", \"have\", \"long whiskers on the face\")\n",
      "(\"Lynx\", \"have a ruff\", \"black bars resembling a bow tie\")\n",
      "-\n"
     ]
    },
    {
     "name": "stderr",
     "output_type": "stream",
     "text": [
      " 63%|███████████████████████████████████████████████████████████████████████████████████████████████                                                       | 494/780 [1:20:51<44:34,  9.35s/it]"
     ]
    },
    {
     "name": "stdout",
     "output_type": "stream",
     "text": [
      "\n",
      "(\"Vellum\", \"is a\", \"translucent material\")\n",
      "(\"Vellum\", \"is produced from\", \"the skin\")\n",
      "(\"Vellum\", \"is split from\", \"a young animal\")\n",
      "(\"Vellum\", \"is washed with\", \"water\")\n",
      "(\"Vellum\", \"is washed with\", \"lime (Calcium hydroxide)\")\n",
      "(\"Vellum\", \"is soaked in\", \"lime for several days\")\n",
      "(\"Vellum\", \"is soaked for\", \"softening purposes\")\n",
      "(\"Vellum\", \"is soaked for\", \"removing the hair\")\n",
      "-\n"
     ]
    },
    {
     "name": "stderr",
     "output_type": "stream",
     "text": [
      " 63%|███████████████████████████████████████████████████████████████████████████████████████████████▏                                                      | 495/780 [1:21:06<52:09, 10.98s/it]"
     ]
    },
    {
     "name": "stdout",
     "output_type": "stream",
     "text": [
      "\n",
      "(\"Apotropaics\", \"are able to\", \"ward off revenants\")\n",
      "(\"Garlic\", \"is a\", \"common apotropaic\")\n",
      "(\"A branch of wild rose\", \"is said to\", \"harm vampires\")\n",
      "(\"Hawthorn\", \"is said to\", \"harm vampires\")\n",
      "(\"Europe\", \"had a tradition of\", \"sprinkling mustard seeds on the roof of a house to keep vampires away\")\n",
      "(\"Sacred items\", \"are said to be\", \"apotropaics\")\n",
      "(\"A crucifix\", \"is an example of\", \"apotropaics\")\n",
      "(\"A rosary\", \"is an example of\", \"apotropaics\")\n",
      "(\"Holy water\", \"is an example of\", \"apotropaics\")\n",
      "(\"Vampires\", \"are said to be unable to\", \"walk on consecrated ground\")\n",
      "(\"Vampires\", \"are said to be unable to\", \"cross running water\")\n",
      "-\n"
     ]
    },
    {
     "name": "stderr",
     "output_type": "stream",
     "text": [
      " 64%|███████████████████████████████████████████████████████████████████████████████████████████████▍                                                      | 496/780 [1:21:13<46:04,  9.74s/it]"
     ]
    },
    {
     "name": "stdout",
     "output_type": "stream",
     "text": [
      "\n",
      "(\"third plague pandemic\", \"began in\", \"Yunnan, China in 1855\")\n",
      "(\"third plague pandemic\", \"spread to\", \"all inhabited continents in the 1890s and first years of the 1900s\")\n",
      "(\"third plague pandemic\", \"led to\", \"more than 12 million deaths in India and China\")\n",
      "(\"third plague pandemic\", \"led to\", \"about 10 million killed in India\")\n",
      "-\n"
     ]
    },
    {
     "name": "stderr",
     "output_type": "stream",
     "text": [
      " 64%|███████████████████████████████████████████████████████████████████████████████████████████████▌                                                      | 497/780 [1:21:27<51:52, 11.00s/it]"
     ]
    },
    {
     "name": "stdout",
     "output_type": "stream",
     "text": [
      "\n",
      "(\"Green sea turtles\", \"migrate long distances\", \"between feeding sites and nesting sites\") \n",
      "(\"Green sea turtles\", \"swim\", \"more than 2,600 kilometres (1,600 mi) to reach their spawning grounds\") \n",
      "(\"Beaches in Southeast Asia, India, islands in the western Pacific, and Central America\", \"are where\", \"Green sea turtles breed\")\n",
      "(\"Mature turtles\", \"often return to the exact beach from\", \"which they hatched\")\n",
      "(\"Females\", \"mate\", \"every two to four years\") \n",
      "(\"Males\", \"visit the breeding areas every year\", \"attempting to mate\")\n",
      "(\"Mating seasons\", \"vary between\", \"populations\") \n",
      "(\"For most C. mydas in the Caribbean\", \"mating season is from\", \"June to September\")\n",
      "(\"The French Guiana nesting subpopulation\", \"nests from\", \"March to June\")\n",
      "(\"In the tropics\", \"green turtles nest throughout the year\", \"although some subpopulations prefer particular times of the year\")\n",
      "(\"In Pakistan, Indian Ocean turtles\", \"nest year-round\", \"but prefer the months of July to December\")\n",
      "-\n"
     ]
    },
    {
     "name": "stderr",
     "output_type": "stream",
     "text": [
      " 64%|███████████████████████████████████████████████████████████████████████████████████████████████▊                                                      | 498/780 [1:21:36<49:54, 10.62s/it]"
     ]
    },
    {
     "name": "stdout",
     "output_type": "stream",
     "text": [
      "\n",
      "(\"United States of America\", \"is commonly known as\", \"United States\")\n",
      "(\"United States\", \"is composed of\", \"50 states\")\n",
      "(\"United States\", \"is composed of\", \"a federal district\")\n",
      "(\"United States\", \"is composed of\", \"five major self-governing territories\")\n",
      "(\"United States\", \"is composed of\", \"various possessions\")\n",
      "(\"United States\", \"has an area of\", \"3.8 million square miles\")\n",
      "(\"United States\", \"has an area of\", \"9.8 million km2\")\n",
      "(\"United States\", \"has an estimated population of\", \"over 328 million\")\n",
      "(\"United States\", \"has as its capital\", \"Washington DC\")\n",
      "(\"United States\", \"has as its most populous city\", \"New York City\")\n",
      "-\n"
     ]
    },
    {
     "name": "stderr",
     "output_type": "stream",
     "text": [
      " 64%|███████████████████████████████████████████████████████████████████████████████████████████████▉                                                      | 499/780 [1:21:47<49:24, 10.55s/it]"
     ]
    },
    {
     "name": "stdout",
     "output_type": "stream",
     "text": [
      "\n",
      "(\"sun bear\", \"is a species\", \"in the family Ursidae\")\n",
      "(\"sun bear\", \"occurs in\", \"the tropical forests of Southeast Asia\")\n",
      "(\"sun bear\", \"is the smallest\", \"bear\")\n",
      "(\"sun bear\", \"stands nearly\", \"70 cm\")\n",
      "(\"sun bear\", \"weighs\", \"25-65 kg\")\n",
      "(\"sun bear\", \"has\", \"large paws\")\n",
      "(\"sun bear\", \"has\", \"strongly curved claws\")\n",
      "(\"sun bear\", \"has\", \"small rounded ears\")\n",
      "(\"sun bear\", \"has\", \"a short snout\")\n",
      "(\"sun bear\", \"has\", \"fur that often is jet-black but can vary from grey to red\")\n",
      "(\"sun bear\", \"gets its name from\", \"the characteristic orange to cream coloured chest patch\")\n",
      "(\"sun bear's morphology suggests\", \"adaptations for\", \"climbing\")\n",
      "-\n"
     ]
    },
    {
     "name": "stderr",
     "output_type": "stream",
     "text": [
      " 64%|████████████████████████████████████████████████████████████████████████████████████████████████▏                                                     | 500/780 [1:22:02<55:16, 11.85s/it]"
     ]
    },
    {
     "name": "stdout",
     "output_type": "stream",
     "text": [
      "\n",
      "(\"Common ostriches\", \"usually weigh\", \"from 63 to 145 kilograms\")\n",
      "(\"Common ostriches\", \"weight range of\", \"unsexed adults\") (\"Masai Ostriches\", \"averaged 115 kg in\", \"males\")\n",
      "(\"Masai Ostriches\", \"averaged 100 kg in\", \"females\")\n",
      "(\"Nominate subspecies\", \"average 111 kg in\", \"unsexed adults\")\n",
      "(\"Exceptional male ostriches\", \"can weigh up to\", \"156.8 kg\")\n",
      "(\"Male Common Ostriches\", \"range from\", \"2.1 to 2.8m in height\")\n",
      "(\"Female Common Ostriches\", \"range from\", \"1.7 to 2.0m in height\")\n",
      "(\"New chicks\", \"are color\", \"fawn\")\n",
      "(\"Chicks\", \"grow at a rate of\", \"25 cm per month\")\n",
      "(\"Common Ostriches\", \"weigh approximately\", \"45 kilograms at one year of age\")\n",
      "(\"Common Ostriches\", \"have a lifespan of\", \"up to 40-45 years\")\n",
      "-\n"
     ]
    },
    {
     "name": "stderr",
     "output_type": "stream",
     "text": [
      " 64%|████████████████████████████████████████████████████████████████████████████████████████████████▎                                                     | 501/780 [1:22:07<45:28,  9.78s/it]"
     ]
    },
    {
     "name": "stdout",
     "output_type": "stream",
     "text": [
      "\n",
      "(\"Bicycle\", \"is a\", \"pedal-driven, human-powered, single-track vehicle\")\n",
      "(\"Bicycle\", \"has\", \"two wheels attached to a frame, one behind the other\")\n",
      "(\"Person who rides a bicycle\", \"is called a\", \"cyclist or a bicyclist\")\n",
      "(\"Activity\", \"is called\", \"cycling\")\n",
      "(\"Bicycle\", \"is also known as\", \"a bike, push bike or cycle\")\n",
      "-\n"
     ]
    },
    {
     "name": "stderr",
     "output_type": "stream",
     "text": [
      " 64%|████████████████████████████████████████████████████████████████████████████████████████████████▌                                                     | 502/780 [1:22:19<49:31, 10.69s/it]"
     ]
    },
    {
     "name": "stdout",
     "output_type": "stream",
     "text": [
      "\n",
      "(\"AVCR-1790-2C engine\", \"produces\", \"950 hp\")\n",
      "(\"AVCR-1790-2C engine\", \"has\", \"improved hydropneumatic suspension\")\n",
      "(\"AFSS\", \"improves\", \"soldier survivability\")\n",
      "(\"AFSS\", \"protects\", \"engine compartment\")\n",
      "(\"STANAG 4569 Level 6 protection plates\", \"placed on\", \"frontal arc and side skirts\")\n",
      "(\"slat armor\", \"added to\", \"bustle\")\n",
      "(\"Vehicle weight\", \"increased to\", \"62-63 tons\")\n",
      "-\n"
     ]
    },
    {
     "name": "stderr",
     "output_type": "stream",
     "text": [
      " 64%|████████████████████████████████████████████████████████████████████████████████████████████████▋                                                     | 503/780 [1:22:32<52:40, 11.41s/it]"
     ]
    },
    {
     "name": "stdout",
     "output_type": "stream",
     "text": [
      "\n",
      "(\"Blur\", \"is an\", \"English alternative rock band\")\n",
      "(\"Blur\", \"formed in\", \"London in 1988\")\n",
      "(\"Blur\", \"was originally called\", \"Seymour\")\n",
      "(\"Blur\", \"consists of\", \"singer Damon Albarn, guitarist Graham Coxon, bassist Alex James and drummer Dave Rowntree\")\n",
      "(\"Blur's debut album\", \"is titled\", \"Leisure (1991)\")\n",
      "(\"Leisure (1991)\", \"incorporates the sounds of\", \"Madchester and shoegazing\") \n",
      "(\"Blur\", \"changed their style to\", \"English guitar pop groups such as the Kinks, the Beatles and XTC\")\n",
      "(\"Blur\", \"released albums following the stylistic change\", \"Modern Life Is Rubbish (1993), Parklife (1994) and The Great Escape (1995)\")\n",
      "(\"Blur\", \"popularized the genre\", \"Britpop\")\n",
      "(\"Blur\", \"became mass popular in the UK through\", \"a chart battle with rival band Oasis in 1995\")\n",
      "-\n"
     ]
    },
    {
     "name": "stderr",
     "output_type": "stream",
     "text": [
      " 65%|████████████████████████████████████████████████████████████████████████████████████████████████▉                                                     | 504/780 [1:22:48<57:38, 12.53s/it]"
     ]
    },
    {
     "name": "stdout",
     "output_type": "stream",
     "text": [
      "\n",
      "(\"Rhinoceros horns\", \"are different from\", \"those of other horned mammals\")\n",
      "(\"Rhinoceros horns\", \"have a core made of\", \"keratin\")\n",
      "(\"Rhinoceros horns\", \"are used in\", \"traditional medicines in parts of Asia\")\n",
      "(\"Rhinoceros horns\", \"are used for\", \"dagger handles in Yemen and Oman\")\n",
      "(\"Esmond Bradley Martin\", \"reported on\", \"the trade for dagger handles in Yemen\")\n",
      "(\"Rhinoceros horns\", \"were historically believed to\", \"purify water and detect poisoned liquids\")\n",
      "(\"Rhinoceros horns\", \"were historically used as\", \"aphrodisiacs and antidotes to poison\")\n",
      "-\n"
     ]
    },
    {
     "name": "stderr",
     "output_type": "stream",
     "text": [
      " 65%|█████████████████████████████████████████████████████████████████████████████████████████████████                                                     | 505/780 [1:22:57<53:29, 11.67s/it]"
     ]
    },
    {
     "name": "stdout",
     "output_type": "stream",
     "text": [
      "\n",
      "(\"Restrictions upon smoking in bars and restaurants\", \"can improve\", \"the air quality in such establishments\")\n",
      "(\"one study\", \"listed on\", \"the website of the U.S. Centers for Disease Control and Prevention\")\n",
      "(\"the study\", \"states that\", \"New York's statewide law to eliminate smoking in enclosed workplaces and public places substantially reduced RSP (respirable suspended particles) levels\")\n",
      "(\"RSP levels\", \"were reduced in\", \"every venue that permitted smoking before the law was implemented\")\n",
      "(\"the CDC\", \"concluded that\", \"their results were similar to other studies\")\n",
      "(\"other studies\", \"showed\", \"substantially improved indoor air quality after smoking bans were instituted\")\n",
      "-\n"
     ]
    },
    {
     "name": "stderr",
     "output_type": "stream",
     "text": [
      " 65%|█████████████████████████████████████████████████████████████████████████████████████████████████▎                                                    | 506/780 [1:23:01<42:59,  9.42s/it]"
     ]
    },
    {
     "name": "stdout",
     "output_type": "stream",
     "text": [
      "\n",
      "(\"Zuyaqui\", \"is a\", \"Mexican German Shepherd\")\n",
      "(\"Zuyaqui\", \"was dissected and his body put on display at\", \"Sedena's 'Narco Museum' in Mexico\")\n",
      "(\"Zuyaqui\", \"is regarded to be\", \"the dog who has captured the most drugs in Mexican police and military history\")\n",
      "-\n"
     ]
    },
    {
     "name": "stderr",
     "output_type": "stream",
     "text": [
      " 65%|█████████████████████████████████████████████████████████████████████████████████████████████████▌                                                    | 507/780 [1:23:12<43:50,  9.64s/it]"
     ]
    },
    {
     "name": "stdout",
     "output_type": "stream",
     "text": [
      "\n",
      "(\"Titanic\", \"was length\",8 \"82 feet 9 inches\")\n",
      "(\"Titanic\", \"was length\", \"269.06 m\")\n",
      "(\"Titanic\", \"had breadth\", \"92 feet 6 inches\")\n",
      "(\"Titanic\", \"had breadth\", \"28.19 m\")\n",
      "(\"Titanic\", \"total height\", \"104 feet\")\n",
      "(\"Titanic\", \"total height\", \"32 m\")\n",
      "(\"Titanic\", \"was gross register tons\", \"46328\")\n",
      "(\"Titanic\", \"had draught\", \"34 feet 7 inches\")\n",
      "(\"Titanic\", \"had draught\", \"10.54 m\")\n",
      "(\"Titanic\", \"displaced\", \"52310 tons\")\n",
      "-\n"
     ]
    },
    {
     "name": "stderr",
     "output_type": "stream",
     "text": [
      " 65%|█████████████████████████████████████████████████████████████████████████████████████████████████▋                                                    | 508/780 [1:23:20<42:09,  9.30s/it]"
     ]
    },
    {
     "name": "stdout",
     "output_type": "stream",
     "text": [
      "\n",
      "(\"Gray whales\", \"measure from\", \"4.9 m (16 ft) in length for newborns\")\n",
      "(\"Gray whales\", \"measure from\", \"13 – 15 m (43 – 49 ft) for adults\")\n",
      "(\"Gray whales\", \"have females that tend to be slightly larger than adult males\", \"\")\n",
      "(\"Gray whales\", \"are a darker gray to black in color\", \"as newborns\")\n",
      "(\"Gray whales\", \"can reach\", \"40 t (44 short tons)\")\n",
      "(\"Gray whales\", \"have a typical range of\", \"15 – 33 t (17 – 36 short tons)\")\n",
      "(\"Gray whales\", \"make them\", \"the ninth largest sized species of cetacean\")\n",
      "-\n"
     ]
    },
    {
     "name": "stderr",
     "output_type": "stream",
     "text": [
      " 65%|█████████████████████████████████████████████████████████████████████████████████████████████████▉                                                    | 509/780 [1:23:35<49:28, 10.95s/it]"
     ]
    },
    {
     "name": "stdout",
     "output_type": "stream",
     "text": [
      "\n",
      "(\"Voldemort\", \"is the archenemy of\", \"Harry Potter\")\n",
      "(\"Harry Potter\", \"has\", \"the power to vanquish the Dark Lord\")\n",
      "(\"Voldemort\", \"attempts to murder\", \"the boy\")\n",
      "(\"Voldemort\", \"instead kills\", \"Lily and James Potter\")\n",
      "(\"Voldemort\", \"leaves\", \"Harry with a scar on his head in the shape of a lightning bolt\")\n",
      "(\"Voldemort\", \"refers to as\", \"You-Know-Who\")\n",
      "(\"Voldemort\", \"refers to as\", \"He Who Must Not Be Named\")\n",
      "(\"Voldemort\", \"refers to as\", \"the Dark Lord\")\n",
      "(\"Voldemort\", \"aims\", \"to rid the wizarding world of Muggle (non-magical) heritage\")\n",
      "(\"Voldemort\", \"aims\", \"to conquer both worlds, Muggle and wizarding\")\n",
      "(\"Voldemort\", \"aims\", \"to achieve pure-blood dominance\")\n",
      "(\"Voldemort\", \"is the last descendant of\", \"the wizard Salazar Slytherin\")\n",
      "(\"Salazar Slytherin\", \"is one of\", \"the four founders of Hogwarts School of Witchcraft and Wizardry\")\n",
      "(\"Voldemort\", \"is the leader of\", \"the Death Eaters\")\n",
      "(\"Death Eaters\", \"are dedicated to\", \"ridding the Wizarding World of Muggles\")\n",
      "\n",
      "-\n"
     ]
    },
    {
     "name": "stderr",
     "output_type": "stream",
     "text": [
      " 65%|██████████████████████████████████████████████████████████████████████████████████████████████████                                                    | 510/780 [1:23:46<49:01, 10.90s/it]"
     ]
    },
    {
     "name": "stdout",
     "output_type": "stream",
     "text": [
      "\n",
      "(\"Hippopotamus\", \"is the type genus of\", \"the family Hippopotamidae\")\n",
      "(\"pygmy hippopotamus\", \"belongs to\", \"a different genus in Hippopotamidae\")\n",
      "(\"a different genus in Hippopotamidae\", \"is either\", \"Choeropsis or Hexaprotodon\")\n",
      "(\"Hippopotamidae\", \"is sometimes known as\", \"hippopotamids\")\n",
      "(\"Hippopotamidae\", \"is sometimes grouped in\", \"the subfamily Hippopotaminae\")\n",
      "(\"Hippopotamidae\", \"is sometimes grouped in\", \"the superfamily Anthracotheroidea\")\n",
      "(\"Hippopotamidae\", \"are classified with\", \"other even-toed ungulates in the order Artiodactyla\")\n",
      "(\"Artiodactyla\", \"includes other animals\", \"such as camels, cattle, deer and pigs\")\n",
      "(\"Hippopotamidae\", \"are not closely related to\", \"camel, cattle, deer and pigs)\n",
      "-\n"
     ]
    },
    {
     "name": "stderr",
     "output_type": "stream",
     "text": [
      " 66%|██████████████████████████████████████████████████████████████████████████████████████████████████▎                                                   | 511/780 [1:23:58<50:56, 11.36s/it]"
     ]
    },
    {
     "name": "stdout",
     "output_type": "stream",
     "text": [
      "\n",
      "(\"Lake Urmia\", \"is an endorheic salt lake in\", \"Iran\")\n",
      "(\"Lake Urmia\", \"is located between\", \"the provinces of East Azerbaijan and West Azerbaijan in Iran\")\n",
      "(\"Lake Urmia\", \"is west of\", \"the southern portion of the Caspian Sea\")\n",
      "(\"Lake Urmia\", \"has a surface area of\", \"approximately 5,200 km2 (2,000 sq mi)\")\n",
      "(\"Lake Urmia\", \"has a length of\", \"140 km (87 mi)\")\n",
      "(\"Lake Urmia\", \"has a width of\", \"55 km (34 mi)\")\n",
      "(\"Lake Urmia\", \"has a maximum depth of\", \"16 m (52 ft)\")\n",
      "(\"Lake Urmia\", \"shrunk to 10% of its former size in\", \"late 2017\")\n",
      "(\"Lake Urmia\", \"shrunk to 1/60 of water volume in\", \"1998\")\n",
      "(\"Lake Urmia's shrinking\", \"is attributed to\", \"persistent general drought in Iran, damming of the local rivers that flow into it, and the pumping of groundwater from the surrounding area\")\n",
      "(\"Lake Urmia's shrinking\", \"was broken in\", \"2019\")\n",
      "(\"Lake Urmia\", \"is now filling up once again\", \"\")\n",
      "-\n"
     ]
    },
    {
     "name": "stderr",
     "output_type": "stream",
     "text": [
      " 66%|██████████████████████████████████████████████████████████████████████████████████████████████████▍                                                   | 512/780 [1:24:16<58:54, 13.19s/it]"
     ]
    },
    {
     "name": "stdout",
     "output_type": "stream",
     "text": [
      "\n",
      "(\"pet dog\", \"aims to transform into\", \"ideal companion\")\n",
      "(\"list of goods, services and places\", \"available\", \"for pet dogs\")\n",
      "(\"dog perfumes\", \"category of goods\", \"for pet dogs\")\n",
      "(\"couture\", \"category of goods\", \"for pet dogs\")\n",
      "(\"furniture\", \"category of goods\", \"for pet dogs\")\n",
      "(\"housing\", \"category of goods\", \"for pet dogs\")\n",
      "(\"dog groomers\", \"category of services\", \"for pet dogs\")\n",
      "(\"therapists\", \"category of services\", \"for pet dogs\")\n",
      "(\"trainers\", \"category of services\", \"for pet dogs\")\n",
      "(\"caretakers\", \"category of services\", \"for pet dogs\")\n",
      "(\"dog cafes\", \"category of places\", \"for pet dogs\")\n",
      "(\"spas\", \"category of places\", \"for pet dogs\")\n",
      "(\"parks\", \"category of places\", \"for pet dogs\")\n",
      "(\"beaches\", \"category of places\", \"for pet dogs\")\n",
      "(\"dog hotels\", \"category of places\", \"for pet dogs\")\n",
      "(\"airlines\", \"category of places\", \"for pet dogs\")\n",
      "(\"cemeteries\", \"category of places\", \"for pet dogs\")\n",
      "(\"dog training\", \"organized activity\", \"since 18th century\")\n",
      "(\"dog behaviors\", \"became increasingly incompatible\", \"with the new role of a pet\n",
      "-\n"
     ]
    },
    {
     "name": "stderr",
     "output_type": "stream",
     "text": [
      " 66%|██████████████████████████████████████████████████████████████████████████████████████████████████▋                                                   | 513/780 [1:24:27<56:38, 12.73s/it]"
     ]
    },
    {
     "name": "stdout",
     "output_type": "stream",
     "text": [
      "\n",
      "(\"Stingrays\", \"are a group of\", \"sea rays\")\n",
      "(\"Stingrays\", \"are related to\", \"sharks\")\n",
      "(\"Stingrays\", \"are endangered\", \"species\")\n",
      "(\"Stingrays\", \"are classified in the suborder\", \"Myliobatoidei\")\n",
      "(\"Stingrays\", \"are classified in the order\", \"Myliobatiformes\")\n",
      "(\"Stingrays\", \"consist of\", \"eight families\")\n",
      "(\"Hexatrygonidae\", \"is a kind of\", \"stingray\")\n",
      "(\"Plesiobatidae\", \"is a kind of\", \"deepwater stingray\")\n",
      "(\"Urolophidae\", \"is a kind of\", \"stingarees\")\n",
      "(\"Urotrygonidae\", \"is a kind of\", \"round rays\")\n",
      "(\"Dasyatidae\", \"is a kind of\", \"whiptail stingrays\")\n",
      "(\"Potamotrygonidae\", \"is a kind of\", \"river stingrays\")\n",
      "(\"Gymnuridae\", \"is a kind of\", \"butterfly rays\")\n",
      "(\"Myliobatidae\", \"is a kind of\", \"eagle rays\")\n",
      "-\n"
     ]
    },
    {
     "name": "stderr",
     "output_type": "stream",
     "text": [
      " 66%|██████████████████████████████████████████████████████████████████████████████████████████████████▊                                                   | 514/780 [1:24:38<53:39, 12.10s/it]"
     ]
    },
    {
     "name": "stdout",
     "output_type": "stream",
     "text": [
      "\n",
      "(\"A diary\", \"is a record\", \"originally in handwritten format\")\n",
      "(\"A diary\", \"has discrete entries\", \"arranged by date\")\n",
      "(\"A diary\", \"reports on\", \"what has happened over the course of a day or other period\")\n",
      "(\"A personal diary\", \"may include\", \"a person's experiences, thoughts, and/or feelings\")\n",
      "(\"A personal diary\", \"excludes comments on\", \"current events outside the writers direct experience\")\n",
      "(\"Someone\", \"who keeps a diary\", \"is known as a diarist\")\n",
      "(\"Diaries\", \"undertaken for institutional purposes\", \"play a role in many aspects of human civilization\")\n",
      "(\"Diaries\", \"include\", \"government records, business ledgers, and military records\")\n",
      "(\"In British English\", \"the word\", \"may also denote a preprinted journal format\")\n",
      "(\"A diary\", \"is a collection of\", \"notes\")\n",
      "-\n"
     ]
    },
    {
     "name": "stderr",
     "output_type": "stream",
     "text": [
      " 66%|███████████████████████████████████████████████████████████████████████████████████████████████████                                                   | 515/780 [1:24:53<56:51, 12.87s/it]"
     ]
    },
    {
     "name": "stdout",
     "output_type": "stream",
     "text": [
      "\n",
      "(\"non-human hominoids\", \"are thought of as\", \"highly intelligent\")\n",
      "(\"non-human hominoids\", \"perform well on\", \"a wide range of cognitive tests\")\n",
      "(\"non-human hominoids\", \"has relatively little data on\", \"gibbon cognition\")\n",
      "(\"Wolfgang Köhler\", \"demonstrated\", \"exceptional problem-solving abilities in chimpanzees\")\n",
      "(\"Wolfgang Köhler\", \"attributed\", \"insight\")\n",
      "(\"the use of tools\", \"has been\", \"repeatedly demonstrated\")\n",
      "(\"the manufacture of tools\", \"has been documented\", \"both in the wild and in laboratory tests\")\n",
      "(\"Imitation\", \"is more easily demonstrated in\", \"great apes\")\n",
      "(\"animal language acquisition\", \"has been done with\", \"great apes\")\n",
      "(\"animal language acquisition\", \"continues to be disputed\", \"on whether they demonstrate real language abilities\")\n",
      "(\"Chimpanzees in different parts of Africa\", \"have developed tools\", \" that are used in food acquisition\")\n",
      "(\"Chimpanzees in different parts of Africa\", \"demonstrate\", \"a form of animal culture\")\n",
      "-\n"
     ]
    },
    {
     "name": "stderr",
     "output_type": "stream",
     "text": [
      " 66%|█████████████████████████████████████████████████████████████████████████████████████████████████▉                                                  | 516/780 [1:25:09<1:00:57, 13.86s/it]"
     ]
    },
    {
     "name": "stdout",
     "output_type": "stream",
     "text": [
      "\n",
      "(\"Red Sea\", \"has a climate\", \"result of two monsoon seasons\")\n",
      "(\"Red Sea\", \"has a climate\", \"result of a northeasterly monsoon\")\n",
      "(\"Red Sea\", \"has a climate\", \"result of a southwesterly monsoon\")\n",
      "(\"Red Sea\", \"has a climate\", \"result of differential heating between the land and the sea\")\n",
      "(\"Red Sea\", \"has very high surface temperatures\", \"high salinities\")\n",
      "(\"Red Sea\", \"has an average surface water temperature of\", \"26 °C (79 °F) in the north during the summer\")\n",
      "(\"Red Sea\", \"has an average surface water temperature of\", \"30 °C (86 °F) in the south during the summer\")\n",
      "(\"Red Sea\", \"has an average water temperature of\", \"22 °C (72 °F)\")\n",
      "(\"Red Sea\", \"has temperatures and visibility that remain good to\", \"around 200 m (656 ft)\")\n",
      "(\"Red Sea\", \"is known for\", \"strong winds\")\n",
      "(\"Red Sea\", \"is known for\", \"unpredictable local currents\")\n",
      "-\n"
     ]
    },
    {
     "name": "stderr",
     "output_type": "stream",
     "text": [
      " 66%|██████████████████████████████████████████████████████████████████████████████████████████████████                                                  | 517/780 [1:25:23<1:00:58, 13.91s/it]"
     ]
    },
    {
     "name": "stdout",
     "output_type": "stream",
     "text": [
      "\n",
      "(\"Japanese spider crab\", \"has the greatest leg span of any arthropod\", \"reaching up to 3.7 metres (12.1 ft) from claw to claw\")\n",
      "(\"Japanese spider crab\", \"can weigh up to\", \"19kg (42lb)\")\n",
      "(\"Japanese spider crab\", \"Japanese name is\", \"taka-ashi-gani\")\n",
      "(\"Japanese spider crab\", \"has unique\", \"molting behavior\")\n",
      "(\"Japanese spider crab\", \"armored exoskeleton protects from\", \"larger predators\") \n",
      "(\"Japanese spider crab\", \"uses\", \"camouflage\") \n",
      "(\"Japanese spider crab\", \"camouflage is achieved by\", \"adorning its shell with sponges and other animals\")\n",
      "(\"Japanese spider crab\", \"orient and shape material by\", \"bringing it to the crab's mouthparts\")\n",
      "(\"Japanese spider crab\", \"attach material through\", \"mechanical adhesion and secretions\")\n",
      "(\"Japanese spider crab\", \"camouflage does not rely on\", \"matching colors\")\n",
      "(\"Japanese spider crab\", \"camouflage relies on\", \"disguising its entire structure\")\n",
      "-\n"
     ]
    },
    {
     "name": "stderr",
     "output_type": "stream",
     "text": [
      " 66%|██████████████████████████████████████████████████████████████████████████████████████████████████▎                                                 | 518/780 [1:25:38<1:01:59, 14.20s/it]"
     ]
    },
    {
     "name": "stdout",
     "output_type": "stream",
     "text": [
      "\n",
      "(\"Spider wasps\", \"are distinguished by\", \"having a transverse groove bisecting the mesopleuron\")\n",
      "(\"Spider wasps\", \"have antennae with\", \"10 flagellomeres in the female and 11 in the male\")\n",
      "(\"Spider wasps\", \"have straight inner eye margins\", \"\")\n",
      "(\"Spider wasps\", \"do not have\", \"a distinct claval lobe\")\n",
      "(\"Spider wasps\", \"have a\", \"distinctive jugal lobe\")\n",
      "(\"Spider wasps\", \"have a tibial spur with\", \"a tuft or row of fine hairs\")\n",
      "(\"Spider wasps\", \"have legs\", \"long and slender\")\n",
      "(\"Spider wasps\", \"have tibia\", \"long enough to extend beyond the tip of the abdomen\")\n",
      "(\"Spider wasps\", \"have sexual dimorphism\", \"not pronounced\")\n",
      "(\"Females\", \"are often larger than\", \"the males\")\n",
      "(\"Spider wasps\", \"have general coloration\", \"based on black, often with markings of orange, red, yellow, or white\")\n",
      "(\"Larvae\", \"can be identified by\", \"physical examination\")\n",
      "-\n"
     ]
    },
    {
     "name": "stderr",
     "output_type": "stream",
     "text": [
      " 67%|███████████████████████████████████████████████████████████████████████████████████████████████████▊                                                  | 519/780 [1:25:47<56:03, 12.89s/it]"
     ]
    },
    {
     "name": "stdout",
     "output_type": "stream",
     "text": [
      "\n",
      "(\"Wolverine\", \"is found primarily in\", \"remote reaches of the Northern boreal forests and subarctic and alpine tundra of the Northern Hemisphere\")\n",
      "(\"Wolverine\", \"has greatest numbers in\", \"Northern Canada\")\n",
      "(\"Wolverine\", \"has greatest numbers in\", \"the American state of Alaska\")\n",
      "(\"Wolverine\", \"has greatest numbers in\", \"the mainland Nordic countries of Europe\")\n",
      "(\"Wolverine\", \"has greatest numbers in\", \"western Russia and Siberia\")\n",
      "(\"Wolverine\", \"has population that has\", \"steadily declined since the 19th century\")\n",
      "(\"Wolverine\", \"population has declined due to\", \"trapping\")\n",
      "(\"Wolverine\", \"population has declined due to\", \"range reduction\")\n",
      "(\"Wolverine\", \"population has declined due to\", \"habitat fragmentation\")\n",
      "(\"Wolverine\", \"is essentially absent from\", \"the southern end of its European range\")\n",
      "-\n"
     ]
    },
    {
     "name": "stderr",
     "output_type": "stream",
     "text": [
      " 67%|████████████████████████████████████████████████████████████████████████████████████████████████████                                                  | 520/780 [1:26:00<54:58, 12.69s/it]"
     ]
    },
    {
     "name": "stdout",
     "output_type": "stream",
     "text": [
      "\n",
      "(\"captive giraffes from northwestern Africa\", \"are in\", \"French zoological parks\")\n",
      "(\"captive giraffes from northwestern Africa\", \"are descendants of\", \"G. c. peralta\")\n",
      "(\"G. c. peralta\", \"has been reclassified as\", \"Kordofan giraffes (G. c. antiquorum)\")\n",
      "(\"West African giraffe\", \"is more closely related to\", \"giraffes of East Africa\")\n",
      "(\"West African giraffe\", \"may have migrated from\", \"East to North Africa during the Quaternary\")\n",
      "(\"West African giraffe\", \"may have migrated to\", \"West Africa with the development of the Sahara desert\")\n",
      "(\"West African giraffe\", \"may have been separated from\", \"Kordofan giraffes during the Holocene\")\n",
      "(\"Lake Chad\", \"acted as a barrier between\", \"West African and Kordofan giraffes\")\n",
      "-\n"
     ]
    },
    {
     "name": "stderr",
     "output_type": "stream",
     "text": [
      " 67%|██████████████████████████████████████████████████████████████████████████████████████████████████▊                                                 | 521/780 [1:26:20<1:05:07, 15.09s/it]"
     ]
    },
    {
     "name": "stdout",
     "output_type": "stream",
     "text": [
      "\n",
      "(\"Common carp\", \"contributed around\", \"4.67 million tons (Mt) on a global scale during 2015–2016\")\n",
      "(\"Common carp\", \"accounted for\", \"7.4% of the total global inland fisheries production\")\n",
      "(\"Common carp\", \"contributed\", \"1.8% (0.17 Mt) of the total inland fisheries production (9.42 Mt) during 2015–2016\")\n",
      "(\"Common carp\", \"is a major farmed species in\", \"European freshwater aquaculture\")\n",
      "(\"Common carp\", \"is mainly produced in\", \"central and eastern European countries\")\n",
      "(\"Russian Federation\", \"produced\", \"0.06 Mt of common carp during 2016\")\n",
      "(\"Poland\", \"produced\", \"0.02 Mt of common carp during 2016\")\n",
      "(\"Czech Republic\", \"produced\", \"0.02 Mt of common carp during 2016\")\n",
      "(\"Hungary\", \"produced\", \"0.01 Mt of common carp during 2016\")\n",
      "(\"Ukraine\", \"produced\", \"0.01 Mt of common carp during 2016\")\n",
      "(\"Central Eastern European Region (CEER)\", \"is often criticized for\", \"eutrophication of inland freshwater bodies\")\n",
      "(\"Environmentalists\", \"are debating\", \"with carp farmers concerning eutrophication of water bodies\")\n",
      "(\"Lobbying\", \"occurs at ministry levels concerning\", \"fishpond legislations\")\n",
      "-\n"
     ]
    },
    {
     "name": "stderr",
     "output_type": "stream",
     "text": [
      " 67%|████████████████████████████████████████████████████████████████████████████████████████████████████▍                                                 | 522/780 [1:26:24<49:36, 11.53s/it]"
     ]
    },
    {
     "name": "stdout",
     "output_type": "stream",
     "text": [
      "\n",
      "(\"depending on the country\", \"has different\", \"driver's license categories\")\n",
      "(\"practical test\", \"includes\", \"driving on the public, open road\")\n",
      "(\"practical test\", \"includes\", \"maneuverability test\")\n",
      "(\"maneuverability test\", \"carried out in\", \"controlled environment\")\n",
      "-\n"
     ]
    },
    {
     "name": "stderr",
     "output_type": "stream",
     "text": [
      " 67%|████████████████████████████████████████████████████████████████████████████████████████████████████▌                                                 | 523/780 [1:26:34<47:41, 11.13s/it]"
     ]
    },
    {
     "name": "stdout",
     "output_type": "stream",
     "text": [
      "\n",
      "(\"Speed limits\", \"in the United States are set by\", \"each state or territory\")\n",
      "(\"States\", \"have allowed\", \"counties and municipalities to enact typically lower limits\")\n",
      "(\"Highway speed limits\", \"can range from\", \"an urban low of 20 mph (32 km/h)\")\n",
      "(\"Highway speed limits\", \"can range from\", \"a rural high of 85 mph (137 km/h)\")\n",
      "(\"Speed limits\", \"are typically posted in increments of\", \"five miles per hour (8 km/h)\")\n",
      "(\"Some states\", \"have lower limits for\", \"trucks and at night\")\n",
      "(\"Some states\", \"have\", \"minimum speed limits\")\n",
      "-\n"
     ]
    },
    {
     "name": "stderr",
     "output_type": "stream",
     "text": [
      " 67%|████████████████████████████████████████████████████████████████████████████████████████████████████▊                                                 | 524/780 [1:26:54<59:25, 13.93s/it]"
     ]
    },
    {
     "name": "stdout",
     "output_type": "stream",
     "text": [
      "\n",
      "(\"Rhinocerotidae\", \"consists of\", \"four extant genera\")\n",
      "(\"Ceratotherium\", \"belongs to\", \"The tribe Dicerotini\")\n",
      "(\"Diceros\", \"belongs to\", \"The tribe Dicerotini\")\n",
      "(\"Dicerorhinus\", \"belongs to\", \"The tribe Dicerotini\")\n",
      "(\"Rhinoceros\", \"belongs to\", \"The tribe Dicerotini\")\n",
      "(\"The two African species\", \"are\", \"white rhinoceros and black rhinoceros\")\n",
      "(\"White rhinoceros\", \"belongs to\", \"The tribe Dicerotini\")\n",
      "(\"Black rhinoceros\", \"belongs to\", \"The tribe Dicerotini\")\n",
      "(\"The tribe Dicerotini\", \"originated in\", \"The middle Miocene\")\n",
      "(\"The tribe Dicerotini\", \"developed in\", \"The early Pliocene\")\n",
      "(\"White rhinoceros\", \"has\", \"broad flat lips for grazing\")\n",
      "(\"Black rhinoceros\", \"has\", \"long pointed lips for eating foliage\")\n",
      "(\"Indian rhinoceros\", \"diverged from\", \"Javan rhinoceros\")\n",
      "(\"Indian rhinoceros\", \"diverged\", \"about 10 million years ago\")\n",
      "(\"Sumatran rhinoceros\", \"is the only surviving\n",
      "-\n"
     ]
    },
    {
     "name": "stderr",
     "output_type": "stream",
     "text": [
      " 67%|████████████████████████████████████████████████████████████████████████████████████████████████████▉                                                 | 525/780 [1:27:02<51:00, 12.00s/it]"
     ]
    },
    {
     "name": "stdout",
     "output_type": "stream",
     "text": [
      "\n",
      "(\"Hippopotamidae\", \"are believed to have evolved in\", \"Africa\")\n",
      "(\"Kenyapotamus\", \"lived in\", \"Africa from 16 to 8 million years ago\")\n",
      "(\"Hippopotamid species\", \"spread across\", \"Asia and Europe\")\n",
      "(\"No hippos\", \"discovered in\", \"the Americas\")\n",
      "(\"Various anthracothere genera\", \"emigrated into\", \"North America during the early Oligocene\")\n",
      "(\"Archaeopotamus\", \"lived in\", \"Africa and the Middle East from 7.5 to 1.8 million years ago\")\n",
      "(\"Archaeopotamus\", \"is an ancestor to\", \"the modern hippo\")\n",
      "-\n"
     ]
    },
    {
     "name": "stderr",
     "output_type": "stream",
     "text": [
      " 67%|███████████████████████████████████████████████████████████████████████████████████████████████████▊                                                | 526/780 [1:27:22<1:00:59, 14.41s/it]"
     ]
    },
    {
     "name": "stdout",
     "output_type": "stream",
     "text": [
      "\n",
      "(\"James Salibabu island\", \"is located in\", \"North Sulawesi\")\n",
      "(\"14-year-old boy\", \"was killed by\", \"a specimen 5.17 meters long\")\n",
      "(\"14-year-old boy\", \"was supposedly\", \"eaten\")\n",
      "(\"woman\", \"was reputedly eaten by\", \"a large reticulated python\")\n",
      "(\"jeweller\", \"sought shelter from\", \"a rainstorm\")\n",
      "(\"jeweller\", \"was apparently eaten by\", \"a 6 meter python\")\n",
      "(\"Frank Buck\", \"wrote about\", \"a teenaged boy killed by a reticulated python\")\n",
      "(\"teenaged boy\", \"was killed by\", \"a pet 25-ft reticulated python\")\n",
      "(\"Aeta negritos\", \"experienced six deaths by\", \"pythons\")\n",
      "(\"29-year-old rubber tapper\", \"was killed by\", \"a large reticulated python\")\n",
      "(\"25-year-old woman\", \"was killed by\", \"a 13-foot pet reticulated python\")\n",
      "(\"3-year-old boy\", \"was wrapped in the coils of\", \"a 18 ft pet reticulated python\")\n",
      "(\"59-year-old security guard\", \"was strangled to death while trying to capture\", \"a python near the Bali Hyatt\")\n",
      "(\"Akbar Salubiro\", \"was killed by\", \"a 7\n",
      "-\n"
     ]
    },
    {
     "name": "stderr",
     "output_type": "stream",
     "text": [
      " 68%|█████████████████████████████████████████████████████████████████████████████████████████████████████▎                                                | 527/780 [1:27:32<55:42, 13.21s/it]"
     ]
    },
    {
     "name": "stdout",
     "output_type": "stream",
     "text": [
      "\n",
      "(\"Chives\", \"scientific name\", \"Allium schoenoprasum\")\n",
      "(\"Chives\", \"are an edible species of\", \"the genus Allium\") \n",
      "(\"Chives\", \"are related to\", \"common onions\")\n",
      "(\"Chives\", \"are related to\", \"garlic\")\n",
      "(\"Chives\", \"are related to\", \"shallot\")\n",
      "(\"Chives\", \"are related to\", \"leek\")\n",
      "(\"Chives\", \"are related to\", \"scallion\")\n",
      "(\"Chives\", \"are related to\", \"Chinese onion\")\n",
      "-\n"
     ]
    },
    {
     "name": "stderr",
     "output_type": "stream",
     "text": [
      " 68%|█████████████████████████████████████████████████████████████████████████████████████████████████████▌                                                | 528/780 [1:27:39<47:55, 11.41s/it]"
     ]
    },
    {
     "name": "stdout",
     "output_type": "stream",
     "text": [
      "\n",
      "(\"Sloth\", \"is named after\", \"the word slow\")\n",
      "(\"Sloth\", \"has a low-energy diet of\", \"leaves\")\n",
      "(\"Sloth\", \"avoids detection by\", \"predatory hawks and cats\")\n",
      "(\"Sloth\", \"is able to\", \"swim\")\n",
      "(\"Sloth\", \"has a shaggy coat\", \"host to symbiotic green algae\")\n",
      "(\"Symbiotic green algae\", \"provides nutrients for\", \"sloth\")\n",
      "(\"Symbiotic green algae\", \"camouflages the animal\", \"in the trees\")\n",
      "(\"Sloth moths\", \"exist solely on\", \"sloths\")\n",
      "-\n"
     ]
    },
    {
     "name": "stderr",
     "output_type": "stream",
     "text": [
      " 68%|█████████████████████████████████████████████████████████████████████████████████████████████████████▋                                                | 529/780 [1:27:42<37:04,  8.86s/it]"
     ]
    },
    {
     "name": "stdout",
     "output_type": "stream",
     "text": [
      "\n",
      "(\"Terrestrial tortoises\", \"have\", \"short, sturdy feet\")\n",
      "(\"Tortoises\", \"are famous for\", \"moving slowly\")\n",
      "(\"Tortoises\", \"have\", \"heavy, cumbersome shells\")\n",
      "(\"Heavy, cumbersome shells\", \"restrict\", \"stride length\")\n",
      "-\n"
     ]
    },
    {
     "name": "stderr",
     "output_type": "stream",
     "text": [
      " 68%|█████████████████████████████████████████████████████████████████████████████████████████████████████▉                                                | 530/780 [1:27:51<37:05,  8.90s/it]"
     ]
    },
    {
     "name": "stdout",
     "output_type": "stream",
     "text": [
      "\n",
      "(\"Yucatán Peninsula\", \"is in\", \"southeastern Mexico\")\n",
      "(\"Yucatán Peninsula\", \"separates the\", \"Caribbean Sea\")\n",
      "(\"Yucatán Peninsula\", \"separates the\", \"Gulf of Mexico\")\n",
      "(\"Yucatán Peninsula\", \"has a northern coastline on the\", \"Yucatán Channel\")\n",
      "(\"Yucatán Peninsula\", \"lies east of\", \"the Isthmus of Tehuantepec\")\n",
      "(\"Isthmus of Tehuantepec\", \"is a northeastern partition separating\", \"Central America\")\n",
      "(\"Isthmus of Tehuantepec\", \"separates from\", \"North America\")\n",
      "(\"Yucatán Peninsula\", \"is approximately\", \"181,000 km2\")\n",
      "(\"Yucatán Peninsula\", \"is almost entirely composed of\", \"limestone\")\n",
      "-\n"
     ]
    },
    {
     "name": "stderr",
     "output_type": "stream",
     "text": [
      " 68%|██████████████████████████████████████████████████████████████████████████████████████████████████████                                                | 531/780 [1:27:57<33:14,  8.01s/it]"
     ]
    },
    {
     "name": "stdout",
     "output_type": "stream",
     "text": [
      "\n",
      "(\"Florida\", \"has a\", \"subtropical and tropical climate\")\n",
      "(\"Florida\", \"rarely receives\", \"measurable snowfall\")\n",
      "(\"Florida\", \"can receive\", \"snowfall on rare occasions\")\n",
      "(\"Florida\", \"receives frost\", \"more commonly than snow\")\n",
      "(\"Florida\", \"has a USDA Plant Hardiness range from zone\", \"8a to 11b\")\n",
      "(\"Florida\", \"experiences\", \"fog all over the state\")\n",
      "-\n"
     ]
    },
    {
     "name": "stderr",
     "output_type": "stream",
     "text": [
      " 68%|██████████████████████████████████████████████████████████████████████████████████████████████████████▎                                               | 532/780 [1:28:03<30:13,  7.31s/it]"
     ]
    },
    {
     "name": "stdout",
     "output_type": "stream",
     "text": [
      "\n",
      "(\"Goldfish-specific food\", \"has less\", \"protein\")\n",
      "(\"Goldfish-specific food\", \"has more\", \"carbohydrate\")\n",
      "(\"Goldfish-specific food\", \"in comparison to\", \"conventional fish food\")\n",
      "(\"Enthusiasts\", \"may supplement\", \"this diet with shelled peas (with outer skins removed), blanched green leafy vegetables, and bloodworms\")\n",
      "(\"Young goldfish\", \"benefit from the addition of\", \"brine shrimp to their diet\")\n",
      "(\"Goldfish\", \"vary in\", \"preferences\")\n",
      "-\n"
     ]
    },
    {
     "name": "stderr",
     "output_type": "stream",
     "text": [
      " 68%|██████████████████████████████████████████████████████████████████████████████████████████████████████▌                                               | 533/780 [1:28:11<30:27,  7.40s/it]"
     ]
    },
    {
     "name": "stdout",
     "output_type": "stream",
     "text": [
      "\n",
      "(\"A slam dunk\", \"is also known as\", \"simply dunk\")\n",
      "(\"A slam dunk\", \"is a type of\", \"basketball shot\")\n",
      "(\"A slam dunk\", \"is achieved by\", \"jumping in the air, controlling the ball above the horizontal plane of the rim, and scoring by putting the ball directly through the basket with one or both hands above the rim\")\n",
      "(\"A slam dunk\", \"is worth\", \"two points\")\n",
      "(\"A slam dunk\", \"was known as\", \"dunk shot\")\n",
      "(\"A slam dunk\", \"was coined by\", \"former Los Angeles Lakers announcer Chick Hearn\")\n",
      "-\n"
     ]
    },
    {
     "name": "stderr",
     "output_type": "stream",
     "text": [
      " 68%|██████████████████████████████████████████████████████████████████████████████████████████████████████▋                                               | 534/780 [1:28:15<27:18,  6.66s/it]"
     ]
    },
    {
     "name": "stdout",
     "output_type": "stream",
     "text": [
      "\n",
      "(\"chinchilla\", \"has\", \"the densest fur of all mammals that live on land\")\n",
      "(\"sea otter\", \"has\", \"a denser coat than chinchilla\")\n",
      "(\"chinchilla\", \"is named after\", \"the Chincha people of the Andes\")\n",
      "(\"chinchillas\", \"were hunted for\", \"their ultra-soft fur\")\n",
      "(\"chinchillas\", \"are currently used by\", \"the fur industry for clothing and other accessories\")\n",
      "(\"chinchillas\", \"descended from\", \"C. lanigera\")\n",
      "(\"chinchillas\", \"are sometimes kept as\", \"pets\")\n",
      "-\n"
     ]
    },
    {
     "name": "stderr",
     "output_type": "stream",
     "text": [
      " 69%|██████████████████████████████████████████████████████████████████████████████████████████████████████▉                                               | 535/780 [1:28:23<28:07,  6.89s/it]"
     ]
    },
    {
     "name": "stdout",
     "output_type": "stream",
     "text": [
      "\n",
      "(\"Canary Islands\",\"located in\", \"the Atlantic Ocean\")\n",
      "(\"Canary Islands\",\"in a region known as\", \"Macaronesia\")\n",
      "(\"Canary Islands\",\"100 kilometers away from\", \"Morocco\")\n",
      "(\"Canary Islands\",\"one of eight regions with special consideration of historical nationality as recognized by the Spanish government\", \"true\")\n",
      "(\"Canary Islands\",\"geographically located in\", \"the African Tectonic Plate\")\n",
      "(\"Canary Islands\",\"economically and politically\", \"European\")\n",
      "(\"Canary Islands\",\"part of\", \"the European Union\")\n",
      "-\n"
     ]
    },
    {
     "name": "stderr",
     "output_type": "stream",
     "text": [
      " 69%|███████████████████████████████████████████████████████████████████████████████████████████████████████                                               | 536/780 [1:28:28<25:51,  6.36s/it]"
     ]
    },
    {
     "name": "stdout",
     "output_type": "stream",
     "text": [
      "\n",
      "(\"Bing\", \"is a\", \"web search engine\")\n",
      "(\"Bing\", \"is owned and operated by\", \"Microsoft\")\n",
      "(\"Bing\", \"has its origins in\", \"MSN Search, Windows Live Search and later Live Search\")\n",
      "(\"Bing\", \"provides\", \"a variety of search services\")\n",
      "(\"A variety of search services\", \"include\", \"web, video, image and map search products\")\n",
      "(\"Bing\", \"is developed using\", \"ASP.NET\")\n",
      "-\n"
     ]
    },
    {
     "name": "stderr",
     "output_type": "stream",
     "text": [
      " 69%|███████████████████████████████████████████████████████████████████████████████████████████████████████▎                                              | 537/780 [1:28:38<30:44,  7.59s/it]"
     ]
    },
    {
     "name": "stdout",
     "output_type": "stream",
     "text": [
      "\n",
      "(\"A hand\", \"is a\", \"prehensile, multi-fingered appendage\")\n",
      "(\"A hand\", \"is located\", \"at the end of the forearm or forelimb\")\n",
      "(\"A hand\", \"belongs to\", \"primates such as humans, chimpanzees, monkeys, and lemurs\")\n",
      "(\"A few other vertebrates\", \"are described as having\", \"hands instead of paws on their front limbs\")\n",
      "(\"The koala\", \"has\", \"two opposable thumbs on each 'hand'\")\n",
      "(\"The koala\", \"has fingerprints\", \"extremely similar to human fingerprints\")\n",
      "(\"The raccoon\", \"is usually described as having\", \"hands\")\n",
      "(\"The raccoon\", \"lacks\", \"opposable thumbs\")\n",
      "-\n"
     ]
    },
    {
     "name": "stderr",
     "output_type": "stream",
     "text": [
      " 69%|███████████████████████████████████████████████████████████████████████████████████████████████████████▍                                              | 538/780 [1:28:47<31:14,  7.74s/it]"
     ]
    },
    {
     "name": "stdout",
     "output_type": "stream",
     "text": [
      "\n",
      "(\"Stingrays\", \"are common in\", \"coastal tropical and subtropical marine waters throughout the world\")\n",
      "(\"Dasyatis thetidis\", \"are found in\", \"warmer temperate oceans\")\n",
      "(\"Plesiobatis daviesi\", \"are found in\", \"the deep ocean\")\n",
      "(\"River stingrays\", \"are restricted to\", \"fresh water\")\n",
      "(\"Myliobatoids\", \"are usually\", \"demersal\")\n",
      "(\"Pelagic stingray\", \"are\", \"pelagic\")\n",
      "(\"Eagle rays\", \"are\", \"pelagic\")\n",
      "-\n"
     ]
    },
    {
     "name": "stderr",
     "output_type": "stream",
     "text": [
      " 69%|███████████████████████████████████████████████████████████████████████████████████████████████████████▋                                              | 539/780 [1:29:06<45:22, 11.30s/it]"
     ]
    },
    {
     "name": "stdout",
     "output_type": "stream",
     "text": [
      "\n",
      "(\"setting\", \"based on\", \"Norway\")\n",
      "(\"cultural influences\", \"come from\", \"Scandinavian culture\")\n",
      "(\"Nidaros Cathedral\", \"located in\", \"Trondheim\")\n",
      "(\"Bryggen\", \"located in\", \"Bergen\")\n",
      "(\"stave churches\", \"are included in\", \"the film\")\n",
      "(\"Viking ship\", \"are included in\", \"the film\")\n",
      "(\"hot spring\", \"are included in\", \"the film\")\n",
      "(\"Fjord horses\", \"are included in\", \"the film\")\n",
      "(\"clothes\", \"are included in\", \"the film\")\n",
      "(\"lutefisk\", \"are included in\", \"the film\")\n",
      "(\"maypole\", \"are included in\", \"the film\")\n",
      "(\"runes\", \"appear in a book in\", \"the film\")\n",
      "(\"firewood\", \"stacked according to a discussion in\", \"the film\")\n",
      "(\"Sámi culture\", \"referenced in\", \"the film\")\n",
      "(\"reindeer\", \"used for transportation in\", \"the film\")\n",
      "(\"equipment\", \"used to control reindeer in\", \"the film\")\n",
      "(\"clothing styles\", \"are inspired by\", \"Sámi duodji decorations\")\n",
      "(\"Rørosrein\", \"are referenced in\", \"the film\")\n",
      "(\"Nærøyfjord\",\n",
      "-\n"
     ]
    },
    {
     "name": "stderr",
     "output_type": "stream",
     "text": [
      " 69%|███████████████████████████████████████████████████████████████████████████████████████████████████████▊                                              | 540/780 [1:29:10<36:33,  9.14s/it]"
     ]
    },
    {
     "name": "stdout",
     "output_type": "stream",
     "text": [
      "\n",
      "(\"Football games\", \"are played on\", \"a rectangular field\")\n",
      "(\"Rectangular field\", \"measures\", \"120 yards long and 53 1⁄3 yards wide\")\n",
      "(\"Rectangular field\", \"marked along the ends and sides as\", \"End lines and sidelines\")\n",
      "(\"Rectangular field\", \"marked with goal lines\", \"10 yards inward from each end line\")\n",
      "-\n"
     ]
    },
    {
     "name": "stderr",
     "output_type": "stream",
     "text": [
      " 69%|████████████████████████████████████████████████████████████████████████████████████████████████████████                                              | 541/780 [1:29:17<33:34,  8.43s/it]"
     ]
    },
    {
     "name": "stdout",
     "output_type": "stream",
     "text": [
      "\n",
      "(\"Antelopes\", \"vary greatly in\",\"size\")\n",
      "(\"Common Eland\", \"measures\", \"178 cm at the shoulder\")\n",
      "(\"Common Eland\", \"weighs\", \"almost 950 kg\")\n",
      "(\"Royal Antelope\", \"stands\", \"24 cm\")\n",
      "-\n"
     ]
    },
    {
     "name": "stderr",
     "output_type": "stream",
     "text": [
      " 69%|████████████████████████████████████████████████████████████████████████████████████████████████████████▏                                             | 542/780 [1:29:22<29:44,  7.50s/it]"
     ]
    },
    {
     "name": "stdout",
     "output_type": "stream",
     "text": [
      "\n",
      "(\"Hypothermia\", \"is defined as\", \"any body temperature below 35.0 °C (95.0 °F)\")\n",
      "(\"Hypothermia\", \"is divided into degrees of severity based on\", \"core temperature\")\n",
      "-\n"
     ]
    },
    {
     "name": "stderr",
     "output_type": "stream",
     "text": [
      " 70%|████████████████████████████████████████████████████████████████████████████████████████████████████████▍                                             | 543/780 [1:29:37<37:59,  9.62s/it]"
     ]
    },
    {
     "name": "stdout",
     "output_type": "stream",
     "text": [
      "\n",
      "(\"sea otter\", \"inhabits\", \"nearshore environments\")\n",
      "(\"sea otter\", \"dives to\", \"the sea floor to forage\")\n",
      "(\"sea otter\", \"preys on\", \"marine invertebrates\")\n",
      "(\"sea otter\", \"preys on\", \"various molluscs\")\n",
      "(\"sea otter\", \"preys on\", \"crustaceans\")\n",
      "(\"sea otter\", \"preys on\", \"some species of fish\")\n",
      "(\"sea otter\", \"uses\", \"rocks to dislodge prey\")\n",
      "(\"sea otter\", \"uses\", \"rocks to open shells\")\n",
      "(\"sea otter\", \"is a keystone species in\", \"most of its range\")\n",
      "(\"sea otter\", \"controls\", \"sea urchin populations\")\n",
      "(\"sea otter\", \"has prey species\", \"that are also valued by humans as food\")\n",
      "(\"sea otter\", \"leads to conflicts with\", \"fisheries\")\n",
      "-\n"
     ]
    },
    {
     "name": "stderr",
     "output_type": "stream",
     "text": [
      " 70%|████████████████████████████████████████████████████████████████████████████████████████████████████████▌                                             | 544/780 [1:29:47<38:34,  9.81s/it]"
     ]
    },
    {
     "name": "stdout",
     "output_type": "stream",
     "text": [
      "\n",
      "(\"Crustacea\", \"comprises\", \"almost 67,000 described species\")\n",
      "(\"67,000 described species\", \"is thought to be\", \"just ​1⁄10 to ​1⁄100 of the total number\")\n",
      "(\"the majority of species\", \"remain as yet\", \"undiscovered\")\n",
      "(\"Crustacea\", \"includes\", \"the largest arthropod in the world - the Japanese spider crab\")\n",
      "(\"Japanese spider crab\", \"has a leg span of\", \"3.7 metres (12 ft)\")\n",
      "(\"Crustacea\", \"includes\", \"the smallest - the 100-micrometre-long (0.004 in) Stygotantulus stocki\")\n",
      "(\"Crustacea\", \"are united by\", \"the special larval form known as the nauplius\")\n",
      "-\n"
     ]
    },
    {
     "name": "stderr",
     "output_type": "stream",
     "text": [
      " 70%|████████████████████████████████████████████████████████████████████████████████████████████████████████▊                                             | 545/780 [1:30:02<43:56, 11.22s/it]"
     ]
    },
    {
     "name": "stdout",
     "output_type": "stream",
     "text": [
      "\n",
      "(\"Juveniles\", \"reside in\", \"coastal feeding grounds\")\n",
      "(\"Green sea turtles\", \"reside in\", \"coastal feeding grounds\")\n",
      "(\"Loggerheads\", \"reside in\", \"coastal feeding grounds\")\n",
      "(\"Leatherbacks\", \"roam\", \"widely and unpredictably\")\n",
      "(\"Olive ridley turtles\", \"roam\", \"widely and unpredictably\")\n",
      "(\"Leatherbacks\", \"return to\", \"specific breeding sites\")\n",
      "(\"Satellite tracking\", \"showed\", \"leatherbacks tend to stay within relatively food-rich areas of the ocean during their migration\")\n",
      "(\"Kemp's ridley sea turtles\", \"migrate between\", \"breeding areas and a series of coastal foraging areas\")\n",
      "(\"Loggerheads\", \"migrate between\", \"breeding areas and a series of coastal foraging areas\")\n",
      "(\"Flatback sea turtles\", \"migrate between\", \"breeding areas and a series of coastal foraging areas\")\n",
      "(\"Green sea turtles\", \"shuttle between\", \"fixed foraging and nesting sites\")\n",
      "(\"Hawksbill sea turtles\", \"shuttle between\", \"fixed foraging and nesting sites\")\n",
      "(\"Both species of ridley sea turtle\", \"nest in\", \"large aggregations\")\n",
      "(\"Large aggregations\", \"is called a\", \"phenomenon called an arribada\")\n",
      "(\"Predators\", \"are unable to\n",
      "-\n"
     ]
    },
    {
     "name": "stderr",
     "output_type": "stream",
     "text": [
      " 70%|█████████████████████████████████████████████████████████████████████████████████████████████████████████                                             | 546/780 [1:30:06<35:48,  9.18s/it]"
     ]
    },
    {
     "name": "stdout",
     "output_type": "stream",
     "text": [
      "\n",
      "(\"Hobbyist\", \"breed\", \"goldfish\")\n",
      "(\"Process\", \"is\", \"selecting adult fish to reproduce\")\n",
      "(\"Process\", \"includes\", \"allowing them to reproduce\")\n",
      "(\"Process\", \"includes\", \"raising the resulting offspring\")\n",
      "(\"Process\", \"includes\", \"removing fish that do not approach the desired pedigree\")\n",
      "-\n"
     ]
    },
    {
     "name": "stderr",
     "output_type": "stream",
     "text": [
      " 70%|█████████████████████████████████████████████████████████████████████████████████████████████████████████▏                                            | 547/780 [1:30:23<44:13, 11.39s/it]"
     ]
    },
    {
     "name": "stdout",
     "output_type": "stream",
     "text": [
      "\n",
      "(\"Koalas\", \"inhabit\", \"open eucalypt woodlands\")\n",
      "(\"Koalas\", \"eat\", \"leaves from eucalypt trees\")\n",
      "(\"Koalas' diet\", \"has limited\", \"nutritional and caloric content\")\n",
      "(\"Koalas\", \"are sedentary and sleep\", \"up to 20 hours a day\")\n",
      "(\"Koalas\", \"are asocial animals\", \"and seldom bond\")\n",
      "(\"Adult males\", \"communicate with\", \"loud bellows\")\n",
      "(\"Adult males\", \"mark their presence with\", \"secretions from scent glands located on their chests\")\n",
      "(\"Koalas\", \"give birth to\", \"underdeveloped young\")\n",
      "(\"Underdeveloped young\", \"crawl into\", \"mothers' pouches\")\n",
      "(\"Underdeveloped young\", \"stay in mother's pouches for\", \"first 6-7 months of life\")\n",
      "(\"Young koalas\", \"are fully weaned at\", \"around one year old\")\n",
      "(\"Koalas'\", \"natural predators and parasites\", \"are few\")\n",
      "(\"Koalas\", \"are threatened by\", \"various pathogens\")\n",
      "(\"Pathogens\", \"include\", \"Chlamydiaceae bacteria and the koala retrovirus\")\n",
      "-\n"
     ]
    },
    {
     "name": "stderr",
     "output_type": "stream",
     "text": [
      " 70%|█████████████████████████████████████████████████████████████████████████████████████████████████████████▍                                            | 548/780 [1:30:27<36:06,  9.34s/it]"
     ]
    },
    {
     "name": "stdout",
     "output_type": "stream",
     "text": [
      "\n",
      "(\"Prionailurus bengalensis\", \"is listed in\", \"CITES Appendix II\")\n",
      "(\"Prionailurus bengalensis\", \"is protected under\", \"Wild Animals Protection Ordinance Cap 170\")\n",
      "(\"Prionailurus bengalensis\", \"has a population of\", \"over 50,000 individuals\")\n",
      "(\"Prionailurus bengalensis\", \"is not endangered\", \"although declining\")\n",
      "-\n"
     ]
    },
    {
     "name": "stderr",
     "output_type": "stream",
     "text": [
      " 70%|█████████████████████████████████████████████████████████████████████████████████████████████████████████▌                                            | 549/780 [1:30:39<38:32, 10.01s/it]"
     ]
    },
    {
     "name": "stdout",
     "output_type": "stream",
     "text": [
      "\n",
      "(\"Origin of the term 'racket'\", \"is\", \"unclear\")\n",
      "(\"Popular belief\", \"first published by\", \"tennis player Malcolm Whitman in 1932\")\n",
      "(\"Popular belief\", \"claims\", \"the expression comes from the Arabic term rahat al-yad meaning 'palm of hand'\")\n",
      "(\"Modern research\", \"holds the thesis in a highly questionable light\", \"instead\")\n",
      "(\"Term 'racket'\", \"more likely to be derived from\", \"Flemish word 'raketsen'\")\n",
      "(\"Flemish word 'raketsen'\", \"is itself derived from\", \"Middle French 'rachasser' meaning 'to strike (the ball) back'\")\n",
      "-\n"
     ]
    },
    {
     "name": "stderr",
     "output_type": "stream",
     "text": [
      " 71%|█████████████████████████████████████████████████████████████████████████████████████████████████████████▊                                            | 550/780 [1:30:55<45:29, 11.87s/it]"
     ]
    },
    {
     "name": "stdout",
     "output_type": "stream",
     "text": [
      "\n",
      "(\"Canadian Federation of Humane Societies\", \"has collected statistics from\", \"Canadian animal shelters since 1993\")\n",
      "(\"Survey in 2013\", \"included data from\", \"100 of 186 humane societies and SPCAs\")\n",
      "(\"Survey in 2013\", \"did not include\", \"municipal animal services agencies\")\n",
      "(\"Data in the report\", \"represents\", \"only a fraction of homeless companion animals in Canada\")\n",
      "(\"Surveyed shelters in 2012\", \"took in\", \"just over 188,000 animals\")\n",
      "(\"Surveyed shelters in 2012\", \"euthanized\", \"65,423 animals\")\n",
      "(\"Euthanized animals in 2012\", \"was 35% of\", \"all intakes\")\n",
      "(\"Euthanized cats in 2012\", \"was six times as many as\", \"euthanized dogs\")\n",
      "(\"Euthanized cats in 2012\", \"was 41% of\", \"all cats\")\n",
      "(\"Euthanized dogs in 2012\", \"was 15% of\", \"all dogs\")\n",
      "(\"Adoption rates for cats\", \"are similar to\", \"adoption rates for dogs\")\n",
      "(\"Fewer cats\", \"are reclaimed than\", \"dogs\")\n",
      "(\"Many more cats\", \"are euthanized than\", \"dogs\")\n",
      "-\n"
     ]
    },
    {
     "name": "stderr",
     "output_type": "stream",
     "text": [
      " 71%|█████████████████████████████████████████████████████████████████████████████████████████████████████████▉                                            | 551/780 [1:31:07<45:58, 12.05s/it]"
     ]
    },
    {
     "name": "stdout",
     "output_type": "stream",
     "text": [
      "\n",
      "(\"LEB\", \"estimated by\", \"statistical national agencies and international organizations\")\n",
      "(\"LEB\", \"was 26 years in\", \"the Bronze Age and the Iron Age\")\n",
      "(\"2010 world LEB\", \"was\", \"67.2 years\")\n",
      "(\"LEB in Eswatini\", \"is about\", \"49\")\n",
      "(\"LEB in Japan\", \"is about\", \"83\")\n",
      "(\"High infant mortality and deaths in young adulthood\", \"significantly lowers\", \"LEB\")\n",
      "(\"LEB\", \"is highly sensitive to\", \"the rate of death in the first few years of life\")\n",
      "(\"Life expectancy at age 5 (e5)\", \"can be used to exclude\", \"the effect of infant mortality\")\n",
      "(\"Aggregate population measures\", \"should be used with\", \"individual-based measures like formal life expectancy\")\n",
      "(\"Pre-modern societies\", \"had universally higher mortality rates and universally lower life expectancies\", \"at every age for both genders\")\n",
      "-\n"
     ]
    },
    {
     "name": "stderr",
     "output_type": "stream",
     "text": [
      " 71%|██████████████████████████████████████████████████████████████████████████████████████████████████████████▏                                           | 552/780 [1:31:28<55:08, 14.51s/it]"
     ]
    },
    {
     "name": "stdout",
     "output_type": "stream",
     "text": [
      "\n",
      "(\"Dogs\", \"are prone to\", \"certain genetic ailments\")\n",
      "(\"Elbow and hip dysplasia\", \"can affect\", \"dogs\")\n",
      "(\"Blindness\", \"can affect\", \"dogs\")\n",
      "(\"Deafness\", \"can affect\", \"dogs\")\n",
      "(\"Pulmonic stenosis\", \"can affect\", \"dogs\")\n",
      "(\"Cleft palate\", \"can affect\", \"dogs\")\n",
      "(\"Trick knees\", \"can affect\", \"dogs\")\n",
      "(\"Pyometra\", \"particularly affects\", \"unspayed females of all types and ages\")\n",
      "(\"Gastric dilatation volvulus (bloat)\", \"particularly affects\", \"the larger breeds or deep-chested dogs\")\n",
      "(\"Pyometra\", \"can kill\", \"rapidly\")\n",
      "(\"Gastric dilatation volvulus (bloat)\", \"can kill\", \"rapidly\")\n",
      "(\"Dogs\", \"are susceptible to\", \"parasites\")\n",
      "(\"Fleas\", \"can affect\", \"dogs\")\n",
      "(\"Ticks\", \"can affect\", \"dogs\")\n",
      "(\"Mites\", \"can affect\", \"dogs\")\n",
      "(\"Hookworms\", \"can affect\", \"dogs\")\n",
      "(\"Tapeworms\", \"can affect\", \"dogs\")\n",
      "(\"Roundworms\", \"can affect\", \"dogs\")\n",
      "(\"Heartworms\", \"can affect\", \"dogs\")\n",
      "-\n"
     ]
    },
    {
     "name": "stderr",
     "output_type": "stream",
     "text": [
      " 71%|██████████████████████████████████████████████████████████████████████████████████████████████████████████▎                                           | 553/780 [1:31:41<53:56, 14.26s/it]"
     ]
    },
    {
     "name": "stdout",
     "output_type": "stream",
     "text": [
      "\n",
      "(\"Rhinoceros horn\", \"misconception about use in\", \"Traditional Chinese Medicine\")\n",
      "(\"Rhinoceros horn\", \"is sometimes prescribed for\", \"fevers and convulsions\")\t\n",
      "(\"Rhinoceros horn\", \"treatment not supported by\", \"evidence-based medicine\")\n",
      "(\"Rhinoceros horn\", \"is compared to consuming\", \"fingernail clippings in water\")\n",
      "(\"China\", \"signed the CITES treaty in\", \"1993\")\n",
      "(\"Ministry of Health\" , \"administered\", \"Chinese medicine pharmacopeia\")\n",
      "(\"Register of Chinese Herbal Medicine in the United Kingdom\" , \"issued a formal statement condemning the use of\" ,\"rhinoceros horn in 2011\")\n",
      "(\"Growing number of TCM educators\", \"are speaking out against the practice of\", \"using rhinoceros horn\")\n",
      "(\"Some TCM practitioners\" ,\"believe that\", \"it is a life-saving medicine\")\n",
      "-\n"
     ]
    },
    {
     "name": "stderr",
     "output_type": "stream",
     "text": [
      " 71%|██████████████████████████████████████████████████████████████████████████████████████████████████████████▌                                           | 554/780 [1:31:55<52:42, 13.99s/it]"
     ]
    },
    {
     "name": "stdout",
     "output_type": "stream",
     "text": [
      "\n",
      "(\"Paul Donald Wight II\", \"was born on\", \"February 8, 1972\")\n",
      "(\"Paul Donald Wight II\", \"was born in\", \"Aiken, South Carolina\")\n",
      "(\"Paul Donald Wight II\", \"had\", \"acromegaly\")\n",
      "(\"acromegaly\", \"is a\", \"disease of the endocrine system\")\n",
      "(\"Paul Donald Wight II\", \"was\", \"6 ft 2 in (1.88 m) tall at age twelve\")\n",
      "(\"Paul Donald Wight II\", \"weighed\", \"220 lb (100 kg) at age twelve\")\n",
      "(\"Paul Donald Wight II\", \"had\", \"chest hair at age twelve\")\n",
      "(\"Paul Donald Wight II\", \"was listed at\", \"7 ft 1 in (2.16 m) while on the Wichita State University basketball team\")\n",
      "(\"Paul Donald Wight II\", \"underwent surgery on\", \"his pituitary gland in the early 1990s\")\n",
      "(\"Paul Donald Wight II's surgery\", \"halted the progress of\", \"his acromegaly\")\n",
      "(\"Paul Donald Wight II\", \"has a shoe size of\", \"22 5E\")\n",
      "(\"Paul Donald Wight II\", \"has a ring size of\", \"22\")\n",
      "(\"Paul Donald Wight II\", \"has a chest circumference of\", \"64 inches (1,600 mm)\")\n",
      "(\"Paul Donald Wight II\", \"\n",
      "-\n"
     ]
    },
    {
     "name": "stderr",
     "output_type": "stream",
     "text": [
      " 71%|██████████████████████████████████████████████████████████████████████████████████████████████████████████▋                                           | 555/780 [1:32:01<43:19, 11.55s/it]"
     ]
    },
    {
     "name": "stdout",
     "output_type": "stream",
     "text": [
      "\n",
      "(\"carnivore\", \"definition\", \"meat eater\")\n",
      "(\"carnivore\", \"derives\", \"energy and nutrient requirements from diet\")\n",
      "(\"carnivore\", \"diet consists of\", \"animal tissue\")\n",
      "(\"obligate carnivore\", \"definition\", \"depend solely on animal flesh for nutrient requirements\")\n",
      "(\"facultative carnivore\", \"definition\", \"consume non-animal food\")\n",
      "(\"omnivore\", \"definition\", \"consumes both animal and non-animal food\")\n",
      "(\"carnivore\", \"term\", \"apex predator\")\n",
      "-\n"
     ]
    },
    {
     "name": "stderr",
     "output_type": "stream",
     "text": [
      " 71%|██████████████████████████████████████████████████████████████████████████████████████████████████████████▉                                           | 556/780 [1:32:10<41:05, 11.00s/it]"
     ]
    },
    {
     "name": "stdout",
     "output_type": "stream",
     "text": [
      "\n",
      "(\"tables\", \"include tabular lists for\", \"selected basic foods\")\n",
      "(\"USDA sources\", \"compiled\", \"selected basic foods\")\n",
      "(\"selected basic foods\", \"have a weight\", \"in grams\")\n",
      "(\"selected basic foods\", \"have calories\", \"in grams\")\n",
      "(\"selected basic foods\", \"have proteins\", \"in grams\")\n",
      "(\"selected basic foods\", \"have carbohydrates\", \"in grams\")\n",
      "(\"selected basic foods\", \"have dietary fiber\", \"in grams\")\n",
      "(\"selected basic foods\", \"have fat\", \"in grams\")\n",
      "(\"selected basic foods\", \"have saturated fat\", \"in grams\")\n",
      "(\"figures\", \"are considered estimates\", \"with more exact figures often included on product labels\")\n",
      "(\"USDA source\", \"can be used for\", \"precise details about vitamins and mineral contents\")\n",
      "-\n"
     ]
    },
    {
     "name": "stderr",
     "output_type": "stream",
     "text": [
      " 71%|███████████████████████████████████████████████████████████████████████████████████████████████████████████                                           | 557/780 [1:32:24<44:06, 11.87s/it]"
     ]
    },
    {
     "name": "stdout",
     "output_type": "stream",
     "text": [
      "\n",
      "(\"Anatomically\",\"the wolverine is\", \"a stocky and muscular animal\")\n",
      "(\"Anatomically\",\"the wolverine has\", \"short legs\")\n",
      "(\"Anatomically\",\"the wolverine has\", \"a broad and rounded head\")\n",
      "(\"Anatomically\",\"the wolverine has\", \"small eyes\")\n",
      "(\"Anatomically\",\"the wolverine has\", \"short rounded ears\")\n",
      "(\"Anatomically\",\"the wolverine\", \"resembles a bear\")\n",
      "(\"Anatomically\",\"the wolverine has\", \"large five-toed paws with crampon-like claws\")\n",
      "(\"Anatomically\",\"the wolverine has\", \"plantigrade posture\")\n",
      "(\"Anatomically\",\"the wolverine can climb\", \"steep cliffs\")\n",
      "(\"Anatomically\",\"the wolverine can climb\", \"trees\")\n",
      "(\"Anatomically\",\"the wolverine can climb\", \"snow-covered peaks\")\n",
      "-\n"
     ]
    },
    {
     "name": "stderr",
     "output_type": "stream",
     "text": [
      " 72%|███████████████████████████████████████████████████████████████████████████████████████████████████████████▎                                          | 558/780 [1:32:29<36:29,  9.86s/it]"
     ]
    },
    {
     "name": "stdout",
     "output_type": "stream",
     "text": [
      "\n",
      "(\"Saline seawater\", \"covers\", \"361,000,000 km2\")\n",
      "(\"Saline seawater\", \"consists of\", \"several principal oceans and smaller seas\")\n",
      "(\"Ocean\", \"covers\", \"71% of Earth's surface\")\n",
      "(\"Ocean\", \"contains\", \"97% of Earth's water\")\n",
      "(\"Ocean\", \"has a total volume of\", \"1.35 billion cubic kilometers\")\n",
      "(\"Ocean\", \"has an average depth of\", \"nearly 3,700 meters\")\n",
      "-\n"
     ]
    },
    {
     "name": "stderr",
     "output_type": "stream",
     "text": [
      " 72%|███████████████████████████████████████████████████████████████████████████████████████████████████████████▌                                          | 559/780 [1:32:39<36:10,  9.82s/it]"
     ]
    },
    {
     "name": "stdout",
     "output_type": "stream",
     "text": [
      "\n",
      "(\"Dogs\", \"are variable in\", \"height and weight\")\n",
      "(\"Smallest known adult dog\", \"was a\", \"Yorkshire Terrier\")\n",
      "(\"Yorkshire Terrier\", \"stood at\", \"6.3 cm (2.5 in)\")\n",
      "(\"Yorkshire Terrier\", \"weighed\", \"113 grams (4.0 oz)\")\n",
      "(\"Largest known dog\", \"was a\", \"Saint Bernard\")\n",
      "(\"Saint Bernard\", \"weighed\", \"167.6 kg (369 lb)\")\n",
      " (\"Saint Bernard\", \"was\", \"250 cm (98 in)\")\n",
      "(\"Tallest dog\", \"is a\", \"Great Dane\")\n",
      "(\"Great Dane\", \"stands at\", \"106.7 cm (42.0 in)\")\n",
      "-\n"
     ]
    },
    {
     "name": "stderr",
     "output_type": "stream",
     "text": [
      " 72%|███████████████████████████████████████████████████████████████████████████████████████████████████████████▋                                          | 560/780 [1:32:41<27:28,  7.49s/it]"
     ]
    },
    {
     "name": "stdout",
     "output_type": "stream",
     "text": [
      "\n",
      "(\"A hound\", \"is a type of\", \"hunting dog\")\n",
      "(\"A hound\", \"is used by\", \"hunters\")\n",
      "(\"Hunters\", \"use a hound to\", \"track or chase prey\")\n",
      "-\n"
     ]
    },
    {
     "name": "stderr",
     "output_type": "stream",
     "text": [
      " 72%|███████████████████████████████████████████████████████████████████████████████████████████████████████████▉                                          | 561/780 [1:32:50<28:49,  7.90s/it]"
     ]
    },
    {
     "name": "stdout",
     "output_type": "stream",
     "text": [
      "\n",
      "(\"Justin O. Schmidt\", \"developed\", \"a hymenopteran sting pain scale\")\n",
      "(\"hymenopteran sting pain scale\", \"now known as\", \"Schmidt sting pain index\")\n",
      "(\"Schmidt sting pain index\", \"uses\", \"0 to 4 rating scale\")\n",
      "(\"Schmidt sting pain index\", \"rates\", \"stings from 78 different species in 42 different genera\")\n",
      "(\"Pepsis genus\", \"has a sting rating of\", \"4\")\n",
      "(\"Pepsis genus\", \"sting described as\", \"blinding, fierce, and shockingly electric. A running hair dryer has been dropped into your bubble bath.\")\n",
      "(\"Paraponera clavata\", \"has higher sting rating than Pepsis genus\", \"Rating of 4+\")\n",
      "-\n"
     ]
    },
    {
     "name": "stderr",
     "output_type": "stream",
     "text": [
      " 72%|████████████████████████████████████████████████████████████████████████████████████████████████████████████                                          | 562/780 [1:33:02<33:04,  9.10s/it]"
     ]
    },
    {
     "name": "stdout",
     "output_type": "stream",
     "text": [
      "\n",
      "(\"circulatory system\", \"is also called\", \"cardiovascular system\")\n",
      "(\"circulatory system\", \"is also called\", \"vascular system\")\n",
      "(\"circulatory system\", \"permits\", \"blood to circulate\")\n",
      "(\"blood\", \"transports nutrients\", \"such as amino acids and electrolytes\")\n",
      "(\"blood\", \"transports\", \"oxygen\")\n",
      "(\"blood\", \"transports\", \"carbon dioxide\")\n",
      "(\"blood\", \"transports\", \"hormones\")\n",
      "(\"blood\", \"transports\", \"blood cells\")\n",
      "(\"blood cells\", \"to and from\", \"cells in the body\")\n",
      "(\"blood\", \"provides nourishment\", \"and helps fight diseases\")\n",
      "(\"blood\", \"stabilizes temperature and pH\", \"and maintains homeostasis\")\n",
      "-\n"
     ]
    },
    {
     "name": "stderr",
     "output_type": "stream",
     "text": [
      " 72%|████████████████████████████████████████████████████████████████████████████████████████████████████████████▎                                         | 563/780 [1:33:13<35:33,  9.83s/it]"
     ]
    },
    {
     "name": "stdout",
     "output_type": "stream",
     "text": [
      "\n",
      "(\"newt\", \"is\", \"a salamander in the subfamily Pleurodelinae\")\n",
      "(\"newt\", \"juvenile phase\", \"called an eft\")\n",
      "(\"newt\", \"is semiaquatic\", \"alternating between aquatic and terrestrial habitats\")\n",
      "(\"newt\", \"over 100 known species found\", \"in North America, Europe, North Africa and Asia\")\n",
      "(\"newt\", \"metamorphose through 3 distinct stages\", \"aquatic larva, terrestrial juvenile, and adult\")\n",
      "(\"newt\", \"adult form have \", \"lizard-like bodies\")\n",
      "(\"newt\", \"return to water to breed\", \"every year\")\n",
      "(\"newt\", \"otherwise living in\", \"humid, cover-rich land habitats\")\n",
      "-\n"
     ]
    },
    {
     "name": "stderr",
     "output_type": "stream",
     "text": [
      " 72%|████████████████████████████████████████████████████████████████████████████████████████████████████████████▍                                         | 564/780 [1:33:28<40:57, 11.38s/it]"
     ]
    },
    {
     "name": "stdout",
     "output_type": "stream",
     "text": [
      "\n",
      "(\"giant panda\", \"has\", \"luxuriant black-and-white fur\")\n",
      "(\"giant panda\", \"measures around\", \"1.2 to 1.9 m (4 to 6 ft) long\")\n",
      "(\"giant panda\", \"has a tail of\", \"10–15 cm (3.9–5.9 in)\")\n",
      "(\"giant panda\", \"is\", \"60 to 90 cm (2.0 to 3.0 ft) tall at the shoulder\")\n",
      "(\"giant panda (males)\", \" can weigh up to\", \"160 kg (350 lb)\")\n",
      "(\"giant panda (females)\", \"can weigh as little as\", \"70 kg (150 lb)\")\n",
      "(\"giant panda (females)\", \"can weigh up to\", \"125 kg (276 lb)\")\n",
      "(\"giant panda\", \"average adult weight is\", \"100 to 115 kg (220 to 254 lb)\")\n",
      "-\n"
     ]
    },
    {
     "name": "stderr",
     "output_type": "stream",
     "text": [
      " 72%|████████████████████████████████████████████████████████████████████████████████████████████████████████████▋                                         | 565/780 [1:33:36<36:12, 10.11s/it]"
     ]
    },
    {
     "name": "stdout",
     "output_type": "stream",
     "text": [
      "\n",
      "(\"doghouse\", \"is a\", \"small shed\")\n",
      "(\"doghouse\", \"is commonly built in the shape of a\", \"house\")\n",
      "(\"doghouse\", \"provides dogs with a sense of\", \"security and protection\")\n",
      "(\"doghouse\", \"protects from\", \"various weather conditions\")\n",
      "(\"doghouse\", \"can be made from\", \"wood\")\n",
      "(\"doghouse\", \"can be made from\", \"plastic\")\n",
      "(\"doghouse\", \"can be made from\", \"resin\")\n",
      "(\"doghouse\", \"can be made from\", \"hardboard\")\n",
      "-\n"
     ]
    },
    {
     "name": "stderr",
     "output_type": "stream",
     "text": [
      " 73%|████████████████████████████████████████████████████████████████████████████████████████████████████████████▊                                         | 566/780 [1:33:38<27:51,  7.81s/it]"
     ]
    },
    {
     "name": "stdout",
     "output_type": "stream",
     "text": [
      "\n",
      "(\"October 2016\", \"scientists identified\", \"the maximum human lifespan\")\n",
      "(\"maximum human lifespan\", \"average age of\", \"115\")\n",
      "(\"maximum human lifespan\", \"absolute upper limit of\", \"125 years\")\n",
      "(\"maximum human lifespan\", \"widely debated among the scientific community\", \"yes\")\n",
      "-\n"
     ]
    },
    {
     "name": "stderr",
     "output_type": "stream",
     "text": [
      " 73%|█████████████████████████████████████████████████████████████████████████████████████████████████████████████                                         | 567/780 [1:33:51<33:41,  9.49s/it]"
     ]
    },
    {
     "name": "stdout",
     "output_type": "stream",
     "text": [
      "\n",
      "(\"invertebrates\", \"have\", \"notably complex brains\")\n",
      "(\"arthropods\", \"belong to\", \"invertebrates\")\n",
      "(\"arthropods\", \"include\", \"insects, crustaceans, arachnids, and others\")\n",
      "(\"cephalopods\", \"belong to\", \"invertebrates\")\n",
      "(\"cephalopods\", \"include\", \"octopuses, squids, and similar molluscs\")\n",
      "(\"arthropods, cephalopods\", \"have brains that arise from\", \"twin parallel nerve cords\")\n",
      "(\"arthropods\", \"have a central brain\", \"supraesophageal ganglion\")\n",
      "(\"supraesophgeal ganglion\", \"has three divisions and\", \"large optical lobes behind each eye for visual processing\")\n",
      "(\"cephalopods\", \"have the largest brains of\", \"any invertebrates\")\n",
      "-\n"
     ]
    },
    {
     "name": "stderr",
     "output_type": "stream",
     "text": [
      " 73%|█████████████████████████████████████████████████████████████████████████████████████████████████████████████▏                                        | 568/780 [1:33:59<31:25,  8.89s/it]"
     ]
    },
    {
     "name": "stdout",
     "output_type": "stream",
     "text": [
      "\n",
      "(\"Microhabitat\", \"is usually\", \"along the shore among reeds and aquatic weeds, docks, and other structures\")\n",
      "(\"Yellow perch\", \"frequent\", \"inshore surface waters during the summer\")\n",
      "(\"Northern pike\", \"are predators of\", \"yellow perch\")\n",
      "(\"Walleye\", \"consume\", \"58% of the age zero and 47% of the age one yellow perch in northern lakes\")\n",
      "(\"Largemouth bass\", \"may be most influential in structuring the quality of yellow perch populations in\", \"shallow natural lakes\")\n",
      "(\"Quality panfish populations\", \"are influenced by\", \"predators, prey, and the environment\")\n",
      "-\n"
     ]
    },
    {
     "name": "stderr",
     "output_type": "stream",
     "text": [
      " 73%|█████████████████████████████████████████████████████████████████████████████████████████████████████████████▍                                        | 569/780 [1:34:05<28:40,  8.15s/it]"
     ]
    },
    {
     "name": "stdout",
     "output_type": "stream",
     "text": [
      "\n",
      "(\"Rocket Juice & the Moon\", \"is an album by\", \"the supergroup of same name\")\n",
      "(\"Rocket Juice & the Moon\", \"was formed in\", \"2008\")\n",
      "(\"The supergroup\", \"consists of\", \"Damon Albarn of Blur and Gorillaz\")\n",
      "(\"The supergroup\", \"consists of\", \"Flea of Red Hot Chili Peppers\")\n",
      "(\"The supergroup\", \"consists of\", \"Tony Allen\")\n",
      "(\"Tony Allen\", \"is a longtime drummer for\", \"Fela Kuti\")\n",
      "(\"Tony Allen\", \"is a musical producer for\", \"Fela Kuti\")\n",
      "-\n"
     ]
    },
    {
     "name": "stderr",
     "output_type": "stream",
     "text": [
      " 73%|█████████████████████████████████████████████████████████████████████████████████████████████████████████████▌                                        | 570/780 [1:34:13<28:18,  8.09s/it]"
     ]
    },
    {
     "name": "stdout",
     "output_type": "stream",
     "text": [
      "\n",
      "(\"Human presence\", \"began\", \"after the retreat of the glaciers at the end of the last ice age\")\n",
      "(\"Retreat of the glaciers\", \"was at\", \"the end of the last ice age\")\n",
      "(\"End of the last ice age\", \"was\", \"around 8,150 years ago\")\n",
      "(\"Shores of the bay\", \"were inhabited by\", \"indigenous cultures\")\n",
      "(\"Indigenous cultures\", \"lived in\", \"this area\")\n",
      "(\"Indigenous peoples\", \"were\", \"ethnically Cree peoples\")\n",
      "(\"Indigenous peoples\", \"were along\", \"both shores of the bay\")\n",
      "-\n"
     ]
    },
    {
     "name": "stderr",
     "output_type": "stream",
     "text": [
      " 73%|█████████████████████████████████████████████████████████████████████████████████████████████████████████████▊                                        | 571/780 [1:34:18<24:15,  6.96s/it]"
     ]
    },
    {
     "name": "stdout",
     "output_type": "stream",
     "text": [
      "\n",
      "(\"Tasting Table\", \"named\", \"one of the eight best vegan restaurants in the U.S\")\n",
      "(\"The Daily Meal\", \"named\", \"one of the best vegan restaurants in the United States\")\n",
      "(\"Tasting Table\", \"named in\", \"2017\")\n",
      "(\"The Daily Meal\", \"named in\", \"2017\")\n",
      "-\n"
     ]
    },
    {
     "name": "stderr",
     "output_type": "stream",
     "text": [
      " 73%|█████████████████████████████████████████████████████████████████████████████████████████████████████████████▉                                        | 572/780 [1:34:26<25:30,  7.36s/it]"
     ]
    },
    {
     "name": "stdout",
     "output_type": "stream",
     "text": [
      "\n",
      "(\"disgust\", \"is an effective mechanism following\", \"occurrences of negative social value\")\n",
      "(\"disgust\", \"provokes\", \"repulsion\")\n",
      "(\"disgust\", \"promotes\", \"the avoidance of pathogens and disease\")\n",
      "(\"disgust\", \"promotes\", \"desire for social distance\")\n",
      "(\"the origin of disgust\", \"can be defined by motivating\", \"the avoidance of offensive things\")\n",
      "(\"disgust in action\", \"can be found from\", \"the Bible in the book of Leviticus\")\n",
      "(\"Leviticus\", \"includes direct commandments from God to avoid disgust causing individuals\", \"including people who were sexually immoral and those who had leprosy\")\n",
      "-\n"
     ]
    },
    {
     "name": "stderr",
     "output_type": "stream",
     "text": [
      " 73%|██████████████████████████████████████████████████████████████████████████████████████████████████████████████▏                                       | 573/780 [1:34:42<33:57,  9.84s/it]"
     ]
    },
    {
     "name": "stdout",
     "output_type": "stream",
     "text": [
      "\n",
      "(\"cheetah\", \"species\", \"Acinonyx jubatus\")\n",
      "(\"cheetah\", \"native to\", \"Africa\")\n",
      "(\"cheetah\", \"native to\", \"central Iran\")\n",
      "(\"cheetah\", \"is the fastest\", \"land animal\")\n",
      "(\"cheetah\", \"can run at\", \"80 to 128 km/h (50 to 80 mph)\")\n",
      "(\"cheetah\", \"has adaptations for speed including\", \"light build\")\n",
      "(\"cheetah\", \"has adaptations for speed including\", \"long thin legs\")\n",
      "(\"cheetah\", \"has adaptations for speed including\", \"long tail\")\n",
      "(\"cheetah\", \"may reach\", \"67–94 cm (26–37 in) at the shoulder\")\n",
      "(\"cheetah\", \"may be from\", \"1.1 to 1.5 m (3.6 and 4.9 ft) long\")\n",
      "(\"cheetah\", \"usually weighs\", \"20 and 65 kg (44 and 143 lb)\")\n",
      "(\"cheetah\", \"has\", \"small, rounded head\")\n",
      "(\"cheetah\", \"has\", \"short snout\")\n",
      "(\"cheetah\", \"has\", \"black tear-like facial streaks\")\n",
      "(\"cheetah\", \"has coat\", \"tawny to creamy white or pale buff\")\n",
      "(\"cheetah\", \"has\n",
      "-\n"
     ]
    },
    {
     "name": "stderr",
     "output_type": "stream",
     "text": [
      " 74%|██████████████████████████████████████████████████████████████████████████████████████████████████████████████▍                                       | 574/780 [1:34:55<37:47, 11.01s/it]"
     ]
    },
    {
     "name": "stdout",
     "output_type": "stream",
     "text": [
      "\n",
      "(\"Empire State Building\", \"has\", \"102 stories\")\n",
      "(\"Empire State Building\", \"has\", \"Art Deco style\")\n",
      "(\"Empire State Building\", \"is located in\", \"Midtown Manhattan in New York City\")\n",
      "(\"Empire State Building\", \"was designed by\", \"Shreve, Lamb & Harmon\")\n",
      "(\"Empire State Building\", \"was built from\", \"1930 to 1931\")\n",
      "(\"Empire State Building\", \"derives its name from\", \"the nickname of the state of New York\")\n",
      "(\"Empire State Building\", \"has a roof height of\", \"1,250 feet (380 m)\")\n",
      "(\"Empire State Building\", \"stands a total of\", \"1,454 feet (443.2 m)\")\n",
      "(\"Empire State Building\", \"has an antenna\", \"included in 1,454 feet (443.2 m) height\")\n",
      "(\"Empire State Building\", \"has been the world's tallest building until\", \"construction of the World Trade Center in 1970\")\n",
      "(\"Empire State Building\", \"was the city's tallest skyscraper until\", \"2012\")\n",
      "(\"Empire State Building\", \"is currently the\", \"seventh-tallest building in New York City\") \n",
      "(\"Empire State Building\", \"is the\", \"ninth-tallest completed skyscraper in the United States\")\n",
      "(\"Empire State Building\", \"\n",
      "-\n"
     ]
    },
    {
     "name": "stderr",
     "output_type": "stream",
     "text": [
      " 74%|██████████████████████████████████████████████████████████████████████████████████████████████████████████████▌                                       | 575/780 [1:35:10<41:27, 12.13s/it]"
     ]
    },
    {
     "name": "stdout",
     "output_type": "stream",
     "text": [
      "\n",
      "(\"koala\", \"is inaccurately known as\", \"koala bear\")\n",
      "(\"koala\", \"is a type of\", \"arboreal herbivorous marsupial\")\n",
      "(\"koala\", \"is native to\", \"Australia\")\n",
      "(\"koala\", \"is the only extant representative of\", \"the family Phascolarctidae\")\n",
      "(\"koala\", \"has closest living relatives of\", \"the family Vombatidae\")\n",
      "(\"koala\", \"is found in\", \"coastal areas of the mainland's eastern and southern regions\")\n",
      "(\"koala\", \"inhabits\", \"Queensland, New South Wales, Victoria, and South Australia\")\n",
      "(\"koala\", \"is recognisable by its\", \"stout, tailless body and large head with round, fluffy ears and large, spoon-shaped nose\")\n",
      "(\"koala\", \"has a body length of\", \"60–85 cm (24–33 in)\")\n",
      "(\"koala\", \"weighs\", \"4–15 kg (9–33 lb)\")\n",
      "(\"koala\", \"has fur color that ranges from\", \"silver grey to chocolate brown\")\n",
      "(\"koala\", \"from northern populations are typically\", \"smaller and lighter in color\")\n",
      "(\"koala\", \"possibly has different subspecies of\", \"northern and southern populations\")\n",
      "-\n"
     ]
    },
    {
     "name": "stderr",
     "output_type": "stream",
     "text": [
      " 74%|██████████████████████████████████████████████████████████████████████████████████████████████████████████████▊                                       | 576/780 [1:35:19<38:03, 11.20s/it]"
     ]
    },
    {
     "name": "stdout",
     "output_type": "stream",
     "text": [
      "\n",
      "(\"Olive oil\", \"is a\", \"liquid fat\")\n",
      "(\"Olive oil\", \"is obtained from\", \"olives\")\n",
      "(\"Olive oil\", \"is produced by\", \"pressing whole olives\")\n",
      "(\"Olive oil\", \"is commonly used in\", \"cooking, for frying foods, or as a salad dressing\")\n",
      "(\"Olive oil\", \"is also used in\", \"cosmetics, pharmaceuticals, and soaps\")\n",
      "(\"Olive oil\", \"is used as a fuel for\", \"traditional oil lamps\")\n",
      "(\"Olive oil\", \"has additional uses in some\", \"religions\")\n",
      "(\"Olive oil\", \"may have possible health\", \"benefits\")\n",
      "(\"The olive\", \"is one of three core foods in\", \"Mediterranean cuisine\")\n",
      "(\"The other two core foods in Mediterranean cuisine\", \"are\", \"wheat and grapes\")\n",
      "(\"Olive trees\", \"have been grown around the\", \"Mediterranean since the 8th millennium BC\")\n",
      "-\n"
     ]
    },
    {
     "name": "stderr",
     "output_type": "stream",
     "text": [
      " 74%|██████████████████████████████████████████████████████████████████████████████████████████████████████████████▉                                       | 577/780 [1:35:25<33:00,  9.76s/it]"
     ]
    },
    {
     "name": "stdout",
     "output_type": "stream",
     "text": [
      "\n",
      "(\"Ants\", \"defend themselves by\", \"biting\")\n",
      "(\"Ants\", \"defend themselves by\", \"stinging\")\n",
      "(\"Ants\", \"inject or spray chemicals\", \"such as formic acid in the case of formicine ants, alkaloids and piperidines in fire ants, and a variety of protein components in other ants\")\n",
      "(\"Bullet ants\", \"are located in\", \"Central and South America\")\n",
      "(\"Bullet ants\", \"are considered to have the most painful sting of any insect\", \"although it is usually not fatal to humans\")\n",
      "(\"Bullet ants' sting\", \"is given the highest rating on the Schmidt sting pain index\", \"\")\n",
      "-\n"
     ]
    },
    {
     "name": "stderr",
     "output_type": "stream",
     "text": [
      " 74%|███████████████████████████████████████████████████████████████████████████████████████████████████████████████▏                                      | 578/780 [1:35:36<33:24,  9.92s/it]"
     ]
    },
    {
     "name": "stdout",
     "output_type": "stream",
     "text": [
      "\n",
      "(\"production model\", \"named\", \"102DL3\")\n",
      "(\"production model\", \"entered production in\", \"October 1992\")\n",
      "(\"production model\", \"introduced into service in\", \"1993\")\n",
      "(\"production model\", \"early buyers included\",\"Peter Pan Lines\")\n",
      "(\"production model\", \"early buyers included\",\"Fullington Trailways\")\n",
      "(\"production model\", \"early buyers included\",\"Horizon Coach Lines\")\n",
      "(\"production model\", \"known for\", \"surprisingly high speed\")\n",
      "(\"production model\", \"known for\", \"large size\")\n",
      "(\"production model\", \"known for\", \"the durability of its integral construction\")\n",
      "(\"Greyhound Canada\", \"owned\", \"MCI\")\n",
      "(\"Greyhound Canada\", \"tested the model in\",\"1992\")\n",
      "(\"Greyhound Canada\", \"ordered any until\", \"1995\")\n",
      "-\n"
     ]
    },
    {
     "name": "stderr",
     "output_type": "stream",
     "text": [
      " 74%|███████████████████████████████████████████████████████████████████████████████████████████████████████████████▎                                      | 579/780 [1:35:41<28:56,  8.64s/it]"
     ]
    },
    {
     "name": "stdout",
     "output_type": "stream",
     "text": [
      "\n",
      "(\"Chinchillas\", \"are\", \"popular pets\")\n",
      "(\"Chinchillas\", \"require\", \"extensive exercise\")\n",
      "(\"Chinchillas\", \"require\", \"dental care\")\n",
      "(\"Chinchillas\", \"have teeth that\", \"continue to grow throughout their life span\")\n",
      "(\"Chinchillas\", \"lack the ability to\", \"sweat\")\n",
      "(\"Chinchillas\", \"require\", \"a temperature-controlled environment\")\n",
      "-\n"
     ]
    },
    {
     "name": "stderr",
     "output_type": "stream",
     "text": [
      " 74%|███████████████████████████████████████████████████████████████████████████████████████████████████████████████▌                                      | 580/780 [1:35:51<29:53,  8.97s/it]"
     ]
    },
    {
     "name": "stdout",
     "output_type": "stream",
     "text": [
      "\n",
      "(\"Chinese mountain cat\", \"has sand-coloured fur with\", \"dark guard hairs\")\n",
      "(\"Chinese mountain cat\", \"has faint dark horizontal stripes on\", \"face and legs\")\n",
      "(\"Chinese mountain cat\", \"has black-tipped ears\",)\n",
      "(\"Chinese mountain cat\", \"has a relatively broad skull\",)\n",
      "(\"Chinese mountain cat\", \"has long hair growing between the pads of their feet\",)\n",
      "(\"Chinese mountain cat\", \"is whitish on the belly\",)\n",
      "(\"Chinese mountain cat\", \"has black rings on the legs and tail\",)\n",
      "(\"Chinese mountain cat\", \"has a black-tipped tail\",)\n",
      "(\"Chinese mountain cat\", \"is\", \"69–84 cm (27–33 in) long in head and body\")\n",
      "(\"Chinese mountain cat\", \"has a tail length of\", \"29–41 cm (11–16 in)\")\n",
      "(\"Chinese mountain cat\", \"weighs\", \"6 kg\")\n",
      "-\n"
     ]
    },
    {
     "name": "stderr",
     "output_type": "stream",
     "text": [
      " 74%|███████████████████████████████████████████████████████████████████████████████████████████████████████████████▋                                      | 581/780 [1:35:59<28:57,  8.73s/it]"
     ]
    },
    {
     "name": "stdout",
     "output_type": "stream",
     "text": [
      "\n",
      "(\"Black Sea\", \"supports\", \"active and dynamic marine ecosystem\")\n",
      "(\"Black Sea\", \"is dominated by\", \"species suited to brackish, nutrient-rich conditions\")\n",
      "(\"Black Sea\", \"features\", \"range of trophic groups\")\n",
      "(\"Black Sea\", \"has autotrophic algae\", \"including diatoms and dinoflagellates\")\n",
      "(\"Black Sea\", \"receives\", \"large volumes of sediment and dissolved nutrients from fluvial systems draining Eurasia and central Europe\")\n",
      "(\"Black Sea\", \"has nutrient distribution controlled by\", \"degree of physiochemical stratification\")\n",
      "(\"degree of physiochemical stratification\", \"dictated by\", \"seasonal physiographic development\")\n",
      "-\n"
     ]
    },
    {
     "name": "stderr",
     "output_type": "stream",
     "text": [
      " 75%|███████████████████████████████████████████████████████████████████████████████████████████████████████████████▉                                      | 582/780 [1:36:08<28:35,  8.66s/it]"
     ]
    },
    {
     "name": "stdout",
     "output_type": "stream",
     "text": [
      "\n",
      "(\"Average life expectancy of a camel\", \"is\", \"40 to 50 years\")\n",
      "(\"Adult dromedary camel\", \"stands\", \"1.85 m (6 ft 1 in) at the shoulder\")\n",
      "(\"Adult dromedary camel\", \"stands\", \"2.15 m (7 ft 1 in) at the hump\")\n",
      "(\"Bactrian camel\", \"can be\", \"a foot taller\")\n",
      "(\"Camels\", \"can run\", \"up to 65 km/h (40 mph) in short bursts\")\n",
      "(\"Camels\", \"can sustain\", \"speeds of up to 40 km/h (25 mph)\")\n",
      "(\"Bactrian camels\", \"weigh\", \"300 to 1,000 kg (660 to 2,200 lb)\")\n",
      "(\"Dromedaries\", \"weigh\", \"300 to 600 kg (660 to 1,320 lb)\")\n",
      "(\"Camel hoofs\", \"have widening toes\", \"for supplemental grip for varying soil sediments\")\n",
      "-\n"
     ]
    },
    {
     "name": "stderr",
     "output_type": "stream",
     "text": [
      " 75%|████████████████████████████████████████████████████████████████████████████████████████████████████████████████                                      | 583/780 [1:36:17<29:02,  8.85s/it]"
     ]
    },
    {
     "name": "stdout",
     "output_type": "stream",
     "text": [
      "\n",
      "(\"Golden eagles\", \"hunt during daylight hours\", \"usually\")\n",
      "(\"Golden eagles\", \"were recorded to hunt\", \"from one hour before sunrise to one hour after sunset during the breeding season in southwestern Idaho\")\n",
      "(\"Golden eagles\", \"hunting success rate\", \"calculated in Idaho\")\n",
      "(\"Out of 115 hunting attempts\", \"were successful in procuring prey\", \"20%\")\n",
      "(\"A fully-grown golden eagle\", \"requires\", \"about 230 to 250 g (8.1 to 8.8 oz) of food per day\")\n",
      "(\"Eagles\", \"have been known to go without food for up to a week\", \"and then gorge on up to 900 g (2.0 lb) at one sitting\")\n",
      "-\n"
     ]
    },
    {
     "name": "stderr",
     "output_type": "stream",
     "text": [
      " 75%|████████████████████████████████████████████████████████████████████████████████████████████████████████████████▎                                     | 584/780 [1:36:25<28:16,  8.66s/it]"
     ]
    },
    {
     "name": "stdout",
     "output_type": "stream",
     "text": [
      "\n",
      "(\"American alligators\", \"live in\", \"freshwater environments\")\n",
      "(\"American alligators\", \"construct\", \"alligator holes in the wetlands\")\n",
      "(\"American alligators\", \"increase\", \"plant diversity\")\n",
      "(\"American alligators\", \"provide habitat for\", \"other animals during droughts\")\n",
      "(\"American alligators\", \"are considered\", \"an important species for maintaining ecological diversity\")\n",
      "(\"Farther west, in Louisiana\", \"has heavy grazing by\", \"coypu and muskrat\")\n",
      "(\"Farther west, in Louisiana\", \"is causing\", \"severe damage to coastal wetlands\")\n",
      "(\"Large alligators\", \"feed on\", \"coypu\")\n",
      "(\"Large alligators\", \"provide a vital ecology service by\", \"reducing coypu numbers\")\n",
      "-\n"
     ]
    },
    {
     "name": "stderr",
     "output_type": "stream",
     "text": [
      " 75%|████████████████████████████████████████████████████████████████████████████████████████████████████████████████▌                                     | 585/780 [1:36:37<30:41,  9.44s/it]"
     ]
    },
    {
     "name": "stdout",
     "output_type": "stream",
     "text": [
      "\n",
      "(\"swimming pool\", \"is designed to\", \"hold water\")\n",
      "(\"swimming pool\", \"is a\", \"structure\")\n",
      "(\"swimming pool\", \"enables\", \"swimming or other leisure activities\")\n",
      "(\"swimming pool\", \"can be built\", \"into the ground\")\n",
      "(\"swimming pool\", \"can be built\", \"above ground\")\n",
      "(\"swimming pool\", \"common feature aboard\", \"ocean-liners and cruise ships\")\n",
      "(\"swimming pool\", \"most commonly constructed from\", \"concrete, natural stone, metal, plastic, or fiberglass\")\n",
      "(\"swimming pool\", \"largest size\", \"Olympic-size swimming pool\")\n",
      "-\n"
     ]
    },
    {
     "name": "stderr",
     "output_type": "stream",
     "text": [
      " 75%|████████████████████████████████████████████████████████████████████████████████████████████████████████████████▋                                     | 586/780 [1:36:47<31:04,  9.61s/it]"
     ]
    },
    {
     "name": "stdout",
     "output_type": "stream",
     "text": [
      "\n",
      "(\"ice\", \"price of\", \"imported ice\")\n",
      "(\"price of ice\", \"varied according to\", \"amount of economic competition\")\n",
      "(\"Havana\", \"Tudor's ice price\", \"25 cents per pound\")\n",
      "(\"25 cents per pound\", \"equivalent to\", \"$3.70 in 2010 terms\")\n",
      "(\"Georgia\", \"Tudor's ice price\", \"six to eight cents per pound\")\n",
      "(\"six to eight cents\", \"equivalent to\", \"$0.90-$1.20 in 2010 terms\")\n",
      "(\"when competition\", \"Tudor would respond by\", \"lowering his prices\")\n",
      "(\"Tudor\", \"sold his ice at\", \"one cent per pound\")\n",
      "(\"one cent per pound\", \"equivalent to\", \"$0.20 in 2010 terms\")\n",
      "(\"around 3,000 tons\", \"was shipped from Boston annually\", \"two thirds by Tudor\")\n",
      "-\n"
     ]
    },
    {
     "name": "stderr",
     "output_type": "stream",
     "text": [
      " 75%|████████████████████████████████████████████████████████████████████████████████████████████████████████████████▉                                     | 587/780 [1:37:02<36:32, 11.36s/it]"
     ]
    },
    {
     "name": "stdout",
     "output_type": "stream",
     "text": [
      "\n",
      "(\"Insects\" or \"Insecta\", \"is the designation for\", \"hexapod invertebrates\")\n",
      "(\"Insects\", \"belong to the\", \"arthropod phylum\") \n",
      "(\"Insects\", \"qualify as a\", \"class within the Arthropoda\")\n",
      "(\"Insects\", \"are distinguished by\", \"their chitinous exoskeleton\")\n",
      "(\"Insects\", \"have a three-part body consisting of\", \"head, thorax, and abdomen\")\n",
      "(\"Insects\", \"have three pairs of\", \"jointed legs\")\n",
      "(\"Insects\", \"have\", \"compound eyes and one pair of antennae\")\n",
      "(\"Insects\", \"are the most diverse group of\", \"animals\")\n",
      "(\"Insects\", \"contain more than\", \"a million described species\")\n",
      "(\"Insects\", \"represent more than\", \"half of all known living organisms\")\n",
      "(\"Insects\", \"are estimated to consist of\", \"between six and ten million species\")\n",
      "(\"Insects\", \"potentially comprise over\", \"90% of the animal life forms on Earth\")\n",
      "(\"Insects\", \"can be found in\", \"nearly all environments\")\n",
      "-\n"
     ]
    },
    {
     "name": "stderr",
     "output_type": "stream",
     "text": [
      " 75%|█████████████████████████████████████████████████████████████████████████████████████████████████████████████████                                     | 588/780 [1:37:09<31:53,  9.97s/it]"
     ]
    },
    {
     "name": "stdout",
     "output_type": "stream",
     "text": [
      "\n",
      "(\"language\", \"is a\", \"structured system of communication\")\n",
      "(\"language\", \"in a broader sense is\", \"method of communication\")\n",
      "(\"method of communication\", \"involves the use of\", \"particularly human languages\")\n",
      "-\n"
     ]
    },
    {
     "name": "stderr",
     "output_type": "stream",
     "text": [
      " 76%|█████████████████████████████████████████████████████████████████████████████████████████████████████████████████▎                                    | 589/780 [1:37:28<40:28, 12.71s/it]"
     ]
    },
    {
     "name": "stdout",
     "output_type": "stream",
     "text": [
      "\n",
      "(\"police dog\", \"known as\", \"K-9\")\n",
      "(\"police dog\", \"known as\", \"K9\")\n",
      "(\"police dog\", \"is trained to\", \"assist police and other law-enforcement personnel\")\n",
      "(\"police dog\", \"duties include\", \"searching for drugs and explosives\")\n",
      "(\"police dog\", \"duties include\", \"locating missing people\")\n",
      "(\"police dog\", \"duties include\", \"finding crime scene evidence\")\n",
      "(\"police dog\", \"duties include\", \"attacking people targeted by the police\")\n",
      "(\"police dog\", \"needs to remember\", \"several verbal cues and hand gestures\")\n",
      "(\"police dog\", \"commonly used breeds\", \"German Shepherd Dog\")\n",
      "(\"police dog\", \"commonly used breeds\", \"Belgian Malinois\")\n",
      "(\"police dog\", \"commonly used breeds\", \"Bloodhound\")\n",
      "(\"police dog\", \"commonly used breeds\", \"Dutch Shepherd\")\n",
      "(\"police dog\", \"commonly used breeds\", \"Retriever breeds\")\n",
      "(\"Belgian Malinois\", \"became the dog of choice for\", \"police and military work\")\n",
      "(\"Belgian Malinois\", \"are smaller and more agile than\", \"German Shepherd Dogs\")\n",
      "(\"Belgian Malinois\", \"have fewer health issues than\", \"German Shepherd Dogs\")\n",
      "(\"well-bred working line German Shepherd Dog\", \"is just as successful and robust as\", \"a Mal\n",
      "-\n"
     ]
    },
    {
     "name": "stderr",
     "output_type": "stream",
     "text": [
      " 76%|█████████████████████████████████████████████████████████████████████████████████████████████████████████████████▍                                    | 590/780 [1:37:34<33:41, 10.64s/it]"
     ]
    },
    {
     "name": "stdout",
     "output_type": "stream",
     "text": [
      "\n",
      "(\"blood vessels\", \"are components of\", \"circulatory system\")\n",
      "(\"blood vessels\", \"transport\", \"blood cells\")\n",
      "(\"blood vessels\", \"transport\", \"nutrients\")\n",
      "(\"blood vessels\", \"transport\", \"oxygen\")\n",
      "(\"blood vessels\", \"transport away from tissues\", \"waste\")\n",
      "(\"blood vessels\", \"transport away from tissues\", \"carbon dioxide\")\n",
      "(\"blood vessels\", \"are needed to\", \"sustain life\")\n",
      "(\"body's tissues\", \"rely on\", \"functionality of blood vessels\")\n",
      "-\n"
     ]
    },
    {
     "name": "stderr",
     "output_type": "stream",
     "text": [
      " 76%|█████████████████████████████████████████████████████████████████████████████████████████████████████████████████▋                                    | 591/780 [1:37:39<28:44,  9.12s/it]"
     ]
    },
    {
     "name": "stdout",
     "output_type": "stream",
     "text": [
      "\n",
      "(\"This species\", \"has\", \"unique behaviors\")\n",
      "(\"This species\", \"females are\", \"about one-third larger than males\")\n",
      "(\"Males\", \"spray\", \"musk produced by tail glands\")\n",
      "(\"This species\", \"prefers\", \"a solitary lifestyle\")\n",
      "(\"This species\", \"lives in\", \"forest areas\")\n",
      "(\"This species\", \"avoids\", \"humans in the natural environment\")\n",
      "(\"Males\", \"raise hairs on\", \"their backs\")\n",
      "-\n"
     ]
    },
    {
     "name": "stderr",
     "output_type": "stream",
     "text": [
      " 76%|█████████████████████████████████████████████████████████████████████████████████████████████████████████████████▊                                    | 592/780 [1:37:50<29:54,  9.55s/it]"
     ]
    },
    {
     "name": "stdout",
     "output_type": "stream",
     "text": [
      "\n",
      "(\"defending champion\", \"may qualify for\", \"MLE\")\n",
      "(\"winners of regional qualifying contest\", \"may qualify for\", \"MLE\")\n",
      "(\"individuals qualifying as two wildcards\", \"may qualify for\", \"MLE\")\n",
      "(\"individuals invited by special invitation of MLE\", \"may qualify for\", \"MLE\")\n",
      "(\"contestants\", \"stand on\", \"raised platform\")\n",
      "(\"contestants\", \"have\", \"drinks and Nathan's Famous hot dogs in buns\")\n",
      "(\"contestants\", \"are allowed to use\", \"water, other drinks and condiments\")\n",
      "(\"contestants\", \"are allowed to\", \"cool the hot dogs slightly\")\n",
      "(\"contestants\", \"must consume and keep down\", \"most hot dogs and buns in ten minutes\")\n",
      "(\"length of the contest\", \"has changed from\", \"12 minutes to ten minutes since 2008\")\n",
      "-\n"
     ]
    },
    {
     "name": "stderr",
     "output_type": "stream",
     "text": [
      " 76%|██████████████████████████████████████████████████████████████████████████████████████████████████████████████████                                    | 593/780 [1:38:06<35:47, 11.48s/it]"
     ]
    },
    {
     "name": "stdout",
     "output_type": "stream",
     "text": [
      "\n",
      "(\"Four individuals\", \"were radio-collared in\", \"Phu Khieo Wildlife Sanctuary\")\n",
      "(\"Four individuals\", \"were radio-collared from\", \"April 2000 to February 2003\")\n",
      "(\"Two females\", \"had a home range of\", \"25.7 km2 (9.9 sq mi)\")\n",
      "(\"Two females\", \"had a home range of\", \"22.9 km2 (8.8 sq mi)\")\n",
      "(\"Two males\", \"had a home range of\", \"29.7 km2 (11.5 sq mi)\") \n",
      "(\"Two males\", \"had a home range of\", \"49.1 km2 (19.0 sq mi)\")\n",
      "(\"Two individuals\", \"were radio-collared in\", \"Khao Yai National Park\")\n",
      "(\"One female\", \"had a home range of\", \"39.4 km2 (15.2 sq mi)\")\n",
      "(\"One male\", \"had a home range of\", \"42 km2 (16 sq mi)\")\n",
      "(\"Both individuals\", \"had a core area of\", \"2.9 km2 (1.1 sq mi)\")\n",
      "(\"They\", \"hunt by\", \"stalking prey or waiting for prey to come to them\")\n",
      "(\"They\", \"retreat into trees to\", \"digest and rest\")\n",
      "(\"Their prey\", \"includes\", \"arboreal and terrestrial vertebrates\")\n",
      "-\n"
     ]
    },
    {
     "name": "stderr",
     "output_type": "stream",
     "text": [
      " 76%|██████████████████████████████████████████████████████████████████████████████████████████████████████████████████▏                                   | 594/780 [1:38:20<38:17, 12.35s/it]"
     ]
    },
    {
     "name": "stdout",
     "output_type": "stream",
     "text": [
      "\n",
      "(\"Badminton racquets\", \"weigh between\", \"70 and 95 grams\")\n",
      "(\"Badminton racquets\", \"are composed of\", \"many different materials\")\n",
      "(\"Many different materials\", \"include\", \"carbon fibre composite\")\n",
      "(\"Many different materials\", \"include\", \"solid steel\")\n",
      "(\"Many different materials\", \"may be augmented by\", \"a variety of materials\")\n",
      "(\"Carbon fibre\", \"has an excellent strength to weight ratio\", \"is stiff\")\n",
      "(\"Carbon fibre\", \"gives\", \"excellent kinetic energy transfer\")\n",
      "(\"Badminton racquets\", \"were made of\", \"light metals\")\n",
      "(\"Light metals\", \"include\", \"aluminium\")\n",
      "(\"Badminton racquets\", \"were made of\", \"wood\")\n",
      "(\"Cheap racquets\", \"are still often made of\", \"metals such as steel\")\n",
      "(\"Wooden racquets\", \"are no longer manufactured\", \"for the ordinary market\")\n",
      "(\"Nowadays\", \"nanomaterials\", \"are added to racquets\")\n",
      "(\"Nanomaterials\", \"include\", \"carbon nanotubes and fullerene\")\n",
      "(\"Adding nanomaterials to racquets\", \"gives them\", \"greater durability\")\n",
      "-\n"
     ]
    },
    {
     "name": "stderr",
     "output_type": "stream",
     "text": [
      " 76%|██████████████████████████████████████████████████████████████████████████████████████████████████████████████████▍                                   | 595/780 [1:38:30<35:42, 11.58s/it]"
     ]
    },
    {
     "name": "stdout",
     "output_type": "stream",
     "text": [
      "\n",
      "(\"Frederic Tudor\", \"started\", \"the trade\")\n",
      "(\"Frederic Tudor\", \"shipped ice to\", \"the Caribbean island of Martinique\")\n",
      "(\"Frederic Tudor\", \"hoped to sell\", \"ice to wealthy members of the European elite\")\n",
      "(\"Frederic Tudor\", \"built\", \"an ice house\")\n",
      "(\"The trade\", \"widened to\", \"Cuba and Southern United States\")\n",
      "(\"Other merchants\", \"joined\", \"Tudor in harvesting and shipping ice from New England\")\n",
      "(\"The ice trade\", \"expanded further\", \"during the 1830s and 1840s\")\n",
      "(\"The ice trade\", \"shipped to\", \"England, India, South America, China, and Australia\")\n",
      "(\"Tudor\", \"made a fortune from\", \"the India trade\")\n",
      "(\"Wenham Ice\", \"became famous in\", \"London\")\n",
      "-\n"
     ]
    },
    {
     "name": "stderr",
     "output_type": "stream",
     "text": [
      " 76%|██████████████████████████████████████████████████████████████████████████████████████████████████████████████████▌                                   | 596/780 [1:38:39<33:09, 10.81s/it]"
     ]
    },
    {
     "name": "stdout",
     "output_type": "stream",
     "text": [
      "\n",
      "(\"Fish\", \"are abundant in\", \"most bodies of water\")\n",
      "(\"Fish\", \"can be found in\", \"nearly all aquatic environments\")\n",
      "(\"Fish\", \"can be found in\", \"high mountain streams\")\n",
      "(\"Fish\", \"can be found in\", \"abyssal depths\")\n",
      "(\"Fish\", \"can be found in\", \"hadal depths\")\n",
      "(\"Fish\", \"are absent from\", \"the deepest 25% of the ocean\")\n",
      "(\"Fish\", \"exhibit\", \"greater species diversity than any other group of vertebrates\")\n",
      "(\"Fish\", \"have\", \"34,300 described species\")\n",
      "-\n"
     ]
    },
    {
     "name": "stderr",
     "output_type": "stream",
     "text": [
      " 77%|██████████████████████████████████████████████████████████████████████████████████████████████████████████████████▊                                   | 597/780 [1:38:45<28:32,  9.36s/it]"
     ]
    },
    {
     "name": "stdout",
     "output_type": "stream",
     "text": [
      "\n",
      "(\"Cesar Millan Live!\", \"is\", \"an international touring dog training lecture and stage performance\")\n",
      "(\"Cesar Millan Live!\", \"consists of\", \"one-half lecture and one-half demonstration with local shelter dogs\")\n",
      "(\"Cesar Millan Live!\", \"uses\", \"pack-leader training techniques to modify negative behaviors\")\n",
      "(\"Cesar Millan Live!\", \"presents\", \"Millan's techniques and philosophy from his television shows and books\")\n",
      "-\n"
     ]
    },
    {
     "name": "stderr",
     "output_type": "stream",
     "text": [
      " 77%|███████████████████████████████████████████████████████████████████████████████████████████████████████████████████                                   | 598/780 [1:38:51<25:47,  8.50s/it]"
     ]
    },
    {
     "name": "stdout",
     "output_type": "stream",
     "text": [
      "\n",
      "(\"Conger eels\", \"have habits similar to\", \"moray eels\")\n",
      "(\"Conger eels\", \"usually live amongst\", \"rocks in holes\")\n",
      "(\"Conger eels\", \"come out of\", \"their holes at night\")\n",
      "(\"Conger eels\", \"mainly feed on\", \"fish, cephalopods, and crustaceans\")\n",
      "(\"Conger eels\", \"are thought to\", \"scavenge on dead and rotting fish\")\n",
      "(\"Conger eels\", \"can be aggressive to\", \"humans\")\n",
      "(\"Large Conger eels\", \"pose a danger to\", \"divers\")\n",
      "-\n"
     ]
    },
    {
     "name": "stderr",
     "output_type": "stream",
     "text": [
      " 77%|███████████████████████████████████████████████████████████████████████████████████████████████████████████████████▏                                  | 599/780 [1:39:05<29:47,  9.88s/it]"
     ]
    },
    {
     "name": "stdout",
     "output_type": "stream",
     "text": [
      "\n",
      "(\"Racism\", \"existed during\", \"19th century\")\n",
      "(\"Racism\", \"was known as\", \"scientific racism\")\n",
      "(\"Johann Blumenbach\", \"divided the world's population into\", \"five groups according to skin color\")\n",
      "(\"Johann Blumenbach\", \"posited the view\", \"that the non-Caucasians had arisen through a process of degeneration\")\n",
      "(\"Scientific Racism\", \"had a view\", \"of polygenist\")\n",
      "(\"Polygenist\", \"held that\", \"the different races had been separately created\")\n",
      "(\"Christoph Meiners\", \"split mankind into two divisions which he labeled\", \"the 'Beautiful White Race' and the 'Ugly Black Race'\")\n",
      "(\"Christoph Meiners\", \"claimed that\", \"a main characteristic of race is either beauty or ugliness\")\n",
      "(\"Christoph Meiners\", \"viewed only the white race as\", \"beautiful\")\n",
      "(\"Christoph Meiners\", \"considered\", \"ugly races to be inferior, immoral and animal-like\")\n",
      "-\n"
     ]
    },
    {
     "name": "stderr",
     "output_type": "stream",
     "text": [
      " 77%|███████████████████████████████████████████████████████████████████████████████████████████████████████████████████▍                                  | 600/780 [1:39:16<30:45, 10.25s/it]"
     ]
    },
    {
     "name": "stdout",
     "output_type": "stream",
     "text": [
      "\n",
      "(\"Chinchillas\", \"are\", \"either of two species (Chinchilla chinchilla and Chinchilla lanigera)\")\n",
      "(\"Chinchillas\", \"are members of\", \"the parvorder Caviomorpha\")\n",
      "(\"Chinchillas\", \"are native to\", \"the Andes mountains in South America\")\n",
      "(\"Chinchillas\", \"live in colonies called\", \"“herds” at high elevations of up to 4,270 m\")\n",
      "(\"Chinchilla chinchilla and Chinchilla lanigera\", \"historically lived in an area that included parts of\", \"Bolivia, Peru, Argentina, and Chile\")\n",
      "(\"Chinchilla chinchilla and Chinchilla lanigera\", \"are known to live in the wild today only in\", \"Chile\")\n",
      "(\"Chinchillas\", \"are related to\", \"viscachas and the chinchilla rat\")\n",
      "-\n"
     ]
    },
    {
     "name": "stderr",
     "output_type": "stream",
     "text": [
      " 77%|███████████████████████████████████████████████████████████████████████████████████████████████████████████████████▌                                  | 601/780 [1:39:34<37:25, 12.55s/it]"
     ]
    },
    {
     "name": "stdout",
     "output_type": "stream",
     "text": [
      "\n",
      "(\"150 cm\", \"×\", \"200 cm\")\n",
      "(\"59 in\", \"×\", \"79 in\")\n",
      "(\"UK\", \"uses\", \"150 cm × 200 cm (59 in × 79 in)\")\n",
      "(\"165 cm\", \"×\", \"203 cm\")\n",
      "(\"65 in\", \"×\", \"80 in\")\n",
      "(\"New Zealand\", \"uses\", \"165 cm × 203 cm (65 in × 80 in)\")\n",
      "(\"180 cm\", \"×\", \"190 cm\")\n",
      "(\"71 in\", \"×\", \"75 in\")\n",
      "(\"Portugal\", \"uses\", \"180 cm × 190 cm (71 in × 75 in)\")\n",
      "(\"180 cm\", \"×\", \"200 cm\")\n",
      "(\"71 in\", \"×\", \"79 in\")\n",
      "(\"Indonesia\", \"uses\", \"180 cm × 200 cm (71 in × 79 in)\")\n",
      "(\"183 cm\", \"×\", \"191 cm\")\n",
      "(\"72 in\", \"×\", \"75 in\")\n",
      "(\"Singapore and Malaysia\", \"uses\", \"183 cm × 191 cm (72 in × 75 in)\")\n",
      "(\"183 cm\", \"×\", \"200 cm\")\n",
      "(\"72 in\", \"×\", \"80 in\")\n",
      "(\"Australia\", \"uses\", \"183 cm × 203 cm (72 in × 80 in)\")\n",
      "(\"183 cm\", \"×\", \"216 cm\")\n",
      "(\"72 in\", \"×\", \"85 in\n",
      "-\n"
     ]
    },
    {
     "name": "stderr",
     "output_type": "stream",
     "text": [
      " 77%|███████████████████████████████████████████████████████████████████████████████████████████████████████████████████▊                                  | 602/780 [1:39:44<35:28, 11.96s/it]"
     ]
    },
    {
     "name": "stdout",
     "output_type": "stream",
     "text": [
      "\n",
      "(\"Females of the freshwater shrimp Caridina ensifera\", \"are capable of\", \"storing sperm from multiple partners\")\n",
      "(\"Females of the freshwater shrimp Caridina ensifera\", \"can produce\", \"progeny with different paternities\")\n",
      "(\"Reproductive success of sires\", \"correlates with\", \"their genetic relatedness to the mother\")\n",
      "(\"Reproductive success of sires\", \"correlates with\", \"inverse direction\")\n",
      "(\"Sperm competition and/or pre- and post-copulatory female choice\", \"occur\", \"to increase the fitness of progeny\")\n",
      "(\"expression of homozygous deleterious recessive mutations\", \"may result in\", \"inbreeding depression\")\n",
      "-\n"
     ]
    },
    {
     "name": "stderr",
     "output_type": "stream",
     "text": [
      " 77%|███████████████████████████████████████████████████████████████████████████████████████████████████████████████████▉                                  | 603/780 [1:39:51<30:30, 10.34s/it]"
     ]
    },
    {
     "name": "stdout",
     "output_type": "stream",
     "text": [
      "\n",
      "(\"Writing\", \"is a medium of\", \"human communication\")\n",
      "(\"Writing\", \"involves the representation of\", \"a language with symbols\")\n",
      "(\"Writing systems\", \"can complement\", \"spoken language\")\n",
      "(\"Writing systems\", \"enable the creation of\", \"durable forms of speech\")\n",
      "(\"Writing systems\", \"can be transmitted across\", \"space\")\n",
      "(\"Writing systems\", \"can be stored over\", \"time\")\n",
      "(\"Writing\", \"has knowledge-transforming effects because it\", \"allows humans to externalize their thinking in forms that are easier to reflect on and potentially rework\")\n",
      "-\n"
     ]
    },
    {
     "name": "stderr",
     "output_type": "stream",
     "text": [
      " 77%|████████████████████████████████████████████████████████████████████████████████████████████████████████████████████▏                                 | 604/780 [1:39:55<24:35,  8.38s/it]"
     ]
    },
    {
     "name": "stdout",
     "output_type": "stream",
     "text": [
      "\n",
      "(\"Leopards\", \"are hunted\", \"illegally\")\n",
      "(\"Leopards\", \"have body parts\", \"smuggled in the wildlife trade\")\n",
      "(\"Leopards' body parts\", \"are used for\", \"medicinal practices\")\n",
      "(\"Leopards' body parts\", \"are used for\", \"decoration\")\n",
      "-\n"
     ]
    },
    {
     "name": "stderr",
     "output_type": "stream",
     "text": [
      " 78%|████████████████████████████████████████████████████████████████████████████████████████████████████████████████████▎                                 | 605/780 [1:40:06<26:56,  9.24s/it]"
     ]
    },
    {
     "name": "stdout",
     "output_type": "stream",
     "text": [
      "\n",
      "(\"NP 7–8\", \"is representative of\", \"conditions over the Arctic Basin\")\n",
      "(\"NP 7–8\", \"shows data from\", \"the Soviet North Pole drifting stations 7 and 8\")\n",
      "(\"NP 7–8\", \"shows the average temperature in the coldest months is\", \"in the −30s\")\n",
      "(\"NP 7–8\", \"shows the temperature rises rapidly from\", \"April to May\")\n",
      "(\"NP 7–8\", \"shows July is the warmest month\", \"and the narrowing of the maximum and minimum temperature lines\")\n",
      "(\"NP 7–8\", \"shows the temperature does not vary far from\", \"freezing in the middle of summer\")\n",
      "(\"NP 7–8\", \"shows from August through December the temperature\", \"drops steadily\")\n",
      "(\"NP 7–8\", \"shows the small daily temperature range\", \"results from the sun's elevation above the horizon not changing much or at all in this region during one day\")\n",
      "-\n"
     ]
    },
    {
     "name": "stderr",
     "output_type": "stream",
     "text": [
      " 78%|████████████████████████████████████████████████████████████████████████████████████████████████████████████████████▌                                 | 606/780 [1:40:11<23:33,  8.12s/it]"
     ]
    },
    {
     "name": "stdout",
     "output_type": "stream",
     "text": [
      "\n",
      "(\"stomach\", \"is a\", \"distensible organ\")\n",
      "(\"stomach\", \"can expand to hold\", \"1 liter of food\")\n",
      "(\"stomach's expansion\", \"is enabled by\", \"series of gastric folds in inner walls\")\n",
      "(\"stomach\", \"of newborn baby\", \"expand to retain 30 ml\")\n",
      "-\n"
     ]
    },
    {
     "name": "stderr",
     "output_type": "stream",
     "text": [
      " 78%|████████████████████████████████████████████████████████████████████████████████████████████████████████████████████▋                                 | 607/780 [1:40:25<28:23,  9.85s/it]"
     ]
    },
    {
     "name": "stdout",
     "output_type": "stream",
     "text": [
      "\n",
      "(\"White American\", \"has origins\", \"in any of the original peoples of Europe\")\n",
      "(\"European American\", \"has origins\", \"in any of the original peoples of Europe\")\n",
      "(\"Middle Eastern American\", \"has origins\", \"in any of the original peoples of the Middle East\")\n",
      "(\"MENA organizations\", \"were consulted by\", \"the Census Bureau\")\n",
      "(\"Census Bureau\", \"announced in 2014\", \"a new MENA ethnic category\")\n",
      "(\"MENA ethnic category\", \"is for\", \"populations from the Middle East, North Africa and the Arab world\")\n",
      "(\"Black American\", \"has origins\", \"in any of the native peoples of Sub-Saharan Africa\")\n",
      "(\"Native American\", \"has origins\", \"in any of the original peoples of North, Central and South America\")\n",
      "(\"Asian American\", \"has origins\", \"in any of the original peoples of the Far East, Southeast Asia, and the Indian subcontinent\")\n",
      "(\"Native Hawaiian\", \"has origins\", \"in any of the original peoples of Polynesia, Melanesia, or Micronesia\")\n",
      "(\"Other\", \"includes\", \"write-in entries such as South African, Belizean, Puerto Rican, Métis, Creole, Mulatto\")\n",
      "(\"Two or more races\", \"is known as\", \"multiracial\")\n",
      "(\"Two or more races\", \"is not labelled as such on\", \"census and other forms\")\n",
      "-\n"
     ]
    },
    {
     "name": "stderr",
     "output_type": "stream",
     "text": [
      " 78%|████████████████████████████████████████████████████████████████████████████████████████████████████████████████████▉                                 | 608/780 [1:40:36<29:14, 10.20s/it]"
     ]
    },
    {
     "name": "stdout",
     "output_type": "stream",
     "text": [
      "\n",
      "(\"Cranes\", \"are seasonal breeders\", \"seasonality varies between and within species\")\n",
      "(\"Migratory species\", \"begin breeding\", \"April to June\")\n",
      "(\"Tropical species\", \"breed\", \"during the wet or monsoon seasons\")\n",
      "(\"Tropical species\", \"maintain small territories\", \"as small as one hectare\")\n",
      "(\"Red-crowned crane territories\", \"require\", \"500 hectares\")\n",
      "(\"Red-crowned crane territories\", \"may even defend\", \"several thousand hectares\")\n",
      "(\"Territory defence\", \"is performed by\", \"the male\")\n",
      "(\"Females\", \"are much less likely to retain territory\", \"than males in the event of death of partner\")\n",
      "-\n"
     ]
    },
    {
     "name": "stderr",
     "output_type": "stream",
     "text": [
      " 78%|█████████████████████████████████████████████████████████████████████████████████████████████████████████████████████                                 | 609/780 [1:40:47<29:38, 10.40s/it]"
     ]
    },
    {
     "name": "stdout",
     "output_type": "stream",
     "text": [
      "\n",
      "(\"jumping spiders\", \"have\", \"faces that are roughly rectangular surfaces perpendicular to their direction of motion\")\n",
      "(\"jumping spiders\", \"have\", \"eight eyes\")\n",
      "(\"jumping spiders\", \"have a front row of\", \"four eyes\")\n",
      "(\"jumping spiders\", \"have a pair of\", \"anterior median eyes\")\n",
      "(\"Deinopidae\", \"have a pair of\", \"posterior median eyes\")\n",
      "(\"Salticidae\", \"have\", \"large anterior eyes\")\n",
      "(\"Salticidae\", \"have  anterior lateral eyes\", \"smaller than the AME\")\n",
      "(\"Salticidae\", \"have anterior lateral eyes\", \"providing a wider forward field of vision\")\n",
      "(\"Salticidae's large anterior eyes\", \"are adapted mainly to\", \"detailed, three-dimensional vision\")\n",
      "(\"Salticidae's large anterior eyes\", \"are adapted to\", \"estimating range, direction, and nature of potential prey\")\n",
      "(\"Salticidae's large anterior eyes\", \"allow spider to\", \"direct attacking leaps with great precision\")\n",
      "-\n"
     ]
    },
    {
     "name": "stderr",
     "output_type": "stream",
     "text": [
      " 78%|█████████████████████████████████████████████████████████████████████████████████████████████████████████████████████▎                                | 610/780 [1:40:58<30:16, 10.68s/it]"
     ]
    },
    {
     "name": "stdout",
     "output_type": "stream",
     "text": [
      "\n",
      "(\"International Abitur\", \"offered at\", \"schools outside Germany\")\n",
      "(\"International Abitur\", \"accredited by\", \"German Government\")\n",
      "(\"International Abitur\", \"consists of\", \"five Abitur exams\")\n",
      "(\"International Abitur exams\", \"include\", \"three written exams\")\n",
      "(\"International Abitur exams\", \"include\", \"two oral exams\")\n",
      "(\"three written exams\", \"are in\", \"German Literature, European History, Economics, Math, a Natural Science, or a language\")\n",
      "(\"two oral exams\", \"overseen by\", \"a German education official\")\n",
      "(\"final GPA\", \"includes grades from\", \"junior and senior years\")\n",
      "(\"final GPA\", \"includes grades from\", \"five Abitur exams\")\n",
      "(\"final diploma\", \"allows students to\", \"qualify for admission to Universities in Germany\")\n",
      "-\n"
     ]
    },
    {
     "name": "stderr",
     "output_type": "stream",
     "text": [
      " 78%|█████████████████████████████████████████████████████████████████████████████████████████████████████████████████████▌                                | 611/780 [1:41:11<31:39, 11.24s/it]"
     ]
    },
    {
     "name": "stdout",
     "output_type": "stream",
     "text": [
      "\n",
      "(\"Anchovies\", \"are found in\", \"scattered areas throughout the world's oceans\")\n",
      "(\"Anchovies\", \"are concentrated in\", \"temperate waters\")\n",
      "(\"Anchovies\", \"are rare or absent in\", \"very cold or very warm seas\")\n",
      "(\"Anchovies\", \"are generally very accepting of\", \"a wide range of temperatures and salinity\")\n",
      "(\"Anchovies\", \"are found in\", \"shallow, brackish areas with muddy bottoms, as in estuaries and bays\")\n",
      "(\"European anchovy\", \"is abundant in\", \"the Mediterranean\")\n",
      "(\"European anchovy\", \"is abundant in\", \"the Alboran Sea\")\n",
      "(\"European anchovy\", \"is abundant in\", \"the Aegean Sea\")\n",
      "(\"European anchovy\", \"is abundant in\", \"the Black Sea\")\n",
      "-\n"
     ]
    },
    {
     "name": "stderr",
     "output_type": "stream",
     "text": [
      " 78%|█████████████████████████████████████████████████████████████████████████████████████████████████████████████████████▋                                | 612/780 [1:41:21<30:16, 10.81s/it]"
     ]
    },
    {
     "name": "stdout",
     "output_type": "stream",
     "text": [
      "\n",
      "(\"Bornean orangutan\", \"is more common than\", \"Sumatran orangutan\")\n",
      "(\"Bornean orangutan\", \"has about\", \"54,500 individuals in the wild\")\n",
      "(\"Sumatran orangutan\", \"has about\", \"15,000 individuals in the wild\")\n",
      "(\"Orangutans\", \"are becoming increasingly endangered from\", \"habitat destruction\")\n",
      "(\"Orangutans\", \"are becoming increasingly endangered from\", \"the bushmeat trade\")\n",
      "(\"Young orangutans\", \"are captured to be sold as\", \"pets\")\n",
      "(\"The capturing of young orangutans\", \"usually entails the killing of\", \"their mothers\")\n",
      "-\n"
     ]
    },
    {
     "name": "stderr",
     "output_type": "stream",
     "text": [
      " 79%|█████████████████████████████████████████████████████████████████████████████████████████████████████████████████████▉                                | 613/780 [1:41:28<27:02,  9.72s/it]"
     ]
    },
    {
     "name": "stdout",
     "output_type": "stream",
     "text": [
      "\n",
      "(\"Atherosclerosis\", \"is a disease in which\", \"the inside of an artery narrows due to the buildup of plaque\")\n",
      "(\"Atherosclerosis\", \"can result in\", \"coronary artery disease\")\n",
      "(\"Atherosclerosis\", \"can result in\", \"stroke\")\n",
      "(\"Atherosclerosis\", \"can result in\", \"peripheral artery disease\")\n",
      "(\"Atherosclerosis\", \"can result in\", \"kidney problems\")\n",
      "(\"Atherosclerosis\", \"has symptom onset that\", \"generally does not begin until middle age\")\n",
      "-\n"
     ]
    },
    {
     "name": "stderr",
     "output_type": "stream",
     "text": [
      " 79%|██████████████████████████████████████████████████████████████████████████████████████████████████████████████████████                                | 614/780 [1:41:36<25:10,  9.10s/it]"
     ]
    },
    {
     "name": "stdout",
     "output_type": "stream",
     "text": [
      "\n",
      "(\"Crustaceans\", \"are mostly\", \"free-living aquatic animals\")\n",
      "(\"Crustaceans\", \"include\", \"terrestrial organisms\")\n",
      "(\"Crustaceans\", \"include\", \"parasitic organisms\")\n",
      "(\"Crustaceans\", \"include\", \"sessile organisms\")\n",
      "(\"Crustaceans\", \"have an extensive fossil record\", \"reaching back to the Cambrian\")\n",
      "(\"Crustaceans\", \"include\", \"living fossils\")\n",
      "(\"Crustaceans\", \"are produced\", \"by fishery or farming for human consumption\")\n",
      "(\"Crustaceans\", \"may be\", \"the animals with the greatest biomass on the planet\")\n",
      "(\"Crustaceans\", \"are part of\", \"the food chain\")\n",
      "(\"Scientific study of crustaceans\", \"is known as\", \"carcinology\")\n",
      "(\"Scientifician working with crustaceans\", \"is known as\", \"carcinologist\")\n",
      "-\n"
     ]
    },
    {
     "name": "stderr",
     "output_type": "stream",
     "text": [
      " 79%|██████████████████████████████████████████████████████████████████████████████████████████████████████████████████████▎                               | 615/780 [1:41:39<20:16,  7.37s/it]"
     ]
    },
    {
     "name": "stdout",
     "output_type": "stream",
     "text": [
      "\n",
      "(\"Bad Lieutenant\", \"formed in\", \"2007\")\n",
      "(\"Bad Lieutenant\", \"formed following\", \"the second breakup of New Order\")\n",
      "(\"Bad Lieutenant\", \"consisted of\", \"former New Order members Bernard Sumner and Phil Cunningham\")\n",
      "(\"Bad Lieutenant\", \"consisted of\", \"Rambo & Leroy's Jake Evans\")\n",
      "-\n"
     ]
    },
    {
     "name": "stderr",
     "output_type": "stream",
     "text": [
      " 79%|██████████████████████████████████████████████████████████████████████████████████████████████████████████████████████▍                               | 616/780 [1:41:42<16:16,  5.96s/it]"
     ]
    },
    {
     "name": "stdout",
     "output_type": "stream",
     "text": [
      "\n",
      "(\"Wednesday\", \"is referred to as\", \"hump day\")\n",
      "(\"Wednesday\", \"is\", \"the middle day of a typical work week\")\n",
      "(\"hump day\", \"refers to\", \"the middle day of a typical work week\")\n",
      "-\n"
     ]
    },
    {
     "name": "stderr",
     "output_type": "stream",
     "text": [
      " 79%|██████████████████████████████████████████████████████████████████████████████████████████████████████████████████████▋                               | 617/780 [1:41:51<18:49,  6.93s/it]"
     ]
    },
    {
     "name": "stdout",
     "output_type": "stream",
     "text": [
      "\n",
      "(\"Chinchilla chinchilla\", \"previously known as\", \"Chinchilla brevicaudata\")\n",
      "(\"Chinchilla chinchilla\", \"has a shorter\", \"tail\")\n",
      "(\"Chinchilla chinchilla\", \"has a thicker\", \"neck and shoulders\")\n",
      "(\"Chinchilla chinchilla\", \"has shorter\", \"ears\")\n",
      "(\"Chinchilla lanigera\", \"has a longer\", \"tail\")\n",
      "(\"Chinchilla lanigera\", \"has a thinner\", \"neck and shoulders\")\n",
      "(\"Chinchilla lanigera\", \"has longer\", \"ears\")\n",
      "(\"Chinchilla chinchilla\", \"is facing\", \"extinction\")\n",
      "(\"Chinchilla lanigera\", \"is found\", \"in the wild\")\n",
      "(\"Domesticated chinchillas\", \"are thought to be\", \"of the C. lanigera species\")\n",
      "-\n"
     ]
    },
    {
     "name": "stderr",
     "output_type": "stream",
     "text": [
      " 79%|██████████████████████████████████████████████████████████████████████████████████████████████████████████████████████▊                               | 618/780 [1:41:59<19:32,  7.23s/it]"
     ]
    },
    {
     "name": "stdout",
     "output_type": "stream",
     "text": [
      "\n",
      "(\"kangaroo\", \"is a\", \"marsupial\")\n",
      "(\"kangaroo\", \"belongs to\", \"the family Macropodidae\")\n",
      "(\"Macropodidae\", \"also known as\",\"macropods\")\n",
      "(\"macropods\", \"from the Greek\", \"meaning 'large foot'\")\n",
      "(\"kangaroo\", \"commonly refers to\", \"the red kangaroo, antilopine kangaroo, eastern grey kangaroo, and western grey kangaroo\")\n",
      "(\"kangaroo\", \"is indigenous to\", \"Australia\")\n",
      "(\"Australian government\", \"estimates that\", \"34.3 million kangaroos live in commercial harvest areas\")\n",
      "(\"25.1 million kangaroos\", \"lived in commercial harvest areas\", \"one year earlier\")\n",
      "-\n"
     ]
    },
    {
     "name": "stderr",
     "output_type": "stream",
     "text": [
      " 79%|███████████████████████████████████████████████████████████████████████████████████████████████████████████████████████                               | 619/780 [1:42:10<22:57,  8.56s/it]"
     ]
    },
    {
     "name": "stdout",
     "output_type": "stream",
     "text": [
      "\n",
      "(\"Fully grown giraffes\", \"are\", \"4.3–5.7 m (14.1–18.7 ft) tall\")\n",
      "(\"Male giraffes\", \"are taller than\", \"female giraffes\")\n",
      "(\"The tallest recorded male giraffe\", \"was\", \"5.88 m (19.3 ft)\")\n",
      "(\"The tallest recorded female giraffe\", \"was\", \"5.17 m (17.0 ft)\")\n",
      "(\"The average weight for adult male giraffes\", \"is\", \"1,192 kg (2,628 lb)\")\n",
      "(\"The average weight for adult female giraffes\", \"is\", \"828 kg (1,825 lb)\")\n",
      "(\"The maximum recorded weight for male giraffes\", \"is\", \"1,930 kg (4,250 lb)\")\n",
      "(\"The maximum recorded weight for female giraffes\", \"is\", \"1,180 kg (2,600 lb)\")\n",
      "(\"Giraffes\", \"have\", \"bulging eyes located at both sides of the head\")\n",
      "(\"Giraffes\", \"can see\", \"in colour\")\n",
      "(\"Giraffes\", \"have a sharp sense of\", \"hearing and smell\")\n",
      "(\"Giraffes\", \"can close their\", \"muscular nostrils\")\n",
      "(\"Giraff\n",
      "-\n"
     ]
    },
    {
     "name": "stderr",
     "output_type": "stream",
     "text": [
      " 79%|███████████████████████████████████████████████████████████████████████████████████████████████████████████████████████▏                              | 620/780 [1:42:16<20:14,  7.59s/it]"
     ]
    },
    {
     "name": "stdout",
     "output_type": "stream",
     "text": [
      "\n",
      "(\"Electric eels\", \"feed on\", \"invertebrates\")\n",
      "(\"Electric eels\", \"may consume\", \"fish and small mammals\")\n",
      "(\"fish and small mammals\", \"include\", \"rats\")\n",
      "(\"first-born hatchlings\", \"eat\", \"other eggs and embryos from later clutches\")\n",
      "(\"juveniles\", \"eat\", \"invertebrates such as shrimp and crabs\")\n",
      "-\n"
     ]
    },
    {
     "name": "stderr",
     "output_type": "stream",
     "text": [
      " 80%|███████████████████████████████████████████████████████████████████████████████████████████████████████████████████████▍                              | 621/780 [1:42:20<17:51,  6.74s/it]"
     ]
    },
    {
     "name": "stdout",
     "output_type": "stream",
     "text": [
      "\n",
      "(\"Leopard cat\", \"is a type of\", \"small wild cat\")\n",
      "(\"Leopard cat\", \"is native to\", \"continental South, Southeast and East Asia\")\n",
      "(\"Leopard cat\", \"listed as\", \"Least Concern on the IUCN Red List\")\n",
      "(\"Leopard cat\", \"threatened by\", \"habitat loss and hunting in parts of its range\")\n",
      "-\n"
     ]
    },
    {
     "name": "stderr",
     "output_type": "stream",
     "text": [
      " 80%|███████████████████████████████████████████████████████████████████████████████████████████████████████████████████████▌                              | 622/780 [1:42:27<17:58,  6.83s/it]"
     ]
    },
    {
     "name": "stdout",
     "output_type": "stream",
     "text": [
      "\n",
      "(\"Industrial Light & Magic\", \"developed\", \"computer-generated imagery (CGI)\")\n",
      "(\"Industrial Light & Magic\", \"used\", \"CGI to manipulate, re-create, and 'morph' the image of an actor\")\n",
      "(\"Industrial Light & Magic\", \"used\", \"CGI to create the T-1000 character in the film\")\n",
      "(\"6 minutes of the T-1000's display of morphing and healing abilities\", \"was achieved with\", \"computer graphics\")\n",
      "(\"9 minutes of the T-1000's display of morphing and healing abilities\", \"was achieved with\", \"advanced animatronic puppets and prosthetic effects\")\n",
      "(\"Stan Winston and his team\", \"created\", \"the metal skeleton effects of the T-800\")\n",
      "(\"Terminator 2's visual effects\", \"used to create the T-1000\", \"won the Academy Award for Visual Effects\")\n",
      "-\n"
     ]
    },
    {
     "name": "stderr",
     "output_type": "stream",
     "text": [
      " 80%|███████████████████████████████████████████████████████████████████████████████████████████████████████████████████████▊                              | 623/780 [1:42:35<18:02,  6.89s/it]"
     ]
    },
    {
     "name": "stdout",
     "output_type": "stream",
     "text": [
      "\n",
      "(\"Canadian special forces operator\", \"set a record of\", \"3,540m\")\n",
      "(\"British Corporal of Horse Craig Harrison\", \"previously held record of\", \"2,475m\")\n",
      "(\"Reports\", \"have been presented to the general public since\", \"1967\")\n",
      "(\"Snipers in modern warfare\", \"have had a substantial history following development of long distance weaponry\", \"since 1967\")\n",
      "(\"Weaponry, ammunition, and aids to determine ballistic solutions\", \"have improved\", \"as sniper kill capability increased\")\n",
      "(\"Record\", \"beat\", \"in mid-2017\")\n",
      "-\n"
     ]
    },
    {
     "name": "stderr",
     "output_type": "stream",
     "text": [
      " 80%|████████████████████████████████████████████████████████████████████████████████████████████████████████████████████████                              | 624/780 [1:42:47<22:31,  8.67s/it]"
     ]
    },
    {
     "name": "stdout",
     "output_type": "stream",
     "text": [
      "\n",
      "(\"secondhand smoke\", \"notes health risks associated with\", \"it\")\n",
      "(\"smoke-free regulations\", \"are introduced in\", \"indoor public places\")\n",
      "(\"smoke-free regulations\", \"are introduced in\", \"restaurants\")\n",
      "(\"smoke-free regulations\", \"are introduced in\", \"cafes\")\n",
      "(\"smoke-free regulations\", \"are introduced in\", \"nightclubs\")\n",
      "(\"smoke-free regulations\", \"are introduced in\", \"outdoor open areas\")\n",
      "(\"Ireland\", \"was the first country to implement\", \"national smoke-free law on smoking in all indoor workplaces on 29 March 2004\")\n",
      "(\"WHO Framework Convention on Tobacco Control (FCTC)\", \"has a legal obligation to implement effective legislation\", \"for protection from exposure to tobacco smoke in indoor workplaces, public transport, indoor public places and, as appropriate, other public places\")\n",
      "(\"WHO Framework Convention on Tobacco Control (FCTC)\", \"have adopted Guidelines on the Protection from Exposure to secondhand Smoke\", \"requiring the total elimination of smoking and tobacco smoke in a particular space or environment in order to create a 100% smoke-free environment\")\n",
      "-\n"
     ]
    },
    {
     "name": "stderr",
     "output_type": "stream",
     "text": [
      " 80%|████████████████████████████████████████████████████████████████████████████████████████████████████████████████████████▏                             | 625/780 [1:42:54<20:58,  8.12s/it]"
     ]
    },
    {
     "name": "stdout",
     "output_type": "stream",
     "text": [
      "\n",
      "(\"pet crickets\", \"should be kept in\", \"transparent jars or small terrariums\")\n",
      "(\"pet crickets\", \"need at least\", \"two inches of soil for burrowing\")\n",
      "(\"pet crickets\", \"need objects for shelter such as\", \"egg-crate shells\")\n",
      "(\"pet crickets\", \"typically have life spans of\", \"one to two months\")\n",
      "(\"pet crickets\", \"are often replaced with\", \"younger crickets, either bred for cricket fighting or caught in the wild\")\n",
      "(\"pet crickets\", \"are not popular in Western countries because of\", \"the need to frequently replace aging insects\")\n",
      "(\"industrial-grown crickets\", \"are preferred as a food source for\", \"pet birds, reptiles, and spiders\")\n",
      "-\n"
     ]
    },
    {
     "name": "stderr",
     "output_type": "stream",
     "text": [
      " 80%|████████████████████████████████████████████████████████████████████████████████████████████████████████████████████████▍                             | 626/780 [1:42:58<17:16,  6.73s/it]"
     ]
    },
    {
     "name": "stdout",
     "output_type": "stream",
     "text": [
      "\n",
      "(\"Bull sharks\", \"have a bite force up to\", \"5,914 newtons\")\n",
      "(\"Bull sharks\", \"have a bite force up to\", \"1,330 lbf\") \n",
      "(\"Bull sharks\", \"have the highest bite force\", \"weight for weight among all investigated cartilaginous fishes\")\n",
      "-\n"
     ]
    },
    {
     "name": "stderr",
     "output_type": "stream",
     "text": [
      " 80%|████████████████████████████████████████████████████████████████████████████████████████████████████████████████████████▌                             | 627/780 [1:43:12<22:39,  8.88s/it]"
     ]
    },
    {
     "name": "stdout",
     "output_type": "stream",
     "text": [
      "\n",
      "(\"Elephants\", \"are\", \"the largest living terrestrial animals\")\n",
      "(\"African bush elephants\", \"are the largest species\", \"with males being 304–336 cm (10 ft 0 in–11 ft 0 in) tall at the shoulder with a body mass of 5.2–6.9 t (5.7–7.6 short tons) and females standing 247–273 cm (8 ft 1 in–8 ft 11 in) tall at the shoulder with a body mass of 2.6–3.5 t (2.9–3.9 short tons)\")\n",
      "(\"Male Asian elephants\", \"are usually\", \"about 261–289 cm (8 ft 7 in–9 ft 6 in) tall at the shoulder and 3.5–4.6 t (3.9–5.1 short tons)\")\n",
      "(\"Female Asian elephants\", \"are usually\", \"228–252 cm (7 ft 6 in–8 ft 3 in) tall at the shoulder and 2.3–3.1 t (2.5–3.4 short tons)\")\n",
      "(\"African forest elephants\", \"are the smallest species\", \"with males usually being around 209–231 cm (6 ft 10 in–7 ft 7 in) tall at the shoulder and 1.7–2.3 t (1.9–2.5 short tons)\")\n",
      "(\"Male African bush elephants\", \"are typically\", \"23% taller than females\n",
      "-\n"
     ]
    },
    {
     "name": "stderr",
     "output_type": "stream",
     "text": [
      " 81%|████████████████████████████████████████████████████████████████████████████████████████████████████████████████████████▊                             | 628/780 [1:43:15<18:28,  7.30s/it]"
     ]
    },
    {
     "name": "stdout",
     "output_type": "stream",
     "text": [
      "\n",
      "(\"Dolphin\", \"is a common name of\", \"aquatic mammals within the infraorder Cetacea\")\n",
      "(\"Dolphin\", \"is used to refer to\", \"the extant families Delphinidae, Platanistidae, Iniidae, and Pontoporiidae\")\n",
      "(\"Dolphin\", \"is also used to refer to\", \"the extinct Lipotidae\")\n",
      "(\"There are\", \"40 extant species named as\", \"dolphins\")\n",
      "-\n"
     ]
    },
    {
     "name": "stderr",
     "output_type": "stream",
     "text": [
      " 81%|████████████████████████████████████████████████████████████████████████████████████████████████████████████████████████▉                             | 629/780 [1:43:22<18:16,  7.26s/it]"
     ]
    },
    {
     "name": "stdout",
     "output_type": "stream",
     "text": [
      "\n",
      "(\"broad stingray\", \"occurs around\", \"Hawaiian Islands\")\n",
      "(\"broad stingray\", \"is the most abundant\", \"stingray\")\n",
      "(\"broad stingray\", \"has a record from off\", \"Taiwan\")\n",
      "(\"broad stingray\", \"is common in\", \"coastal bays with mud or silt bottoms\")\n",
      "(\"broad stingray\", \"is also encountered in\", \"sandy areas or near coral reefs\")\n",
      "(\"Ma'alaea Bay\", \"is off the island of\", \"Maui\")\n",
      "(\"Kaneohe Bay\", \"is off the island of\", \"Oahu\")\n",
      "-\n"
     ]
    },
    {
     "name": "stderr",
     "output_type": "stream",
     "text": [
      " 81%|█████████████████████████████████████████████████████████████████████████████████████████████████████████████████████████▏                            | 630/780 [1:43:34<21:37,  8.65s/it]"
     ]
    },
    {
     "name": "stdout",
     "output_type": "stream",
     "text": [
      "\n",
      "(\"least weasel\", \"can be\", \"under a foot in length\")\n",
      "(\"giant otter\", \"can measure\", \"up to 1.7 m (5 ft 7 in)\")\n",
      "(\"sea otters\", \"can exceed\",\"45 kg (99 lb) in weight\")\n",
      "(\"wolverine\",\"can crush\",\"bones as thick as the femur of a moose\")\n",
      "(\"wolverine\",\"has been seen\",\"attempting to drive bears away from their kills\")\n",
      "(\"sea otter\",\"uses rocks\",\"to break open shellfish to eat\")\n",
      "(\"marten\",\"is largely\",\"arboreal\")\n",
      "(\"European Badger\",\"digs\",\"extensive networks of tunnels, called setts\")\n",
      "(\"ferret\",\"has been domesticated\",\"as a pet\")\n",
      "(\"tayra\",\"has been domesticated\",\"as a pet\")\n",
      "(\"tayra\",\"has been domesticated\",\"as a working animal for hunting or vermin control\")\n",
      "(\"mink\",\"has been important\",\"in the fur trade\")\n",
      "-\n"
     ]
    },
    {
     "name": "stderr",
     "output_type": "stream",
     "text": [
      " 81%|█████████████████████████████████████████████████████████████████████████████████████████████████████████████████████████▎                            | 631/780 [1:43:43<21:55,  8.83s/it]"
     ]
    },
    {
     "name": "stdout",
     "output_type": "stream",
     "text": [
      "\n",
      "(\"Dunk types\", \"reflect\", \"various motions performed on the way to the basket\")\n",
      "(\"Dunk types\", \"start with\", \"basic one- or two-hand forward-facing dunk\")\n",
      "(\"Dunk types\", \"go on\", \"through various levels of athleticism and intricacy\")\n",
      "(\"Discrete dunk types\", \"can be modified by\", \"appending other moves\")\n",
      "(\"A player\", \"passes the ball off the backboard\", \"catches it in the air\")\n",
      "(\"A player\", \"executes a\", \"double-pump dunk\")\n",
      "(\"A player\", \"would be said to have completed\", \"a self-pass off the backboard, double pump\")\n",
      "-\n"
     ]
    },
    {
     "name": "stderr",
     "output_type": "stream",
     "text": [
      " 81%|█████████████████████████████████████████████████████████████████████████████████████████████████████████████████████████▌                            | 632/780 [1:43:49<19:20,  7.84s/it]"
     ]
    },
    {
     "name": "stdout",
     "output_type": "stream",
     "text": [
      "\n",
      "(\"longest confirmed sniper kill in combat\", \"was achieved by\", \"undisclosed member of Canadian JTF2 special forces\")\n",
      "(\"longest confirmed sniper kill in combat\", \"achieved in\", \"June 2017\")\n",
      "(\"longest confirmed sniper kill in combat\", \"achieved at a distance of\", \"3,540 m (3,871 yd)\")\n",
      "-\n"
     ]
    },
    {
     "name": "stderr",
     "output_type": "stream",
     "text": [
      " 81%|█████████████████████████████████████████████████████████████████████████████████████████████████████████████████████████▋                            | 633/780 [1:44:04<24:12,  9.88s/it]"
     ]
    },
    {
     "name": "stdout",
     "output_type": "stream",
     "text": [
      "\n",
      "(\"Sloths\", \"belong to\", \"superorder Xenarthra\")\n",
      "(\"Xenarthra\", \"believed to have evolved in\", \"continent of South America\")\n",
      "(\"Xenarthra\", \"believed to have evolved\", \"around 60 million years ago\")\n",
      "(\"Xenarthra\", \"broke off from\", \"other placental mammals\")\n",
      "(\"Xenarthra\", \"broke off from\", \"around 100 million years ago\")\n",
      "(\"Xenarthra\", \"includes\", \"Anteaters\")\n",
      "(\"Xenarthra\", \"includes\", \"Armadillos\")\n",
      "(\"Earliest Xenarthra\", \"were\", \"arboreal herbivores\")\n",
      "(\"Earliest Xenarthra\", \"had\", \"sturdy vertebral columns\")\n",
      "(\"Earliest Xenarthra\", \"had\", \"fused pelvises\")\n",
      "(\"Earliest Xenarthra\", \"had\", \"stubby teeth\")\n",
      "(\"Earliest Xenarthra\", \"had\", \"small brains\")\n",
      "(\"Sloths\", \"are in\", \"the taxonomic suborder Folivora\")\n",
      "(\"Folivora\", \"is from\", \"Latin 'leaf eater'\")\n",
      "(\"Pilosa\", \"is from\", \"Latin 'hairy'\")\n",
      "(\"Pilosa\", \"is one of the smallest\", \"orders of the mammal class\")\n",
      "(\"Pilosa\", \"has other suborder\n",
      "-\n"
     ]
    },
    {
     "name": "stderr",
     "output_type": "stream",
     "text": [
      " 81%|█████████████████████████████████████████████████████████████████████████████████████████████████████████████████████████▉                            | 634/780 [1:44:08<19:59,  8.22s/it]"
     ]
    },
    {
     "name": "stdout",
     "output_type": "stream",
     "text": [
      "\n",
      "(\"vertical distribution of giant squid\", \"is incompletely known\", \"true\")\n",
      "(\"vertical distribution of giant squid\", \"data from\", \"trawled specimens\")\n",
      "(\"vertical distribution of giant squid\", \"data from\", \"sperm whale diving behaviour\")\n",
      "(\"vertical distribution of giant squid\", \"spans activity range\", \"300-1000 metres (980-3,280 ft)\")\n",
      "-\n"
     ]
    },
    {
     "name": "stderr",
     "output_type": "stream",
     "text": [
      " 81%|██████████████████████████████████████████████████████████████████████████████████████████████████████████████████████████                            | 635/780 [1:44:14<18:23,  7.61s/it]"
     ]
    },
    {
     "name": "stdout",
     "output_type": "stream",
     "text": [
      "\n",
      "(\"American alligator\", \"was first classified by\", \"French zoologist François Marie Daudin\")\n",
      "(\"American alligator\", \"was given a scientific name of\", \"Crocodilus mississipiensis in 1801\")\n",
      "(\"Georges Cuvier\", \"created the genus\", \"Alligator\")\n",
      "(\"American alligator\", \"shares a genus with\", \"Chinese alligator\")\n",
      "(\"Alligatoridae family\", \"includes\", \"American alligator and caimans\")\n",
      "(\"Alligatoroidea superfamily\", \"includes all crocodilians\", \"that are more closely related to the American alligator than to either the Nile crocodile or the gharial\")\n",
      "-\n"
     ]
    },
    {
     "name": "stderr",
     "output_type": "stream",
     "text": [
      " 82%|██████████████████████████████████████████████████████████████████████████████████████████████████████████████████████████▎                           | 636/780 [1:44:26<21:36,  9.00s/it]"
     ]
    },
    {
     "name": "stdout",
     "output_type": "stream",
     "text": [
      "\n",
      "(\"Primates\", \"is a\", \"quarterly peer-reviewed scientific journal of primatology\")\n",
      "(\"Primates\", \"publishes\", \"original papers\")\n",
      "(\"Primates\", \"publishes\", \"reviews\")\n",
      "(\"Primates\", \"publishes\", \"short communications\")\n",
      "(\"Primates\", \"publishes\", \"book reviews\")\n",
      "(\"Primates\", \"publishes\", \"notes\")\n",
      "(\"Primates\", \"was established in\", \"1957\")\n",
      "(\"Primates\", \"published in\", \"English\")\n",
      "(\"Rockefeller Foundation\", \"provided a grant to\", \"Primates\")\n",
      "(\"Primates\", \"is published by\", \"Springer Science+Business Media\")\n",
      "(\"Primates\", \"has an editor-in-chief\", \"Juichi Yamagiwa\")\n",
      "(\"Juichi Yamagiwa\", \"is an editor-in-chief at\", \"Kyoto University\")\n",
      "-\n"
     ]
    },
    {
     "name": "stderr",
     "output_type": "stream",
     "text": [
      " 82%|██████████████████████████████████████████████████████████████████████████████████████████████████████████████████████████▌                           | 637/780 [1:44:36<21:44,  9.13s/it]"
     ]
    },
    {
     "name": "stdout",
     "output_type": "stream",
     "text": [
      "\n",
      "(\"northern fur seal\", \"scientific name\", \"Callorhinus ursinus\")\n",
      "(\"northern fur seal\", \"found in\", \"north Pacific Ocean\")\n",
      "(\"northern fur seal\", \"found in\", \"Bering Sea\")\n",
      "(\"northern fur seal\", \"found in\", \"Sea of Okhotsk\")\n",
      "(\"northern fur seal\", \"is the largest member of\", \"fur seal subfamily\")\n",
      "(\"northern fur seal\", \"is the only living species in\", \"genus Callorhinus\")\n",
      "(\"genus Callorhinus\", \"has one species\", \"Callorhinus gilmorei\")\n",
      "(\"Callorhinus gilmorei\", \"from the Pliocene of\", \"Japan\")\n",
      "(\"Callorhinus gilmorei\", \"from the Pliocene of\", \"Western North America\")\n",
      "-\n"
     ]
    },
    {
     "name": "stderr",
     "output_type": "stream",
     "text": [
      " 82%|██████████████████████████████████████████████████████████████████████████████████████████████████████████████████████████▋                           | 638/780 [1:44:58<30:49, 13.02s/it]"
     ]
    },
    {
     "name": "stdout",
     "output_type": "stream",
     "text": [
      "\n",
      "(\"Kangaroo reproduction\", \"is similar to\", \"that of opossums\")\n",
      "(\"Kangaroo reproduction\", \"includes descending of \", \"eggs\")\n",
      "(\"eggs\", \"are contained in\", \"shell membrane\")\n",
      "(\"Kangaroo reproduction\", \"includes fast developing\", \"neonates\")\n",
      "(\"neonates\", \"emerge after\", \"33 days\")\n",
      "(\"Kangaroo reproduction\", \"includes climbing of\", \"neonates\")\n",
      "(\"neonates\", \"climb into the pouch through the fur on the mother's abdomen\", \"in three to five minutes\")\n",
      "(\"neonates\", \"attach to\", \"one of the four teats\")\n",
      "(\"Kangaroo reproduction\", \"includes sexual cycle starting again\", \"after the neonates attach to the teats\")\n",
      "(\"Kangaroo reproduction\", \"neonates\", \"grow rapidly\")\n",
      "(\"neonates\", \"emerge out of the pouch\", \"after 190 days\")\n",
      "(\"neonates\", \"leave the pouch for the last time\", \"after 235 days\")\n",
      "(\"Kangaroos\", \"have an average lifespan of\", \"six years in the wild\")\n",
      "(\"Kangaroos\", \"have an average lifespan of\", \"over 20 years in captivity\")\n",
      "(\"Kangaroos\", \"most individuals do not reach maturity\", \"in the wild\")\n",
      "-\n"
     ]
    },
    {
     "name": "stderr",
     "output_type": "stream",
     "text": [
      " 82%|██████████████████████████████████████████████████████████████████████████████████████████████████████████████████████████▉                           | 639/780 [1:45:09<29:19, 12.48s/it]"
     ]
    },
    {
     "name": "stdout",
     "output_type": "stream",
     "text": [
      "\n",
      "(\"Rabies\", \"is caused by\", \"lyssaviruses\")\n",
      "(\"lyssaviruses\", \"include\", \"the rabies virus\")\n",
      "(\"lyssaviruses\", \"include\", \"Australian bat lyssavirus\")\n",
      "(\"Rabies\", \"is spread when\", \"an infected animal bites or scratches a human or other animal\")\n",
      "(\"Rabies\", \"is spread when\", \"saliva from an infected animal comes into contact with the eyes, mouth, or nose\")\n",
      "(\"Globally\", \"dogs are the most common animal involved\", \"in rabies cases\")\n",
      "(\"In countries where dogs commonly have the disease\", \"more than 99% of rabies cases are the direct result of\", \"dog bites\")\n",
      "(\"In the Americas\", \"bat bites are the most common source of rabies infections\", \"in humans\")\n",
      "(\"In the Americas\", \"less than 5% of rabies cases are from\", \"dogs\")\n",
      "(\"Rodents\", \"are very rarely infected with\", \"rabies\")\n",
      "(\"The disease\", \"can be diagnosed only after the start of\", \"symptoms\")\n",
      "-\n"
     ]
    },
    {
     "name": "stderr",
     "output_type": "stream",
     "text": [
      " 82%|███████████████████████████████████████████████████████████████████████████████████████████████████████████████████████████                           | 640/780 [1:45:26<32:13, 13.81s/it]"
     ]
    },
    {
     "name": "stdout",
     "output_type": "stream",
     "text": [
      "\n",
      "(\"dam\", \"has a purpose\", \"to create deepwater refugia\")\n",
      "(\"dam\", \"enables\", \"beaver to escape from predators\")\n",
      "(\"dam\", \"is constructed using\", \"branches from trees the beavers cut down\")\n",
      "(\"dam\", \"is constructed using\", \"rocks\")\n",
      "(\"dam\", \"is constructed using\", \"grass\")\n",
      "(\"dam\", \"is constructed using\", \"mud\")\n",
      "(\"inner bark, twigs, shoots, and leaves of trees\", \"are an important part of the beaver's diet\", \"True\")\n",
      "(\"beavers\", \"cut trees down using\", \"incisor teeth\")\n",
      "(\"beavers\", \"use front paws for\", \"digging and carrying and placing materials\")\n",
      "(\"beavers\", \"depend on\", \"continued presence for their maintenance\")\n",
      "(\"beavers\", \"concentrate on\", \"building and repairing dams in the fall\")\n",
      "(\"Northern beavers\", \"don't repair breaches in the dam made by otters\", \"True\")\n",
      "(\"Northern beavers\", \"sometimes breach the dam themselves and lower the water level\", \"True\")\n",
      "(\"1988 study in Alberta, Canada\", \"found no beavers repaired sites of water loss in the winter\", \"True\")\n",
      "(\"178 sites of water loss\", \"were repaired by beavers when water was opened\", \"True\")\n",
      "(\"178 sites of water loss\", \"were not repaired by be\n",
      "-\n"
     ]
    },
    {
     "name": "stderr",
     "output_type": "stream",
     "text": [
      " 82%|███████████████████████████████████████████████████████████████████████████████████████████████████████████████████████████▎                          | 641/780 [1:45:34<27:43, 11.96s/it]"
     ]
    },
    {
     "name": "stdout",
     "output_type": "stream",
     "text": [
      "\n",
      "(\"Central Park Zoo\", \"is part of\", \"Wildlife Conservation Society (WCS)\")\n",
      "(\"Wildlife Conservation Society (WCS)\", \"is an integrated network of\", \"four zoos and an aquarium\")\n",
      "(\"Wildlife Conservation Society (WCS)\", \"is spread throughout\", \"New York City\")\n",
      "(\"Central Park Zoo\", \"is located at\", \"East 64th Street and Fifth Avenue\")\n",
      "(\"Central Park Zoo\", \"is situated on\", \"a 6.5-acre (2.6 ha) plot in Central Park\")\n",
      "(\"Central Park Zoo\", \"has two entrances\", \"Fifth Avenue entrance and Central Park\")\n",
      "-\n"
     ]
    },
    {
     "name": "stderr",
     "output_type": "stream",
     "text": [
      " 82%|███████████████████████████████████████████████████████████████████████████████████████████████████████████████████████████▍                          | 642/780 [1:45:38<22:22,  9.73s/it]"
     ]
    },
    {
     "name": "stdout",
     "output_type": "stream",
     "text": [
      "\n",
      "(\"most species of cranes\", \"have been affected\", \"by human activities\")\n",
      "(\"most species of cranes\", \"are classified\", \"as threatened\")\n",
      "(\"whooping cranes of North America\", \"inspired\", \"first US legislation to protect endangered species\")\n",
      "-\n"
     ]
    },
    {
     "name": "stderr",
     "output_type": "stream",
     "text": [
      " 82%|███████████████████████████████████████████████████████████████████████████████████████████████████████████████████████████▋                          | 643/780 [1:45:52<25:08, 11.01s/it]"
     ]
    },
    {
     "name": "stdout",
     "output_type": "stream",
     "text": [
      "\n",
      "(\"Leopard\", \"has\", \"relatively short legs\")\n",
      "(\"Leopard\", \"has\", \"long body with a large skull\")\n",
      "(\"Leopard\", \"has fur with\", \"rosettes\")\n",
      "(\"Leopard\", \"is similar in appearance to\", \"jaguar\")\n",
      "(\"Leopard\", \"has a\", \"smaller, lighter physique\")\n",
      "(\"Leopard\", \"has rosettes that are\", \"generally smaller, more densely packed and without central spots\")\n",
      "(\"Leopard\", \"and jaguars that are melanistic\", \"are known as black panthers\")\n",
      "(\"Leopard\", \"is distinguished by\", \"well-camouflaged fur\")\n",
      "(\"Leopard\", \"has\", \"opportunistic hunting behaviour\")\n",
      "(\"Leopard\", \"has a\", \"broad diet\")\n",
      "(\"Leopard\", \"has\", \"strength\")\n",
      "(\"Leopard\", \"has the ability to\", \"adapt to a variety of habitats\")\n",
      "(\"Leopard\", \"can run at speeds of\", \"up to 58 kilometres per hour (36 mph)\")\n",
      "(\"Leopard\", \"has earliest known fossils excavated in Europe estimated\", \"600,000 years old\")\n",
      "(\"Leopard\", \"has earliest known fossils from\", \"late Early Pleistocene\")\n",
      "(\"Leopard\", \"has fossils also found in\", \"Japan\")\n",
      "-\n"
     ]
    },
    {
     "name": "stderr",
     "output_type": "stream",
     "text": [
      " 83%|███████████████████████████████████████████████████████████████████████████████████████████████████████████████████████████▊                          | 644/780 [1:46:03<24:37, 10.86s/it]"
     ]
    },
    {
     "name": "stdout",
     "output_type": "stream",
     "text": [
      "\n",
      "(\"Parasitic species\", \"are mostly\", \"external parasites of fish or crustaceans\")\n",
      "(\"Parasitic species\", \"feed on\", \"blood\")\n",
      "(\"Gnathiidae family\", \"have larvae with\", \"piercing and sucking mouthparts and clawed limbs adapted for clinging onto their hosts\")\n",
      "(\"Cancricepon elegans\", \"is a\", \"isopod parasite\")\n",
      "(\"Cancricepon elegans\", \"is found in\", \"the gill chambers of crabs\")\n",
      "(\"Athelges tenuicaudis\", \"is a\", \"isopod parasite\")\n",
      "(\"Athelges tenuicaudis\", \"is attached to\", \"the abdomen of hermit crabs\")\n",
      "(\"Crinoniscus equitans\", \"is a\", \"isopod parasite\")\n",
      "(\"Crinoniscus equitans\", \"lives inside\", \"the barnacle Balanus perforatus\")\n",
      "(\"Cyproniscids\", \"is a\", \"isopod parasite\")\n",
      "(\"Cyproniscids\", \"lives inside\", \"ostracods and free-living isopods\")\n",
      "(\"Bopyrids\", \"is a\", \"isopod parasite\")\n",
      "(\"Bopyrids\", \"lives in\", \"the gill chambers or on the carapace of shrimps and crabs\")\n",
      "(\"Bopyrids\", \"causes a\",\n",
      "-\n"
     ]
    },
    {
     "name": "stderr",
     "output_type": "stream",
     "text": [
      " 83%|████████████████████████████████████████████████████████████████████████████████████████████████████████████████████████████                          | 645/780 [1:46:15<25:23, 11.28s/it]"
     ]
    },
    {
     "name": "stdout",
     "output_type": "stream",
     "text": [
      "\n",
      "(\"Primates\", \"are divided into\", \"two distinct suborders\")\n",
      "(\"Strepsirrhines\", \"contains\", \"lemurs, galagos, and lorisids\")\n",
      "(\"Strepsirrhines\", \"can be found in\", \"Africa, Madagascar, India, and Southeast Asia\")\n",
      "(\"Colloquial names of species ending in -nosed\", \"refer to\", \"the rhinarium of the primate\")\n",
      "(\"Haplorhines\", \"contains\", \"dry-nosed primates\")\n",
      "(\"Haplorhines\", \"contains\", \"tarsiers, monkeys, and apes\")\n",
      "(\"Haplorhines\", \"contains\", \"humans\")\n",
      "(\"Simians\", \"refer to\", \"monkeys and apes\")\n",
      "(\"Old World monkeys and apes\", \"belong to\", \"the infraorder of catarrhines\")\n",
      "(\"New World monkeys\", \"belong to\", \"the infraorder of platyrrhines\")\n",
      "(\"Simians from Africa\", \"migrated to\", \"South America forty million years ago\")\n",
      "(\"Simians\", \"split into\", \"apes and Old World monkeys twenty-five million years ago\")\n",
      "(\"Common simians\", \"include\", \"baboons, macaques, gibbons, great apes\")\n",
      "(\"Common simians\", \"include\", \"capuchins, howlers, and squirrel monkeys\")\n",
      "-\n"
     ]
    },
    {
     "name": "stderr",
     "output_type": "stream",
     "text": [
      " 83%|████████████████████████████████████████████████████████████████████████████████████████████████████████████████████████████▏                         | 646/780 [1:46:20<20:53,  9.35s/it]"
     ]
    },
    {
     "name": "stdout",
     "output_type": "stream",
     "text": [
      "\n",
      "(\"Pancake\", \"is a\", \"flat cake\")\n",
      "(\"Pancake\", \"is composed of\", \"starch-based batter\")\n",
      "(\"Starch-based batter\", \"may contain\", \"eggs, milk and butter\")\n",
      "(\"Pancake\", \"cooked on a hot surface\", \"griddle or frying pan\")\n",
      "(\"Griddle or frying pan\", \"frying with\", \"oil or butter\")\n",
      "(\"Pancake\", \"archaeological evidence suggests\", \"was probably the earliest and most widespread cereal food\")\n",
      "-\n"
     ]
    },
    {
     "name": "stderr",
     "output_type": "stream",
     "text": [
      " 83%|████████████████████████████████████████████████████████████████████████████████████████████████████████████████████████████▍                         | 647/780 [1:46:28<19:37,  8.85s/it]"
     ]
    },
    {
     "name": "stdout",
     "output_type": "stream",
     "text": [
      "\n",
      "(\"driving test\", \"also known as\", \"driving exam, driver's test, or road test\")  \n",
      "(\"driving test\", \"is a procedure\", \"designed to test a person's ability to drive a motor vehicle\")\n",
      "(\"driving test\", \"exists in\", \"various forms worldwide\")  \n",
      "(\"driving test\", \"is often a requirement to\", \"obtain a driver's license\")\n",
      "(\"driving test\", \"consists of\", \"the practical test, called a road test\")\n",
      "(\"driving test\", \"consists of\", \"written or oral test (theory test)\")\n",
      "(\"driving test\", \"is used to\", \"assess a person's driving ability under normal operating conditions\")\n",
      "(\"driving test\", \"is used to\", \"confirm a person's knowledge of driving and relevant rules and laws\")\n",
      "-\n"
     ]
    },
    {
     "name": "stderr",
     "output_type": "stream",
     "text": [
      " 83%|████████████████████████████████████████████████████████████████████████████████████████████████████████████████████████████▌                         | 648/780 [1:46:35<18:40,  8.49s/it]"
     ]
    },
    {
     "name": "stdout",
     "output_type": "stream",
     "text": [
      "\n",
      "(\"Alligator\", \"is a\", \"crocodilian\")\n",
      "(\"Alligator\", \"is in the genus\", \"Alligator\")\n",
      "(\"Alligator\", \"is of the family\", \"Alligatoridae\")\n",
      "(\"Alligator\", \"has two living species\", \"American alligator & Chinese alligator\")\n",
      "(\"American alligator\", \"is\", \"A. mississippiensis\") \n",
      "(\"Chinese alligator\", \"is\", \"A. sinensis\")\n",
      "(\"Alligator\", \"has extinct species\", \"fossil remains\")\n",
      "(\"Alligator\", \"first appeared\", \"during the Oligocene epoch about 37 million years ago\")\n",
      "-\n"
     ]
    },
    {
     "name": "stderr",
     "output_type": "stream",
     "text": [
      " 83%|████████████████████████████████████████████████████████████████████████████████████████████████████████████████████████████▊                         | 649/780 [1:46:49<22:02, 10.09s/it]"
     ]
    },
    {
     "name": "stdout",
     "output_type": "stream",
     "text": [
      "\n",
      "(\"Sassanian Empire\", \"was affected by\", \"Plague of Justinian\")\n",
      "(\"Eastern Roman Empire\", \"was affected by\", \"Plague of Justinian\")\n",
      "(\"Plague of Justinian\", \"was named after\", \"Emperor Justinian I\")\n",
      "(\"Plague of Justinian\", \"resulted in deaths of\", \"25 million (6th century) to 50 million people (two centuries of recurrence)\")\n",
      "(\"Procopius\", \"wrote in\", \"History of the Wars Volume II\")\n",
      "(\"Plague of Justinian\", \"arrived in\", \"Constantinople in the spring of 542\")\n",
      "(\"Plague of Justinian\", \"spread in the Mediterranean Sea from port to port\",)\n",
      "(\"Plague of Justinian\", \"spread inland into\", \"Asia Minor, Greece and Italy\")\n",
      "(\"Justinian's capital\", \"became an exporter of\", \"bubonic plague\")\n",
      "(\"Procopius\", \"declared in\", \"Secret History that Justinian was a demon of an emperor\")\n",
      "(\"Justinian\", \"was accused of creating the plague or being punished for his sinfulness\",\" in Procopius' Secret History\")\n",
      "-\n"
     ]
    },
    {
     "name": "stderr",
     "output_type": "stream",
     "text": [
      " 83%|█████████████████████████████████████████████████████████████████████████████████████████████████████████████████████████████                         | 650/780 [1:47:05<25:28, 11.76s/it]"
     ]
    },
    {
     "name": "stdout",
     "output_type": "stream",
     "text": [
      "\n",
      "(\"American eel\", \"is found along\", \"the Atlantic coast\")\n",
      "(\"American eel\", \"is found in\", \"Chesapeake Bay\")\n",
      "(\"American eel\", \"is found in\", \"the Hudson River\")\n",
      "(\"American eel\", \"is found as far north as\", \"the St. Lawrence River region\")\n",
      "(\"American eel\", \"is present in\", \"the river system of the eastern Gulf of Mexico\")\n",
      "(\"American eel\", \"is present in some areas further south\", \"\")\n",
      "(\"American eel\", \"hunts predominately at night\", \"\")\n",
      "(\"American eel\", \"hides during the day\", \"\")\n",
      "(\"American eel\", \"hides in\", \"mud, sand, or gravel close to shore\")\n",
      "(\"American eel\", \"hides at depths of\", \"5 to 6 feet\")\n",
      "(\"American eel\", \"feeds on\", \"crustaceans\")\n",
      "(\"American eel\", \"feeds on\", \"aquatic insects\")\n",
      "(\"American eel\", \"feeds on\", \"small insects\")\n",
      "(\"American eel\", \"feeds on\", \"any aquatic organisms they can find and eat\")\n",
      "-\n"
     ]
    },
    {
     "name": "stderr",
     "output_type": "stream",
     "text": [
      " 83%|█████████████████████████████████████████████████████████████████████████████████████████████████████████████████████████████▏                        | 651/780 [1:47:24<30:20, 14.11s/it]"
     ]
    },
    {
     "name": "stdout",
     "output_type": "stream",
     "text": [
      "\n",
      "(\"Chinese black bears\", \"experience habitat threat from\", \"overcutting of forests\")\n",
      "(\"overcutting of forests\", \"is largely due to\", \"human populations increasing to over 430,000\")\n",
      "(\"human populations increasing\", \"is occurring in\", \"Shaanxi, Ganshu, and Sichuan provinces\")\n",
      "(\"27 forestry enterprises\", \"were built between\", \"1950 and 1985\")\n",
      "(\"Asian black bear distribution area\", \"was reduced to\", \"one-fifth of the area that existed before the 1940s\")\n",
      "(\"Asian black bears\", \"face environmental and genetic stress\", \"in isolated populations\")\n",
      "(\"Asian black bear harvests\", \"are maintained at a high level due to\", \"harms to crops, orchards and bee farms\")\n",
      "(\"Annually in the Heilongjiang Province\", \"1000 Asian black bears were harvested\", \"in the 1950s and 1960s\")\n",
      "(\"Purchased furs were reduced\", \"by 4/5 or 9/10 yearly\", \"in the late 1970s to the early 1980s\")\n",
      "(\"Asian black bears\", \"have been declining annually\", \"in the Dehong Dai and Jingpo Nations Autonomous Prefecture and the Yunnan Province\")\n",
      "-\n"
     ]
    },
    {
     "name": "stderr",
     "output_type": "stream",
     "text": [
      " 84%|█████████████████████████████████████████████████████████████████████████████████████████████████████████████████████████████▍                        | 652/780 [1:47:39<30:15, 14.19s/it]"
     ]
    },
    {
     "name": "stdout",
     "output_type": "stream",
     "text": [
      "\n",
      "(\"Venus\", \"has a\", \"constant temperature\")\n",
      "(\"Venus\", \"has a axial tilt of\", \"less than 3°\")\n",
      "(\"Venus\", \"has the highest point\", \"Maxwell Montes\")\n",
      "(\"Maxwell Montes\", \"has a temperature\", \"of about 655 K (380 °C; 715 °F)\")\n",
      " (\"Maxwell Montes\", \"has an atmospheric pressure of\", \"about 4.5 MPa (45 bar)\")\n",
      "(\"Magellan spacecraft\", \"imaged a highly reflective substance\", \"at the tops of the highest mountain peaks\")\n",
      "(\"Highly reflective substance\", \"bore a strong resemblance to\", \"terrestrial snow\")\n",
      "(\"Highly reflective substance\", \"form from a process similar to\", \"snow\")\n",
      "(\"Highly reflective substance\", \"has a speculation\", \"from elemental tellurium to lead sulfide (galena)\")\n",
      "-\n"
     ]
    },
    {
     "name": "stderr",
     "output_type": "stream",
     "text": [
      " 84%|█████████████████████████████████████████████████████████████████████████████████████████████████████████████████████████████▌                        | 653/780 [1:47:47<26:27, 12.50s/it]"
     ]
    },
    {
     "name": "stdout",
     "output_type": "stream",
     "text": [
      "\n",
      "(\"Hypothermia\", \"has two main types of causes\", \"exposure to extreme cold and any condition that decreases heat production or increases heat loss\")\n",
      "(\"Hypothermia\", \"is commonly caused by\", \"alcohol intoxication but also low blood sugar, anorexia, and advanced age\")\n",
      "(\"Body temperature\", \"is usually maintained near\", \"a constant level of 36.5–37.5 °C (97.7–99.5 °F)\")\n",
      "(\"Efforts to increase body temperature\", \"involve\", \"shivering, increased voluntary activity, and putting on warmer clothing\")\n",
      "(\"Hypothermia\", \"may be diagnosed by\", \"measuring a person's core temperature\")\n",
      "-\n"
     ]
    },
    {
     "name": "stderr",
     "output_type": "stream",
     "text": [
      " 84%|█████████████████████████████████████████████████████████████████████████████████████████████████████████████████████████████▊                        | 654/780 [1:47:52<21:32, 10.26s/it]"
     ]
    },
    {
     "name": "stdout",
     "output_type": "stream",
     "text": [
      "\n",
      "(\"Blanford's jerboa\", \"located in\", \"central Iran\")\n",
      "(\"Blanford's jerboa\", \"prey species\", \"around dens of sand cats\")\n",
      "(\"Balochistan gerbil\", \"located in\", \"central Iran\")\n",
      "(\"Balochistan gerbil\", \"prey species\", \"around dens of sand cats\")\n",
      "-\n"
     ]
    },
    {
     "name": "stderr",
     "output_type": "stream",
     "text": [
      " 84%|█████████████████████████████████████████████████████████████████████████████████████████████████████████████████████████████▉                        | 655/780 [1:48:02<20:59, 10.07s/it]"
     ]
    },
    {
     "name": "stdout",
     "output_type": "stream",
     "text": [
      "\n",
      "(\"mollymawks\", \"is a group of\", \"medium-sized albatrosses\")\n",
      "(\"mollymawks\", \"form\", \"the genus Thalassarche\")\n",
      "(\"mollymawks\", \"have been sometimes called\", \"the genus Phoebetria\")\n",
      "(\"mollymawks\", \"are restricted to\", \"Southern Hemisphere\")\n",
      "(\"mollymawks\", \"are most common of\", \"the albatrosses\")\n",
      "(\"mollymawks\", \"were long considered to be in the same genus as\", \"the great albatrosses, Diomedea\")\n",
      "(\"mollymawks\", \"have a mitochondrial DNA that shows\", \"they are a monophyletic taxon\")\n",
      "(\"mollymawks\", \"are related to\", \"the sooty albatrosses\")\n",
      "(\"mollymawks\", \"were placed in their own\", \"genus\")\n",
      "-\n"
     ]
    },
    {
     "name": "stderr",
     "output_type": "stream",
     "text": [
      " 84%|██████████████████████████████████████████████████████████████████████████████████████████████████████████████████████████████▏                       | 656/780 [1:48:12<20:42, 10.02s/it]"
     ]
    },
    {
     "name": "stdout",
     "output_type": "stream",
     "text": [
      "\n",
      "(\"Voyager 2\", \"performed a flyby in\", \"1989 of Triton\")\n",
      "(\"Voyager 2\", \"found surface temperatures of\", \"-235 °C\")\n",
      "(\"Voyager 2\", \"discovered active geysers on\", \"Triton\")\n",
      "(\"Voyager 2\", \"remains the only spacecraft to\", \"visit Triton\")\n",
      "(\"Triton\", \"is one of the few moons\", \"in the Solar System known to be geologically active\")\n",
      "(\"Triton\", \"has few obvious impact craters\", \"on its surface\")\n",
      "(\"Triton\", \"has intricale cryovolcanic and tectonic terrains\", \"suggesting a complex geological history\")\n",
      "(\"Triton's surface\", \"has geysers erupting\", \"sublimated nitrogen gas\")\n",
      "(\"Triton\", \"has an atmosphere\", \"less than ​1⁄70,000 the pressure of Earth's atmosphere at sea level\")\n",
      "-\n"
     ]
    },
    {
     "name": "stderr",
     "output_type": "stream",
     "text": [
      " 84%|██████████████████████████████████████████████████████████████████████████████████████████████████████████████████████████████▎                       | 657/780 [1:48:17<17:27,  8.52s/it]"
     ]
    },
    {
     "name": "stdout",
     "output_type": "stream",
     "text": [
      "\n",
      "(\"Bornean orangutan\", \"is a\", \"critically endangered species\")\n",
      "(\"Bornean orangutan\", \"is threatened by\", \"deforestation\")\n",
      "(\"Bornean orangutan\", \"is threatened by\", \"palm oil plantations\")\n",
      "(\"Bornean orangutan\", \"is threatened by\", \"hunting\")\n",
      "-\n"
     ]
    },
    {
     "name": "stderr",
     "output_type": "stream",
     "text": [
      " 84%|██████████████████████████████████████████████████████████████████████████████████████████████████████████████████████████████▌                       | 658/780 [1:48:25<17:09,  8.43s/it]"
     ]
    },
    {
     "name": "stdout",
     "output_type": "stream",
     "text": [
      "\n",
      "(\"Pokémon universe\", \"includes using\", \"Poké Balls\")\n",
      "(\"Poké Balls\", \"are used to\", \"capture wild Pokémon\")\n",
      "(\"Wild Pokémon\", \"can then be\", \"battled with other Pokémon\")\n",
      "(\"Pokémon\", \"gain experience points\", \"from battles and from catching Pokémon in Poké Balls\")\n",
      "(\"Pokémon\", \"can level up and\", \"learn new moves\")\n",
      "(\"Pokémon\", \"may experience\", \"evolution\")\n",
      "(\"Pokémon\", \"may have maximum of\", \"two evolutionary transformation\")\n",
      "(\"Certain Pokémon\", \"can undergo\", \"Mega Evolution\")\n",
      "(\"Mega Evolution\", \"is a special case and\", \"is reversible\")\n",
      "-\n"
     ]
    },
    {
     "name": "stderr",
     "output_type": "stream",
     "text": [
      " 84%|██████████████████████████████████████████████████████████████████████████████████████████████████████████████████████████████▋                       | 659/780 [1:48:41<21:17, 10.56s/it]"
     ]
    },
    {
     "name": "stdout",
     "output_type": "stream",
     "text": [
      "\n",
      "(\"12-tone technique\", \"is also known as\", \"dodecaphony\")\n",
      "(\"12-tone technique\", \"is also known as\", \"twelve-tone serialism\")\n",
      "(\"12-tone technique\", \"is also known as\", \"twelve-note composition\")\n",
      "(\"12-tone technique\", \"was devised by\", \"Austrian composer Josef Matthias Hauer\")\n",
      "(\"12-tone technique\", \"was developed by\", \"Arnold Schoenberg\")\n",
      "(\"12-tone technique\", \"was associated with\", \"the Second Viennese School composers\")\n",
      "(\"12-tone technique\", \"uses\", \"tone rows\")\n",
      "(\"12-tone technique\", \"avoids\", \"emphasizing any one note\")\n",
      "(\"12-tone technique\", \"gained popularity among\", \"20th-century composers\")\n",
      "(\"Aaron Copland\", \"eventually adopted\", \"12-tone technique\")\n",
      "(\"Igor Stravinsky\", \"eventually adopted\", \"12-tone technique\")\n",
      "-\n"
     ]
    },
    {
     "name": "stderr",
     "output_type": "stream",
     "text": [
      " 85%|██████████████████████████████████████████████████████████████████████████████████████████████████████████████████████████████▉                       | 660/780 [1:48:53<22:28, 11.24s/it]"
     ]
    },
    {
     "name": "stdout",
     "output_type": "stream",
     "text": [
      "\n",
      "(\"snow leopard\", \"is a\", \"carnivore\")\n",
      "(\"snow leopard\", \"actively hunts\", \"prey\")\n",
      "(\"snow leopard\", \"is an opportunistic hunter\", \"of carrion\")\n",
      "(\"snow leopard\", \"preys on\", \"Himalayan blue sheep\")\n",
      "(\"snow leopard\", \"preys on\", \"Himalayan tahr\")\n",
      "(\"snow leopard\", \"preys on\", \"argali\")\n",
      "(\"snow leopard\", \"preys on\", \"markhor\")\n",
      "(\"snow leopard\", \"preys on\", \"wild goat\")\n",
      "(\"snow leopard\", \"preys on\", \"domestic livestock\")\n",
      "(\"snow leopard\", \"preys on\", \"marmot\")\n",
      "(\"snow leopard\", \"preys on\", \"pika\")\n",
      "(\"snow leopard\", \"preys on\", \"vole species\")\n",
      "(\"snow leopard\", \"preys mostly on\", \"Himalayan blue sheep\")\n",
      "(\"snow leopard\", \"preys mostly on\", \"Siberian ibex\")\n",
      "(\"snow leopard\", \"preys on\", \"Thorold's deer\")\n",
      "(\"snow leopard\", \"preys on\", \"Siberian roe deer\")\n",
      "(\"snow leopard\", \"preys on\", \"red panda\n",
      "-\n"
     ]
    },
    {
     "name": "stderr",
     "output_type": "stream",
     "text": [
      " 85%|███████████████████████████████████████████████████████████████████████████████████████████████████████████████████████████████                       | 661/780 [1:49:09<24:52, 12.54s/it]"
     ]
    },
    {
     "name": "stdout",
     "output_type": "stream",
     "text": [
      "\n",
      "(\"body\", \"is\", \"fairly slender and flabby\") \n",
      "(\"dorsal fin\", \"is similar in size and shape\", \"small and rounded\")\n",
      "(\"pectoral fin\", \"is rather small and rounded\", \"true\")\n",
      "(\"pelvic fin\", \"is larger than\", \"dorsal fin\")\n",
      "(\"caudal peduncle\", \"is flattened from side-to-side and lacks keels or notches\", \"true\")\n",
      "(\"asymmetric caudal fin\", \"has a long upper lobe with a shallow ventral notch near the tip, and an indistinct lower lobe\", \"true\")\n",
      "(\"skin\", \"has a covering of\", \"dermal denticles\")\n",
      "(\"dermal denticles\", \"are shaped like\", \"a short upright spine with lengthwise ridges\")\n",
      "(\"Living sharks\", \"are\", \"pink ortan\")\n",
      "(\"Young sharks\", \"may be\", \"almost white\") \n",
      "(\"fin's margins\", \"are\", \"translucent gray or blue\")\n",
      "(\"eyes\", \"are\", \"black with bluish streaks in the irises\")\n",
      "(\"Adult sharks\", \"measure between\", \"3 and 4 m\") \n",
      "(\"maximum weight recorded\", \"is\", \"210 kg for a 3.8-m-long shark\")\n",
      "-\n"
     ]
    },
    {
     "name": "stderr",
     "output_type": "stream",
     "text": [
      " 85%|███████████████████████████████████████████████████████████████████████████████████████████████████████████████████████████████▎                      | 662/780 [1:49:19<22:54, 11.65s/it]"
     ]
    },
    {
     "name": "stdout",
     "output_type": "stream",
     "text": [
      "\n",
      "(\"sting and associated venom sac\", \"are modified so as to\", \"pull free of the body once lodged\")\n",
      "(\"sting apparatus\", \"has its own musculature and ganglion\", \"that allow it to keep delivering venom once detached\")\n",
      "(\"sting apparatus\", \"has a gland\", \"that produces alarm pheromone\")\n",
      "(\"stinger\", \"continues to emit alarm pheromone after it\", \"has torn loose\")\n",
      "(\"defensive workers\", \"are attracted to\", \"the sting site\")\n",
      "(\"worker\", \"dies after the sting\", \"becomes lodged and is subsequently torn loose from the bee's abdomen\")\n",
      "(\"honey bee's venom\", \"is known as\", \"apitoxin\")\n",
      "(\"honey bee's venom\", \"carries several active components\", \"with melittin as the most abundant\")\n",
      "(\"honey bee's venom\", \"has most biologically active components\", \"as enzymes, particularly phospholipase A2\")\n",
      "-\n"
     ]
    },
    {
     "name": "stderr",
     "output_type": "stream",
     "text": [
      " 85%|███████████████████████████████████████████████████████████████████████████████████████████████████████████████████████████████▌                      | 663/780 [1:49:26<20:26, 10.48s/it]"
     ]
    },
    {
     "name": "stdout",
     "output_type": "stream",
     "text": [
      "\n",
      "(\"Desert Combat Uniform\", \"is an\", \"arid-environment camouflage uniform\")\n",
      "(\"Desert Combat Uniform\", \"used by\", \"United States Armed Forces\")\n",
      "(\"Desert Combat Uniform\", \"used time period\", \"mid-1990s to the early 2010s\")\n",
      "(\"Desert Combat Uniform\", \"nearly identical to\", \"U.S. military's Battle Dress Uniform\")\n",
      "(\"Desert Combat Uniform\", \"features\", \"three-color desert camouflage pattern of dark brown, pale green, and beige\")\n",
      "(\"Desert Battle Dress Uniform\", \"features\", \"beige, pale green, two tones of brown, and black and white rock spots\")\n",
      "-\n"
     ]
    },
    {
     "name": "stderr",
     "output_type": "stream",
     "text": [
      " 85%|███████████████████████████████████████████████████████████████████████████████████████████████████████████████████████████████▋                      | 664/780 [1:49:33<18:09,  9.39s/it]"
     ]
    },
    {
     "name": "stdout",
     "output_type": "stream",
     "text": [
      "\n",
      "(\"Zoot suits\", \"required\", \"amount of material and tailoring\")\n",
      "(\"Zoot suits\", \"considered as\", \"luxury items\")\n",
      "(\"U.S. War Production Board\", \"said\", \"they wasted materials for WWII war effort\")\n",
      "(\"Life magazine\", \"published photographs of\", \"zoot suiters in 1942\")\n",
      "(\"Life magazine\", \"joked\", \"they were \"solid arguments for lowering the Army draft age to include 18-year-olds\"\")\n",
      "(\"Zoot suits\", \"considered unpatriotic\", \"during wartime\")\n",
      "(\"Zoot Suit Riots\", \"were caused by\", \"this extravagance\")\n",
      "(\"Wearing Zoot Suits\", \"was a declaration of\", \"freedom and self-determination\")\n",
      "(\"Wearing Zoot Suits\", \"was considered\", \"even rebelliousness\")\n",
      "-\n"
     ]
    },
    {
     "name": "stderr",
     "output_type": "stream",
     "text": [
      " 85%|███████████████████████████████████████████████████████████████████████████████████████████████████████████████████████████████▉                      | 665/780 [1:49:48<21:22, 11.15s/it]"
     ]
    },
    {
     "name": "stdout",
     "output_type": "stream",
     "text": [
      "\n",
      "(\"Dolphins\", \"have\",  \"two pectoral flippers\")\n",
      "(\"Dolphins\", \"have\", \"a boneless dorsal fin\")\n",
      "(\"Dolphins\", \"have\", \"a tail fin\")\n",
      "(\"Dolphins\", \"may possess\", \"discrete rudimentary appendages\")\n",
      "(\"Dolphins\", \"may possess\", \"feet and digits\")\n",
      "(\"Dolphins\", \"are fast swimmers in comparison to\", \"seals\")\n",
      "(\"Killer Whale (Orca)\", \"can travel at speeds up to\", \"55.5 kilometres per hour (34.5 mph)\")\n",
      "(\"Dolphins\", \"have\", \"fused neck vertebrae\")\n",
      "(\"River dolphins\", \"have\", \"non-fused neck vertebrae\")\n",
      "(\"Dolphins\", \"swim by\", \"moving their tail fin and rear body vertically\")\n",
      "(\"Dolphins\", \"use their flippers for\", \"steering\")\n",
      "(\"Dolphins\", \"can travel faster when\", \"logging out of the water\")\n",
      "(\"Dolphins\", \"have a\", \"dorsal fin to prevent spinning in the water\")\n",
      "-\n"
     ]
    },
    {
     "name": "stderr",
     "output_type": "stream",
     "text": [
      " 85%|████████████████████████████████████████████████████████████████████████████████████████████████████████████████████████████████                      | 666/780 [1:49:58<20:27, 10.77s/it]"
     ]
    },
    {
     "name": "stdout",
     "output_type": "stream",
     "text": [
      "\n",
      "(\"Plague\", \"was introduced to Europe via\", \"Genoese traders from Kaffa in the Crimea in 1347\")\n",
      "(\"Mongol Golden Horde Army\", \"catapulted infected corpses over the city walls of\", \"Kaffa\")\n",
      "(\"Genoese traders\", \"fled to\", \"Constantinople\")\n",
      "(\"Constantinople\", \"was the first city in Europe to receive Plague\", \"in Summer 1347\")\n",
      "(\"John VI Kantakouzenos\", \"described the disease based on Thucydides's account of\", \"Plague of Athens\")\n",
      "(\"Nicephorus Gregoras\", \"described rising death toll, futility of medicine, and panic of citizens to\", \"Demetrios Kydones\")\n",
      "(\"First Outbreak in Constantinople\", \"lasted\", \"a year\")\n",
      "(\"Plague\", \"recurred in Constantinople\", \"ten times before 1400\")\n",
      "-\n"
     ]
    },
    {
     "name": "stderr",
     "output_type": "stream",
     "text": [
      " 86%|████████████████████████████████████████████████████████████████████████████████████████████████████████████████████████████████▎                     | 667/780 [1:50:07<18:51, 10.01s/it]"
     ]
    },
    {
     "name": "stdout",
     "output_type": "stream",
     "text": [
      "\n",
      "(\"honey badger\", \"is the only species of the genus\", \"Mellivora\")\n",
      "(\"honey badger\", \"was assigned to the badger subfamily\", \"Melinae\")\n",
      "(\"honey badger\", \"is now generally agreed to\", \"bear very few similarities to the Melinae\")\n",
      "(\"honey badger\", \"is much more closely related to the marten subfamily\", \"Guloninae\")\n",
      "(\"honey badger\", \"is assigned its own subfamily\", \"Mellivorinae\")\n",
      "(\"Mellivorinae\", \"differs from Guloninae by\", \"differences in their dentition formulae\")\n",
      "(\"honey badger\", \"can be regarded as another, analogous form of\", \"outsized weasel or polecat\")\n",
      "-\n"
     ]
    },
    {
     "name": "stderr",
     "output_type": "stream",
     "text": [
      " 86%|████████████████████████████████████████████████████████████████████████████████████████████████████████████████████████████████▍                     | 668/780 [1:50:18<19:36, 10.50s/it]"
     ]
    },
    {
     "name": "stdout",
     "output_type": "stream",
     "text": [
      "\n",
      "(\"Saltwater aquariums\", \"are a type of\", \"multi-million dollar industry\")\n",
      "(\"Saltwater aquariums\", \"import\", \"about 10 million marine fish per year\")\n",
      "(\"United States\", \"imports more saltwater fish than any other country in the world\", \"\")\n",
      "(\"Approximately 2,000 different species of saltwater fish\", \"are imported for aquarium use\", \"\")\n",
      "(\"Fish used for marine trade\", \"are often collected using\", \"harmful tactics such as cyanide\")\n",
      "(\"People\", \"are trying to protect coral reefs by\", \"breeding marine fish in captivity\")\n",
      "(\"Captive-bred fish\", \"are known to be\", \"healthier and likely to live longer\")\n",
      "(\"Captive-bred fish\", \"are less susceptible to disease because\", \"they have not been exposed to the wild and they have not been damaged during the shipment process\")\n",
      "(\"Captive-bred fish\", \"are already accustomed to\", \"aquarium habitats and food\")\n",
      "-\n"
     ]
    },
    {
     "name": "stderr",
     "output_type": "stream",
     "text": [
      " 86%|████████████████████████████████████████████████████████████████████████████████████████████████████████████████████████████████▋                     | 669/780 [1:50:25<17:23,  9.40s/it]"
     ]
    },
    {
     "name": "stdout",
     "output_type": "stream",
     "text": [
      "\n",
      "(\"Canidae\", \"is a\", \"biological family of dog-like carnivorans\")\n",
      "(\"Canidae\", \"includes\", \"three subfamilies\")\n",
      "(\"three subfamilies\", \"consist of\", \"extinct Borophaginae and Hesperocyoninae, and the extant Caninae\") \n",
      "(\"Caninae\", \"are known as\", \"canines\")\n",
      "(\"canines\", \"include\", \"domestic dogs, wolves, foxes and other extant and extinct species\")\n",
      "-\n"
     ]
    },
    {
     "name": "stderr",
     "output_type": "stream",
     "text": [
      " 86%|████████████████████████████████████████████████████████████████████████████████████████████████████████████████████████████████▊                     | 670/780 [1:50:34<16:50,  9.19s/it]"
     ]
    },
    {
     "name": "stdout",
     "output_type": "stream",
     "text": [
      "\n",
      "(\"Wasps in the family Pompilidae\", \"are commonly called\", \"spider wasps, spider-hunting wasps, or pompilid wasps\")\n",
      "(\"The family\", \"is cosmopolitan\", \"with some 5,000 species in six subfamilies\")\n",
      "(\"Nearly all species\", \"are solitary\", \"with the exception of some group-nesting Ageniellini\")\n",
      "(\"Most wasps\", \"capture and paralyze prey\", \"\")\n",
      "(\"Members of the subfamily Ceropalinae\", \"are kleptoparasites of other pompilids\", \"\")\n",
      "(\"Members of the subfamily Ceropalinae\", \"are ectoparasitoids of living spiders\", \"\")\n",
      "-\n"
     ]
    },
    {
     "name": "stderr",
     "output_type": "stream",
     "text": [
      " 86%|█████████████████████████████████████████████████████████████████████████████████████████████████████████████████████████████████                     | 671/780 [1:50:46<18:29, 10.18s/it]"
     ]
    },
    {
     "name": "stdout",
     "output_type": "stream",
     "text": [
      "\n",
      "(\"EU and EEA member states\", \"have max overall length\", \"18.75m\")\n",
      "(\"EU and EEA member states\", \"have max weight\", \"40 tonnes\")\n",
      "(\"EU and EEA member states\", \"have max weight\", \"44 tonnes\")\n",
      "(\"EU and EEA member states\", \"have max semi-trailers length\", \"16.5m\")\n",
      "(\"EU and EEA member states\", \"have max semi-trailers length\", \"18.75m\")\n",
      "(\"Trucks\", \"carry\", \"7.82m body with one additional 7.82m body on tow as a trailer\")\n",
      "(\"EcoCombi\", \"influenced the name of\", \"EuroCombi\")\n",
      "(\"EuroCombi\", \"shall be legal to operate in\", \"all jurisdictions of the European Economic Area\")\n",
      "(\"Cargo weight\", \"fuel efficiency increases by\", \"average of 20%\")\n",
      "(\"Cargo weight\", \"has relative decrease in carbon emissions\", \"yes\")\n",
      "(\"Cargo weight\", \"has benefit of\", \"one third fewer trucks on the road\")\n",
      "(\"Europe Module System\", \"defined as\", \"it was implemented in Sweden\")\n",
      "(\"EuroCombi\", \"to operate in\", \"all EU member states\")\n",
      "(\"Sweden and Finland\", \"have exemption from the European Economic Area rules\", \"60 tonne and 25.25m\")\n",
      "(\"Germany\", \"has allowed\n",
      "-\n"
     ]
    },
    {
     "name": "stderr",
     "output_type": "stream",
     "text": [
      " 86%|█████████████████████████████████████████████████████████████████████████████████████████████████████████████████████████████████▏                    | 672/780 [1:50:52<15:48,  8.78s/it]"
     ]
    },
    {
     "name": "stdout",
     "output_type": "stream",
     "text": [
      "\n",
      "(\"Twenty-first century\", \"has a\", \"decided trend to increase economy seating density\")\n",
      "(\"None of the main four US carriers in 1985\", \"offered a seat width less than\", \"19 inches\")\n",
      "(\"Average seat width\", \"decreased from\", \"18.5 to 17 inches since the beginning of the twenty-first century until 2018\")\n",
      "(\"Average seat width\", \"sometimes goes as low as\", \"16.1 inches\")\n",
      "-\n"
     ]
    },
    {
     "name": "stderr",
     "output_type": "stream",
     "text": [
      " 86%|█████████████████████████████████████████████████████████████████████████████████████████████████████████████████████████████████▍                    | 673/780 [1:51:02<16:28,  9.24s/it]"
     ]
    },
    {
     "name": "stdout",
     "output_type": "stream",
     "text": [
      "\n",
      "(\"Kangaroo\", \"is important to\", \"Aboriginal Australians\")\n",
      "(\"Kangaroo\", \"is used for\", \"meat, hide, bone, and tendon\")\n",
      "(\"Kangaroo hides\", \"were sometimes used for\", \"recreation\")\n",
      "(\"Kurnai tribe\", \"used\", \"stuffed kangaroo scrotum as a ball for the traditional football game of marngrook\")\n",
      "(\"Kangaroo\", \"is connected to\", \"Dreaming stories and ceremonies\")\n",
      "(\"Aherrenge\", \"is a current kangaroo dreaming site in\", \"the Northern Territory\")\n",
      "-\n"
     ]
    },
    {
     "name": "stderr",
     "output_type": "stream",
     "text": [
      " 86%|█████████████████████████████████████████████████████████████████████████████████████████████████████████████████████████████████▌                    | 674/780 [1:51:12<16:45,  9.48s/it]"
     ]
    },
    {
     "name": "stdout",
     "output_type": "stream",
     "text": [
      "\n",
      "(\"Chinese\", \"eat with\", \"two sticks\")\n",
      "(\"Chinese\", \"eat with\", \"an earthenware or china bowl\")\n",
      "(\"earthenware or china bowl\", \"held\", \"in their left hand close to the mouth\")\n",
      "(\"lower chopstick\", \"rests at the base of the thumb and between the ring finger and middle finger\", \"Chinese way\")\n",
      "(\"second chopstick\", \"held\", \"like a pencil using the tips of the thumb, index finger, and middle finger\")\n",
      "(\"second chopstick\", \"moved while eating\", \"to pull food into the grasp of the chopsticks\")\n",
      "(\"chopsticks\", \"placed when not in use\", \"to the right or below one's plate in a Chinese table setting\")\n",
      "(\"some Chinese people\", \"feel that using serving chopsticks is more sanitary\", \"true\")\n",
      "-\n"
     ]
    },
    {
     "name": "stderr",
     "output_type": "stream",
     "text": [
      " 87%|█████████████████████████████████████████████████████████████████████████████████████████████████████████████████████████████████▊                    | 675/780 [1:51:21<16:31,  9.44s/it]"
     ]
    },
    {
     "name": "stdout",
     "output_type": "stream",
     "text": [
      "\n",
      "(\"Good, the Bad & the Queen\", \"were\", \"a supergroup\")\n",
      "(\"Good, the Bad & the Queen\", \"comprised of\", \"singer Damon Albarn of Blur and Gorillaz\")\n",
      "(\"Good, the Bad & the Queen\", \"composed of\", \"bassist Paul Simonon of the Clash\")\n",
      "(\"Good, the Bad & the Queen\", \"composed of\", \"guitarist Simon Tong of the Verve\")\n",
      "(\"Good, the Bad & the Queen\", \"composed of\", \"Fela Kuti drummer Tony Allen\")\n",
      "(\"Good, the Bad & the Queen\", \"released their self-titled debut album in\", \"2007\")\n",
      "(\"Good, the Bad & the Queen\", \"released their second album\", \"Merrie Land\")\n",
      "(\"Good, the Bad & the Queen\", \"second album was coproduced with\", \"Tony Visconti\")\n",
      "(\"Good, the Bad & the Queen\", \"second album was released in\", \"2018\")\n",
      "-\n"
     ]
    },
    {
     "name": "stderr",
     "output_type": "stream",
     "text": [
      " 87%|██████████████████████████████████████████████████████████████████████████████████████████████████████████████████████████████████                    | 676/780 [1:51:28<14:51,  8.57s/it]"
     ]
    },
    {
     "name": "stdout",
     "output_type": "stream",
     "text": [
      "\n",
      "(\"Cats\", \"are\", \"obligate carnivores\")\n",
      "(\"Cats\", \"depend upon\", \"the nutrients present in animal flesh\")\n",
      "(\"Cats\", \"will relish\", \"freshly killed meat\") \n",
      "(\"Meat\", \"from\", \"rodents, rabbits, amphibians, birds, reptiles and fish\") \n",
      "(\"Cats\", \"will readily take\", \"cooked food and dried cat food\") \n",
      "(\"Cats' natural diet\", \"does not include\", \"any vegetable matter\")\n",
      "(\"Cats\", \"have been known to\", \"eat certain plants and grasses occasionally\")\n",
      "-\n"
     ]
    },
    {
     "name": "stderr",
     "output_type": "stream",
     "text": [
      " 87%|██████████████████████████████████████████████████████████████████████████████████████████████████████████████████████████████████▏                   | 677/780 [1:51:47<20:14, 11.79s/it]"
     ]
    },
    {
     "name": "stdout",
     "output_type": "stream",
     "text": [
      "\n",
      "(\"Evolution\", \"is defined as\", \"a sudden change in form of a Pokémon\")\n",
      "(\"Evolution\", \"is usually accompanied by\", \"an increase in stat values\")\n",
      "(\"Evolution\", \"can be triggered by\", \"gaining enough battle experience\")\n",
      "(\"Evolution\", \"can also be triggered by\", \"using evolutionary stones\")\n",
      "(\"Evolution\", \"can also be triggered by\", \"trading the Pokémon to another player\")\n",
      "(\"Evolution\", \"can also be triggered by\", \"dependence on the Pokémon's friendship level\")\n",
      "(\"Evolution\", \"can also be triggered by\", \"the time of day in the game\")\n",
      "(\"Evolution\", \"can also be triggered by\", \"carrying a unique item while being traded\")\n",
      "(\"Evolution\", \"can also be triggered by\", \"the gender of the Pokémon\")\n",
      "(\"Evolution\", \"can also be triggered by\", \"the area in the game where the Pokémon levels up\")\n",
      "(\"Evolution\", \"can also be triggered by\", \"having a separate specific Pokémon in the player's party\")\n",
      "(\"Evolution\", \"can also be triggered by\", \"trading for a specific Pokémon\")\n",
      "(\"Evolution\", \"can also be triggered by\", \"knowing a certain move\")\n",
      "(\"Evolution\", \"can also be triggered by\", \"holding the game console upside down\")\n",
      "-\n"
     ]
    },
    {
     "name": "stderr",
     "output_type": "stream",
     "text": [
      " 87%|██████████████████████████████████████████████████████████████████████████████████████████████████████████████████████████████████▍                   | 678/780 [1:51:50<15:30,  9.12s/it]"
     ]
    },
    {
     "name": "stdout",
     "output_type": "stream",
     "text": [
      "\n",
      "(\"Crossroads Kitchen\", \"is a\", \"vegan fine-dining restaurant\")\n",
      "(\"Crossroads Kitchen\", \"is located in\", \"Beverly Grove neighborhood of Los Angeles\")\n",
      "-\n"
     ]
    },
    {
     "name": "stderr",
     "output_type": "stream",
     "text": [
      " 87%|██████████████████████████████████████████████████████████████████████████████████████████████████████████████████████████████████▌                   | 679/780 [1:51:56<13:38,  8.10s/it]"
     ]
    },
    {
     "name": "stdout",
     "output_type": "stream",
     "text": [
      "\n",
      "(\"shuttlecock\", \"is a\", \"feathered or, in informal matches, plastic projectile\")\n",
      "(\"shuttlecock\", \"flies differently from\", \"the balls used in many other sports\")\n",
      "(\"the feathers\", \"create\", \"much higher drag\")\n",
      "(\"shuttlecock\", \"decelerates more rapidly due to\",\"drag\")\n",
      "(\"shuttlecock\", \"has a high top speed compared to\",\"the balls in other racquet sports\")\n",
      "(\"the flight of the shuttlecock\", \"gives\", \"the sport its distinctive nature\")\n",
      "-\n"
     ]
    },
    {
     "name": "stderr",
     "output_type": "stream",
     "text": [
      " 87%|██████████████████████████████████████████████████████████████████████████████████████████████████████████████████████████████████▊                   | 680/780 [1:52:12<17:16, 10.36s/it]"
     ]
    },
    {
     "name": "stdout",
     "output_type": "stream",
     "text": [
      "\n",
      "(\"American black bear\", \"hibernates in\", \"northern regions in winter\")\n",
      "(\"Grizzly bear\", \"hibernates in\", \"northern regions in winter\")\n",
      "(\"Bear's metabolism\", \"slows down during hibernation\", \"yes\")\n",
      "(\"Bear's body temperature\", \"decreases slightly during hibernation\" ,\"yes\")\n",
      "(\"Bear's heart rate\", \"slows from a normal value of 55 to just 9 beats per minute during hibernation\", \"yes\")\n",
      "(\"Bear's\", \"normal wake pattern during hibernation\",\"do not wake\")\n",
      "(\"Bear's eating pattern\", \"during hibernation\", \"do not eat\")\n",
      "(\"Bear's drinking pattern\", \"during hibernation\", \"do not drink\")\n",
      "(\"Bear's urinating pattern\", \"during hibernation\", \"do not urinate\")\n",
      "(\"Bear's defecating pattern\", \"during hibernation\", \"do not defecate\")\n",
      "(\"Bear's colon\", \"expells fecal plug in spring\", \"yes\")\n",
      "(\"Bear's body fat\", \"stored during hibernation\", \"enough to maintain muscle condition\")\n",
      "(\"Bear's protein maintenance\",\"met from recycling waste urea during hibernation\",\"yes\")\n",
      "(\"Female bears\", \"give birth during hibernation period\",\"yes\")\n",
      "(\"Female bears\", \"roused when giving birth during hibernation period\", \"yes\")\n",
      "-\n"
     ]
    },
    {
     "name": "stderr",
     "output_type": "stream",
     "text": [
      " 87%|██████████████████████████████████████████████████████████████████████████████████████████████████████████████████████████████████▉                   | 681/780 [1:52:23<17:38, 10.69s/it]"
     ]
    },
    {
     "name": "stdout",
     "output_type": "stream",
     "text": [
      "\n",
      "(\"Food and Drug Administration\", \"issued\", \"Public Safety Communication warning\")\n",
      "(\"Food and Drug Administration\", \"warning was about\", \"repeated or lengthy use of general anesthetic and sedation drugs\")\n",
      "(\"Public Safety Communication warning\", \"applied to\", \"children younger than 3 years or pregnant women during third trimester\")\n",
      "(\"Public Safety Communication warning\", \"possible implications of\", \"affecting the development of children's brains\")\n",
      "(\"American College of Obstetricians and Gynecologists\", \"criticized\", \"Public Safety Communication warning\")\n",
      "(\"American College of Obstetricians and Gynecologists\", \"reasoning behind criticism\", \"absence of direct evidence regarding use in pregnant women\")\n",
      "(\"American College of Obstetricians and Gynecologists\", \"possibility of\", \"inappropriately dissuading providers from providing medically indicated care during pregnancy\")\n",
      "(\"Patient advocates\", \"noted\", \"randomized clinical trials would be unethical\")\n",
      "(\"Patient advocates\", \"acknowledge the\", \"well-established mechanism of injury in animals\")\n",
      "(\"Patient advocates\", \"acknowledge\", \"studies that showed exposure to multiple uses of anesthetic significantly increased the risk of developing learning disabilities in young children\")\n",
      "(\"Exposure to multiple uses of anesthetic\", \"risk of developing learning disabilities\", \"hazard ratio of 2.12 (95% confidence interval, 1.26–3.54)\")\n",
      "-\n"
     ]
    },
    {
     "name": "stderr",
     "output_type": "stream",
     "text": [
      " 87%|███████████████████████████████████████████████████████████████████████████████████████████████████████████████████████████████████▏                  | 682/780 [1:52:32<16:34, 10.15s/it]"
     ]
    },
    {
     "name": "stdout",
     "output_type": "stream",
     "text": [
      "\n",
      "(\"Worker honey bee\", \"has the ability to\", \"sting\")\n",
      "(\"Worker honey bee\", \"can sting\", \"more than once\")\n",
      "(\"Worker honey bee\", \"stinger\", \"is barbed\")\n",
      "(\"Stinger\", \"lodges in\", \"victim's skin\")\n",
      "(\"Stinger\", \"tears loose from\", \"bee's abdomen\")\n",
      "(\"Stinger\", \"causes the death of the bee\", \"in minutes\")\n",
      "(\"Skin of the victim\", \"affects the stinger\", \"sufficiently thick\")\n",
      "(\"Honey bee\", \"is the only hymenoptera with a strongly barbed sting\", \"true\")\n",
      "(\"Yellow jacket\", \"and some other wasps have\", \"small barbs\")\n",
      "-\n"
     ]
    },
    {
     "name": "stderr",
     "output_type": "stream",
     "text": [
      " 88%|███████████████████████████████████████████████████████████████████████████████████████████████████████████████████████████████████▎                  | 683/780 [1:52:47<18:47, 11.62s/it]"
     ]
    },
    {
     "name": "stdout",
     "output_type": "stream",
     "text": [
      "\n",
      "(\"Atlantic\", \"is the saltiest\", \"major ocean\")\n",
      "(\"surface water salinity in the open ocean\", \"ranges from\", \"33-37 parts per thousand (3.3-3.7%) by mass\")\n",
      "(\"surface water salinity in the open ocean\", \"varies with\", \"latitude and season\")\n",
      "(\"surface water salinity in the open ocean\", \"is influenced by\", \"evaporation, precipitation, river inflow, and sea ice melting\")\n",
      "(\"lowest salinity values\", \"are just north of the equator\", \"due to heavy tropical rainfall\")\n",
      "(\"lowest salinity values\", \"are located in\", \"high latitudes and along coasts where large rivers enter\")\n",
      "(\"maximum salinity values\", \"occur at\", \"about 25° north and south in subtropical regions with low rainfall and high evaporation\")\n",
      "-\n"
     ]
    },
    {
     "name": "stderr",
     "output_type": "stream",
     "text": [
      " 88%|███████████████████████████████████████████████████████████████████████████████████████████████████████████████████████████████████▌                  | 684/780 [1:53:06<22:05, 13.81s/it]"
     ]
    },
    {
     "name": "stdout",
     "output_type": "stream",
     "text": [
      "\n",
      "(\"Stockwellia\", \"belongs to\", \"Myrtaceae family\")\n",
      "(\"Allosyncarpia\", \"belongs to\", \"Myrtaceae family\")\n",
      "(\"Eucalyptopsis\", \"belongs to\", \"Myrtaceae family\")\n",
      "(\"Arillastrum\", \"belongs to\", \"Myrtaceae family\")\n",
      "(\"Stockwellia\", \"is restricted to\", \"monsoon forests and rainforests in north-eastern Australia\")\n",
      "(\"Allosyncarpia\", \"is restricted to\", \"monsoon forests and rainforests in north-eastern Australia\")\n",
      "(\"Eucalyptopsis\", \"is restricted to\", \"monsoon forests and rainforests in north-eastern Australia\")\n",
      "(\"Arillastrum\", \"is restricted to\", \"monsoon forests and rainforests in north-eastern Australia\")\n",
      "(\"Stockwellia\", \"is also found in\", \"the Arnhem Land plateau\")\n",
      "(\"Allosyncarpia\", \"is also found in\", \"the Arnhem Land plateau\")\n",
      "(\"Eucalyptopsis\", \"is also found in\", \"the Arnhem Land plateau\")\n",
      "(\"Arillastrum\", \"is also found in\", \"the Arnhem Land plateau\")\n",
      "(\"Stockwellia\", \"is also found in\", \"New Guinea\")\n",
      "(\"Allosyncarpia\", \"is also found in\", \"New Guinea\n",
      "-\n"
     ]
    },
    {
     "name": "stderr",
     "output_type": "stream",
     "text": [
      " 88%|███████████████████████████████████████████████████████████████████████████████████████████████████████████████████████████████████▋                  | 685/780 [1:53:18<20:58, 13.25s/it]"
     ]
    },
    {
     "name": "stdout",
     "output_type": "stream",
     "text": [
      "\n",
      "(\"total mass of hydrosphere\", \"is approximately\", \"1.4 quintillion tonnes\")\n",
      "(\"total mass of hydrosphere\", \"is 0.023% of\", \"Earth's total mass\")\n",
      "(\"less than\", \"percentage of\", \"freshwater\")\n",
      "(\"area of World Ocean\", \"is approximately\", \"361.9 million square kilometers\")\n",
      "(\"World Ocean's volume\", \"is approximately\", \"1.335 billion cubic kilometers\")\n",
      "(\"edge length of water cube\", \"is approximately\", \"1,101 kilometers\")\n",
      "(\"average depth of World Ocean\", \"is\", \"3,688 meters\")\n",
      "(\"maximum depth of World Ocean\", \"is\", \"10,994 meters\")\n",
      "(\"deep ocean below 200 meters\", \"covers\", \"66% of Earth's surface\")\n",
      "-\n"
     ]
    },
    {
     "name": "stderr",
     "output_type": "stream",
     "text": [
      " 88%|███████████████████████████████████████████████████████████████████████████████████████████████████████████████████████████████████▉                  | 686/780 [1:53:24<17:21, 11.08s/it]"
     ]
    },
    {
     "name": "stdout",
     "output_type": "stream",
     "text": [
      "\n",
      "(\"Tierra del Fuego National Park\", \"is located in\", \"Argentina\")\n",
      "(\"Beavers\", \"are destroying\", \"long-protected trees\")\n",
      "(\"Beavers\", \"have spread beyond\", \"Tierra del Fuego\")\n",
      "(\"Beavers\", \"have spread to\", \"Brunswick Peninsula of Chile\")\n",
      "(\"Government\", \"fears\", \"further penetration into continental South America\")\n",
      "(\"Beavers\", \"threaten\", \"around sixteen million hectares of indigenous forest\")\n",
      "(\"Trees in South America\", \"do not regenerate when coppiced\", \"destroying the forest\")\n",
      "-\n"
     ]
    },
    {
     "name": "stderr",
     "output_type": "stream",
     "text": [
      " 88%|████████████████████████████████████████████████████████████████████████████████████████████████████████████████████████████████████                  | 687/780 [1:53:43<20:49, 13.44s/it]"
     ]
    },
    {
     "name": "stdout",
     "output_type": "stream",
     "text": [
      "\n",
      "(\"Elsa\", \"is the\", \"princess of Arendelle\")\n",
      "(\"Elsa\", \"is the\", \"heiress to the throne\")\n",
      "(\"Elsa\", \"has the ability to\", \"create and control ice and snow\")\n",
      "(\"Elsa\", \"played with\", \"Princess Anna\")\n",
      "(\"Elsa\", \"accidentally harmed\", \"Anna\")\n",
      "(\"King and Queen of Arendelle\", \"took\", \"Anna to a tribe of mountain trolls\")\n",
      "(\"Tribe of mountain trolls\", \"informed the royals\", \"Elsa's abilities will grow, becoming both beautiful and very dangerous\")\n",
      "(\"Tribe of mountain trolls\", \"erased Anna's memory of\", \"the incident and of her elder sister's powers in general\")\n",
      "(\"King and Queen of Arendelle\", \"took steps\", \"to control and hide Elsa's ice powers\")\n",
      "(\"King and Queen of Arendelle\", \"locked\", \"the castle gates\")\n",
      "(\"King and Queen of Arendelle\", \"shut away\", \"Elsa in her bedroom\")\n",
      "(\"King and Queen of Arendelle\", \"gave\", \"gloves to help suppress her powers\")\n",
      "(\"King and Queen of Arendelle\", \"told\", \"Elsa to hold in her emotions\")\n",
      "(\"Anna\", \"was less happy due to\", \"the loss of contact with her elder sister\")\n",
      "(\"Anna\", \"tried to\", \"coax her elder sister out of\n",
      "-\n"
     ]
    },
    {
     "name": "stderr",
     "output_type": "stream",
     "text": [
      " 88%|████████████████████████████████████████████████████████████████████████████████████████████████████████████████████████████████████▎                 | 688/780 [1:53:50<17:35, 11.47s/it]"
     ]
    },
    {
     "name": "stdout",
     "output_type": "stream",
     "text": [
      "\n",
      "(\"swallows\", \"generally forage for\", \"prey that is on the wing\")\n",
      "(\"swallows\", \"will on occasion\", \"snap prey off branches or on the ground\")\n",
      "(\"swallows\", \"may have a\", \"fast flight chasing fast moving prey\")\n",
      "(\"swallows\", \"may have a\", \"slower, more leisurely flight\")\n",
      "(\"swallows\", \"are separated into\", \"different niches based on height off the ground\")\n",
      "(\"swallows\", \"separate with\", \"swifts\")\n",
      "(\"swallows\", \"separate with\", \"size of prey chosen\")\n",
      "-\n"
     ]
    },
    {
     "name": "stderr",
     "output_type": "stream",
     "text": [
      " 88%|████████████████████████████████████████████████████████████████████████████████████████████████████████████████████████████████████▌                 | 689/780 [1:54:08<20:31, 13.53s/it]"
     ]
    },
    {
     "name": "stdout",
     "output_type": "stream",
     "text": [
      "\n",
      "(\"giant panda\", \"has body shape\", \"typical of bears\")\n",
      "(\"giant panda\", \"has\", \"black fur\")\n",
      "(\"black fur\", \"on\", \"ears, eye patches, muzzle, legs, arms and shoulders\")\n",
      "(\"giant panda\", \"has\", \"white fur\")\n",
      "(\"giant panda's colouring\", \"provides effective\", \"camouflage\") \n",
      "(\"giant panda\", \"habitat\", \"shade-dappled snowy and rocky\")\n",
      "(\"giant panda\", \"has a\", \"thick, wooly coat\")\n",
      "(\"giant panda's skull shape\", \"is typical of\", \"durophagous carnivorans\")\n",
      "(\"giant panda\", \"has evolved from\", \"previous ancestors\")\n",
      "(\"giant panda\", \"has larger molars with\", \"increased complexity and expanded temporal fossa\")\n",
      "(\"a 110.45 kg (243.5 lb)\", \"has bite force of\", \"2603.47 newtons\") \n",
      "(\"a 110.45 kg (243.5 lb)\", \"has bite force quotient of\", \"292\")\n",
      "(\"a 117.5 kg (259 lb)\", \"has a bite force of\", \"1298.9 newtons\")\n",
      "(\"a 117.5 kg (259 lb)\", \"has a bite force quotient of\", \"151.4\")\n",
      "\n",
      "-\n"
     ]
    },
    {
     "name": "stderr",
     "output_type": "stream",
     "text": [
      " 88%|████████████████████████████████████████████████████████████████████████████████████████████████████████████████████████████████████▋                 | 690/780 [1:54:19<19:12, 12.80s/it]"
     ]
    },
    {
     "name": "stdout",
     "output_type": "stream",
     "text": [
      "\n",
      "(\"bear's fur\", \"consists of\", \"two types of hair\")\n",
      "(\"two types of hair\", \"include\", \"underfur\")\n",
      "(\"two types of hair\", \"include\", \"outer guard hairs\")\n",
      "(\"underfur\", \"is\", \"soft and dense\")\n",
      "(\"underfur\", \"serves primarily as\", \"an insulator\")\n",
      "(\"outer guard hairs\", \"are\", \"much thicker, longer and coarser\")\n",
      "(\"outer guard hairs\", \"insulate\", \"the body\")\n",
      "(\"outer guard hairs\", \"serve to\", \"protect the body from dirt, debris and insects\")\n",
      "(\"outer guard hairs\", \"serve to\", \"repel water\")\n",
      "-\n"
     ]
    },
    {
     "name": "stderr",
     "output_type": "stream",
     "text": [
      " 89%|████████████████████████████████████████████████████████████████████████████████████████████████████████████████████████████████████▉                 | 691/780 [1:54:35<20:32, 13.85s/it]"
     ]
    },
    {
     "name": "stdout",
     "output_type": "stream",
     "text": [
      "\n",
      "(\"Toledo\", \"is a city in\", \"Lucas County, Ohio, United States\") \n",
      "(\"Toledo\", \"is a major port city in\", \"Midwestern United States\")\n",
      "(\"Toledo\", \"is the fourth-most-populous city in\", \"U.S. state of Ohio\")\n",
      "(\"Toledo\", \"is the 71st-largest cityin\", \"United States\")\n",
      "(\"Toledo\", \"has a population of\", \"274,975\")\n",
      "(\"Toledo\", \"serves as a major trade center for\", \"North Central United States\")\n",
      "(\"Toledo\", \"has a port that is\", \"the fifth busiest in the Great Lakes\") \n",
      "(\"Toledo\", \"was founded in\", \"1833\")\n",
      "(\"Toledo\", \"was incorporated as part of\", \"Monroe County, Michigan Territory\")\n",
      "(\"Toledo\", \"was re-founded in\", \"1837\")\n",
      "(\"Toledo's re-founding\", \"came after the conclusion of\", \"the Toledo War\")\n",
      "(\"Toledo's re-founding\", \"incorporated it in\", \"Ohio\")\n",
      "-\n"
     ]
    },
    {
     "name": "stderr",
     "output_type": "stream",
     "text": [
      " 89%|█████████████████████████████████████████████████████████████████████████████████████████████████████████████████████████████████████                 | 692/780 [1:54:41<16:36, 11.32s/it]"
     ]
    },
    {
     "name": "stdout",
     "output_type": "stream",
     "text": [
      "\n",
      "(\"Symbiotic animals\", \"belong to genus\", \"Symbion\")\n",
      "(\"Symbion\", \"is member of\", \"the phylum Cycliophora\")\n",
      "(\"Symbiotic animals\", \"live exclusively on\", \"lobster gills and mouthparts\")\n",
      "(\"Symbion\", \"has been found on\", \"Nephrops norvegicus\")\n",
      "(\"Symbion\", \"has been found on\", \"Homarus gammarus\")\n",
      "(\"Symbion\", \"has been found on\", \"Homarus americanus\")\n",
      "-\n"
     ]
    },
    {
     "name": "stderr",
     "output_type": "stream",
     "text": [
      " 89%|█████████████████████████████████████████████████████████████████████████████████████████████████████████████████████████████████████▎                | 693/780 [1:54:50<15:32, 10.72s/it]"
     ]
    },
    {
     "name": "stdout",
     "output_type": "stream",
     "text": [
      "\n",
      "(\"Milwaukee protocol\", \"involves\", \"putting a person into a chemically induced coma and using antiviral medications\")\n",
      "(\"Milwaukee protocol\", \"came into use in\", \"2003\")\n",
      "(\"Jeanna Giese\", \"became\", \"the first person known to have survived rabies without preventive treatments before symptom onset\")\n",
      "(\"Jeanna Giese\", \"had\", \"antibodies against rabies when she arrived at hospital\")\n",
      "(\"Milwaukee protocol\", \"has been tried multiple times more\", \"but there have been no further cases of survival\")\n",
      "(\"Milwaukee protocol\", \"has since been assessed as\", \"an ineffective treatment\")\n",
      "(\"Milwaukee protocol\", \"has concerns related to\", \"the costs and ethics of its use\")\n",
      "-\n"
     ]
    },
    {
     "name": "stderr",
     "output_type": "stream",
     "text": [
      " 89%|█████████████████████████████████████████████████████████████████████████████████████████████████████████████████████████████████████▍                | 694/780 [1:55:11<19:44, 13.77s/it]"
     ]
    },
    {
     "name": "stdout",
     "output_type": "stream",
     "text": [
      "\n",
      "(\"giant panda\", \"lives in\", \"a few mountain ranges in central China\")\n",
      "(\"giant panda\", \"mainly lives in\", \"Sichuan\")\n",
      "(\"giant panda\", \"also lives in\", \"neighbouring Shaanxi and Gansu\")\n",
      "(\"farming, deforestation and other development\", \"has driven out\", \"the giant panda\")\n",
      "(\"giant panda\", \"is classified as\", \"a conservation-reliant vulnerable species\")\n",
      "(\"a 2007 report\", \"showed\", \"239 pandas living in captivity inside China\")\n",
      "(\"2007 report\", \"showed\", \"27 pandas living outside China\")\n",
      "(\"December 2014\", \"showed\", \"that 49 giant pandas lived in captivity outside China\")\n",
      "(\"49 giant pandas\", \"lived in\", \"18 zoos in 13 different countries\")\n",
      "(\"Wild population estimates\", \"vary from\", \"1,590 individuals living in the wild\")\n",
      "(\"DNA analysis\", \"estimated\", \"that this figure could be as high as 2,000 to 3,000\")\n",
      "(\"some reports\", \"showed that\", \"the number of giant pandas in the wild is on the rise\")\n",
      "(\"Mongabay\", \"stated in March 2015\", \"that the wild giant panda population had increased by 268, or 16.8%, to 1,864\")\n",
      "(\"IUCN\", \"re\n",
      "-\n"
     ]
    },
    {
     "name": "stderr",
     "output_type": "stream",
     "text": [
      " 89%|█████████████████████████████████████████████████████████████████████████████████████████████████████████████████████████████████████▋                | 695/780 [1:55:18<16:40, 11.78s/it]"
     ]
    },
    {
     "name": "stdout",
     "output_type": "stream",
     "text": [
      "\n",
      "(\"Once-a-month topical products\", \"are the most commonly used products to\", \"kill and prevent heartworm infection\")\n",
      "(\"Once-a-month topical products\", \"are the most commonly used products to\", \"prevent flea or tick infestations\")\n",
      "(\"Oral medications\", \"are the most commonly used products to\", \"kill and prevent heartworm infection\")\n",
      "(\"Oral medications\", \"are the most commonly used products to\", \"prevent flea or tick infestations\")\n",
      "-\n"
     ]
    },
    {
     "name": "stderr",
     "output_type": "stream",
     "text": [
      " 89%|█████████████████████████████████████████████████████████████████████████████████████████████████████████████████████████████████████▊                | 696/780 [1:55:22<13:21,  9.54s/it]"
     ]
    },
    {
     "name": "stdout",
     "output_type": "stream",
     "text": [
      "\n",
      "(\"elevator\", \"located on\", \"2nd floor\")\n",
      "(\"first Japanese-born killer whale-killer whale FRP replicas\", \"displayed\", \"in front of the elevator\")\n",
      "(\"first Japanese-born killer whale-killer whale FRP replicas\", \"accompanied with\", \"explanation panel\")\n",
      "-\n"
     ]
    },
    {
     "name": "stderr",
     "output_type": "stream",
     "text": [
      " 89%|██████████████████████████████████████████████████████████████████████████████████████████████████████████████████████████████████████                | 697/780 [1:55:38<15:43, 11.37s/it]"
     ]
    },
    {
     "name": "stdout",
     "output_type": "stream",
     "text": [
      "\n",
      "(\"Ants\", \"communicate using\", \"pheromones\")\n",
      "(\"Ants\", \"communicate using\", \"sounds\")\n",
      "(\"Ants\", \"communicate using\", \"touch\")\n",
      "(\"Pheromones\", \"is used by\", \"ants\")\n",
      "(\"Red harvester ant\", \"uses pheromones\", \"more than other hymenopteran groups\")\n",
      "(\"Ants\", \"smell with\", \"long thin mobile antennae\")\n",
      "(\"Ants\", \"leave pheromone trails\", \"on the soil surface\")\n",
      "(\"Foragers\", \"mark a trail on way to colony\", \"when it finds food\")\n",
      "(\"Other ants\", \"follow forager's trail\", \"when it returns with food to colony\")\n",
      "(\"Forager's trail\", \"is reinforced\", \"on their way back with food\")\n",
      "(\"Forager's trail\", \"dissipates\", \"when food source is exhausted\")\n",
      "(\"Ants\", \"use behaviour\", \"to deal with changes in environment\")\n",
      "(\"Foragers\", \"explore new routes\", \"when established route is blocked\")\n",
      "(\"Forager\", \"marks shortest route back to colony\", \"when successful exploring new route\")\n",
      "(\"Successful trails\", \"are followed by more ants\", \"reinforcing existing routes\")\n",
      "(\"Successful trails\", \"identify best path\", \"gradually\")\n",
      "-\n"
     ]
    },
    {
     "name": "stderr",
     "output_type": "stream",
     "text": [
      " 89%|██████████████████████████████████████████████████████████████████████████████████████████████████████████████████████████████████████▏               | 698/780 [1:55:43<12:47,  9.36s/it]"
     ]
    },
    {
     "name": "stdout",
     "output_type": "stream",
     "text": [
      "\n",
      "(\"Sumner\", \"started a new band with\", \"Peter Hook and Stephen Morris\")\n",
      "(\"Peter Hook\", \"is in\", \"New Order\")\n",
      "(\"Stephen Morris\", \"is in\", \"New Order\")\n",
      "(\"Gillian Gilbert\", \"joined\", \"New Order in October 1980\")\n",
      "(\"Sumner\", \"contributes\", \"vocals\")\n",
      "(\"Sumner\", \"plays\", \"guitar and keyboards\")\n",
      "(\"New Order\", \"has released\", \"ten studio albums\")\n",
      "-\n"
     ]
    },
    {
     "name": "stderr",
     "output_type": "stream",
     "text": [
      " 90%|██████████████████████████████████████████████████████████████████████████████████████████████████████████████████████████████████████▍               | 699/780 [1:55:50<11:47,  8.73s/it]"
     ]
    },
    {
     "name": "stdout",
     "output_type": "stream",
     "text": [
      "\n",
      "(\"Mars\", \"lacks\", \"a magnetosphere\")\n",
      "(\"Mars\", \"has an extremely thin atmosphere\", \"as a challenge\")\n",
      "(\"Mars\", \"has little heat transfer across its surface\", \"as a challenge\")\n",
      "(\"Mars\", \"has poor insulation against bombardment of the solar wind\", \"as a challenge\")\n",
      "(\"Mars\", \"has insufficient atmospheric pressure\", \"to retain water in a liquid form\")\n",
      "(\"Water on Mars\", \"sublimes\", \"to a gaseous state\")\n",
      "(\"Mars\", \"is nearly, or totally\", \"geologically dead\")\n",
      "(\"The end of volcanic activity\", \"stopped the recycling of chemicals and minerals\", \"between the surface and interior of the planet\")\n",
      "-\n"
     ]
    },
    {
     "name": "stderr",
     "output_type": "stream",
     "text": [
      " 90%|██████████████████████████████████████████████████████████████████████████████████████████████████████████████████████████████████████▌               | 700/780 [1:55:55<10:06,  7.58s/it]"
     ]
    },
    {
     "name": "stdout",
     "output_type": "stream",
     "text": [
      "\n",
      "(\"Bad Lieutenant\", \"included\", \"New Order member Phil Cunningham\")\n",
      "(\"Bad Lieutenant\", \"included\", \"Jake Evans of Rambo & Leroy\")\n",
      "(\"Stephen Morris\", \"is in\", \"New Order\")\n",
      "(\"Alex James\", \"is\", \"Blur bassist\")\n",
      "(\"Sumner\", \"provided\", \"vocals, guitar and lyrics\")\n",
      "-\n"
     ]
    },
    {
     "name": "stderr",
     "output_type": "stream",
     "text": [
      " 90%|██████████████████████████████████████████████████████████████████████████████████████████████████████████████████████████████████████▊               | 701/780 [1:56:03<10:09,  7.72s/it]"
     ]
    },
    {
     "name": "stdout",
     "output_type": "stream",
     "text": [
      "\n",
      "(\"nickel\", \"in American usage\", \"is a five-cent coin\")\n",
      "(\"nickel\", \"is composed of\", \"75% copper and 25% nickel\")\n",
      "(\"nickel\", \"has been issued since\", \"1866\")\n",
      "(\"nickel\", \"diameter is\", \".835 inches (21.21 mm)\")\n",
      "(\"nickel\", \"thickness is\", \".077 inches (1.95 mm)\")\n",
      "(\"nickel\", \"represents less than\", \"1% of the federal hourly minimum wage\")\n",
      "(\"nickel\", \"over 1.26 billion were produced at\", \"Philadelphia and Denver mints in 2018\")\n",
      "-\n"
     ]
    },
    {
     "name": "stderr",
     "output_type": "stream",
     "text": [
      " 90%|███████████████████████████████████████████████████████████████████████████████████████████████████████████████████████████████████████               | 702/780 [1:56:17<12:22,  9.52s/it]"
     ]
    },
    {
     "name": "stdout",
     "output_type": "stream",
     "text": [
      "\n",
      "(\"natural sources\", \"are largely reported in\", \"anecdotes\")\n",
      "(\"golden eagles\", \"have been killed by\", \"competing predators\")\n",
      "(\"golden eagles\", \"have been killed by\", \"hunting mammalian carnivores\")\n",
      "(\"golden eagles\", \"have been killed by\", \"wolverine\")\n",
      "(\"golden eagles\", \"have been killed by\", \"snow leopard\")\n",
      "(\"golden eagles\", \"have been killed by\", \"cougar\")\n",
      "(\"golden eagles\", \"have been killed by\", \"brown bear\")\n",
      "(\"golden eagles\", \"have been killed by\", \"white-tailed eagle attacks\")\n",
      "(\"competitive attacks\", \"may result in death of\", \"golden eagles\")\n",
      "(\"nestlings and fledglings\", \"are more likely to be killed by\", \"another predator\")\n",
      "(\"golden eagle nests\", \"may be predated more frequently by\", \"other predators\")\n",
      "(\"golden eagle nests\", \"may be predated more frequently by\", \"birds\")\n",
      "(\"common raven\", \"has been suspected to\", \"eat golden eagle eggs\")\n",
      "(\"golden eagles\", \"may be killed by\", \"their prey in self-defense\")\n",
      "(\"golden eagles\", \"may be killed by\", \"North American porcupine\")\n",
      "(\"red deer\", \"may trample\", \"golden eagles to\n",
      "-\n"
     ]
    },
    {
     "name": "stderr",
     "output_type": "stream",
     "text": [
      " 90%|███████████████████████████████████████████████████████████████████████████████████████████████████████████████████████████████████████▏              | 703/780 [1:56:28<13:00, 10.14s/it]"
     ]
    },
    {
     "name": "stdout",
     "output_type": "stream",
     "text": [
      "\n",
      "(\"Crabs\", \"are covered with\", \"a thick exoskeleton\")\n",
      "(\"Crabs\", \"exoskeleton is composed of\", \"highly mineralized chitin\")\n",
      "(\"Crabs\", \"are armed with\", \"a single pair of chelae (claws)\")\n",
      "(\"Crabs\", \"can be found in\", \"all of the world's oceans\")\n",
      "(\"Crabs\", \"can live in\", \"fresh water\")\n",
      "(\"Crabs\", \"can live on\", \"land\")\n",
      "(\"Crabs\", \"vary in size from\", \"the pea crab\")\n",
      "(\"Crabs\", \"range in size to\", \"the Japanese spider crab\")\n",
      "(\"Japanese spider crab\", \"can reach a leg span of\", \"up to 4 metres (13 ft)\")\n",
      "-\n"
     ]
    },
    {
     "name": "stderr",
     "output_type": "stream",
     "text": [
      " 90%|███████████████████████████████████████████████████████████████████████████████████████████████████████████████████████████████████████▍              | 704/780 [1:56:41<13:45, 10.87s/it]"
     ]
    },
    {
     "name": "stdout",
     "output_type": "stream",
     "text": [
      "\n",
      "(\"dwarf crocodile\", \"is a species of\", \"Osteolaemus\") \n",
      "(\"dwarf crocodile\", \"grows to an adult size of\", \"1.5 to 1.9 m\")\n",
      "(\"dwarf crocodile\", \"grows to an adult size of\", \"4.9 to 6.2 ft\")\n",
      "(\"saltwater crocodile\", \"can grow to sizes over\", \"7 m\")\n",
      "(\"saltwater crocodile\", \"can grow to sizes over\", \"23 ft\")\n",
      "(\"saltwater crocodile\", \"can weigh over\", \"1,000 kg\")\n",
      "(\"saltwater crocodile\", \"can weigh over\", \"2,200 lb\")\n",
      "(\"several other large species\", \"can reach over\", \"5.2 m\")\n",
      "(\"several other large species\", \"can reach over\", \"17 ft\")\n",
      "(\"several other large species\", \"can weigh over\", \"900 kg\")\n",
      "(\"several other large species\", \"can weigh over\", \"2,000 lb\")\n",
      "(\"crocodilians\", \"show pronounced sexual dimorphism\", \"with males growing much larger and more rapidly than females\")\n",
      "(\"crocodiles\", \"start their lives at around\", \"20 cm\")\n",
      "(\"crocodiles\", \"start their lives at around\", \"7.9 in\")\n",
      "(\"largest species of crocodile\", \"is\n",
      "-\n"
     ]
    },
    {
     "name": "stderr",
     "output_type": "stream",
     "text": [
      " 90%|███████████████████████████████████████████████████████████████████████████████████████████████████████████████████████████████████████▌              | 705/780 [1:56:45<10:55,  8.74s/it]"
     ]
    },
    {
     "name": "stdout",
     "output_type": "stream",
     "text": [
      "\n",
      "(\"goldfish\", \"is a\", \"freshwater fish\")\n",
      "(\"goldfish\", \"belongs to the family\", \"Cyprinidae\")\n",
      "(\"goldfish\", \"belongs to the order\", \"Cypriniformes\")\n",
      "(\"goldfish\", \"is one of the most commonly kept\", \"aquarium fish\")\n",
      "-\n"
     ]
    },
    {
     "name": "stderr",
     "output_type": "stream",
     "text": [
      " 91%|███████████████████████████████████████████████████████████████████████████████████████████████████████████████████████████████████████▊              | 706/780 [1:56:54<11:04,  8.98s/it]"
     ]
    },
    {
     "name": "stdout",
     "output_type": "stream",
     "text": [
      "\n",
      "(\"Sniper rifles\", \"have been used consistently throughout\", \"the later part of the 20th century\")\n",
      "(\"Sniper rifles\", \"have been used in\", \"Korea, Vietnam, and the Middle East\")\n",
      "(\"Sniper rifles\", \"are part of\", \"the modern style of guerrilla warfare\")\n",
      "(\"Modern sniper rifles\", \"are more durable, accurate, and powerful than\", \"snipers rifles from 10 years ago\")\n",
      "(\"Modern sniper rifles\", \"are more reliable and can fire repeatedly without losing accuracy\", \"than earlier sniper rifles\")\n",
      "(\"Modern sniper rifles\", \"have an effective range\", \"exceeding 1,000m (1,094yd)\")\n",
      "(\"Modern sniper rifles\", \"are classified as\", \"one of the most accurate, deadly, and efficient weapons\")\n",
      "-\n"
     ]
    },
    {
     "name": "stderr",
     "output_type": "stream",
     "text": [
      " 91%|███████████████████████████████████████████████████████████████████████████████████████████████████████████████████████████████████████▉              | 707/780 [1:57:02<10:35,  8.71s/it]"
     ]
    },
    {
     "name": "stdout",
     "output_type": "stream",
     "text": [
      "\n",
      "(\"Viviparous mammals\", \"belong to\", \"the subclass Theria\")\n",
      "(\"Viviparous mammals living today\", \"are in\", \"the Marsupialia and Placentalia infraclasses\")\n",
      "(\"A marsupial\", \"has a\", \"short gestation period\")\n",
      "(\"A marsupial\", \"gives birth to an\", \"altricial newborn\")\n",
      "(\"A marsupial\", \"undergoes further development in a pouch\", \"the marsupium\")\n",
      "(\"The marsupium\", \"is located\", \"in the front of the mother's abdomen\")\n",
      "(\"Precocial placentals\", \"give birth to fully developed young\", \"after long gestation periods\")\n",
      "(\"Altricial placentals\", \"give birth to underdeveloped young\", \"after shorter gestation periods\")\n",
      "-\n"
     ]
    },
    {
     "name": "stderr",
     "output_type": "stream",
     "text": [
      " 91%|████████████████████████████████████████████████████████████████████████████████████████████████████████████████████████████████████████▏             | 708/780 [1:57:17<12:30, 10.42s/it]"
     ]
    },
    {
     "name": "stdout",
     "output_type": "stream",
     "text": [
      "\n",
      "(\"Egyptian mongoose\", \"has\", \"long, coarse fur\")\n",
      "(\"Egyptian mongoose\", \"fur color\", \"grey to reddish brown and ticked with brown and yellow flecks\")\n",
      "(\"Egyptian mongoose\", \"has a\", \"snout\")\n",
      "(\"Egyptian mongoose\", \"has\", \"small ears\")\n",
      "(\"Egyptian mongoose\", \"body length\", \"48–60 cm (1 ft 7 in–2 ft 0 in)\")\n",
      "(\"Egyptian mongoose\", \"has a\", \"black tipped tail\")\n",
      "(\"Egyptian mongoose\", \"tail length\", \"33–54 cm (1 ft 1 in–1 ft 9 in)\")\n",
      "(\"Egyptian mongoose\", \"has a furless area around the eyes\", \"yes\")\n",
      "(\"Egyptian mongoose\", \"has\", \"35–40 teeth\")\n",
      "(\"Egyptian mongoose\", \"has highly developed\", \"carnassials\")\n",
      "(\"Egyptian mongoose\", \"carnassials used for\", \"shearing meat\")\n",
      "-\n"
     ]
    },
    {
     "name": "stderr",
     "output_type": "stream",
     "text": [
      " 91%|████████████████████████████████████████████████████████████████████████████████████████████████████████████████████████████████████████▎             | 709/780 [1:57:30<13:14, 11.19s/it]"
     ]
    },
    {
     "name": "stdout",
     "output_type": "stream",
     "text": [
      "\n",
      "(\"Snakes\", \"are\", \"elongated, legless, carnivorous reptiles\") \n",
      "(\"Snakes\", \"are\", \"ectothermic, amniote vertebrates\") \n",
      "(\"Snakes\", \"are covered in\",\"overlapping scales\")\n",
      "(\"Snakes\", \"have skulls with\", \"several more joints than their lizard ancestors\")\n",
      "(\"Snakes\", \"swallow prey much larger than their heads with their highly mobile jaws\", \"enable them\")\n",
      "(\"Snakes\", \"have pairs of organs\", \"one in front of the other\")\n",
      "(\"Snakes\", \"have\", \"only one functional lung\")\n",
      "(\"Snakes\", \"retain\", \"a pelvic girdle with a pair of vestigial claws\") \n",
      "(\"Legless lizards\", \"resemble\", \"snakes\")\n",
      "(\"Legless lizards\", \"have evolved\", \"elongate bodies without limbs or with greatly reduced limbs\")\n",
      "(\"Legless lizards\", \"have evolved\", \"about twenty-five times independently via convergent evolution\")\n",
      "(\"Groups of legless lizards\", \"have\", \"eyelids and external ears\")\n",
      "(\"Groups of legless lizards\", \"lack\", \"eyelids and external ears\")\n",
      "-\n"
     ]
    },
    {
     "name": "stderr",
     "output_type": "stream",
     "text": [
      " 91%|████████████████████████████████████████████████████████████████████████████████████████████████████████████████████████████████████████▌             | 710/780 [1:57:45<14:24, 12.36s/it]"
     ]
    },
    {
     "name": "stdout",
     "output_type": "stream",
     "text": [
      "\n",
      "(\"Honey badgers\", \"are the largest terrestrial mustelids in\", \"Africa\")\n",
      "(\"Honey badgers\", \"measure\", \"23 to 28 cm in shoulder height\")\n",
      "(\"Honey badgers\", \"measure\", \"55 to 77 cm in body length\")\n",
      "(\"Honey badgers\", \"have a tail measuring\", \"12 to 30 cm\")\n",
      "(\"Males\", \"weigh\", \"9 to 16 kg\")\n",
      "(\"Females\", \"weigh\", \"5 to 10 kg\")\n",
      "(\"Honey badgers\", \"have a mean weight of\", \"6.4 to 12 kg\")\n",
      "(\"Honey badgers\", \"positioned as\", \"third largest known badger\")\n",
      "(\"Honey badgers\", \"positioned as\", \"fourth largest extant terrestrial mustelid\")\n",
      "(\"Adult honey badgers from different areas\", \"has a median weight of roughly\", \"9 kg\")\n",
      "(\"Wild females from Iraq\", \"had an average weight of\", \"18 kg\")\n",
      "(\"Adult female and two males in India\", \"had a respective weights of\", \"6.4 kg and a median of 8.4 kg\")\n",
      "(\"Males\", \"have a skull length of\", \"13.9 to 14.5 cm\")\n",
      "(\"Females\", \"have a skull length of\", \"13 cm\")\n",
      "-\n"
     ]
    },
    {
     "name": "stderr",
     "output_type": "stream",
     "text": [
      " 91%|████████████████████████████████████████████████████████████████████████████████████████████████████████████████████████████████████████▋             | 711/780 [1:57:51<12:04, 10.50s/it]"
     ]
    },
    {
     "name": "stdout",
     "output_type": "stream",
     "text": [
      "\n",
      "(\"Greyhound\", \"is a breed of\", \"dog\")\n",
      "(\"Greyhound\", \"is a type of\", \"sighthound\")\n",
      "(\"Greyhound\", \"have been bred for\", \"coursing game and greyhound racing\")\n",
      "(\"Greyhound\", \"has seen resurgence in popularity as a\", \"family pet\")\n",
      "(\"Greyhound\", \"is also referred to as\", \"an English Greyhound\")\n",
      "-\n"
     ]
    },
    {
     "name": "stderr",
     "output_type": "stream",
     "text": [
      " 91%|████████████████████████████████████████████████████████████████████████████████████████████████████████████████████████████████████████▉             | 712/780 [1:57:57<10:29,  9.25s/it]"
     ]
    },
    {
     "name": "stdout",
     "output_type": "stream",
     "text": [
      "\n",
      "(\"Death from laughter\", \"is a\", \"rare form of death\")\n",
      "(\"Death from laughter\", \"is usually caused by\", \"cardiac arrest or asphyxiation\")\n",
      "(\"Death from laughter\", \"is caused by\", \"a fit of laughter\")\n",
      "(\"Death from laughter\", \"has been recorded from\", \"the times of ancient Greece\")\n",
      "(\"Death from laughter\", \"has been recorded up to\", \"the modern day\")\n",
      "-\n"
     ]
    },
    {
     "name": "stderr",
     "output_type": "stream",
     "text": [
      " 91%|█████████████████████████████████████████████████████████████████████████████████████████████████████████████████████████████████████████             | 713/780 [1:58:10<11:36, 10.40s/it]"
     ]
    },
    {
     "name": "stdout",
     "output_type": "stream",
     "text": [
      "\n",
      "(\"bell\", \"made six trips by\", \"1909\")\n",
      "(\"bell\", \"was reported as\", \"2,080 lb (940 kg) in 1904\")\n",
      "(\"organizers of Panama-Pacific International Exposition\", \"requested the bell for\", \"1915 fair in San Francisco\")\n",
      "(\"city\", \"was reluctant to let it travel again because of\",\"cracking and despoilment\")\n",
      "(\"city\", \"installed a metal support structure inside the bell to\", \"prevent cracking\")\n",
      "(\"petitions\", \"were signed by\", \"hundreds of thousands of children to bring bell to Chicago and San Francisco\")\n",
      "(\"another petition\", \"was signed by\", \"3.4 million schoolchildren to bring bell to Chicago for 1933 Century of Progress Exhibition\")\n",
      "(\"New York\", \"presented a petition to secure a visit from the bell for the\", \"1939 New York World's Fair\")\n",
      "(\"bell\", \"has been moved out of doors only five times\", \"since returning to Philadelphia\")\n",
      "-\n"
     ]
    },
    {
     "name": "stderr",
     "output_type": "stream",
     "text": [
      " 92%|█████████████████████████████████████████████████████████████████████████████████████████████████████████████████████████████████████████▎            | 714/780 [1:58:21<11:38, 10.59s/it]"
     ]
    },
    {
     "name": "stdout",
     "output_type": "stream",
     "text": [
      "\n",
      "(\"United States\", \"determines the requirements for\", \"getting a license to teach in public schools\")\n",
      "(\"Teaching certification\", \"lasts\", \"three years\")\n",
      "(\"Teaching certification\", \"can last\", \"as long as ten years\")\n",
      "(\"Public school teachers\", \"are required to have\", \"a bachelor's degree\")\n",
      "(\"Public school teachers\", \"must be\", \"certified by the state in which they teach\")\n",
      "(\"Charter schools\", \"do not require that teachers be certified\", \"provided they meet the standards to be highly qualified as set by No Child Left Behind\")\n",
      "(\"Requirements for substitute/temporary teachers\", \"are generally not as rigorous as\", \"those for full-time professionals\")\n",
      "(\"Bureau of Labor Statistics\", \"estimates that there are\", \"1.4 million elementary school teachers, 674,000 middle school teachers, and 1 million secondary school teachers employed in the U.S.\")\n",
      "-\n"
     ]
    },
    {
     "name": "stderr",
     "output_type": "stream",
     "text": [
      " 92%|█████████████████████████████████████████████████████████████████████████████████████████████████████████████████████████████████████████▌            | 715/780 [1:58:31<11:13, 10.36s/it]"
     ]
    },
    {
     "name": "stdout",
     "output_type": "stream",
     "text": [
      "\n",
      "(\"Isopods\", \"have\", \"a simple gut\")\n",
      "(\"Isopods\", \"have\", \"caeca connected to the back of the stomach\")\n",
      "(\"Isopods\", \"use\", \"peristalsis to pass material from the esophagus to the stomach\")\n",
      "(\"Isopods\", \"have\", \"a dorsal groove to channel indigestible material\")\n",
      "(\"Isopods\", \"have\", \"a ventral part connected to the caeca for absorption\")\n",
      "(\"Isopods\", \"eliminate indigestible material\", \"through the anus on the pleotelson\")\n",
      "-\n"
     ]
    },
    {
     "name": "stderr",
     "output_type": "stream",
     "text": [
      " 92%|█████████████████████████████████████████████████████████████████████████████████████████████████████████████████████████████████████████▋            | 716/780 [1:58:38<09:50,  9.23s/it]"
     ]
    },
    {
     "name": "stdout",
     "output_type": "stream",
     "text": [
      "\n",
      "(\"Sweep picking\", \"involves\", \"a continuous sweep with the pick across two or more strings\")\n",
      "(\"Sweep picking\", \"uses\", \"down-strokes when moving down\")\n",
      "(\"Sweep picking\", \"uses\", \"up-strokes when moving up\")\n",
      "(\"Sweep picking\", \"is commonly associated with\", \"playing arpeggios\")\n",
      "(\"Sweep picking\", \"requires\", \"each note be fretted individually with the fretting hand\")\n",
      "(\"Sweep picking\", \"requires\", \"notes not be held together as a chord\")\n",
      "-\n"
     ]
    },
    {
     "name": "stderr",
     "output_type": "stream",
     "text": [
      " 92%|█████████████████████████████████████████████████████████████████████████████████████████████████████████████████████████████████████████▉            | 717/780 [1:58:46<09:28,  9.02s/it]"
     ]
    },
    {
     "name": "stdout",
     "output_type": "stream",
     "text": [
      "\n",
      "(\"cranes\", \"are symbolic birds for\", \"many cultures\")\n",
      "(\"cranes\", \"have records dating back to\", \"ancient times\")\n",
      "(\"cranes\", \"have mythology found in\", \"India\")\n",
      "(\"cranes\", \"have mythology found in\", \"the Aegean\")\n",
      "(\"cranes\", \"have mythology found in\", \"South Arabia\")\n",
      "(\"cranes\", \"have mythology found in\", \"China\")\n",
      "(\"cranes\", \"have mythology found in\", \"Korea\")\n",
      "(\"cranes\", \"have mythology found in\", \"Japan\")\n",
      "(\"cranes\", \"have mythology found in\", \"Native American cultures of North America\")\n",
      "(\"Ainu people\", \"performed a crane dance\", \"in northern Hokkaidō\")\n",
      "(\"Arnold Genthe\", \"captured a crane dance\", \"in 1908\")\n",
      "(\"crane dance\", \"has been performed in the courtyard of\", \"the Tongdosa Temple since the Silla Dynasty\")\n",
      "(\"Silla Dynasty\", \"dates back to\", \"646 CE\")\n",
      "-\n"
     ]
    },
    {
     "name": "stderr",
     "output_type": "stream",
     "text": [
      " 92%|██████████████████████████████████████████████████████████████████████████████████████████████████████████████████████████████████████████            | 718/780 [1:58:59<10:32, 10.20s/it]"
     ]
    },
    {
     "name": "stdout",
     "output_type": "stream",
     "text": [
      "\n",
      "(\"air pressure\", \"can possibly damage\", \"a bird's lungs\")\n",
      "(\"falcon's nostrils\", \"have bony tubercles to\", \"guide the powerful airflow away\")\n",
      "(\"falcon's nostrils\", \"enable the bird to\", \"breathe more easily while diving\")\n",
      "(\"falcon's\", \"have nictitating membranes to\", \"spread tears and clear debris from eyes\")\n",
      "(\"ideal falcon\", \"has a theoretical speed limit of\", \"400 km/h (250 mph) for low-altitude flight and 625 km/h (388 mph) for high-altitude flight\")\n",
      "(\"Ken Franklin\", \"recorded a falcon stooping at a top speed of\", \"389 km/h (242 mph)\") \n",
      "(\"peregrine falcons in the wild\", \"has a life span of\", \"up to 19 years 9 months\")\n",
      "(\"peregrine falcons in the wild\", \"has a mortality of\", \"59–70% in the first year and 25–32% annually in adults\")\n",
      "(\"peregrine falcons\", \"may be killed by\", \"larger hawks and owls\")\n",
      "-\n"
     ]
    },
    {
     "name": "stderr",
     "output_type": "stream",
     "text": [
      " 92%|██████████████████████████████████████████████████████████████████████████████████████████████████████████████████████████████████████████▎           | 719/780 [1:59:10<10:34, 10.41s/it]"
     ]
    },
    {
     "name": "stdout",
     "output_type": "stream",
     "text": [
      "\n",
      "(\"precipitation\", \"is any product of\", \"the condensation of atmospheric water vapour\")\n",
      "(\"precipitation\", \"falls under\", \"gravity from clouds\")\n",
      "(\"main forms of precipitation\", \"include\", \"drizzle\")\n",
      "(\"main forms of precipitation\", \"include\", \"rain\")\n",
      "(\"main forms of precipitation\", \"include\", \"sleet\")\n",
      "(\"main forms of precipitation\", \"include\", \"snow\")\n",
      "(\"main forms of precipitation\", \"include\", \"ice pellets\")\n",
      "(\"main forms of precipitation\", \"include\", \"graupel\")\n",
      "(\"main forms of precipitation\", \"include\", \"hail\")\n",
      "(\"precipitation\", \"occurs when\", \"a portion of the atmosphere becomes saturated with water vapor\")\n",
      "(\"air\", \"can become saturated due to\", \"cooling\")\n",
      "(\"air\", \"can become saturated due to\", \"adding water vapor\")\n",
      "(\"smaller droplets\", \"coalesce via\", \"collision with other rain drops or ice crystals within a cloud\")\n",
      "(\"short, intense periods of rain\", \"are called\", \"showers\")\n",
      "-\n"
     ]
    },
    {
     "name": "stderr",
     "output_type": "stream",
     "text": [
      " 92%|██████████████████████████████████████████████████████████████████████████████████████████████████████████████████████████████████████████▍           | 720/780 [1:59:22<10:50, 10.84s/it]"
     ]
    },
    {
     "name": "stdout",
     "output_type": "stream",
     "text": [
      "\n",
      "(\"People for the Ethical Treatment of Animals (PETA)\", \"is an\", \"animal rights group\")\n",
      "(\"People for the Ethical Treatment of Animals (PETA)\", \"is founded in\", \"America\")\n",
      "(\"People for the Ethical Treatment of Animals (PETA)\", \"is based in\", \"Norfolk, Virginia\")\n",
      "(\"People for the Ethical Treatment of Animals (PETA)\", \"is led by\", \"Ingrid Newkirk\")\n",
      "(\"People for the Ethical Treatment of Animals (PETA)\", \"claims to have\", \"3 million members and supporters\")\n",
      "(\"People for the Ethical Treatment of Animals (PETA)\", \"makes it the largest\", \"animal rights group in the world\")\n",
      "(\"People for the Ethical Treatment of Animals (PETA)\", \"has the slogan\", \"animals are not ours to eat, wear, experiment on, use for entertainment, or abuse in any other way.\")\n",
      "-\n"
     ]
    },
    {
     "name": "stderr",
     "output_type": "stream",
     "text": [
      " 92%|██████████████████████████████████████████████████████████████████████████████████████████████████████████████████████████████████████████▋           | 721/780 [1:59:27<09:03,  9.22s/it]"
     ]
    },
    {
     "name": "stdout",
     "output_type": "stream",
     "text": [
      "\n",
      "(\"Class II habitats\", \"include bodies which\", \"initially enjoy Earth-like conditions\")\n",
      "(\"Class II habitats\", \"do not keep their ability to\", \"sustain liquid water on their surface due to stellar or geophysical conditions\")\n",
      "(\"Mars\", \"is an example of a\", \"Class II habitat\")\n",
      "(\"Venus\", \"is possibly an example of a\", \"Class II habitat\")\n",
      "(\"Class II habitats\", \"may not develop\", \"complex life forms\")\n",
      "-\n"
     ]
    },
    {
     "name": "stderr",
     "output_type": "stream",
     "text": [
      " 93%|██████████████████████████████████████████████████████████████████████████████████████████████████████████████████████████████████████████▊           | 722/780 [1:59:42<10:36, 10.98s/it]"
     ]
    },
    {
     "name": "stdout",
     "output_type": "stream",
     "text": [
      "\n",
      "(\"Eating contests\", \"are traditionally\", \"events at county fairs\")\n",
      "(\"Eating contests\", \"often involve\", \"pies\")\n",
      "(\"Nathan's Hot Dog Eating Contest\", \"has been held on\", \"July 4 every year since 1916 at Coney Island\")\n",
      "(\"Nathan's Hot Dog Eating Contest\", \"was developed\", \"recently\")\n",
      "(\"Takeru Kobayashi\", \"ate\", \"50 hot dogs\")\n",
      "(\"Takeru Kobayashi\", \"shattered the previous record of\", \"25.5 hot dogs\")\n",
      "(\"Nathan's Hot Dog Eating Contest\", \"has been aired on\", \"ESPN for the past eight years\")\n",
      "(\"Nathan's Hot Dog Eating Contest\", \"has contributed to the growth of\", \"the competitive eating phenomenon\")\n",
      "(\"Takeru Kobayashi\", \"won the competition every year from\", \"2001 until 2006\")\n",
      "(\"Joey Chestnut\", \"was dethroned in\", \"2007\")\n",
      "(\"Joey Chestnut, Takeru Kobayashi\", \"tied at\", \"59 hot dogs in 10 minutes\")\n",
      "(\"Joey Chestnut\", \"won in an eat-off in which he was the first to finish eating\", \"5 hot dogs\")\n",
      "-\n"
     ]
    },
    {
     "name": "stderr",
     "output_type": "stream",
     "text": [
      " 93%|███████████████████████████████████████████████████████████████████████████████████████████████████████████████████████████████████████████           | 723/780 [1:59:49<09:11,  9.67s/it]"
     ]
    },
    {
     "name": "stdout",
     "output_type": "stream",
     "text": [
      "\n",
      "(\"Crocodiles\", \"are semiaquatic by nature\", \"tending to congregate in freshwater habitats\")\n",
      "(\"Crocodiles\", \"are carnivorous\", \"feeding mostly on vertebrates and sometimes invertebrates\")\n",
      "(\"All crocodiles\", \"are tropical species\", \"being sensitive to cold\")\n",
      "(\"Crocodiles\", \"separated from other crocodilians\", \"during the Eocene epoch, about 55 million years ago\")\n",
      "(\"Many species\", \"are at the risk of extinction\", \"being classified as critically endangered\")\n",
      "-\n"
     ]
    },
    {
     "name": "stderr",
     "output_type": "stream",
     "text": [
      " 93%|███████████████████████████████████████████████████████████████████████████████████████████████████████████████████████████████████████████▏          | 724/780 [1:59:57<08:31,  9.13s/it]"
     ]
    },
    {
     "name": "stdout",
     "output_type": "stream",
     "text": [
      "\n",
      "(\"Dogs\", \"are\", \"the most abundant and widely distributed terrestrial carnivores\")\n",
      "(\"Dogs\", \"have potential to\", \"compete with other large carnvores\")\n",
      "(\"Dogs\", \"are strongly associated with\", \"humans\")\n",
      "(\"A review of studies\", \"focused on competitive effects of dogs on sympatric carnivores\", \"did not mention any research on competition between dogs and wolves\")\n",
      "(\"Wolves\", \"are known to\", \"kill dogs\")\n",
      "(\"Wolves\", \"tend to live\", \"in pairs or in small packs\")\n",
      "(\"Wolves\", \"face disadvantage when\", \"facing large dog groups\")\n",
      "-\n"
     ]
    },
    {
     "name": "stderr",
     "output_type": "stream",
     "text": [
      " 93%|███████████████████████████████████████████████████████████████████████████████████████████████████████████████████████████████████████████▍          | 725/780 [2:00:07<08:29,  9.27s/it]"
     ]
    },
    {
     "name": "stdout",
     "output_type": "stream",
     "text": [
      "\n",
      "(\"Anne Frank\", \"addressed her diary as\", \"Kitty\")\n",
      "(\"Friedrich Kellner\", \"thought of his diary as\", \"a weapon for any future fight against tyrants and terrorism\")\n",
      "(\"Friedrich Kellner\", \"named his diary\", \"Mein Widerstand\")\n",
      "(\"Victor Klemperer\", \"was concerned with recording for the future\", \"the tyrannies and hypocrisies of Nazi Germany\")\n",
      "(\"Victor Klemperer\", \"was similarly concerned with recording for the future\", \"the tyrannies and hypocrisies of its East German successor state in his diaries\")\n",
      "(\"Victor Klemperer\", \"did not anticipate\", \"early – or indeed any – publication\")\n",
      "-\n"
     ]
    },
    {
     "name": "stderr",
     "output_type": "stream",
     "text": [
      " 93%|███████████████████████████████████████████████████████████████████████████████████████████████████████████████████████████████████████████▌          | 726/780 [2:00:17<08:33,  9.51s/it]"
     ]
    },
    {
     "name": "stdout",
     "output_type": "stream",
     "text": [
      "\n",
      "(\"Memphis\", \"is located in\", \"southwestern Shelby County, Tennessee, United States\")\n",
      "(\"Memphis\", \"had a population of\", \"650,618 in 2018\")\n",
      "(\"Memphis\", \"is the largest city on\", \"the Mississippi River\")\n",
      "(\"Memphis\", \"is the second most populous city in\", \"Tennessee\")\n",
      "(\"Memphis\", \"is the 26th largest city in\", \"the United States\")\n",
      "(\"Memphis\", \"has a metropolitan area population of\", \"1,348,260 in 2017\")\n",
      "(\"Memphis\", \"is the anchor of\", \"West Tennessee and the greater Mid-South region\")\n",
      "(\"West Tennessee and the greater Mid-South region\", \"includes parts of\", \"Arkansas, Mississippi, and the Missouri Bootheel\")\n",
      "(\"Memphis\", \"is the seat of\", \"Shelby County\")\n",
      "(\"Memphis\", \"is a more historic and culturally significant city of\", \"the southern United States\")\n",
      "-\n"
     ]
    },
    {
     "name": "stderr",
     "output_type": "stream",
     "text": [
      " 93%|███████████████████████████████████████████████████████████████████████████████████████████████████████████████████████████████████████████▊          | 727/780 [2:00:21<06:56,  7.87s/it]"
     ]
    },
    {
     "name": "stdout",
     "output_type": "stream",
     "text": [
      "\n",
      "(\"Hoax/Urban Legend\", \"states\", \"US Constitution was written on hemp paper\")\n",
      "(\"National Constitution Center\", \"states\", \"US Constitution was written on parchment\")\n",
      "(\"Some sources\", \"say drafts of document\", \"were/may have been written on hemp paper\")\n",
      "(\"PolitiFact\", \"refutes\", \"drafts of document were written on hemp paper\")\n",
      "-\n"
     ]
    },
    {
     "name": "stderr",
     "output_type": "stream",
     "text": [
      " 93%|████████████████████████████████████████████████████████████████████████████████████████████████████████████████████████████████████████████          | 728/780 [2:00:30<07:17,  8.41s/it]"
     ]
    },
    {
     "name": "stdout",
     "output_type": "stream",
     "text": [
      "\n",
      "(\"Camel\", \"is an\", \"even-toed ungulate\")\n",
      "(\"Camel\", \"bears\", \"distinctive fatty deposits known as 'humps'\")\n",
      "(\"Camel\", \"is long been\", \"domesticated\")\n",
      "(\"Camel\", \"provides\", \"food and textiles\")\n",
      "(\"Camel\", \"is a working animal\", \"especially suited to its desert habitat\")\n",
      "(\"Camel\", \"is a vital means of\", \"transport for passengers and cargo\")\n",
      "(\"dromedary\", \"makes up\", \"94% of the world's camel population\")\n",
      "(\"Bactrian camel\", \"makes up\", \"6% of the world's camel population\")\n",
      "(\"Wild Bactrian camel\", \"is a\", \"separate species\")\n",
      "(\"Wild Bactrian camel\", \"is now\", \"critically endangered\")\n",
      "-\n"
     ]
    },
    {
     "name": "stderr",
     "output_type": "stream",
     "text": [
      " 93%|████████████████████████████████████████████████████████████████████████████████████████████████████████████████████████████████████████████▏         | 729/780 [2:00:38<06:51,  8.06s/it]"
     ]
    },
    {
     "name": "stdout",
     "output_type": "stream",
     "text": [
      "\n",
      "(\"Newton Leroy Gingrich\", \"born on\", \"June 17, 1943\")\n",
      "(\"Newton Leroy Gingrich\", \"is a\", \"politician\")\n",
      "(\"Newton Leroy Gingrich\", \"is an author\", \"and historian\")\n",
      "(\"Newton Leroy Gingrich\", \"was the 50th\", \"Speaker of the United States House of Representatives\")\n",
      "(\"Newton Leroy Gingrich\", \"served from\", \"1995 to 1999\")\n",
      "(\"Newton Leroy Gingrich\", \"is a member of the\", \"Republican Party\")\n",
      "(\"Newton Leroy Gingrich\", \"was the U.S. Representative for\", \"Georgia's 6th congressional district\")\n",
      "(\"Newton Leroy Gingrich\", \"was a candidate for the presidential nomination of his party in\", \"2012\")\n",
      "-\n"
     ]
    },
    {
     "name": "stderr",
     "output_type": "stream",
     "text": [
      " 94%|████████████████████████████████████████████████████████████████████████████████████████████████████████████████████████████████████████████▍         | 730/780 [2:00:50<07:43,  9.26s/it]"
     ]
    },
    {
     "name": "stdout",
     "output_type": "stream",
     "text": [
      "\n",
      "(\"proposals\", \"for a large park in Manhattan\", \"during the 1840s\")\n",
      "(\"Central Park\", \"was first approved in\", \"1853\")\n",
      "(\"Central Park\", \"was built as\", \"a 778-acre (3.15 km2) park\")\n",
      "(\"Frederick Law Olmsted\", \"and\", \"Calvert Vaux\")\n",
      "(\"Frederick Law Olmsted and Calvert Vaux\", \"won a design competition to construct\", \"the park\")\n",
      "(\"Frederick Law Olmsted and Calvert Vaux\", \"titled their design plan\", \"“Greensward Plan”\")\n",
      "(\"Central Park\", \"construction started in\", \"1858\")\n",
      "(\"Central Park\", \"was completed in\", \"1876\")\n",
      "(\"Robert Moses\", \"started a program to clean up\", \"Central Park\")\n",
      "(\"The Central Park Conservancy\", \"was established in\", \"1980\")\n",
      "(\"The Central Park Conservancy\", \"refurbished many parts of the park\", \"during the 1980s and 1990s\")\n",
      "-\n"
     ]
    },
    {
     "name": "stderr",
     "output_type": "stream",
     "text": [
      " 94%|████████████████████████████████████████████████████████████████████████████████████████████████████████████████████████████████████████████▌         | 731/780 [2:01:00<07:48,  9.57s/it]"
     ]
    },
    {
     "name": "stdout",
     "output_type": "stream",
     "text": [
      "\n",
      "(\"Quadrupedalism\", \"is a form of\", \"terrestrial locomotion\")\n",
      "(\"Quadrupedalism\", \"uses\", \"four limbs or legs\")\n",
      "(\"Animal or machine that moves in a quadrupedal manner\", \"is known as\", \"a quadruped\")\n",
      "(\"Quadruped\", \"is derived from\", \"the Latin quattuor for 'four' and pes for 'foot'\")\n",
      "(\"Majority of quadrupeds\", \"are\", \"vertebrate animals\")\n",
      "(\"Vertebrate animals\", \"include\", \"mammals\")\n",
      "(\"Vertebrate animals\", \"include\", \"reptiles\")\n",
      "(\"Mammals\", \"examples of\", \"cattle, dogs, cats\")\n",
      "(\"Reptiles\", \"examples of\", \"lizards\")\n",
      "-\n"
     ]
    },
    {
     "name": "stderr",
     "output_type": "stream",
     "text": [
      " 94%|████████████████████████████████████████████████████████████████████████████████████████████████████████████████████████████████████████████▊         | 732/780 [2:01:08<07:14,  9.04s/it]"
     ]
    },
    {
     "name": "stdout",
     "output_type": "stream",
     "text": [
      "\n",
      "(\"cattle\", \"are fed\", \"fodder\")\n",
      "(\"fodder\", \"composes of\", \"at least some forage\")\n",
      "(\"forage\", \"includes\", \"grass, legumes, or silage\")\n",
      "(\"cattle\", \"are pastured\", \"from birth in the spring to autumn\")\n",
      "(\"cattle\", \"are reared in feedlots\", \"fed hay supplemented with grain, soy and other ingredients\")\n",
      "(\"cattle\", \"can be raised on a primarily foraged diet\", \"termed grass-fed or pasture-raised\")\n",
      "(\"grass-fed beef or pasture-raised dairy\", \"describes\", \"meat or milk\")\n",
      "(\"pasture-raised\", \"can lead to confusion with the term\", \"free range\")\n",
      "-\n"
     ]
    },
    {
     "name": "stderr",
     "output_type": "stream",
     "text": [
      " 94%|████████████████████████████████████████████████████████████████████████████████████████████████████████████████████████████████████████████▉         | 733/780 [2:01:29<09:55, 12.67s/it]"
     ]
    },
    {
     "name": "stdout",
     "output_type": "stream",
     "text": [
      "\n",
      "(\"Genus Lutra\", \"includes\", \"Eurasian otter (Lutra lutra)\")\n",
      "(\"Genus Lutra\", \"includes\", \"Hairy-nosed otter (Lutra sumatrana)\")\n",
      "(\"Genus Lutra\", \"includes\", \"Japanese otter† (Lutra nippon)\")\n",
      "(\"Genus Lutra\", \"includes\", \"Lutra euxena†\")\n",
      "(\"Genus Lutra\", \"includes\", \"Lutra castiglionis†\")\n",
      "(\"Genus Lutra\", \"includes\", \"Lutra simplicidens†\")\n",
      "(\"Genus Lutra\", \"includes\", \"Lutra trinacriae†\")\n",
      "(\"Genus Hydrictis\", \"includes\", \"Spotted-necked otter (Hydrictis maculicollis)\")\n",
      "(\"Genus Lutrogale\", \"includes\", \"Smooth-coated otter (Lutrogale perspicillata)\")\n",
      "(\"Genus Lutrogale\", \"includes\", \"Lutrogale robusta†\")\n",
      "(\"Genus Lontra\", \"includes\", \"North American river otter (Lontra canadensis)\")\n",
      "(\"Genus Lontra\", \"includes\", \"Southern river otter (Lontra provocax)\")\n",
      "(\"Genus Lontra\", \"includes\", \"Neotropical river otter (\n",
      "-\n"
     ]
    },
    {
     "name": "stderr",
     "output_type": "stream",
     "text": [
      " 94%|█████████████████████████████████████████████████████████████████████████████████████████████████████████████████████████████████████████████▏        | 734/780 [2:01:35<08:18, 10.83s/it]"
     ]
    },
    {
     "name": "stdout",
     "output_type": "stream",
     "text": [
      "\n",
      "(\"stomach\", \"is a\", \"muscular, hollow organ\")\n",
      "(\"stomach\", \"in located in the\", \"gastrointestinal tract\")\n",
      "(\"stomach\", \"in found in\", \"humans and many other animals, including several invertebrates\")\n",
      "(\"stomach\", \"has a\", \"dilated structure\")\n",
      "(\"stomach\", \"functions as a\", \"vital digestive organ\")\n",
      "(\"stomach\", \"is involved in\", \"the second phase of digestion\")\n",
      "(\"stomach\", \"performs a chemical breakdown due to\", \"enzymes and hydrochloric acid\")\n",
      "-\n"
     ]
    },
    {
     "name": "stderr",
     "output_type": "stream",
     "text": [
      " 94%|█████████████████████████████████████████████████████████████████████████████████████████████████████████████████████████████████████████████▎        | 735/780 [2:01:39<06:28,  8.64s/it]"
     ]
    },
    {
     "name": "stdout",
     "output_type": "stream",
     "text": [
      "\n",
      "(\"Average life span\", \"is\", \"60 years\")\n",
      "(\"she\", \"was one of the oldest living chimpanzees in captivity in\", \"2012\")\n",
      "(\"she\", \"was considered the oldest on record\", \"at the time of her death in 2017\")\n",
      "-\n"
     ]
    },
    {
     "name": "stderr",
     "output_type": "stream",
     "text": [
      " 94%|█████████████████████████████████████████████████████████████████████████████████████████████████████████████████████████████████████████████▌        | 736/780 [2:01:44<05:35,  7.64s/it]"
     ]
    },
    {
     "name": "stdout",
     "output_type": "stream",
     "text": [
      "\n",
      "(\"Cranes\", \"are a family\", \"Gruidae\")\n",
      "(\"Cranes\", \"belong to\", \"Gruiformes\")\n",
      "(\"Cranes\", \"have\", \"15 species\")\n",
      "(\"Cranes\", \"belong to\", \"3 genera\")\n",
      "(\"Cranes\", \"have different habits than\", \"herons\")\n",
      "(\"Cranes\", \"fly with\", \"necks outstretched\")\n",
      "(\"Cranes\", \"live on\", \"all continents except Antarctica and South America\")\n",
      "-\n"
     ]
    },
    {
     "name": "stderr",
     "output_type": "stream",
     "text": [
      " 94%|█████████████████████████████████████████████████████████████████████████████████████████████████████████████████████████████████████████████▋        | 737/780 [2:01:58<06:51,  9.57s/it]"
     ]
    },
    {
     "name": "stdout",
     "output_type": "stream",
     "text": [
      "\n",
      "(\"Moose\", \"is a\", \"herbivore\")\n",
      "(\"Moose\", \"is capable of consuming\", \"many types of plant or fruit\")\n",
      "(\"Moose\", \"needs to consume\", \"9,770 kcal (40.9 MJ) per day\")\n",
      "(\"Moose\", \"energy is derived from\", \"terrestrial vegetation\")\n",
      "(\"Terrestrial vegetation\", \"mainly consists of\", \"forbs and other non-grasses\")\n",
      "(\"Terrestrial vegetation\", \"mainly consists of\", \"fresh shoots from trees\")\n",
      "(\"Trees\", \"include\", \"willow and birch\")\n",
      "(\"Moose\", \"needs to consume\", \"good quantity of aquatic plants\")\n",
      "(\"Aquatic plants\", \"are\", \"lower in energy\")\n",
      "(\"Aquatic plants\", \"provide the moose with\", \"its sodium requirements\")\n",
      "(\"Aquatic plant life\", \"can make up\", \"half of Moose's diet\")\n",
      "(\"In winter\", \"moose are drawn to\", \"roadways\")\n",
      "(\"Roadways\", \"have\", \"salt that is used as snow and ice melter\")\n",
      "(\"Typical Moose\", \"weighs\", \"360 kg (794 lb)\")\n",
      "(\"Typical Moose\", \"can eat\", \"up to 32 kg (71 lb) of food per day\")\n",
      "-\n"
     ]
    },
    {
     "name": "stderr",
     "output_type": "stream",
     "text": [
      " 95%|█████████████████████████████████████████████████████████████████████████████████████████████████████████████████████████████████████████████▉        | 738/780 [2:02:11<07:21, 10.52s/it]"
     ]
    },
    {
     "name": "stdout",
     "output_type": "stream",
     "text": [
      "\n",
      "(\"yellow perch\", \"commonly referred to as\", \"perch, striped perch or American perch\")\n",
      "(\"yellow perch\", \"is a\", \"freshwater perciform fish\")\n",
      "(\"yellow perch\", \"is native to\", \"much of North America\")\n",
      "(\"yellow perch\", \"was described in\", \"1814 by Samuel Latham Mitchill from New York\")\n",
      "(\"yellow perch\", \"is closely related to\", \"European perch\")\n",
      "(\"yellow perch\", \"is sometimes considered\", \"a subspecies of European perch\")\n",
      "(\"yellow perch\", \"has other common names which include\", \"American perch, coontail, lake perch, raccoon perch, ring-tail perch, ringed perch, and striped perch\")\n",
      "(\"yellow perch\", \"has a nickname of\", \"Dodd fish\")\n",
      "-\n"
     ]
    },
    {
     "name": "stderr",
     "output_type": "stream",
     "text": [
      " 95%|██████████████████████████████████████████████████████████████████████████████████████████████████████████████████████████████████████████████        | 739/780 [2:02:25<07:49, 11.45s/it]"
     ]
    },
    {
     "name": "stdout",
     "output_type": "stream",
     "text": [
      "\n",
      "(\"Technical diving\", \"extends\", \"depth limits\")\n",
      "(\"Technical diving\", \"changes\", \"training, equipment, and the gas mix used\")\n",
      "(\"Maximum depth considered safe\", \"is controversial and varying\", \"among agencies and instructors\")\n",
      "(\"Programs\", \"train divers for dives upto\", \"120 metres (390 ft)\")\n",
      "(\"Professional diving\", \"limits allowed planned decompression\", \"depending on code of practice, operational directives, or statutory restrictions\")\n",
      "(\"Depth limits\", \"depend on\", \"jurisdiction\")\n",
      "(\"Maximum depths allowed\", \"range from\", \"30 metres (100 ft) to more than 50 metres (160 ft), depending on breathing gas used and availability of decompression chamber\")\n",
      "(\"Commercial diving\", \"usually restricted for reasons\", \"of occupational health and safety\")\n",
      "(\"Surface supplied diving\", \"allows better control of the operation\", \"and eliminates or significantly reduces the risks of losing breathing gas supply and losing the diver\")\n",
      "(\"Scientific and media diving applications\", \"may be exempted from commercial diving constraints\", \"based on acceptable codes of practice and a self-regulatory system\")\n",
      "-\n"
     ]
    },
    {
     "name": "stderr",
     "output_type": "stream",
     "text": [
      " 95%|██████████████████████████████████████████████████████████████████████████████████████████████████████████████████████████████████████████████▎       | 740/780 [2:02:36<07:32, 11.32s/it]"
     ]
    },
    {
     "name": "stdout",
     "output_type": "stream",
     "text": [
      "\n",
      "(\"Newts\", \"belong to the group\", \"salamanders\")\n",
      "(\"Newts\", \"serve as\", \"bioindicators\")\n",
      "(\"Newts\", \"have thin and sensitive skin\", \"as other amphibians\")\n",
      "(\"Newts\", \"provide evidence of their presence\", \"as an indicator of the health of the environment\")\n",
      "(\"Newts\", \"are sensitive to\", \"subtle changes in the pH level of the streams and lakes\")\n",
      "(\"Newts\", \"absorb oxygen and other substances\", \"through their skin\")\n",
      "(\"Scientists\", \"study the stability of the amphibian population\", \"when studying the water quality of a particular body of water\")\n",
      "-\n"
     ]
    },
    {
     "name": "stderr",
     "output_type": "stream",
     "text": [
      " 95%|██████████████████████████████████████████████████████████████████████████████████████████████████████████████████████████████████████████████▌       | 741/780 [2:02:54<08:39, 13.32s/it]"
     ]
    },
    {
     "name": "stdout",
     "output_type": "stream",
     "text": [
      "\n",
      "(\"dromedary\", \"is also called\", \"the Arabian camel\")\n",
      "(\"dromedary\", \"belongs to\", \"Camelus dromedarius\")\n",
      "(\"dromedary\", \"is\", \"a large, even-toed ungulate\")\n",
      "(\"dromedary\", \"has\", \"one hump on its back\")\n",
      "(\"dromedary\", \"is the tallest of\", \"three species of camel\")\n",
      "(\"adult males\", \"stand\", \"1.8–2 m (5.9–6.6 ft) at the shoulder\")\n",
      "(\"adult females\", \"stand\", \"1.7–1.9 m (5.6–6.2 ft) tall\")\n",
      "(\"males\", \"weigh\", \"400 to 600 Kg (880 to 1,320 lb)\")\n",
      "(\"females\", \"weigh\", \"300 to 540 Kg (660 to 1,190 lb)\")\n",
      "(\"dromedary\", \"has distinguishing features\", \"long, curved neck, narrow chest, a single hump, and long hairs on the throat, shoulders and hump\")\n",
      "(\"dromedary\", \"has a coat\", \"generally a shade of brown\")\n",
      "(\"the hump\", \"is\", \"20 cm (7.9 in) tall or more\")\n",
      "(\"the hump\", \"is made of\", \"fat bound together by fibrous tissue\")\n",
      "-\n"
     ]
    },
    {
     "name": "stderr",
     "output_type": "stream",
     "text": [
      " 95%|██████████████████████████████████████████████████████████████████████████████████████████████████████████████████████████████████████████████▋       | 742/780 [2:03:12<09:20, 14.74s/it]"
     ]
    },
    {
     "name": "stdout",
     "output_type": "stream",
     "text": [
      "\n",
      "(\"rapid decompression\", \"causes\", \"oxygen to empty into the lungs\")\n",
      "(\"oxygen\", \"equalizes\", \"partial pressure gradient\")\n",
      "(\"deoxygenated blood\", \"arrives at\", \"the brain\")\n",
      "(\"humans\", \"lose consciousness after\", \"a few seconds\")\n",
      "(\"humans\", \"die of hypoxia within\", \"minutes\")\n",
      "(\"body fluids\", \"boil when the pressure drops below\", \"6.3 kPa\")\n",
      "(\"condition\", \"is called\", \"ebullism\")\n",
      "(\"steam\", \"may bloat body to\", \"twice its normal size\")\n",
      "(\"tissues\", \"are elastic and porous enough to\", \"prevent rupture\")\n",
      "(\"ebullism\", \"is slowed by\", \"pressure containment of blood vessels\")\n",
      "(\"swelling and ebullism\", \"can be reduced by\", \"containment in a pressure suit\")\n",
      "(\"CAPS\", \"prevents ebullism at pressures as low as\", \"2 kPa\")\n",
      "(\"supplemental oxygen\", \"is needed at 8 km to\", \"provide enough oxygen for breathing and to prevent water loss\")\n",
      "(\"pressure suits\", \"are essential to prevent ebullism at\", \"above 20 km\")\n",
      "(\"space suits\", \"use around 30-39 kPa of\", \"pure oxygen\")\n",
      "(\"pressure suits\", \"prevent ebullism\", \"but not decompression\n",
      "-\n"
     ]
    },
    {
     "name": "stderr",
     "output_type": "stream",
     "text": [
      " 95%|██████████████████████████████████████████████████████████████████████████████████████████████████████████████████████████████████████████████▉       | 743/780 [2:03:21<08:08, 13.21s/it]"
     ]
    },
    {
     "name": "stdout",
     "output_type": "stream",
     "text": [
      " (\"Snow leopard\", \"scientific name is\", \"Panthera uncia\")\n",
      "     (\"Snow leopard\", \"is also known as\", \"ounce\")\n",
      "     (\"Snow leopard\", \"is a large cat native to\", \"mountain ranges of Central and South Asia\")\n",
      "     (\"Snow leopard\", \"is listed as Vulnerable on IUCN Red List because\", \"global population is estimated to number less than 10,000 mature individuals\")\n",
      "     (\"Snow leopard\", \"is expected to decline about 10% by\", \"2040\")\n",
      "     (\"Snow leopard\", \"is threatened by\", \"poaching and habitat destruction following infrastructural developments\")\n",
      "-\n"
     ]
    },
    {
     "name": "stderr",
     "output_type": "stream",
     "text": [
      " 95%|███████████████████████████████████████████████████████████████████████████████████████████████████████████████████████████████████████████████       | 744/780 [2:03:35<08:04, 13.46s/it]"
     ]
    },
    {
     "name": "stdout",
     "output_type": "stream",
     "text": [
      "\n",
      "(\"Hulk's character\", \"have changed\", \"with time\") \n",
      "(\"Hulk's character\", \"have modified\", \"character traits\")\n",
      "(\"Hulk\", \"typically seen as\", \"hulking man with green skin\") \n",
      "(\"Hulk\", \"typically wears\", \"torn purple pants\")\n",
      "(\"Bruce Banner\", \"is approximately\", \"5 ft 9 in, 1.75 m tall\")\n",
      "(\"Bruce Banner\", \"weighs\", \"128 lb, 58 kg\")\n",
      "(\"Hulk\", \"stands between\", \"7 and 8 feet, 2.1 and 2.4 m\")\n",
      "(\"Hulk\", \"weighs up to\", \"1400 lb, 640 kg\")\n",
      "(\"Hulk's transformations\", \"began to be triggered\", \"at nightfall\") \n",
      "(\"Hulk's transformations\", \"turned him into\", \"grey-skinned Hulk\")\n",
      "(\"Hulk's transformations\", \"stopped being triggered\", \"at nightfall\")\n",
      "(\"Hulk's transformations\", \"now triggered by\", \"surges of adrenaline in response to feelings of fear, pain or anger\") \n",
      "(\"Hulk's separate personality\", \"is due to\", \"mutation affecting his brain\")\n",
      "(\"Hulk's separate personality\", \"is due to\", \"Banner suffering from multiple personality disorder\") \n",
      "(\"Green Hulk\", \"represents\", \"Banner's repressed childhood rage and aggression\")\n",
      "(\"Grey Hulk\n",
      "-\n"
     ]
    },
    {
     "name": "stderr",
     "output_type": "stream",
     "text": [
      " 96%|███████████████████████████████████████████████████████████████████████████████████████████████████████████████████████████████████████████████▎      | 745/780 [2:03:53<08:31, 14.60s/it]"
     ]
    },
    {
     "name": "stdout",
     "output_type": "stream",
     "text": [
      "\n",
      "(\"Culture\", \"consists of\", \"social behaviour and norms in human societies\")\n",
      "(\"Culture\", \"is transmitted through\", \"social learning\")\n",
      "(\"Arthropods\", \"play roles in\", \"human culture\")\n",
      "(\"Arthropods\", \"play roles in\", \"food\")\n",
      "(\"Arthropods\", \"play roles in\", \"art\")\n",
      "(\"Arthropods\", \"play roles in\", \"stories\")\n",
      "(\"Arthropods\", \"play roles in\", \"mythology and religion\")\n",
      "(\"Insects\", \"are important\", \"economically\")\n",
      "(\"Insects\", \"are important\", \"symbolically\")\n",
      "(\"Honeybees\", \"are important for\", \"the work of honeybees\")\n",
      "(\"Scarabs\", \"are important in\", \"Ancient Egypt\")\n",
      "(\"Crustaceans\", \"are popular subjects in\", \"art\")\n",
      "(\"Crustaceans\", \"are popular subjects in\", \"still lifes\")\n",
      "(\"Arachnids\", \"have venom with\", \"medical applications\")\n",
      "(\"Crab\", \"is an astrological sign of the zodiac\", \"true\")\n",
      "(\"Scorpion\", \"is an astrological sign of the zodiac\", \"true\")\n",
      "-\n"
     ]
    },
    {
     "name": "stderr",
     "output_type": "stream",
     "text": [
      " 96%|███████████████████████████████████████████████████████████████████████████████████████████████████████████████████████████████████████████████▍      | 746/780 [2:04:02<07:22, 13.00s/it]"
     ]
    },
    {
     "name": "stdout",
     "output_type": "stream",
     "text": [
      "\n",
      "(\"Birdwatching\", \"is a form of\", \"wildlife observation\")\n",
      "(\"Birdwatching\", \"observation of\", \"birds\")\n",
      "(\"Birdwatching\", \"recreational activity\", \"citizen science\")\n",
      "(\"Birdwatching\", \"can be done\", \"with the naked eye\")\n",
      "(\"Birdwatching\", \"can be done\", \"through visual enhancement device like binoculars and telescopes\")\n",
      "(\"Birdwatching\", \"can be done\", \"by listening for bird sounds\")\n",
      "(\"Birdwatching\", \"can be done\", \"by watching public webcams\")\n",
      "-\n"
     ]
    },
    {
     "name": "stderr",
     "output_type": "stream",
     "text": [
      " 96%|███████████████████████████████████████████████████████████████████████████████████████████████████████████████████████████████████████████████▋      | 747/780 [2:04:10<06:19, 11.51s/it]"
     ]
    },
    {
     "name": "stdout",
     "output_type": "stream",
     "text": [
      "\n",
      "(\"Soldier Field\", \"is located in\", \"Near South Side of Chicago, Illinois\")\n",
      "(\"Soldier Field\", \"opened in\", \"1924\")\n",
      "(\"Soldier Field\", \"is the home field of\", \"Chicago Bears of the National Football League (NFL)\")\n",
      "(\"Chicago Bears of the National Football League (NFL)\", \"moved there in\", \"1971\")\n",
      "(\"Soldier Field\", \"is the home field of\", \"Chicago Fire FC of Major League Soccer (MLS)\")\n",
      "(\"Chicago Fire FC of Major League Soccer (MLS)\", \"will begin playing at the stadium in\", \"2020\")\n",
      "(\"Soldier Field\", \"has a football capacity of\", \"61,500\")\n",
      "(\"Soldier Field\", \"is the oldest stadium in\", \"the NFL\")\n",
      "-\n"
     ]
    },
    {
     "name": "stderr",
     "output_type": "stream",
     "text": [
      " 96%|███████████████████████████████████████████████████████████████████████████████████████████████████████████████████████████████████████████████▊      | 748/780 [2:04:19<05:47, 10.87s/it]"
     ]
    },
    {
     "name": "stdout",
     "output_type": "stream",
     "text": [
      "\n",
      "(\"It\", \"had\", \"a slender snout\")\n",
      "(\"It\", \"had\", \"a bulbous skull roof\")\n",
      "(\"It\", \"had\", \"a long tooth row of twenty-three teeth\")\n",
      "(\"It\", \"had\", \"very large orbits\")\n",
      "(\"It\", \"had\", \"a thick sclerotic ring\")\n",
      "(\"It\", \"had\", \"unusual spoon-shaped sclerotic ossicles\")\n",
      "(\"It\", \"was likely\", \"a diurnal animal\")\n",
      "(\"It\", \"had\", \"outwardly slanted jugal (cheekbone)\")\n",
      "(\"It\", \"did not possess\", \"binocular vision\")\n",
      "(\"It\", \"may have had\", \"a relatively strong bite\")\n",
      "(\"It\", \"may have had\", \"a specialized diet of small invertebrates\")\n",
      "(\"It\", \"had\", \"sharp teeth\")\n",
      "(\"It\", \"had\", \"extensively textured mouth skin\")\n",
      "(\"It\", \"had\", \"tall coronoid process\")\n",
      "(\"It\", \"had\", \"robust, inflexible skull\")\n",
      "-\n"
     ]
    },
    {
     "name": "stderr",
     "output_type": "stream",
     "text": [
      " 96%|████████████████████████████████████████████████████████████████████████████████████████████████████████████████████████████████████████████████      | 749/780 [2:04:25<04:48,  9.31s/it]"
     ]
    },
    {
     "name": "stdout",
     "output_type": "stream",
     "text": [
      "\n",
      "(\"Parchment\", \"is a writing material made from\", \"specially prepared untanned skins of animals\")\n",
      "(\"Parchment\", \"is made from the skins of\", \"sheep, calves, and goats\")\n",
      "(\"Parchment\", \"has been used as a writing medium for\", \"over two millennia\")\n",
      "(\"Vellum\", \"is a finer quality parchment made from the skins of\", \"young animals such as lambs and young calves\")\n",
      "-\n"
     ]
    },
    {
     "name": "stderr",
     "output_type": "stream",
     "text": [
      " 96%|████████████████████████████████████████████████████████████████████████████████████████████████████████████████████████████████████████████████▏     | 750/780 [2:04:33<04:25,  8.84s/it]"
     ]
    },
    {
     "name": "stdout",
     "output_type": "stream",
     "text": [
      "\n",
      "(\"Honey badger\", \"is the only species in\", \"the genus Mellivora\")\n",
      "(\"Honey badger\", \"is in the mustelid subfamily\", \"Mellivorinae\")\n",
      "(\"Honey badger\", \"bears more anatomical similarities to\", \"weasels\")\n",
      "(\"Honey badger\", \"is primarily a\", \"carnivorous species\")\n",
      "(\"Honey badger\", \"has few natural predators because of\", \"its thick skin, strength and ferocious defensive abilities\")\n",
      "(\"Honey badger\", \"is listed as\", \"the 'world's most fearless animal' in the 2002 Edition of the Guinness Book of World Records\")\n",
      "-\n"
     ]
    },
    {
     "name": "stderr",
     "output_type": "stream",
     "text": [
      " 96%|████████████████████████████████████████████████████████████████████████████████████████████████████████████████████████████████████████████████▍     | 751/780 [2:04:44<04:38,  9.59s/it]"
     ]
    },
    {
     "name": "stdout",
     "output_type": "stream",
     "text": [
      "\n",
      "(\"Pangolins\", \"belong to the order\", \"Pholidota\")\n",
      "(\"Pholidota\", \"is derived from\", \"Ancient Greek 'φολῐ́ς'\")\n",
      "(\"Pholidota\", \"has one family\", \"Manidae\")\n",
      "(\"Manidae\", \"has three genera\", \"Manis, Phataginus and Smutsia\")\n",
      "(\"Manis\", \"comprises four species in Asia\", \"\")\n",
      "(\"Phataginus and Smutsia\", \"include two species living in\", \"Sub-Saharan Africa\")\n",
      "(\"Pangolins\", \"range in size from\", \"30 to 100 cm\")\n",
      "(\"Pangolins\", \"have extinct species\", \"\")\n",
      "-\n"
     ]
    },
    {
     "name": "stderr",
     "output_type": "stream",
     "text": [
      " 96%|████████████████████████████████████████████████████████████████████████████████████████████████████████████████████████████████████████████████▌     | 752/780 [2:04:48<03:42,  7.95s/it]"
     ]
    },
    {
     "name": "stdout",
     "output_type": "stream",
     "text": [
      "\n",
      "(\"Most UK trailers\", \"are\", \"45 ft long\")\n",
      "(\"Most UK trailers\", \"have a combined length with a coupled tractor unit\", \"50-55 ft\")\n",
      "(\"Construction and Use Regulations\", \"allow a maximum\", \"rigid length of 60 ft\")\n",
      "(\"Shallow kingpin and fifth wheel set close to tractor unit\", \"can give an overall length of\", \"around 75 ft\")\n",
      "-\n"
     ]
    },
    {
     "name": "stderr",
     "output_type": "stream",
     "text": [
      " 97%|████████████████████████████████████████████████████████████████████████████████████████████████████████████████████████████████████████████████▊     | 753/780 [2:04:55<03:27,  7.70s/it]"
     ]
    },
    {
     "name": "stdout",
     "output_type": "stream",
     "text": [
      "\n",
      "(\"Chance\", \"voiced by\", \"Michael J. Fox\")\n",
      "(\"Chance\", \"is pet of\", \"Jamie Burnford\")\n",
      "(\"Chance\", \"shares his home with\", \"Shadow\")\n",
      "(\"Shadow\", \"voiced by\", \"Don Ameche\")\n",
      "(\"Shadow\", \"owned by\", \"Peter\")\n",
      "(\"Sassy\", \"voiced by\", \"Sally Field\")\n",
      "(\"Sassy\", \"owned by\", \"Hope\")\n",
      "(\"Laura Burnford\", \"married to\", \"Bob Seaver\")\n",
      "(\"Chance\", \"dug into\", \"the wedding cake\")\n",
      "-\n"
     ]
    },
    {
     "name": "stderr",
     "output_type": "stream",
     "text": [
      " 97%|█████████████████████████████████████████████████████████████████████████████████████████████████████████████████████████████████████████████████     | 754/780 [2:05:11<04:21, 10.07s/it]"
     ]
    },
    {
     "name": "stdout",
     "output_type": "stream",
     "text": [
      "\n",
      "(\"Hedgehogs\", \"are traditionally classified as\", \"Insectivora\")\n",
      "(\"Hedgehogs\", \"are omnivorous\", \"\")\n",
      "(\"Hedgehogs\", \"feed on\", \"insects\") \n",
      "(\"Hedgehogs\", \"feed on\", \"snails\")\n",
      "(\"Hedgehogs\", \"feed on\", \"frogs and toads\")\n",
      "(\"Hedgehogs\", \"feed on\", \"snakes\")\n",
      "(\"Hedgehogs\", \"feed on\", \"bird eggs\")\n",
      "(\"Hedgehogs\", \"feed on\", \"carrion\")\n",
      "(\"Hedgehogs\", \"feed on\", \"mushrooms\")\n",
      "(\"Hedgehogs\", \"feed on\", \"grass roots\")\n",
      "(\"Hedgehogs\", \"feed on\", \"berries\")\n",
      "(\"Hedgehogs\", \"feed on\", \"melons\")\n",
      "(\"Hedgehogs\", \"feed on\",\"watermelons\")\n",
      "(\"Afghan hedgehogs\", \"consume a major part of its diet in early spring after hibernation\", \"berries\")\n",
      "-\n"
     ]
    },
    {
     "name": "stderr",
     "output_type": "stream",
     "text": [
      " 97%|█████████████████████████████████████████████████████████████████████████████████████████████████████████████████████████████████████████████████▏    | 755/780 [2:05:31<05:29, 13.17s/it]"
     ]
    },
    {
     "name": "stdout",
     "output_type": "stream",
     "text": [
      "\n",
      "(\"Isopods\", \"are\", \"detritivores\")\n",
      "(\"Isopods\", \"are\", \"browsers\")\n",
      "(\"Isopods\", \"are\", \"carnivores\")\n",
      "(\"Isopods\", \"are\", \"predators\")\n",
      "(\"Isopods\", \"are\", \"scavengers\")\n",
      "(\"Isopods\", \"are\", \"parasites\")\n",
      "(\"Isopods\", \"are\", \"filter feeders\")\n",
      "(\"Only aquatic and marine Isopods\", \"are known to be\", \"parasites\")\n",
      "(\"Only aquatic and marine Isopods\", \"are known to be\", \"filter feeders\")\n",
      "(\"Terrestrial Isopods\", \"in general are\", \"herbivorous\")\n",
      "(\"Woodlice\", \"feed on\", \"moss\")\n",
      "(\"Woodlice\", \"feed on\", \"bark\")\n",
      "(\"Woodlice\", \"feed on\", \"algae\")\n",
      "(\"Woodlice\", \"feed on\", \"fungi\")\n",
      "(\"Woodlice\", \"feed on\", \"decaying material\")\n",
      "(\"Marine Isopods\", \"feed on\", \"wood\")\n",
      "(\"Cellulose\", \"is digested by\", \"enzymes secreted in the caeca\")\n",
      "(\"Limnoria lignorum\", \"bores into\", \"wood\")\n",
      "(\"Limnoria lignorum\", \"additionally feeds on\n",
      "-\n"
     ]
    },
    {
     "name": "stderr",
     "output_type": "stream",
     "text": [
      " 97%|█████████████████████████████████████████████████████████████████████████████████████████████████████████████████████████████████████████████████▍    | 756/780 [2:05:40<04:43, 11.81s/it]"
     ]
    },
    {
     "name": "stdout",
     "output_type": "stream",
     "text": [
      "\n",
      "(\"Damon Albarn\", \"is an\", \"English musician\")\n",
      "(\"Damon Albarn\", \"is a\", \"singer\")\n",
      "(\"Damon Albarn\", \"is a\", \"songwriter\")\n",
      "(\"Damon Albarn\", \"is a\", \"multi-instrumentalist\")\n",
      "(\"Damon Albarn\", \"is a\", \"record producer\")\n",
      "(\"Damon Albarn\", \"is best known as\", \"the lead singer of Blur\")\n",
      "(\"Damon Albarn\", \"is the co-founder of\", \"the virtual band Gorillaz\")\n",
      "(\"Damon Albarn\", \"is the lead vocalist of\", \"the virtual band Gorillaz\")\n",
      "(\"Damon Albarn\", \"is the instrumentalist of\", \"the virtual band Gorillaz\")\n",
      "(\"Damon Albarn\", \"is the songwriter of\", \"the virtual band Gorillaz\")\n",
      "(\"Damon Albarn\", \"was born on\", \"23 March 1968\")\n",
      "-\n"
     ]
    },
    {
     "name": "stderr",
     "output_type": "stream",
     "text": [
      " 97%|█████████████████████████████████████████████████████████████████████████████████████████████████████████████████████████████████████████████████▌    | 757/780 [2:05:44<03:37,  9.45s/it]"
     ]
    },
    {
     "name": "stdout",
     "output_type": "stream",
     "text": [
      "\n",
      "(\"double-barreled shotgun\", \"is\", \"a shotgun with two parallel barrels\")\n",
      "(\"double-barreled shotgun\", \"allows\", \"two shots to be fired in quick succession\")\n",
      "-\n"
     ]
    },
    {
     "name": "stderr",
     "output_type": "stream",
     "text": [
      " 97%|█████████████████████████████████████████████████████████████████████████████████████████████████████████████████████████████████████████████████▊    | 758/780 [2:05:53<03:24,  9.30s/it]"
     ]
    },
    {
     "name": "stdout",
     "output_type": "stream",
     "text": [
      "\n",
      "(\"Storks\", \"are\", \"large, long-legged, long-necked wading birds\")\n",
      "(\"Storks\", \"have\", \"long, stout bills\")\n",
      "(\"Storks\", \"belong to\", \"the family Ciconiidae\")\n",
      "(\"Storks\", \"make up\", \"the order Ciconiiformes\")\n",
      "(\"Ciconiiformes\", \"previously included\", \"a number of other families\")\n",
      "(\"Ciconiiformes\", \"included\", \"herons and ibises\")\n",
      "(\"herons and ibises\", \"have been moved to\", \"other orders\")\n",
      "-\n"
     ]
    },
    {
     "name": "stderr",
     "output_type": "stream",
     "text": [
      " 97%|█████████████████████████████████████████████████████████████████████████████████████████████████████████████████████████████████████████████████▉    | 759/780 [2:06:00<03:04,  8.77s/it]"
     ]
    },
    {
     "name": "stdout",
     "output_type": "stream",
     "text": [
      "\n",
      "(\"Minotaur\", \"is portrayed as\", \"part man and part bull\")\n",
      "(\"Minotaur\", \"dwelt at\", \"the center of the Labyrinth\")\n",
      "(\"Labyrinth\", \"was designed by\", \"the architect Daedalus and his son Icarus\")\n",
      "(\"Labyrinth\", \"was on the command of\", \"King Minos of Crete\")\n",
      "(\"Minotaur\", \"was eventually killed by\", \"the Athenian hero Theseus\")\n",
      "-\n"
     ]
    },
    {
     "name": "stderr",
     "output_type": "stream",
     "text": [
      " 97%|██████████████████████████████████████████████████████████████████████████████████████████████████████████████████████████████████████████████████▏   | 760/780 [2:06:08<02:48,  8.44s/it]"
     ]
    },
    {
     "name": "stdout",
     "output_type": "stream",
     "text": [
      "\n",
      "(\"Hounds\", \"are\", \"hunting dogs\")\n",
      "(\"Hounds\", \"hunt\", \"by following the scent of a game animal\")\n",
      "(\"Hounds\", \"hunt\", \"by following the animal by sight\")\n",
      "(\"Hounds\", \"have many breeds\", \"in the scenthound type\")\n",
      "(\"Scenthounds\", \"may do other work\", \"as well\")\n",
      "(\"Scenthound breeds\", \"can be\", \"controversial\")\n",
      "(\"Kennel clubs\", \"assign breeds of dogs to Groups\", \"which are loosely based on breed types\")\n",
      "(\"Kennel clubs\", \"determine which breeds to place in a given group\", \"\")\n",
      "-\n"
     ]
    },
    {
     "name": "stderr",
     "output_type": "stream",
     "text": [
      " 98%|██████████████████████████████████████████████████████████████████████████████████████████████████████████████████████████████████████████████████▎   | 761/780 [2:06:21<03:07,  9.89s/it]"
     ]
    },
    {
     "name": "stdout",
     "output_type": "stream",
     "text": [
      "\n",
      "(\"Jumping spiders\", \"constitute the family\", \"Salticidae\")\n",
      "(\"Salticidae\", \"contains\", \"over 600 described genera\")\n",
      "(\"Salticidae\", \"contains\", \"over 6000 described species\")\n",
      "(\"Salticidae\", \"is\", \"the largest family of spiders at 13% of all species\")\n",
      "(\"Jumping spiders\", \"have\", \"some of the best vision among arthropods\")\n",
      "(\"Jumping spiders\", \"use their vision for\", \"courtship, hunting, and navigation\")\n",
      "(\"Jumping spiders\", \"can make\", \"agile jumps when hunting or in response to threats\")\n",
      "(\"Jumping spiders\", \"have a\", \"book lung and tracheal system\")\n",
      "(\"Jumping spiders\", \"use\", \"both systems for breathing\")\n",
      "(\"Jumping spiders\", \"are recognized by their\", \"eye pattern\")\n",
      "(\"Jumping spiders\", \"have\", \"four pairs of eyes\")\n",
      "(\"Jumping spiders\", \"have an anterior medial pair of eyes that is\", \"particularly large\")\n",
      "-\n"
     ]
    },
    {
     "name": "stderr",
     "output_type": "stream",
     "text": [
      " 98%|██████████████████████████████████████████████████████████████████████████████████████████████████████████████████████████████████████████████████▌   | 762/780 [2:06:33<03:07, 10.42s/it]"
     ]
    },
    {
     "name": "stdout",
     "output_type": "stream",
     "text": [
      "\n",
      "(\"free-fed feral cats\", \"consume\", \"several small meals in a day\")\n",
      "(\"house cats\", \"consume\", \"several small meals in a day\")\n",
      "(\"cats\", \"select food based on\", \"temperature, smell, and texture\")\n",
      "(\"cats\", \"dislike\", \"chilled foods\")\n",
      "(\"cats\", \"respond most strongly to\", \"moist food rich in amino acids\")\n",
      "(\"cats\", \"reject\", \"novel flavors\")\n",
      "(\"cats\", \"avoids\", \"sweet food and milk\")\n",
      "(\"most adult cats\", \"are lactose intolerant\", \"true\")\n",
      "(\"adult cats\", \"have odd eating habits\", \"true\")\n",
      "(\"cats\", \"like to eat\", \"wool, plastic, cables, paper, string, aluminum foil, or even coal\")\n",
      "(\"odd eating habits\", \"can threaten health\", \"true\")\n",
      "-\n"
     ]
    },
    {
     "name": "stderr",
     "output_type": "stream",
     "text": [
      " 98%|██████████████████████████████████████████████████████████████████████████████████████████████████████████████████████████████████████████████████▋   | 763/780 [2:06:48<03:22, 11.89s/it]"
     ]
    },
    {
     "name": "stdout",
     "output_type": "stream",
     "text": [
      "\n",
      "(\"Frigatebirds\", \"are found\", \"over tropical oceans\")\n",
      "(\"Frigatebirds\", \"ride\", \"warm updrafts under cumulus clouds\")\n",
      "(\"Frigatebirds\", \"coincide with\", \"availability of food such as flying fish\")\n",
      "(\"Frigatebirds\", \"coincide with\", \"the trade winds\")\n",
      "(\"Frigatebirds\", \"are not found\", \"in polar latitudes\")\n",
      "(\"Frigatebirds\", \"are generally\", \"sedentary\")\n",
      "(\"Male Frigatebirds\", \"have been recorded\", \"dispersing great distances\")\n",
      "(\"Great Frigatebird\", \"relocated from\", \"Europa Island in the Mozambique Channel to the Maldives\")\n",
      "(\"Magnificent Frigatebird\", \"flew\", \"1,400 km from French Guiana to Trinidad\")\n",
      "(\"Great Frigatebird\", \"marked with wing tags on\", \"Tern Island in the French Frigate Shoals\")\n",
      "(\"Great Frigatebird\", \"regularly travel\", \"873 km to Johnston Atoll\")\n",
      "(\"Great Frigatebird\", \"was reported in\", \"Quezon City in the Philippines\")\n",
      "(\"Species\", \"have fidelity\", \"to their site of hatching\")\n",
      "(\"Young birds\", \"may disperse\", \"far and wide\")\n",
      "(\"Young birds\", \"have been recorded\", \"traveling up to 6,000 km\")\n",
      "-\n"
     ]
    },
    {
     "name": "stderr",
     "output_type": "stream",
     "text": [
      " 98%|██████████████████████████████████████████████████████████████████████████████████████████████████████████████████████████████████████████████████▉   | 764/780 [2:07:00<03:08, 11.78s/it]"
     ]
    },
    {
     "name": "stdout",
     "output_type": "stream",
     "text": [
      "\n",
      "(\"Sergei Prokoviev\", \"composed\", \"Peter and the Wolf (1936)\")\n",
      "(\"Vincent Persichetti\", \"set\", \"six for narrator and orchestra in Fables (Op.23 1943)\")\n",
      "(\"Richard Maltz\", \"composed\", \"Aesop's Fables (1993)\")\n",
      "(\"Daniel Dorff\", \"composed\", \"3 Fun Fables (1996)\")\n",
      "(\"Scott Watson\", \"composed\", \"Aesop's Fables\")\n",
      "(\"Anthony Plog\", \"set\", \"five for narrator, horn and piano (1989)\")\n",
      "(\"3 Fun Fables\", \"has contrasting instruments interpreting characters\", \"in The Fox and the Crow (trumpet and contrabass), The Dog and Its Reflection (trombone and violin, harp and percussion), The Tortoise and the Hare (contrabassoon and clarinet)\")\n",
      "-\n"
     ]
    },
    {
     "name": "stderr",
     "output_type": "stream",
     "text": [
      " 98%|███████████████████████████████████████████████████████████████████████████████████████████████████████████████████████████████████████████████████   | 765/780 [2:07:07<02:36, 10.44s/it]"
     ]
    },
    {
     "name": "stdout",
     "output_type": "stream",
     "text": [
      "\n",
      "(\"climate of Arctic\", \"characterized by\", \"long, cold winters and short, cool summers\")\n",
      "(\"climate of Arctic\", \"has variability\", \"across the Arctic\")\n",
      "(\"all regions of Arctic\", \"experience extremes of\", \"solar radiation in both summer and winter\")\n",
      "(\"some parts of Arctic\", \"covered by\", \"ice (sea ice, glacial ice, or snow) year-round\")\n",
      "(\"nearly all parts of Arctic\", \"experience long periods with\", \"some form of ice on the surface\")\n",
      "-\n"
     ]
    },
    {
     "name": "stderr",
     "output_type": "stream",
     "text": [
      " 98%|███████████████████████████████████████████████████████████████████████████████████████████████████████████████████████████████████████████████████▎  | 766/780 [2:07:26<03:00, 12.93s/it]"
     ]
    },
    {
     "name": "stdout",
     "output_type": "stream",
     "text": [
      "\n",
      "(\"ice trade\", \"also known as\", \"frozen water trade\")\n",
      "(\"ice trade\", \"centred on\", \"east coast of the United States and Norway\")\n",
      "(\"ice trade\", \"involed\", \"large-scale harvesting, transport and sale of natural ice\")\n",
      "(\"ice trade\", \"involved\", \"making and sale of artificial ice\")\n",
      "(\"ice trade\", \"used for\", \"domestic consumption and commercial purposes\")\n",
      "(\"ice trade\", \"harvested from\", \"surface of ponds and streams\")\n",
      "(\"ice trade\", \"stored in\", \"ice houses\")\n",
      "(\"ice trade\", \"sent on\", \"by ship, barge or railroad to its final destination\")\n",
      "(\"ice trade\", \"distributed to domestic customers by\", \"networks of ice wagons\")\n",
      "(\"ice trade\", \"revolutionised\", \"U.S. meat, vegetable and fruit industries\")\n",
      "(\"ice trade\", \"encouraged growth in\", \"fishing industry\")\n",
      "(\"ice trade\", \"introduced\", \"range of new drinks and foods\")\n",
      "-\n"
     ]
    },
    {
     "name": "stderr",
     "output_type": "stream",
     "text": [
      " 98%|███████████████████████████████████████████████████████████████████████████████████████████████████████████████████████████████████████████████████▌  | 767/780 [2:07:46<03:14, 15.00s/it]"
     ]
    },
    {
     "name": "stdout",
     "output_type": "stream",
     "text": [
      "\n",
      "(\"44 °C\", \"almost certainly result in\", \"death\")\n",
      "(\"46.5 °C\", \"has been known to\", \"survive\")\n",
      "(\"43 °C\", \"normally result in\", \"death\")\n",
      "(\"43 °C\", \"potentially cause\", \"serious brain damage\")\n",
      "(\"43 °C\", \"potentially cause\", \"continuous convulsions\")\n",
      "(\"43 °C\", \"potentially cause\", \"shock\")\n",
      "(\"42 °C\", \"causes\", \"subject to turn pale or remain flushed and red\")\n",
      "(\"42 °C\", \"causes\", \"comatose\")\n",
      "(\"42 °C\", \"causes\", \"severe delirium\")\n",
      "(\"42 °C\", \"causes\", \"vomiting\")\n",
      "(\"42 °C\", \"causes\", \"convulsions\")\n",
      "(\"42 °C\", \"results in\", \"high or low blood pressure\")\n",
      "(\"42 °C\", \"results in\", \"very fast heart rate\")\n",
      "(\"41 °C\", \"causes\", \"fainting\")\n",
      "(\"41 °C\", \"causes\", \"vomiting\")\n",
      "(\"41 °C\", \"causes\", \"severe headache\")\n",
      "(\"41 °C\", \"causes\", \"dizziness\")\n",
      "(\"41 °C\", \"causes\", \"conf\n",
      "-\n"
     ]
    },
    {
     "name": "stderr",
     "output_type": "stream",
     "text": [
      " 98%|███████████████████████████████████████████████████████████████████████████████████████████████████████████████████████████████████████████████████▋  | 768/780 [2:07:54<02:36, 13.01s/it]"
     ]
    },
    {
     "name": "stdout",
     "output_type": "stream",
     "text": [
      "\n",
      "(\"A bull\", \"is\", \"an intact adult male of the species Bos taurus\")\n",
      "(\"A bull\", \"is more\", \"muscular and aggressive than the female of the species, the cow\")\n",
      "(\"A bull\", \"has long been\", \"an important symbol in many cultures\")\n",
      "(\"A bull\", \"plays a significant role in\", \"beef ranching, dairy farming, and a variety of other cultural activities, including bull fighting and bull riding\")\n",
      "-\n"
     ]
    },
    {
     "name": "stderr",
     "output_type": "stream",
     "text": [
      " 99%|███████████████████████████████████████████████████████████████████████████████████████████████████████████████████████████████████████████████████▉  | 769/780 [2:08:10<02:32, 13.83s/it]"
     ]
    },
    {
     "name": "stdout",
     "output_type": "stream",
     "text": [
      "\n",
      "(\"Sun bear\", \"is the most arboreal of\", \"all bears\")\n",
      "(\"Sun bear\", \"is an excellent\", \"climber\")\n",
      "(\"Sun bear\", \"sunbathes or sleeps\", \"in trees 2 to 7 m above ground\")\n",
      "(\"Sun bear\", \"is mainly active during\", \"the day\")\n",
      "(\"Sun bear\", \"might be more common\", \"in areas frequented by humans\")\n",
      "(\"Sun bear\", \"tends to\", \"remain solitary\")\n",
      "(\"Sun bear\", \"occurs in\", \"pairs\")\n",
      "(\"Sun bear\", \"does not seem to\", \"hibernate\")\n",
      "(\"Sun bear\", \"has a broad diet\", \"including ants, bees, beetles, honey, termites and plant material\")\n",
      "(\"Sun bear\", \"eats occasionally\", \"vertebrates such as birds and deer\")\n",
      "(\"Sun bear\", \"breeds throughout\", \"the year\")\n",
      "(\"Sun bear\", \"becomes sexually mature at\", \"two to four years of age\")\n",
      "(\"Sun bear\", \"litter comprises\", \"one or two cubs\")\n",
      "(\"Sun bear\", \"cubs remain with their mother for\", \"around three years\")\n",
      "-\n"
     ]
    },
    {
     "name": "stderr",
     "output_type": "stream",
     "text": [
      " 99%|████████████████████████████████████████████████████████████████████████████████████████████████████████████████████████████████████████████████████  | 770/780 [2:08:25<02:22, 14.30s/it]"
     ]
    },
    {
     "name": "stdout",
     "output_type": "stream",
     "text": [
      "\n",
      "(\"Species\", \"is caught along the coasts of\", \"Crete, Greece, Sicily, Italy, France, Turkey, Northern Iran, Portugal and Spain\") \n",
      "(\"Species\", \"is also found on the coast of\", \"Northern Africa\") \n",
      "(\"Species\", \"has a range\", \"along the Atlantic coast of Europe to the south of Norway\") \n",
      "(\"Species\", \"spawns between\", \"October and March\") \n",
      "(\"Species\", \"does not spawn in water colder than\", \"12 °C (54 °F)\") \n",
      "(\"Species\", \"spawns at least\", \"100 km (62 mi) from the shore\")\n",
      "(\"Species\", \"spawns near the surface of the water\", \"yes\")\n",
      "-\n"
     ]
    },
    {
     "name": "stderr",
     "output_type": "stream",
     "text": [
      " 99%|████████████████████████████████████████████████████████████████████████████████████████████████████████████████████████████████████████████████████▎ | 771/780 [2:08:33<01:49, 12.20s/it]"
     ]
    },
    {
     "name": "stdout",
     "output_type": "stream",
     "text": [
      "\n",
      "(\"Freezer temperature\", \"should be maintained\", \"below 0 °F (−18 °C)\")\n",
      "(\"Food\", \"should never be\", \"thawed at room temperature\")\n",
      "(\"Thawing food\", \"increases the risk of\", \"bacterial and fungal growth\")\n",
      "(\"Thawing food\", \"increases the risk of\", \"food poisoning\")\n",
      "(\"Thawed food\", \"should be used\", \"never refrozen\")\n",
      "(\"Frozen food\", \"should be thawed using\", \"the following methods\")\n",
      "-\n"
     ]
    },
    {
     "name": "stderr",
     "output_type": "stream",
     "text": [
      " 99%|████████████████████████████████████████████████████████████████████████████████████████████████████████████████████████████████████████████████████▍ | 772/780 [2:08:35<01:13,  9.23s/it]"
     ]
    },
    {
     "name": "stdout",
     "output_type": "stream",
     "text": [
      "\n",
      "(\"A dozen\", \"is\", \"grouping of twelve\")\n",
      "(\"A dozen\", \"abbreviated as\", \"doz\")\n",
      "(\"A dozen\", \"abbreviated as\", \"dz\")\n",
      "-\n"
     ]
    },
    {
     "name": "stderr",
     "output_type": "stream",
     "text": [
      " 99%|████████████████████████████████████████████████████████████████████████████████████████████████████████████████████████████████████████████████████▋ | 773/780 [2:08:44<01:04,  9.16s/it]"
     ]
    },
    {
     "name": "stdout",
     "output_type": "stream",
     "text": [
      "\n",
      "(\"The Philadelphia Eagles\", \"are a\", \"professional American football team\")\n",
      "(\"The Philadelphia Eagles\", \"compete in\", \"National Football League\")\n",
      "(\"National Football League\", \"is a member club of\", \"the league's National Football Conference East division\")\n",
      "(\"The Philadelphia Eagles\", \"won\", \"Super Bowl LII in 2017\")\n",
      "(\"The Philadelphia Eagles\", \"won\", \"their first Super Bowl\")\n",
      "(\"The Philadelphia Eagles\", \"won\", \"their fourth NFL title overall\")\n",
      "(\"The Philadelphia Eagles\", \"previously won\", \"the Championship Game in 1948, 1949, and 1960\")\n",
      "-\n"
     ]
    },
    {
     "name": "stderr",
     "output_type": "stream",
     "text": [
      " 99%|████████████████████████████████████████████████████████████████████████████████████████████████████████████████████████████████████████████████████▊ | 774/780 [2:08:59<01:06, 11.06s/it]"
     ]
    },
    {
     "name": "stdout",
     "output_type": "stream",
     "text": [
      "\n",
      "(\"black-tailed jackrabbit\", \"is also known as\", \"American desert hare\")\n",
      "(\"black-tailed jackrabbit\", \"is a common hare of\", \"the western United States and Mexico\")\n",
      "(\"black-tailed jackrabbit\", \"is found at elevations from\", \"sea level up to 10,000 ft\")\n",
      "(\"black-tailed jackrabbit\", \"is one of the largest North American hares\", \"reaching a length around 2 ft\")\n",
      "(\"black-tailed jackrabbit\", \"occupies\", \"mixed shrub-grassland terrains\")\n",
      "(\"black-tailed jackrabbit's breeding\", \"peaks in spring\", \"but may continue all year round in warm climates\")\n",
      "(\"young black-tailed jackrabbits\", \"are born fully furred with eyes open\", \"and mobile within minutes of birth\")\n",
      "(\"females\", \"do not protect or stay with young except during nursing\", \"for black-tailed jackrabbits\")\n",
      "(\"average litter size\", \"is around four\", \"but may be as low as two and as high as seven in warm regions\")\n",
      "-\n"
     ]
    },
    {
     "name": "stderr",
     "output_type": "stream",
     "text": [
      " 99%|█████████████████████████████████████████████████████████████████████████████████████████████████████████████████████████████████████████████████████ | 775/780 [2:09:10<00:55, 11.10s/it]"
     ]
    },
    {
     "name": "stdout",
     "output_type": "stream",
     "text": [
      "\n",
      "(\"New York County\", \"has a total area of\", \"33.6 square miles (87 km2)\")\n",
      "(\"New York County\", \"has land area of\", \"22.8 square miles (59 km2)\")\n",
      "(\"New York County\", \"has water area of\", \"10.8 square miles (28 km2)\")\n",
      "(\"New York County\", \"has water area percentage of\", \"32%\")\n",
      "(\"Upper Manhattan\", \"represents a geographic\", \"panhandle\")\n",
      "(\"Manhattan Island\", \"is in area\", \"22.7 square miles (59 km2)\")\n",
      "(\"Manhattan Island\", \"is long\", \"13.4 miles (21.6 km)\")\n",
      "(\"Manhattan Island\", \"is wide\", \"2.3 miles (3.7 km)\")\n",
      "(\"Manhattan Island\", \"is widest at\", \"14th Street\")\n",
      "(\"Manhattan Island\", \"is often compared in size to\", \"icebergs\")\n",
      "-\n"
     ]
    },
    {
     "name": "stderr",
     "output_type": "stream",
     "text": [
      " 99%|█████████████████████████████████████████████████████████████████████████████████████████████████████████████████████████████████████████████████████▏| 776/780 [2:09:19<00:41, 10.28s/it]"
     ]
    },
    {
     "name": "stdout",
     "output_type": "stream",
     "text": [
      "\n",
      "(\"Zoology\", \"became professional in\", \"the 18th, 19th, and 20th centuries\")\n",
      "(\"Alexander von Humboldt\", \"investigated\", \"the interaction between organisms and their environment\")\n",
      "(\"Alexander von Humboldt\", \"laid the foundations for\", \"biogeography, ecology and ethology\")\n",
      "(\"Naturalists\", \"began to consider\", \"the importance of extinction and the mutability of species\")\n",
      "(\"Cell theory\", \"provided a new perspective on\", \"the fundamental basis of life\")\n",
      "-\n"
     ]
    },
    {
     "name": "stderr",
     "output_type": "stream",
     "text": [
      "100%|█████████████████████████████████████████████████████████████████████████████████████████████████████████████████████████████████████████████████████▍| 777/780 [2:09:25<00:27,  9.06s/it]"
     ]
    },
    {
     "name": "stdout",
     "output_type": "stream",
     "text": [
      "\n",
      "(\"Greyhound\", \"is a gentle and intelligent breed\", \"with combination of long, powerful legs, deep chest, flexible spine and slim build\")\n",
      "(\"Greyhound\", \"allows it to reach\", \"average race speeds exceeding 64 kilometres per hour\")\n",
      "(\"Greyhound\", \"can reach a full speed of\", \"70 kilometres per hour\")\n",
      "(\"Greyhound\", \"can reach full speed within\", \"30 metres\")\n",
      "(\"Greyhound\", \"travels at\", \"20 metres per second\")\n",
      "(\"Greyhound\", \"travels for the first\", \"250 metres of a race\")\n",
      "-\n"
     ]
    },
    {
     "name": "stderr",
     "output_type": "stream",
     "text": [
      "100%|█████████████████████████████████████████████████████████████████████████████████████████████████████████████████████████████████████████████████████▌| 778/780 [2:09:44<00:24, 12.05s/it]"
     ]
    },
    {
     "name": "stdout",
     "output_type": "stream",
     "text": [
      "\n",
      "(\"Mating\", \"occurs\", \"belly to belly\")\n",
      "(\"Dolphins\", \"have been observed\", \"engaging in intercourse\")\n",
      "(\"Dolphins\", \"mating\", \"for pleasure\")\n",
      "(\"Gestation period\", \"averages\", \"12 months\")\n",
      "(\"Births\", \"can occur at\", \"any time of year\")\n",
      "(\"Peak births\", \"occur in\", \"warmer months\")\n",
      "(\"Young\", \"are born in\", \"shallow water\")\n",
      "(\"Young\", \"are sometimes assisted by\", \"a 'midwife'\")\n",
      "(\"Usually\", \"only one\", \"calf is born\")\n",
      "(\"Twins\", \"are possible but rare\", \"\")\n",
      "(\"Newborn Bottlenose Dolphins\", \"are 0.8 to 1.4 m long and weigh 9 to 30 kg\", \"\")\n",
      "(\"Indo-Pacific Bottlenose Dolphin infants\", \"are generally smaller than\", \"Common Bottlenose Dolphin infants\")\n",
      "(\"Mother\", \"can eject milk from her mammary glands to accelerate nursing\", \"\")\n",
      "(\"Calf\", \"suckles for 18 months to up to 8 years\", \"\")\n",
      "(\"Calf\", \"continues to associate with mother for years\", \"after weaning\")\n",
      "(\"Females\", \"sexually mature at ages\", \"5–13\")\n",
      "(\"Males\", \"sexually mature at ages\", \"9–14\")\n",
      "(\"\n",
      "-\n"
     ]
    },
    {
     "name": "stderr",
     "output_type": "stream",
     "text": [
      "100%|█████████████████████████████████████████████████████████████████████████████████████████████████████████████████████████████████████████████████████▊| 779/780 [2:09:58<00:12, 12.68s/it]"
     ]
    },
    {
     "name": "stdout",
     "output_type": "stream",
     "text": [
      "\n",
      "(\"Water\", \"is an inorganic\", \"transparent, tasteless, odorless, and nearly colorless chemical substance\")\n",
      "(\"Water\", \"is the main constituent of\", \"Earth's hydrosphere\")\n",
      "(\"Water\", \"is vital for\", \"all known forms of life\")\n",
      "(\"Water\", \"provides no\", \"calories or organic nutrients\")\n",
      "(\"Water\", \"has a chemical formula\", \"H2O\")\n",
      "(\"H2O\", \"means that each molecule contains\", \"one oxygen and two hydrogen atoms\")\n",
      "(\"H2O\", \"is connected by\", \"covalent bonds\")\n",
      "(\"Water\", \"is the name of the liquid state of\", \"H2O at standard ambient temperature and pressure\")\n",
      "(\"Water\", \"forms precipitation in the form of\", \"rain and aerosols\")\n",
      "(\"Water\", \"forms clouds from\", \"suspended droplets of water and ice\")\n",
      "(\"Water's solid state\", \"may precipitate in the form of\", \"snow\")\n",
      "(\"Water\", \"has a gaseous state of\", \"steam or water vapor\")\n",
      "(\"Water\", \"moves through the water cycle of\", \"evaporation, transpiration, condensation, precipitation, and runoff\")\n",
      "(\"Water\", \"usually reaches\", \"the sea\")\n",
      "-\n"
     ]
    },
    {
     "name": "stderr",
     "output_type": "stream",
     "text": [
      "100%|██████████████████████████████████████████████████████████████████████████████████████████████████████████████████████████████████████████████████████| 780/780 [2:10:03<00:00, 10.00s/it]"
     ]
    },
    {
     "name": "stdout",
     "output_type": "stream",
     "text": [
      "\n",
      "(\"Garlic\", \"is a species of\", \"the onion genus, Allium\")\n",
      "(\"Garlic\", \"is native to\", \"Central Asia and northeastern Iran\")\n",
      "(\"Garlic\", \"has a history of\", \"several thousand years of human consumption and use\")\n",
      "(\"Garlic\", \"has been used as\", \"a food flavoring\")\n",
      "(\"Garlic\", \"has been used as\", \"a traditional medicine\")\n",
      "(\"China\", \"produces\", \"80% of the world's supply of garlic\")\n",
      "-\n"
     ]
    },
    {
     "name": "stderr",
     "output_type": "stream",
     "text": [
      "\n"
     ]
    }
   ],
   "source": [
    "import json\n",
    "from tqdm import tqdm\n",
    "\n",
    "paragraphs_dict = []\n",
    "\n",
    "for p in tqdm(paragraph_contents):\n",
    "    local_dict = {}\n",
    "    prompt = get_prompt(p)\n",
    "    response = get_response(prompt)\n",
    "    local_dict[\"paragraph\"] = p\n",
    "    local_dict[\"response\"] = response\n",
    "    paragraphs_dict.append(local_dict)\n",
    "    \n",
    "    with open('data.json', 'w') as json_file:\n",
    "        json.dump(paragraphs_dict, json_file)\n",
    "\n",
    "    print(response[\"choices\"][0][\"text\"])\n",
    "    print(\"-\")\n"
   ]
  },
  {
   "cell_type": "code",
   "execution_count": null,
   "id": "469124b1-4e39-4ce6-acb5-2a97f5d91c80",
   "metadata": {},
   "outputs": [],
   "source": []
  }
 ],
 "metadata": {
  "kernelspec": {
   "display_name": "llama",
   "language": "python",
   "name": "llama"
  },
  "language_info": {
   "codemirror_mode": {
    "name": "ipython",
    "version": 3
   },
   "file_extension": ".py",
   "mimetype": "text/x-python",
   "name": "python",
   "nbconvert_exporter": "python",
   "pygments_lexer": "ipython3",
   "version": "3.10.10"
  }
 },
 "nbformat": 4,
 "nbformat_minor": 5
}
