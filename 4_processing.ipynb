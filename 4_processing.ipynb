{
 "cells": [
  {
   "cell_type": "markdown",
   "id": "cd1ef92d-3bc3-451f-ac76-67cf99ffe545",
   "metadata": {},
   "source": [
    "## Upload Triples to Qdrant Vector DB"
   ]
  },
  {
   "cell_type": "code",
   "execution_count": 89,
   "id": "0651c947-0ec7-4d94-a9b1-128d4f4f33ab",
   "metadata": {},
   "outputs": [],
   "source": [
    "# data preprocessing \n",
    "import json\n",
    "\n",
    "with open('data.json', 'r') as f:\n",
    "    contents = json.load(f)"
   ]
  },
  {
   "cell_type": "code",
   "execution_count": 90,
   "id": "2e9cb21c-773a-446f-bc33-6ac106d851b7",
   "metadata": {},
   "outputs": [],
   "source": [
    "with open('strategyqa-data/strategyqa_dataset/strategyqa_train_paragraphs.json', 'r') as f:\n",
    "    paragraph_content = json.load(f)"
   ]
  },
  {
   "cell_type": "code",
   "execution_count": 91,
   "id": "e52abd36-de9e-476a-afa8-676b4e750964",
   "metadata": {},
   "outputs": [],
   "source": [
    "count = 0\n",
    "def get_paragraph_citation(paragraph):\n",
    "    for p in paragraph_content:\n",
    "        if(paragraph_content[p]['content'] == paragraph):\n",
    "            return p\n",
    "    count += 1 "
   ]
  },
  {
   "cell_type": "code",
   "execution_count": 92,
   "id": "68e5f9e6-1254-4a01-bbde-38b2dddfc907",
   "metadata": {},
   "outputs": [],
   "source": [
    "count = 0\n",
    "# get all paragraph citations\n",
    "for content in contents:\n",
    "    contents[count]['paragraph-citation'] = get_paragraph_citation(content['paragraph'])\n",
    "    count += 1"
   ]
  },
  {
   "cell_type": "code",
   "execution_count": 114,
   "id": "1231fea5-8430-4a75-9fd1-b879076f365c",
   "metadata": {},
   "outputs": [],
   "source": [
    "# Structure:\n",
    "# triple_point: _\n",
    "# type: subject1, predicate, subject2\n",
    "# triple: (_, _, _) this is the part of the triple it's referring to\n",
    "# paragraph: reference to paragraph\n",
    "subject_payloads = []\n",
    "predicate_payloads = []\n",
    "values = []\n",
    "for c in contents:\n",
    "    # triples for a given paragraph\n",
    "    triples = c['response']['choices'][0]['text'].strip().split(\"\\n\")\n",
    "    for triple in triples:\n",
    "        trip_split = [val[1:-1] for val in triple.strip()[1:-1].split(\", \")]\n",
    "        if len(trip_split) == 3:\n",
    "            # subject 1\n",
    "            payload = {}\n",
    "            payload[\"triple_point\"] = trip_split[0]\n",
    "            payload[\"type\"] = \"subject1\"\n",
    "            payload[\"predicate\"] = trip_split[1]\n",
    "            payload[\"triple\"] = triple.strip()\n",
    "            payload[\"paragraph_citation\"] = c['paragraph-citation']\n",
    "            subject_payloads.append(payload)\n",
    "            # predicate\n",
    "            payload = {}\n",
    "            payload[\"triple_point\"] = trip_split[1]\n",
    "            payload[\"type\"] = \"predicate\"\n",
    "            payload[\"triple\"] = triple.strip()\n",
    "            payload[\"paragraph_citation\"] = c['paragraph-citation']\n",
    "            predicate_payloads.append(payload)\n",
    "            # subject 2\n",
    "            payload = {}\n",
    "            payload[\"triple_point\"] = trip_split[2]\n",
    "            payload[\"type\"] = \"subject2\"\n",
    "            payload[\"predicate\"] = trip_split[1]\n",
    "            payload[\"triple\"] = triple.strip()\n",
    "            payload[\"paragraph_citation\"] = c['paragraph-citation']\n",
    "            subject_payloads.append(payload)"
   ]
  },
  {
   "cell_type": "markdown",
   "id": "ff2b0256-a7f1-4879-84fd-e4c7b3ab8786",
   "metadata": {},
   "source": [
    "## Upload Subjects"
   ]
  },
  {
   "cell_type": "code",
   "execution_count": 94,
   "id": "79194dab-ac55-45d3-8225-27517c9ba6bd",
   "metadata": {},
   "outputs": [
    {
     "data": {
      "application/vnd.jupyter.widget-view+json": {
       "model_id": "4bce6c58272c4718b4277d4ae5732bd0",
       "version_major": 2,
       "version_minor": 0
      },
      "text/plain": [
       "Batches:   0%|          | 0/378 [00:00<?, ?it/s]"
      ]
     },
     "metadata": {},
     "output_type": "display_data"
    }
   ],
   "source": [
    "from sentence_transformers import SentenceTransformer\n",
    "\n",
    "model = SentenceTransformer('all-MiniLM-L6-v2')\n",
    "subjects = [subject[\"triple_point\"] for subject in subject_payloads]\n",
    "\n",
    "corpus_embeddings = model.encode(subjects, show_progress_bar=True)"
   ]
  },
  {
   "cell_type": "code",
   "execution_count": 95,
   "id": "a8f6c187-57ab-4454-b99d-b2fa866e2374",
   "metadata": {},
   "outputs": [
    {
     "data": {
      "text/plain": [
       "(12082, 384)"
      ]
     },
     "execution_count": 95,
     "metadata": {},
     "output_type": "execute_result"
    }
   ],
   "source": [
    "model.get_sentence_embedding_dimension()\n",
    "corpus_embeddings.shape"
   ]
  },
  {
   "cell_type": "code",
   "execution_count": null,
   "id": "fd42f07a-a9ff-4d1c-99bd-a89c9505f232",
   "metadata": {},
   "outputs": [],
   "source": [
    "from qdrant_client import QdrantClient\n",
    "from qdrant_client.models import VectorParams, Distance\n",
    "from qdrant_client.http import models\n",
    "\n",
    "qdrant_client = QdrantClient('http://localhost:6333')"
   ]
  },
  {
   "cell_type": "code",
   "execution_count": 97,
   "id": "4b9e5ea3-72f7-4225-ad52-1c2a02ad9340",
   "metadata": {},
   "outputs": [
    {
     "data": {
      "text/plain": [
       "True"
      ]
     },
     "execution_count": 97,
     "metadata": {},
     "output_type": "execute_result"
    }
   ],
   "source": [
    "qdrant_client.recreate_collection(\n",
    "    collection_name='subjects', \n",
    "    vectors_config=VectorParams(size=384, distance=Distance.COSINE),\n",
    "    optimizers_config=models.OptimizersConfigDiff(\n",
    "        indexing_threshold=0,\n",
    "    ),\n",
    ")"
   ]
  },
  {
   "cell_type": "code",
   "execution_count": 85,
   "id": "f013f98b-eb18-49b0-9d99-50d8e943f3fc",
   "metadata": {},
   "outputs": [
    {
     "name": "stdout",
     "output_type": "stream",
     "text": [
      "There are roughly 12082 subjects\n"
     ]
    }
   ],
   "source": [
    "print(\"There are roughly {} subjects\".format(len(subjects)))"
   ]
  },
  {
   "cell_type": "code",
   "execution_count": 138,
   "id": "36506ec8-cd2d-40ef-9657-1e977ae7405b",
   "metadata": {},
   "outputs": [
    {
     "name": "stderr",
     "output_type": "stream",
     "text": [
      "100%|█████████████████████████████████████████| 120/120 [00:45<00:00,  2.65it/s]\n"
     ]
    }
   ],
   "source": [
    "from tqdm import tqdm\n",
    "for b in tqdm(split_into_buckets(len(subjects), 100)):\n",
    "    qdrant_client.upsert(\n",
    "        collection_name=\"subjects\",\n",
    "        points=models.Batch(\n",
    "            ids=[i for i in range(1, len(subjects)+1)][b[0]:b[1]],\n",
    "            payloads= subject_payloads[b[0]:b[1]],\n",
    "            vectors=corpus_embeddings.tolist()[b[0]:b[1]]\n",
    "        ),\n",
    "    )"
   ]
  },
  {
   "cell_type": "code",
   "execution_count": 139,
   "id": "2180f4b5-a109-4d48-b6a4-bb07bc51b17b",
   "metadata": {},
   "outputs": [],
   "source": [
    "search_text = \"calf\"\n",
    "encoded_search = model.encode(search_text)"
   ]
  },
  {
   "cell_type": "code",
   "execution_count": 140,
   "id": "37ac7d6b-fc2c-4f2c-806e-8efa99833d90",
   "metadata": {},
   "outputs": [],
   "source": [
    "search_result = qdrant_client.search(\n",
    "            collection_name=\"subjects\",\n",
    "            query_vector=encoded_search.tolist(),\n",
    "            query_filter=None,  # If you don't want any filters for now\n",
    "            limit=5  # 5 the most closest results is enough\n",
    "        )"
   ]
  },
  {
   "cell_type": "code",
   "execution_count": 141,
   "id": "db499dd9-70f8-43cd-95e9-8660db1fd0e1",
   "metadata": {},
   "outputs": [
    {
     "data": {
      "text/plain": [
       "[ScoredPoint(id=12043, version=121, score=1.0, payload={'paragraph_citation': 'Bottlenose dolphin-42', 'predicate': 'continues to associate with mother for years', 'triple': '(\"Calf\", \"continues to associate with mother for years\", \"after weaning\")', 'triple_point': 'Calf', 'type': 'subject1'}, vector=None),\n",
       " ScoredPoint(id=12041, version=121, score=1.0, payload={'paragraph_citation': 'Bottlenose dolphin-42', 'predicate': 'suckles for 18 months to up to 8 years', 'triple': '(\"Calf\", \"suckles for 18 months to up to 8 years\", \"\")', 'triple_point': 'Calf', 'type': 'subject1'}, vector=None),\n",
       " ScoredPoint(id=1787, version=19, score=0.8944175, payload={'paragraph_citation': 'Gray whale-21', 'predicate': 'are born', 'triple': '(\"calves\", \"are born\", \"tail first\")', 'triple_point': 'calves', 'type': 'subject1'}, vector=None),\n",
       " ScoredPoint(id=1789, version=19, score=0.8944175, payload={'paragraph_citation': 'Gray whale-21', 'predicate': 'measure', 'triple': '(\"calves\", \"measure\", \"approx. 4m (13ft) in length\")', 'triple_point': 'calves', 'type': 'subject1'}, vector=None),\n",
       " ScoredPoint(id=1793, version=19, score=0.8944175, payload={'paragraph_citation': 'Gray whale-21', 'predicate': 'are weaned', 'triple': '(\"calves\", \"are weaned\", \"after 7 months of lactation\")', 'triple_point': 'calves', 'type': 'subject1'}, vector=None)]"
      ]
     },
     "execution_count": 141,
     "metadata": {},
     "output_type": "execute_result"
    }
   ],
   "source": [
    "search_result"
   ]
  },
  {
   "cell_type": "markdown",
   "id": "92ce29e0-df75-436e-978e-7def70454ced",
   "metadata": {},
   "source": [
    "## Upload Predicates"
   ]
  },
  {
   "cell_type": "code",
   "execution_count": 152,
   "id": "94de2d88-9843-458d-a01d-09b36c7b825b",
   "metadata": {},
   "outputs": [
    {
     "data": {
      "application/vnd.jupyter.widget-view+json": {
       "model_id": "533eb2f7c240454bba0b289d08fbbc06",
       "version_major": 2,
       "version_minor": 0
      },
      "text/plain": [
       "Batches:   0%|          | 0/189 [00:00<?, ?it/s]"
      ]
     },
     "metadata": {},
     "output_type": "display_data"
    }
   ],
   "source": [
    "predicates = [predicate[\"triple_point\"] for predicate in predicates_payloads]\n",
    "corpus_embeddings = model.encode(predicates, show_progress_bar=True)"
   ]
  },
  {
   "cell_type": "code",
   "execution_count": 153,
   "id": "d936f30f-621e-4dcb-9f07-05f29248c87e",
   "metadata": {},
   "outputs": [
    {
     "data": {
      "text/plain": [
       "True"
      ]
     },
     "execution_count": 153,
     "metadata": {},
     "output_type": "execute_result"
    }
   ],
   "source": [
    "qdrant_client.recreate_collection(\n",
    "    collection_name='predicates', \n",
    "    vectors_config=VectorParams(size=384, distance=Distance.COSINE),\n",
    "    optimizers_config=models.OptimizersConfigDiff(\n",
    "        indexing_threshold=0,\n",
    "    ),\n",
    ")"
   ]
  },
  {
   "cell_type": "code",
   "execution_count": 154,
   "id": "56c0f48e-c7e2-4075-acec-dccedddd5da8",
   "metadata": {},
   "outputs": [
    {
     "name": "stderr",
     "output_type": "stream",
     "text": [
      "100%|███████████████████████████████████████████| 60/60 [00:19<00:00,  3.13it/s]\n"
     ]
    }
   ],
   "source": [
    "from tqdm import tqdm\n",
    "for b in tqdm(split_into_buckets(len(predicates), 100)):\n",
    "    qdrant_client.upsert(\n",
    "        collection_name=\"predicates\",\n",
    "        points=models.Batch(\n",
    "            ids=[i for i in range(1, len(predicates)+1)][b[0]:b[1]],\n",
    "            payloads= predicate_payloads[b[0]:b[1]],\n",
    "            vectors=corpus_embeddings.tolist()[b[0]:b[1]]\n",
    "        ),\n",
    "    )"
   ]
  },
  {
   "cell_type": "code",
   "execution_count": 155,
   "id": "bafffef6-2a11-4193-82c3-9cd6df557cd1",
   "metadata": {},
   "outputs": [],
   "source": [
    "search_text = \"are born\"\n",
    "encoded_search = model.encode(search_text)"
   ]
  },
  {
   "cell_type": "code",
   "execution_count": 156,
   "id": "d8c2407b-0cb5-49c2-a01b-1789be857df4",
   "metadata": {},
   "outputs": [
    {
     "data": {
      "text/plain": [
       "[ScoredPoint(id=894, version=8, score=1.0, payload={'paragraph_citation': 'Gray whale-21', 'triple': '(\"calves\", \"are born\", \"tail first\")', 'triple_point': 'are born', 'type': 'predicate'}, vector=None),\n",
       " ScoredPoint(id=6014, version=59, score=0.8463466, payload={'paragraph_citation': 'Bottlenose dolphin-42', 'triple': '(\"Young\", \"are born in\", \"shallow water\")', 'triple_point': 'are born in', 'type': 'predicate'}, vector=None),\n",
       " ScoredPoint(id=26, version=0, score=0.8117071, payload={'paragraph_citation': 'American black bear-29', 'triple': '(\"cubs at birth\", \"are born with\", \"fine,', 'triple_point': 'are born with', 'type': 'predicate'}, vector=None),\n",
       " ScoredPoint(id=2209, version=22, score=0.7932999, payload={'paragraph_citation': 'Koala-23', 'triple': '(\"Young koalas\", \"are born at the\", \"embryonic stage\")', 'triple_point': 'are born at the', 'type': 'predicate'}, vector=None),\n",
       " ScoredPoint(id=3399, version=33, score=0.7883748, payload={'paragraph_citation': 'Marsupial-26', 'triple': '(\"Joey\", \"is born in\", \"an essentially fetal state\")', 'triple_point': 'is born in', 'type': 'predicate'}, vector=None)]"
      ]
     },
     "execution_count": 156,
     "metadata": {},
     "output_type": "execute_result"
    }
   ],
   "source": [
    "search_result = qdrant_client.search(\n",
    "            collection_name=\"predicates\",\n",
    "            query_vector=encoded_search.tolist(),\n",
    "            query_filter=None,  # If you don't want any filters for now\n",
    "            limit=5  # 5 the most closest results is enough\n",
    "        )\n",
    "search_result"
   ]
  },
  {
   "cell_type": "code",
   "execution_count": 134,
   "id": "f6128c37-e0cb-45b9-af10-bd5e7d2bacfd",
   "metadata": {},
   "outputs": [],
   "source": [
    "# x is the numb of elements\n",
    "# q is the size of each bucket\n",
    "def split_into_buckets(x, q):\n",
    "    q = int(x/q)\n",
    "    bucket_size = x // q\n",
    "    bucket_boundaries = [bucket_size * i for i in range(q)]\n",
    "    bucket_boundaries.append(x)\n",
    "    return [(bucket_boundaries[i], bucket_boundaries[i+1]) for i in range(q)]"
   ]
  },
  {
   "cell_type": "markdown",
   "id": "6ed5b099-92da-4d65-b533-e5d9bd941e10",
   "metadata": {},
   "source": [
    "## How Many Triples Are Invalid"
   ]
  },
  {
   "cell_type": "code",
   "execution_count": 37,
   "id": "d53e02b7-1790-4559-8239-36f7f849adf4",
   "metadata": {},
   "outputs": [
    {
     "data": {
      "image/png": "[encoded data removed]",
      "text/plain": [
       "<Figure size 432x288 with 1 Axes>"
      ]
     },
     "metadata": {
      "needs_background": "light"
     },
     "output_type": "display_data"
    }
   ],
   "source": [
    "import matplotlib.pyplot as plt\n",
    "plt.hist(values)\n",
    "plt.show() "
   ]
  }
 ],
 "metadata": {
  "kernelspec": {
   "display_name": "llama",
   "language": "python",
   "name": "llama"
  },
  "language_info": {
   "codemirror_mode": {
    "name": "ipython",
    "version": 3
   },
   "file_extension": ".py",
   "mimetype": "text/x-python",
   "name": "python",
   "nbconvert_exporter": "python",
   "pygments_lexer": "ipython3",
   "version": "3.10.10"
  }
 },
 "nbformat": 4,
 "nbformat_minor": 5
}
